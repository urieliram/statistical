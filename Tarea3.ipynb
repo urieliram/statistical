{
  "nbformat": 4,
  "nbformat_minor": 0,
  "metadata": {
    "colab": {
      "name": "Tarea3.ipynb",
      "provenance": [],
      "collapsed_sections": [],
      "authorship_tag": "ABX9TyOIGMXp7kmqVYAzwNJbshaU",
      "include_colab_link": true
    },
    "kernelspec": {
      "name": "python3",
      "display_name": "Python 3"
    },
    "language_info": {
      "name": "python"
    }
  },
  "cells": [
    {
      "cell_type": "markdown",
      "metadata": {
        "id": "view-in-github",
        "colab_type": "text"
      },
      "source": [
        "<a href=\"https://colab.research.google.com/github/urieliram/statistical/blob/main/Tarea3.ipynb\" target=\"_parent\"><img src=\"https://colab.research.google.com/assets/colab-badge.svg\" alt=\"Open In Colab\"/></a>"
      ]
    },
    {
      "cell_type": "markdown",
      "source": [
        "# Tarea 3\n",
        "*Repeat the steps of the prostate cancer example in Section 3.2.1 using Python, first as a uni-variate problem using the book's data set and then as a multi-variate problem with data from your own project. Calculate also the p-values and the confidence intervals for the model's coefficients for the uni-variate version. Experiment, using libraries, also with subset selection.*\n",
        "\n",
        "Los datos utilizados en este cuaderno están disponibles aquí: [datasets](https://drive.google.com/drive/folders/159GnBJQDxTY9oYqPBZzdNghyb4Gd9pDS?usp=sharing) \n"
      ],
      "metadata": {
        "id": "mSp-SqxZkCFc"
      }
    },
    {
      "cell_type": "code",
      "source": [
        "import numpy as np\n",
        "import pandas as pd\n",
        "%matplotlib inline\n",
        "from sklearn.linear_model import LinearRegression\n",
        "from sklearn.metrics import mean_absolute_error\n",
        "from sklearn.metrics import mean_squared_error\n",
        "import matplotlib.pyplot as plt\n",
        "from sklearn.metrics import r2_score\n",
        "import scipy.stats\n",
        "import statsmodels.api as sm\n",
        "import seaborn as sn"
      ],
      "metadata": {
        "id": "3ghzTDgI8c3z"
      },
      "execution_count": 22,
      "outputs": []
    },
    {
      "cell_type": "markdown",
      "source": [
        "## Regresión líneal en cáncer de próstata\n",
        "A continuación usaremos un modelo de regresión líneal para resolver el problema de próstata del libro [liga](https://link.springer.com/book/10.1007/978-0-387-84858-7)."
      ],
      "metadata": {
        "id": "eqqBrWsXfSz-"
      }
    },
    {
      "cell_type": "markdown",
      "source": [
        "Iniciamos cargando los datos de entrenamiento y almacenamos en $X$ y $Y$:"
      ],
      "metadata": {
        "id": "TQNC-rPq2rX0"
      }
    },
    {
      "cell_type": "code",
      "source": [
        " df = pd.read_csv('prostata.csv') #https://github.com/maitbayev/the-elements-of-statistical-learning/blob/master/data/prostate/prostate.info"
      ],
      "metadata": {
        "id": "BZ4G-AyGZCFj"
      },
      "execution_count": 23,
      "outputs": []
    },
    {
      "cell_type": "code",
      "source": [
        "## Procesamos datos de entrenamiento \n",
        "df1 = df.loc[df.iloc[:,10].isin(['T'])] ## T = training set\n",
        "df2 = df1['lpsa']\n",
        "df1 = df1[['lcavol','lweight','age','lbph','svi','lcp','gleason','pgg45']]"
      ],
      "metadata": {
        "id": "KkgmRwj9DGuy"
      },
      "execution_count": 24,
      "outputs": []
    },
    {
      "cell_type": "markdown",
      "source": [
        "Para estandarizar:\n",
        "https://www.listendata.com/2017/04/how-to-standardize-variable-in-regression.html"
      ],
      "metadata": {
        "id": "AiEUK7S3XkUr"
      }
    },
    {
      "cell_type": "code",
      "source": [
        "df1.std(numeric_only=True) \n",
        "df1.mean(numeric_only=True)\n",
        "df1 = df1-df1.mean(numeric_only=True)\n",
        "df1=df1/df1.std(numeric_only=True) \n",
        "print(df1)\n",
        "X  = df1.to_numpy() ## Predictors\n",
        "Y  = df2.to_numpy() ## Outcome"
      ],
      "metadata": {
        "colab": {
          "base_uri": "https://localhost:8080/"
        },
        "id": "9ZRIhrIaaUJ8",
        "outputId": "12474414-a637-43b0-9c60-8a56c00766e5"
      },
      "execution_count": 25,
      "outputs": [
        {
          "output_type": "stream",
          "name": "stdout",
          "text": [
            "      lcavol   lweight       age  ...       lcp   gleason     pgg45\n",
            "0  -1.523680 -1.797414 -1.965590  ... -0.836769 -1.031712 -0.896487\n",
            "1  -1.857204 -0.643057 -0.899238  ... -0.836769 -1.031712 -0.896487\n",
            "2  -1.468157 -1.961526  1.233468  ... -0.836769  0.378996 -0.213934\n",
            "3  -2.025981 -0.720349 -0.899238  ... -0.836769 -1.031712 -0.896487\n",
            "4  -0.452342 -0.406493 -0.366061  ... -0.836769 -1.031712 -0.896487\n",
            "..       ...       ...       ...  ...       ...       ...       ...\n",
            "90  1.555621  0.998130  0.433703  ... -0.836769 -1.031712 -0.896487\n",
            "91  0.981346  0.107969 -0.499355  ... -0.836769  0.378996 -0.384573\n",
            "92  1.220657  0.525153  0.433703  ...  1.096538  0.378996  1.151171\n",
            "93  2.017972  0.568193 -2.765355  ...  1.701433  0.378996  0.468618\n",
            "95  1.262743  0.310118  0.433703  ...  1.265298  0.378996  1.833724\n",
            "\n",
            "[67 rows x 8 columns]\n"
          ]
        }
      ]
    },
    {
      "cell_type": "markdown",
      "source": [
        "Ahora, cargamos los datos de prueba en los arreglos $Xt$ y $Yt$:"
      ],
      "metadata": {
        "id": "e5rFHCBCv0uP"
      }
    },
    {
      "cell_type": "code",
      "source": [
        "## Procesamos datos de prueba \n",
        "dft = df.loc[df.iloc[:,10].isin(['F'])] ## F = test set\n",
        "dft2 = dft['lpsa']\n",
        "dft1 = dft[['lcavol','lweight','age','lbph','svi','lcp','gleason','pgg45']]\n",
        "Xt  = dft1.to_numpy() ## Predictors\n",
        "Yt  = dft2.to_numpy() ## Outcome"
      ],
      "metadata": {
        "id": "s234YPXO3A4l"
      },
      "execution_count": 26,
      "outputs": []
    },
    {
      "cell_type": "markdown",
      "source": [
        "La matriz de correlación de los predictores"
      ],
      "metadata": {
        "id": "4zMJbYx4687P"
      }
    },
    {
      "cell_type": "markdown",
      "source": [
        "A continuación, obtenemos un modelo de predicción de los datos de entrenamiento usando regresión lineal. Posteriomente, calculamos los errores entre la predicción `y_pred` y los datos de entrenamiento $Y$. Los errores de la predicción con datos de entrenamiento son representados por un histograma."
      ],
      "metadata": {
        "id": "EjYtoCrn5UIv"
      }
    },
    {
      "cell_type": "code",
      "source": [
        "df1 = sm.add_constant(X)\n",
        "results = sm.OLS(endog = df2, exog = df1, hasconst = True).fit()\n",
        "\n",
        "# Se ordenan los coeficientes por p-value\n",
        "p_values = results.pvalues.sort_values(ascending = False)\n",
        "print(results.pvalues)\n",
        "print(results.params)\n",
        "print(results.tvalues)\n",
        "print(results.summary())\n",
        "#if ('const' in p_values.index):\n",
        "    # Se obtiene la constante\n",
        "#    const = results.params.const\n",
        "    # Se elimina la constante\n",
        "#    p_values.drop('const', inplace = True)\n",
        "\n",
        "    # [ ] Excepción de que todos sean mayores (se elimina todo)\n",
        "    # [x]: Aumentar valor p a 0.1\n",
        "    # [ ]: Usar todas :P\n",
        "alpha = 0.05"
      ],
      "metadata": {
        "colab": {
          "base_uri": "https://localhost:8080/"
        },
        "id": "zfQK18QwOQdz",
        "outputId": "4298b581-bfbf-4c9e-d80a-f6c12d53557f"
      },
      "execution_count": 32,
      "outputs": [
        {
          "output_type": "stream",
          "name": "stdout",
          "text": [
            "const    1.537669e-35\n",
            "x1       1.469415e-06\n",
            "x2       7.917895e-03\n",
            "x3       1.680626e-01\n",
            "x4       4.430784e-02\n",
            "x5       1.650539e-02\n",
            "x6       6.697085e-02\n",
            "x7       8.838923e-01\n",
            "x8       8.754628e-02\n",
            "dtype: float64\n",
            "const    2.452345\n",
            "x1       0.716407\n",
            "x2       0.292642\n",
            "x3      -0.142550\n",
            "x4       0.212008\n",
            "x5       0.309620\n",
            "x6      -0.289006\n",
            "x7      -0.020914\n",
            "x8       0.277346\n",
            "dtype: float64\n",
            "const    28.181527\n",
            "x1        5.366290\n",
            "x2        2.750789\n",
            "x3       -1.395909\n",
            "x4        2.055846\n",
            "x5        2.469255\n",
            "x6       -1.866913\n",
            "x7       -0.146681\n",
            "x8        1.737840\n",
            "dtype: float64\n",
            "                            OLS Regression Results                            \n",
            "==============================================================================\n",
            "Dep. Variable:                   lpsa   R-squared:                       0.694\n",
            "Model:                            OLS   Adj. R-squared:                  0.652\n",
            "Method:                 Least Squares   F-statistic:                     16.47\n",
            "Date:                Sat, 22 Jan 2022   Prob (F-statistic):           2.04e-12\n",
            "Time:                        13:50:30   Log-Likelihood:                -67.505\n",
            "No. Observations:                  67   AIC:                             153.0\n",
            "Df Residuals:                      58   BIC:                             172.9\n",
            "Df Model:                           8                                         \n",
            "Covariance Type:            nonrobust                                         \n",
            "==============================================================================\n",
            "                 coef    std err          t      P>|t|      [0.025      0.975]\n",
            "------------------------------------------------------------------------------\n",
            "const          2.4523      0.087     28.182      0.000       2.278       2.627\n",
            "x1             0.7164      0.134      5.366      0.000       0.449       0.984\n",
            "x2             0.2926      0.106      2.751      0.008       0.080       0.506\n",
            "x3            -0.1425      0.102     -1.396      0.168      -0.347       0.062\n",
            "x4             0.2120      0.103      2.056      0.044       0.006       0.418\n",
            "x5             0.3096      0.125      2.469      0.017       0.059       0.561\n",
            "x6            -0.2890      0.155     -1.867      0.067      -0.599       0.021\n",
            "x7            -0.0209      0.143     -0.147      0.884      -0.306       0.264\n",
            "x8             0.2773      0.160      1.738      0.088      -0.042       0.597\n",
            "==============================================================================\n",
            "Omnibus:                        0.825   Durbin-Watson:                   1.690\n",
            "Prob(Omnibus):                  0.662   Jarque-Bera (JB):                0.389\n",
            "Skew:                          -0.164   Prob(JB):                        0.823\n",
            "Kurtosis:                       3.178   Cond. No.                         4.44\n",
            "==============================================================================\n",
            "\n",
            "Warnings:\n",
            "[1] Standard Errors assume that the covariance matrix of the errors is correctly specified.\n"
          ]
        }
      ]
    },
    {
      "cell_type": "code",
      "source": [
        "error = Y - y_pred\n",
        "df = pd.DataFrame(error,Y) #df.to_csv('error.csv')\n",
        "err_regress = mean_absolute_error(Y,y_pred)"
      ],
      "metadata": {
        "id": "sjO0ZO11timQ",
        "colab": {
          "base_uri": "https://localhost:8080/",
          "height": 200
        },
        "outputId": "5eb7882d-b810-46a6-9d20-b3d09c88a561"
      },
      "execution_count": 28,
      "outputs": [
        {
          "output_type": "error",
          "ename": "NameError",
          "evalue": "ignored",
          "traceback": [
            "\u001b[0;31m---------------------------------------------------------------------------\u001b[0m",
            "\u001b[0;31mNameError\u001b[0m                                 Traceback (most recent call last)",
            "\u001b[0;32m<ipython-input-28-c5a05a72f84c>\u001b[0m in \u001b[0;36m<module>\u001b[0;34m()\u001b[0m\n\u001b[0;32m----> 1\u001b[0;31m \u001b[0merror\u001b[0m \u001b[0;34m=\u001b[0m \u001b[0mY\u001b[0m \u001b[0;34m-\u001b[0m \u001b[0my_pred\u001b[0m\u001b[0;34m\u001b[0m\u001b[0;34m\u001b[0m\u001b[0m\n\u001b[0m\u001b[1;32m      2\u001b[0m \u001b[0mdf\u001b[0m \u001b[0;34m=\u001b[0m \u001b[0mpd\u001b[0m\u001b[0;34m.\u001b[0m\u001b[0mDataFrame\u001b[0m\u001b[0;34m(\u001b[0m\u001b[0merror\u001b[0m\u001b[0;34m,\u001b[0m\u001b[0mY\u001b[0m\u001b[0;34m)\u001b[0m \u001b[0;31m#df.to_csv('error.csv')\u001b[0m\u001b[0;34m\u001b[0m\u001b[0;34m\u001b[0m\u001b[0m\n\u001b[1;32m      3\u001b[0m \u001b[0merr_regress\u001b[0m \u001b[0;34m=\u001b[0m \u001b[0mmean_absolute_error\u001b[0m\u001b[0;34m(\u001b[0m\u001b[0mY\u001b[0m\u001b[0;34m,\u001b[0m\u001b[0my_pred\u001b[0m\u001b[0;34m)\u001b[0m\u001b[0;34m\u001b[0m\u001b[0;34m\u001b[0m\u001b[0m\n",
            "\u001b[0;31mNameError\u001b[0m: name 'y_pred' is not defined"
          ]
        }
      ]
    },
    {
      "cell_type": "code",
      "source": [
        "def dibuja_hist(df,colour,name,Xlabel,Ylabel,title):\n",
        "    plt.figure()\n",
        "    df.hist(column=0, bins=25, grid=False, figsize=(6,3), color=colour, zorder=2, rwidth=0.9)\n",
        "    plt.xticks(rotation=90)\n",
        "    plt.xlabel(Xlabel)\n",
        "    plt.ylabel(Ylabel)\n",
        "    #https://stackoverflow.com/questions/9662995/matplotlib-change-title-and-colorbar-text-and-tick-colors/42020486\n",
        "    mytitle = plt.title(title) # get the title property handler   #plt.getp(title_obj)  \n",
        "    plt.setp(mytitle, color='#ff8000')                            # set the color of title\n",
        "    myax = plt.axes()   # get the axis property handler           # plt.getp(myax) print its propieties\n",
        "    myax.xaxis.label.set_color('#ff8000')\n",
        "    myax.yaxis.label.set_color('#ff8000')\n",
        "    myax.tick_params(colors='#ff8000', which='both')              # myax.spines['bottom'].set_color('yellow')\n",
        "    plt.savefig(name, transparent=True)\n",
        "    plt.show() # o plt.save_en_algún_formato()"
      ],
      "metadata": {
        "id": "KAYlAFp2ELGZ"
      },
      "execution_count": null,
      "outputs": []
    },
    {
      "cell_type": "code",
      "source": [
        "dibuja_hist(df,colour='#17cb49',name='hist0.png',Xlabel=\"Error\",Ylabel=\"Frecuencia\",title=\"Errores de predicción en cáncer de próstata (entrenamiento)\")\n",
        "#df.hist(column=0, bins=25, grid=False, figsize=(6,3), color='#17cb49', zorder=2, rwidth=0.9)"
      ],
      "metadata": {
        "id": "CBL2jAXL7dxk"
      },
      "execution_count": null,
      "outputs": []
    },
    {
      "cell_type": "markdown",
      "source": [
        "Ahora, utilizamos el modelo obtenido con los datos de entrenamiento para predecir los datos de prueba. Además,  calculamos los errores entre la predicción `y_pred2` y los datos de prueba $Yt$. Los errores de la predicción con datos de prueba son representados por un histograma."
      ],
      "metadata": {
        "id": "JNdlFV9m7gJ_"
      }
    },
    {
      "cell_type": "code",
      "source": [
        "y_pred2 = model.predict(Xt)\n",
        "error2 = Yt - y_pred2\n",
        "df = pd.DataFrame(error2,Yt) #df.to_csv('error2.csv')\n",
        "err_regress_t = mean_absolute_error(Yt,y_pred2)"
      ],
      "metadata": {
        "id": "m6Wilj2JPWLJ"
      },
      "execution_count": null,
      "outputs": []
    },
    {
      "cell_type": "code",
      "source": [
        "dibuja_hist(df,colour='#17cb49',name='hist0.png',Xlabel=\"Error\",Ylabel=\"Frecuencia\",title=\"Errores de predicción en cáncer de próstata (prueba)\")\n",
        "#df.hist(column=0, bins=25, grid=False, figsize=(6,3), color='#17cb49', zorder=2, rwidth=0.9)"
      ],
      "metadata": {
        "id": "VXisJogBi-ah"
      },
      "execution_count": null,
      "outputs": []
    },
    {
      "cell_type": "markdown",
      "source": [
        "Por último calculamos el **error absoluto medio (MAE)** de los datos de entrenamiento así como de los datos de prueba."
      ],
      "metadata": {
        "id": "oleooDmv8QLp"
      }
    },
    {
      "cell_type": "code",
      "source": [
        "print(\"MAE del modelo de regresión con datos de entrenamiento:\", err_regress)\n",
        "print(\"MAE del modelo de regresión con datos de prueba:\", err_regress_t) "
      ],
      "metadata": {
        "id": "cu-N1H_czv4v"
      },
      "execution_count": null,
      "outputs": []
    },
    {
      "cell_type": "markdown",
      "source": [
        "https://www.cienciadedatos.net/documentos/31_seleccion_de_predictores_subset_selection_ridge_lasso_dimension_reduction#Introducci%C3%B3n\n",
        "\n",
        "https://gist.github.com/jseabold/5509329"
      ],
      "metadata": {
        "id": "WLdJPNtyEswa"
      }
    },
    {
      "cell_type": "code",
      "source": [
        "#https://towardsdatascience.com/a-comparison-of-shrinkage-and-selection-methods-for-linear-regression-ee4dd3a71f16"
      ],
      "metadata": {
        "id": "Ncxn8EgWj2Mz"
      },
      "execution_count": null,
      "outputs": []
    }
  ]
}
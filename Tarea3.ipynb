{
  "nbformat": 4,
  "nbformat_minor": 0,
  "metadata": {
    "colab": {
      "name": "Tarea3.ipynb",
      "provenance": [],
      "collapsed_sections": [],
      "authorship_tag": "ABX9TyOKvWEpsGPGZk53YEWY2E7E",
      "include_colab_link": true
    },
    "kernelspec": {
      "name": "python3",
      "display_name": "Python 3"
    },
    "language_info": {
      "name": "python"
    }
  },
  "cells": [
    {
      "cell_type": "markdown",
      "metadata": {
        "id": "view-in-github",
        "colab_type": "text"
      },
      "source": [
        "<a href=\"https://colab.research.google.com/github/urieliram/statistical/blob/main/Tarea3.ipynb\" target=\"_parent\"><img src=\"https://colab.research.google.com/assets/colab-badge.svg\" alt=\"Open In Colab\"/></a>"
      ]
    },
    {
      "cell_type": "markdown",
      "source": [
        "# Tarea 3\n",
        "*Repeat the steps of the prostate cancer example in Section 3.2.1 using Python, first as a uni-variate problem using the book's data set and then as a multi-variate problem with data from your own project. Calculate also the p-values and the confidence intervals for the model's coefficients for the uni-variate version. Experiment, using libraries, also with subset selection.*\n",
        "\n",
        "Los datos utilizados en este cuaderno están disponibles aquí: [datasets](https://drive.google.com/drive/folders/159GnBJQDxTY9oYqPBZzdNghyb4Gd9pDS?usp=sharing) \n"
      ],
      "metadata": {
        "id": "mSp-SqxZkCFc"
      }
    },
    {
      "cell_type": "code",
      "source": [
        "import numpy as np\n",
        "import pandas as pd\n",
        "import itertools\n",
        "import warnings\n",
        "%matplotlib inline\n",
        "import matplotlib.pyplot as plt\n",
        "from sklearn.linear_model import LinearRegression, RidgeCV, LassoCV, ElasticNetCV, LarsCV\n",
        "from sklearn.metrics import mean_absolute_error, mean_squared_error\n",
        "from sklearn.cross_decomposition import PLSRegression\n",
        "from sklearn.decomposition import PCA\n",
        "from sklearn.pipeline import Pipeline\n",
        "from sklearn.metrics import r2_score\n",
        "from sklearn.model_selection import GridSearchCV\n",
        "import scipy.stats\n",
        "import statsmodels.api as sm\n",
        "import seaborn as sn\n",
        "warnings.filterwarnings(\"ignore\")"
      ],
      "metadata": {
        "id": "3ghzTDgI8c3z"
      },
      "execution_count": 276,
      "outputs": []
    },
    {
      "cell_type": "markdown",
      "source": [
        "## Regresión líneal en cáncer de próstata\n",
        "A continuación repetiremos el ejercicio 3.2.1 del [libro](https://link.springer.com/book/10.1007/978-0-387-84858-7) en el que se aplica un modelo de regresión líneal para predecir cáncer de próstata."
      ],
      "metadata": {
        "id": "eqqBrWsXfSz-"
      }
    },
    {
      "cell_type": "markdown",
      "source": [
        "Iniciamos cargando los datos de entrenamiento y almacenamos en  y `y_train`:"
      ],
      "metadata": {
        "id": "TQNC-rPq2rX0"
      }
    },
    {
      "cell_type": "code",
      "source": [
        " df = pd.read_csv('prostata.csv')"
      ],
      "metadata": {
        "id": "BZ4G-AyGZCFj"
      },
      "execution_count": 277,
      "outputs": []
    },
    {
      "cell_type": "code",
      "source": [
        "## Procesamos datos de entrenamiento \n",
        "df1 = df.loc[df.iloc[:,10].isin(['T'])] ## 'T' = training set\n",
        "df2 = df1['lpsa']  ## \n",
        "df1 = df1[['lcavol','lweight','age','lbph','svi','lcp','gleason','pgg45']] ## Regresores"
      ],
      "metadata": {
        "id": "KkgmRwj9DGuy"
      },
      "execution_count": 278,
      "outputs": []
    },
    {
      "cell_type": "markdown",
      "source": [
        "Estandarizamos los datos de los regresores `X_train` restando la media y dividiendo entre la varianza."
      ],
      "metadata": {
        "id": "AiEUK7S3XkUr"
      }
    },
    {
      "cell_type": "code",
      "source": [
        "df1.std(numeric_only = True) \n",
        "df1.mean(numeric_only = True)\n",
        "df1 = df1 - df1.mean(numeric_only = True)\n",
        "df1 = df1 / df1.std(numeric_only = True) \n",
        "X_train = df1.to_numpy()   ## Predictors\n",
        "y_train = df2.to_numpy()   ## Outcome"
      ],
      "metadata": {
        "id": "9ZRIhrIaaUJ8"
      },
      "execution_count": 279,
      "outputs": []
    },
    {
      "cell_type": "markdown",
      "source": [
        "Ahora, cargamos los datos de prueba en los arreglos `X_train` y `y_train`:"
      ],
      "metadata": {
        "id": "e5rFHCBCv0uP"
      }
    },
    {
      "cell_type": "code",
      "source": [
        "## Procesamos datos de prueba \n",
        "dft = df.loc[df.iloc[:,10].isin(['F'])] ## 'F' = test set\n",
        "dft2 = dft['lpsa']\n",
        "dft1 = dft[['lcavol','lweight','age','lbph','svi','lcp','gleason','pgg45']] ## Regresores\n",
        "X_test = dft1.to_numpy()   ## Predictors\n",
        "X_test = sm.add_constant(X_test)\n",
        "y_test = dft2.to_numpy()   ## Outcome"
      ],
      "metadata": {
        "id": "s234YPXO3A4l"
      },
      "execution_count": 280,
      "outputs": []
    },
    {
      "cell_type": "markdown",
      "source": [
        "A continuación, obtenemos un modelo de predicción de los datos de entrenamiento usando regresión lineal."
      ],
      "metadata": {
        "id": "EjYtoCrn5UIv"
      }
    },
    {
      "cell_type": "code",
      "source": [
        "X_train = sm.add_constant(X_train)\n",
        "model   = sm.OLS(y_train, X_train)\n",
        "results = model.fit()\n",
        "print(results.summary())"
      ],
      "metadata": {
        "colab": {
          "base_uri": "https://localhost:8080/"
        },
        "id": "M0b5ZeTaK6K5",
        "outputId": "0f014dba-561e-429d-a2ce-a827a57fb43a"
      },
      "execution_count": 281,
      "outputs": [
        {
          "output_type": "stream",
          "name": "stdout",
          "text": [
            "                            OLS Regression Results                            \n",
            "==============================================================================\n",
            "Dep. Variable:                      y   R-squared:                       0.694\n",
            "Model:                            OLS   Adj. R-squared:                  0.652\n",
            "Method:                 Least Squares   F-statistic:                     16.47\n",
            "Date:                Mon, 24 Jan 2022   Prob (F-statistic):           2.04e-12\n",
            "Time:                        18:44:28   Log-Likelihood:                -67.505\n",
            "No. Observations:                  67   AIC:                             153.0\n",
            "Df Residuals:                      58   BIC:                             172.9\n",
            "Df Model:                           8                                         \n",
            "Covariance Type:            nonrobust                                         \n",
            "==============================================================================\n",
            "                 coef    std err          t      P>|t|      [0.025      0.975]\n",
            "------------------------------------------------------------------------------\n",
            "const          2.4523      0.087     28.182      0.000       2.278       2.627\n",
            "x1             0.7164      0.134      5.366      0.000       0.449       0.984\n",
            "x2             0.2926      0.106      2.751      0.008       0.080       0.506\n",
            "x3            -0.1425      0.102     -1.396      0.168      -0.347       0.062\n",
            "x4             0.2120      0.103      2.056      0.044       0.006       0.418\n",
            "x5             0.3096      0.125      2.469      0.017       0.059       0.561\n",
            "x6            -0.2890      0.155     -1.867      0.067      -0.599       0.021\n",
            "x7            -0.0209      0.143     -0.147      0.884      -0.306       0.264\n",
            "x8             0.2773      0.160      1.738      0.088      -0.042       0.597\n",
            "==============================================================================\n",
            "Omnibus:                        0.825   Durbin-Watson:                   1.690\n",
            "Prob(Omnibus):                  0.662   Jarque-Bera (JB):                0.389\n",
            "Skew:                          -0.164   Prob(JB):                        0.823\n",
            "Kurtosis:                       3.178   Cond. No.                         4.44\n",
            "==============================================================================\n",
            "\n",
            "Warnings:\n",
            "[1] Standard Errors assume that the covariance matrix of the errors is correctly specified.\n"
          ]
        }
      ]
    },
    {
      "cell_type": "code",
      "source": [
        "#Ahora obtenemos el mismo resultado con la libreria sklearn\n",
        "linreg_model = LinearRegression(normalize=True).fit(X_train[:, :], y_train)\n",
        "linreg_prediction = linreg_model.predict(X_test[:, :])\n",
        "linreg_mae = np.mean(np.abs(y_test - linreg_prediction))\n",
        "print(linreg_mae)"
      ],
      "metadata": {
        "colab": {
          "base_uri": "https://localhost:8080/"
        },
        "id": "MnQ2vV3JZsiM",
        "outputId": "50821421-aeec-4d55-fd69-2d664c02a0df"
      },
      "execution_count": 282,
      "outputs": [
        {
          "output_type": "stream",
          "name": "stdout",
          "text": [
            "5.811399351840157\n"
          ]
        }
      ]
    },
    {
      "cell_type": "markdown",
      "source": [
        "Ahora, calculamos los errores entre la predicción `y_pred` y los datos de entrenamiento `y_train`. Los errores son representados por un histograma."
      ],
      "metadata": {
        "id": "yKgJJKk5Mc3Q"
      }
    },
    {
      "cell_type": "code",
      "source": [
        "#función que calcula la predicción Y[] de un X[] usando los parametros o coeficientes de regresión beta[]\n",
        "def pronostica(params,X): #params:parámetros de regresión; X:datos de regresores \n",
        "    y = []\n",
        "    i = 0\n",
        "    for rows in X:\n",
        "        y.append(np.matmul(params,X[i]))\n",
        "        i = i + 1\n",
        "    return(y)"
      ],
      "metadata": {
        "id": "xqJe3d3HhhVL"
      },
      "execution_count": 283,
      "outputs": []
    },
    {
      "cell_type": "code",
      "source": [
        "y_pred = pronostica(results.params,X_train)\n",
        "error = y_train - y_pred\n",
        "df = pd.DataFrame(error,y_train) #df.to_csv('error.csv')\n",
        "err_regress = mean_absolute_error(y_train,y_pred)"
      ],
      "metadata": {
        "id": "sjO0ZO11timQ"
      },
      "execution_count": 284,
      "outputs": []
    },
    {
      "cell_type": "code",
      "source": [
        "def dibuja_hist(df,colour,name,Xlabel,Ylabel,title):\n",
        "    plt.figure()\n",
        "    df.hist(column=0, bins=25, grid=False, figsize=(6,3), color=colour, zorder=2, rwidth=0.9)\n",
        "    plt.xticks(rotation=90)\n",
        "    plt.xlabel(Xlabel)\n",
        "    plt.ylabel(Ylabel)\n",
        "    #https://stackoverflow.com/questions/9662995/matplotlib-change-title-and-colorbar-text-and-tick-colors/42020486\n",
        "    mytitle = plt.title(title) # get the title property handler   #plt.getp(title_obj)  \n",
        "    plt.setp(mytitle, color='#ff8000')                            # set the color of title\n",
        "    myax = plt.axes()   # get the axis property handler           # plt.getp(myax) print its propieties\n",
        "    myax.xaxis.label.set_color('#ff8000')\n",
        "    myax.yaxis.label.set_color('#ff8000')\n",
        "    myax.tick_params(colors='#ff8000', which='both')              # myax.spines['bottom'].set_color('yellow')\n",
        "    plt.savefig(name, transparent=True)\n",
        "    plt.show() # o plt.save_en_algún_formato()"
      ],
      "metadata": {
        "id": "KAYlAFp2ELGZ"
      },
      "execution_count": 285,
      "outputs": []
    },
    {
      "cell_type": "code",
      "source": [
        "dibuja_hist(df,colour='#17cb49',name='hist0.png',Xlabel=\"Error\",Ylabel=\"Frecuencia\",title=\"Errores de predicción en cáncer de próstata (entrenamiento)\")"
      ],
      "metadata": {
        "colab": {
          "base_uri": "https://localhost:8080/",
          "height": 272
        },
        "outputId": "863b5119-b8fc-4983-91a7-fb19c58e52fb",
        "id": "CBL2jAXL7dxk"
      },
      "execution_count": 286,
      "outputs": [
        {
          "output_type": "display_data",
          "data": {
            "text/plain": [
              "<Figure size 432x288 with 0 Axes>"
            ]
          },
          "metadata": {}
        },
        {
          "output_type": "display_data",
          "data": {
            "image/png": "[encoded data removed]",
            "text/plain": [
              "<Figure size 432x216 with 1 Axes>"
            ]
          },
          "metadata": {
            "needs_background": "dark"
          }
        }
      ]
    },
    {
      "cell_type": "markdown",
      "source": [
        "Ahora, utilizamos el modelo obtenido con los datos de entrenamiento para predecir los datos de prueba. Además,  calculamos los errores entre la predicción `y_pred2` y los datos de prueba $Yt$. Los errores de la predicción con datos de prueba son representados por un histograma."
      ],
      "metadata": {
        "id": "JNdlFV9m7gJ_"
      }
    },
    {
      "cell_type": "code",
      "source": [
        "y_pred2 = pronostica(results.params,X_test)\n",
        "error2 = y_test - y_pred2\n",
        "df = pd.DataFrame(error2,y_test)\n",
        "err_regress_t = mean_absolute_error(y_test,y_pred2) ## MAE= = np.mean(np.abs(y_test - y_pred2))"
      ],
      "metadata": {
        "id": "m6Wilj2JPWLJ"
      },
      "execution_count": 287,
      "outputs": []
    },
    {
      "cell_type": "code",
      "source": [
        "dibuja_hist(df,colour='#17cb49',name='hist0.png',Xlabel=\"Error\",Ylabel=\"Frecuencia\",title=\"Errores de predicción en cáncer de próstata (prueba)\")\n",
        "#df.hist(column=0, bins=25, grid=False, figsize=(6,3), color='#17cb49', zorder=2, rwidth=0.9)"
      ],
      "metadata": {
        "id": "VXisJogBi-ah",
        "colab": {
          "base_uri": "https://localhost:8080/",
          "height": 269
        },
        "outputId": "ecd93b52-cc69-43bf-d073-5aa1bcc645d7"
      },
      "execution_count": 288,
      "outputs": [
        {
          "output_type": "display_data",
          "data": {
            "text/plain": [
              "<Figure size 432x288 with 0 Axes>"
            ]
          },
          "metadata": {}
        },
        {
          "output_type": "display_data",
          "data": {
            "image/png": "[encoded data removed]",
            "text/plain": [
              "<Figure size 432x216 with 1 Axes>"
            ]
          },
          "metadata": {
            "needs_background": "dark"
          }
        }
      ]
    },
    {
      "cell_type": "markdown",
      "source": [
        "Ahora, calculamos el **error absoluto medio (MAE)** de los datos de entrenamiento así como de los datos de prueba en la predicción de cancer de próstata."
      ],
      "metadata": {
        "id": "oleooDmv8QLp"
      }
    },
    {
      "cell_type": "code",
      "source": [
        "print(\"MAE del modelo de regresión con datos de entrenamiento:\", err_regress)\n",
        "print(\"MAE del modelo de regresión con datos de prueba:\", err_regress_t) "
      ],
      "metadata": {
        "id": "cu-N1H_czv4v",
        "colab": {
          "base_uri": "https://localhost:8080/"
        },
        "outputId": "ef1b0bc9-e305-4d00-db00-f17f86971b8b"
      },
      "execution_count": 289,
      "outputs": [
        {
          "output_type": "stream",
          "name": "stdout",
          "text": [
            "MAE del modelo de regresión con datos de entrenamiento: 0.49861362344949917\n",
            "MAE del modelo de regresión con datos de prueba: 5.811399351840163\n"
          ]
        }
      ]
    },
    {
      "cell_type": "markdown",
      "source": [
        "Finalmente calculamos los intervalos de confianza de los coeficientes del modelo de regresión así como los p-values:"
      ],
      "metadata": {
        "id": "N5zUx1thenQV"
      }
    },
    {
      "cell_type": "code",
      "source": [
        "print(results.conf_int(alpha=0.05, cols=None))\n",
        "print(results.pvalues)"
      ],
      "metadata": {
        "colab": {
          "base_uri": "https://localhost:8080/"
        },
        "id": "M2C6_VJgdzhH",
        "outputId": "1d6bb7b6-542b-4bc6-e7ce-fa8ac9f64646"
      },
      "execution_count": 290,
      "outputs": [
        {
          "output_type": "stream",
          "name": "stdout",
          "text": [
            "[[ 2.27815644  2.62653373]\n",
            " [ 0.44917503  0.983639  ]\n",
            " [ 0.07968993  0.50559488]\n",
            " [-0.34696416  0.0618649 ]\n",
            " [ 0.00558193  0.41843328]\n",
            " [ 0.05862448  0.56061459]\n",
            " [-0.59887957  0.02086833]\n",
            " [-0.30631449  0.26448745]\n",
            " [-0.04211288  0.59680478]]\n",
            "[1.53766865e-35 1.46941496e-06 7.91789491e-03 1.68062590e-01\n",
            " 4.43078420e-02 1.65053869e-02 6.69708471e-02 8.83892314e-01\n",
            " 8.75462787e-02]\n"
          ]
        }
      ]
    },
    {
      "cell_type": "markdown",
      "source": [
        "## Regression del mejor subconjunto a la predicción de cáncer de próstata\n",
        "Aplicaremos la técnica de regression del mejor subconjunto **(Best Subset Regression)** a los datos de entrenamiento de cáncer de próstata.\n",
        "Otras técnicas de reducción de dimensión y compactación de modelos de regresión puede encontrarse en: [A Comparison of Shrinkage and Selection Methods for Linear Regression](https://towardsdatascience.com/a-comparison-of-shrinkage-and-selection-methods-for-linear-regression-ee4dd3a71f16). La aplicación de este método sugiere utilizar las variables (features) [] para lograr un mínimo error entre todas las combinaciones de las variables."
      ],
      "metadata": {
        "id": "WLdJPNtyEswa"
      }
    },
    {
      "cell_type": "code",
      "source": [
        "## Loop over all possible numbers of features to be included\n",
        "results = pd.DataFrame(columns=['num_features', 'features', 'MAE'])\n",
        "for k in range(1, X_train.shape[1] + 1):\n",
        "    # Loop over all possible subsets of size k\n",
        "    for subset in itertools.combinations(range(X_train.shape[1]), k):\n",
        "        subset = list(subset)\n",
        "        linreg_model = LinearRegression(normalize=True).fit(X_train[:, subset], y_train)\n",
        "        linreg_prediction = linreg_model.predict(X_test[:, subset])\n",
        "        linreg_mae = np.mean(np.abs(y_test - linreg_prediction))\n",
        "        results = results.append(pd.DataFrame([{'num_features': k,\n",
        "                                                'features': subset,\n",
        "                                                'MAE': linreg_mae}]))\n",
        "print(results.sort_values('MAE'))\n",
        "err_regress_subset = results.sort_values('MAE')['MAE'].head(1)"
      ],
      "metadata": {
        "id": "1WLqN9i8lt2P",
        "colab": {
          "base_uri": "https://localhost:8080/"
        },
        "outputId": "0ec4cac6-1c19-4325-9369-13f454af267a"
      },
      "execution_count": 291,
      "outputs": [
        {
          "output_type": "stream",
          "name": "stdout",
          "text": [
            "   num_features      features        MAE\n",
            "0             2        [5, 6]   0.574824\n",
            "0             3     [0, 5, 6]   0.574824\n",
            "0             2        [0, 6]   0.625541\n",
            "0             1           [6]   0.625541\n",
            "0             2        [0, 5]   0.648602\n",
            "..          ...           ...        ...\n",
            "0             2        [0, 3]  16.935153\n",
            "0             2        [3, 8]  18.493551\n",
            "0             3     [0, 3, 8]  18.493551\n",
            "0             3     [3, 7, 8]  19.281620\n",
            "0             4  [0, 3, 7, 8]  19.281620\n",
            "\n",
            "[511 rows x 3 columns]\n"
          ]
        }
      ]
    },
    {
      "cell_type": "code",
      "source": [
        ""
      ],
      "metadata": {
        "id": "-MdYTFubT2F8"
      },
      "execution_count": 291,
      "outputs": []
    },
    {
      "cell_type": "markdown",
      "source": [
        ""
      ],
      "metadata": {
        "id": "Ext-myaET2n5"
      }
    },
    {
      "cell_type": "markdown",
      "source": [
        "Finalmente aquí dejamos algunas ligas interesantes: \n",
        "\n",
        "1.    [Selección de predictores, regularización ridge, lasso, elastic net y reducción de dimensionalidad](https://www.cienciadedatos.net/documentos/31_seleccion_de_predictores_subset_selection_ridge_lasso_dimension_reduction#Introducci%C3%B3n)\n",
        "\n",
        "\n"
      ],
      "metadata": {
        "id": "UkwkmV6Cw4MX"
      }
    }
  ]
}
{
  "nbformat": 4,
  "nbformat_minor": 0,
  "metadata": {
    "colab": {
      "name": "Tarea3.ipynb",
      "provenance": [],
      "collapsed_sections": [],
      "authorship_tag": "ABX9TyNMqnAylqVrte94a2+bsEdJ",
      "include_colab_link": true
    },
    "kernelspec": {
      "name": "python3",
      "display_name": "Python 3"
    },
    "language_info": {
      "name": "python"
    }
  },
  "cells": [
    {
      "cell_type": "markdown",
      "metadata": {
        "id": "view-in-github",
        "colab_type": "text"
      },
      "source": [
        "<a href=\"https://colab.research.google.com/github/urieliram/statistical/blob/main/Tarea3.ipynb\" target=\"_parent\"><img src=\"https://colab.research.google.com/assets/colab-badge.svg\" alt=\"Open In Colab\"/></a>"
      ]
    },
    {
      "cell_type": "markdown",
      "source": [
        "# Tarea 3\n",
        "*Repeat the steps of the prostate cancer example in Section 3.2.1 using Python, first as a uni-variate problem using the book's data set and then as a multi-variate problem with data from your own project. Calculate also the p-values and the confidence intervals for the model's coefficients for the uni-variate version. Experiment, using libraries, also with subset selection.*\n",
        "\n",
        "Los datos utilizados en este cuaderno están disponibles aquí: [datasets](https://drive.google.com/drive/folders/159GnBJQDxTY9oYqPBZzdNghyb4Gd9pDS?usp=sharing) \n"
      ],
      "metadata": {
        "id": "mSp-SqxZkCFc"
      }
    },
    {
      "cell_type": "code",
      "source": [
        "import numpy as np\n",
        "import pandas as pd\n",
        "import itertools\n",
        "import warnings\n",
        "%matplotlib inline\n",
        "import matplotlib.pyplot as plt\n",
        "from sklearn.linear_model import LinearRegression, RidgeCV, LassoCV, ElasticNetCV, LarsCV\n",
        "from sklearn.metrics import mean_absolute_error, mean_squared_error\n",
        "from sklearn.cross_decomposition import PLSRegression\n",
        "from sklearn.decomposition import PCA\n",
        "from sklearn.pipeline import Pipeline\n",
        "from sklearn.metrics import r2_score\n",
        "from sklearn.model_selection import GridSearchCV\n",
        "import scipy.stats\n",
        "import statsmodels.api as sm\n",
        "import statsmodels.tools.eval_measures as bias\n",
        "import seaborn as sn\n",
        "warnings.filterwarnings(\"ignore\")"
      ],
      "metadata": {
        "id": "3ghzTDgI8c3z"
      },
      "execution_count": 436,
      "outputs": []
    },
    {
      "cell_type": "markdown",
      "source": [
        "## Regresión líneal en cáncer de próstata\n",
        "A continuación repetiremos el ejercicio 3.2.1 del [libro](https://link.springer.com/book/10.1007/978-0-387-84858-7) en el que se aplica un modelo de regresión líneal para predecir cáncer de próstata."
      ],
      "metadata": {
        "id": "eqqBrWsXfSz-"
      }
    },
    {
      "cell_type": "markdown",
      "source": [
        "Iniciamos cargando los datos de entrenamiento y almacenamos en  y `y_train`:"
      ],
      "metadata": {
        "id": "TQNC-rPq2rX0"
      }
    },
    {
      "cell_type": "code",
      "source": [
        " df = pd.read_csv('prostata.csv')"
      ],
      "metadata": {
        "id": "BZ4G-AyGZCFj"
      },
      "execution_count": 437,
      "outputs": []
    },
    {
      "cell_type": "code",
      "source": [
        "## Procesamos datos de entrenamiento \n",
        "df1 = df.loc[df.iloc[:,10].isin(['T'])] ## 'T' = training set\n",
        "df2 = df1['lpsa']  ## \n",
        "df1 = df1[['lcavol','lweight','age','lbph','svi','lcp','gleason','pgg45']] ## Regresores"
      ],
      "metadata": {
        "id": "KkgmRwj9DGuy"
      },
      "execution_count": 438,
      "outputs": []
    },
    {
      "cell_type": "markdown",
      "source": [
        "Ahora, cargamos los datos de prueba en los arreglos `X_train` y `y_train`:"
      ],
      "metadata": {
        "id": "e5rFHCBCv0uP"
      }
    },
    {
      "cell_type": "code",
      "source": [
        "## Procesamos datos de prueba \n",
        "dft = df.loc[df.iloc[:,10].isin(['F'])] ## 'F' = test set\n",
        "dft2 = dft['lpsa']\n",
        "dft1 = dft[['lcavol','lweight','age','lbph','svi','lcp','gleason','pgg45']] ## Regresores"
      ],
      "metadata": {
        "id": "s234YPXO3A4l"
      },
      "execution_count": 439,
      "outputs": []
    },
    {
      "cell_type": "markdown",
      "source": [
        "Estandarizamos los datos de los regresores `X_train` restando la media y dividiendo entre la varianza."
      ],
      "metadata": {
        "id": "AiEUK7S3XkUr"
      }
    },
    {
      "cell_type": "code",
      "source": [
        "df1.std(numeric_only = True) \n",
        "df1.mean(numeric_only = True)\n",
        "df1 = df1 - df1.mean(numeric_only = True)\n",
        "df1 = df1 / df1.std(numeric_only = True) \n",
        "X_train = df1.to_numpy()   ## Predictors\n",
        "X_train = sm.add_constant(X_train)\n",
        "y_train = df2.to_numpy()   ## Outcome"
      ],
      "metadata": {
        "id": "KABejHHAR4lN"
      },
      "execution_count": 440,
      "outputs": []
    },
    {
      "cell_type": "code",
      "source": [
        "dft1.std(numeric_only = True) \n",
        "dft1.mean(numeric_only = True)\n",
        "dft1 = dft1 - dft1.mean(numeric_only = True)\n",
        "dft1 = dft1 / dft1.std(numeric_only = True) \n",
        "X_test = dft1.to_numpy()   ## Predictors\n",
        "X_test = sm.add_constant(X_test)\n",
        "y_test = dft2.to_numpy()   ## Outcome"
      ],
      "metadata": {
        "id": "fWA9KzKuR4lN"
      },
      "execution_count": 441,
      "outputs": []
    },
    {
      "cell_type": "markdown",
      "source": [
        "A continuación, obtenemos un modelo de predicción de los datos de entrenamiento usando regresión lineal."
      ],
      "metadata": {
        "id": "EjYtoCrn5UIv"
      }
    },
    {
      "cell_type": "code",
      "source": [
        "X_train = sm.add_constant(X_train)\n",
        "model   = sm.OLS(y_train, X_train)\n",
        "results = model.fit()\n",
        "print(results.summary())"
      ],
      "metadata": {
        "colab": {
          "base_uri": "https://localhost:8080/"
        },
        "id": "M0b5ZeTaK6K5",
        "outputId": "269cf2f3-027b-4dcf-93a1-8cfec5e33a83"
      },
      "execution_count": 442,
      "outputs": [
        {
          "output_type": "stream",
          "name": "stdout",
          "text": [
            "                            OLS Regression Results                            \n",
            "==============================================================================\n",
            "Dep. Variable:                      y   R-squared:                       0.694\n",
            "Model:                            OLS   Adj. R-squared:                  0.652\n",
            "Method:                 Least Squares   F-statistic:                     16.47\n",
            "Date:                Tue, 25 Jan 2022   Prob (F-statistic):           2.04e-12\n",
            "Time:                        03:29:36   Log-Likelihood:                -67.505\n",
            "No. Observations:                  67   AIC:                             153.0\n",
            "Df Residuals:                      58   BIC:                             172.9\n",
            "Df Model:                           8                                         \n",
            "Covariance Type:            nonrobust                                         \n",
            "==============================================================================\n",
            "                 coef    std err          t      P>|t|      [0.025      0.975]\n",
            "------------------------------------------------------------------------------\n",
            "const          2.4523      0.087     28.182      0.000       2.278       2.627\n",
            "x1             0.7164      0.134      5.366      0.000       0.449       0.984\n",
            "x2             0.2926      0.106      2.751      0.008       0.080       0.506\n",
            "x3            -0.1425      0.102     -1.396      0.168      -0.347       0.062\n",
            "x4             0.2120      0.103      2.056      0.044       0.006       0.418\n",
            "x5             0.3096      0.125      2.469      0.017       0.059       0.561\n",
            "x6            -0.2890      0.155     -1.867      0.067      -0.599       0.021\n",
            "x7            -0.0209      0.143     -0.147      0.884      -0.306       0.264\n",
            "x8             0.2773      0.160      1.738      0.088      -0.042       0.597\n",
            "==============================================================================\n",
            "Omnibus:                        0.825   Durbin-Watson:                   1.690\n",
            "Prob(Omnibus):                  0.662   Jarque-Bera (JB):                0.389\n",
            "Skew:                          -0.164   Prob(JB):                        0.823\n",
            "Kurtosis:                       3.178   Cond. No.                         4.44\n",
            "==============================================================================\n",
            "\n",
            "Warnings:\n",
            "[1] Standard Errors assume that the covariance matrix of the errors is correctly specified.\n"
          ]
        }
      ]
    },
    {
      "cell_type": "markdown",
      "source": [
        "Como ejemplo podríamos habor usado también la librería  **sklearn** para obtener los mismos resultados."
      ],
      "metadata": {
        "id": "5fOnP80ocGVF"
      }
    },
    {
      "cell_type": "code",
      "source": [
        "linreg_model   = LinearRegression().fit(X_train[:, :], y_train)\n",
        "linreg_prediction = linreg_model.predict(X_train)\n",
        "errreg_mae = np.mean(np.abs(y_train - linreg_prediction))\n",
        "print(\"MAE del modelo de regresión con datos de entrenamiento con sklearn:\", errreg_mae)"
      ],
      "metadata": {
        "colab": {
          "base_uri": "https://localhost:8080/"
        },
        "id": "MnQ2vV3JZsiM",
        "outputId": "b7e6f302-d468-4cea-8df1-eb03bfb128b6"
      },
      "execution_count": 443,
      "outputs": [
        {
          "output_type": "stream",
          "name": "stdout",
          "text": [
            "MAE del modelo de regresión con datos de entrenamiento con sklearn: 0.4986136234494993\n"
          ]
        }
      ]
    },
    {
      "cell_type": "markdown",
      "source": [
        "Ahora, calculamos los errores entre la predicción `y_pred` y los datos de entrenamiento `y_train`. Los errores son representados por un histograma."
      ],
      "metadata": {
        "id": "yKgJJKk5Mc3Q"
      }
    },
    {
      "cell_type": "code",
      "source": [
        "#función que calcula la predicción Y[] de un X[] usando los parametros o coeficientes de regresión beta[]\n",
        "def pronostica(params,X): #params:parámetros de regresión; X:datos de regresores \n",
        "    y = []\n",
        "    i = 0\n",
        "    for rows in X:\n",
        "        y.append(np.matmul(params,X[i]))\n",
        "        i = i + 1\n",
        "    return(y)"
      ],
      "metadata": {
        "id": "xqJe3d3HhhVL"
      },
      "execution_count": 444,
      "outputs": []
    },
    {
      "cell_type": "code",
      "source": [
        "y_pred      = pronostica(results.params,X_train)\n",
        "error       = y_train - y_pred\n",
        "df          = pd.DataFrame(error,y_train)\n",
        "err_regress = mean_absolute_error(y_pred,y_train)"
      ],
      "metadata": {
        "id": "sjO0ZO11timQ"
      },
      "execution_count": 445,
      "outputs": []
    },
    {
      "cell_type": "code",
      "source": [
        "def dibuja_hist(df,colour,name,Xlabel,Ylabel,title):\n",
        "    plt.figure()\n",
        "    df.hist(column=0, bins=25, grid=False, figsize=(6,3), color=colour, zorder=2, rwidth=0.9)\n",
        "    plt.xticks(rotation=90)\n",
        "    plt.xlabel(Xlabel)\n",
        "    plt.ylabel(Ylabel)\n",
        "    #https://stackoverflow.com/questions/9662995/matplotlib-change-title-and-colorbar-text-and-tick-colors/42020486\n",
        "    mytitle = plt.title(title) # get the title property handler   #plt.getp(title_obj)  \n",
        "    plt.setp(mytitle, color='#ff8000')                            # set the color of title\n",
        "    myax = plt.axes()   # get the axis property handler           # plt.getp(myax) print its propieties\n",
        "    myax.xaxis.label.set_color('#ff8000')\n",
        "    myax.yaxis.label.set_color('#ff8000')\n",
        "    myax.tick_params(colors='#ff8000', which='both')              # myax.spines['bottom'].set_color('yellow')\n",
        "    plt.savefig(name, transparent=True)\n",
        "    plt.show()                                                    # o plt.save_en_algún_formato()"
      ],
      "metadata": {
        "id": "KAYlAFp2ELGZ"
      },
      "execution_count": 446,
      "outputs": []
    },
    {
      "cell_type": "code",
      "source": [
        "dibuja_hist(df,colour='#17cb49',name='hist0.png',Xlabel=\"Error\",Ylabel=\"Frecuencia\",title=\"Errores de predicción en cáncer de próstata (entrenamiento)\")"
      ],
      "metadata": {
        "colab": {
          "base_uri": "https://localhost:8080/",
          "height": 272
        },
        "outputId": "44442bb6-4f39-4003-8057-0a13d8b70b6e",
        "id": "CBL2jAXL7dxk"
      },
      "execution_count": 447,
      "outputs": [
        {
          "output_type": "display_data",
          "data": {
            "text/plain": [
              "<Figure size 432x288 with 0 Axes>"
            ]
          },
          "metadata": {}
        },
        {
          "output_type": "display_data",
          "data": {
            "image/png": "[encoded data removed]",
            "text/plain": [
              "<Figure size 432x216 with 1 Axes>"
            ]
          },
          "metadata": {
            "needs_background": "dark"
          }
        }
      ]
    },
    {
      "cell_type": "markdown",
      "source": [
        "Ahora, utilizamos el modelo obtenido con los datos de entrenamiento para predecir los datos de prueba. Además,  calculamos los errores entre la predicción `y_pred2` y los datos de prueba $Yt$. Los errores de la predicción con datos de prueba son representados por un histograma."
      ],
      "metadata": {
        "id": "JNdlFV9m7gJ_"
      }
    },
    {
      "cell_type": "code",
      "source": [
        "y_pred2 = pronostica(results.params,X_test)\n",
        "error2 = y_test - y_pred2\n",
        "df = pd.DataFrame(error2,y_test)\n",
        "err_regress_t = mean_absolute_error(y_test,y_pred2)"
      ],
      "metadata": {
        "id": "m6Wilj2JPWLJ"
      },
      "execution_count": 448,
      "outputs": []
    },
    {
      "cell_type": "code",
      "source": [
        "dibuja_hist(df,colour='#17cb49',name='hist0.png',Xlabel=\"Error\",Ylabel=\"Frecuencia\",title=\"Errores de predicción en cáncer de próstata (prueba)\")\n",
        "#df.hist(column=0, bins=25, grid=False, figsize=(6,3), color='#17cb49', zorder=2, rwidth=0.9)"
      ],
      "metadata": {
        "id": "VXisJogBi-ah",
        "colab": {
          "base_uri": "https://localhost:8080/",
          "height": 272
        },
        "outputId": "e1570d7e-e290-423d-a320-f98200ca482a"
      },
      "execution_count": 449,
      "outputs": [
        {
          "output_type": "display_data",
          "data": {
            "text/plain": [
              "<Figure size 432x288 with 0 Axes>"
            ]
          },
          "metadata": {}
        },
        {
          "output_type": "display_data",
          "data": {
            "image/png": "[encoded data removed]",
            "text/plain": [
              "<Figure size 432x216 with 1 Axes>"
            ]
          },
          "metadata": {
            "needs_background": "dark"
          }
        }
      ]
    },
    {
      "cell_type": "markdown",
      "source": [
        "Ahora, calculamos el **error absoluto medio (MAE)** de los datos de entrenamiento así como de los datos de prueba en la predicción de cancer de próstata."
      ],
      "metadata": {
        "id": "oleooDmv8QLp"
      }
    },
    {
      "cell_type": "code",
      "source": [
        "print(\"MAE del modelo de regresión con datos de entrenamiento:\", err_regress)\n",
        "print(\"MAE del modelo de regresión con datos de prueba:\" , err_regress_t) "
      ],
      "metadata": {
        "id": "cu-N1H_czv4v",
        "colab": {
          "base_uri": "https://localhost:8080/"
        },
        "outputId": "f389c2de-31e2-4bb8-efc2-2f1305b5cf9f"
      },
      "execution_count": 450,
      "outputs": [
        {
          "output_type": "stream",
          "name": "stdout",
          "text": [
            "MAE del modelo de regresión con datos de entrenamiento: 0.49861362344949917\n",
            "MAE del modelo de regresión con datos de prueba: 0.5332335474812145\n"
          ]
        }
      ]
    },
    {
      "cell_type": "markdown",
      "source": [
        "Finalmente calculamos los intervalos de confianza de los coeficientes del modelo de regresión así como los p-values:"
      ],
      "metadata": {
        "id": "N5zUx1thenQV"
      }
    },
    {
      "cell_type": "code",
      "source": [
        "print(results.conf_int(alpha=0.05, cols=None))\n",
        "print(results.pvalues)"
      ],
      "metadata": {
        "colab": {
          "base_uri": "https://localhost:8080/"
        },
        "id": "M2C6_VJgdzhH",
        "outputId": "54d654bd-e3d8-4c18-8a64-0f4368d5e3bd"
      },
      "execution_count": 451,
      "outputs": [
        {
          "output_type": "stream",
          "name": "stdout",
          "text": [
            "[[ 2.27815644  2.62653373]\n",
            " [ 0.44917503  0.983639  ]\n",
            " [ 0.07968993  0.50559488]\n",
            " [-0.34696416  0.0618649 ]\n",
            " [ 0.00558193  0.41843328]\n",
            " [ 0.05862448  0.56061459]\n",
            " [-0.59887957  0.02086833]\n",
            " [-0.30631449  0.26448745]\n",
            " [-0.04211288  0.59680478]]\n",
            "[1.53766865e-35 1.46941496e-06 7.91789491e-03 1.68062590e-01\n",
            " 4.43078420e-02 1.65053869e-02 6.69708471e-02 8.83892314e-01\n",
            " 8.75462787e-02]\n"
          ]
        }
      ]
    },
    {
      "cell_type": "markdown",
      "source": [
        "### Regression del mejor subconjunto a la predicción de cáncer de próstata\n",
        "Aplicaremos la técnica de regression del mejor subconjunto **(Best Subset Regression)** a los datos de entrenamiento de cáncer de próstata.\n",
        "Otras técnicas de reducción de dimensión y compactación de modelos de regresión puede encontrarse en: [A Comparison of Shrinkage and Selection Methods for Linear Regression](https://towardsdatascience.com/a-comparison-of-shrinkage-and-selection-methods-for-linear-regression-ee4dd3a71f16). La aplicación de este método sugiere utilizar las variables (features) [1, 2, 3, 4, 5, 6, 8]; es decir ['lweight','age','lbph','svi','lcp','gleason','pgg45'] para lograr un mínimo error entre todas las combinaciones de las variables."
      ],
      "metadata": {
        "id": "WLdJPNtyEswa"
      }
    },
    {
      "cell_type": "code",
      "source": [
        "## Loop over all possible numbers of features to be included\n",
        "results = pd.DataFrame(columns=['num_features', 'features', 'MAE'])\n",
        "for k in range(1, X_train.shape[1] + 1):\n",
        "    # Loop over all possible subsets of size k\n",
        "    for subset in itertools.combinations(range(X_train.shape[1]), k):\n",
        "        subset = list(subset)        \n",
        "        linreg_model = LinearRegression().fit(X_train[:, subset], y_train)\n",
        "        linreg_prediction = linreg_model.predict(X_train[:, subset])\n",
        "        linreg_mae = np.mean(np.abs(y_train - linreg_prediction))\n",
        "        #print(subset,\" \",linreg_mae)\n",
        "        results = results.append(pd.DataFrame([{'num_features': k,\n",
        "                                                'features': subset,\n",
        "                                                'MAE': linreg_mae}]))\n",
        "print(results.sort_values('MAE'))\n",
        "err_regress_subset = results.sort_values('MAE')['MAE'].head(1)"
      ],
      "metadata": {
        "id": "1WLqN9i8lt2P",
        "colab": {
          "base_uri": "https://localhost:8080/"
        },
        "outputId": "4d79caa5-8537-48d6-88fe-cb1bc0d9cb71"
      },
      "execution_count": 452,
      "outputs": [
        {
          "output_type": "stream",
          "name": "stdout",
          "text": [
            "   num_features                     features       MAE\n",
            "0             7        [1, 2, 3, 4, 5, 6, 8]  0.497997\n",
            "0             8     [0, 1, 2, 3, 4, 5, 6, 8]  0.497997\n",
            "0             9  [0, 1, 2, 3, 4, 5, 6, 7, 8]  0.498614\n",
            "0             8     [1, 2, 3, 4, 5, 6, 7, 8]  0.498614\n",
            "0             7        [1, 2, 3, 4, 5, 6, 7]  0.504766\n",
            "..          ...                          ...       ...\n",
            "0             2                       [0, 7]  0.904978\n",
            "0             1                          [7]  0.904978\n",
            "0             2                       [0, 3]  0.905767\n",
            "0             1                          [3]  0.905767\n",
            "0             1                          [0]  0.961085\n",
            "\n",
            "[511 rows x 3 columns]\n"
          ]
        }
      ]
    },
    {
      "cell_type": "code",
      "source": [
        ""
      ],
      "metadata": {
        "id": "-MdYTFubT2F8"
      },
      "execution_count": 452,
      "outputs": []
    },
    {
      "cell_type": "markdown",
      "source": [
        "## Regresión lineal en predicción de demanda eléctrica\n",
        "\n",
        "A continuación haremos la comparación de resultados de regresión para datos de demanda eléctrica. La variable independiente $X$ serán los datos de demanda del día anterior, y los datos independiente $Y$ serán los datos de días con una mayor correlación."
      ],
      "metadata": {
        "id": "Ext-myaET2n5"
      }
    },
    {
      "cell_type": "code",
      "source": [
        "df = pd.read_csv('demanda.csv')"
      ],
      "metadata": {
        "id": "ymjPNdm3qKvY"
      },
      "execution_count": 453,
      "outputs": []
    },
    {
      "cell_type": "code",
      "source": [
        "## Procesamos datos de entrenamiento \n",
        "df1 = df.loc[df.iloc[:,19].isin(['T'])] ## 'T' = training set\n",
        "df2 = df1['Y']  \n",
        "df1 = df1[['X1','X2','X3','X4','X5','X6','X7','X8','X9','X10']] ## Regresores"
      ],
      "metadata": {
        "id": "dOt5Pvh236eH"
      },
      "execution_count": 454,
      "outputs": []
    },
    {
      "cell_type": "markdown",
      "source": [
        "Ahora, cargamos los datos de prueba en los arreglos `X_train` y `y_train`:"
      ],
      "metadata": {
        "id": "FvGY61ii36eJ"
      }
    },
    {
      "cell_type": "code",
      "source": [
        "## Procesamos datos de prueba \n",
        "dft = df.loc[df.iloc[:,19].isin(['F'])] ## 'F' = test set\n",
        "dft2 = dft['Y']\n",
        "dft1 = dft[['X1','X2','X3','X4','X5','X6','X7','X8','X9','X10']] ## Regresores\n",
        "#X_test = dft1.to_numpy()   ## Predictors\n",
        "#X_test = sm.add_constant(X_test)\n",
        "#y_test = dft2.to_numpy()   ## Outcome"
      ],
      "metadata": {
        "id": "3DgWcQZe36eJ"
      },
      "execution_count": 455,
      "outputs": []
    },
    {
      "cell_type": "markdown",
      "source": [
        "Estandarizamos los datos de los regresores `X_train` y `X_test` restando la media y dividiendo entre la varianza."
      ],
      "metadata": {
        "id": "ZFUp6FdS36eJ"
      }
    },
    {
      "cell_type": "code",
      "source": [
        "df1.std(numeric_only = True) \n",
        "df1.mean(numeric_only = True)\n",
        "df1 = df1 - df1.mean(numeric_only = True)\n",
        "df1 = df1 / df1.std(numeric_only = True) \n",
        "X_train = df1.to_numpy()   ## Predictors\n",
        "X_train = sm.add_constant(X_train)\n",
        "y_train = df2.to_numpy()   ## Outcome"
      ],
      "metadata": {
        "id": "BqsrHU-536eJ"
      },
      "execution_count": 456,
      "outputs": []
    },
    {
      "cell_type": "code",
      "source": [
        "dft1.std(numeric_only = True) \n",
        "dft1.mean(numeric_only = True)\n",
        "dft1 = dft1 - dft1.mean(numeric_only = True)\n",
        "dft1 = dft1 / dft1.std(numeric_only = True) \n",
        "X_test = dft1.to_numpy()   ## Predictors\n",
        "X_test = sm.add_constant(X_test)\n",
        "y_test = dft2.to_numpy()   ## Outcome"
      ],
      "metadata": {
        "id": "FmH8rdovM4O9"
      },
      "execution_count": 457,
      "outputs": []
    },
    {
      "cell_type": "markdown",
      "source": [
        "A continuación, obtenemos un modelo de predicción de los datos de entrenamiento usando regresión lineal."
      ],
      "metadata": {
        "id": "Tj0Pzrbf36eJ"
      }
    },
    {
      "cell_type": "code",
      "source": [
        "model   = sm.OLS(y_train, X_train)\n",
        "results = model.fit()\n",
        "print(results.summary())\n",
        "print(results.params)"
      ],
      "metadata": {
        "colab": {
          "base_uri": "https://localhost:8080/"
        },
        "outputId": "806b8a8d-b0e3-4ebc-d5c5-5189c94c7149",
        "id": "8ON7WxxR36eK"
      },
      "execution_count": 458,
      "outputs": [
        {
          "output_type": "stream",
          "name": "stdout",
          "text": [
            "                            OLS Regression Results                            \n",
            "==============================================================================\n",
            "Dep. Variable:                      y   R-squared:                       0.931\n",
            "Model:                            OLS   Adj. R-squared:                  0.929\n",
            "Method:                 Least Squares   F-statistic:                     374.1\n",
            "Date:                Tue, 25 Jan 2022   Prob (F-statistic):          1.64e-154\n",
            "Time:                        03:29:39   Log-Likelihood:                -1845.7\n",
            "No. Observations:                 288   AIC:                             3713.\n",
            "Df Residuals:                     277   BIC:                             3754.\n",
            "Df Model:                          10                                         \n",
            "Covariance Type:            nonrobust                                         \n",
            "==============================================================================\n",
            "                 coef    std err          t      P>|t|      [0.025      0.975]\n",
            "------------------------------------------------------------------------------\n",
            "const       8675.5029      8.826    983.002      0.000    8658.129    8692.877\n",
            "x1           208.7708     36.890      5.659      0.000     136.150     281.391\n",
            "x2           143.5620     47.055      3.051      0.003      50.931     236.193\n",
            "x3           106.2065     40.503      2.622      0.009      26.473     185.940\n",
            "x4            26.4329     47.279      0.559      0.577     -66.640     119.505\n",
            "x5            73.0426     37.826      1.931      0.055      -1.420     147.506\n",
            "x6           -58.6241     45.224     -1.296      0.196    -147.650      30.401\n",
            "x7           103.0077     38.558      2.671      0.008      27.103     178.913\n",
            "x8           -69.8054     46.643     -1.497      0.136    -161.624      22.014\n",
            "x9            72.8181     34.088      2.136      0.034       5.715     139.922\n",
            "x10          -54.7340     42.003     -1.303      0.194    -137.419      27.951\n",
            "==============================================================================\n",
            "Omnibus:                       20.734   Durbin-Watson:                   0.437\n",
            "Prob(Omnibus):                  0.000   Jarque-Bera (JB):               27.190\n",
            "Skew:                          -0.538   Prob(JB):                     1.25e-06\n",
            "Kurtosis:                       4.053   Cond. No.                         19.4\n",
            "==============================================================================\n",
            "\n",
            "Warnings:\n",
            "[1] Standard Errors assume that the covariance matrix of the errors is correctly specified.\n",
            "[8675.50292997  208.77083954  143.56199174  106.20648129   26.43293141\n",
            "   73.04263367  -58.62409146  103.00769517  -69.8053602    72.81811942\n",
            "  -54.73396636]\n"
          ]
        }
      ]
    },
    {
      "cell_type": "markdown",
      "source": [
        "Ahora, calculamos los errores entre la predicción `y_pred` y los datos de entrenamiento `y_train`. Los errores son representados por un histograma."
      ],
      "metadata": {
        "id": "Gusdya9P36eK"
      }
    },
    {
      "cell_type": "code",
      "source": [
        "y_pred      = pronostica(results.params,X_train)\n",
        "error       = y_train - y_pred\n",
        "df          = pd.DataFrame(error,y_train)\n",
        "err_regress = mean_absolute_error(y_pred,y_train)"
      ],
      "metadata": {
        "id": "FU9kgMvU36eL"
      },
      "execution_count": 459,
      "outputs": []
    },
    {
      "cell_type": "code",
      "source": [
        "dibuja_hist(df,colour='#777bd4',name='dummy.png',Xlabel=\"Error\",Ylabel=\"Frecuencia\",title=\"Errores de predicción de demanda eléctrica (entrenamiento)\")"
      ],
      "metadata": {
        "colab": {
          "base_uri": "https://localhost:8080/",
          "height": 275
        },
        "outputId": "665dcc16-d4e1-4a94-af0a-6008c26b1ec1",
        "id": "0sKG4Kui36eL"
      },
      "execution_count": 460,
      "outputs": [
        {
          "output_type": "display_data",
          "data": {
            "text/plain": [
              "<Figure size 432x288 with 0 Axes>"
            ]
          },
          "metadata": {}
        },
        {
          "output_type": "display_data",
          "data": {
            "image/png": "[encoded data removed]",
            "text/plain": [
              "<Figure size 432x216 with 1 Axes>"
            ]
          },
          "metadata": {
            "needs_background": "dark"
          }
        }
      ]
    },
    {
      "cell_type": "markdown",
      "source": [
        "Ahora, utilizamos el modelo obtenido con los datos de entrenamiento para predecir los datos de prueba. Además,  calculamos los errores entre la predicción `y_pred2` y los datos de prueba $Yt$. Los errores de la predicción con datos de prueba son representados por un histograma."
      ],
      "metadata": {
        "id": "fmGnl57J36eM"
      }
    },
    {
      "cell_type": "code",
      "source": [
        "y_pred2 = pronostica(results.params,X_test) #print(y_pred2)\n",
        "error2 = y_test - y_pred2\n",
        "df = pd.DataFrame(error2,y_test)\n",
        "err_regress_t = mean_absolute_error(y_test,y_pred2)"
      ],
      "metadata": {
        "id": "FC1aHj0f36eM"
      },
      "execution_count": 461,
      "outputs": []
    },
    {
      "cell_type": "code",
      "source": [
        "dibuja_hist(df,colour='#76ced6',name='dummy.png',Xlabel=\"Error\",Ylabel=\"Frecuencia\",title=\"Errores de predicción de demanda eléctrica (prueba)\")\n",
        "#df.hist(column=0, bins=25, grid=False, figsize=(6,3), color='#17cb49', zorder=2, rwidth=0.9)"
      ],
      "metadata": {
        "colab": {
          "base_uri": "https://localhost:8080/",
          "height": 281
        },
        "outputId": "1c811841-7aa6-4baf-8e5e-4ec08f055ba6",
        "id": "ps1Mzex236eM"
      },
      "execution_count": 462,
      "outputs": [
        {
          "output_type": "display_data",
          "data": {
            "text/plain": [
              "<Figure size 432x288 with 0 Axes>"
            ]
          },
          "metadata": {}
        },
        {
          "output_type": "display_data",
          "data": {
            "image/png": "[encoded data removed]",
            "text/plain": [
              "<Figure size 432x216 with 1 Axes>"
            ]
          },
          "metadata": {
            "needs_background": "dark"
          }
        }
      ]
    },
    {
      "cell_type": "code",
      "source": [
        "bias.bias(y_test, y_pred2, axis=0)"
      ],
      "metadata": {
        "colab": {
          "base_uri": "https://localhost:8080/"
        },
        "id": "QkwrOgmIQ9D8",
        "outputId": "955d7e6d-5717-4e5c-dbe1-084a153eb0e9"
      },
      "execution_count": 463,
      "outputs": [
        {
          "output_type": "execute_result",
          "data": {
            "text/plain": [
              "-379.36295032986135"
            ]
          },
          "metadata": {},
          "execution_count": 463
        }
      ]
    },
    {
      "cell_type": "markdown",
      "source": [
        "Ahora, calculamos el **error absoluto medio (MAE)** de los datos de entrenamiento así como de los datos de prueba en la predicción de cancer de próstata."
      ],
      "metadata": {
        "id": "Htn6tkPb36eM"
      }
    },
    {
      "cell_type": "code",
      "source": [
        "print(\"MAE del modelo de regresión con datos de entrenamiento:\", err_regress)\n",
        "print(\"MAE del modelo de regresión con datos de prueba:\" , err_regress_t) "
      ],
      "metadata": {
        "colab": {
          "base_uri": "https://localhost:8080/"
        },
        "outputId": "ec4f168b-8d3d-4c72-d8b1-d2027c4e113a",
        "id": "MjX6GBAq36eM"
      },
      "execution_count": 464,
      "outputs": [
        {
          "output_type": "stream",
          "name": "stdout",
          "text": [
            "MAE del modelo de regresión con datos de entrenamiento: 112.47212814878469\n",
            "MAE del modelo de regresión con datos de prueba: 394.56277116389936\n"
          ]
        }
      ]
    },
    {
      "cell_type": "markdown",
      "source": [
        "### Regression del mejor subconjunto a la predicción de pronóstico de demanda eléctrica\n",
        "Aplicaremos la técnica de regression del mejor subconjunto **(Best Subset Regression)** a los datos de entrenamiento de pronóstico de demanda.\n",
        "Otras técnicas de reducción de dimensión y compactación de modelos de regresión puede encontrarse en: [A Comparison of Shrinkage and Selection Methods for Linear Regression](https://towardsdatascience.com/a-comparison-of-shrinkage-and-selection-methods-for-linear-regression-ee4dd3a71f16). La aplicación de este método sugiere utilizar las variables (features) (0, 1, 2, 3, 5, 7, 9]; es decir [X1, X2, X3, X6, X8, X10] para lograr un mínimo error entre todas las combinaciones de las variables."
      ],
      "metadata": {
        "id": "3xbxnmdF36eN"
      }
    },
    {
      "cell_type": "code",
      "source": [
        "## Loop over all possible numbers of features to be included\n",
        "results = pd.DataFrame(columns=['num_features', 'features', 'MAE'])\n",
        "for k in range(1, X_train.shape[1] + 1):\n",
        "    # Loop over all possible subsets of size k\n",
        "    for subset in itertools.combinations(range(X_train.shape[1]), k):\n",
        "        subset = list(subset)        \n",
        "        linreg_model = LinearRegression().fit(X_train[:, subset], y_train)\n",
        "        linreg_prediction = linreg_model.predict(X_train[:, subset])\n",
        "        linreg_mae = np.mean(np.abs(y_train - linreg_prediction))\n",
        "        #print(subset,\" \",linreg_mae)\n",
        "        results = results.append(pd.DataFrame([{'num_features': k,\n",
        "                                                'features': subset,\n",
        "                                                'MAE': linreg_mae}]))\n",
        "print(results.sort_values('MAE'))\n",
        "err_regress_subset = results.sort_values('MAE')['MAE'].head(1)"
      ],
      "metadata": {
        "colab": {
          "base_uri": "https://localhost:8080/"
        },
        "outputId": "41889d5d-7fac-455e-c128-8687cd40a6f7",
        "id": "yOdcji-136eN"
      },
      "execution_count": 465,
      "outputs": [
        {
          "output_type": "stream",
          "name": "stdout",
          "text": [
            "   num_features                      features         MAE\n",
            "0             7         [0, 1, 2, 3, 5, 7, 9]  110.867369\n",
            "0             6            [1, 2, 3, 5, 7, 9]  110.867369\n",
            "0             6            [0, 1, 2, 3, 5, 7]  110.919145\n",
            "0             5               [1, 2, 3, 5, 7]  110.919145\n",
            "0             9  [0, 1, 2, 3, 4, 5, 7, 9, 10]  110.991807\n",
            "..          ...                           ...         ...\n",
            "0             1                           [7]  152.292525\n",
            "0             2                        [0, 7]  152.292525\n",
            "0             1                          [10]  157.380566\n",
            "0             2                       [0, 10]  157.380566\n",
            "0             1                           [0]  474.064100\n",
            "\n",
            "[2047 rows x 3 columns]\n"
          ]
        }
      ]
    },
    {
      "cell_type": "markdown",
      "source": [
        "Finalmente aquí dejamos algunas ligas interesantes: \n",
        "\n",
        "1.    [Selección de predictores, regularización ridge, lasso, elastic net y reducción de dimensionalidad](https://www.cienciadedatos.net/documentos/31_seleccion_de_predictores_subset_selection_ridge_lasso_dimension_reduction#Introducci%C3%B3n)\n",
        "\n",
        "\n"
      ],
      "metadata": {
        "id": "UkwkmV6Cw4MX"
      }
    }
  ]
}
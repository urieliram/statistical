{
  "nbformat": 4,
  "nbformat_minor": 0,
  "metadata": {
    "colab": {
      "name": "Tarea3.ipynb",
      "provenance": [],
      "collapsed_sections": [],
      "authorship_tag": "ABX9TyO7dNc8++9TaojwIfW0IHFJ",
      "include_colab_link": true
    },
    "kernelspec": {
      "name": "python3",
      "display_name": "Python 3"
    },
    "language_info": {
      "name": "python"
    }
  },
  "cells": [
    {
      "cell_type": "markdown",
      "metadata": {
        "id": "view-in-github",
        "colab_type": "text"
      },
      "source": [
        "<a href=\"https://colab.research.google.com/github/urieliram/statistical/blob/main/Tarea3.ipynb\" target=\"_parent\"><img src=\"https://colab.research.google.com/assets/colab-badge.svg\" alt=\"Open In Colab\"/></a>"
      ]
    },
    {
      "cell_type": "markdown",
      "source": [
        "# Tarea 3\n",
        "*Repeat the steps of the prostate cancer example in Section 3.2.1 using Python, first as a uni-variate problem using the book's data set and then as a multi-variate problem with data from your own project. Calculate also the p-values and the confidence intervals for the model's coefficients for the uni-variate version. Experiment, using libraries, also with subset selection.*\n",
        "\n",
        "Los datos utilizados en este cuaderno están disponibles aquí: [datasets](https://drive.google.com/drive/folders/159GnBJQDxTY9oYqPBZzdNghyb4Gd9pDS?usp=sharing) \n"
      ],
      "metadata": {
        "id": "mSp-SqxZkCFc"
      }
    },
    {
      "cell_type": "code",
      "source": [
        "import numpy as np\n",
        "import pandas as pd\n",
        "import itertools\n",
        "import warnings\n",
        "%matplotlib inline\n",
        "import matplotlib.pyplot as plt\n",
        "from sklearn.linear_model import LinearRegression, RidgeCV, LassoCV, ElasticNetCV, LarsCV\n",
        "from sklearn.metrics import mean_absolute_error, mean_squared_error\n",
        "from sklearn.cross_decomposition import PLSRegression\n",
        "from sklearn.decomposition import PCA\n",
        "from sklearn.pipeline import Pipeline\n",
        "from sklearn.metrics import r2_score\n",
        "from sklearn.model_selection import GridSearchCV\n",
        "import scipy.stats\n",
        "import statsmodels.api as sm\n",
        "import statsmodels.tools.eval_measures as bias\n",
        "import seaborn as sn\n",
        "warnings.filterwarnings(\"ignore\")"
      ],
      "metadata": {
        "id": "3ghzTDgI8c3z"
      },
      "execution_count": 909,
      "outputs": []
    },
    {
      "cell_type": "markdown",
      "source": [
        "## Regresión líneal en cáncer de próstata\n",
        "A continuación repetiremos el ejercicio 3.2.1 del [libro](https://link.springer.com/book/10.1007/978-0-387-84858-7) en el que se aplica un modelo de regresión líneal para predecir cáncer de próstata."
      ],
      "metadata": {
        "id": "eqqBrWsXfSz-"
      }
    },
    {
      "cell_type": "markdown",
      "source": [
        "Iniciamos cargando los datos de entrenamiento y almacenamos en  y `y_train`:"
      ],
      "metadata": {
        "id": "TQNC-rPq2rX0"
      }
    },
    {
      "cell_type": "code",
      "source": [
        " df = pd.read_csv('prostata.csv')"
      ],
      "metadata": {
        "id": "BZ4G-AyGZCFj"
      },
      "execution_count": 910,
      "outputs": []
    },
    {
      "cell_type": "code",
      "source": [
        "## Procesamos datos de entrenamiento \n",
        "df1 = df.loc[df.iloc[:,10].isin(['T'])] ## 'T' = training set\n",
        "df2 = df1['lpsa']  ## Outcome\n",
        "df1 = df1[['lcavol','lweight','age','lbph','svi','lcp','gleason','pgg45']]  ## Predictors"
      ],
      "metadata": {
        "id": "KkgmRwj9DGuy"
      },
      "execution_count": 911,
      "outputs": []
    },
    {
      "cell_type": "markdown",
      "source": [
        "Ahora, cargamos los datos de prueba en los arreglos `X_train` y `y_train`:"
      ],
      "metadata": {
        "id": "e5rFHCBCv0uP"
      }
    },
    {
      "cell_type": "code",
      "source": [
        "## Procesamos datos de prueba \n",
        "dft = df.loc[df.iloc[:,10].isin(['F'])] ## 'F' = test set\n",
        "dft2 = dft['lpsa']  ## Outcome\n",
        "dft1 = dft[['lcavol','lweight','age','lbph','svi','lcp','gleason','pgg45']]  ## Predictors"
      ],
      "metadata": {
        "id": "s234YPXO3A4l"
      },
      "execution_count": 912,
      "outputs": []
    },
    {
      "cell_type": "markdown",
      "source": [
        "Estandarizamos los datos de los regresores `X_train` y `X_test` restando la media y dividiendo entre la varianza."
      ],
      "metadata": {
        "id": "AiEUK7S3XkUr"
      }
    },
    {
      "cell_type": "code",
      "source": [
        "df1.std(numeric_only = True) \n",
        "df1.mean(numeric_only = True)\n",
        "df1 = df1 - df1.mean(numeric_only = True)\n",
        "df1 = df1 / df1.std(numeric_only = True) \n",
        "X_train = df1.to_numpy()   ## Predictors\n",
        "X_train = sm.add_constant(X_train)\n",
        "y_train = df2.to_numpy()   ## Outcome"
      ],
      "metadata": {
        "id": "KABejHHAR4lN"
      },
      "execution_count": 913,
      "outputs": []
    },
    {
      "cell_type": "code",
      "source": [
        "dft1.std(numeric_only = True) \n",
        "dft1.mean(numeric_only = True)\n",
        "dft1 = dft1 - dft1.mean(numeric_only = True)\n",
        "dft1 = dft1 / dft1.std(numeric_only = True) \n",
        "X_test = dft1.to_numpy()   ## Predictors\n",
        "X_test = sm.add_constant(X_test)\n",
        "y_test = dft2.to_numpy()   ## Outcome"
      ],
      "metadata": {
        "id": "fWA9KzKuR4lN"
      },
      "execution_count": 914,
      "outputs": []
    },
    {
      "cell_type": "markdown",
      "source": [
        "A continuación, obtenemos un modelo de predicción de los datos de entrenamiento usando regresión lineal."
      ],
      "metadata": {
        "id": "EjYtoCrn5UIv"
      }
    },
    {
      "cell_type": "code",
      "source": [
        "X_train = sm.add_constant(X_train)\n",
        "model   = sm.OLS(y_train, X_train)\n",
        "results = model.fit()\n",
        "print(results.summary())"
      ],
      "metadata": {
        "colab": {
          "base_uri": "https://localhost:8080/"
        },
        "id": "M0b5ZeTaK6K5",
        "outputId": "045f0aab-3fed-47df-b961-95cfacb98dfe"
      },
      "execution_count": 915,
      "outputs": [
        {
          "output_type": "stream",
          "name": "stdout",
          "text": [
            "                            OLS Regression Results                            \n",
            "==============================================================================\n",
            "Dep. Variable:                      y   R-squared:                       0.694\n",
            "Model:                            OLS   Adj. R-squared:                  0.652\n",
            "Method:                 Least Squares   F-statistic:                     16.47\n",
            "Date:                Tue, 25 Jan 2022   Prob (F-statistic):           2.04e-12\n",
            "Time:                        06:39:43   Log-Likelihood:                -67.505\n",
            "No. Observations:                  67   AIC:                             153.0\n",
            "Df Residuals:                      58   BIC:                             172.9\n",
            "Df Model:                           8                                         \n",
            "Covariance Type:            nonrobust                                         \n",
            "==============================================================================\n",
            "                 coef    std err          t      P>|t|      [0.025      0.975]\n",
            "------------------------------------------------------------------------------\n",
            "const          2.4523      0.087     28.182      0.000       2.278       2.627\n",
            "x1             0.7164      0.134      5.366      0.000       0.449       0.984\n",
            "x2             0.2926      0.106      2.751      0.008       0.080       0.506\n",
            "x3            -0.1425      0.102     -1.396      0.168      -0.347       0.062\n",
            "x4             0.2120      0.103      2.056      0.044       0.006       0.418\n",
            "x5             0.3096      0.125      2.469      0.017       0.059       0.561\n",
            "x6            -0.2890      0.155     -1.867      0.067      -0.599       0.021\n",
            "x7            -0.0209      0.143     -0.147      0.884      -0.306       0.264\n",
            "x8             0.2773      0.160      1.738      0.088      -0.042       0.597\n",
            "==============================================================================\n",
            "Omnibus:                        0.825   Durbin-Watson:                   1.690\n",
            "Prob(Omnibus):                  0.662   Jarque-Bera (JB):                0.389\n",
            "Skew:                          -0.164   Prob(JB):                        0.823\n",
            "Kurtosis:                       3.178   Cond. No.                         4.44\n",
            "==============================================================================\n",
            "\n",
            "Warnings:\n",
            "[1] Standard Errors assume that the covariance matrix of the errors is correctly specified.\n"
          ]
        }
      ]
    },
    {
      "cell_type": "markdown",
      "source": [
        "También podríamos usar también la librería  **sklearn** para obtener los mismos resultados."
      ],
      "metadata": {
        "id": "5fOnP80ocGVF"
      }
    },
    {
      "cell_type": "code",
      "source": [
        "linreg_model   = LinearRegression().fit(X_train[:, :], y_train)\n",
        "linreg_prediction = linreg_model.predict(X_train)\n",
        "errreg_mae = np.mean(np.abs(y_train - linreg_prediction))\n",
        "print(\"MAE del modelo de regresión con datos de entrenamiento con sklearn:\", errreg_mae)"
      ],
      "metadata": {
        "colab": {
          "base_uri": "https://localhost:8080/"
        },
        "id": "MnQ2vV3JZsiM",
        "outputId": "61811cc8-c45d-45a8-8f96-4bdc98f2ccdf"
      },
      "execution_count": 916,
      "outputs": [
        {
          "output_type": "stream",
          "name": "stdout",
          "text": [
            "MAE del modelo de regresión con datos de entrenamiento con sklearn: 0.4986136234494993\n"
          ]
        }
      ]
    },
    {
      "cell_type": "markdown",
      "source": [
        "Ahora, calculamos los errores entre la predicción `y_pred` y los datos de entrenamiento `y_train`. Los errores son representados por un histograma."
      ],
      "metadata": {
        "id": "yKgJJKk5Mc3Q"
      }
    },
    {
      "cell_type": "code",
      "source": [
        "#función que calcula la predicción Y[] de un X[] usando los parametros o coeficientes de regresión beta[]\n",
        "def pronostica(params,X): #params:parámetros de regresión; X:datos de regresores \n",
        "    y = []\n",
        "    i = 0\n",
        "    for rows in X:\n",
        "        y.append(np.matmul(params,X[i]))\n",
        "        i = i + 1\n",
        "    return(y)"
      ],
      "metadata": {
        "id": "xqJe3d3HhhVL"
      },
      "execution_count": 917,
      "outputs": []
    },
    {
      "cell_type": "code",
      "source": [
        "y_pred      = pronostica(results.params,X_train)\n",
        "error       = y_train - y_pred\n",
        "err_regress = mean_absolute_error(y_pred,y_train)\n",
        "df          = pd.DataFrame(error,y_train)"
      ],
      "metadata": {
        "id": "sjO0ZO11timQ"
      },
      "execution_count": 918,
      "outputs": []
    },
    {
      "cell_type": "code",
      "source": [
        "def dibuja_hist(df,colour,name,Xlabel,Ylabel,title):\n",
        "    plt.figure()\n",
        "    df.hist(column=0, bins=25, grid=False, figsize=(6,3), color=colour, zorder=2, rwidth=0.9)\n",
        "    plt.xticks(rotation=90)\n",
        "    plt.xlabel(Xlabel)\n",
        "    plt.ylabel(Ylabel)\n",
        "    #https://stackoverflow.com/questions/9662995/matplotlib-change-title-and-colorbar-text-and-tick-colors/42020486\n",
        "    mytitle = plt.title(title) # get the title property handler   #plt.getp(title_obj)  \n",
        "    plt.setp(mytitle, color='#ff8000')                            # set the color of title\n",
        "    myax = plt.axes()   # get the axis property handler           # plt.getp(myax) print its propieties\n",
        "    myax.xaxis.label.set_color('#ff8000')\n",
        "    myax.yaxis.label.set_color('#ff8000')\n",
        "    myax.tick_params(colors='#ff8000', which='both')              # myax.spines['bottom'].set_color('yellow')\n",
        "    plt.savefig(name, transparent=True)\n",
        "    plt.show()                                                    # o plt.save_en_algún_formato()"
      ],
      "metadata": {
        "id": "KAYlAFp2ELGZ"
      },
      "execution_count": 919,
      "outputs": []
    },
    {
      "cell_type": "code",
      "source": [
        "dibuja_hist(df,colour='#17cb49',name='hist9.png',Xlabel=\"Error\",Ylabel=\"Frecuencia\",title=\"Errores de predicción en cáncer de próstata (entrenamiento)\")"
      ],
      "metadata": {
        "colab": {
          "base_uri": "https://localhost:8080/",
          "height": 273
        },
        "outputId": "22d54957-db9c-4682-a2b1-4e401cd118db",
        "id": "CBL2jAXL7dxk"
      },
      "execution_count": 920,
      "outputs": [
        {
          "output_type": "display_data",
          "data": {
            "text/plain": [
              "<Figure size 432x288 with 0 Axes>"
            ]
          },
          "metadata": {}
        },
        {
          "output_type": "display_data",
          "data": {
            "image/png": "[encoded data removed]",
            "text/plain": [
              "<Figure size 432x216 with 1 Axes>"
            ]
          },
          "metadata": {
            "needs_background": "dark"
          }
        }
      ]
    },
    {
      "cell_type": "markdown",
      "source": [
        "Ahora, utilizamos el modelo obtenido con los datos de entrenamiento para predecir los datos de prueba. Además,  calculamos los errores entre la predicción `y_pred2` y los datos de prueba $Yt$. Los errores de la predicción con datos de prueba son representados por un histograma."
      ],
      "metadata": {
        "id": "JNdlFV9m7gJ_"
      }
    },
    {
      "cell_type": "code",
      "source": [
        "y_pred2 = pronostica(results.params,X_test)\n",
        "error2 = y_test - y_pred2\n",
        "err_regress_t = mean_absolute_error(y_test,y_pred2)\n",
        "df = pd.DataFrame(error2,y_test)"
      ],
      "metadata": {
        "id": "m6Wilj2JPWLJ"
      },
      "execution_count": 921,
      "outputs": []
    },
    {
      "cell_type": "code",
      "source": [
        "dibuja_hist(df,colour='#17cb49',name='hist10.png',Xlabel=\"Error\",Ylabel=\"Frecuencia\",title=\"Errores de predicción en cáncer de próstata (prueba)\")"
      ],
      "metadata": {
        "id": "VXisJogBi-ah",
        "colab": {
          "base_uri": "https://localhost:8080/",
          "height": 273
        },
        "outputId": "5c8734a5-d9f3-465e-95e4-3d19824607b4"
      },
      "execution_count": 922,
      "outputs": [
        {
          "output_type": "display_data",
          "data": {
            "text/plain": [
              "<Figure size 432x288 with 0 Axes>"
            ]
          },
          "metadata": {}
        },
        {
          "output_type": "display_data",
          "data": {
            "image/png": "[encoded data removed]",
            "text/plain": [
              "<Figure size 432x216 with 1 Axes>"
            ]
          },
          "metadata": {
            "needs_background": "dark"
          }
        }
      ]
    },
    {
      "cell_type": "markdown",
      "source": [
        "Ahora, calculamos el **error absoluto medio (MAE)** de los datos de entrenamiento así como de los datos de prueba en la predicción de cancer de próstata."
      ],
      "metadata": {
        "id": "oleooDmv8QLp"
      }
    },
    {
      "cell_type": "code",
      "source": [
        "print(\"MAE del modelo de regresión con datos de entrenamiento:\", err_regress)\n",
        "print(\"MAE del modelo de regresión con datos de prueba:\" , err_regress_t) "
      ],
      "metadata": {
        "id": "cu-N1H_czv4v",
        "colab": {
          "base_uri": "https://localhost:8080/"
        },
        "outputId": "35cec70f-722e-469e-b6aa-3bf4cc7711ae"
      },
      "execution_count": 923,
      "outputs": [
        {
          "output_type": "stream",
          "name": "stdout",
          "text": [
            "MAE del modelo de regresión con datos de entrenamiento: 0.49861362344949917\n",
            "MAE del modelo de regresión con datos de prueba: 0.5332335474812145\n"
          ]
        }
      ]
    },
    {
      "cell_type": "markdown",
      "source": [
        "Finalmente calculamos los intervalos de confianza de los coeficientes del modelo de regresión así como los p-values:"
      ],
      "metadata": {
        "id": "N5zUx1thenQV"
      }
    },
    {
      "cell_type": "code",
      "source": [
        "print(results.conf_int(alpha=0.05, cols=None))\n",
        "print(results.pvalues)"
      ],
      "metadata": {
        "colab": {
          "base_uri": "https://localhost:8080/"
        },
        "id": "M2C6_VJgdzhH",
        "outputId": "992b8e09-3cee-4924-8279-8288970f74cb"
      },
      "execution_count": 924,
      "outputs": [
        {
          "output_type": "stream",
          "name": "stdout",
          "text": [
            "[[ 2.27815644  2.62653373]\n",
            " [ 0.44917503  0.983639  ]\n",
            " [ 0.07968993  0.50559488]\n",
            " [-0.34696416  0.0618649 ]\n",
            " [ 0.00558193  0.41843328]\n",
            " [ 0.05862448  0.56061459]\n",
            " [-0.59887957  0.02086833]\n",
            " [-0.30631449  0.26448745]\n",
            " [-0.04211288  0.59680478]]\n",
            "[1.53766865e-35 1.46941496e-06 7.91789491e-03 1.68062590e-01\n",
            " 4.43078420e-02 1.65053869e-02 6.69708471e-02 8.83892314e-01\n",
            " 8.75462787e-02]\n"
          ]
        }
      ]
    },
    {
      "cell_type": "markdown",
      "source": [
        "### Regression del mejor subconjunto aplicado \n",
        "\n",
        "a la predicción de cáncer de próstata aplicaremos la técnica de regresión del mejor subconjunto **(Best Subset Regression)** a los datos de entrenamiento de cáncer de próstata. La aplicación de este método sugiere utilizar las variables (features) [1, 2, 3, 4, 5, 6, 8]; es decir: ['lweight','age','lbph','svi','lcp','gleason','pgg45'] para lograr un mínimo error entre todas las combinaciones de las variables. Otras técnicas de reducción de dimensiones de modelos de regresión puede encontrarse en: [A Comparison of Shrinkage and Selection Methods for Linear Regression](https://towardsdatascience.com/a-comparison-of-shrinkage-and-selection-methods-for-linear-regression-ee4dd3a71f16)."
      ],
      "metadata": {
        "id": "WLdJPNtyEswa"
      }
    },
    {
      "cell_type": "code",
      "source": [
        "## Loop over all possible numbers of features to be included\n",
        "results = pd.DataFrame(columns=['num_features', 'features', 'MAE'])\n",
        "for k in range(1, X_train.shape[1] + 1):\n",
        "    # Loop over all possible subsets of size k\n",
        "    for subset in itertools.combinations(range(X_train.shape[1]), k):\n",
        "        subset = list(subset)        \n",
        "        linreg_model = LinearRegression().fit(X_train[:, subset], y_train)\n",
        "        linreg_prediction = linreg_model.predict(X_train[:, subset])\n",
        "        linreg_mae = np.mean(np.abs(y_train - linreg_prediction))\n",
        "        #print(subset,\" \",linreg_mae)\n",
        "        results = results.append(pd.DataFrame([{'num_features': k,\n",
        "                                                'features': subset,\n",
        "                                                'MAE': linreg_mae}]))\n",
        "print(results.sort_values('MAE'))\n",
        "err_regress_subset = results.sort_values('MAE')['MAE'].head(1)"
      ],
      "metadata": {
        "id": "1WLqN9i8lt2P",
        "colab": {
          "base_uri": "https://localhost:8080/"
        },
        "outputId": "fddbf58b-ec1d-4b5d-e5e7-86a537302181"
      },
      "execution_count": 925,
      "outputs": [
        {
          "output_type": "stream",
          "name": "stdout",
          "text": [
            "   num_features                     features       MAE\n",
            "0             7        [1, 2, 3, 4, 5, 6, 8]  0.497997\n",
            "0             8     [0, 1, 2, 3, 4, 5, 6, 8]  0.497997\n",
            "0             9  [0, 1, 2, 3, 4, 5, 6, 7, 8]  0.498614\n",
            "0             8     [1, 2, 3, 4, 5, 6, 7, 8]  0.498614\n",
            "0             7        [1, 2, 3, 4, 5, 6, 7]  0.504766\n",
            "..          ...                          ...       ...\n",
            "0             2                       [0, 7]  0.904978\n",
            "0             1                          [7]  0.904978\n",
            "0             2                       [0, 3]  0.905767\n",
            "0             1                          [3]  0.905767\n",
            "0             1                          [0]  0.961085\n",
            "\n",
            "[511 rows x 3 columns]\n"
          ]
        }
      ]
    },
    {
      "cell_type": "markdown",
      "source": [
        "## Regresión lineal en predicción de demanda eléctrica\n",
        "\n",
        "A continuación haremos la comparación de resultados de regresión para datos de demanda eléctrica. La variable independiente $X$ serán los datos de demanda del día anterior, y los datos independiente $Y$ serán los datos de días con una mayor correlación. En esta sección, aplicaremos algunas de las técnicas de regresión que aplican reducción de dimensiones y pueden encontrarse en: [A Comparison of Shrinkage and Selection Methods for Linear Regression](https://towardsdatascience.com/a-comparison-of-shrinkage-and-selection-methods-for-linear-regression-ee4dd3a71f16).\n",
        "\n",
        "Los datos usados en esta sección están disponibles en [demanda.csv](https://drive.google.com/file/d/1KpY2p4bfVEwGRh5tJjMx9QpH6SEwrUwH/view?usp=sharing)"
      ],
      "metadata": {
        "id": "Ext-myaET2n5"
      }
    },
    {
      "cell_type": "code",
      "source": [
        "df = pd.read_csv('demanda.csv')"
      ],
      "metadata": {
        "id": "ymjPNdm3qKvY"
      },
      "execution_count": 926,
      "outputs": []
    },
    {
      "cell_type": "code",
      "source": [
        "## Procesamos datos de entrenamiento \n",
        "df1 = df.loc[df.iloc[:,19].isin(['T'])] ## 'T' = training set\n",
        "df2 = df1['Y']  \n",
        "df1 = df1[['X1','X2','X3','X4','X5','X6','X7','X8','X9','X10']] ## Regresores"
      ],
      "metadata": {
        "id": "dOt5Pvh236eH"
      },
      "execution_count": 927,
      "outputs": []
    },
    {
      "cell_type": "markdown",
      "source": [
        "Ahora, cargamos los datos de prueba en los arreglos `X_train` y `y_train`:"
      ],
      "metadata": {
        "id": "FvGY61ii36eJ"
      }
    },
    {
      "cell_type": "code",
      "source": [
        "## Procesamos datos de prueba \n",
        "dft = df.loc[df.iloc[:,19].isin(['F'])] ## 'F' = test set\n",
        "dft2 = dft['Y']\n",
        "dft1 = dft[['X1','X2','X3','X4','X5','X6','X7','X8','X9','X10']] ## Regresores"
      ],
      "metadata": {
        "id": "3DgWcQZe36eJ"
      },
      "execution_count": 928,
      "outputs": []
    },
    {
      "cell_type": "markdown",
      "source": [
        "Estandarizamos los datos de los regresores `X_train` y `X_test` restando la media y dividiendo entre la varianza."
      ],
      "metadata": {
        "id": "ZFUp6FdS36eJ"
      }
    },
    {
      "cell_type": "code",
      "source": [
        "df1.std(numeric_only = True) \n",
        "df1.mean(numeric_only = True)\n",
        "df1 = df1 - df1.mean(numeric_only = True)\n",
        "df1 = df1 / df1.std(numeric_only = True) \n",
        "X_train = df1.to_numpy()   ## Predictors\n",
        "X_train = sm.add_constant(X_train)\n",
        "y_train = df2.to_numpy()   ## Outcome"
      ],
      "metadata": {
        "id": "BqsrHU-536eJ"
      },
      "execution_count": 929,
      "outputs": []
    },
    {
      "cell_type": "code",
      "source": [
        "dft1.std(numeric_only = True) \n",
        "dft1.mean(numeric_only = True)\n",
        "dft1 = dft1 - dft1.mean(numeric_only = True)\n",
        "dft1 = dft1 / dft1.std(numeric_only = True) \n",
        "X_test = dft1.to_numpy()   ## Predictors\n",
        "X_test = sm.add_constant(X_test)\n",
        "y_test = dft2.to_numpy()   ## Outcome"
      ],
      "metadata": {
        "id": "FmH8rdovM4O9"
      },
      "execution_count": 930,
      "outputs": []
    },
    {
      "cell_type": "markdown",
      "source": [
        "A continuación, obtenemos un modelo de predicción de los datos de entrenamiento usando regresión lineal."
      ],
      "metadata": {
        "id": "Tj0Pzrbf36eJ"
      }
    },
    {
      "cell_type": "code",
      "source": [
        "model   = sm.OLS(y_train, X_train)\n",
        "results = model.fit()\n",
        "print(results.summary()) \n",
        "#print(results.params)"
      ],
      "metadata": {
        "colab": {
          "base_uri": "https://localhost:8080/"
        },
        "outputId": "576452d7-ace6-406d-db73-6c81928322a9",
        "id": "8ON7WxxR36eK"
      },
      "execution_count": 931,
      "outputs": [
        {
          "output_type": "stream",
          "name": "stdout",
          "text": [
            "                            OLS Regression Results                            \n",
            "==============================================================================\n",
            "Dep. Variable:                      y   R-squared:                       0.931\n",
            "Model:                            OLS   Adj. R-squared:                  0.929\n",
            "Method:                 Least Squares   F-statistic:                     374.1\n",
            "Date:                Tue, 25 Jan 2022   Prob (F-statistic):          1.64e-154\n",
            "Time:                        06:39:45   Log-Likelihood:                -1845.7\n",
            "No. Observations:                 288   AIC:                             3713.\n",
            "Df Residuals:                     277   BIC:                             3754.\n",
            "Df Model:                          10                                         \n",
            "Covariance Type:            nonrobust                                         \n",
            "==============================================================================\n",
            "                 coef    std err          t      P>|t|      [0.025      0.975]\n",
            "------------------------------------------------------------------------------\n",
            "const       8675.5029      8.826    983.002      0.000    8658.129    8692.877\n",
            "x1           208.7708     36.890      5.659      0.000     136.150     281.391\n",
            "x2           143.5620     47.055      3.051      0.003      50.931     236.193\n",
            "x3           106.2065     40.503      2.622      0.009      26.473     185.940\n",
            "x4            26.4329     47.279      0.559      0.577     -66.640     119.505\n",
            "x5            73.0426     37.826      1.931      0.055      -1.420     147.506\n",
            "x6           -58.6241     45.224     -1.296      0.196    -147.650      30.401\n",
            "x7           103.0077     38.558      2.671      0.008      27.103     178.913\n",
            "x8           -69.8054     46.643     -1.497      0.136    -161.624      22.014\n",
            "x9            72.8181     34.088      2.136      0.034       5.715     139.922\n",
            "x10          -54.7340     42.003     -1.303      0.194    -137.419      27.951\n",
            "==============================================================================\n",
            "Omnibus:                       20.734   Durbin-Watson:                   0.437\n",
            "Prob(Omnibus):                  0.000   Jarque-Bera (JB):               27.190\n",
            "Skew:                          -0.538   Prob(JB):                     1.25e-06\n",
            "Kurtosis:                       4.053   Cond. No.                         19.4\n",
            "==============================================================================\n",
            "\n",
            "Warnings:\n",
            "[1] Standard Errors assume that the covariance matrix of the errors is correctly specified.\n"
          ]
        }
      ]
    },
    {
      "cell_type": "markdown",
      "source": [
        "Ahora, calculamos los errores entre la predicción `y_pred` y los datos de entrenamiento `y_train`. Los errores son representados por un histograma."
      ],
      "metadata": {
        "id": "Gusdya9P36eK"
      }
    },
    {
      "cell_type": "code",
      "source": [
        "y_pred     = pronostica(results.params,X_train)\n",
        "error      = y_train - y_pred\n",
        "err_train  = mean_absolute_error(y_pred,y_train)\n",
        "bias_train = bias.bias(y_pred,y_train, axis=0)\n",
        "df         = pd.DataFrame(error,y_train)"
      ],
      "metadata": {
        "id": "FU9kgMvU36eL"
      },
      "execution_count": 932,
      "outputs": []
    },
    {
      "cell_type": "code",
      "source": [
        "dibuja_hist(df,colour='#777bd4',name='hist11.png',Xlabel=\"Error\",Ylabel=\"Frecuencia\",title=\"Errores de predicción de demanda eléctrica (entrenamiento)\")"
      ],
      "metadata": {
        "colab": {
          "base_uri": "https://localhost:8080/",
          "height": 275
        },
        "outputId": "6b1368d9-a0e4-4d2d-881f-5835a83490b8",
        "id": "0sKG4Kui36eL"
      },
      "execution_count": 933,
      "outputs": [
        {
          "output_type": "display_data",
          "data": {
            "text/plain": [
              "<Figure size 432x288 with 0 Axes>"
            ]
          },
          "metadata": {}
        },
        {
          "output_type": "display_data",
          "data": {
            "image/png": "[encoded data removed]",
            "text/plain": [
              "<Figure size 432x216 with 1 Axes>"
            ]
          },
          "metadata": {
            "needs_background": "dark"
          }
        }
      ]
    },
    {
      "cell_type": "markdown",
      "source": [
        "Ahora, utilizamos el modelo obtenido con los datos de entrenamiento para predecir los datos de prueba. Además,  calculamos los errores entre la predicción `y_pred2` y los datos de prueba $Yt$. Los errores de la predicción con datos de prueba son representados por un histograma."
      ],
      "metadata": {
        "id": "fmGnl57J36eM"
      }
    },
    {
      "cell_type": "code",
      "source": [
        "y_pred2   = pronostica(results.params,X_test) #print(y_pred2)\n",
        "error2    = y_test - y_pred2\n",
        "err_test  = mean_absolute_error(y_test,y_pred2)\n",
        "bias_test = bias.bias(y_test,y_pred2,axis=0)\n",
        "df        = pd.DataFrame(error2,y_test)"
      ],
      "metadata": {
        "id": "FC1aHj0f36eM"
      },
      "execution_count": 934,
      "outputs": []
    },
    {
      "cell_type": "code",
      "source": [
        "dibuja_hist(df,colour='#76ced6',name='hist12.png',Xlabel=\"Error\",Ylabel=\"Frecuencia\",title=\"Errores de predicción de demanda eléctrica (prueba)\")"
      ],
      "metadata": {
        "colab": {
          "base_uri": "https://localhost:8080/",
          "height": 281
        },
        "outputId": "5103f7e5-75db-46e0-d97a-b89528e81873",
        "id": "ps1Mzex236eM"
      },
      "execution_count": 935,
      "outputs": [
        {
          "output_type": "display_data",
          "data": {
            "text/plain": [
              "<Figure size 432x288 with 0 Axes>"
            ]
          },
          "metadata": {}
        },
        {
          "output_type": "display_data",
          "data": {
            "image/png": "[encoded data removed]",
            "text/plain": [
              "<Figure size 432x216 with 1 Axes>"
            ]
          },
          "metadata": {
            "needs_background": "dark"
          }
        }
      ]
    },
    {
      "cell_type": "markdown",
      "source": [
        "Ahora, comparamos el **error absoluto medio (MAE)** y **bias** de los datos de entrenamiento así como de los datos de prueba en la predicción de cancer de próstata."
      ],
      "metadata": {
        "id": "Htn6tkPb36eM"
      }
    },
    {
      "cell_type": "code",
      "source": [
        "print(\"MAE y bias del modelo de regresión con datos de entrenamiento:\", err_train, \",\" , bias_train)\n",
        "print(\"MAE y bias del modelo de regresión con datos de prueba:\" , err_test, \",\" , bias_test) "
      ],
      "metadata": {
        "colab": {
          "base_uri": "https://localhost:8080/"
        },
        "outputId": "4d4cc4cb-a4d9-4331-b214-e44d5b82339a",
        "id": "MjX6GBAq36eM"
      },
      "execution_count": 936,
      "outputs": [
        {
          "output_type": "stream",
          "name": "stdout",
          "text": [
            "MAE y bias del modelo de regresión con datos de entrenamiento: 112.47212814878469 , 5.728553434083652e-12\n",
            "MAE y bias del modelo de regresión con datos de prueba: 394.56277116389936 , -379.36295032986135\n"
          ]
        }
      ]
    },
    {
      "cell_type": "markdown",
      "source": [
        "### Regresión de mejor subconjunto aplicado a la predicción de pronóstico de demanda eléctrica\n",
        "Aplicaremos la técnica de regression del mejor subconjunto **(Best Subset Regression)** a los datos de entrenamiento de pronóstico de demanda.\n",
        "Otras técnicas de reducción de dimensión y compactación de modelos de regresión puede encontrarse en: [A Comparison of Shrinkage and Selection Methods for Linear Regression](https://towardsdatascience.com/a-comparison-of-shrinkage-and-selection-methods-for-linear-regression-ee4dd3a71f16). La aplicación de este método sugiere utilizar las variables (features) (0, 1, 2, 3, 5, 7, 9]; es decir [X1, X2, X3, X6, X8, X10] para lograr un mínimo error entre todas las combinaciones de las variables."
      ],
      "metadata": {
        "id": "3xbxnmdF36eN"
      }
    },
    {
      "cell_type": "code",
      "source": [
        "## Loop over all possible numbers of features to be included\n",
        "results = pd.DataFrame(columns=['num_features', 'features', 'MAE'])\n",
        "for k in range(1, X_train.shape[1] + 1):\n",
        "    # Loop over all possible subsets of size k\n",
        "    for subset in itertools.combinations(range(X_train.shape[1]), k):\n",
        "        subset = list(subset)        \n",
        "        linreg_model = LinearRegression().fit(X_train[:, subset], y_train)\n",
        "        linreg_prediction = linreg_model.predict(X_train[:, subset])\n",
        "        linreg_mae = np.mean(np.abs(y_train - linreg_prediction))\n",
        "        results = results.append(pd.DataFrame([{'num_features': k,\n",
        "                                                'features': subset,\n",
        "                                                'MAE': linreg_mae}]))\n",
        "print(results.sort_values('MAE'))\n",
        "subset_best = list(results.sort_values('MAE')['features'].head(1)[0]) ## Seleccionamos el mejor subconjunto con menor MAE"
      ],
      "metadata": {
        "colab": {
          "base_uri": "https://localhost:8080/"
        },
        "outputId": "5e9d54cc-7b7c-4e1e-d063-d1b4e392370d",
        "id": "yOdcji-136eN"
      },
      "execution_count": 937,
      "outputs": [
        {
          "output_type": "stream",
          "name": "stdout",
          "text": [
            "   num_features                      features         MAE\n",
            "0             7         [0, 1, 2, 3, 5, 7, 9]  110.867369\n",
            "0             6            [1, 2, 3, 5, 7, 9]  110.867369\n",
            "0             6            [0, 1, 2, 3, 5, 7]  110.919145\n",
            "0             5               [1, 2, 3, 5, 7]  110.919145\n",
            "0             9  [0, 1, 2, 3, 4, 5, 7, 9, 10]  110.991807\n",
            "..          ...                           ...         ...\n",
            "0             1                           [7]  152.292525\n",
            "0             2                        [0, 7]  152.292525\n",
            "0             1                          [10]  157.380566\n",
            "0             2                       [0, 10]  157.380566\n",
            "0             1                           [0]  474.064100\n",
            "\n",
            "[2047 rows x 3 columns]\n"
          ]
        }
      ]
    },
    {
      "cell_type": "code",
      "source": [
        "modelsub = LinearRegression().fit(X_train[:, subset_best], y_train)\n",
        "subset_prediction = modelsub.predict(X_test[:, subset_best])\n",
        "err_test_subset  = np.mean(np.abs(y_test - subset_prediction))\n",
        "bias_test_subset = bias.bias(y_test,subset_prediction,axis=0)\n",
        "print(\"MAE y bias del modelo de regresión con datos de prueba (subset):\" , err_test_subset, \",\" , bias_test_subset) "
      ],
      "metadata": {
        "colab": {
          "base_uri": "https://localhost:8080/"
        },
        "id": "dVg6OHvRaiSc",
        "outputId": "bf8ef4b6-5d27-421e-a141-a97f45f86b79"
      },
      "execution_count": 938,
      "outputs": [
        {
          "output_type": "stream",
          "name": "stdout",
          "text": [
            "MAE y bias del modelo de regresión con datos de prueba (subset): 392.79996626911606 , -379.36295032985856\n"
          ]
        }
      ]
    },
    {
      "cell_type": "markdown",
      "source": [
        "### Regresión Ridge aplicada a la predicción de pronóstico de demanda eléctrica\n",
        "Aplicaremos la técnica de regresión ridge **(Ridge Regression)** a los datos de entrenamiento de pronóstico de demanda."
      ],
      "metadata": {
        "id": "y2olnab_1-xx"
      }
    },
    {
      "cell_type": "code",
      "source": [
        "ridge_cv = RidgeCV(normalize=True, alphas=np.logspace(-10, 1, 400))\n",
        "ridge_model = ridge_cv.fit(X_train, y_train)\n",
        "ridge_prediction = ridge_model.predict(X_test)\n",
        "err_test_ridge = np.mean(np.abs(y_test - ridge_prediction))  ## MAE\n",
        "bias_test_ridge = bias.bias(y_test,ridge_prediction,axis=0)\n",
        "#print(ridge_model.intercept_)\n",
        "#print(ridge_model.coef_)\n",
        "print(\"MAE y bias del modelo de regresión con datos de prueba (ridge):\" , err_test_ridge, \",\" , bias_test_ridge)"
      ],
      "metadata": {
        "colab": {
          "base_uri": "https://localhost:8080/"
        },
        "id": "-kQKCR6t2AEo",
        "outputId": "0efaa862-c08b-4740-d677-f31deba1b87b"
      },
      "execution_count": 939,
      "outputs": [
        {
          "output_type": "stream",
          "name": "stdout",
          "text": [
            "MAE y bias del modelo de regresión con datos de prueba (ridge): 392.4197143709269 , -379.3629503298573\n"
          ]
        }
      ]
    },
    {
      "cell_type": "markdown",
      "source": [
        "### Regresión Lasso aplicada a la predicción de pronóstico de demanda eléctrica\n",
        "Aplicaremos la técnica de regresión lasso **(lasso regression)** a los datos de entrenamiento de pronóstico de demanda."
      ],
      "metadata": {
        "id": "RYAznlF6h0Cd"
      }
    },
    {
      "cell_type": "code",
      "source": [
        "lasso_cv         = LassoCV(normalize=True, alphas=np.logspace(-10, 1, 400))\n",
        "lasso_model      = lasso_cv.fit(X_train, y_train)\n",
        "lasso_prediction = lasso_model.predict(X_test)\n",
        "err_test_lasso   = np.mean(np.abs(y_test - lasso_prediction)) ## MAE\n",
        "bias_test_lasso  = bias.bias(y_test,lasso_prediction,axis=0)\n",
        "#print(lasso_model.intercept_)\n",
        "#print(lasso_model.coef_)\n",
        "print(\"MAE y bias del modelo de regresión con datos de prueba (lasso):\" , err_test_lasso, \",\" , bias_test_lasso)"
      ],
      "metadata": {
        "colab": {
          "base_uri": "https://localhost:8080/"
        },
        "id": "0i6zUJVPhyuj",
        "outputId": "40a0a239-186e-47a5-9293-313c71cca36a"
      },
      "execution_count": 940,
      "outputs": [
        {
          "output_type": "stream",
          "name": "stdout",
          "text": [
            "MAE y bias del modelo de regresión con datos de prueba (lasso): 391.375596296625 , -379.3629503298587\n"
          ]
        }
      ]
    },
    {
      "cell_type": "markdown",
      "source": [
        "### Regresión de componentes principales aplicado a la predicción de pronóstico de demanda eléctrica\n",
        "Aplicaremos la técnica de regresión de componentes principales **(Principal Components Regression)** a los datos de entrenamiento de pronóstico de demanda."
      ],
      "metadata": {
        "id": "Td5jAKz6rSf0"
      }
    },
    {
      "cell_type": "code",
      "source": [
        "regression_model = LinearRegression(normalize=True)\n",
        "pca_model = PCA()\n",
        "pipe = Pipeline(steps=[('pca', pca_model), ('least_squares', regression_model)])\n",
        "param_grid = {'pca__n_components': range(1, 9)}\n",
        "search = GridSearchCV(pipe, param_grid)\n",
        "pcr_model = search.fit(X_train, y_train)\n",
        "pcr_prediction = pcr_model.predict(X_test)\n",
        "err_test_pcr = np.mean(np.abs(y_test - pcr_prediction))  ## MAE\n",
        "bias_test_pcr  = bias.bias(y_test,lasso_prediction,axis=0)\n",
        "n_comp = list(pcr_model.best_params_.values())[0]\n",
        "\n",
        "print(\"MAE y bias del modelo de regresión con datos de prueba (pcr):\" , err_test_pcr, \",\" , bias_test_pcr)"
      ],
      "metadata": {
        "colab": {
          "base_uri": "https://localhost:8080/"
        },
        "id": "nTyo6pwasOHf",
        "outputId": "1044e7ad-1f76-4be9-8bdc-b36a9e94162b"
      },
      "execution_count": 941,
      "outputs": [
        {
          "output_type": "stream",
          "name": "stdout",
          "text": [
            "MAE y bias del modelo de regresión con datos de prueba (pcr): 386.49000938187555 , -379.3629503298587\n"
          ]
        }
      ]
    },
    {
      "cell_type": "markdown",
      "source": [
        "### Regresión por mínimos cuadrados parciales aplicado a la predicción de pronóstico de demanda eléctrica\n",
        "Aplicaremos la técnica de regresión de componentes principales **(Partial Least Squares)** a los datos de entrenamiento de pronóstico de demanda."
      ],
      "metadata": {
        "id": "gHuO3KI7segK"
      }
    },
    {
      "cell_type": "code",
      "source": [
        "pls_model_setup = PLSRegression(scale=True)\n",
        "param_grid = {'n_components': range(1, 9)}\n",
        "search = GridSearchCV(pls_model_setup, param_grid)\n",
        "pls_model = search.fit(X_train, y_train)\n",
        "pls_prediction = pls_model.predict(X_test)\n",
        "err_test_pls = np.mean(np.abs(y_test - pls_prediction))  ## MAE\n",
        "bias_test_pls = bias.bias(y_test,lasso_prediction,axis=0)\n",
        "#print(pls_model.best_estimator_.coef_)\n",
        "print(\"MAE y bias del modelo de regresión con datos de prueba (pls):\" , err_test_pls, \",\" , bias_test_pls)"
      ],
      "metadata": {
        "colab": {
          "base_uri": "https://localhost:8080/"
        },
        "id": "rN0aNDq0sq-u",
        "outputId": "a8e98179-f27e-4c31-f527-3a101ed9d102"
      },
      "execution_count": 942,
      "outputs": [
        {
          "output_type": "stream",
          "name": "stdout",
          "text": [
            "MAE y bias del modelo de regresión con datos de prueba (pls): 633.3116646941804 , -379.3629503298587\n"
          ]
        }
      ]
    },
    {
      "cell_type": "markdown",
      "source": [
        ""
      ],
      "metadata": {
        "id": "ULgJnhpNKVfH"
      }
    },
    {
      "cell_type": "code",
      "source": [
        "dfreg=pd.DataFrame(y_pred2)\n",
        "dfpcr=pd.DataFrame(pcr_prediction)\n",
        "dfpls=pd.DataFrame(pls_prediction)\n",
        "dflas=pd.DataFrame(lasso_prediction)\n",
        "dfsub=pd.DataFrame(subset_prediction)\n",
        "dfrid=pd.DataFrame(ridge_prediction)\n",
        "dftest=pd.DataFrame(y_test)\n",
        "plt.figure(figsize=(10,5))\n",
        "plt.plot(dfreg, '--', label='pronóstico reg')\n",
        "plt.plot(dfpcr, '--', label='pronóstico pcr')\n",
        "plt.plot(dfpls, '--', label='pronóstico pls')\n",
        "plt.plot(dflas, '--', label='pronóstico lasso')\n",
        "plt.plot(dfsub, '--', label='pronóstico subset')\n",
        "plt.plot(dfrid, '--', label='pronóstico ridge')\n",
        "plt.plot(dftest, '.-', label='y_test')\n",
        "plt.xticks(rotation=90)\n",
        "plt.legend()\n",
        "plt.title('Demanda eléctrica en MW')\n",
        "plt.show()\n"
      ],
      "metadata": {
        "colab": {
          "base_uri": "https://localhost:8080/",
          "height": 345
        },
        "id": "0XvHRJl_KVF7",
        "outputId": "4e24cca1-e1ff-420b-8c97-d35226222fa1"
      },
      "execution_count": 964,
      "outputs": [
        {
          "output_type": "display_data",
          "data": {
            "image/png": "[encoded data removed]",
            "text/plain": [
              "<Figure size 720x360 with 1 Axes>"
            ]
          },
          "metadata": {
            "needs_background": "light"
          }
        }
      ]
    }
  ]
}
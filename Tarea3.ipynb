{
  "nbformat": 4,
  "nbformat_minor": 0,
  "metadata": {
    "colab": {
      "name": "Tarea3.ipynb",
      "provenance": [],
      "collapsed_sections": [],
      "authorship_tag": "ABX9TyPpPf9Sn9OQ3zpeVsoidMXu",
      "include_colab_link": true
    },
    "kernelspec": {
      "name": "python3",
      "display_name": "Python 3"
    },
    "language_info": {
      "name": "python"
    }
  },
  "cells": [
    {
      "cell_type": "markdown",
      "metadata": {
        "id": "view-in-github",
        "colab_type": "text"
      },
      "source": [
        "<a href=\"https://colab.research.google.com/github/urieliram/statistical/blob/main/Tarea3.ipynb\" target=\"_parent\"><img src=\"https://colab.research.google.com/assets/colab-badge.svg\" alt=\"Open In Colab\"/></a>"
      ]
    },
    {
      "cell_type": "markdown",
      "source": [
        "# Tarea 3\n",
        "*Repeat the steps of the prostate cancer example in Section 3.2.1 using Python, first as a uni-variate problem using the book's data set and then as a multi-variate problem with data from your own project. Calculate also the p-values and the confidence intervals for the model's coefficients for the uni-variate version. Experiment, using libraries, also with subset selection.*\n",
        "\n",
        "Los datos utilizados en este cuaderno están disponibles aquí: [datasets](https://drive.google.com/drive/folders/159GnBJQDxTY9oYqPBZzdNghyb4Gd9pDS?usp=sharing) \n"
      ],
      "metadata": {
        "id": "mSp-SqxZkCFc"
      }
    },
    {
      "cell_type": "code",
      "source": [
        "import numpy as np\n",
        "import pandas as pd\n",
        "%matplotlib inline\n",
        "from sklearn.linear_model import LinearRegression\n",
        "from sklearn.metrics import mean_absolute_error\n",
        "from sklearn.metrics import mean_squared_error\n",
        "import matplotlib.pyplot as plt\n",
        "from sklearn.metrics import r2_score\n",
        "import scipy.stats\n",
        "import statsmodels.api as sm"
      ],
      "metadata": {
        "id": "3ghzTDgI8c3z"
      },
      "execution_count": 131,
      "outputs": []
    },
    {
      "cell_type": "markdown",
      "source": [
        "## Regresión líneal en cáncer de próstata\n",
        "A continuación usaremos un modelo de regresión líneal para resolver el problema de ZIP-code [2,3] del libro [liga](https://link.springer.com/book/10.1007/978-0-387-84858-7)."
      ],
      "metadata": {
        "id": "eqqBrWsXfSz-"
      }
    },
    {
      "cell_type": "markdown",
      "source": [
        "Iniciamos cargando los datos de entrenamiento y almacenando en $X$ y $Y$:"
      ],
      "metadata": {
        "id": "TQNC-rPq2rX0"
      }
    },
    {
      "cell_type": "code",
      "source": [
        "df = pd.read_csv('prostata.csv') #https://github.com/maitbayev/the-elements-of-statistical-learning/blob/master/data/prostate/prostate.info\n",
        "## Datos de entrenamiento \n",
        "df1 = df.loc[df.iloc[:,10].isin(['T'])] ## T = training set\n",
        "df2 = df1['lpsa']\n",
        "df1 = df1[['lcavol','lweight','age','lbph','svi','lcp','gleason','pgg45']]\n",
        "X  = df1.to_numpy() ## Predictors\n",
        "Y  = df2.to_numpy() ## Outcome"
      ],
      "metadata": {
        "id": "KkgmRwj9DGuy"
      },
      "execution_count": 132,
      "outputs": []
    },
    {
      "cell_type": "markdown",
      "source": [
        "Ahora, cargamos los datos de prueba en los arreglos $Xt$ y $Yt$:"
      ],
      "metadata": {
        "id": "e5rFHCBCv0uP"
      }
    },
    {
      "cell_type": "code",
      "source": [
        "## Datos de prueba \n",
        "dft = df.loc[df.iloc[:,10].isin(['F'])] ## F = test set\n",
        "dft2 = dft['lpsa']\n",
        "dft1 = dft[['lcavol','lweight','age','lbph','svi','lcp','gleason','pgg45']]\n",
        "Xt  = dft1.to_numpy() ## Predictors\n",
        "Yt  = dft2.to_numpy() ## Outcome"
      ],
      "metadata": {
        "id": "s234YPXO3A4l"
      },
      "execution_count": 133,
      "outputs": []
    },
    {
      "cell_type": "markdown",
      "source": [
        "A continuación, obtenemos un modelo de predicción de los datos de entrenamiento usando regresión lineal. Posteriomente, calculamos los errores entre la predicción `y_pred` y los datos de entrenamiento $Y$. Los errores de la predicción con datos de entrenamiento son representados por un histograma."
      ],
      "metadata": {
        "id": "EjYtoCrn5UIv"
      }
    },
    {
      "cell_type": "code",
      "source": [
        "model = LinearRegression().fit(X, Y) #https://realpython.com/linear-regression-in-python/\n",
        "y_pred = model.predict(X)\n",
        "error = Y - y_pred\n",
        "df = pd.DataFrame(error,Y) #df.to_csv('error.csv')\n",
        "err_regress = mean_absolute_error(Y,y_pred)"
      ],
      "metadata": {
        "id": "sjO0ZO11timQ"
      },
      "execution_count": 134,
      "outputs": []
    },
    {
      "cell_type": "code",
      "source": [
        "def dibuja_hist(df,colour,name,Xlabel,Ylabel,title):\n",
        "    plt.figure()\n",
        "    df.hist(column=0, bins=25, grid=False, figsize=(6,3), color=colour, zorder=2, rwidth=0.9)\n",
        "    plt.xticks(rotation=90)\n",
        "    plt.xlabel(Xlabel)\n",
        "    plt.ylabel(Ylabel)\n",
        "    #https://stackoverflow.com/questions/9662995/matplotlib-change-title-and-colorbar-text-and-tick-colors/42020486\n",
        "    mytitle = plt.title(title) # get the title property handler   #plt.getp(title_obj)  \n",
        "    plt.setp(mytitle, color='#ff8000')                            # set the color of title\n",
        "    myax = plt.axes()   # get the axis property handler           # plt.getp(myax) print its propieties\n",
        "    myax.xaxis.label.set_color('#ff8000')\n",
        "    myax.yaxis.label.set_color('#ff8000')\n",
        "    myax.tick_params(colors='#ff8000', which='both')              # myax.spines['bottom'].set_color('yellow')\n",
        "    plt.savefig(name, transparent=True)\n",
        "    plt.show() # o plt.save_en_algún_formato()"
      ],
      "metadata": {
        "id": "KAYlAFp2ELGZ"
      },
      "execution_count": 135,
      "outputs": []
    },
    {
      "cell_type": "code",
      "source": [
        "dibuja_hist(df,colour='#17cb49',name='hist1.png',Xlabel=\"Error\",Ylabel=\"Frecuencia\",title=\"Errores de predicción en cáncer de próstata (entrenamiento)\")\n",
        "#df.hist(column=0, bins=25, grid=False, figsize=(6,3), color='#17cb49', zorder=2, rwidth=0.9)"
      ],
      "metadata": {
        "colab": {
          "base_uri": "https://localhost:8080/",
          "height": 327
        },
        "outputId": "c468906d-4d39-4301-b082-4efb79531a97",
        "id": "CBL2jAXL7dxk"
      },
      "execution_count": 136,
      "outputs": [
        {
          "output_type": "stream",
          "name": "stderr",
          "text": [
            "/usr/local/lib/python3.7/dist-packages/ipykernel_launcher.py:10: MatplotlibDeprecationWarning: Adding an axes using the same arguments as a previous axes currently reuses the earlier instance.  In a future version, a new instance will always be created and returned.  Meanwhile, this warning can be suppressed, and the future behavior ensured, by passing a unique label to each axes instance.\n",
            "  # Remove the CWD from sys.path while we load stuff.\n"
          ]
        },
        {
          "output_type": "display_data",
          "data": {
            "text/plain": [
              "<Figure size 432x288 with 0 Axes>"
            ]
          },
          "metadata": {}
        },
        {
          "output_type": "display_data",
          "data": {
            "image/png": "[encoded data removed]",
            "text/plain": [
              "<Figure size 432x216 with 1 Axes>"
            ]
          },
          "metadata": {
            "needs_background": "dark"
          }
        }
      ]
    },
    {
      "cell_type": "markdown",
      "source": [
        "Ahora, utilizamos el modelo obtenido con los datos de entrenamiento para predecir los datos de prueba. Además,  calculamos los errores entre la predicción `y_pred2` y los datos de prueba $Yt$. Los errores de la predicción con datos de prueba son representados por un histograma."
      ],
      "metadata": {
        "id": "JNdlFV9m7gJ_"
      }
    },
    {
      "cell_type": "code",
      "source": [
        "y_pred2 = model.predict(Xt)\n",
        "error2 = Yt - y_pred2\n",
        "df = pd.DataFrame(error2,Yt) #df.to_csv('error2.csv')\n",
        "err_regress_t = mean_absolute_error(Yt,y_pred2)"
      ],
      "metadata": {
        "id": "m6Wilj2JPWLJ"
      },
      "execution_count": 137,
      "outputs": []
    },
    {
      "cell_type": "code",
      "source": [
        "dibuja_hist(df,colour='#17cb49',name='hist2.png',Xlabel=\"Error\",Ylabel=\"Frecuencia\",title=\"Errores de predicción en cáncer de próstata (prueba)\")\n",
        "#df.hist(column=0, bins=25, grid=False, figsize=(6,3), color='#17cb49', zorder=2, rwidth=0.9)"
      ],
      "metadata": {
        "colab": {
          "base_uri": "https://localhost:8080/",
          "height": 327
        },
        "id": "VXisJogBi-ah",
        "outputId": "4e719a91-d710-4c56-bc9a-36d9749498e1"
      },
      "execution_count": 138,
      "outputs": [
        {
          "output_type": "stream",
          "name": "stderr",
          "text": [
            "/usr/local/lib/python3.7/dist-packages/ipykernel_launcher.py:10: MatplotlibDeprecationWarning: Adding an axes using the same arguments as a previous axes currently reuses the earlier instance.  In a future version, a new instance will always be created and returned.  Meanwhile, this warning can be suppressed, and the future behavior ensured, by passing a unique label to each axes instance.\n",
            "  # Remove the CWD from sys.path while we load stuff.\n"
          ]
        },
        {
          "output_type": "display_data",
          "data": {
            "text/plain": [
              "<Figure size 432x288 with 0 Axes>"
            ]
          },
          "metadata": {}
        },
        {
          "output_type": "display_data",
          "data": {
            "image/png": "[encoded data removed]",
            "text/plain": [
              "<Figure size 432x216 with 1 Axes>"
            ]
          },
          "metadata": {
            "needs_background": "dark"
          }
        }
      ]
    },
    {
      "cell_type": "markdown",
      "source": [
        "Por último calculamos el **error absoluto medio (MAE)** de los datos de entrenamiento así como de los datos de prueba."
      ],
      "metadata": {
        "id": "oleooDmv8QLp"
      }
    },
    {
      "cell_type": "code",
      "source": [
        "print(\"MAE del modelo de regresión con datos de entrenamiento:\", err_regress)\n",
        "print(\"MAE del modelo de regresión con datos de prueba:\", err_regress_t) "
      ],
      "metadata": {
        "colab": {
          "base_uri": "https://localhost:8080/"
        },
        "id": "cu-N1H_czv4v",
        "outputId": "e1051448-e48a-4f8d-b27f-74430b95548f"
      },
      "execution_count": 139,
      "outputs": [
        {
          "output_type": "stream",
          "name": "stdout",
          "text": [
            "MAE del modelo de regresión con datos de entrenamiento: 0.49861362344949917\n",
            "MAE del modelo de regresión con datos de prueba: 0.523371942676903\n"
          ]
        }
      ]
    }
  ]
}
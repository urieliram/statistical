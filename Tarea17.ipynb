{
  "nbformat": 4,
  "nbformat_minor": 0,
  "metadata": {
    "colab": {
      "name": "Tarea17.ipynb",
      "provenance": [],
      "authorship_tag": "ABX9TyPcvyOaoq0V8Fl/kOEHoXlE",
      "include_colab_link": true
    },
    "kernelspec": {
      "name": "python3",
      "display_name": "Python 3"
    },
    "language_info": {
      "name": "python"
    }
  },
  "cells": [
    {
      "cell_type": "markdown",
      "metadata": {
        "id": "view-in-github",
        "colab_type": "text"
      },
      "source": [
        "<a href=\"https://colab.research.google.com/github/urieliram/statistical/blob/main/Tarea17.ipynb\" target=\"_parent\"><img src=\"https://colab.research.google.com/assets/colab-badge.svg\" alt=\"Open In Colab\"/></a>"
      ]
    },
    {
      "cell_type": "code",
      "source": [
        "import numpy as np\n",
        "import networkx as nx\n",
        "import matplotlib.pyplot as plt"
      ],
      "metadata": {
        "id": "MSOTcPRSeNJ0"
      },
      "execution_count": 41,
      "outputs": []
    },
    {
      "cell_type": "code",
      "execution_count": 46,
      "metadata": {
        "id": "iQMBNx3RdFBE"
      },
      "outputs": [],
      "source": [
        "serie = [0,9,2,0,2,5,5,0,0,5,1,9,2,1,3,6,5,4,4,0,2,5,0,0,7,5,5,1,5,0,5,2,1,6,4,0,3,\n",
        "         7,6,4,6,4,9,3,5,5,5,5,6,0,0,5,2,6,1,0,2,6,6,5,4,2,6,0,2,5,4,0,5,5,3,6,6,1,\n",
        "         2,1,0,4,1,4,5,6,8,1,9,0,9,2,6,7,4,2,0,3,1,5,0,5,4,9,6,5,0,5,9,9,2,5,\n",
        "         1,1,7,7,9,8,1,8,7,0,2,7,6,1,1,6,6,5,9,2,7,9,0,1,2,9,7,9,2,0,7,5,5,5,5,7,9,\n",
        "         9,0,7,5,5,6,0,4,3,5,5,3,5,0,2,0,5,0,5,6,4,3,4,9,2,6,2,8,0,4,7,6,5,2,0,3,2,\n",
        "         3,0,6,2,6,6,4,5,0,6,1,4,9,6,0,3,6,9,5,0,2,4,3,5,0,5,6,4,5,5,0,3,2,0,2,1,7,\n",
        "         3,3,2,5,3,5,7,5,1,3,5,9,4,6,6,5,2,0,4,0,5,0,7,2,1,5,9,5,7,4,0,3,4,5,4,0,5,\n",
        "         2,2,5,4,9,7,6,0,5,5,5,5,0,0,3,5,2,2,3,9,5,7,5,3,5,9,5,4,0,2,4,4,6,1,0,5,0,\n",
        "         5,0,7,0,0,0,0,2,4,4,3,0,4,3,0,2,6,0,6,5,2,6,5,0,5,5,0,2,2,5,2,4,9,0,2,5,6,\n",
        "         1,0,0,0,5,8,0,5,3,0,0,3,5,0,0,2,5,2,7,2,5,0,4,5,6,9,0,5,4,0]"
      ]
    },
    {
      "cell_type": "code",
      "source": [
        "nodes = np.unique(serie)\n",
        "n = len(nodes)\n",
        "A = np.zeros(shape=(n,n))"
      ],
      "metadata": {
        "id": "6K1AnO7rd-ri"
      },
      "execution_count": 79,
      "outputs": []
    },
    {
      "cell_type": "code",
      "source": [
        "for i in range(len(serie)-1):\n",
        "    A[serie[i],serie[i+1]] = A[serie[i],serie[i+1]] + 1\n",
        "A"
      ],
      "metadata": {
        "colab": {
          "base_uri": "https://localhost:8080/"
        },
        "outputId": "1385032d-feb3-4fe0-df37-73a8a053bb44",
        "id": "DGbwvG5ukp3E"
      },
      "execution_count": 82,
      "outputs": [
        {
          "output_type": "execute_result",
          "data": {
            "text/plain": [
              "array([[33.,  3., 42., 24., 18., 54.,  9., 15.,  0.,  6.],\n",
              "       [12.,  6.,  6.,  6.,  6.,  9.,  6.,  6.,  3.,  6.],\n",
              "       [21., 15.,  9.,  6., 12., 30., 24.,  9.,  3.,  3.],\n",
              "       [12.,  3.,  9.,  3.,  6., 27.,  9.,  3.,  0.,  3.],\n",
              "       [24.,  3.,  6., 15.,  9., 15.,  9.,  3.,  0., 18.],\n",
              "       [57., 12., 27., 15., 24., 48., 21., 12.,  3., 15.],\n",
              "       [18., 18.,  6.,  0., 18., 24., 15.,  3.,  3.,  6.],\n",
              "       [ 6.,  0.,  6.,  3.,  6., 15., 12.,  3.,  0., 12.],\n",
              "       [ 6.,  6.,  0.,  0.,  0.,  0.,  0.,  3.,  0.,  0.],\n",
              "       [15.,  0., 21.,  3.,  3., 12.,  6.,  6.,  3.,  6.]])"
            ]
          },
          "metadata": {},
          "execution_count": 82
        }
      ]
    },
    {
      "cell_type": "code",
      "source": [
        "G = nx.Graph()\n",
        "G.add_nodes_from(nodes)\n",
        "G.add_edge(1, 2)\n"
      ],
      "metadata": {
        "id": "r3RGBNMQgEJy"
      },
      "execution_count": 54,
      "outputs": []
    },
    {
      "cell_type": "code",
      "source": [
        "subax1 = plt.subplot(121)\n",
        "nx.draw_shell(G, nlist=[range(5, 10), range(5)], with_labels=True, font_weight='bold')"
      ],
      "metadata": {
        "colab": {
          "base_uri": "https://localhost:8080/",
          "height": 248
        },
        "id": "zCaP0qaTiWjP",
        "outputId": "32e53593-f33e-4d6b-9eaa-af9c6d4cdf7d"
      },
      "execution_count": 53,
      "outputs": [
        {
          "output_type": "display_data",
          "data": {
            "text/plain": [
              "<Figure size 432x288 with 1 Axes>"
            ],
            "image/png": "[encoded data removed]"
          },
          "metadata": {}
        }
      ]
    },
    {
      "cell_type": "markdown",
      "source": [
        "[Creating a graph Networkx](https://networkx.org/documentation/stable/tutorial.html)\n",
        "\n",
        "[Drawing graphs Networkx](https://networkx.org/documentation/stable/tutorial.html#drawing-graphs)"
      ],
      "metadata": {
        "id": "4UMv_EJtfU15"
      }
    }
  ]
}
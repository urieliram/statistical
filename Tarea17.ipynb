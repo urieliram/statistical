{
  "nbformat": 4,
  "nbformat_minor": 0,
  "metadata": {
    "colab": {
      "name": "Tarea17.ipynb",
      "provenance": [],
      "authorship_tag": "ABX9TyO537svJoee3VP298IaXeNw",
      "include_colab_link": true
    },
    "kernelspec": {
      "name": "python3",
      "display_name": "Python 3"
    },
    "language_info": {
      "name": "python"
    }
  },
  "cells": [
    {
      "cell_type": "markdown",
      "metadata": {
        "id": "view-in-github",
        "colab_type": "text"
      },
      "source": [
        "<a href=\"https://colab.research.google.com/github/urieliram/statistical/blob/main/Tarea17.ipynb\" target=\"_parent\"><img src=\"https://colab.research.google.com/assets/colab-badge.svg\" alt=\"Open In Colab\"/></a>"
      ]
    },
    {
      "cell_type": "code",
      "source": [
        "import numpy as np\n",
        "import pandas as pd\n",
        "import networkx as nx\n",
        "import matplotlib.pyplot as plt\n",
        "from sklearn.model_selection import train_test_split\n"
      ],
      "metadata": {
        "id": "MSOTcPRSeNJ0"
      },
      "execution_count": 88,
      "outputs": []
    },
    {
      "cell_type": "code",
      "execution_count": 76,
      "metadata": {
        "id": "iQMBNx3RdFBE"
      },
      "outputs": [],
      "source": [
        "\n",
        "serie = [0,9,2,0,2,5,5,0,0,5,1,9,2,1,3,6,5,4,4,0,2,5,0,0,7,5,5,1,5,0,5,2,1,6,4,0,3,\n",
        "         7,6,4,6,4,9,3,5,5,5,5,6,0,0,5,2,6,1,0,2,6,6,5,4,2,6,0,2,5,4,0,5,5,3,6,6,1,\n",
        "         2,1,0,4,1,4,5,6,8,1,9,0,9,2,6,7,4,2,0,3,1,5,0,5,4,9,6,5,0,5,9,9,2,5,\n",
        "         1,1,7,7,9,8,1,8,7,0,2,7,6,1,1,6,6,5,9,2,7,9,0,1,2,9,7,9,2,0,7,5,5,5,5,7,9,\n",
        "         9,0,7,5,5,6,0,4,3,5,5,3,5,0,2,0,5,0,5,6,4,3,4,9,2,6,2,8,0,4,7,6,5,2,0,3,2,\n",
        "         3,0,6,2,6,6,4,5,0,6,1,4,9,6,0,3,6,9,5,0,2,4,3,5,0,5,6,4,5,5,0,3,2,0,2,1,7,\n",
        "         3,3,2,5,3,5,7,5,1,3,5,9,4,6,6,5,2,0,4,0,5,0,7,2,1,5,9,5,7,4,0,3,4,5,4,0,5,\n",
        "         2,2,5,4,9,7,6,0,5,5,5,5,0,0,3,5,2,2,3,9,5,7,5,3,5,9,5,4,0,2,4,4,6,1,0,5,0,\n",
        "         5,0,7,0,0,0,0,2,4,4,3,0,4,3,0,2,6,0,6,5,2,6,5,0,5,5,0,2,2,5,2,4,9,0,2,5,6,\n",
        "         1,0,0,0,5,8,0,5,3,0,0,3,5,0,0,2,5,2,7,2,5,0,4,5,6,9,0,5,4,0]"
      ]
    },
    {
      "cell_type": "code",
      "source": [
        "nodes = np.unique(serie)\n",
        "n = len(nodes)\n",
        "A = np.zeros(shape=(n,n))"
      ],
      "metadata": {
        "id": "6K1AnO7rd-ri"
      },
      "execution_count": 77,
      "outputs": []
    },
    {
      "cell_type": "code",
      "source": [
        "for i in range(len(serie)-1):\n",
        "    A[serie[i],serie[i+1]] = A[serie[i],serie[i+1]] + 1\n",
        "A"
      ],
      "metadata": {
        "id": "DGbwvG5ukp3E",
        "colab": {
          "base_uri": "https://localhost:8080/"
        },
        "outputId": "55f76faa-7cf9-4099-b6d2-1a5507a22e4b"
      },
      "execution_count": 78,
      "outputs": [
        {
          "output_type": "execute_result",
          "data": {
            "text/plain": [
              "array([[11.,  1., 14.,  8.,  6., 18.,  3.,  5.,  0.,  2.],\n",
              "       [ 4.,  2.,  2.,  2.,  2.,  3.,  2.,  2.,  1.,  2.],\n",
              "       [ 7.,  5.,  3.,  2.,  4., 10.,  8.,  3.,  1.,  1.],\n",
              "       [ 4.,  1.,  3.,  1.,  2.,  9.,  3.,  1.,  0.,  1.],\n",
              "       [ 8.,  1.,  2.,  5.,  3.,  5.,  3.,  1.,  0.,  6.],\n",
              "       [19.,  4.,  9.,  5.,  8., 16.,  7.,  4.,  1.,  5.],\n",
              "       [ 6.,  6.,  2.,  0.,  6.,  8.,  5.,  1.,  1.,  2.],\n",
              "       [ 2.,  0.,  2.,  1.,  2.,  5.,  4.,  1.,  0.,  4.],\n",
              "       [ 2.,  2.,  0.,  0.,  0.,  0.,  0.,  1.,  0.,  0.],\n",
              "       [ 5.,  0.,  7.,  1.,  1.,  4.,  2.,  2.,  1.,  2.]])"
            ]
          },
          "metadata": {},
          "execution_count": 78
        }
      ]
    },
    {
      "cell_type": "code",
      "source": [
        "#G = nx.Graph()\n",
        "G = nx.DiGraph()\n",
        "G.add_nodes_from(nodes)"
      ],
      "metadata": {
        "id": "r3RGBNMQgEJy"
      },
      "execution_count": 79,
      "outputs": []
    },
    {
      "cell_type": "code",
      "source": [
        "rows = A.shape[0]\n",
        "cols = A.shape[1]\n",
        "for i in range(0, cols - 1):\n",
        "    for j in range(0, rows -1):\n",
        "        if A[i,j] != 0:\n",
        "            G.add_edge(i, j)\n",
        "            G.edges[i, j]['color'] = \"red\"\n"
      ],
      "metadata": {
        "id": "2G27gcFinOMZ"
      },
      "execution_count": 80,
      "outputs": []
    },
    {
      "cell_type": "code",
      "source": [
        "subax1 = plt.subplot(121)\n",
        "nx.draw_shell(G, nlist=[range(5, 10), range(5)], with_labels=True, font_weight='bold')"
      ],
      "metadata": {
        "colab": {
          "base_uri": "https://localhost:8080/",
          "height": 248
        },
        "id": "zCaP0qaTiWjP",
        "outputId": "b6d2af40-2152-4106-a2eb-67ee4d320e29"
      },
      "execution_count": 81,
      "outputs": [
        {
          "output_type": "display_data",
          "data": {
            "text/plain": [
              "<Figure size 432x288 with 1 Axes>"
            ],
            "image/png": "[encoded data removed]"
          },
          "metadata": {}
        }
      ]
    },
    {
      "cell_type": "code",
      "source": [
        "## Armamos miniseries de tamaño 'n' de atrás para adelante\n",
        "mini = []\n",
        "n = 10\n",
        "for i in range(len(serie) - n + 1):\n",
        "    aux=[]\n",
        "    for j in range(n):\n",
        "        aux.append(serie[i+j])\n",
        "    mini.append(aux)\n",
        "#print('mini',mini)\n",
        "\n",
        "df = pd.DataFrame(mini)\n",
        "\n",
        "X = df.loc[:,:n-2] ## Predictors\n",
        "y = df.loc[:,n-1:]\n",
        "\n",
        "## Crea conjuntos de datos de entrenamiento y prueba\n",
        "X_train, X_test, y_train, y_test = train_test_split(X, y, test_size = 0.7, random_state = 5)"
      ],
      "metadata": {
        "id": "meiAq3qwAwVz"
      },
      "execution_count": 166,
      "outputs": []
    },
    {
      "cell_type": "code",
      "source": [
        "from sklearn.ensemble import RandomForestClassifier\n",
        "from sklearn.datasets import make_classification\n",
        "\n",
        "rf = RandomForestClassifier(random_state=42)\n",
        "rf.fit(X_train, y_train)\n",
        "print(rf.score(X_test,y_test))\n",
        "\n",
        "#print(rf.predict([[2,5,0,4,5,6,9,0,5]]))"
      ],
      "metadata": {
        "colab": {
          "base_uri": "https://localhost:8080/"
        },
        "id": "XldiRjC9FvCQ",
        "outputId": "b5a93ed2-f9b6-4ee4-a5e1-149c380941c9"
      },
      "execution_count": 167,
      "outputs": [
        {
          "output_type": "stream",
          "name": "stdout",
          "text": [
            "0.17073170731707318\n"
          ]
        },
        {
          "output_type": "stream",
          "name": "stderr",
          "text": [
            "/usr/local/lib/python3.7/dist-packages/ipykernel_launcher.py:5: DataConversionWarning: A column-vector y was passed when a 1d array was expected. Please change the shape of y to (n_samples,), for example using ravel().\n",
            "  \"\"\"\n"
          ]
        }
      ]
    },
    {
      "cell_type": "markdown",
      "source": [
        "[Creating a graph Networkx](https://networkx.org/documentation/stable/tutorial.html)\n",
        "\n",
        "[Drawing graphs Networkx](https://networkx.org/documentation/stable/tutorial.html#drawing-graphs)\n",
        "\n",
        "[A study of visibility graphs for time series representations](https://upcommons.upc.edu/bitstream/handle/2117/328691/152711.pdf?sequence=1&isAllowed=y)"
      ],
      "metadata": {
        "id": "4UMv_EJtfU15"
      }
    }
  ]
}
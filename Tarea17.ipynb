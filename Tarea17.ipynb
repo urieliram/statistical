{
  "nbformat": 4,
  "nbformat_minor": 0,
  "metadata": {
    "colab": {
      "name": "Tarea17.ipynb",
      "provenance": [],
      "authorship_tag": "ABX9TyMPt1PrqWmhkiD1TNfSqFSC",
      "include_colab_link": true
    },
    "kernelspec": {
      "name": "python3",
      "display_name": "Python 3"
    },
    "language_info": {
      "name": "python"
    }
  },
  "cells": [
    {
      "cell_type": "markdown",
      "metadata": {
        "id": "view-in-github",
        "colab_type": "text"
      },
      "source": [
        "<a href=\"https://colab.research.google.com/github/urieliram/statistical/blob/main/Tarea17.ipynb\" target=\"_parent\"><img src=\"https://colab.research.google.com/assets/colab-badge.svg\" alt=\"Open In Colab\"/></a>"
      ]
    },
    {
      "cell_type": "code",
      "source": [
        "import numpy as np\n",
        "import pandas as pd\n",
        "import networkx as nx\n",
        "import matplotlib.pyplot as plt\n",
        "from sklearn.model_selection import train_test_split, GridSearchCV\n",
        "from sklearn.ensemble import RandomForestClassifier"
      ],
      "metadata": {
        "id": "MSOTcPRSeNJ0"
      },
      "execution_count": 1,
      "outputs": []
    },
    {
      "cell_type": "code",
      "source": [
        "def AutoRF(X, Y, X_2, Y_2,verbose_=False):\n",
        "## https://towardsdatascience.com/hyperparameter-tuning-the-random-forest-in-python-using-scikit-learn-28d2aa77dd74\n",
        "    nestlist = []\n",
        "    for i in range(100, 300, 100):\n",
        "        nestlist.append(i)\n",
        "    param_grid = { \n",
        "        'bootstrap': [True, False],\n",
        "        'n_estimators': nestlist,\n",
        "        'max_features': ['auto', 'sqrt', 'log2'],\n",
        "        'max_depth' : [10, 20, 30, 40, 50, 60, 70, 80, 90, 100, None],\n",
        "        'min_samples_leaf': [1, 2, 4],\n",
        "        'min_samples_split': [2, 5, 10],}\n",
        "\n",
        "    model   = RandomForestClassifier(random_state=42)\n",
        "    clf     = GridSearchCV(estimator=model, param_grid=param_grid, cv=5).fit(X, Y)\n",
        "    model   = clf.best_estimator_\n",
        "    results = model.fit(X, Y)\n",
        "    scorerf = results.score(X_2, Y_2)\n",
        "    #prediction_Y2 = results.predict(X_2)\n",
        "\n",
        "    if verbose_==True:\n",
        "        print('Parameters used')\n",
        "        print(\"bootstrap:         {}\".format(model.bootstrap))\n",
        "        print(\"n_estimators:      {}\".format(model.n_estimators))\n",
        "        print(\"max_features:      {}\".format(model.max_features))\n",
        "        print(\"max_depth:         {}\".format(model.max_depth))\n",
        "        print(\"min_samples_leaf:  {}\".format(model.min_samples_leaf))\n",
        "        print(\"min_samples_split: {}\".format(model.min_samples_split)) \n",
        "            \n",
        "    return scorerf #, prediction_Y2   "
      ],
      "metadata": {
        "id": "uUUYFoaaO7KR"
      },
      "execution_count": 2,
      "outputs": []
    },
    {
      "cell_type": "code",
      "execution_count": 25,
      "metadata": {
        "id": "iQMBNx3RdFBE"
      },
      "outputs": [],
      "source": [
        "## https://github.com/urieliram/statistical/blob/main/Tarea13.ipynb\n",
        "#serie = [1,1,7,7,9,8,1,8,7,0,2,7,6,1,1,6,6,5,9,2,7,9,0,1,2,9,7,9,2,0,7,5,5,5,5,7,9\n",
        "#,9,0,7,5,5,6,0,4,3,5,5,3,5,0,2,0,5,0,5,6,4,3,4,9,2,6,2,8,0,4,7,6,5,2,0,3,2\n",
        "#,3,0,6,2,6,6,4,5,0,6,1,4,9,6,0,3,6,9,5,0,2,4,3,5,0,5,6,4,5,5,0,3,2,0,2,1,7\n",
        "#,3,3,2,5,3,5,7,5,1,3,5,9,4,6,6,5,2,0,4,0,5,0,7,2,1,5,9,5,7,4,0,3,4,5,4,0,5\n",
        "#,2,2,5,4,9,7,6,0,5,5,5,5,0,0,3,5,2,2,3,9,5,7,5,3,5,9,5,4,0,2,4,4,6,1,0,5,0\n",
        "#,5,0,7,0,0,0,0,2,4,4,3,0,4,3,0,2,6,0,6,5,2,6,5,0,5,5,0,2,2,5,2,4,9,0,2,5,6\n",
        "#,1,0,0,0,5,8,0,5,3,0,0,3,5,0,0,2,5,2,7,2,5,0,4,5,6,9,0,5,4,0]\n",
        "\n",
        "serie = [1,1,7,7,9,8,1,8,7,0,2,7,6,1,1,6,6,5,9,2,7,9,0,1,2,9,7,9,2,0,7,5,5,5,5,7,\n",
        "         9,9,0,7,5,5,6,0,4,3,5,5,5,5,0,2,0,5,5,5,6,4,3,4,9,2,6,2,8,0,4,7,6,5,2,0,\n",
        "         3,2,0,0,6,2,6,6,4,5,0,6,1,4,9,6,0,3,6,9,5,0,2,4,3,5,0,5,6,4,5,5,0,3,2,0,\n",
        "         2,1,7,3,5,2,5,3,5,6,5,1,3,5,9,4,6,6,5,2,0,4,0,5,0,7,2,1,5,9,5,7,3,0,3,4,\n",
        "         5,3,0,5,2,2,5,4,9,7,6,0,5,5,5,5,0,0,3,5,2,5,3,9,5,7,5,3,5,9,5,4,0,2,4,4,\n",
        "         6,1,0,5,0,5,0,7,0,0,0,0,2,4,4,3,0,4,3,0,2,6,0,6,5,2,6,5,0,5,5,0,2,2,5,2,\n",
        "         4,9,0,2,5,6,1,0,0,0,5,8,0,5,3,0,0,3,5,0,0,5,5,5,7,2,5,0,4,5,6,0,0,5,4,0]\n"
      ]
    },
    {
      "cell_type": "code",
      "source": [
        "nodes = np.unique(serie)\n",
        "n = len(nodes)\n",
        "A = np.zeros(shape=(n,n))"
      ],
      "metadata": {
        "id": "6K1AnO7rd-ri"
      },
      "execution_count": 26,
      "outputs": []
    },
    {
      "cell_type": "code",
      "source": [
        "for i in range(len(serie)-1):\n",
        "    A[serie[i],serie[i+1]] = A[serie[i],serie[i+1]] + 1\n",
        "A"
      ],
      "metadata": {
        "id": "DGbwvG5ukp3E",
        "colab": {
          "base_uri": "https://localhost:8080/"
        },
        "outputId": "39324a5f-f422-4fae-87eb-054ed3462695"
      },
      "execution_count": 27,
      "outputs": [
        {
          "output_type": "execute_result",
          "data": {
            "text/plain": [
              "array([[10.,  1.,  9.,  6.,  5., 12.,  3.,  4.,  0.,  0.],\n",
              "       [ 2.,  2.,  1.,  1.,  1.,  1.,  1.,  2.,  1.,  0.],\n",
              "       [ 6.,  2.,  2.,  0.,  4.,  6.,  4.,  2.,  1.,  1.],\n",
              "       [ 5.,  0.,  2.,  0.,  2.,  8.,  1.,  0.,  0.,  1.],\n",
              "       [ 3.,  0.,  0.,  5.,  2.,  4.,  2.,  1.,  0.,  4.],\n",
              "       [13.,  1.,  7.,  5.,  3., 16.,  6.,  4.,  1.,  4.],\n",
              "       [ 5.,  4.,  2.,  0.,  3.,  6.,  3.,  0.,  0.,  1.],\n",
              "       [ 2.,  0.,  2.,  2.,  0.,  3.,  3.,  1.,  0.,  4.],\n",
              "       [ 2.,  1.,  0.,  0.,  0.,  0.,  0.,  1.,  0.,  0.],\n",
              "       [ 3.,  0.,  3.,  0.,  1.,  4.,  1.,  2.,  1.,  1.]])"
            ]
          },
          "metadata": {},
          "execution_count": 27
        }
      ]
    },
    {
      "cell_type": "code",
      "source": [
        "#G = nx.Graph()\n",
        "G = nx.DiGraph()\n",
        "G.add_nodes_from(nodes)"
      ],
      "metadata": {
        "id": "r3RGBNMQgEJy"
      },
      "execution_count": 6,
      "outputs": []
    },
    {
      "cell_type": "code",
      "source": [
        "rows = A.shape[0]\n",
        "cols = A.shape[1]\n",
        "for i in range(0, cols - 1):\n",
        "    for j in range(0, rows -1):\n",
        "        if A[i,j] != 0:\n",
        "            G.add_edge(i, j)\n",
        "            G.edges[i, j]['color'] = \"red\"\n"
      ],
      "metadata": {
        "id": "2G27gcFinOMZ"
      },
      "execution_count": 7,
      "outputs": []
    },
    {
      "cell_type": "code",
      "source": [
        "subax1 = plt.subplot(121)\n",
        "nx.draw_shell(G, nlist=[range(5, 10), range(5)], with_labels=True, font_weight='bold')"
      ],
      "metadata": {
        "colab": {
          "base_uri": "https://localhost:8080/",
          "height": 248
        },
        "id": "zCaP0qaTiWjP",
        "outputId": "688bb6b0-72ec-49d4-9201-32c2cd28955a"
      },
      "execution_count": 8,
      "outputs": [
        {
          "output_type": "display_data",
          "data": {
            "text/plain": [
              "<Figure size 432x288 with 1 Axes>"
            ],
            "image/png": "[encoded data removed]"
          },
          "metadata": {}
        }
      ]
    },
    {
      "cell_type": "markdown",
      "source": [
        "[Creating a graph Networkx](https://networkx.org/documentation/stable/tutorial.html)\n",
        "\n",
        "[Drawing graphs Networkx](https://networkx.org/documentation/stable/tutorial.html#drawing-graphs)\n",
        "\n",
        "[A study of visibility graphs for time series representations](https://upcommons.upc.edu/bitstream/handle/2117/328691/152711.pdf?sequence=1&isAllowed=y)"
      ],
      "metadata": {
        "id": "4UMv_EJtfU15"
      }
    },
    {
      "cell_type": "code",
      "source": [
        "## Armamos miniseries de tamaño 'n' de atrás para adelante\n",
        "mini = []\n",
        "n = 10\n",
        "for i in range(len(serie) - n + 1):\n",
        "    aux=[]\n",
        "    for j in range(n):\n",
        "        aux.append(serie[i+j])\n",
        "    mini.append(aux)\n",
        "#print('mini',mini)\n",
        "\n",
        "df = pd.DataFrame(mini)\n",
        "\n",
        "X = df.loc[:,:n-2] ## Predictors\n",
        "y = df.loc[:,n-1:]\n",
        "\n",
        "## Crea conjuntos de datos de entrenamiento y prueba\n",
        "X_train, X_test, y_train, y_test = train_test_split(X, y, test_size = 0.7, random_state = 42)"
      ],
      "metadata": {
        "id": "meiAq3qwAwVz"
      },
      "execution_count": 9,
      "outputs": []
    },
    {
      "cell_type": "code",
      "source": [
        "from sklearn.ensemble import GradientBoostingClassifier\n",
        "bos = GradientBoostingClassifier(n_estimators=100, learning_rate=1.0,max_depth=1, random_state=42).fit(X_train, y_train)\n",
        "bos.score(X_test, y_test)"
      ],
      "metadata": {
        "colab": {
          "base_uri": "https://localhost:8080/"
        },
        "id": "EEnPm6ehUYcU",
        "outputId": "9bceee7b-6b02-45ab-9103-c723c62be210"
      },
      "execution_count": 10,
      "outputs": [
        {
          "output_type": "stream",
          "name": "stderr",
          "text": [
            "/usr/local/lib/python3.7/dist-packages/sklearn/ensemble/_gb.py:494: DataConversionWarning: A column-vector y was passed when a 1d array was expected. Please change the shape of y to (n_samples, ), for example using ravel().\n",
            "  y = column_or_1d(y, warn=True)\n"
          ]
        },
        {
          "output_type": "execute_result",
          "data": {
            "text/plain": [
              "0.1695906432748538"
            ]
          },
          "metadata": {},
          "execution_count": 10
        }
      ]
    },
    {
      "cell_type": "code",
      "source": [
        "from sklearn.ensemble import AdaBoostClassifier\n",
        "ada = AdaBoostClassifier(n_estimators=100, random_state=0).fit(X_train, y_train)\n",
        "ada.score(X_test, y_test)"
      ],
      "metadata": {
        "colab": {
          "base_uri": "https://localhost:8080/"
        },
        "id": "y0FZeF1hU-XP",
        "outputId": "cf539d0c-6f3a-4654-ca17-f4d1c1e48a58"
      },
      "execution_count": 11,
      "outputs": [
        {
          "output_type": "stream",
          "name": "stderr",
          "text": [
            "/usr/local/lib/python3.7/dist-packages/sklearn/utils/validation.py:993: DataConversionWarning: A column-vector y was passed when a 1d array was expected. Please change the shape of y to (n_samples, ), for example using ravel().\n",
            "  y = column_or_1d(y, warn=True)\n"
          ]
        },
        {
          "output_type": "execute_result",
          "data": {
            "text/plain": [
              "0.18128654970760233"
            ]
          },
          "metadata": {},
          "execution_count": 11
        }
      ]
    },
    {
      "cell_type": "code",
      "source": [
        "from sklearn.ensemble import RandomForestClassifier\n",
        "rf = RandomForestClassifier(n_estimators=100, random_state=0).fit(X_train, y_train)\n",
        "rf.score(X_test, y_test)"
      ],
      "metadata": {
        "colab": {
          "base_uri": "https://localhost:8080/"
        },
        "id": "1icDqUqlY2FR",
        "outputId": "e5a9ce04-fb24-46ab-b129-470e3b4c95ca"
      },
      "execution_count": 12,
      "outputs": [
        {
          "output_type": "stream",
          "name": "stderr",
          "text": [
            "/usr/local/lib/python3.7/dist-packages/ipykernel_launcher.py:2: DataConversionWarning: A column-vector y was passed when a 1d array was expected. Please change the shape of y to (n_samples,), for example using ravel().\n",
            "  \n"
          ]
        },
        {
          "output_type": "execute_result",
          "data": {
            "text/plain": [
              "0.2046783625730994"
            ]
          },
          "metadata": {},
          "execution_count": 12
        }
      ]
    },
    {
      "cell_type": "code",
      "source": [
        "#score = AutoRF(X_train,y_train,X_test,y_test,verbose_=True)\n",
        "#print(score)"
      ],
      "metadata": {
        "id": "pYIVwvmoOvJk"
      },
      "execution_count": 13,
      "outputs": []
    }
  ]
}
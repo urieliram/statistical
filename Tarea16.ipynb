{
  "nbformat": 4,
  "nbformat_minor": 0,
  "metadata": {
    "colab": {
      "name": "Tarea16.ipynb",
      "provenance": [],
      "authorship_tag": "ABX9TyMHdurUnfWw9ssVTC0Ko8NF",
      "include_colab_link": true
    },
    "kernelspec": {
      "name": "python3",
      "display_name": "Python 3"
    },
    "language_info": {
      "name": "python"
    }
  },
  "cells": [
    {
      "cell_type": "markdown",
      "metadata": {
        "id": "view-in-github",
        "colab_type": "text"
      },
      "source": [
        "<a href=\"https://colab.research.google.com/github/urieliram/statistical/blob/main/Tarea16.ipynb\" target=\"_parent\"><img src=\"https://colab.research.google.com/assets/colab-badge.svg\" alt=\"Open In Colab\"/></a>"
      ]
    },
    {
      "cell_type": "code",
      "execution_count": 1,
      "metadata": {
        "id": "JboE4Y4YndQq",
        "colab": {
          "base_uri": "https://localhost:8080/"
        },
        "outputId": "9d224f44-43c5-4e46-8ce6-29c133a16cb1"
      },
      "outputs": [
        {
          "output_type": "stream",
          "name": "stdout",
          "text": [
            "Requirement already satisfied: dtw-python in /usr/local/lib/python3.7/dist-packages (1.1.12)\n",
            "Requirement already satisfied: numpy>=1.19 in /usr/local/lib/python3.7/dist-packages (from dtw-python) (1.21.6)\n",
            "Requirement already satisfied: scipy>=1.1 in /usr/local/lib/python3.7/dist-packages (from dtw-python) (1.4.1)\n"
          ]
        }
      ],
      "source": [
        "pip install dtw-python"
      ]
    },
    {
      "cell_type": "code",
      "source": [
        "pip install dtreeviz"
      ],
      "metadata": {
        "id": "BNS7utNCMGwZ",
        "colab": {
          "base_uri": "https://localhost:8080/"
        },
        "outputId": "5c6bb053-1ee4-4189-f742-f9954adccdb0"
      },
      "execution_count": 2,
      "outputs": [
        {
          "output_type": "stream",
          "name": "stdout",
          "text": [
            "Requirement already satisfied: dtreeviz in /usr/local/lib/python3.7/dist-packages (1.3.6)\n",
            "Requirement already satisfied: numpy in /usr/local/lib/python3.7/dist-packages (from dtreeviz) (1.21.6)\n",
            "Requirement already satisfied: graphviz>=0.9 in /usr/local/lib/python3.7/dist-packages (from dtreeviz) (0.10.1)\n",
            "Requirement already satisfied: pandas in /usr/local/lib/python3.7/dist-packages (from dtreeviz) (1.3.5)\n",
            "Requirement already satisfied: colour in /usr/local/lib/python3.7/dist-packages (from dtreeviz) (0.1.5)\n",
            "Requirement already satisfied: pytest in /usr/local/lib/python3.7/dist-packages (from dtreeviz) (3.6.4)\n",
            "Requirement already satisfied: scikit-learn in /usr/local/lib/python3.7/dist-packages (from dtreeviz) (1.0.2)\n",
            "Requirement already satisfied: matplotlib in /usr/local/lib/python3.7/dist-packages (from dtreeviz) (3.2.2)\n",
            "Requirement already satisfied: kiwisolver>=1.0.1 in /usr/local/lib/python3.7/dist-packages (from matplotlib->dtreeviz) (1.4.2)\n",
            "Requirement already satisfied: cycler>=0.10 in /usr/local/lib/python3.7/dist-packages (from matplotlib->dtreeviz) (0.11.0)\n",
            "Requirement already satisfied: python-dateutil>=2.1 in /usr/local/lib/python3.7/dist-packages (from matplotlib->dtreeviz) (2.8.2)\n",
            "Requirement already satisfied: pyparsing!=2.0.4,!=2.1.2,!=2.1.6,>=2.0.1 in /usr/local/lib/python3.7/dist-packages (from matplotlib->dtreeviz) (3.0.8)\n",
            "Requirement already satisfied: typing-extensions in /usr/local/lib/python3.7/dist-packages (from kiwisolver>=1.0.1->matplotlib->dtreeviz) (4.2.0)\n",
            "Requirement already satisfied: six>=1.5 in /usr/local/lib/python3.7/dist-packages (from python-dateutil>=2.1->matplotlib->dtreeviz) (1.15.0)\n",
            "Requirement already satisfied: pytz>=2017.3 in /usr/local/lib/python3.7/dist-packages (from pandas->dtreeviz) (2022.1)\n",
            "Requirement already satisfied: py>=1.5.0 in /usr/local/lib/python3.7/dist-packages (from pytest->dtreeviz) (1.11.0)\n",
            "Requirement already satisfied: setuptools in /usr/local/lib/python3.7/dist-packages (from pytest->dtreeviz) (57.4.0)\n",
            "Requirement already satisfied: more-itertools>=4.0.0 in /usr/local/lib/python3.7/dist-packages (from pytest->dtreeviz) (8.12.0)\n",
            "Requirement already satisfied: atomicwrites>=1.0 in /usr/local/lib/python3.7/dist-packages (from pytest->dtreeviz) (1.4.0)\n",
            "Requirement already satisfied: pluggy<0.8,>=0.5 in /usr/local/lib/python3.7/dist-packages (from pytest->dtreeviz) (0.7.1)\n",
            "Requirement already satisfied: attrs>=17.4.0 in /usr/local/lib/python3.7/dist-packages (from pytest->dtreeviz) (21.4.0)\n",
            "Requirement already satisfied: scipy>=1.1.0 in /usr/local/lib/python3.7/dist-packages (from scikit-learn->dtreeviz) (1.4.1)\n",
            "Requirement already satisfied: threadpoolctl>=2.0.0 in /usr/local/lib/python3.7/dist-packages (from scikit-learn->dtreeviz) (3.1.0)\n",
            "Requirement already satisfied: joblib>=0.11 in /usr/local/lib/python3.7/dist-packages (from scikit-learn->dtreeviz) (1.1.0)\n"
          ]
        }
      ]
    },
    {
      "cell_type": "code",
      "source": [
        "import time\n",
        "import pandas as pd\n",
        "import numpy as np\n",
        "import matplotlib.pyplot as plt\n",
        "import seaborn as sns\n",
        "import math\n",
        "import statsmodels.api as sm\n",
        "from statsmodels.graphics.tsaplots import plot_acf,plot_pacf\n",
        "from statsmodels.tsa.arima_model import ARIMA\n",
        "from sklearn.preprocessing import StandardScaler\n",
        "from sklearn.model_selection import train_test_split, GridSearchCV\n",
        "from sklearn.cluster import MiniBatchKMeans, KMeans\n",
        "from sklearn.neighbors import NearestNeighbors, KNeighborsClassifier\n",
        "from sklearn.linear_model import LinearRegression, RidgeCV, LassoCV, ElasticNetCV, LarsCV, Lasso, Ridge, BayesianRidge, LinearRegression\n",
        "from sklearn.metrics import mean_absolute_error,mean_squared_error,mean_absolute_percentage_error\n",
        "from sklearn.metrics.pairwise import pairwise_distances_argmin\n",
        "from sklearn.ensemble import RandomForestRegressor, GradientBoostingRegressor, VotingRegressor, AdaBoostRegressor, BaggingRegressor\n",
        "from sklearn.cross_decomposition import PLSRegression\n",
        "from sklearn.decomposition import PCA\n",
        "from sklearn.pipeline import make_pipeline\n",
        "from math import sqrt\n",
        "from dtw import *\n",
        "%matplotlib inline\n",
        "\n",
        "sns.set_theme(style=\"white\")"
      ],
      "metadata": {
        "id": "DuC_OkW4nm78",
        "colab": {
          "base_uri": "https://localhost:8080/"
        },
        "outputId": "ed7a134f-18bd-41ef-b9b2-798601c0866b"
      },
      "execution_count": 3,
      "outputs": [
        {
          "output_type": "stream",
          "name": "stderr",
          "text": [
            "/usr/local/lib/python3.7/dist-packages/statsmodels/tools/_testing.py:19: FutureWarning: pandas.util.testing is deprecated. Use the functions in the public API at pandas.testing instead.\n",
            "  import pandas.util.testing as tm\n"
          ]
        },
        {
          "output_type": "stream",
          "name": "stdout",
          "text": [
            "Importing the dtw module. When using in academic works please cite:\n",
            "  T. Giorgino. Computing and Visualizing Dynamic Time Warping Alignments in R: The dtw Package.\n",
            "  J. Stat. Soft., doi:10.18637/jss.v031.i07.\n",
            "\n"
          ]
        }
      ]
    },
    {
      "cell_type": "code",
      "source": [
        "def trunc(values, decs=0):\n",
        "    return np.trunc(values*10**decs)/(10**decs)"
      ],
      "metadata": {
        "id": "EcNqmPCJP_yS"
      },
      "execution_count": 4,
      "outputs": []
    },
    {
      "cell_type": "code",
      "source": [
        "CYAN = '#76ced6' ; LILA = '#777bd4'; VERDE='#17cb49'; NARA='#ff8000'; AZUL='#168fff'; OTROAZUL = \"b-\"; ROJO= \"r-\";\n",
        "def print_serie2(serie_,prototipo_,title_,ytitle_,xtitle_,sizex_=8,sizey_=5,namefile_='figure.png'):\n",
        "    fig, ax1 = plt.subplots(figsize=(sizex_,sizey_))\n",
        "    plt.title(title_,fontsize='x-large',color=NARA)\n",
        "    ax1.set_xlabel(xtitle_, color=NARA, fontsize='large')\n",
        "    ax1.set_ylabel(ytitle_, color=NARA, fontsize='large')\n",
        "    plt.tick_params(colors = NARA, which='both')\n",
        "    ax1.spines['bottom'].set_color(NARA)\n",
        "    ax1.spines['top'   ].set_color(NARA) \n",
        "    ax1.spines['right' ].set_color(NARA)\n",
        "    ax1.spines['left'  ].set_color(NARA)\n",
        "    if len(prototipo_) != 0: \n",
        "        plt.plot(prototipo_,alpha=0.6, linestyle='dashed', color='red', linewidth=3)\n",
        "    for p in serie_:\n",
        "        plt.plot(p,alpha=0.3, linewidth=2)    \n",
        "    plt.savefig(namefile_, transparent=True)         \n",
        "    plt.show()"
      ],
      "metadata": {
        "id": "9cnF4RJ6no8V"
      },
      "execution_count": 5,
      "outputs": []
    },
    {
      "cell_type": "code",
      "source": [
        "## Preparamos la información para graficar la importancia y las posiciones en Random Forest Regressor\n",
        "def print_importances(model_,labels_,namefile_):\n",
        "    i=0\n",
        "    labels = [str(x) for x in labels_]\n",
        "    labels_importances = []\n",
        "    for feature in model_.feature_importances_:\n",
        "        labels_importances.append((feature,labels[i]))\n",
        "        i=i+1   \n",
        "    labels_importances.sort(key=lambda tup: tup[0], reverse=False)\n",
        "    importances = []\n",
        "    labels      = []\n",
        "    for tup in labels_importances:\n",
        "        importances.append(tup[0])\n",
        "        labels.append(tup[1])\n",
        "    fig, ax = plt.subplots()\n",
        "    y_pos = np.arange(len(importances))\n",
        "    ax.set_yticks(ticks=y_pos)\n",
        "    ax.barh(labels, importances, align='center',color=CYAN)\n",
        "    ax.invert_yaxis()\n",
        "    ax.set_xlabel('Importancia', color=NARA, fontsize='large')\n",
        "    ax.set_ylabel('Variable', color=NARA, fontsize='large')\n",
        "    ax.set_title( 'Importancia de las variables del bosque aleatorio', color=NARA, fontsize='large')    \n",
        "    plt.tick_params(colors = NARA, which='both')\n",
        "    ax.spines['bottom'].set_color(NARA)\n",
        "    ax.spines['top'   ].set_color(NARA) \n",
        "    ax.spines['right' ].set_color(NARA)\n",
        "    ax.spines['left'  ].set_color(NARA)\n",
        "    plt.savefig(namefile_, transparent=True)   \n",
        "    plt.show()"
      ],
      "metadata": {
        "id": "Ofhg0JCdoR-v"
      },
      "execution_count": 6,
      "outputs": []
    },
    {
      "cell_type": "code",
      "source": [
        "def OLS(X, Y, X_2, pi_step_=0.001,verbose_=False):\n",
        "    model   = sm.OLS(Y, X)\n",
        "    results = model.fit()\n",
        "    prediction_Y2 = results.predict(X_2)\n",
        "\n",
        "    ## Ordenamos los valores 'pi' y se selecciona el más grande.\n",
        "    i = 0\n",
        "    pvalues = []\n",
        "    for pi in results.pvalues:\n",
        "        pvalues.append((i,pi))\n",
        "        i = i + 1\n",
        "    pvalues.sort(key=lambda tup: tup[1], reverse=True) ## Ordenamos por 'pi'\n",
        "    (i, pi) = pvalues[0]  \n",
        "\n",
        "    while pi > pi:\n",
        "        X   = sm.add_constant(X)\n",
        "        X_2 = sm.add_constant(X_2)   \n",
        "        if verbose_==True:\n",
        "            print('Retiramos regresor ---> X' + str(i))\n",
        "        X   = np.delete(arr=X,   obj=i+0, axis=1)\n",
        "        X_2 = np.delete(arr=X_2, obj=i+0, axis=1)   \n",
        "        model   = sm.OLS(Y, X)\n",
        "        results = model.fit()\n",
        "\n",
        "        ## Ordenamos los valores 'pi' y se selecciona el más grande\n",
        "        i = 0\n",
        "        pvalues = []\n",
        "        for pi in results.pvalues:\n",
        "            pvalues.append((i,pi))\n",
        "            i = i + 1\n",
        "        pvalues.sort(key=lambda tup: tup[1], reverse=True) ## Ordenamos por 'pi'\n",
        "        (i, pi) = pvalues[0]\n",
        "        #prediction   = results.predict(X)   ## Ajuste\n",
        "        prediction_Y2 = results.predict(X_2) ## Pronóstico\n",
        "    if len(prediction_Y2) == 0:      \n",
        "        if verbose_==True:\n",
        "            print('>>> Warning, no variable was significant in the regression.')\n",
        "        model   = sm.OLS(Y, X)\n",
        "        results = model.fit()\n",
        "        prediction_Y2 = results.predict(X_2)\n",
        "        \n",
        "    if verbose_==True:\n",
        "        print(results.summary())\n",
        "    return prediction_Y2   "
      ],
      "metadata": {
        "id": "Ls5XHfg-e5Gr"
      },
      "execution_count": 7,
      "outputs": []
    },
    {
      "cell_type": "code",
      "source": [
        "def RF(X, Y, X_2,labels_,typedist_,verbose_=False):\n",
        "    model         = RandomForestRegressor(random_state=42,) ## RF default\n",
        "    results       = model.fit(X, Y)\n",
        "    prediction_Y2 = results.predict(X_2)\n",
        "    if verbose_==True:\n",
        "        print_importances(model_=model,labels_=labels_,namefile_='fig_importance_'+typedist_+'_'+'RF')\n",
        "        print('Parámetros utilizados RF')\n",
        "        print(\"bootstrap:         {}\".format(model.bootstrap))\n",
        "        print(\"n_estimators:      {}\".format(model.n_estimators))\n",
        "        print(\"max_features:      {}\".format(model.max_features))\n",
        "        print(\"max_depth:         {}\".format(model.max_depth))\n",
        "        print(\"min_samples_leaf:  {}\".format(model.min_samples_leaf))\n",
        "        print(\"min_samples_split: {}\".format(model.min_samples_split))\n",
        "    return prediction_Y2   "
      ],
      "metadata": {
        "id": "V7yMHMCWkvqS"
      },
      "execution_count": 8,
      "outputs": []
    },
    {
      "cell_type": "code",
      "source": [
        "def AutoRF(X, Y, X_2,labels_,typedist_,verbose_=False):\n",
        "## https://towardsdatascience.com/hyperparameter-tuning-the-random-forest-in-python-using-scikit-learn-28d2aa77dd74\n",
        "    #nestlist = []\n",
        "    #for i in range(10, 320, 50):\n",
        "    #    nestlist.append(i)\n",
        "    #param_grid = { \n",
        "    #'bootstrap': [True, False],\n",
        "    #'n_estimators': nestlist,\n",
        "    #'max_features': ['auto', 'sqrt', 'log2'],\n",
        "    #'max_depth' : [10, 20, 30, 40, 50, 60, 70, 80, 90, 100, None],\n",
        "    #'min_samples_leaf': [1, 2, 4],\n",
        "    #'min_samples_split': [2, 5, 10],}\n",
        "    nestlist = []\n",
        "    for i in range(10, 320, 50):\n",
        "        nestlist.append(i)\n",
        "    param_grid = { \n",
        "    'bootstrap': [True, False],\n",
        "    'n_estimators': nestlist,\n",
        "    'max_features': ['auto', 'sqrt',],\n",
        "    'max_depth' : [10, 20, None]}\n",
        "\n",
        "    model = RandomForestRegressor(random_state=42)\n",
        "    clf   = GridSearchCV(estimator=model, param_grid=param_grid, cv=5).fit(X, Y)\n",
        "    model         = clf.best_estimator_\n",
        "    results       = model.fit(X, Y)\n",
        "    prediction_Y2 = results.predict(X_2)\n",
        "\n",
        "    if verbose_==True:\n",
        "        print_importances(model_=model,labels_=labels_,namefile_='fig_importance_'+typedist_+'_'+'AutoRF')\n",
        "        print('Parameters used')\n",
        "        print(\"bootstrap:         {}\".format(model.bootstrap))\n",
        "        print(\"n_estimators:      {}\".format(model.n_estimators))\n",
        "        print(\"max_features:      {}\".format(model.max_features))\n",
        "        print(\"max_depth:         {}\".format(model.max_depth))\n",
        "        print(\"min_samples_leaf:  {}\".format(model.min_samples_leaf))\n",
        "        print(\"min_samples_split: {}\".format(model.min_samples_split))\n",
        "        \n",
        "    return prediction_Y2   "
      ],
      "metadata": {
        "id": "Sh3JVQq6ln4P"
      },
      "execution_count": 9,
      "outputs": []
    },
    {
      "cell_type": "code",
      "source": [
        "def Boosting(X, Y, X_2,typedist_,verbose_=False):\n",
        "    model         = GradientBoostingRegressor(random_state=42,)\n",
        "    results       = model.fit(X, Y)\n",
        "    prediction_Y2 = results.predict(X_2)\n",
        "    return prediction_Y2 "
      ],
      "metadata": {
        "id": "D8tPs-3mU4dA"
      },
      "execution_count": 10,
      "outputs": []
    },
    {
      "cell_type": "code",
      "source": [
        "def Bagging(X, Y, X_2,typedist_,verbose_=False):\n",
        "    model         = BaggingRegressor(random_state=42,)\n",
        "    results       = model.fit(X, Y)\n",
        "    prediction_Y2 = results.predict(X_2)\n",
        "    return prediction_Y2   "
      ],
      "metadata": {
        "id": "n49EThjiXHCa"
      },
      "execution_count": 11,
      "outputs": []
    },
    {
      "cell_type": "code",
      "source": [
        "def LinearReg(X, Y, X_2,typedist_,verbose_=False):\n",
        "    model         = LinearRegression()\n",
        "    results       = model.fit(X, Y)\n",
        "    prediction_Y2 = results.predict(X_2)\n",
        "    return prediction_Y2   "
      ],
      "metadata": {
        "id": "eWHrx7dVXYra"
      },
      "execution_count": 12,
      "outputs": []
    },
    {
      "cell_type": "code",
      "source": [
        "def AdaBoost(X, Y, X_2,typedist_,verbose_=False):\n",
        "    model         = AdaBoostRegressor(random_state=42,)\n",
        "    results       = model.fit(X, Y)\n",
        "    prediction_Y2 = results.predict(X_2)\n",
        "    return prediction_Y2 "
      ],
      "metadata": {
        "id": "XxzvQPysXiIC"
      },
      "execution_count": 13,
      "outputs": []
    },
    {
      "cell_type": "code",
      "source": [
        "def BayesRidge(X, Y, X_2,typedist_,verbose_=False):\n",
        "    model         = BayesianRidge(compute_score=True)\n",
        "    results       = model.fit(X, Y)\n",
        "    prediction_Y2 = results.predict(X_2) \n",
        "    return prediction_Y2   "
      ],
      "metadata": {
        "id": "eBWFLGGLVLXR"
      },
      "execution_count": 14,
      "outputs": []
    },
    {
      "cell_type": "code",
      "source": [
        "def LassoReg(X, Y, X_2,typedist_,verbose_=False):\n",
        "    model         = Lasso(alpha=1.0)\n",
        "    results       = model.fit(X, Y)\n",
        "    prediction_Y2 = results.predict(X_2)\n",
        "    return prediction_Y2  "
      ],
      "metadata": {
        "id": "lNUZVyZvXvVu"
      },
      "execution_count": 15,
      "outputs": []
    },
    {
      "cell_type": "code",
      "source": [
        "def RidgeReg(X, Y, X_2,typedist_,verbose_=False):\n",
        "    model         = Ridge(alpha=1.0)\n",
        "    results       = model.fit(X, Y)\n",
        "    prediction_Y2 = results.predict(X_2)\n",
        "    return prediction_Y2   "
      ],
      "metadata": {
        "id": "H2ahc9j2VXLy"
      },
      "execution_count": 16,
      "outputs": []
    },
    {
      "cell_type": "code",
      "source": [
        "def PLS(X, Y, X_2,n_components,typedist_,verbose_=False):\n",
        "    model         = PLSRegression(n_components=n_components)\n",
        "    results       = model.fit(X, Y)\n",
        "    prediction_Y2 = results.predict(X_2)\n",
        "    return prediction_Y2   "
      ],
      "metadata": {
        "id": "BpVkXFJXxViD"
      },
      "execution_count": 17,
      "outputs": []
    },
    {
      "cell_type": "code",
      "source": [
        "def PCR(X, Y, X_2,n_components,typedist_,verbose_=False):\n",
        "## https://scikit-learn.org/stable/auto_examples/cross_decomposition/plot_pcr_vs_pls.html\n",
        "    model         = make_pipeline(PCA(n_components=n_components), LinearRegression())\n",
        "    results       = model.fit(X, Y)\n",
        "    prediction_Y2 = results.predict(X_2)\n",
        "    return prediction_Y2   "
      ],
      "metadata": {
        "id": "PrmmGibK48oj"
      },
      "execution_count": 18,
      "outputs": []
    },
    {
      "cell_type": "code",
      "source": [
        "def Voting(X, Y, X_2,verbose_=False):  \n",
        "    ## https://scikit-learn.org/stable/auto_examples/ensemble/plot_voting_regressor.html#sphx-glr-auto-examples-ensemble-plot-voting-regressor-py\n",
        "    gb = GradientBoostingRegressor(random_state=42)\n",
        "    rf = RandomForestRegressor(random_state=42)\n",
        "    br = BaggingRegressor(random_state=42)\n",
        "    lr = LinearRegression()\n",
        "    ab = AdaBoostRegressor(random_state=42)\n",
        "    by = BayesianRidge(compute_score=True)\n",
        "    #ls = Lasso()\n",
        "    gb.fit(X, Y)\n",
        "    rf.fit(X, Y)\n",
        "    br.fit(X, Y)\n",
        "    lr.fit(X, Y)\n",
        "    ab.fit(X, Y)\n",
        "    by.fit(X, Y)\n",
        "    #ls.fit(X, Y)\n",
        "    voting = VotingRegressor([(\"gb\", gb), (\"rf\", rf), (\"br\", br), (\"lr\", lr), (\"ab\", ab), (\"by\", by)]) #, (\"ls\", ls)\n",
        "    voting.fit(X, Y)\n",
        "    prediction_Y2 = voting.predict(X_2)    \n",
        "    if verbose_ == True:\n",
        "        predgb = gb.predict(X_2)\n",
        "        predrf = rf.predict(X_2)\n",
        "        predbr = br.predict(X_2)\n",
        "        predlr = lr.predict(X_2)      \n",
        "        predab = ab.predict(X_2)       \n",
        "        predby = by.predict(X_2)       \n",
        "        #predls = ls.predict(X_2)\n",
        "\n",
        "        ## https://matplotlib.org/3.5.0/api/_as_gen/matplotlib.pyplot.plot.html Markers, Line styles ,Colors\n",
        "        fig, ax = plt.subplots(figsize=(19,10))\n",
        "        plt.plot(predgb, \"gd\", label=\"GradientBoostingRegressor\") ## go- rs \n",
        "        plt.plot(predrf, \"b^\", label=\"RandomForestRegressor\")\n",
        "        plt.plot(predbr, \"go-\",label=\"BaggingRegressor\")\n",
        "        plt.plot(predlr, \"ys\", label=\"LinearRegression\")\n",
        "        plt.plot(predab, \"bD\", label=\"AdaBoostRegressor\")\n",
        "        plt.plot(predby, \"bo\", label=\"BayesianRidge\")\n",
        "        #plt.plot(predls, \"ys-\", label=\"Lasso\")\n",
        "        plt.plot(prediction_Y2, \"r*\", ms=10, label=\"VotingRegressor\")\n",
        "\n",
        "        plt.tick_params(axis=\"x\", which=\"both\", bottom=False, top=False, labelbottom=False)\n",
        "        plt.ylabel(\"predicted\")\n",
        "        plt.xlabel(\"training samples\")\n",
        "        plt.legend(loc=\"best\")\n",
        "        plt.title(\"Regressor predictions and their average\")\n",
        "        plt.tick_params(colors = NARA, which='both')\n",
        "        ax.spines['bottom'].set_color(NARA)\n",
        "        ax.spines['top'   ].set_color(NARA) \n",
        "        ax.spines['right' ].set_color(NARA)\n",
        "        ax.spines['left'  ].set_color(NARA)\n",
        "        plt.savefig(\"fig_Voting\", transparent=True) \n",
        "        plt.show()\n",
        "    return prediction_Y2   "
      ],
      "metadata": {
        "id": "UFQb6V2fYha7"
      },
      "execution_count": 19,
      "outputs": []
    },
    {
      "cell_type": "code",
      "source": [
        "#https://drive.google.com/drive/folders/1Gj3XK9kM-lE18uBMe3qrZOGEm8yAI8i9\n",
        "#https://www.codegrepper.com/code-examples/python/how+to+read+csv+file+from+google+drive+on+google+colab+\n",
        "path        = 'https://drive.google.com/uc?export=download&id=' \n",
        "URL_Demanda = 'https://drive.google.com/file/d/1xcpXDTE7H6EBMLOkic5lq-lzSwiLG2ZS/view?usp=sharing'\n",
        "\n",
        "df_Demanda  = pd.read_csv(path + URL_Demanda .split('/')[-2], usecols=[0] ) #names=['CLVUNI','TYPE','NODE'], usecols=[1,2,3,4,5,6,], 1,2,3,4,5,6,7,8,9,10,11,12,13,15,\n",
        "df_Demanda.dropna(inplace=True)\n",
        "serie = df_Demanda.to_numpy()\n",
        "serie = StandardScaler().fit_transform(serie)\n",
        "serie = serie.ravel() ## Con esto quitamos el bracket o corchete en cada uno de los elementos del arreglo"
      ],
      "metadata": {
        "id": "7RW90yl-nu87"
      },
      "execution_count": 20,
      "outputs": []
    },
    {
      "cell_type": "code",
      "source": [
        "## Calcula distancia euclidiana\n",
        "def euclidean(neig1, neig2):\n",
        "\t  distance = 0.0\n",
        "\t  for i in range(len(neig1)):\n",
        "\t\t    distance += (neig1[i] - neig2[i])**2\n",
        "\t  return sqrt(distance)"
      ],
      "metadata": {
        "id": "yY6yd0WJBr7f"
      },
      "execution_count": 21,
      "outputs": []
    },
    {
      "cell_type": "code",
      "source": [
        "def analogo_knn(serie,vsele,k=10,tol=0.8,n_components=3,typedist='euclidian',typereg='OLS',verbose=False):    \n",
        "#    vsel       : Tamanio de la ventana de selección\n",
        "#    vfor       : Tamanio de la ventana de pronóstico\n",
        "#    k          : Número de vecinos a buscar k\n",
        "#    tol        : Tolerancia de tamaño de ventanas para seleccion de vecinos\n",
        "#    typedist   : medida de distancia, 'dtw' o 'euclidian' o 'pearson'\n",
        "\n",
        "    t_o = time.time()\n",
        "    n = len(serie) ## longitud total de la serie\n",
        "\n",
        "    ## PASO 1: Selección de las ventanas de mayor correlación.\n",
        "\n",
        "    ## Calculamos la distancia entre todos los vecinos.\n",
        "    vsele = vsele\n",
        "    distances = []\n",
        "    Y = serie[n-vsele:n]           ## últimos datos\n",
        "    for i in range(n-2*vsele):                              \n",
        "        if  typedist == 'dtw':     ## dynamic time warping\n",
        "            dist = dtw(Y, serie[i:i+vsele]).distance  \n",
        "        elif typedist == 'pearson':\n",
        "            dist = np.corrcoef(Y,serie[i:i+vsele])[1,0]\n",
        "        else:\n",
        "            dist = euclidean(Y,serie[i:i+vsele])\n",
        "        if dist > 0:\n",
        "            distances.append((i, dist))\n",
        "        \n",
        "    ## Calculamos el vecindario por distancia de menor a mayor y se guardan las posiciones.\n",
        "    if typedist == 'pearson':\n",
        "        ## En caso de pearson se ordena al revés, nos interesan los mayor correlación.\n",
        "        distances.sort(key=lambda tup: tup[1], reverse=True)\n",
        "    else:\n",
        "        ## En caso de pearson se ordena al revés, nos interesan los de menor distancia.\n",
        "        distances.sort(key=lambda tup: tup[1], reverse=False)\n",
        "\n",
        "    neighbors  = []\n",
        "    neighbors2 = []\n",
        "    positions  = []\n",
        "\n",
        "    ## Calculamos los k vecinos mas cercanos y guardamos las posiciones.\n",
        "    i = 0\n",
        "    for pos, dis in distances:\n",
        "        if i==0:      \n",
        "            positions.append(pos)   \n",
        "            neighbors.append(serie[pos:pos+vsele])\n",
        "            neighbors2.append(serie[pos+vsele:pos+2*vsele])  \n",
        "        else:\n",
        "            bandera = True\n",
        "            for p in positions:\n",
        "                 ## si ya teniamos una posición en la lista que pase la tolerancia, ya no la guardamos \n",
        "                if (abs(pos - p) < tol*vsele):\n",
        "                    bandera = False\n",
        "                    i = i - 1\n",
        "                    break\n",
        "            if bandera == True:\n",
        "                ## Guarda nuevo vecino\n",
        "                positions.append(pos)   \n",
        "                neighbors.append(serie[pos:pos+vsele])\n",
        "                neighbors2.append(serie[pos+vsele:pos+2*vsele])  \n",
        "                bandera = False\n",
        "        i = i + 1\n",
        "        if i == k:\n",
        "            break\n",
        "    if verbose==True:\n",
        "        print('positions KNN:', positions) ## posición de los k vecinos mas cercanos\n",
        "\n",
        "    neighbors  = np.array(neighbors)  \n",
        "    neighbors2 = np.array(neighbors2)    \n",
        "    vacia = []\n",
        "    if verbose==True:\n",
        "        print_serie2(neighbors,Y,'Selección con KNN:'+typedist,'demanda','time',8,5,'fig_t16_X_'+typedist+'_'+typereg)\n",
        "\n",
        "    t_sel = time.time() - t_o\n",
        "\n",
        "    ## PASO 2: Regresión entre los vecinos mas cercanos 'X' y la última ventana 'Y'\n",
        "\n",
        "    ## Definimos nuestros regresores   \n",
        "    X   = (neighbors.T).tolist()\n",
        "    X_2 = (neighbors2.T).tolist()\n",
        "    Y   = (Y).tolist()\n",
        "    prediction_Y2 = []\n",
        "\n",
        "    ## -- Random forest regression --\n",
        "    if typereg == 'RF':\n",
        "        prediction_Y2 = RF(X,Y,X_2,labels_=positions,typedist_=typedist,verbose_=verbose)\n",
        "\n",
        "    ## -- OLS with Stepwise --\n",
        "    if typereg == 'OLS':\n",
        "        prediction_Y2 = OLS(X,Y,X_2, pi_step_=0.001,verbose_=verbose)\n",
        "\n",
        "    ## -- Gradiant boosting regression --\n",
        "    if typereg == 'Boosting':\n",
        "        prediction_Y2 = Boosting(X, Y, X_2,typedist_=typedist,verbose_=verbose)   \n",
        "\n",
        "    ## -- Bagging regression --\n",
        "    if typereg == 'Bagging':\n",
        "        prediction_Y2 = Bagging(X, Y, X_2,typedist_=typedist,verbose_=verbose)   \n",
        "\n",
        "    ## -- Linear regression --\n",
        "    if typereg == 'LinearReg':\n",
        "        prediction_Y2 = LinearReg(X, Y, X_2,typedist_=typedist,verbose_=verbose)   \n",
        "\n",
        "    ## -- Ada boosting --\n",
        "    if typereg == 'AdaBoost':\n",
        "        prediction_Y2 = AdaBoost(X, Y, X_2,typedist_=typedist,verbose_=verbose)  \n",
        "\n",
        "    ## -- Bayesian Ridge --\n",
        "    if typereg == 'BayesRidge':\n",
        "        prediction_Y2 = BayesRidge(X, Y, X_2,typedist_=typedist,verbose_=verbose)  \n",
        "\n",
        "    ## -- Lasso regression --\n",
        "    if typereg == 'LassoReg':\n",
        "        prediction_Y2 = LassoReg(X, Y, X_2,typedist_=typedist,verbose_=verbose)   \n",
        "\n",
        "    ## -- Ridge regression --\n",
        "    if typereg == 'RidgeReg':\n",
        "        prediction_Y2 = RidgeReg(X, Y, X_2,typedist_=typedist,verbose_=verbose)\n",
        "\n",
        "    ## -- PLS Regression --\n",
        "    if typereg == 'PLS':\n",
        "        prediction_Y2 = PLS(X, Y, X_2,n_components=n_components,typedist_=typedist,verbose_=verbose)\n",
        "\n",
        "    ## -- PCA Regression --\n",
        "    if typereg == 'PCR':\n",
        "        prediction_Y2 = PCR(X, Y, X_2,n_components=n_components,typedist_=typedist,verbose_=verbose)\n",
        "\n",
        "    ## -- Voting regression -- \n",
        "    if typereg == 'Voting':\n",
        "        prediction_Y2 = Voting(X,Y,X_2,verbose_=verbose)\n",
        "        \n",
        "    ## -- Random forrest regression with GridSearchCV--\n",
        "    if typereg == 'AutoRF':\n",
        "        prediction_Y2 = AutoRF(X, Y, X_2,labels_=positions,typedist_=typedist,verbose_=verbose)        \n",
        "\n",
        "    if verbose==True:\n",
        "        print_serie2(neighbors2,prediction_Y2, 'Pronóstico - ' + typedist+' - ' + typereg ,'Demanda','Tiempo',8,5,'fig_t15_Y2_'+typedist+'_'+typereg)\n",
        "\n",
        "    t_reg = time.time() - t_sel - t_o\n",
        "\n",
        "    return prediction_Y2, t_sel, t_reg"
      ],
      "metadata": {
        "id": "yz9CDOHQnx0j"
      },
      "execution_count": 22,
      "outputs": []
    },
    {
      "cell_type": "code",
      "source": [
        "## ... (time serie) ... window.window.window.window.window.window.window.window.window.window.window.\n",
        "##                                           |                                               |       |\n",
        "##                                           |                                               |       |\n",
        "##                                           |<------------------ vsele -------------------->|<vpred>|\n",
        "##                                                       (selection and regression)        (prediction)\n",
        "##                                                                                                 \n",
        "##|<---------------------------------------- train ----------------------------------------->| <test>|\n",
        "\n",
        "## Parámetros de método Análogo\n",
        "periods       = 288        ## Número de periodos en una ventana\n",
        "periods_sele  = 7          ## Número de ventanas de selección\n",
        "periods_pred  = 1          ## Número de ventanas de pronóstico\n",
        "\n",
        "vsele = periods * periods_sele ## Número de periodos para selección\n",
        "vpred = periods * periods_pred ## Número de periodos para pronóstico\n",
        "\n",
        "k   = 6   ## k:   número de vecinos mas cercanos\n",
        "tol = 0.8 ## tol: porcentaje de tolerancia de cercania entre ventanas\n",
        "\n",
        "## Dibujamos la ventana de histórico y los datos de prueba  \n",
        "series = []; vacia = []; n = 2\n",
        "series.append(serie[len(serie)-n*vsele : len(serie)-vsele+vpred])\n",
        "series.append(serie[len(serie)-n*vsele : len(serie)-vsele])\n",
        "print_serie2(serie_=series,prototipo_=vacia , title_='Serie de demanda eléctrica', ytitle_='Demanda (estandarizada)',xtitle_='Tiempo', sizex_=25, sizey_=6, namefile_='fig_t15_demanda')\n",
        "\n",
        "## Definimos la ventana de prueba y entrenamiento\n",
        "X_train = serie[0 : len(serie) - vpred]\n",
        "y_test  = serie[len(serie) - vpred : len(serie)]\n",
        "\n",
        "dferror = pd.DataFrame(columns=['distance','regression','MAE','MAPE','timesel','timereg','time','time'])"
      ],
      "metadata": {
        "id": "WapmM09KUQBE",
        "colab": {
          "base_uri": "https://localhost:8080/",
          "height": 415
        },
        "outputId": "6afb8201-08f1-4ff3-f5f8-952cf70f104a"
      },
      "execution_count": 54,
      "outputs": [
        {
          "output_type": "display_data",
          "data": {
            "text/plain": [
              "<Figure size 1800x432 with 1 Axes>"
            ],
            "image/png": "[encoded data removed]"
          },
          "metadata": {}
        }
      ]
    },
    {
      "cell_type": "markdown",
      "source": [
        "---\n",
        "## Probamos el modelo con 'pearson' + 'RF'."
      ],
      "metadata": {
        "id": "5zd5GAj5VNrV"
      }
    },
    {
      "cell_type": "code",
      "source": [
        "if 1==1:\n",
        "    pred_pea_rf, t_sel_pea_rf, t_reg_pea_rf = analogo_knn(X_train,vsele=vsele,k=k,tol=tol,typedist='pearson',typereg='RF',verbose=False)\n",
        "    mae_pea_rf  = mean_absolute_error(y_test,pred_pea_rf[0:vpred])\n",
        "    mape_pea_rf = mean_absolute_percentage_error(y_test,pred_pea_rf[0:vpred])\n",
        "    dferror.append('pearson','RF')"
      ],
      "metadata": {
        "id": "IOOZQ8oiVN92"
      },
      "execution_count": 24,
      "outputs": []
    },
    {
      "cell_type": "markdown",
      "source": [
        "---\n",
        "## Probamos el modelo con 'pearson' + 'OLS'."
      ],
      "metadata": {
        "id": "l3OmgWRtYl-S"
      }
    },
    {
      "cell_type": "code",
      "source": [
        "if 1==1:\n",
        "    pred_pea_ols, t_sel_pea_ols, t_reg_pea_ols = analogo_knn(X_train,vsele=vsele,k=k,tol=tol,typedist='pearson',typereg='OLS',verbose=False)\n",
        "    mae_pea_ols  = mean_absolute_error(y_test,pred_pea_ols[0:vpred])    \n",
        "    mape_pea_ols = mean_absolute_percentage_error(y_test,pred_pea_ols[0:vpred])"
      ],
      "metadata": {
        "id": "SEhLWFrCYldR"
      },
      "execution_count": 25,
      "outputs": []
    },
    {
      "cell_type": "markdown",
      "source": [
        "---\n",
        "## Probamos el modelo con 'pearson' + 'Boosting'."
      ],
      "metadata": {
        "id": "3T-dBrnqT9gj"
      }
    },
    {
      "cell_type": "code",
      "source": [
        "if 1==1:\n",
        "    pred_pea_bos, t_sel_pea_bos, t_reg_pea_bos = analogo_knn(X_train,vsele=vsele,k=k,tol=tol,typedist='pearson',typereg='Boosting',verbose=False)\n",
        "    mae_pea_bos  = mean_absolute_error(y_test,pred_pea_bos[0:vpred])    \n",
        "    mape_pea_bos = mean_absolute_percentage_error(y_test,pred_pea_bos[0:vpred])"
      ],
      "metadata": {
        "id": "AQQUhvNxT9gs"
      },
      "execution_count": 26,
      "outputs": []
    },
    {
      "cell_type": "markdown",
      "source": [
        "---\n",
        "## Probamos el modelo con 'pearson' + 'Bagging'."
      ],
      "metadata": {
        "id": "LMeef0OpZ_Bo"
      }
    },
    {
      "cell_type": "code",
      "source": [
        "if 1==1:\n",
        "    pred_pea_bag, t_sel_pea_bag, t_reg_pea_bag = analogo_knn(X_train,vsele=vsele,k=k,tol=tol,typedist='pearson',typereg='Bagging',verbose=False)\n",
        "    mae_pea_bag  = mean_absolute_error(y_test,pred_pea_bag[0:vpred])    \n",
        "    mape_pea_bag = mean_absolute_percentage_error(y_test,pred_pea_bag[0:vpred])"
      ],
      "metadata": {
        "id": "ACXfiapiZ_Bw"
      },
      "execution_count": 27,
      "outputs": []
    },
    {
      "cell_type": "markdown",
      "source": [
        "---\n",
        "## Probamos el modelo con 'pearson' + 'LinearReg'."
      ],
      "metadata": {
        "id": "EnKlEcsOZ_FB"
      }
    },
    {
      "cell_type": "code",
      "source": [
        "if 1==1:\n",
        "    pred_pea_lin, t_sel_pea_lin, t_reg_pea_lin = analogo_knn(X_train,vsele=vsele,k=k,tol=tol,typedist='pearson',typereg='LinearReg',verbose=False)\n",
        "    mae_pea_lin  = mean_absolute_error(y_test,pred_pea_lin[0:vpred])    \n",
        "    mape_pea_lin = mean_absolute_percentage_error(y_test,pred_pea_lin[0:vpred])"
      ],
      "metadata": {
        "id": "ll5mCdxzZ_FC"
      },
      "execution_count": 28,
      "outputs": []
    },
    {
      "cell_type": "markdown",
      "source": [
        "---\n",
        "## Probamos el modelo con 'pearson' + 'AdaBoost'."
      ],
      "metadata": {
        "id": "KgaJRrVZd6YU"
      }
    },
    {
      "cell_type": "code",
      "source": [
        "if 1==1:\n",
        "    pred_pea_ada, t_sel_pea_ada, t_reg_pea_ada = analogo_knn(X_train,vsele=vsele,k=k,tol=tol,typedist='pearson',typereg='AdaBoost',verbose=False)\n",
        "    mae_pea_ada  = mean_absolute_error(y_test,pred_pea_ada[0:vpred])    \n",
        "    mape_pea_ada = mean_absolute_percentage_error(y_test,pred_pea_ada[0:vpred])"
      ],
      "metadata": {
        "id": "Iea0EHEcd6Yd"
      },
      "execution_count": 29,
      "outputs": []
    },
    {
      "cell_type": "markdown",
      "source": [
        "---\n",
        "## Probamos el modelo con 'pearson' + 'BayesRidge'."
      ],
      "metadata": {
        "id": "v20a61VmezVJ"
      }
    },
    {
      "cell_type": "code",
      "source": [
        "if 1==1:\n",
        "    pred_pea_bay, t_sel_pea_bay, t_reg_pea_bay = analogo_knn(X_train,vsele=vsele,k=k,tol=tol,typedist='pearson',typereg='BayesRidge',verbose=False)\n",
        "    mae_pea_bay  = mean_absolute_error(y_test,pred_pea_bay[0:vpred])    \n",
        "    mape_pea_bay = mean_absolute_percentage_error(y_test,pred_pea_bay[0:vpred])"
      ],
      "metadata": {
        "id": "WRmONxV_gdZN"
      },
      "execution_count": 30,
      "outputs": []
    },
    {
      "cell_type": "markdown",
      "source": [
        "---\n",
        "## Probamos el modelo con 'pearson' + 'LassoReg'."
      ],
      "metadata": {
        "id": "OzsFFB4MeY8b"
      }
    },
    {
      "cell_type": "code",
      "source": [
        "if 1==1:\n",
        "    pred_pea_las, t_sel_pea_las, t_reg_pea_las = analogo_knn(X_train,vsele=vsele,k=k,tol=tol,typedist='pearson',typereg='LassoReg',verbose=True)\n",
        "    mae_pea_las  = mean_absolute_error(y_test,pred_pea_las[0:vpred])    \n",
        "    mape_pea_las = mean_absolute_percentage_error(y_test,pred_pea_las[0:vpred])"
      ],
      "metadata": {
        "id": "cyLBBBpTeY8c"
      },
      "execution_count": null,
      "outputs": []
    },
    {
      "cell_type": "markdown",
      "source": [
        "---\n",
        "## Probamos el modelo con 'pearson' + 'RidgeReg'."
      ],
      "metadata": {
        "id": "VMI9GWc1gebE"
      }
    },
    {
      "cell_type": "code",
      "source": [
        "if 1==1:\n",
        "    pred_pea_rid, t_sel_pea_rid, t_reg_pea_rid = analogo_knn(X_train,vsele=vsele,k=k,tol=tol,typedist='pearson',typereg='RidgeReg',verbose=True)\n",
        "    mae_pea_rid  = mean_absolute_error(y_test,pred_pea_rid[0:vpred])    \n",
        "    mape_pea_rid = mean_absolute_percentage_error(y_test,pred_pea_rid[0:vpred])"
      ],
      "metadata": {
        "id": "vZtODv92gaV9"
      },
      "execution_count": null,
      "outputs": []
    },
    {
      "cell_type": "markdown",
      "source": [
        "---\n",
        "## Probamos el modelo con 'pearson' + 'PLS'."
      ],
      "metadata": {
        "id": "nNHqxpAzyrUd"
      }
    },
    {
      "cell_type": "code",
      "source": [
        "if 1==1:\n",
        "    pred_pea_pls, t_sel_pea_pls, t_reg_pea_pls = analogo_knn(X_train,vsele=vsele,k=k,tol=tol,n_components=4,typedist='pearson',typereg='PLS',verbose=False)\n",
        "    mae_pea_pls  = mean_absolute_error(y_test,pred_pea_pls[0:vpred])    \n",
        "    mape_pea_pls = mean_absolute_percentage_error(y_test,pred_pea_pls[0:vpred])"
      ],
      "metadata": {
        "id": "HEtyQV8Qyh6k"
      },
      "execution_count": 33,
      "outputs": []
    },
    {
      "cell_type": "markdown",
      "source": [
        "---\n",
        "## Probamos el modelo con 'pearson' + 'PCR'."
      ],
      "metadata": {
        "id": "z7ZaTFvH9hB_"
      }
    },
    {
      "cell_type": "code",
      "source": [
        "if 1==1:\n",
        "    pred_pea_pcr, t_sel_pea_pcr, t_reg_pea_pcr = analogo_knn(X_train,vsele=vsele,k=k,tol=tol,n_components=5,typedist='pearson',typereg='PCR',verbose=False)\n",
        "    mae_pea_pcr  = mean_absolute_error(y_test,pred_pea_pcr[0:vpred])    \n",
        "    mape_pea_pcr = mean_absolute_percentage_error(y_test,pred_pea_pcr[0:vpred])"
      ],
      "metadata": {
        "id": "ui-eNkWP9hCA"
      },
      "execution_count": 34,
      "outputs": []
    },
    {
      "cell_type": "markdown",
      "source": [
        "---\n",
        "## Probamos el modelo con 'pearson' + 'Voting'."
      ],
      "metadata": {
        "id": "lcYvprEWG5qr"
      }
    },
    {
      "cell_type": "code",
      "source": [
        "if 1==1:\n",
        "    pred_pea_vot, t_sel_pea_vot, t_reg_pea_vot = analogo_knn(X_train,vsele=vsele,k=k,tol=tol,typedist='pearson',typereg='Voting',verbose=True)\n",
        "    mae_pea_vot = mean_absolute_error(y_test,pred_pea_vot[0:vpred])\n",
        "    mape_pea_vot = mean_absolute_percentage_error(y_test,pred_pea_vot[0:vpred])"
      ],
      "metadata": {
        "id": "6ApA8i3kG5qr"
      },
      "execution_count": null,
      "outputs": []
    },
    {
      "cell_type": "markdown",
      "source": [
        "---\n",
        "\n",
        "---\n",
        "\n",
        "---\n",
        "\n",
        "# Ahora calcularemos el KNN con distancia euclidiana\n",
        "## Probamos el modelo con 'euclidian' + 'RF'."
      ],
      "metadata": {
        "id": "g9WpI4LuMr5Z"
      }
    },
    {
      "cell_type": "code",
      "source": [
        "if 1==1:\n",
        "    pred_euc_rf, t_sel_euc_rf, t_reg_euc_rf = analogo_knn(X_train,vsele=vsele,k=k,tol=tol,typedist='euclidian',typereg='RF',verbose=False)\n",
        "    mae_euc_rf  = mean_absolute_error(y_test,pred_euc_rf[0:vpred])\n",
        "    mape_euc_rf = mean_absolute_percentage_error(y_test,pred_euc_rf[0:vpred])"
      ],
      "metadata": {
        "id": "ks7PMmKiM4Aw"
      },
      "execution_count": 36,
      "outputs": []
    },
    {
      "cell_type": "markdown",
      "source": [
        "---\n",
        "## Probamos el modelo con 'euclidian' + 'OLS' "
      ],
      "metadata": {
        "id": "2ONaxTlmQ9gQ"
      }
    },
    {
      "cell_type": "code",
      "source": [
        "if 1==1:\n",
        "    pred_euc_ols, t_sel_euc_ols, t_reg_euc_ols = analogo_knn(X_train,vsele=vsele,k=k,tol=tol,typedist='euclidian',typereg='OLS',verbose=False)\n",
        "    mae_euc_ols  = mean_absolute_error(y_test,pred_euc_ols[0:vpred])\n",
        "    mape_euc_ols = mean_absolute_percentage_error(y_test,pred_euc_ols[0:vpred])"
      ],
      "metadata": {
        "id": "t4s_nyH9S7jA"
      },
      "execution_count": 37,
      "outputs": []
    },
    {
      "cell_type": "markdown",
      "source": [
        "---\n",
        "## Probamos el modelo con 'euclidian' + 'Bosting'."
      ],
      "metadata": {
        "id": "d0Ns_D7_mfz7"
      }
    },
    {
      "cell_type": "code",
      "source": [
        "if 1==1:\n",
        "    pred_euc_bos, t_sel_euc_bos, t_reg_euc_bos = analogo_knn(X_train,vsele=vsele,k=k,tol=tol,typedist='euclidian',typereg='Boosting',verbose=False)\n",
        "    mae_euc_bos  = mean_absolute_error(y_test,pred_euc_bos[0:vpred])    \n",
        "    mape_euc_bos = mean_absolute_percentage_error(y_test,pred_euc_bos[0:vpred])"
      ],
      "metadata": {
        "id": "dxQWt0XQmf0D"
      },
      "execution_count": 38,
      "outputs": []
    },
    {
      "cell_type": "markdown",
      "source": [
        "---\n",
        "## Probamos el modelo con 'euclidian' + 'Bagging'."
      ],
      "metadata": {
        "id": "7ud9AOzZmf0D"
      }
    },
    {
      "cell_type": "code",
      "source": [
        "if 1==1:\n",
        "    pred_euc_bag, t_sel_euc_bag, t_reg_euc_bag = analogo_knn(X_train,vsele=vsele,k=k,tol=tol,typedist='euclidian',typereg='Bagging',verbose=False)\n",
        "    mae_euc_bag  = mean_absolute_error(y_test,pred_euc_bag[0:vpred])    \n",
        "    mape_euc_bag = mean_absolute_percentage_error(y_test,pred_euc_bag[0:vpred])"
      ],
      "metadata": {
        "id": "Gw2VBbLamf0E"
      },
      "execution_count": 39,
      "outputs": []
    },
    {
      "cell_type": "markdown",
      "source": [
        "---\n",
        "## Probamos el modelo con 'euclidian' + 'LinearReg'."
      ],
      "metadata": {
        "id": "trUuG9efmf0E"
      }
    },
    {
      "cell_type": "code",
      "source": [
        "if 1==1:\n",
        "    pred_euc_lin, t_sel_euc_lin, t_reg_euc_lin = analogo_knn(X_train,vsele=vsele,k=k,tol=tol,typedist='euclidian',typereg='LinearReg',verbose=False)\n",
        "    mae_euc_lin  = mean_absolute_error(y_test,pred_euc_lin[0:vpred])    \n",
        "    mape_euc_lin = mean_absolute_percentage_error(y_test,pred_euc_lin[0:vpred])"
      ],
      "metadata": {
        "id": "g1yEZSPtmf0E"
      },
      "execution_count": 40,
      "outputs": []
    },
    {
      "cell_type": "markdown",
      "source": [
        "---\n",
        "## Probamos el modelo con 'euclidian' + 'AdaBoost'."
      ],
      "metadata": {
        "id": "hQ5tqxjOmf0E"
      }
    },
    {
      "cell_type": "code",
      "source": [
        "if 1==1:\n",
        "    pred_euc_ada, t_sel_euc_ada, t_reg_euc_ada = analogo_knn(X_train,vsele=vsele,k=k,tol=tol,typedist='euclidian',typereg='AdaBoost',verbose=False)\n",
        "    mae_euc_ada  = mean_absolute_error(y_test,pred_euc_ada[0:vpred])    \n",
        "    mape_euc_ada = mean_absolute_percentage_error(y_test,pred_euc_ada[0:vpred])"
      ],
      "metadata": {
        "id": "-zGXKaSDmf0E"
      },
      "execution_count": 41,
      "outputs": []
    },
    {
      "cell_type": "markdown",
      "source": [
        "---\n",
        "## Probamos el modelo con 'euclidian' + 'BayesRidge'."
      ],
      "metadata": {
        "id": "09ir-h81mf0F"
      }
    },
    {
      "cell_type": "code",
      "source": [
        "if 1==1:\n",
        "    pred_euc_bay, t_sel_euc_bay, t_reg_euc_bay = analogo_knn(X_train,vsele=vsele,k=k,tol=tol,typedist='euclidian',typereg='BayesRidge',verbose=False)\n",
        "    mae_euc_bay  = mean_absolute_error(y_test,pred_euc_bay[0:vpred])    \n",
        "    mape_euc_bay = mean_absolute_percentage_error(y_test,pred_euc_bay[0:vpred])"
      ],
      "metadata": {
        "id": "vqHgBRl4mf0F"
      },
      "execution_count": 42,
      "outputs": []
    },
    {
      "cell_type": "markdown",
      "source": [
        "---\n",
        "## Probamos el modelo con 'euclidian' + 'LassoReg'."
      ],
      "metadata": {
        "id": "6ZpcIusDmf0F"
      }
    },
    {
      "cell_type": "code",
      "source": [
        "if 1==1:\n",
        "    pred_euc_las, t_sel_euc_las, t_reg_euc_las = analogo_knn(X_train,vsele=vsele,k=k,tol=tol,typedist='euclidian',typereg='LassoReg',verbose=True)\n",
        "    mae_euc_las  = mean_absolute_error(y_test,pred_euc_las[0:vpred])    \n",
        "    mape_euc_las = mean_absolute_percentage_error(y_test,pred_euc_las[0:vpred])"
      ],
      "metadata": {
        "id": "OEPQGR_Dmf0F"
      },
      "execution_count": null,
      "outputs": []
    },
    {
      "cell_type": "markdown",
      "source": [
        "---\n",
        "## Probamos el modelo con 'euclidian' + 'RidgeReg'."
      ],
      "metadata": {
        "id": "19yFeUR-mf0F"
      }
    },
    {
      "cell_type": "code",
      "source": [
        "if 1==1:\n",
        "    pred_euc_rid, t_sel_euc_rid, t_reg_euc_rid = analogo_knn(X_train,vsele=vsele,k=k,tol=tol,typedist='euclidian',typereg='RidgeReg',verbose=False)\n",
        "    mae_euc_rid  = mean_absolute_error(y_test,pred_euc_rid[0:vpred])    \n",
        "    mape_euc_rid = mean_absolute_percentage_error(y_test,pred_euc_rid[0:vpred])"
      ],
      "metadata": {
        "id": "REgqrJJbmf0F"
      },
      "execution_count": 44,
      "outputs": []
    },
    {
      "cell_type": "markdown",
      "source": [
        "---\n",
        "## Probamos el modelo con 'euclidian' + 'PLS'."
      ],
      "metadata": {
        "id": "LYgGTY2F1k03"
      }
    },
    {
      "cell_type": "code",
      "source": [
        "if 1==1:\n",
        "    pred_euc_pls, t_sel_euc_pls, t_reg_euc_pls = analogo_knn(X_train,vsele=vsele,k=k,tol=tol,n_components=4,typedist='euclidian',typereg='PLS',verbose=False)\n",
        "    mae_euc_pls  = mean_absolute_error(y_test,pred_euc_pls[0:vpred])    \n",
        "    mape_euc_pls = mean_absolute_percentage_error(y_test,pred_euc_pls[0:vpred])"
      ],
      "metadata": {
        "id": "xTk4hQ1Z1k0_"
      },
      "execution_count": 45,
      "outputs": []
    },
    {
      "cell_type": "markdown",
      "source": [
        "---\n",
        "## Probamos el modelo con 'euclidian' + 'PCR'."
      ],
      "metadata": {
        "id": "XD-jINKV9BEo"
      }
    },
    {
      "cell_type": "code",
      "source": [
        "if 1==1:\n",
        "    pred_euc_pcr, t_sel_euc_pcr, t_reg_euc_pcr = analogo_knn(X_train,vsele=vsele,k=k,tol=tol,n_components=5,typedist='euclidian',typereg='PCR',verbose=True)\n",
        "    mae_euc_pcr  = mean_absolute_error(y_test,pred_euc_pcr[0:vpred])    \n",
        "    mape_euc_pcr = mean_absolute_percentage_error(y_test,pred_euc_pcr[0:vpred])"
      ],
      "metadata": {
        "id": "ozwvtyh69BEy"
      },
      "execution_count": null,
      "outputs": []
    },
    {
      "cell_type": "markdown",
      "source": [
        "---\n",
        "## Probamos el modelo con 'euclidian' + 'Voting'."
      ],
      "metadata": {
        "id": "AFsJZM3xyaqQ"
      }
    },
    {
      "cell_type": "code",
      "source": [
        "if 1==1:\n",
        "    pred_euc_vot, t_sel_euc_vot, t_reg_euc_vot = analogo_knn(X_train,vsele=vsele,k=k,tol=tol,typedist='euclidian',typereg='Voting',verbose=False)\n",
        "    mae_euc_vot  = mean_absolute_error(y_test,pred_euc_vot[0:vpred])\n",
        "    mape_euc_vot = mean_absolute_percentage_error(y_test,pred_euc_vot[0:vpred])"
      ],
      "metadata": {
        "id": "-nrFb2ilya3P"
      },
      "execution_count": 47,
      "outputs": []
    },
    {
      "cell_type": "markdown",
      "source": [
        "---\n",
        "\n",
        "## Probamos el modelo con 'euclidian' + 'AutoRF'."
      ],
      "metadata": {
        "id": "Q-d2J_qmtvDl"
      }
    },
    {
      "cell_type": "code",
      "source": [
        "if 1==0:\n",
        "    pred_euc_arf, t_sel_euc_arf, t_reg_euc_arf = analogo_knn(X_train,vsele=vsele,k=k,tol=tol,typedist='euclidian',typereg='AutoRF',verbose=False)\n",
        "    mae_euc_arf  = mean_absolute_error(y_test,pred_euc_arf[0:vpred])\n",
        "    mape_euc_arf = mean_absolute_percentage_error(y_test,pred_euc_arf[0:vpred])"
      ],
      "metadata": {
        "id": "PgcdIh45tvNY"
      },
      "execution_count": 48,
      "outputs": []
    },
    {
      "cell_type": "markdown",
      "source": [
        "---\n",
        "\n",
        "## Probamos el modelo con 'pearson' + 'AutoRF'.\n",
        "\n"
      ],
      "metadata": {
        "id": "dAsqjdWXBaZ_"
      }
    },
    {
      "cell_type": "code",
      "source": [
        "if 1==0:\n",
        "    pred_pea_arf, t_sel_pea_arf, t_reg_pea_arf = analogo_knn(X_train,vsele=vsele,k=k,tol=tol,typedist='pearson',typereg='AutoRF',verbose=False)\n",
        "    mae_pea_arf  = mean_absolute_error(y_test,pred_pea_arf[0:vpred])\n",
        "    mape_pea_arf = mean_absolute_percentage_error(y_test,pred_pea_arf[0:vpred])"
      ],
      "metadata": {
        "id": "bIZGvGtyBj78"
      },
      "execution_count": 49,
      "outputs": []
    },
    {
      "cell_type": "markdown",
      "source": [
        "---\n",
        "## Probamos el modelo con 'dtw' + 'OLS'."
      ],
      "metadata": {
        "id": "jHp_MvzxPS3A"
      }
    },
    {
      "cell_type": "code",
      "source": [
        "if 1==0:\n",
        "    pred_dtw_ols, t_sel_dtw_ols, t_reg_dtw_ols = analogo_knn(X_train,vsele=vsele,k=k,tol=tol,typedist='dtw',typereg='OLS',verbose=False)\n",
        "    mae_dtw_ols  = mean_absolute_error(y_test,pred_dtw_ols[0:vpred])\n",
        "    mape_dtw_ols = mean_absolute_percentage_error(y_test,pred_dtw_ols[0:vpred])"
      ],
      "metadata": {
        "id": "EY4A5aklO9UW"
      },
      "execution_count": 50,
      "outputs": []
    },
    {
      "cell_type": "markdown",
      "source": [
        "---\n",
        "## Probamos el modelo con 'dtw' + 'RF'."
      ],
      "metadata": {
        "id": "Gom_i027NI6e"
      }
    },
    {
      "cell_type": "code",
      "source": [
        "if 1==0:\n",
        "    pred_dtw_rf, t_sel_dtw_rf, t_reg_dtw_rf = analogo_knn(X_train,vsele=vsele,k=k,tol=tol,typedist='dtw',typereg='RF',verbose=False)\n",
        "    mae_dtw_rf  = mean_absolute_error(y_test,pred_dtw_rf[0:vpred])\n",
        "    mape_dtw_rf = mean_absolute_percentage_error(y_test,pred_dtw_rf[0:vpred])"
      ],
      "metadata": {
        "id": "QZ8Ssf9wNH9V"
      },
      "execution_count": 51,
      "outputs": []
    },
    {
      "cell_type": "markdown",
      "source": [
        "---\n",
        "## Comparamos graficamente los resultados"
      ],
      "metadata": {
        "id": "UUWwvdYNRGyN"
      }
    },
    {
      "cell_type": "code",
      "source": [
        "\n",
        "#RF OLS  Boosting Bagging LinearReg AdaBoost BayesRidge LassoReg RidgeReg Voting    \n",
        "print('| SELECCIÓN      | REGRESIÓN      | MAE             | MAPE             | TIEMPO SELECCIÓN     | TIEMPO REGRESIÓN  |')\n",
        "print('| :------------- | :------------- | -------------:  | -------------:   |-------------:        |-------------:     |')\n",
        "print('| PEARSON        | RF             |',str(trunc(mae_pea_rf,4)),'         |',str(trunc(mape_pea_rf,4)),'         |',str(trunc(t_sel_pea_rf,4)),'              |   ',str(trunc(t_reg_pea_rf,4)),     '        |')\n",
        "print('| PEARSON        | OLS + STEP     |',str(trunc(mae_pea_ols,4)),'         |',str(trunc(mape_pea_ols,4)),'         |',str(trunc(t_sel_pea_ols,4)),'              |   ',str(trunc(t_reg_pea_ols,4)), '        |')\n",
        "print('| PEARSON        | Boosting       |',str(trunc(mae_pea_bos,4)),'         |',str(trunc(mape_pea_bos,4)),'         |',str(trunc(t_sel_pea_bos,4)),'              |   ',str(trunc(t_reg_pea_bos,4)), '        |')\n",
        "print('| PEARSON        | Bagging        |',str(trunc(mae_pea_bag,4)),'         |',str(trunc(mape_pea_bag,4)),'         |',str(trunc(t_sel_pea_bag,4)),'              |   ',str(trunc(t_reg_pea_bag,4)), '        |')\n",
        "print('| PEARSON        | OLS            |',str(trunc(mae_pea_lin,4)),'         |',str(trunc(mape_pea_lin,4)),'         |',str(trunc(t_sel_pea_lin,4)),'              |   ',str(trunc(t_reg_pea_lin,4)), '        |')\n",
        "print('| PEARSON        | AdaBoost       |',str(trunc(mae_pea_ada,4)),'         |',str(trunc(mape_pea_ada,4)),'         |',str(trunc(t_sel_pea_ada,4)),'              |   ',str(trunc(t_reg_pea_ada,4)), '        |')\n",
        "print('| PEARSON        | BayesRidge     |',str(trunc(mae_pea_bay,4)),'         |',str(trunc(mape_pea_bay,4)),'         |',str(trunc(t_sel_pea_bay,4)),'              |   ',str(trunc(t_reg_pea_bay,4)), '        |')\n",
        "print('| PEARSON        | Lasso          |',str(trunc(mae_pea_las,4)),'         |',str(trunc(mape_pea_las,4)),'         |',str(trunc(t_sel_pea_las,4)),'              |   ',str(trunc(t_reg_pea_las,4)), '        |')\n",
        "print('| PEARSON        | Ridge          |',str(trunc(mae_pea_rid,4)),'         |',str(trunc(mape_pea_rid,4)),'         |',str(trunc(t_sel_pea_rid,4)),'              |   ',str(trunc(t_reg_pea_rid,4)), '        |')\n",
        "print('| PEARSON        | PLS            |',str(trunc(mae_pea_pls,4)),'         |',str(trunc(mape_pea_pls,4)),'         |',str(trunc(t_sel_pea_pls,4)),'              |   ',str(trunc(t_reg_pea_pls,4)), '        |')\n",
        "print('| PEARSON        | PCR            |',str(trunc(mae_pea_pcr,4)),'         |',str(trunc(mape_pea_pcr,4)),'         |',str(trunc(t_sel_pea_pcr,4)),'              |   ',str(trunc(t_reg_pea_pcr,4)), '        |')\n",
        "print('| PEARSON        | Voting         |',str(trunc(mae_pea_vot,4)),'         |',str(trunc(mape_pea_vot,4)),'         |',str(trunc(t_sel_pea_vot,4)),'              |   ',str(trunc(t_reg_pea_vot,4)), '        |')\n",
        "\n",
        "print('| EUCLIDIAN      | RF             |',str(trunc(mae_euc_rf,4)),'         |',str(trunc(mape_euc_rf,4)),'         |',str(trunc(t_sel_euc_rf,4)),'             |   ',str(trunc(t_reg_euc_rf,4)),     '        |')\n",
        "print('| EUCLIDIAN      | OLS + STEP     |',str(trunc(mae_euc_ols,4)),'         |',str(trunc(mape_euc_ols,4)),'         |',str(trunc(t_sel_euc_ols,4)),'             |   ',str(trunc(t_reg_euc_ols,4)),  '        |')\n",
        "print('| EUCLIDIAN      | Boosting       |',str(trunc(mae_euc_bos,4)),'         |',str(trunc(mape_euc_bos,4)),'         |',str(trunc(t_sel_euc_bos,4)),'              |   ',str(trunc(t_reg_euc_bos,4)), '        |')\n",
        "print('| EUCLIDIAN      | Bagging        |',str(trunc(mae_euc_bag,4)),'         |',str(trunc(mape_euc_bag,4)),'         |',str(trunc(t_sel_euc_bag,4)),'              |   ',str(trunc(t_reg_euc_bag,4)), '        |')\n",
        "print('| EUCLIDIAN      | OLS            |',str(trunc(mae_euc_lin,4)),'         |',str(trunc(mape_euc_lin,4)),'         |',str(trunc(t_sel_euc_lin,4)),'              |   ',str(trunc(t_reg_euc_lin,4)), '        |')\n",
        "print('| EUCLIDIAN      | AdaBoost       |',str(trunc(mae_euc_ada,4)),'         |',str(trunc(mape_euc_ada,4)),'         |',str(trunc(t_sel_euc_ada,4)),'              |   ',str(trunc(t_reg_euc_ada,4)), '        |')\n",
        "print('| EUCLIDIAN      | BayesRidge     |',str(trunc(mae_euc_bay,4)),'         |',str(trunc(mape_euc_bay,4)),'         |',str(trunc(t_sel_euc_bay,4)),'              |   ',str(trunc(t_reg_euc_bay,4)), '        |')\n",
        "print('| EUCLIDIAN      | Lasso          |',str(trunc(mae_euc_las,4)),'         |',str(trunc(mape_euc_las,4)),'         |',str(trunc(t_sel_euc_las,4)),'              |   ',str(trunc(t_reg_euc_las,4)), '        |')\n",
        "print('| EUCLIDIAN      | Ridge          |',str(trunc(mae_euc_rid,4)),'         |',str(trunc(mape_euc_rid,4)),'         |',str(trunc(t_sel_euc_rid,4)),'              |   ',str(trunc(t_reg_euc_rid,4)), '        |')\n",
        "print('| EUCLIDIAN      | PLS            |',str(trunc(mae_euc_pls,4)),'         |',str(trunc(mape_euc_pls,4)),'         |',str(trunc(t_sel_euc_pls,4)),'              |   ',str(trunc(t_reg_euc_pls,4)), '        |')\n",
        "print('| EUCLIDIAN      | PCR            |',str(trunc(mae_euc_pcr,4)),'         |',str(trunc(mape_euc_pcr,4)),'         |',str(trunc(t_sel_euc_pcr,4)),'              |   ',str(trunc(t_reg_euc_pcr,4)), '        |')\n",
        "print('| EUCLIDIAN      | Voting         |',str(trunc(mae_euc_vot,4)),'         |',str(trunc(mape_euc_vot,4)),'          |',str(trunc(t_sel_euc_vot,4)),'             |   ',str(trunc(t_reg_euc_vot,4)), '        |')\n",
        "\n",
        "#print('| EUCLIDIAN      | AutoRF         |',str(trunc(mae_euc_arf,4)),'         |',str(trunc(mape_euc_arf,4)),'         |',str(trunc(t_sel_euc_arf,4)),'             |   ',str(trunc(t_reg_euc_arf,4)),  '      |')\n",
        "#print('| PEARSON        | AutoRF         |',str(trunc(mae_pea_arf,4)),'         |',str(trunc(mape_pea_arf,4)),'         |',str(trunc(t_sel_pea_arf,4)),'              |   ',str(trunc(t_reg_pea_arf,4)), '      |')\n",
        "#print('| DTW            | OLS + STEP     |',str(trunc(mae_dtw_ols,4)),'         |',str(trunc(mape_dtw_ols,4)),'         |',str(trunc(t_sel_dtw_ols,4)),'            |   ',str(trunc(t_reg_dtw_ols,4)),    '|')\n",
        "#print('| DTW            | RF             |',str(trunc(mae_dtw_rf,4)),'         |',str(trunc(mape_dtw_rf,4)),'          |',str(trunc(t_sel_dtw_rf,4)),'            |   ',str(trunc(t_reg_dtw_rf,4)),    '|')"
      ],
      "metadata": {
        "id": "oL_8uHE-WPwE",
        "colab": {
          "base_uri": "https://localhost:8080/"
        },
        "outputId": "08b905c3-9b85-40b1-eb40-f122b2988deb"
      },
      "execution_count": 53,
      "outputs": [
        {
          "output_type": "stream",
          "name": "stdout",
          "text": [
            "| SELECCIÓN      | REGRESIÓN      | MAE             | MAPE             | TIEMPO SELECCIÓN     | TIEMPO REGRESIÓN  |\n",
            "| :------------- | :------------- | -------------:  | -------------:   |-------------:        |-------------:     |\n",
            "| PEARSON        | RF             | 0.4576          | 21.4238          | 3.6462               |    1.8121         |\n",
            "| PEARSON        | OLS + STEP     | 0.2346          | 36.1821          | 5.4616               |    0.0197         |\n",
            "| PEARSON        | Boosting       | 0.4459          | 16.5175          | 5.646               |    0.6474         |\n",
            "| PEARSON        | Bagging        | 0.4502          | 34.1345          | 5.9379               |    0.4336         |\n",
            "| PEARSON        | OLS            | 0.2326          | 34.1343          | 5.7003               |    0.0193         |\n",
            "| PEARSON        | AdaBoost       | 0.4105          | 23.2605          | 6.2057               |    0.4438         |\n",
            "| PEARSON        | BayesRidge     | 0.2329          | 34.0965          | 5.4112               |    0.0233         |\n",
            "| PEARSON        | Lasso          | 0.5456          | 48.195          | 5.5612               |    1.0414         |\n",
            "| PEARSON        | Ridge          | 0.2327          | 34.1188          | 3.9954               |    0.5001         |\n",
            "| PEARSON        | PLS            | 0.2322          | 34.1272          | 2.3066               |    0.0137         |\n",
            "| PEARSON        | PCR            | 0.2326          | 34.1368          | 2.3922               |    0.0134         |\n",
            "| PEARSON        | Voting         | 0.3642          | 27.2339          | 2.8625               |    4.6381         |\n",
            "| EUCLIDIAN      | RF             | 0.4539          | 21.7763          | 25.4274              |    0.9037         |\n",
            "| EUCLIDIAN      | OLS + STEP     | 0.2403          | 33.5331          | 25.367              |    0.01         |\n",
            "| EUCLIDIAN      | Boosting       | 0.387          | 28.8941          | 26.4313               |    0.392         |\n",
            "| EUCLIDIAN      | Bagging        | 0.4575          | 20.3977          | 27.1847               |    0.0978         |\n",
            "| EUCLIDIAN      | OLS            | 0.2453          | 33.6359          | 25.3848               |    0.0082         |\n",
            "| EUCLIDIAN      | AdaBoost       | 0.382          | 60.0881          | 25.3982               |    0.22         |\n",
            "| EUCLIDIAN      | BayesRidge     | 0.2449          | 33.757          | 25.4374               |    0.0112         |\n",
            "| EUCLIDIAN      | Lasso          | 0.5456          | 48.195          | 25.9222               |    0.6758         |\n",
            "| EUCLIDIAN      | Ridge          | 0.245          | 33.7195          | 25.4063               |    0.0078         |\n",
            "| EUCLIDIAN      | PLS            | 0.2288          | 34.5627          | 25.5314               |    0.0134         |\n",
            "| EUCLIDIAN      | PCR            | 0.2097          | 37.6691          | 26.0395               |    0.5389         |\n",
            "| EUCLIDIAN      | Voting         | 0.3494          | 33.0164           | 25.5612              |    3.4182         |\n"
          ]
        }
      ]
    },
    {
      "cell_type": "code",
      "source": [
        "fig  = plt.figure(figsize=(30,8))\n",
        "axes = fig.add_subplot(1, 1, 1)\n",
        "axes.legend()\n",
        "CYAN = '#76ced6' ; LILA = '#777bd4'; VERDE='#17cb49'; LETRASNARA ='#ff8000'; NARA ='#ff8000'; AZUL='#168fff'; GRIS = '#808080'\n",
        "mytitle = plt.title('Pronósticos de demanda eléctrica de una semana') # get the title property handler #plt.getp(title_obj)\n",
        "plt.setp(mytitle,    color=LETRASNARA) #set the color of title to red\n",
        "axes.xaxis.label.set_color(LETRASNARA)\n",
        "axes.yaxis.label.set_color(LETRASNARA)\n",
        "axes.tick_params(colors=LETRASNARA, which='both')\n",
        "\n",
        "AUX = np.arange( len(y_test) )\n",
        "plt.scatter ( AUX, y_test, s=25,marker='o', color = 'red', label = 'Y real', alpha=1/2)\n",
        "#axes.plot   ( y_test ,     '.-', color = 'red', label = 'Y',         alpha=1/4)\n",
        "axes.plot   ( pred_euc_ols, '.-', color = GRIS , label = 'Y_euc_ols', alpha=1/2)\n",
        "axes.plot   ( pred_pea_ols, '.-', color = NARA , label = 'Y_pea_ols', alpha=1/2)\n",
        "#axes.plot  ( pred_dtw_ols, '.-', color = LILA , label = 'Y_dtw_ols', alpha=1/2)\n",
        "#axes.plot  ( pred_euc_rf,  '.-', color = NARA , marker='x', label = 'Y_euc_rf', alpha=1/2)\n",
        "#axes.plot  ( pred_pea_rf,  '.-', color = GRIS , marker='x', label = 'Y_pea_rf' , alpha=1/2)\n",
        "#axes.plot   ( pred_pea_arf, '.-', color = VERDE, label = 'Y_pea_arf' , alpha=1/2)\n",
        "#axes.plot   ( pred_euc_arf, '.-', color = LILA , label = 'Y_euc_arf' , alpha=1/2)\n",
        "#axes.plot  ( pred_dtw_rf,  '.-', color = AZUL , label = 'Y_dtw_rf', alpha=1/2)\n",
        "#axes.plot  ( pred_pea_arf, '.-', color = AZUL , label = 'Y_pea_arf' , alpha=1/2)\n",
        "axes.plot   ( pred_pea_vot, '.-', color = AZUL , marker='x', label = 'Y_pea_vot', alpha=1/2)\n",
        "axes.plot   ( pred_euc_vot, '.-', color = CYAN , marker='x', label = 'Y_euc_vot', alpha=1/2)\n",
        "#axes.plot  ( xspline[3], yspline[3] , '.-'  , color = VERDE   , label = 'orden=4'  ,alpha=1/2)\n",
        "#plt.scatter( dfx_miss, dfy_miss, marker='x',  s=170 ,  color = 'red' , label = 'perdidos' ,alpha=1)\n",
        "marker='x',\n",
        "plt.axis([0,  288, -2, 3])\n",
        "\n",
        "axes.spines['bottom'].set_color(LETRASNARA)\n",
        "axes.spines['top'   ].set_color(LETRASNARA) \n",
        "axes.spines['right' ].set_color(LETRASNARA)\n",
        "axes.spines['left'  ].set_color(LETRASNARA)\n",
        "plt.legend()  \n",
        "plt.xticks(rotation=90)\n",
        "plt.savefig('fig_t15_ajuste_prono.png', transparent=True)\n",
        "plt.show()"
      ],
      "metadata": {
        "id": "WEhE46GFn1wI"
      },
      "execution_count": null,
      "outputs": []
    },
    {
      "cell_type": "markdown",
      "source": [
        "### Ligas interesantes\n",
        "\n",
        "[sklearn.ensemble: Ensemble Methods](https://scikit-learn.org/stable/modules/classes.html#module-sklearn.ensemble)\n",
        "\n",
        "[Ensemble methods sklearn](https://scikit-learn.org/0.16/modules/ensemble.html)\n",
        "\n",
        "[Growing and Pruning Ensembles in Python](https://machinelearningmastery.com/growing-and-pruning-ensembles-in-python/)\n",
        "\n",
        "[sklearn.feature_selection.RFE](https://scikit-learn.org/stable/modules/generated/sklearn.feature_selection.RFE.html#sklearn.feature_selection.RFE)\n",
        "\n",
        "[link texHow to Develop a Random Forest Ensemble in Python](https://machinelearningmastery.com/random-forest-ensemble-in-python/)"
      ],
      "metadata": {
        "id": "eyRgIpSPswGc"
      }
    }
  ]
}
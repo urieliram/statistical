{
  "nbformat": 4,
  "nbformat_minor": 0,
  "metadata": {
    "colab": {
      "name": "Tarea7.ipynb",
      "provenance": [],
      "authorship_tag": "ABX9TyN/9rRBo0ws1ByO9hwqfCig",
      "include_colab_link": true
    },
    "kernelspec": {
      "name": "python3",
      "display_name": "Python 3"
    },
    "language_info": {
      "name": "python"
    }
  },
  "cells": [
    {
      "cell_type": "markdown",
      "metadata": {
        "id": "view-in-github",
        "colab_type": "text"
      },
      "source": [
        "<a href=\"https://colab.research.google.com/github/urieliram/statistical/blob/main/Tarea7.ipynb\" target=\"_parent\"><img src=\"https://colab.research.google.com/assets/colab-badge.svg\" alt=\"Open In Colab\"/></a>"
      ]
    },
    {
      "cell_type": "code",
      "source": [
        "import numpy as np\n",
        "import pandas as pd\n",
        "import matplotlib.pyplot as plt\n",
        "import operator\n",
        "import matplotlib\n",
        "import statsmodels.tools.eval_measures as bias\n",
        "import statsmodels.api as sm\n",
        "from statsmodels.nonparametric.smoothers_lowess import lowess\n",
        "from mpl_toolkits.mplot3d import Axes3D # Axes3D import has side effects, it enables using projection='3d' in add_subplot\n",
        "from math import ceil\n",
        "from scipy import linalg\n",
        "from os import listdir\n",
        "from numpy.random import uniform, normal\n",
        "from numpy.linalg import *\n",
        "from scipy.stats.stats import pearsonr\n",
        "from sklearn.metrics import mean_absolute_error, mean_squared_error, mean_absolute_percentage_error\n",
        "from sklearn.neighbors import KernelDensity\n",
        "from statsmodels.nonparametric.kernel_regression import KernelReg"
      ],
      "metadata": {
        "id": "w2PGhXiSMo_m"
      },
      "execution_count": 135,
      "outputs": []
    },
    {
      "cell_type": "code",
      "source": [
        "def dibuja_hist(df,colour,name,Xlabel,Ylabel,title):\n",
        "    plt.figure()\n",
        "    df.hist(column=0, bins=25, grid=False, figsize=(6,3), color=colour, zorder=2, rwidth=0.9)\n",
        "    plt.xticks(rotation=90)\n",
        "    plt.xlabel(Xlabel)\n",
        "    plt.ylabel(Ylabel)\n",
        "    #https://stackoverflow.com/questions/9662995/matplotlib-change-title-and-colorbar-text-and-tick-colors/42020486\n",
        "    mytitle = plt.title(title) # get the title property handler   #plt.getp(title_obj)  \n",
        "    plt.setp(mytitle, color='#ff8000')                            # set the color of title\n",
        "    myax = plt.axes()   # get the axis property handler           # plt.getp(myax) print its propieties\n",
        "    myax.xaxis.label.set_color('#ff8000')\n",
        "    myax.yaxis.label.set_color('#ff8000')\n",
        "    myax.tick_params(colors='#ff8000', which='both')              # myax.spines['bottom'].set_color('yellow')\n",
        "    plt.savefig(name, transparent=True)\n",
        "    plt.show()                                                    # o plt.save_en_algún_formato()"
      ],
      "metadata": {
        "id": "oIPJqlybcCe4"
      },
      "execution_count": 136,
      "outputs": []
    },
    {
      "cell_type": "code",
      "source": [
        "def trunc(values, decs=0):\n",
        "    return np.trunc(values*10**decs)/(10**decs)"
      ],
      "metadata": {
        "id": "KB7WZXIJaph-"
      },
      "execution_count": 137,
      "outputs": []
    },
    {
      "cell_type": "markdown",
      "source": [
        "Esta función calcula los pesos de los puntos $x_i\\in\\mathcal{Rp}$ del vecindario alrededor del punto $x_o\\in\\mathcal{Rp}$. Se da mayor peso a las puntos $x_i$ mas cercanos al punto $x_o$ y menos peso a las observaciones más lejanas utilizando un kernel que asigna importancia a cada uno de los k vecinos de $x_i$ según su distancia a $x_o$."
      ],
      "metadata": {
        "id": "tFgs9VLWZCMx"
      }
    },
    {
      "cell_type": "code",
      "source": [
        "# Calcula los pesos y regresa una matriz diagonal con los pesos\n",
        "def get_weight_exp(xo, X, k): \n",
        "## k    : tamanio del vecindario (bandwidth)\n",
        "## X    : Regresores\n",
        "## xo   : punto donde se desea hacer la predicción.\n",
        "\n",
        "    n = X.shape[0]             ## numero de datos\n",
        "    weight = np.mat(np.eye(n)) ## Matriz de pesos identidad W.\n",
        "    \n",
        "  # Cálculo de pesos para todos los datos de entrenamiento xi.\n",
        "    for i in range(n): \n",
        "        xi = X[i] \n",
        "        d = (-2 * k * k) \n",
        "        weight[i, i] = np.exp(np.dot((xi-xo), (xi-xo).T)/d) \n",
        "        \n",
        "    return weight"
      ],
      "metadata": {
        "id": "Dj_Nc0CJZSHW"
      },
      "execution_count": 138,
      "outputs": []
    },
    {
      "cell_type": "markdown",
      "source": [
        "A continuación estimamos los coeficientes de regresión `β = (Xt W(xo) X)^{-1}) (Xt W Y)` con la matrix de pesos `W`."
      ],
      "metadata": {
        "id": "CDu8CEe9ZWBG"
      }
    },
    {
      "cell_type": "code",
      "source": [
        "def local_regression(X,W,Xo):\n",
        "    # W     : Matriz diagonal de pesos\n",
        "    # X     : Regresores\n",
        "    # xo    : punto donde se desea hacer la predicción.\n",
        "    Xt = X.T  # Calcula transpuesta de X\n",
        "    A = np.matmul(Xt, np.matmul(W,X)) \n",
        "    A = np.linalg.inv(A)   # Calcula inversa de A\n",
        "    B = np.matmul(Xt, np.matmul(W,Y)) \n",
        "    beta = np.matmul(A,B)\n",
        "    prediccion = np.matmul(Xo,beta)\n",
        "    return prediccion"
      ],
      "metadata": {
        "id": "6Z4_jZHMZXPI"
      },
      "execution_count": 139,
      "outputs": []
    },
    {
      "cell_type": "markdown",
      "source": [
        "A continuación haremos la comparación de resultados de regresión para datos de demanda eléctrica. La variable independiente `X` serán los datos de demanda del día anterior, y los datos independiente `Y` serán los datos de días con una mayor correlación con `X`. En esta sección, aplicaremos técnicas de regresión local con multiples regresores `X`. Los datos usados en esta sección están disponibles en [demanda.csv](https://drive.google.com/file/d/1KpY2p4bfVEwGRh5tJjMx9QpH6SEwrUwH/view?usp=sharing)"
      ],
      "metadata": {
        "id": "K2x1V0GtZxDs"
      }
    },
    {
      "cell_type": "markdown",
      "source": [
        "## Muestreo **bootstrap** en estimación de error en la predicción de demanda eléctrica usando regresión líneal múltiple"
      ],
      "metadata": {
        "id": "gEiWA2WO84Un"
      }
    },
    {
      "cell_type": "code",
      "source": [
        "df  = pd.read_csv('demanda.csv')\n",
        "X   = pd.DataFrame(df[['X1','X2']]).to_numpy()\n",
        "X   = pd.DataFrame(df[['X0','X1','X2','X3','X4','X5','X6','X7','X8','X9']]).to_numpy()\n",
        "Y   = pd.DataFrame(df[['Y']]).to_numpy()"
      ],
      "metadata": {
        "id": "Man_FZLJZyQM"
      },
      "execution_count": 140,
      "outputs": []
    },
    {
      "cell_type": "markdown",
      "source": [
        "A continuación se calcula un modelo de regresión lineal múltiple para una de las muestras `X_train` elegidas aleatoriamente un 50% de datos del total del conjunto `X`. Los datos de error (MAE) de todas las réplicas del muestreo aleatorio se guardan en la lista `bootstrap_ols`."
      ],
      "metadata": {
        "id": "zLmbup9PaS0L"
      }
    },
    {
      "cell_type": "code",
      "source": [
        "bootstrap_ols= []\n",
        "\n",
        "for rep in range(10):\n",
        "    a = np.arange(0,X.shape[0])\n",
        "    b = np.sort(np.random.choice(a, replace=False, size = int(len(a)*0.5)))\n",
        "    #c = np.sort(np.setdiff1d(a, b)) El complemento del conjunto seleccionado\n",
        "    X_train = np.delete(X, b, axis = 0)\n",
        "    Y_train = np.delete(Y, b, axis = 0)\n",
        "    \n",
        "    olsmod = sm.OLS(Y_train, X_train)\n",
        "    olsres = olsmod.fit()\n",
        "    Y_pred = olsres.predict(X_train)  \n",
        "    bootstrap_ols.append(mean_absolute_error(Y_train,Y_pred))"
      ],
      "metadata": {
        "id": "VtR0AW2_aV0t"
      },
      "execution_count": 141,
      "outputs": []
    },
    {
      "cell_type": "code",
      "source": [
        "dfb = pd.DataFrame((np.asarray(bootstrap_ols)).T)\n",
        "bootstrap_mean = dfb.mean(numeric_only = True)\n",
        "bootstrap_std = dfb.std(numeric_only = True)\n",
        "dibuja_hist(dfb,colour='#76ced6',name='hist_t7_1.png',Xlabel=\"Error\",Ylabel=\"Frecuencia\",title=\"Error de predicción de demanda estimado con Boostrap\")\n",
        "print(bootstrap_mean)\n",
        "print(bootstrap_std)"
      ],
      "metadata": {
        "colab": {
          "base_uri": "https://localhost:8080/",
          "height": 392
        },
        "id": "Br0qnEsub-pH",
        "outputId": "f76b1c65-32e3-49f3-b55e-32f46802bfd9"
      },
      "execution_count": 142,
      "outputs": [
        {
          "output_type": "stream",
          "name": "stderr",
          "text": [
            "/usr/local/lib/python3.7/dist-packages/ipykernel_launcher.py:10: MatplotlibDeprecationWarning: Adding an axes using the same arguments as a previous axes currently reuses the earlier instance.  In a future version, a new instance will always be created and returned.  Meanwhile, this warning can be suppressed, and the future behavior ensured, by passing a unique label to each axes instance.\n",
            "  # Remove the CWD from sys.path while we load stuff.\n"
          ]
        },
        {
          "output_type": "display_data",
          "data": {
            "text/plain": [
              "<Figure size 432x288 with 0 Axes>"
            ]
          },
          "metadata": {}
        },
        {
          "output_type": "display_data",
          "data": {
            "image/png": "[encoded data removed]",
            "text/plain": [
              "<Figure size 432x216 with 1 Axes>"
            ]
          },
          "metadata": {
            "needs_background": "dark"
          }
        },
        {
          "output_type": "stream",
          "name": "stdout",
          "text": [
            "0    119.344981\n",
            "dtype: float64\n",
            "0    5.301715\n",
            "dtype: float64\n"
          ]
        }
      ]
    },
    {
      "cell_type": "markdown",
      "source": [
        "## Muestreo **cross-validation** en estimación de error en la predicción de demanda eléctrica usando regresión líneal múltiple\n",
        "En esta función se calcula un modelo de regresión lineal múltiple para cada una de las una de las muestras `X_test` extraidas del total del conjunto de entrenamiento `X_train`. Los datos de error del muestreo cross-validation se guardan en la lista cross_ols."
      ],
      "metadata": {
        "id": "vluCfkFVvRZ-"
      }
    },
    {
      "cell_type": "code",
      "source": [
        "cross_ols = []\n",
        "nblocks    = X.shape[0] -1\n",
        "size = int( X.shape[0] / nblocks)\n",
        "intervals = np.arange(size, X.shape[0], size)\n",
        "\n",
        "for i in intervals:  \n",
        "    a = np.arange(0,X.shape[0])\n",
        "    b = np.arange(i-size,i)\n",
        "    c = np.sort(np.setdiff1d(a, b)) #El complemento del conjunto seleccionado\n",
        "    #print('i=',i)\n",
        "    #print(b)\n",
        "    #print(c)\n",
        "    #print('-------------------')\n",
        "    X_test  = np.delete(X, b, axis = 0)\n",
        "    Y_test  = np.delete(Y, b, axis = 0)    \n",
        "    X_train = np.delete(X, c, axis = 0)\n",
        "    Y_train = np.delete(Y, c, axis = 0)\n",
        "\n",
        "    olsmod  = sm.OLS(Y_train, X_train)\n",
        "    olsres  = olsmod.fit()\n",
        "    Y_pred  = olsres.predict(X_test)  \n",
        "    cross_ols.append(mean_absolute_error(Y_test,Y_pred))"
      ],
      "metadata": {
        "id": "eULXAGFQz5uG"
      },
      "execution_count": 143,
      "outputs": []
    },
    {
      "cell_type": "code",
      "source": [
        "dfb = pd.DataFrame((np.asarray(cross_ols)).T)\n",
        "cross_mean = dfb.mean(numeric_only = True)\n",
        "cross_std = dfb.std(numeric_only = True)\n",
        "dibuja_hist(dfb,colour='#777bd4',name='hist_t7_1.png',Xlabel=\"Error\",Ylabel=\"Frecuencia\",title=\"Error de predicción de demanda estimado con Cross-validation\")\n",
        "print(cross_mean)\n",
        "print(cross_std)"
      ],
      "metadata": {
        "colab": {
          "base_uri": "https://localhost:8080/",
          "height": 392
        },
        "outputId": "5beeab13-0421-4bd7-d7af-b835efdd9314",
        "id": "OFfuAIgfDcm2"
      },
      "execution_count": 144,
      "outputs": [
        {
          "output_type": "stream",
          "name": "stderr",
          "text": [
            "/usr/local/lib/python3.7/dist-packages/ipykernel_launcher.py:10: MatplotlibDeprecationWarning: Adding an axes using the same arguments as a previous axes currently reuses the earlier instance.  In a future version, a new instance will always be created and returned.  Meanwhile, this warning can be suppressed, and the future behavior ensured, by passing a unique label to each axes instance.\n",
            "  # Remove the CWD from sys.path while we load stuff.\n"
          ]
        },
        {
          "output_type": "display_data",
          "data": {
            "text/plain": [
              "<Figure size 432x288 with 0 Axes>"
            ]
          },
          "metadata": {}
        },
        {
          "output_type": "display_data",
          "data": {
            "image/png": "[encoded data removed]",
            "text/plain": [
              "<Figure size 432x216 with 1 Axes>"
            ]
          },
          "metadata": {
            "needs_background": "dark"
          }
        },
        {
          "output_type": "stream",
          "name": "stdout",
          "text": [
            "0    184.102077\n",
            "dtype: float64\n",
            "0    76.380279\n",
            "dtype: float64\n"
          ]
        }
      ]
    }
  ]
}
{
  "nbformat": 4,
  "nbformat_minor": 0,
  "metadata": {
    "colab": {
      "name": "Tarea7.ipynb",
      "provenance": [],
      "authorship_tag": "ABX9TyPqquA9jVpnUes9qavuZwc7",
      "include_colab_link": true
    },
    "kernelspec": {
      "name": "python3",
      "display_name": "Python 3"
    },
    "language_info": {
      "name": "python"
    }
  },
  "cells": [
    {
      "cell_type": "markdown",
      "metadata": {
        "id": "view-in-github",
        "colab_type": "text"
      },
      "source": [
        "<a href=\"https://colab.research.google.com/github/urieliram/statistical/blob/main/Tarea7.ipynb\" target=\"_parent\"><img src=\"https://colab.research.google.com/assets/colab-badge.svg\" alt=\"Open In Colab\"/></a>"
      ]
    },
    {
      "cell_type": "code",
      "source": [
        "import numpy as np\n",
        "import pandas as pd\n",
        "import matplotlib.pyplot as plt\n",
        "import operator\n",
        "import matplotlib\n",
        "import statsmodels.tools.eval_measures as bias\n",
        "import statsmodels.api as sm\n",
        "from statsmodels.nonparametric.smoothers_lowess import lowess\n",
        "from mpl_toolkits.mplot3d import Axes3D # Axes3D import has side effects, it enables using projection='3d' in add_subplot\n",
        "from math import ceil\n",
        "from scipy import linalg\n",
        "from os import listdir\n",
        "from numpy.random import uniform, normal\n",
        "from numpy.linalg import *\n",
        "from scipy.stats.stats import pearsonr\n",
        "from sklearn.metrics import mean_absolute_error, mean_squared_error, mean_absolute_percentage_error\n",
        "from sklearn.neighbors import KernelDensity\n",
        "from statsmodels.nonparametric.kernel_regression import KernelReg"
      ],
      "metadata": {
        "id": "w2PGhXiSMo_m"
      },
      "execution_count": 21,
      "outputs": []
    },
    {
      "cell_type": "markdown",
      "source": [
        "# Tarea 7: **Cross-validation** Y **Bootstrap** en validación de modelos de regresión local en predicción de demanda eléctrica.\n",
        "\n",
        "> Instructions: Apply both cross-validation and bootstrap to your project data to study how variable your results are when you switch the test set around.`\n",
        "\n",
        "En esta tarea haremos validación y pruebas al modelo planteado en la tarea 6 de regresión local (lineal) para datos de demanda eléctrica. La variable independiente $X$ serán los datos de demanda del día anterior, y los datos independiente $Y$ serán los datos de días con una mayor correlación con $X$.\n",
        "\n",
        "La implementación fue realizada basada en las consideraciones del libro [The Elements of Statistical Learning](https://link.springer.com/book/10.1007/978-0-387-84858-7) secciones; 7.11 Bootstrap Methods y 7.10 Cross-Validation.\n",
        "\n",
        "Los datos usados en esta sección están disponibles en [demanda.csv](https://drive.google.com/file/d/1KpY2p4bfVEwGRh5tJjMx9QpH6SEwrUwH/view?usp=sharing)"
      ],
      "metadata": {
        "id": "8EyhiU2j5Jr_"
      }
    },
    {
      "cell_type": "markdown",
      "source": [
        "Iniciamos calcuando los pesos de los puntos $x_i\\in\\mathcal{Rp}$ del vecindario alrededor del punto $x_o\\in\\mathcal{Rp}$.\n",
        "\n",
        "Damos mayor peso a las puntos $x_i$ mas cercanos al punto $x_o$ y menos peso a las observaciones más lejanas. \n",
        "Calcularemos los pesos de los puntos utilizando un kernel que asigna importancia a cada uno de los k vecinos de $x_i$ según su distancia a $x_o$."
      ],
      "metadata": {
        "id": "tFgs9VLWZCMx"
      }
    },
    {
      "cell_type": "code",
      "source": [
        "# Calcula los pesos y regresa una matriz diagonal con los pesos\n",
        "def get_weight_exp(xo, X, k): \n",
        "## k    : tamanio del vecindario (bandwidth)\n",
        "## X    : Regresores\n",
        "## xo   : punto donde se desea hacer la predicción.\n",
        "\n",
        "    n = X.shape[0]             ## numero de datos\n",
        "    weight = np.mat(np.eye(n)) ## Matriz de pesos identidad W.\n",
        "    \n",
        "  # Cálculo de pesos para todos los datos de entrenamiento xi.\n",
        "    for i in range(n): \n",
        "        xi = X[i] \n",
        "        d = (-2 * k * k) \n",
        "        weight[i, i] = np.exp(np.dot((xi-xo), (xi-xo).T)/d) \n",
        "        \n",
        "    return weight"
      ],
      "metadata": {
        "id": "Dj_Nc0CJZSHW"
      },
      "execution_count": 22,
      "outputs": []
    },
    {
      "cell_type": "markdown",
      "source": [
        "A continuación estimamos los coeficientes de regresión `β = (Xt W(xo) X)^{-1}) (Xt W Y)` con la matrix de pesos `W`."
      ],
      "metadata": {
        "id": "CDu8CEe9ZWBG"
      }
    },
    {
      "cell_type": "code",
      "source": [
        "def local_regression(X,W,Xo):\n",
        "    # W     --> Matriz diagonal de pesos\n",
        "    # X     --> Regresores\n",
        "    # xo    --> punto donde se desea hacer la predicción.\n",
        "    Xt = X.T  # Calcula transpuesta de X\n",
        "    A = np.matmul(Xt, np.matmul(W,X)) \n",
        "    A = np.linalg.inv(A)   # Calcula inversa de A\n",
        "    B = np.matmul(Xt, np.matmul(W,Y)) \n",
        "    beta = np.matmul(A,B)\n",
        "    prediccion = np.matmul(Xo,beta)\n",
        "    return prediccion"
      ],
      "metadata": {
        "id": "6Z4_jZHMZXPI"
      },
      "execution_count": 23,
      "outputs": []
    },
    {
      "cell_type": "markdown",
      "source": [
        "## Regresión local en $\\mathcal{Rp}$ en predicción de demanda eléctrica\n",
        "\n",
        "A continuación haremos la comparación de resultados de regresión para datos de demanda eléctrica. La variable independiente $X$ serán los datos de demanda del día anterior, y los datos independiente $Y$ serán los datos de días con una mayor correlación con $X$. En esta sección, aplicaremos técnicas de regresión local con multiples regresores X.\n",
        "\n",
        "Los datos usados en esta sección están disponibles en [demanda.csv](https://drive.google.com/file/d/1KpY2p4bfVEwGRh5tJjMx9QpH6SEwrUwH/view?usp=sharing)"
      ],
      "metadata": {
        "id": "K2x1V0GtZxDs"
      }
    },
    {
      "cell_type": "code",
      "source": [
        "df    = pd.read_csv('demanda.csv')\n",
        "#df.std(numeric_only = True) \n",
        "#df.mean(numeric_only = True)\n",
        "#df = df - df.mean(numeric_only = True)\n",
        "#df = df / df.std(numeric_only = True)\n",
        "X   = pd.DataFrame(df[['X1','X2']]).to_numpy()\n",
        "Y   = pd.DataFrame(df[['Y']]).to_numpy()\n",
        "#X = X + uniform()"
      ],
      "metadata": {
        "id": "Man_FZLJZyQM"
      },
      "execution_count": 24,
      "outputs": []
    },
    {
      "cell_type": "markdown",
      "source": [
        "En esta función se recorre uno a uno los puntos de la función de `X_test` para calcular la predicción. Es decir, para cada uno de los datos, seleccionaremos una vecindad de k puntos muestreados y los usaremos como conjunto de entrenamiento para un problema de regresión lineal con pesos. Aunque ajustamos un modelo lineal completo a los datos de la vecindad, solamente lo usamos para evaluar el ajuste en el único punto `xo`. "
      ],
      "metadata": {
        "id": "zLmbup9PaS0L"
      }
    },
    {
      "cell_type": "code",
      "source": [
        "k = 0 # Tamanio del vecindario\n",
        "kmin = 10\n",
        "kmax = 25\n",
        "rep_list= []\n",
        "Y_local_list= []\n",
        "aux = 0\n",
        "\n",
        "for rep in range(10):\n",
        "    Y_local = []\n",
        "    a = np.sort(np.arange(0,X.shape[0]))\n",
        "    b = np.sort(np.random.choice(a, replace=False, size = int(len(a)*0.5)))\n",
        "    c = np.sort(np.setdiff1d(a, b))\n",
        "    X_train = np.delete(X, b, axis = 0)\n",
        "    X_test  = np.delete(X, c, axis = 0)\n",
        "    Y_train = np.delete(Y, b, axis = 0)\n",
        "    Y_test  = np.delete(Y, c, axis = 0)\n",
        "    #for i in range(X_train.shape[0]):   #para local punto por punto\n",
        "    for i in range(1):\n",
        "        k = kmin\n",
        "        flag = True\n",
        "        while( flag == True ):\n",
        "            try:\n",
        "                #xo = X_train[[i]]\n",
        "                #W = get_weight_exp(xo, X_train, k)\n",
        "                #pred = local_regression(X_test, W, xo)\n",
        "                #Y_local.append(pred.item(0))\n",
        "\n",
        "                Y_pred = []\n",
        "                olsmod = sm.OLS(Y_train, X_train)\n",
        "                olsres = olsmod.fit()\n",
        "                Y_pred = olsres.predict(X_test)\n",
        "                Y_local.append(Y_pred)\n",
        "\n",
        "            except:\n",
        "                print(\"Sorry! Singular matrix found in position i=\",str(i),\"k=\", k)\n",
        "                k = k + 1\n",
        "                if(k>kmax):                \n",
        "                    flag = False\n",
        "                    Y_local.append(0)\n",
        "            else:\n",
        "                flag = False \n",
        "    \n",
        "    rep_list.append(mean_absolute_error(Y_test,Y_local))\n",
        "Y_local_list.append(rep_list)\n",
        "print(Y_local_list)"
      ],
      "metadata": {
        "colab": {
          "base_uri": "https://localhost:8080/",
          "height": 380
        },
        "id": "VtR0AW2_aV0t",
        "outputId": "398fb9bf-14e1-43f9-b4e0-7de45054e535"
      },
      "execution_count": 25,
      "outputs": [
        {
          "output_type": "error",
          "ename": "ValueError",
          "evalue": "ignored",
          "traceback": [
            "\u001b[0;31m---------------------------------------------------------------------------\u001b[0m",
            "\u001b[0;31mValueError\u001b[0m                                Traceback (most recent call last)",
            "\u001b[0;32m<ipython-input-25-7a74b5d90041>\u001b[0m in \u001b[0;36m<module>\u001b[0;34m()\u001b[0m\n\u001b[1;32m     41\u001b[0m                 \u001b[0mflag\u001b[0m \u001b[0;34m=\u001b[0m \u001b[0;32mFalse\u001b[0m\u001b[0;34m\u001b[0m\u001b[0;34m\u001b[0m\u001b[0m\n\u001b[1;32m     42\u001b[0m \u001b[0;34m\u001b[0m\u001b[0m\n\u001b[0;32m---> 43\u001b[0;31m     \u001b[0mrep_list\u001b[0m\u001b[0;34m.\u001b[0m\u001b[0mappend\u001b[0m\u001b[0;34m(\u001b[0m\u001b[0mmean_absolute_error\u001b[0m\u001b[0;34m(\u001b[0m\u001b[0mY_test\u001b[0m\u001b[0;34m,\u001b[0m\u001b[0mY_local\u001b[0m\u001b[0;34m)\u001b[0m\u001b[0;34m)\u001b[0m\u001b[0;34m\u001b[0m\u001b[0;34m\u001b[0m\u001b[0m\n\u001b[0m\u001b[1;32m     44\u001b[0m \u001b[0mY_local_list\u001b[0m\u001b[0;34m.\u001b[0m\u001b[0mappend\u001b[0m\u001b[0;34m(\u001b[0m\u001b[0mrep_list\u001b[0m\u001b[0;34m)\u001b[0m\u001b[0;34m\u001b[0m\u001b[0;34m\u001b[0m\u001b[0m\n\u001b[1;32m     45\u001b[0m \u001b[0mprint\u001b[0m\u001b[0;34m(\u001b[0m\u001b[0mY_local_list\u001b[0m\u001b[0;34m)\u001b[0m\u001b[0;34m\u001b[0m\u001b[0;34m\u001b[0m\u001b[0m\n",
            "\u001b[0;32m/usr/local/lib/python3.7/dist-packages/sklearn/metrics/_regression.py\u001b[0m in \u001b[0;36mmean_absolute_error\u001b[0;34m(y_true, y_pred, sample_weight, multioutput)\u001b[0m\n\u001b[1;32m    190\u001b[0m     \"\"\"\n\u001b[1;32m    191\u001b[0m     y_type, y_true, y_pred, multioutput = _check_reg_targets(\n\u001b[0;32m--> 192\u001b[0;31m         \u001b[0my_true\u001b[0m\u001b[0;34m,\u001b[0m \u001b[0my_pred\u001b[0m\u001b[0;34m,\u001b[0m \u001b[0mmultioutput\u001b[0m\u001b[0;34m\u001b[0m\u001b[0;34m\u001b[0m\u001b[0m\n\u001b[0m\u001b[1;32m    193\u001b[0m     )\n\u001b[1;32m    194\u001b[0m     \u001b[0mcheck_consistent_length\u001b[0m\u001b[0;34m(\u001b[0m\u001b[0my_true\u001b[0m\u001b[0;34m,\u001b[0m \u001b[0my_pred\u001b[0m\u001b[0;34m,\u001b[0m \u001b[0msample_weight\u001b[0m\u001b[0;34m)\u001b[0m\u001b[0;34m\u001b[0m\u001b[0;34m\u001b[0m\u001b[0m\n",
            "\u001b[0;32m/usr/local/lib/python3.7/dist-packages/sklearn/metrics/_regression.py\u001b[0m in \u001b[0;36m_check_reg_targets\u001b[0;34m(y_true, y_pred, multioutput, dtype)\u001b[0m\n\u001b[1;32m     92\u001b[0m         \u001b[0mthe\u001b[0m \u001b[0mdtype\u001b[0m \u001b[0margument\u001b[0m \u001b[0mpassed\u001b[0m \u001b[0mto\u001b[0m \u001b[0mcheck_array\u001b[0m\u001b[0;34m.\u001b[0m\u001b[0;34m\u001b[0m\u001b[0;34m\u001b[0m\u001b[0m\n\u001b[1;32m     93\u001b[0m     \"\"\"\n\u001b[0;32m---> 94\u001b[0;31m     \u001b[0mcheck_consistent_length\u001b[0m\u001b[0;34m(\u001b[0m\u001b[0my_true\u001b[0m\u001b[0;34m,\u001b[0m \u001b[0my_pred\u001b[0m\u001b[0;34m)\u001b[0m\u001b[0;34m\u001b[0m\u001b[0;34m\u001b[0m\u001b[0m\n\u001b[0m\u001b[1;32m     95\u001b[0m     \u001b[0my_true\u001b[0m \u001b[0;34m=\u001b[0m \u001b[0mcheck_array\u001b[0m\u001b[0;34m(\u001b[0m\u001b[0my_true\u001b[0m\u001b[0;34m,\u001b[0m \u001b[0mensure_2d\u001b[0m\u001b[0;34m=\u001b[0m\u001b[0;32mFalse\u001b[0m\u001b[0;34m,\u001b[0m \u001b[0mdtype\u001b[0m\u001b[0;34m=\u001b[0m\u001b[0mdtype\u001b[0m\u001b[0;34m)\u001b[0m\u001b[0;34m\u001b[0m\u001b[0;34m\u001b[0m\u001b[0m\n\u001b[1;32m     96\u001b[0m     \u001b[0my_pred\u001b[0m \u001b[0;34m=\u001b[0m \u001b[0mcheck_array\u001b[0m\u001b[0;34m(\u001b[0m\u001b[0my_pred\u001b[0m\u001b[0;34m,\u001b[0m \u001b[0mensure_2d\u001b[0m\u001b[0;34m=\u001b[0m\u001b[0;32mFalse\u001b[0m\u001b[0;34m,\u001b[0m \u001b[0mdtype\u001b[0m\u001b[0;34m=\u001b[0m\u001b[0mdtype\u001b[0m\u001b[0;34m)\u001b[0m\u001b[0;34m\u001b[0m\u001b[0;34m\u001b[0m\u001b[0m\n",
            "\u001b[0;32m/usr/local/lib/python3.7/dist-packages/sklearn/utils/validation.py\u001b[0m in \u001b[0;36mcheck_consistent_length\u001b[0;34m(*arrays)\u001b[0m\n\u001b[1;32m    332\u001b[0m         raise ValueError(\n\u001b[1;32m    333\u001b[0m             \u001b[0;34m\"Found input variables with inconsistent numbers of samples: %r\"\u001b[0m\u001b[0;34m\u001b[0m\u001b[0;34m\u001b[0m\u001b[0m\n\u001b[0;32m--> 334\u001b[0;31m             \u001b[0;34m%\u001b[0m \u001b[0;34m[\u001b[0m\u001b[0mint\u001b[0m\u001b[0;34m(\u001b[0m\u001b[0ml\u001b[0m\u001b[0;34m)\u001b[0m \u001b[0;32mfor\u001b[0m \u001b[0ml\u001b[0m \u001b[0;32min\u001b[0m \u001b[0mlengths\u001b[0m\u001b[0;34m]\u001b[0m\u001b[0;34m\u001b[0m\u001b[0;34m\u001b[0m\u001b[0m\n\u001b[0m\u001b[1;32m    335\u001b[0m         )\n\u001b[1;32m    336\u001b[0m \u001b[0;34m\u001b[0m\u001b[0m\n",
            "\u001b[0;31mValueError\u001b[0m: Found input variables with inconsistent numbers of samples: [288, 1]"
          ]
        }
      ]
    },
    {
      "cell_type": "markdown",
      "source": [
        "Variamos los tamaños de las vecindades"
      ],
      "metadata": {
        "id": "sZqbKFC_9nl5"
      }
    },
    {
      "cell_type": "code",
      "source": [
        "k = 0 # Tamanio del vecindario\n",
        "klist = [25,35,50,100]\n",
        "aux=0\n",
        "for item in klist:\n",
        "    k = item\n",
        "    Y_local = []\n",
        "    for i in range(X.shape[0]):\n",
        "        try:\n",
        "            xo = X[[i]]\n",
        "            W = get_weight_exp(xo, X, k)\n",
        "            Ygorro = local_regression(X, W, xo)\n",
        "            Y_local.append(Ygorro.item(0))\n",
        "            aux = Ygorro.item(0)\n",
        "        except:\n",
        "            Y_local.append(aux)\n",
        "            print(\"Sorry! Singular matrix found in position i=\",str(i))\n",
        "    Y_local_list.append(mean_absolute_error(Y,Y_local[0]))"
      ],
      "metadata": {
        "id": "Zjnzb_wyabfM"
      },
      "execution_count": null,
      "outputs": []
    },
    {
      "cell_type": "markdown",
      "source": [
        "En esta sección calculamos la predicción usando unicamente la regresión lineal múltiple. Como se observa en este caso los pesos `W` son la matriz identidad."
      ],
      "metadata": {
        "id": "Ys1zaOnSajbY"
      }
    },
    {
      "cell_type": "code",
      "source": [
        "Y_pred = []\n",
        "for i in range(X.shape[0]):\n",
        "    xo = X[[i]]\n",
        "    W = np.mat(np.eye(X.shape[0])) \n",
        "    Ygorro = local_regression(X, W, xo)\n",
        "    Y_pred.append(Ygorro.item(0))"
      ],
      "metadata": {
        "id": "Ny-xFzq8akYc"
      },
      "execution_count": null,
      "outputs": []
    },
    {
      "cell_type": "markdown",
      "source": [
        "Calculamos los errores de los métodos de regresión comparados, variando además los tamaños de las vecindades `k`."
      ],
      "metadata": {
        "id": "6shto4AlaoxP"
      }
    },
    {
      "cell_type": "code",
      "source": [
        "def trunc(values, decs=0):\n",
        "    return np.trunc(values*10**decs)/(10**decs)"
      ],
      "metadata": {
        "id": "KB7WZXIJaph-"
      },
      "execution_count": null,
      "outputs": []
    },
    {
      "cell_type": "code",
      "source": [
        "mae_pred  = trunc(mean_absolute_error(Y,Y_pred),4)\n",
        "mae_local_k0 = trunc(mean_absolute_error(Y,Y_local_list[0]),4)\n",
        "mae_local_k1 = trunc(mean_absolute_error(Y,Y_local_list[1]),4)\n",
        "mae_local_k2 = trunc(mean_absolute_error(Y,Y_local_list[2]),4)\n",
        "mae_local_k3 = trunc(mean_absolute_error(Y,Y_local_list[3]),4)\n",
        "mae_local_k4 = trunc(mean_absolute_error(Y,Y_local_list[4]),4)"
      ],
      "metadata": {
        "id": "cisNtBMd6jme"
      },
      "execution_count": null,
      "outputs": []
    },
    {
      "cell_type": "code",
      "source": [
        "mse_pred  = trunc(mean_squared_error(Y,Y_pred),4)\n",
        "mse_local_k0 = trunc(mean_squared_error(Y,Y_local_list[0]),4)\n",
        "mse_local_k1 = trunc(mean_squared_error(Y,Y_local_list[1]),4)\n",
        "mse_local_k2 = trunc(mean_squared_error(Y,Y_local_list[2]),4)\n",
        "mse_local_k3 = trunc(mean_squared_error(Y,Y_local_list[3]),4)\n",
        "mse_local_k4 = trunc(mean_squared_error(Y,Y_local_list[4]),4)"
      ],
      "metadata": {
        "id": "I2pcv35V7tHW"
      },
      "execution_count": null,
      "outputs": []
    },
    {
      "cell_type": "code",
      "source": [
        "mape_pred  = trunc(mean_absolute_percentage_error(Y,Y_pred),4)\n",
        "mape_local_k0 = trunc(mean_absolute_percentage_error(Y,Y_local_list[0]),4)\n",
        "mape_local_k1 = trunc(mean_absolute_percentage_error(Y,Y_local_list[1]),4)\n",
        "mape_local_k2 = trunc(mean_absolute_percentage_error(Y,Y_local_list[2]),4)\n",
        "mape_local_k3 = trunc(mean_absolute_percentage_error(Y,Y_local_list[3]),4)\n",
        "mape_local_k4 = trunc(mean_absolute_percentage_error(Y,Y_local_list[4]),4)\n",
        "\n",
        "print('| REGRESIÓN      | MAE            | MSD            | MAPE         |')\n",
        "print('| :------------- | -------------: | -------------: |-------------:|')\n",
        "print('| local, k=10 |',str(mae_local_k0),'   |',str(mse_local_k0),'   |   ',str(mape_local_k0),'|')\n",
        "print('| local, k=25 |',str(mae_local_k1),'   |',str(mse_local_k1),'   |   ',str(mape_local_k1),'|')\n",
        "print('| local, k=35 |',str(mae_local_k2),'   |',str(mse_local_k2),'   |   ',str(mape_local_k2),'|')\n",
        "print('| local, k=50 |',str(mae_local_k3),'   |',str(mse_local_k3),'   |   ',str(mape_local_k3),'|')\n",
        "print('| local, k=100|',str(mae_local_k4),'   |',str(mse_local_k4),'   |   ',str(mape_local_k4),'|')\n",
        "print('|    lineal      |',str(mae_pred),'    |',str(mse_pred),'   |   ',str(mape_pred),'|')"
      ],
      "metadata": {
        "id": "34b9khxA-ePm"
      },
      "execution_count": null,
      "outputs": []
    },
    {
      "cell_type": "markdown",
      "source": [
        "Graficamos los resultados de predicción de la regresión local con k= [10,25,35,50] y regresión local para pronosticar los datos de prueba `Y`."
      ],
      "metadata": {
        "id": "njdXR33TA6zs"
      }
    },
    {
      "cell_type": "code",
      "source": [
        "fig  = plt.figure(figsize=(16,9))\n",
        "axes = fig.add_subplot(1, 1, 1)\n",
        "#plt.style.use(\"seaborn-poster\")\n",
        "axes.legend()\n",
        "CYAN = '#76ced6' ; LILA = '#777bd4'; VERDE='#17cb49'; LETRASNARA ='#ff8000'; AZUL='#168fff';\n",
        "mytitle = plt.title('Regresión lineal local en pronóstico de demanda eléctrica') # get the title property handler #plt.getp(title_obj)\n",
        "plt.setp(mytitle,    color=LETRASNARA)                                        #set the color of title to red\n",
        "axes.xaxis.label.set_color(LETRASNARA)\n",
        "axes.yaxis.label.set_color(LETRASNARA)\n",
        "axes.tick_params(colors=LETRASNARA, which='both')\n",
        "\n",
        "AUX = np.arange( len(Y) )\n",
        "plt.scatter( AUX,Y,s=25,marker='o' , color = 'red'      , label = 'Y'              ,alpha=1/2)\n",
        "axes.plot  ( Y_local_list[0], '.-' , color = LETRASNARA , label = 'Y_local,k>=10'   ,alpha=1/2)\n",
        "axes.plot  ( Y_local_list[1], '.-' , color = VERDE      , label = 'Y_local,k=25'   ,alpha=1/2)\n",
        "axes.plot  ( Y_local_list[2], '.-' , color = AZUL       , label = 'Y_local,k=35'   ,alpha=1/2)\n",
        "axes.plot  ( Y_local_list[3], '.-' , color = LILA       , label = 'Y_local,k=50'   ,alpha=1/2)\n",
        "axes.plot  ( Y_local_list[4], '.-' , color = CYAN       , label = 'Y_local,k=100'  ,alpha=1/2)\n",
        "axes.plot  ( Y_pred         , '--' , color = 'red'      , label = 'Y_lineal'       ,alpha=1/2)\n",
        "#axes.plot ( Y      , '.-'  , color = 'red'        , label = 'Y'  ,alpha=1/2)\n",
        "#axes.plot ( Y_local, '.-'  , color = LETRASNARA   , label = 'Y_local'  ,alpha=1/2)\n",
        "#axes.plot ( xspline[3], yspline[3] , '.-'  , color = VERDE   , label = 'orden=4'  ,alpha=1/2)\n",
        "#axes.plot ( xspline[4], yspline[4] , '.-'  , color = AZUL   , label = 'orden=5'  ,alpha=1/12)\n",
        "#plt.scatter( dfx_miss, dfy_miss, marker='x',  s=170 ,  color = 'red' , label = 'perdidos' ,alpha=1)\n",
        "\n",
        "plt.axis([0,  600, 7650, 9800])\n",
        "plt.axis([100,  200, 7650, 9500])\n",
        "plt.axis([400,  500, 7450, 9500])\n",
        "#plt.axis([-2,  100, 8100, 9600])\n",
        "#plt.axis([300, 400, 7900, 9500])\n",
        "plt.legend()  \n",
        "plt.xticks(rotation=90)\n",
        "plt.savefig('pronodemanda_t6_3.png', transparent=True)\n",
        "plt.show()"
      ],
      "metadata": {
        "id": "KI4BzEUO1565"
      },
      "execution_count": null,
      "outputs": []
    }
  ]
}
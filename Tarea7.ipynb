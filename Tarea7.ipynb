{
  "nbformat": 4,
  "nbformat_minor": 0,
  "metadata": {
    "colab": {
      "name": "Tarea7.ipynb",
      "provenance": [],
      "authorship_tag": "ABX9TyP/ploZVQ+ltDT3Mx7YKwgh",
      "include_colab_link": true
    },
    "kernelspec": {
      "name": "python3",
      "display_name": "Python 3"
    },
    "language_info": {
      "name": "python"
    }
  },
  "cells": [
    {
      "cell_type": "markdown",
      "metadata": {
        "id": "view-in-github",
        "colab_type": "text"
      },
      "source": [
        "<a href=\"https://colab.research.google.com/github/urieliram/statistical/blob/main/Tarea7.ipynb\" target=\"_parent\"><img src=\"https://colab.research.google.com/assets/colab-badge.svg\" alt=\"Open In Colab\"/></a>"
      ]
    },
    {
      "cell_type": "code",
      "source": [
        "import numpy as np\n",
        "import pandas as pd\n",
        "import matplotlib.pyplot as plt\n",
        "import operator\n",
        "import matplotlib\n",
        "import statsmodels.tools.eval_measures as bias\n",
        "import statsmodels.api as sm\n",
        "from statsmodels.nonparametric.smoothers_lowess import lowess\n",
        "from mpl_toolkits.mplot3d import Axes3D # Axes3D import has side effects, it enables using projection='3d' in add_subplot\n",
        "from math import ceil\n",
        "from scipy import linalg\n",
        "from os import listdir\n",
        "from numpy.random import uniform, normal\n",
        "from numpy.linalg import *\n",
        "from scipy.stats.stats import pearsonr\n",
        "from sklearn.metrics import mean_absolute_error, mean_squared_error, mean_absolute_percentage_error\n",
        "from sklearn.neighbors import KernelDensity\n",
        "from statsmodels.nonparametric.kernel_regression import KernelReg"
      ],
      "metadata": {
        "id": "w2PGhXiSMo_m"
      },
      "execution_count": 29,
      "outputs": []
    },
    {
      "cell_type": "code",
      "source": [
        "def dibuja_hist2(df,colour,name,Xlabel,Ylabel,title):\n",
        "    CYAN = '#76ced6' ; LILA = '#777bd4'; VERDE='#17cb49'; LETRASNARA ='#ff8000'; AZUL='#168fff';\n",
        "    plt.figure()\n",
        "    df.hist(column=0, bins=25, grid=False, figsize=(7,4), color=colour, zorder=2, rwidth=0.9)\n",
        "    plt.xticks(rotation=90)\n",
        "    plt.xlabel(Xlabel)\n",
        "    plt.ylabel(Ylabel)\n",
        "    #https://stackoverflow.com/questions/9662995/matplotlib-change-title-and-colorbar-text-and-tick-colors/42020486\n",
        "    mytitle = plt.title(title) # get the title property handler   #plt.getp(title_obj)  \n",
        "    plt.setp(mytitle, color='#ff8000')                            # set the color of title\n",
        "    myax = plt.axes()   # get the axis property handler           # plt.getp(myax) print its propieties\n",
        "    myax.xaxis.label.set_color('#ff8000')\n",
        "    myax.yaxis.label.set_color('#ff8000')\n",
        "    myax.tick_params(colors='#ff8000', which='both')              # myax.spines['bottom'].set_color('yellow')\n",
        "    plt.savefig(name, transparent=True)\n",
        "    myax.spines['bottom'].set_color(LETRASNARA)\n",
        "    myax.spines['top'   ].set_color(LETRASNARA) \n",
        "    myax.spines['right' ].set_color(LETRASNARA)\n",
        "    myax.spines['left'  ].set_color(LETRASNARA)\n",
        "    plt.show()                                                    # o plt.save_en_algún_formato()"
      ],
      "metadata": {
        "id": "oIPJqlybcCe4"
      },
      "execution_count": 30,
      "outputs": []
    },
    {
      "cell_type": "code",
      "source": [
        "def dibuja_lineas(x, ylist, labels, namefile, Xlabel, Ylabel, title):    \n",
        "    #https://matplotlib.org/3.1.1/tutorials/introductory/usage.html#sphx-glr-tutorials-introductory-usage-py\n",
        "    CYAN = '#76ced6' ; LILA = '#777bd4'; VERDE='#17cb49'; LETRASNARA ='#ff8000'; AZUL='#168fff';\n",
        "    name = 'fig_t7_4'\n",
        "    colors     = [CYAN,'r',LILA,VERDE,AZUL,'b','g']\n",
        "    markers    = ['o','o','o','o','o','o','o']\n",
        "    linestyles = ['--','-','--','-.','-.',':',':']\n",
        "    fig, ax = plt.subplots(figsize=(7,6))\n",
        "\n",
        "    for i in range(len(ylist)):\n",
        "        plt.plot(x, ylist[i], linestyle=linestyles[i], marker=markers[i], label=labels[i], color=colors[i])\n",
        "\n",
        "    plt.gcf().set_size_inches(8, 5)\n",
        "    plt.xlabel(Xlabel,fontsize='large',color = LETRASNARA)\n",
        "    plt.ylabel(Ylabel,fontsize='large',color = LETRASNARA)\n",
        "    plt.title(title  ,fontsize='x-large',color = LETRASNARA)\n",
        "    plt.legend(fontsize='large')\n",
        "    plt.tick_params(colors = LETRASNARA, which='both')\n",
        "    ax.spines['bottom'].set_color(LETRASNARA)\n",
        "    ax.spines['top'   ].set_color(LETRASNARA) \n",
        "    ax.spines['right' ].set_color(LETRASNARA)\n",
        "    ax.spines['left'  ].set_color(LETRASNARA)\n",
        "    plt.savefig(namefile, transparent=True)\n",
        "    plt.show()"
      ],
      "metadata": {
        "id": "QB1EDaKyDYvN"
      },
      "execution_count": 31,
      "outputs": []
    },
    {
      "cell_type": "code",
      "source": [
        "def trunc(values, decs=0):\n",
        "    return np.trunc(values*10**decs)/(10**decs)"
      ],
      "metadata": {
        "id": "KB7WZXIJaph-"
      },
      "execution_count": 32,
      "outputs": []
    },
    {
      "cell_type": "markdown",
      "source": [
        "Esta función calcula los pesos de los puntos $x_i\\in\\mathcal{Rp}$ del vecindario alrededor del punto $x_o\\in\\mathcal{Rp}$. Se da mayor peso a las puntos $x_i$ mas cercanos al punto $x_o$ y menos peso a las observaciones más lejanas utilizando un kernel que asigna importancia a cada uno de los k vecinos de $x_i$ según su distancia a $x_o$."
      ],
      "metadata": {
        "id": "tFgs9VLWZCMx"
      }
    },
    {
      "cell_type": "code",
      "source": [
        "# Calcula los pesos y regresa una matriz diagonal con los pesos\n",
        "def get_weight_exp(xo, X, k): \n",
        "## k    : tamanio del vecindario (bandwidth)\n",
        "## X    : Regresores\n",
        "## xo   : punto donde se desea hacer la predicción.\n",
        "\n",
        "    n = X.shape[0]             ## numero de datos\n",
        "    weight = np.mat(np.eye(n)) ## Matriz de pesos identidad W.\n",
        "    \n",
        "  # Cálculo de pesos para todos los datos de entrenamiento xi.\n",
        "    for i in range(n): \n",
        "        xi = X[i] \n",
        "        d = (-2 * k * k) \n",
        "        weight[i, i] = np.exp(np.dot((xi-xo), (xi-xo).T)/d) \n",
        "        \n",
        "    return weight"
      ],
      "metadata": {
        "id": "Dj_Nc0CJZSHW"
      },
      "execution_count": 33,
      "outputs": []
    },
    {
      "cell_type": "markdown",
      "source": [
        "A continuación estimamos los coeficientes de regresión `β = (Xt W(xo) X)^{-1}) (Xt W Y)` con la matrix de pesos `W`."
      ],
      "metadata": {
        "id": "CDu8CEe9ZWBG"
      }
    },
    {
      "cell_type": "code",
      "source": [
        "def local_regression(X,W,Xo):\n",
        "    # W     : Matriz diagonal de pesos\n",
        "    # X     : Regresores\n",
        "    # xo    : punto donde se desea hacer la predicción.\n",
        "    Xt = X.T  # Calcula transpuesta de X\n",
        "    A = np.matmul(Xt, np.matmul(W,X)) \n",
        "    A = np.linalg.inv(A)   # Calcula inversa de A\n",
        "    B = np.matmul(Xt, np.matmul(W,Y)) \n",
        "    beta = np.matmul(A,B)\n",
        "    prediccion = np.matmul(Xo,beta)\n",
        "    return prediccion"
      ],
      "metadata": {
        "id": "6Z4_jZHMZXPI"
      },
      "execution_count": 34,
      "outputs": []
    },
    {
      "cell_type": "markdown",
      "source": [
        "A continuación haremos la comparación de resultados de regresión para datos de demanda eléctrica. La variable independiente `X` serán los datos de demanda del día anterior, y los datos independiente `Y` serán los datos de días con una mayor correlación con `X`. En esta sección, aplicaremos regresión lineal múltiple con multiples regresores `X`. Los datos usados en esta sección están disponibles en [demanda.csv](https://drive.google.com/file/d/1KpY2p4bfVEwGRh5tJjMx9QpH6SEwrUwH/view?usp=sharing)"
      ],
      "metadata": {
        "id": "K2x1V0GtZxDs"
      }
    },
    {
      "cell_type": "markdown",
      "source": [
        "## Muestreo **bootstrap** en estimación de error en la predicción de demanda eléctrica usando regresión líneal múltiple"
      ],
      "metadata": {
        "id": "gEiWA2WO84Un"
      }
    },
    {
      "cell_type": "code",
      "source": [
        "df  = pd.read_csv('demanda.csv')\n",
        "X   = pd.DataFrame(df[['X1','X2']]).to_numpy()\n",
        "X   = pd.DataFrame(df[['X0','X1','X2','X3','X4','X5','X6','X7','X8','X9']]).to_numpy()\n",
        "Y   = pd.DataFrame(df[['Y']]).to_numpy()"
      ],
      "metadata": {
        "id": "Man_FZLJZyQM"
      },
      "execution_count": 35,
      "outputs": []
    },
    {
      "cell_type": "markdown",
      "source": [
        "A continuación se calcula un modelo de regresión lineal múltiple para una de las muestras `X_train` elegidas aleatoriamente un 50% de datos del total del conjunto `X`. Los datos de error (MAE) de todas las réplicas del muestreo aleatorio se guardan en la lista `bootstrap_ols`."
      ],
      "metadata": {
        "id": "zLmbup9PaS0L"
      }
    },
    {
      "cell_type": "markdown",
      "source": [
        "Evaluación del desempeño del bootstrap variando tamaño de las muestra y número de muestreos aleatorios (repeticiones)."
      ],
      "metadata": {
        "id": "qsoPLCHucRk1"
      }
    },
    {
      "cell_type": "code",
      "source": [
        "#Evaluación del desempeño del bootstrap variando tamaño de las muestra y número de muestreos aleatorios (repeticiones).\n",
        "from numpy.ma.core import mean\n",
        "percent   = [10,20,30,40,50,60,70,80,90] # porcentaje de muestreo\n",
        "replicas  = [250,500,1000,1500,2000] # porcentaje de muestreo 1500,2000,2500,5000\n",
        "test      = []\n",
        "ylist     = []\n",
        "\n",
        "for rep in replicas:\n",
        "    mean      = []\n",
        "    desv_up   = []\n",
        "    desv_down = []\n",
        "    for per in percent:\n",
        "        bootstrap_ols= []\n",
        "        for rep in range(rep):\n",
        "            a = np.arange(0,X.shape[0])\n",
        "            b = np.sort(np.random.choice(a, replace=False, size = int(len(a) * (per/100))))\n",
        "            X_train = np.delete(X, b, axis = 0)\n",
        "            Y_train = np.delete(Y, b, axis = 0)            \n",
        "            olsmod = sm.OLS(Y_train, X_train)\n",
        "            olsres = olsmod.fit()\n",
        "            Y_pred = olsres.predict(X_train)  \n",
        "            bootstrap_ols.append(mean_absolute_error(Y_train, Y_pred))\n",
        "        dfb = pd.DataFrame((np.asarray(bootstrap_ols)).T)\n",
        "        bootstrap_mean = dfb.mean(numeric_only = True)\n",
        "        bootstrap_std = dfb.std(numeric_only   = True)        \n",
        "        mean.append(bootstrap_mean)\n",
        "        desv_up.append(bootstrap_mean   + bootstrap_std*2)\n",
        "        desv_down.append(bootstrap_mean - bootstrap_std*2)\n",
        "    test.append(mean)\n",
        "\n",
        "labels   = ['250 reps','500 reps','1000 reps','1500 reps','2000 reps']\n",
        "Xlabel   = '% de muestreo'\n",
        "Ylabel   = 'error'\n",
        "title    = \"Error en muestreo usando bootstrap con repeticiones\"\n",
        "namefile = 'fig_t7_4'\n",
        "print(test)\n",
        "dibuja_lineas(percent, test, labels, namefile, Xlabel, Ylabel, title)"
      ],
      "metadata": {
        "colab": {
          "base_uri": "https://localhost:8080/",
          "height": 1000
        },
        "outputId": "25831581-14b5-4614-b991-7d95ffa9e24d",
        "id": "dfV-K3YiyT5I"
      },
      "execution_count": 36,
      "outputs": [
        {
          "output_type": "stream",
          "name": "stdout",
          "text": [
            "[[0    119.541852\n",
            "dtype: float64, 0    119.622952\n",
            "dtype: float64, 0    119.315508\n",
            "dtype: float64, 0    118.954495\n",
            "dtype: float64, 0    119.178212\n",
            "dtype: float64, 0    118.622179\n",
            "dtype: float64, 0    117.51659\n",
            "dtype: float64, 0    116.293167\n",
            "dtype: float64, 0    111.009939\n",
            "dtype: float64], [0    119.449017\n",
            "dtype: float64, 0    119.438477\n",
            "dtype: float64, 0    119.325077\n",
            "dtype: float64, 0    119.048971\n",
            "dtype: float64, 0    118.503469\n",
            "dtype: float64, 0    118.183266\n",
            "dtype: float64, 0    117.384001\n",
            "dtype: float64, 0    116.105434\n",
            "dtype: float64, 0    110.483649\n",
            "dtype: float64], [0    119.425138\n",
            "dtype: float64, 0    119.330569\n",
            "dtype: float64, 0    119.367105\n",
            "dtype: float64, 0    119.169966\n",
            "dtype: float64, 0    118.886718\n",
            "dtype: float64, 0    118.589661\n",
            "dtype: float64, 0    117.604618\n",
            "dtype: float64, 0    115.859435\n",
            "dtype: float64, 0    110.621982\n",
            "dtype: float64], [0    119.537653\n",
            "dtype: float64, 0    119.467796\n",
            "dtype: float64, 0    119.370855\n",
            "dtype: float64, 0    119.130536\n",
            "dtype: float64, 0    118.918539\n",
            "dtype: float64, 0    118.477494\n",
            "dtype: float64, 0    117.724095\n",
            "dtype: float64, 0    115.773112\n",
            "dtype: float64, 0    110.751136\n",
            "dtype: float64], [0    119.484169\n",
            "dtype: float64, 0    119.384365\n",
            "dtype: float64, 0    119.285302\n",
            "dtype: float64, 0    119.075243\n",
            "dtype: float64, 0    118.869064\n",
            "dtype: float64, 0    118.166459\n",
            "dtype: float64, 0    117.742383\n",
            "dtype: float64, 0    116.063141\n",
            "dtype: float64, 0    110.519199\n",
            "dtype: float64]]\n"
          ]
        },
        {
          "output_type": "display_data",
          "data": {
            "image/png": "[encoded data removed]",
            "text/plain": [
              "<Figure size 576x360 with 1 Axes>"
            ]
          },
          "metadata": {
            "needs_background": "dark"
          }
        }
      ]
    },
    {
      "cell_type": "code",
      "source": [
        "percent   = [10,20,30,40,50,60,70,80,90] # porcentaje de muestreo\n",
        "replicas  = [500] # porcentaje de muestreo 1500,2000,2500,5000\n",
        "test      = []\n",
        "ylist     = []\n",
        "\n",
        "for rep in replicas:\n",
        "    mean      = []\n",
        "    desv_up   = []\n",
        "    desv_down = []\n",
        "    for per in percent:\n",
        "        bootstrap_ols= []\n",
        "        for rep in range(rep):\n",
        "            a = np.arange(0,X.shape[0])\n",
        "            b = np.sort(np.random.choice(a, replace=False, size = int(len(a) * (per/100))))\n",
        "            X_train = np.delete(X, b, axis = 0)\n",
        "            Y_train = np.delete(Y, b, axis = 0)            \n",
        "            olsmod = sm.OLS(Y_train, X_train)\n",
        "            olsres = olsmod.fit()\n",
        "            Y_pred = olsres.predict(X_train)  \n",
        "            bootstrap_ols.append(mean_absolute_error(Y_train, Y_pred))\n",
        "        dfb = pd.DataFrame((np.asarray(bootstrap_ols)).T)\n",
        "        bootstrap_mean = dfb.mean(numeric_only = True)\n",
        "        bootstrap_std = dfb.std(numeric_only   = True)        \n",
        "        mean.append(bootstrap_mean)\n",
        "        desv_up.append(bootstrap_mean   + bootstrap_std*2)\n",
        "        desv_down.append(bootstrap_mean - bootstrap_std*2)\n",
        "    test.append(desv_up)\n",
        "    test.append(mean)\n",
        "    test.append(desv_down)\n",
        "\n",
        "labels   = ['95% confianza','media','5% confianza']\n",
        "Xlabel   = '% de muestreo'\n",
        "Ylabel   = 'error'\n",
        "title    = \"Error en muestreo usando bootstrap con repeticiones\"\n",
        "namefile = 'fig_t7_5'\n",
        "print(test)\n",
        "dibuja_lineas(percent, test, labels, namefile, Xlabel, Ylabel, title)"
      ],
      "metadata": {
        "colab": {
          "base_uri": "https://localhost:8080/",
          "height": 871
        },
        "outputId": "4596b2f5-baa2-4f76-eb99-b3159bb93373",
        "id": "3dJFywdvVJpw"
      },
      "execution_count": 37,
      "outputs": [
        {
          "output_type": "stream",
          "name": "stdout",
          "text": [
            "[[0    122.360841\n",
            "dtype: float64, 0    123.924347\n",
            "dtype: float64, 0    124.936839\n",
            "dtype: float64, 0    125.927041\n",
            "dtype: float64, 0    127.498025\n",
            "dtype: float64, 0    128.801946\n",
            "dtype: float64, 0    130.37168\n",
            "dtype: float64, 0    133.506644\n",
            "dtype: float64, 0    136.026846\n",
            "dtype: float64], [0    119.561492\n",
            "dtype: float64, 0    119.413754\n",
            "dtype: float64, 0    119.228991\n",
            "dtype: float64, 0    119.17931\n",
            "dtype: float64, 0    118.800137\n",
            "dtype: float64, 0    118.271504\n",
            "dtype: float64, 0    117.540055\n",
            "dtype: float64, 0    116.152401\n",
            "dtype: float64, 0    111.279734\n",
            "dtype: float64], [0    116.762143\n",
            "dtype: float64, 0    114.903162\n",
            "dtype: float64, 0    113.521142\n",
            "dtype: float64, 0    112.431579\n",
            "dtype: float64, 0    110.10225\n",
            "dtype: float64, 0    107.741061\n",
            "dtype: float64, 0    104.708431\n",
            "dtype: float64, 0    98.798158\n",
            "dtype: float64, 0    86.532623\n",
            "dtype: float64]]\n"
          ]
        },
        {
          "output_type": "display_data",
          "data": {
            "image/png": "[encoded data removed]",
            "text/plain": [
              "<Figure size 576x360 with 1 Axes>"
            ]
          },
          "metadata": {
            "needs_background": "dark"
          }
        }
      ]
    },
    {
      "cell_type": "markdown",
      "source": [
        "## Muestreo **cross-validation** en estimación de error en la predicción de demanda eléctrica usando regresión líneal múltiple\n",
        "En esta función se calcula un modelo de regresión lineal múltiple para cada una de las una de las muestras `X_test` extraidas del total del conjunto de entrenamiento `X_train`. Los datos de error del muestreo cross-validation se guardan en la lista cross_ols."
      ],
      "metadata": {
        "id": "vluCfkFVvRZ-"
      }
    },
    {
      "cell_type": "code",
      "source": [
        "cross_ols_fx = []\n",
        "nblocks    = 100\n",
        "nblocks    = X.shape[0] \n",
        "print(X.shape[0] )\n",
        "size = int( X.shape[0] / nblocks)\n",
        "intervals = np.arange(size, X.shape[0], size)\n",
        "\n",
        "for i in intervals:  \n",
        "    a = np.arange(0,X.shape[0])\n",
        "    b = np.arange(i-size,i)\n",
        "    c = np.sort(np.setdiff1d(a, b)) #El complemento del conjunto seleccionado\n",
        "    X_test  = np.delete(X, b, axis = 0)\n",
        "    Y_test  = np.delete(Y, b, axis = 0)    \n",
        "    X_train = np.delete(X, c, axis = 0)\n",
        "    Y_train = np.delete(Y, c, axis = 0)\n",
        "\n",
        "    olsmod  = sm.OLS(Y_train, X_train)\n",
        "    olsres  = olsmod.fit()\n",
        "    Y_pred  = olsres.predict(X_test)  \n",
        "    error = abs(Y_test - Y_pred)\n",
        "    cross_ols_fx.append(mean_absolute_error(Y_test,Y_pred))\n",
        "\n",
        "dfb = pd.DataFrame((np.asarray(cross_ols_fx)).T)\n",
        "cross_mean_fx = dfb.mean(numeric_only = True)\n",
        "cross_std_fx = dfb.std(numeric_only = True)\n",
        "dibuja_hist2(dfb,colour='#777bd4',name='hist_t7_2.png',Xlabel=\"Error\",Ylabel=\"Frecuencia\",title=\"Error de predicción de demanda estimado con Cross-validation\")\n",
        "print(cross_mean_fx)\n",
        "print(cross_std_fx)"
      ],
      "metadata": {
        "colab": {
          "base_uri": "https://localhost:8080/",
          "height": 471
        },
        "id": "eULXAGFQz5uG",
        "outputId": "32ea3ca7-f1a3-41ae-e92d-50bc3954fa45"
      },
      "execution_count": 38,
      "outputs": [
        {
          "output_type": "stream",
          "name": "stdout",
          "text": [
            "576\n"
          ]
        },
        {
          "output_type": "stream",
          "name": "stderr",
          "text": [
            "/usr/local/lib/python3.7/dist-packages/ipykernel_launcher.py:11: MatplotlibDeprecationWarning: Adding an axes using the same arguments as a previous axes currently reuses the earlier instance.  In a future version, a new instance will always be created and returned.  Meanwhile, this warning can be suppressed, and the future behavior ensured, by passing a unique label to each axes instance.\n",
            "  # This is added back by InteractiveShellApp.init_path()\n"
          ]
        },
        {
          "output_type": "display_data",
          "data": {
            "text/plain": [
              "<Figure size 432x288 with 0 Axes>"
            ]
          },
          "metadata": {}
        },
        {
          "output_type": "display_data",
          "data": {
            "image/png": "[encoded data removed]",
            "text/plain": [
              "<Figure size 504x288 with 1 Axes>"
            ]
          },
          "metadata": {
            "needs_background": "dark"
          }
        },
        {
          "output_type": "stream",
          "name": "stdout",
          "text": [
            "0    184.102077\n",
            "dtype: float64\n",
            "0    76.380279\n",
            "dtype: float64\n"
          ]
        }
      ]
    },
    {
      "cell_type": "markdown",
      "source": [
        "Esta versión de cross-validation elige aleatoriamente el inicio de las muestras de prueba X_test"
      ],
      "metadata": {
        "id": "cQmWpyKfUMI3"
      }
    },
    {
      "cell_type": "code",
      "source": [
        "cross_ols = []\n",
        "nblocks   = 300\n",
        "size = int( X.shape[0] / nblocks)\n",
        "\n",
        "replicas = 180\n",
        "arr = np.sort(np.random.choice(a, replace=False, size = replicas))\n",
        "print(arr)\n",
        "for i in arr:\n",
        "\n",
        "      a = np.arange(1,X.shape[0])\n",
        "      b = np.arange(i-size,i)\n",
        "      c = np.sort(np.setdiff1d(a, b)) #El complemento del conjunto seleccionado\n",
        "      X_test  = np.delete(X, b, axis = 0)\n",
        "      Y_test  = np.delete(Y, b, axis = 0)    \n",
        "      X_train = np.delete(X, c, axis = 0)\n",
        "      Y_train = np.delete(Y, c, axis = 0)\n",
        "\n",
        "      olsmod  = sm.OLS(Y_train, X_train)\n",
        "      olsres  = olsmod.fit()\n",
        "      Y_pred  = olsres.predict(X_test)  \n",
        "      error = abs(Y_test - Y_pred)\n",
        "      cross_ols.append(mean_absolute_error(Y_test,Y_pred))\n",
        "\n",
        "dfb = pd.DataFrame((np.asarray(cross_ols)).T)\n",
        "cross_mean = dfb.mean(numeric_only = True)\n",
        "cross_std = dfb.std(numeric_only = True)\n",
        "dibuja_hist2(dfb,colour='#17cb49',name='hist_t7_3.png',Xlabel=\"Error\",Ylabel=\"Frecuencia\",title=\"Error de predicción de demanda estimado con Cross-validation\")\n",
        "print(cross_mean)\n",
        "print(cross_std)"
      ],
      "metadata": {
        "id": "3AhQj4QaTTps",
        "outputId": "6caae812-a84a-43ad-8b8e-abb471f237a4",
        "colab": {
          "base_uri": "https://localhost:8080/",
          "height": 637
        }
      },
      "execution_count": 39,
      "outputs": [
        {
          "output_type": "stream",
          "name": "stdout",
          "text": [
            "[  8  11  23  24  25  34  37  38  41  47  49  51  52  55  56  62  67  70\n",
            "  72  80  87  90  91  92  95  96  99 103 105 106 110 120 121 122 123 125\n",
            " 126 127 132 134 137 138 140 146 148 149 157 162 167 169 174 175 176 178\n",
            " 179 188 189 192 193 194 199 203 206 216 219 221 223 226 227 228 231 234\n",
            " 236 240 241 243 244 246 247 248 255 256 257 258 259 261 262 266 273 274\n",
            " 277 280 281 290 300 301 313 317 319 328 330 339 340 342 344 348 350 354\n",
            " 358 362 364 365 373 374 376 380 383 384 388 390 391 392 405 409 413 414\n",
            " 417 422 425 431 433 434 436 440 446 448 451 457 458 462 464 465 466 468\n",
            " 474 475 476 479 482 486 491 495 496 497 500 504 510 512 513 518 519 521\n",
            " 525 528 529 533 535 536 543 546 548 549 558 562 563 565 566 567 568 575]\n"
          ]
        },
        {
          "output_type": "stream",
          "name": "stderr",
          "text": [
            "/usr/local/lib/python3.7/dist-packages/ipykernel_launcher.py:11: MatplotlibDeprecationWarning: Adding an axes using the same arguments as a previous axes currently reuses the earlier instance.  In a future version, a new instance will always be created and returned.  Meanwhile, this warning can be suppressed, and the future behavior ensured, by passing a unique label to each axes instance.\n",
            "  # This is added back by InteractiveShellApp.init_path()\n"
          ]
        },
        {
          "output_type": "display_data",
          "data": {
            "text/plain": [
              "<Figure size 432x288 with 0 Axes>"
            ]
          },
          "metadata": {}
        },
        {
          "output_type": "display_data",
          "data": {
            "image/png": "[encoded data removed]",
            "text/plain": [
              "<Figure size 504x288 with 1 Axes>"
            ]
          },
          "metadata": {
            "needs_background": "dark"
          }
        },
        {
          "output_type": "stream",
          "name": "stdout",
          "text": [
            "0    146.492008\n",
            "dtype: float64\n",
            "0    26.552486\n",
            "dtype: float64\n"
          ]
        }
      ]
    }
  ]
}
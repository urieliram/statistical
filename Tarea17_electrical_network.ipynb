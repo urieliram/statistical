{
  "nbformat": 4,
  "nbformat_minor": 0,
  "metadata": {
    "colab": {
      "name": "Tarea17_electrical_network.ipynb",
      "provenance": [],
      "authorship_tag": "ABX9TyPyogSVph7voDjDT8YxdBci",
      "include_colab_link": true
    },
    "kernelspec": {
      "name": "python3",
      "display_name": "Python 3"
    },
    "language_info": {
      "name": "python"
    }
  },
  "cells": [
    {
      "cell_type": "markdown",
      "metadata": {
        "id": "view-in-github",
        "colab_type": "text"
      },
      "source": [
        "<a href=\"https://colab.research.google.com/github/urieliram/statistical/blob/main/Tarea17_electrical_network.ipynb\" target=\"_parent\"><img src=\"https://colab.research.google.com/assets/colab-badge.svg\" alt=\"Open In Colab\"/></a>"
      ]
    },
    {
      "cell_type": "code",
      "source": [
        "import time\n",
        "import numpy as np\n",
        "import pandas as pd\n",
        "import networkx as nx\n",
        "import matplotlib.pyplot as plt\n",
        "from sklearn.model_selection import train_test_split, GridSearchCV\n",
        "from sklearn.ensemble import RandomForestClassifier\n",
        "from math import sqrt\n",
        "from scipy import stats"
      ],
      "metadata": {
        "id": "xdVJzXaC7xxa"
      },
      "execution_count": 1,
      "outputs": []
    },
    {
      "cell_type": "code",
      "source": [
        "#https://drive.google.com/drive/folders/1Gj3XK9kM-lE18uBMe3qrZOGEm8yAI8i9\n",
        "#https://www.codegrepper.com/code-examples/python/how+to+read+csv+file+from+google+drive+on+google+colab+\n",
        "path        = 'https://drive.google.com/uc?export=download&id=' \n",
        "URL_Demanda = 'https://drive.google.com/file/d/1xcpXDTE7H6EBMLOkic5lq-lzSwiLG2ZS/view?usp=sharing'\n",
        "df_Demanda  = pd.read_csv(path + URL_Demanda .split('/')[-2], usecols=[0] ) #names=['CLVUNI','TYPE','NODE'], usecols=[1,2,3,4,5,6,], 1,2,3,4,5,6,7,8,9,10,11,12,13,15,\n",
        "df_Demanda.dropna(inplace=True)\n",
        "serie = df_Demanda.to_numpy()\n",
        "serie = serie.ravel() ## Con esto quitamos el bracket o corchete en cada uno de loselementos del arreglo"
      ],
      "metadata": {
        "id": "PDVhQeOW7ruA"
      },
      "execution_count": 3,
      "outputs": []
    },
    {
      "cell_type": "markdown",
      "source": [
        "## Una red de juguete con Networkx"
      ],
      "metadata": {
        "id": "Dwg9pZ0YP9lT"
      }
    },
    {
      "cell_type": "code",
      "execution_count": 4,
      "metadata": {
        "id": "iQMBNx3RdFBE"
      },
      "outputs": [],
      "source": [
        "## https://github.com/urieliram/statistical/blob/main/Tarea13.ipynb\n",
        "#serie = [1,1,7,7,9,8,1,8,7,0,2,7,6,1,1,6,6,5,9,2,7,9,0,1,2,9,7,9,2,0,7,5,5,5,5,7,9\n",
        "#,9,0,7,5,5,6,0,4,3,5,5,3,5,0,2,0,5,0,5,6,4,3,4,9,2,6,2,8,0,4,7,6,5,2,0,3,2\n",
        "#,3,0,6,2,6,6,4,5,0,6,1,4,9,6,0,3,6,9,5,0,2,4,3,5,0,5,6,4,5,5,0,3,2,0,2,1,7\n",
        "#,3,3,2,5,3,5,7,5,1,3,5,9,4,6,6,5,2,0,4,0,5,0,7,2,1,5,9,5,7,4,0,3,4,5,4,0,5\n",
        "#,2,2,5,4,9,7,6,0,5,5,5,5,0,0,3,5,2,2,3,9,5,7,5,3,5,9,5,4,0,2,4,4,6,1,0,5,0\n",
        "#,5,0,7,0,0,0,0,2,4,4,3,0,4,3,0,2,6,0,6,5,2,6,5,0,5,5,0,2,2,5,2,4,9,0,2,5,6\n",
        "#,1,0,0,0,5,8,0,5,3,0,0,3,5,0,0,2,5,2,7,2,5,0,4,5,6,9,0,5,4,0]\n",
        "\n",
        "serie = [1,1,7,7,9,8,1,8,7,0,2,7,6,1,1,6,6,5,9,2,7,9,0,1,2,9,7,9,2,0,7,5,5,5,5,7,\n",
        "         9,9,0,7,5,5,6,0,4,3,5,5,5,5,0,2,0,5,5,5,6,4,3,4,9,2,6,2,8,0,4,7,6,5,2,0,\n",
        "         3,2,0,0,6,2,6,6,4,5,0,6,1,4,9,6,0,3,6,9,5,0,2,4,3,5,0,5,6,4,5,5,0,3,2,0,\n",
        "         2,1,7,3,5,2,5,3,5,6,5,1,3,5,9,4,6,6,5,2,0,4,0,5,0,7,2,1,5,9,5,7,3,0,3,4,\n",
        "         5,3,0,5,2,2,5,4,9,7,6,0,5,5,5,5,0,0,3,5,2,5,3,9,5,7,5,3,5,9,5,4,0,2,4,4,\n",
        "         6,1,0,5,0,5,0,7,0,0,0,0,2,4,4,3,0,4,3,0,2,6,0,6,5,2,6,5,0,5,5,0,2,2,5,2,\n",
        "         4,9,0,2,5,6,1,0,0,0,5,8,0,5,3,0,0,3,5,0,0,5,5,5,7,2,5,0,4,5,6,0,0,5,4,0]\n"
      ]
    },
    {
      "cell_type": "code",
      "source": [
        "nodes = np.unique(serie)\n",
        "n = len(nodes)\n",
        "A = np.zeros(shape=(n,n))"
      ],
      "metadata": {
        "id": "6K1AnO7rd-ri"
      },
      "execution_count": 5,
      "outputs": []
    },
    {
      "cell_type": "code",
      "source": [
        "for i in range(len(serie)-1):\n",
        "    A[serie[i],serie[i+1]] = A[serie[i],serie[i+1]] + 1\n",
        "A"
      ],
      "metadata": {
        "id": "DGbwvG5ukp3E",
        "outputId": "6b0bfc76-b5d0-483e-fbc5-11ddaf3159a6",
        "colab": {
          "base_uri": "https://localhost:8080/"
        }
      },
      "execution_count": 6,
      "outputs": [
        {
          "output_type": "execute_result",
          "data": {
            "text/plain": [
              "array([[10.,  1.,  9.,  6.,  5., 12.,  3.,  4.,  0.,  0.],\n",
              "       [ 2.,  2.,  1.,  1.,  1.,  1.,  1.,  2.,  1.,  0.],\n",
              "       [ 6.,  2.,  2.,  0.,  4.,  6.,  4.,  2.,  1.,  1.],\n",
              "       [ 5.,  0.,  2.,  0.,  2.,  8.,  1.,  0.,  0.,  1.],\n",
              "       [ 3.,  0.,  0.,  5.,  2.,  4.,  2.,  1.,  0.,  4.],\n",
              "       [13.,  1.,  7.,  5.,  3., 16.,  6.,  4.,  1.,  4.],\n",
              "       [ 5.,  4.,  2.,  0.,  3.,  6.,  3.,  0.,  0.,  1.],\n",
              "       [ 2.,  0.,  2.,  2.,  0.,  3.,  3.,  1.,  0.,  4.],\n",
              "       [ 2.,  1.,  0.,  0.,  0.,  0.,  0.,  1.,  0.,  0.],\n",
              "       [ 3.,  0.,  3.,  0.,  1.,  4.,  1.,  2.,  1.,  1.]])"
            ]
          },
          "metadata": {},
          "execution_count": 6
        }
      ]
    },
    {
      "cell_type": "code",
      "source": [
        "#G = nx.Graph()\n",
        "G = nx.DiGraph()\n",
        "G.add_nodes_from(nodes)"
      ],
      "metadata": {
        "id": "r3RGBNMQgEJy"
      },
      "execution_count": 7,
      "outputs": []
    },
    {
      "cell_type": "code",
      "source": [
        "rows = A.shape[0]\n",
        "cols = A.shape[1]\n",
        "for i in range(0, cols - 1):\n",
        "    for j in range(0, rows -1):\n",
        "        if A[i,j] != 0:\n",
        "            G.add_edge(i, j)\n",
        "            G.edges[i, j]['color'] = \"red\"\n"
      ],
      "metadata": {
        "id": "2G27gcFinOMZ"
      },
      "execution_count": 10,
      "outputs": []
    },
    {
      "cell_type": "code",
      "source": [
        "subax1 = plt.subplot(121)\n",
        "nx.draw_shell(G, nlist=[range(5, 10), range(5)], with_labels=True, font_weight='bold')"
      ],
      "metadata": {
        "id": "zCaP0qaTiWjP",
        "outputId": "b083cb64-d2fa-4de1-da33-770155147d6e",
        "colab": {
          "base_uri": "https://localhost:8080/",
          "height": 248
        }
      },
      "execution_count": 11,
      "outputs": [
        {
          "output_type": "display_data",
          "data": {
            "text/plain": [
              "<Figure size 432x288 with 1 Axes>"
            ],
            "image/png": "[encoded data removed]"
          },
          "metadata": {}
        }
      ]
    },
    {
      "cell_type": "code",
      "source": [
        ""
      ],
      "metadata": {
        "id": "LPmAkcIFQLzn"
      },
      "execution_count": null,
      "outputs": []
    },
    {
      "cell_type": "markdown",
      "source": [
        "[Creating a graph Networkx](https://networkx.org/documentation/stable/tutorial.html)\n",
        "\n",
        "[Drawing graphs Networkx](https://networkx.org/documentation/stable/tutorial.html#drawing-graphs)\n",
        "\n",
        "[A study of visibility graphs for time series representations](https://upcommons.upc.edu/bitstream/handle/2117/328691/152711.pdf?sequence=1&isAllowed=y)"
      ],
      "metadata": {
        "id": "4UMv_EJtfU15"
      }
    },
    {
      "cell_type": "markdown",
      "source": [
        "## Una red con Pandapower\n",
        "\n",
        "Ramas\n",
        "0.   Número de la rama.\n",
        "1.   Nombre completo de la rama.\n",
        "2.   Índice del nodo origen.\n",
        "3.   Nombre del nodo origen.\n",
        "4.   Índice del nodo destino.\n",
        "5.   Nombre del nodo destino.\n",
        "6.   Resistencia de la rama en pu.\n",
        "7.   Reactancia de la rama en pu.\n",
        "8.   Disponibilidad inicial de la rama.\n",
        "9.   Tipos de rama (1: línea, 2: transformador).\n",
        "\n",
        "Nodos\n",
        "0.   Número de bus.\n",
        "1.   Nombre completo del bus.\n",
        "2.   Nombre abreviado del bus.\n",
        "3.   Número del área.\n",
        "4.   Nombre del área completo.\n",
        "5.   Nombre del área abreviado.\n",
        "6.   Tensión nominal (KV). (F\n",
        "7.   Subsistema eléctrico.\n",
        "8.   Nombre completo de región de precios.\n",
        "9.   Nombre abreviado de región de precios.\n",
        "10.  Número de la región de precios.\n",
        "11.  Disponibilidad inicial del nodo."
      ],
      "metadata": {
        "id": "JW9AyV6SQRqa"
      }
    },
    {
      "cell_type": "code",
      "source": [
        "path      = 'https://drive.google.com/uc?export=download&id=' \n",
        "URL_Nodos = 'https://drive.google.com/file/d/1EGZ5pJXmfGs74T6yIxf73Cse9tV-w_UM/view?usp=sharing'\n",
        "URL_Ramas = 'https://drive.google.com/file/d/1Bk09OWzfNFGxzINbCKfPOkqcu6ESFdwZ/view?usp=sharing'\n",
        "df_Nodos  = pd.read_csv(path+URL_Nodos.split('/')[-2],usecols=[0,1,2,3,4,5,6,7,8,9,10,11],names=['No','Name','Avr','Region','Place','Place2','KV','Sub','Prices','Prices2','Price3','Avail'])\n",
        "df_Nodos.dropna(inplace=True)\n",
        "nodos = df_Nodos.to_numpy()\n",
        "#nodos = nodos.ravel() ## Con esto quitamos el bracket o corchete en cada uno de los elementos del arreglo\n",
        "df_Ramas  = pd.read_csv(path+URL_Ramas.split('/')[-2],usecols=[0,1,2,3,4,5,6,7,8,9],names=['No','Name','Orig','NameOrig','Destino','NameDest','R','X','Type','Avail'])\n",
        "df_Ramas.dropna(inplace=True)\n",
        "ramas = df_Ramas.to_numpy()\n",
        "#ramas = ramas.ravel() ## Con esto quitamos el bracket o corchete en cada uno de los elementos del arreglo\n",
        "\n",
        "display(ramas)"
      ],
      "metadata": {
        "id": "fGrKoEsdQRXs",
        "outputId": "c211ad13-3db8-445b-a037-b2371e719718",
        "colab": {
          "base_uri": "https://localhost:8080/",
          "height": 156
        }
      },
      "execution_count": 33,
      "outputs": [
        {
          "output_type": "display_data",
          "data": {
            "text/plain": [
              "array([[1, '05JOM   A3A20   05TRS', 135, ..., 0.05095, 1, 1],\n",
              "       [2, '05MVI   A3A40   05TRS', 6042, ..., 0.00563, 1, 1],\n",
              "       [3, 'AND-230-GPL-230_02', 2, ..., 0.0234, 1, 1],\n",
              "       ...,\n",
              "       [8520, 'STO-115-STO-U2_02', 6506, ..., 0.816, 2, 1],\n",
              "       [8521, 'ENA-115-ENA-13.A_01', 6472, ..., 0.01632, 2, 1],\n",
              "       [8522, 'VCG-115-VCG-34.5_01', 6520, ..., 0.08222, 2, 1]],\n",
              "      dtype=object)"
            ]
          },
          "metadata": {}
        }
      ]
    },
    {
      "cell_type": "code",
      "source": [
        ""
      ],
      "metadata": {
        "id": "FVjJP57RSSAv"
      },
      "execution_count": null,
      "outputs": []
    }
  ]
}
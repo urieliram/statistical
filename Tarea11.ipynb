{
  "nbformat": 4,
  "nbformat_minor": 0,
  "metadata": {
    "colab": {
      "name": "Tarea11.ipynb",
      "provenance": [],
      "collapsed_sections": [],
      "authorship_tag": "ABX9TyO2cCtlOQXmeChPXAeGinm5",
      "include_colab_link": true
    },
    "kernelspec": {
      "name": "python3",
      "display_name": "Python 3"
    },
    "language_info": {
      "name": "python"
    }
  },
  "cells": [
    {
      "cell_type": "markdown",
      "metadata": {
        "id": "view-in-github",
        "colab_type": "text"
      },
      "source": [
        "<a href=\"https://colab.research.google.com/github/urieliram/statistical/blob/main/Tarea11.ipynb\" target=\"_parent\"><img src=\"https://colab.research.google.com/assets/colab-badge.svg\" alt=\"Open In Colab\"/></a>"
      ]
    },
    {
      "cell_type": "code",
      "execution_count": 7,
      "metadata": {
        "colab": {
          "base_uri": "https://localhost:8080/"
        },
        "id": "Jl8U_TJwYnCt",
        "outputId": "4391a739-5ff2-4bc4-e405-54ed044c9c32"
      },
      "outputs": [
        {
          "output_type": "stream",
          "name": "stdout",
          "text": [
            "Requirement already satisfied: keras in /usr/local/lib/python3.7/dist-packages (2.8.0)\n"
          ]
        }
      ],
      "source": [
        "import numpy as np\n",
        "import pandas as pd\n",
        "import itertools\n",
        "import warnings\n",
        "import matplotlib.pyplot as plt\n",
        "import seaborn as sns\n",
        "from sklearn.model_selection import train_test_split #--------------splitting data into test and train\n",
        "from sklearn.metrics import mean_absolute_error, mean_squared_error\n",
        "from IPython.core.pylabtools import figsize\n",
        "warnings.filterwarnings(\"ignore\")\n",
        "%matplotlib inline\n",
        "!sudo pip3 install keras"
      ]
    },
    {
      "cell_type": "code",
      "source": [
        "import tensorflow as tf\n",
        "\n",
        "from tensorflow import keras\n",
        "from tensorflow.keras import layers\n",
        "from tensorflow.keras.datasets import mnist\n",
        "from tensorflow.keras.layers import Dense, Conv2D, Flatten\n",
        "from tensorflow.keras.layers import LocallyConnected2D\n",
        "from tensorflow.keras.layers import LocallyConnected1D\n",
        "from tensorflow.keras.models import Sequential\n",
        "from tensorflow.keras.layers import Reshape\n",
        "from tensorflow.keras.utils import plot_model\n",
        "from tensorflow.keras.layers import Input\n",
        "from tensorflow.keras.models import Model\n",
        "print(tf.__version__)\n",
        "from matplotlib import pyplot as plt\n",
        "from random import randint\n"
      ],
      "metadata": {
        "colab": {
          "base_uri": "https://localhost:8080/"
        },
        "id": "03KT7DFyii20",
        "outputId": "54c0c3ce-9818-4b0d-85d5-93fe9e7959ad"
      },
      "execution_count": 8,
      "outputs": [
        {
          "output_type": "stream",
          "name": "stdout",
          "text": [
            "2.8.0\n"
          ]
        }
      ]
    },
    {
      "cell_type": "markdown",
      "source": [
        "##Predicción de sobrecarga en grupos de líneas de transmisión.\n",
        "En esta sección se usará inferencia bayesiana para ajustar un modelo de regresión logística a datos de violación de flujo de potencia eléctrica en grupos de líneas de transmisión, que interconectan regiones eléctricas. La variable dependientes es de naturaleza binaria con un valor de uno si la línea presenta sobrecarga y cero si no. Las variables independientes son el flujo neto máximo y mínimo en la región eléctrica en un día y se calcula como la diferencia entre la demanda menos la generación en cada región."
      ],
      "metadata": {
        "id": "Oq5QAPZbZFIE"
      }
    },
    {
      "cell_type": "code",
      "source": [
        "df = pd.read_csv('overload.csv')\n",
        "df = df.assign(const=1)\n",
        "dfy = df[['L3','L5','L6','L7','L14','L15','L22','L31','L38','L39','L51','L58','L65']] #Se escoge le número de línea de transmisión\n",
        "dfx = df[['CEN','NES','NOR','NTE','OCC','ORI','PEN','CEN_min','NES_min','NOR_min','NTE_min','OCC_min','ORI_min','PEN_min']] ## Predictors\n",
        "\n",
        "X = dfx.to_numpy()\n",
        "y = dfy.to_numpy()\n",
        "\n",
        "#Normalizing the data\n",
        "from sklearn.preprocessing import StandardScaler\n",
        "sc = StandardScaler()\n",
        "X = sc.fit_transform(X)\n",
        "\n",
        "from sklearn.preprocessing import OneHotEncoder\n",
        "ohe = OneHotEncoder()\n",
        "y = ohe.fit_transform(y).toarray()\n",
        "\n",
        "## Crea conjuntos de datos de entrenamiento y prueba\n",
        "from sklearn.model_selection import train_test_split\n",
        "X_train,X_test,y_train,y_test = train_test_split(X,y,test_size = 0.7) #, random_state = 5\n",
        "\n",
        "#df.sample(5)\n",
        "#df.describe()\n",
        "# df.head()"
      ],
      "metadata": {
        "id": "YHm2TKzKJj1L"
      },
      "execution_count": 9,
      "outputs": []
    },
    {
      "cell_type": "markdown",
      "source": [
        "A continuación se enlista las configuraciones de red usadas en el libro (para resolver el problema *11.7 Example: ZIP Code Data*). \n",
        "*   Net-1: Sin capa oculta, equivalente a regresión logística multinomial.\n",
        "*   Net-2: Una capa oculta, 12 unidades ocultas totalmente conectadas.\n",
        "*   Net-3: Dos capas ocultas conectadas localmente.\n",
        "*   Net-4: Dos capas ocultas, conectadas localmente con peso compartido.\n",
        "*   Net-5: dos capas ocultas, conectadas localmente, dos niveles de peso compartido.\n",
        "\n",
        "Trataremos de replicar el ejercicio aplicando a nuestros datos. A diferencia del problema de 2dimensiones del libro , usaremos redes para una sola dimensión para predecir un vector de Binarios (Sobrecarga o no de algunas líneas de tranmisión) a partir de un vector de datos reales (datos de demanda de las regiones eléctricas). También mencionan que todas las redes tienen unidades de salida sigmoidales y el ajuste es con mínimpos cuadrados.\n"
      ],
      "metadata": {
        "id": "fyP3Pfx9i0bh"
      }
    },
    {
      "cell_type": "code",
      "source": [
        "#https://towardsdatascience.com/building-our-first-neural-network-in-keras-bdc8abbc17f5\n",
        "#Dependencies\n",
        "import keras\n",
        "from   keras.models import Sequential\n",
        "from   keras.layers import Dense\n",
        "\n",
        "## Neural network\n",
        "model = Sequential()\n",
        "model.add(Dense(units = 26,  input_dim = 14, activation = 'sigmoid'))\n",
        "#model.add(Dense(7,  input_dim = 13, activation = 'sigmoid'))\n",
        "#model.add(Dense(4,  input_dim = 7,  activation = 'sigmoid'))\n",
        "#model.add(Dense(14, input_dim = 4,  activation = 'sigmoid'))\n",
        "\n",
        "model.summary()\n",
        "\n",
        "#keras.utils.plot_model(model, \"fig_t11_1.png\")"
      ],
      "metadata": {
        "colab": {
          "base_uri": "https://localhost:8080/"
        },
        "id": "fxGqkvDWi9_G",
        "outputId": "2dc50e4c-78f7-4ac3-cb7a-98d6badda166"
      },
      "execution_count": 10,
      "outputs": [
        {
          "output_type": "stream",
          "name": "stdout",
          "text": [
            "Model: \"sequential_1\"\n",
            "_________________________________________________________________\n",
            " Layer (type)                Output Shape              Param #   \n",
            "=================================================================\n",
            " dense_1 (Dense)             (None, 26)                390       \n",
            "                                                                 \n",
            "=================================================================\n",
            "Total params: 390\n",
            "Trainable params: 390\n",
            "Non-trainable params: 0\n",
            "_________________________________________________________________\n"
          ]
        }
      ]
    },
    {
      "cell_type": "code",
      "source": [
        "#parametros https://www.tensorflow.org/api_docs/python/tf/keras/Model\n",
        "model.compile(loss='categorical_crossentropy', optimizer='RMSprop', metrics=['mse'])"
      ],
      "metadata": {
        "id": "wogbeqm9i_J2"
      },
      "execution_count": 11,
      "outputs": []
    },
    {
      "cell_type": "code",
      "source": [
        "history = model.fit(X_train, y_train, epochs = 100, batch_size = 64)"
      ],
      "metadata": {
        "colab": {
          "base_uri": "https://localhost:8080/"
        },
        "id": "k54yEdixjce5",
        "outputId": "8363a91c-1681-43d5-e664-91b30e9bb843"
      },
      "execution_count": 13,
      "outputs": [
        {
          "output_type": "stream",
          "name": "stdout",
          "text": [
            "Epoch 1/100\n",
            "2/2 [==============================] - 2s 8ms/step - loss: 43.5522 - mse: 0.2504\n",
            "Epoch 2/100\n",
            "2/2 [==============================] - 0s 12ms/step - loss: 43.3635 - mse: 0.2467\n",
            "Epoch 3/100\n",
            "2/2 [==============================] - 0s 10ms/step - loss: 43.2538 - mse: 0.2443\n",
            "Epoch 4/100\n",
            "2/2 [==============================] - 0s 14ms/step - loss: 43.1620 - mse: 0.2423\n",
            "Epoch 5/100\n",
            "2/2 [==============================] - 0s 19ms/step - loss: 43.0815 - mse: 0.2406\n",
            "Epoch 6/100\n",
            "2/2 [==============================] - 0s 19ms/step - loss: 43.0103 - mse: 0.2390\n",
            "Epoch 7/100\n",
            "2/2 [==============================] - 0s 12ms/step - loss: 42.9416 - mse: 0.2374\n",
            "Epoch 8/100\n",
            "2/2 [==============================] - 0s 16ms/step - loss: 42.8828 - mse: 0.2360\n",
            "Epoch 9/100\n",
            "2/2 [==============================] - 0s 21ms/step - loss: 42.8306 - mse: 0.2347\n",
            "Epoch 10/100\n",
            "2/2 [==============================] - 0s 17ms/step - loss: 42.7734 - mse: 0.2334\n",
            "Epoch 11/100\n",
            "2/2 [==============================] - 0s 18ms/step - loss: 42.7273 - mse: 0.2322\n",
            "Epoch 12/100\n",
            "2/2 [==============================] - 0s 17ms/step - loss: 42.6774 - mse: 0.2309\n",
            "Epoch 13/100\n",
            "2/2 [==============================] - 0s 15ms/step - loss: 42.6357 - mse: 0.2297\n",
            "Epoch 14/100\n",
            "2/2 [==============================] - 0s 11ms/step - loss: 42.5918 - mse: 0.2286\n",
            "Epoch 15/100\n",
            "2/2 [==============================] - 0s 14ms/step - loss: 42.5538 - mse: 0.2274\n",
            "Epoch 16/100\n",
            "2/2 [==============================] - 0s 10ms/step - loss: 42.5175 - mse: 0.2263\n",
            "Epoch 17/100\n",
            "2/2 [==============================] - 0s 16ms/step - loss: 42.4827 - mse: 0.2253\n",
            "Epoch 18/100\n",
            "2/2 [==============================] - 0s 16ms/step - loss: 42.4467 - mse: 0.2243\n",
            "Epoch 19/100\n",
            "2/2 [==============================] - 0s 10ms/step - loss: 42.4175 - mse: 0.2232\n",
            "Epoch 20/100\n",
            "2/2 [==============================] - 0s 10ms/step - loss: 42.3871 - mse: 0.2222\n",
            "Epoch 21/100\n",
            "2/2 [==============================] - 0s 9ms/step - loss: 42.3575 - mse: 0.2213\n",
            "Epoch 22/100\n",
            "2/2 [==============================] - 0s 11ms/step - loss: 42.3299 - mse: 0.2203\n",
            "Epoch 23/100\n",
            "2/2 [==============================] - 0s 20ms/step - loss: 42.3043 - mse: 0.2194\n",
            "Epoch 24/100\n",
            "2/2 [==============================] - 0s 12ms/step - loss: 42.2830 - mse: 0.2184\n",
            "Epoch 25/100\n",
            "2/2 [==============================] - 0s 11ms/step - loss: 42.2573 - mse: 0.2175\n",
            "Epoch 26/100\n",
            "2/2 [==============================] - 0s 15ms/step - loss: 42.2368 - mse: 0.2166\n",
            "Epoch 27/100\n",
            "2/2 [==============================] - 0s 12ms/step - loss: 42.2182 - mse: 0.2157\n",
            "Epoch 28/100\n",
            "2/2 [==============================] - 0s 17ms/step - loss: 42.1993 - mse: 0.2148\n",
            "Epoch 29/100\n",
            "2/2 [==============================] - 0s 10ms/step - loss: 42.1857 - mse: 0.2140\n",
            "Epoch 30/100\n",
            "2/2 [==============================] - 0s 27ms/step - loss: 42.1685 - mse: 0.2132\n",
            "Epoch 31/100\n",
            "2/2 [==============================] - 0s 11ms/step - loss: 42.1565 - mse: 0.2124\n",
            "Epoch 32/100\n",
            "2/2 [==============================] - 0s 9ms/step - loss: 42.1473 - mse: 0.2116\n",
            "Epoch 33/100\n",
            "2/2 [==============================] - 0s 10ms/step - loss: 42.1354 - mse: 0.2108\n",
            "Epoch 34/100\n",
            "2/2 [==============================] - 0s 18ms/step - loss: 42.1239 - mse: 0.2101\n",
            "Epoch 35/100\n",
            "2/2 [==============================] - 0s 17ms/step - loss: 42.1179 - mse: 0.2093\n",
            "Epoch 36/100\n",
            "2/2 [==============================] - 0s 7ms/step - loss: 42.1093 - mse: 0.2086\n",
            "Epoch 37/100\n",
            "2/2 [==============================] - 0s 7ms/step - loss: 42.1082 - mse: 0.2079\n",
            "Epoch 38/100\n",
            "2/2 [==============================] - 0s 9ms/step - loss: 42.1050 - mse: 0.2072\n",
            "Epoch 39/100\n",
            "2/2 [==============================] - 0s 13ms/step - loss: 42.1021 - mse: 0.2065\n",
            "Epoch 40/100\n",
            "2/2 [==============================] - 0s 14ms/step - loss: 42.0988 - mse: 0.2059\n",
            "Epoch 41/100\n",
            "2/2 [==============================] - 0s 7ms/step - loss: 42.0984 - mse: 0.2052\n",
            "Epoch 42/100\n",
            "2/2 [==============================] - 0s 13ms/step - loss: 42.0989 - mse: 0.2046\n",
            "Epoch 43/100\n",
            "2/2 [==============================] - 0s 14ms/step - loss: 42.1007 - mse: 0.2040\n",
            "Epoch 44/100\n",
            "2/2 [==============================] - 0s 13ms/step - loss: 42.1027 - mse: 0.2034\n",
            "Epoch 45/100\n",
            "2/2 [==============================] - 0s 29ms/step - loss: 42.1019 - mse: 0.2028\n",
            "Epoch 46/100\n",
            "2/2 [==============================] - 0s 13ms/step - loss: 42.1076 - mse: 0.2023\n",
            "Epoch 47/100\n",
            "2/2 [==============================] - 0s 12ms/step - loss: 42.1145 - mse: 0.2017\n",
            "Epoch 48/100\n",
            "2/2 [==============================] - 0s 12ms/step - loss: 42.1213 - mse: 0.2012\n",
            "Epoch 49/100\n",
            "2/2 [==============================] - 0s 10ms/step - loss: 42.1311 - mse: 0.2007\n",
            "Epoch 50/100\n",
            "2/2 [==============================] - 0s 16ms/step - loss: 42.1359 - mse: 0.2001\n",
            "Epoch 51/100\n",
            "2/2 [==============================] - 0s 14ms/step - loss: 42.1456 - mse: 0.1996\n",
            "Epoch 52/100\n",
            "2/2 [==============================] - 0s 17ms/step - loss: 42.1582 - mse: 0.1991\n",
            "Epoch 53/100\n",
            "2/2 [==============================] - 0s 27ms/step - loss: 42.1747 - mse: 0.1987\n",
            "Epoch 54/100\n",
            "2/2 [==============================] - 0s 10ms/step - loss: 42.1884 - mse: 0.1982\n",
            "Epoch 55/100\n",
            "2/2 [==============================] - 0s 12ms/step - loss: 42.2019 - mse: 0.1978\n",
            "Epoch 56/100\n",
            "2/2 [==============================] - 0s 11ms/step - loss: 42.2180 - mse: 0.1974\n",
            "Epoch 57/100\n",
            "2/2 [==============================] - 0s 13ms/step - loss: 42.2308 - mse: 0.1969\n",
            "Epoch 58/100\n",
            "2/2 [==============================] - 0s 11ms/step - loss: 42.2450 - mse: 0.1965\n",
            "Epoch 59/100\n",
            "2/2 [==============================] - 0s 11ms/step - loss: 42.2608 - mse: 0.1961\n",
            "Epoch 60/100\n",
            "2/2 [==============================] - 0s 12ms/step - loss: 42.2790 - mse: 0.1957\n",
            "Epoch 61/100\n",
            "2/2 [==============================] - 0s 9ms/step - loss: 42.2929 - mse: 0.1953\n",
            "Epoch 62/100\n",
            "2/2 [==============================] - 0s 24ms/step - loss: 42.3177 - mse: 0.1950\n",
            "Epoch 63/100\n",
            "2/2 [==============================] - 0s 15ms/step - loss: 42.3326 - mse: 0.1946\n",
            "Epoch 64/100\n",
            "2/2 [==============================] - 0s 11ms/step - loss: 42.3561 - mse: 0.1943\n",
            "Epoch 65/100\n",
            "2/2 [==============================] - 0s 18ms/step - loss: 42.3756 - mse: 0.1940\n",
            "Epoch 66/100\n",
            "2/2 [==============================] - 0s 11ms/step - loss: 42.3993 - mse: 0.1936\n",
            "Epoch 67/100\n",
            "2/2 [==============================] - 0s 15ms/step - loss: 42.4221 - mse: 0.1933\n",
            "Epoch 68/100\n",
            "2/2 [==============================] - 0s 17ms/step - loss: 42.4443 - mse: 0.1930\n",
            "Epoch 69/100\n",
            "2/2 [==============================] - 0s 13ms/step - loss: 42.4667 - mse: 0.1928\n",
            "Epoch 70/100\n",
            "2/2 [==============================] - 0s 9ms/step - loss: 42.4888 - mse: 0.1924\n",
            "Epoch 71/100\n",
            "2/2 [==============================] - 0s 18ms/step - loss: 42.5143 - mse: 0.1922\n",
            "Epoch 72/100\n",
            "2/2 [==============================] - 0s 15ms/step - loss: 42.5418 - mse: 0.1919\n",
            "Epoch 73/100\n",
            "2/2 [==============================] - 0s 19ms/step - loss: 42.5706 - mse: 0.1917\n",
            "Epoch 74/100\n",
            "2/2 [==============================] - 0s 9ms/step - loss: 42.5992 - mse: 0.1914\n",
            "Epoch 75/100\n",
            "2/2 [==============================] - 0s 10ms/step - loss: 42.6276 - mse: 0.1912\n",
            "Epoch 76/100\n",
            "2/2 [==============================] - 0s 10ms/step - loss: 42.6603 - mse: 0.1910\n",
            "Epoch 77/100\n",
            "2/2 [==============================] - 0s 12ms/step - loss: 42.6877 - mse: 0.1908\n",
            "Epoch 78/100\n",
            "2/2 [==============================] - 0s 10ms/step - loss: 42.7208 - mse: 0.1906\n",
            "Epoch 79/100\n",
            "2/2 [==============================] - 0s 10ms/step - loss: 42.7516 - mse: 0.1904\n",
            "Epoch 80/100\n",
            "2/2 [==============================] - 0s 13ms/step - loss: 42.7806 - mse: 0.1902\n",
            "Epoch 81/100\n",
            "2/2 [==============================] - 0s 12ms/step - loss: 42.8093 - mse: 0.1899\n",
            "Epoch 82/100\n",
            "2/2 [==============================] - 0s 16ms/step - loss: 42.8396 - mse: 0.1898\n",
            "Epoch 83/100\n",
            "2/2 [==============================] - 0s 15ms/step - loss: 42.8739 - mse: 0.1896\n",
            "Epoch 84/100\n",
            "2/2 [==============================] - 0s 16ms/step - loss: 42.9063 - mse: 0.1895\n",
            "Epoch 85/100\n",
            "2/2 [==============================] - 0s 15ms/step - loss: 42.9387 - mse: 0.1893\n",
            "Epoch 86/100\n",
            "2/2 [==============================] - 0s 20ms/step - loss: 42.9797 - mse: 0.1892\n",
            "Epoch 87/100\n",
            "2/2 [==============================] - 0s 11ms/step - loss: 43.0117 - mse: 0.1890\n",
            "Epoch 88/100\n",
            "2/2 [==============================] - 0s 18ms/step - loss: 43.0434 - mse: 0.1888\n",
            "Epoch 89/100\n",
            "2/2 [==============================] - 0s 14ms/step - loss: 43.0835 - mse: 0.1887\n",
            "Epoch 90/100\n",
            "2/2 [==============================] - 0s 21ms/step - loss: 43.1203 - mse: 0.1886\n",
            "Epoch 91/100\n",
            "2/2 [==============================] - 0s 20ms/step - loss: 43.1602 - mse: 0.1885\n",
            "Epoch 92/100\n",
            "2/2 [==============================] - 0s 17ms/step - loss: 43.1976 - mse: 0.1883\n",
            "Epoch 93/100\n",
            "2/2 [==============================] - 0s 18ms/step - loss: 43.2322 - mse: 0.1882\n",
            "Epoch 94/100\n",
            "2/2 [==============================] - 0s 19ms/step - loss: 43.2743 - mse: 0.1882\n",
            "Epoch 95/100\n",
            "2/2 [==============================] - 0s 27ms/step - loss: 43.3135 - mse: 0.1881\n",
            "Epoch 96/100\n",
            "2/2 [==============================] - 0s 19ms/step - loss: 43.3521 - mse: 0.1880\n",
            "Epoch 97/100\n",
            "2/2 [==============================] - 0s 6ms/step - loss: 43.3940 - mse: 0.1879\n",
            "Epoch 98/100\n",
            "2/2 [==============================] - 0s 16ms/step - loss: 43.4355 - mse: 0.1878\n",
            "Epoch 99/100\n",
            "2/2 [==============================] - 0s 10ms/step - loss: 43.4742 - mse: 0.1877\n",
            "Epoch 100/100\n",
            "2/2 [==============================] - 0s 13ms/step - loss: 43.5148 - mse: 0.1877\n"
          ]
        }
      ]
    },
    {
      "cell_type": "code",
      "source": [
        "y_pred = model.predict(X_test)\n",
        "#Converting predictions to label\n",
        "pred = list()\n",
        "for i in range(len(y_pred)):\n",
        "    pred.append(np.argmax(y_pred[i]))\n",
        "#Converting one hot encoded test label to label\n",
        "test = list()\n",
        "for i in range(len(y_test)):\n",
        "    test.append(np.argmax(y_test[i]))"
      ],
      "metadata": {
        "id": "q3zvsxo524i6"
      },
      "execution_count": 15,
      "outputs": []
    },
    {
      "cell_type": "code",
      "source": [
        "from sklearn.metrics import accuracy_score\n",
        "a = accuracy_score(pred,test)\n",
        "print('Accuracy is:', a*100)"
      ],
      "metadata": {
        "colab": {
          "base_uri": "https://localhost:8080/"
        },
        "id": "vuRTB9O7lZZ8",
        "outputId": "0abfffc2-77a3-4a51-d47e-09ec6c822ec5"
      },
      "execution_count": 16,
      "outputs": [
        {
          "output_type": "stream",
          "name": "stdout",
          "text": [
            "Accuracy is: 3.404255319148936\n"
          ]
        }
      ]
    },
    {
      "cell_type": "code",
      "source": [
        "history = model.fit(X_train, y_train,validation_data = (X_test,y_test), epochs=100, batch_size=64)"
      ],
      "metadata": {
        "colab": {
          "base_uri": "https://localhost:8080/"
        },
        "id": "hwjiHFFl2A0i",
        "outputId": "f7db178c-2920-43b3-a319-2fb5ceeb5742"
      },
      "execution_count": 17,
      "outputs": [
        {
          "output_type": "stream",
          "name": "stdout",
          "text": [
            "Epoch 1/100\n",
            "2/2 [==============================] - 1s 658ms/step - loss: 43.5611 - mse: 0.1876 - val_loss: 45.5398 - val_mse: 0.1877\n",
            "Epoch 2/100\n",
            "2/2 [==============================] - 0s 58ms/step - loss: 43.6024 - mse: 0.1876 - val_loss: 45.6006 - val_mse: 0.1876\n",
            "Epoch 3/100\n",
            "2/2 [==============================] - 0s 76ms/step - loss: 43.6458 - mse: 0.1875 - val_loss: 45.6577 - val_mse: 0.1876\n",
            "Epoch 4/100\n",
            "2/2 [==============================] - 0s 61ms/step - loss: 43.6869 - mse: 0.1875 - val_loss: 45.7155 - val_mse: 0.1876\n",
            "Epoch 5/100\n",
            "2/2 [==============================] - 0s 73ms/step - loss: 43.7262 - mse: 0.1874 - val_loss: 45.7723 - val_mse: 0.1876\n",
            "Epoch 6/100\n",
            "2/2 [==============================] - 0s 63ms/step - loss: 43.7670 - mse: 0.1873 - val_loss: 45.8293 - val_mse: 0.1876\n",
            "Epoch 7/100\n",
            "2/2 [==============================] - 0s 133ms/step - loss: 43.8030 - mse: 0.1873 - val_loss: 45.8886 - val_mse: 0.1876\n",
            "Epoch 8/100\n",
            "2/2 [==============================] - 0s 45ms/step - loss: 43.8440 - mse: 0.1872 - val_loss: 45.9500 - val_mse: 0.1876\n",
            "Epoch 9/100\n",
            "2/2 [==============================] - 0s 38ms/step - loss: 43.8871 - mse: 0.1872 - val_loss: 46.0138 - val_mse: 0.1876\n",
            "Epoch 10/100\n",
            "2/2 [==============================] - 0s 51ms/step - loss: 43.9359 - mse: 0.1872 - val_loss: 46.0740 - val_mse: 0.1876\n",
            "Epoch 11/100\n",
            "2/2 [==============================] - 0s 47ms/step - loss: 43.9755 - mse: 0.1871 - val_loss: 46.1361 - val_mse: 0.1877\n",
            "Epoch 12/100\n",
            "2/2 [==============================] - 0s 32ms/step - loss: 44.0229 - mse: 0.1872 - val_loss: 46.1977 - val_mse: 0.1877\n",
            "Epoch 13/100\n",
            "2/2 [==============================] - 0s 33ms/step - loss: 44.0649 - mse: 0.1871 - val_loss: 46.2620 - val_mse: 0.1877\n",
            "Epoch 14/100\n",
            "2/2 [==============================] - 0s 30ms/step - loss: 44.1079 - mse: 0.1871 - val_loss: 46.3278 - val_mse: 0.1878\n",
            "Epoch 15/100\n",
            "2/2 [==============================] - 0s 38ms/step - loss: 44.1594 - mse: 0.1871 - val_loss: 46.3903 - val_mse: 0.1878\n",
            "Epoch 16/100\n",
            "2/2 [==============================] - 0s 32ms/step - loss: 44.2043 - mse: 0.1871 - val_loss: 46.4559 - val_mse: 0.1878\n",
            "Epoch 17/100\n",
            "2/2 [==============================] - 0s 45ms/step - loss: 44.2476 - mse: 0.1870 - val_loss: 46.5216 - val_mse: 0.1879\n",
            "Epoch 18/100\n",
            "2/2 [==============================] - 0s 33ms/step - loss: 44.2957 - mse: 0.1871 - val_loss: 46.5871 - val_mse: 0.1879\n",
            "Epoch 19/100\n",
            "2/2 [==============================] - 0s 46ms/step - loss: 44.3429 - mse: 0.1871 - val_loss: 46.6548 - val_mse: 0.1879\n",
            "Epoch 20/100\n",
            "2/2 [==============================] - 0s 48ms/step - loss: 44.3935 - mse: 0.1871 - val_loss: 46.7186 - val_mse: 0.1880\n",
            "Epoch 21/100\n",
            "2/2 [==============================] - 0s 37ms/step - loss: 44.4403 - mse: 0.1871 - val_loss: 46.7836 - val_mse: 0.1881\n",
            "Epoch 22/100\n",
            "2/2 [==============================] - 0s 41ms/step - loss: 44.4843 - mse: 0.1871 - val_loss: 46.8506 - val_mse: 0.1881\n",
            "Epoch 23/100\n",
            "2/2 [==============================] - 0s 29ms/step - loss: 44.5342 - mse: 0.1871 - val_loss: 46.9189 - val_mse: 0.1882\n",
            "Epoch 24/100\n",
            "2/2 [==============================] - 0s 32ms/step - loss: 44.5789 - mse: 0.1871 - val_loss: 46.9893 - val_mse: 0.1883\n",
            "Epoch 25/100\n",
            "2/2 [==============================] - 0s 54ms/step - loss: 44.6334 - mse: 0.1872 - val_loss: 47.0572 - val_mse: 0.1883\n",
            "Epoch 26/100\n",
            "2/2 [==============================] - 0s 40ms/step - loss: 44.6816 - mse: 0.1872 - val_loss: 47.1225 - val_mse: 0.1884\n",
            "Epoch 27/100\n",
            "2/2 [==============================] - 0s 33ms/step - loss: 44.7247 - mse: 0.1872 - val_loss: 47.1910 - val_mse: 0.1884\n",
            "Epoch 28/100\n",
            "2/2 [==============================] - 0s 46ms/step - loss: 44.7742 - mse: 0.1872 - val_loss: 47.2617 - val_mse: 0.1885\n",
            "Epoch 29/100\n",
            "2/2 [==============================] - 0s 37ms/step - loss: 44.8237 - mse: 0.1873 - val_loss: 47.3338 - val_mse: 0.1886\n",
            "Epoch 30/100\n",
            "2/2 [==============================] - 0s 31ms/step - loss: 44.8745 - mse: 0.1873 - val_loss: 47.4057 - val_mse: 0.1887\n",
            "Epoch 31/100\n",
            "2/2 [==============================] - 0s 46ms/step - loss: 44.9243 - mse: 0.1873 - val_loss: 47.4765 - val_mse: 0.1888\n",
            "Epoch 32/100\n",
            "2/2 [==============================] - 0s 48ms/step - loss: 44.9748 - mse: 0.1874 - val_loss: 47.5445 - val_mse: 0.1888\n",
            "Epoch 33/100\n",
            "2/2 [==============================] - 0s 44ms/step - loss: 45.0242 - mse: 0.1874 - val_loss: 47.6126 - val_mse: 0.1889\n",
            "Epoch 34/100\n",
            "2/2 [==============================] - 0s 32ms/step - loss: 45.0740 - mse: 0.1874 - val_loss: 47.6836 - val_mse: 0.1889\n",
            "Epoch 35/100\n",
            "2/2 [==============================] - 0s 32ms/step - loss: 45.1254 - mse: 0.1874 - val_loss: 47.7537 - val_mse: 0.1890\n",
            "Epoch 36/100\n",
            "2/2 [==============================] - 0s 51ms/step - loss: 45.1759 - mse: 0.1875 - val_loss: 47.8237 - val_mse: 0.1891\n",
            "Epoch 37/100\n",
            "2/2 [==============================] - 0s 50ms/step - loss: 45.2268 - mse: 0.1875 - val_loss: 47.8891 - val_mse: 0.1892\n",
            "Epoch 38/100\n",
            "2/2 [==============================] - 0s 32ms/step - loss: 45.2723 - mse: 0.1876 - val_loss: 47.9576 - val_mse: 0.1893\n",
            "Epoch 39/100\n",
            "2/2 [==============================] - 0s 32ms/step - loss: 45.3228 - mse: 0.1876 - val_loss: 48.0262 - val_mse: 0.1893\n",
            "Epoch 40/100\n",
            "2/2 [==============================] - 0s 48ms/step - loss: 45.3742 - mse: 0.1876 - val_loss: 48.0949 - val_mse: 0.1894\n",
            "Epoch 41/100\n",
            "2/2 [==============================] - 0s 30ms/step - loss: 45.4269 - mse: 0.1877 - val_loss: 48.1611 - val_mse: 0.1895\n",
            "Epoch 42/100\n",
            "2/2 [==============================] - 0s 30ms/step - loss: 45.4712 - mse: 0.1877 - val_loss: 48.2326 - val_mse: 0.1896\n",
            "Epoch 43/100\n",
            "2/2 [==============================] - 0s 50ms/step - loss: 45.5279 - mse: 0.1878 - val_loss: 48.3041 - val_mse: 0.1897\n",
            "Epoch 44/100\n",
            "2/2 [==============================] - 0s 47ms/step - loss: 45.5788 - mse: 0.1878 - val_loss: 48.3753 - val_mse: 0.1898\n",
            "Epoch 45/100\n",
            "2/2 [==============================] - 0s 45ms/step - loss: 45.6323 - mse: 0.1879 - val_loss: 48.4450 - val_mse: 0.1898\n",
            "Epoch 46/100\n",
            "2/2 [==============================] - 0s 48ms/step - loss: 45.6796 - mse: 0.1879 - val_loss: 48.5201 - val_mse: 0.1900\n",
            "Epoch 47/100\n",
            "2/2 [==============================] - 0s 49ms/step - loss: 45.7394 - mse: 0.1880 - val_loss: 48.5926 - val_mse: 0.1901\n",
            "Epoch 48/100\n",
            "2/2 [==============================] - 0s 36ms/step - loss: 45.7871 - mse: 0.1881 - val_loss: 48.6654 - val_mse: 0.1902\n",
            "Epoch 49/100\n",
            "2/2 [==============================] - 0s 53ms/step - loss: 45.8431 - mse: 0.1881 - val_loss: 48.7390 - val_mse: 0.1902\n",
            "Epoch 50/100\n",
            "2/2 [==============================] - 0s 32ms/step - loss: 45.8957 - mse: 0.1882 - val_loss: 48.8143 - val_mse: 0.1903\n",
            "Epoch 51/100\n",
            "2/2 [==============================] - 0s 49ms/step - loss: 45.9506 - mse: 0.1882 - val_loss: 48.8877 - val_mse: 0.1904\n",
            "Epoch 52/100\n",
            "2/2 [==============================] - 0s 51ms/step - loss: 46.0039 - mse: 0.1883 - val_loss: 48.9604 - val_mse: 0.1905\n",
            "Epoch 53/100\n",
            "2/2 [==============================] - 0s 33ms/step - loss: 46.0568 - mse: 0.1883 - val_loss: 49.0368 - val_mse: 0.1906\n",
            "Epoch 54/100\n",
            "2/2 [==============================] - 0s 36ms/step - loss: 46.1157 - mse: 0.1884 - val_loss: 49.1118 - val_mse: 0.1907\n",
            "Epoch 55/100\n",
            "2/2 [==============================] - 0s 50ms/step - loss: 46.1688 - mse: 0.1885 - val_loss: 49.1844 - val_mse: 0.1908\n",
            "Epoch 56/100\n",
            "2/2 [==============================] - 0s 33ms/step - loss: 46.2239 - mse: 0.1886 - val_loss: 49.2557 - val_mse: 0.1909\n",
            "Epoch 57/100\n",
            "2/2 [==============================] - 0s 48ms/step - loss: 46.2735 - mse: 0.1886 - val_loss: 49.3325 - val_mse: 0.1910\n",
            "Epoch 58/100\n",
            "2/2 [==============================] - 0s 34ms/step - loss: 46.3319 - mse: 0.1887 - val_loss: 49.4094 - val_mse: 0.1911\n",
            "Epoch 59/100\n",
            "2/2 [==============================] - 0s 35ms/step - loss: 46.3882 - mse: 0.1888 - val_loss: 49.4810 - val_mse: 0.1912\n",
            "Epoch 60/100\n",
            "2/2 [==============================] - 0s 46ms/step - loss: 46.4408 - mse: 0.1888 - val_loss: 49.5554 - val_mse: 0.1913\n",
            "Epoch 61/100\n",
            "2/2 [==============================] - 0s 30ms/step - loss: 46.4930 - mse: 0.1889 - val_loss: 49.6301 - val_mse: 0.1914\n",
            "Epoch 62/100\n",
            "2/2 [==============================] - 0s 46ms/step - loss: 46.5477 - mse: 0.1889 - val_loss: 49.7075 - val_mse: 0.1915\n",
            "Epoch 63/100\n",
            "2/2 [==============================] - 0s 31ms/step - loss: 46.6031 - mse: 0.1890 - val_loss: 49.7873 - val_mse: 0.1916\n",
            "Epoch 64/100\n",
            "2/2 [==============================] - 0s 47ms/step - loss: 46.6638 - mse: 0.1891 - val_loss: 49.8629 - val_mse: 0.1917\n",
            "Epoch 65/100\n",
            "2/2 [==============================] - 0s 54ms/step - loss: 46.7175 - mse: 0.1892 - val_loss: 49.9419 - val_mse: 0.1918\n",
            "Epoch 66/100\n",
            "2/2 [==============================] - 0s 52ms/step - loss: 46.7750 - mse: 0.1892 - val_loss: 50.0187 - val_mse: 0.1920\n",
            "Epoch 67/100\n",
            "2/2 [==============================] - 0s 36ms/step - loss: 46.8317 - mse: 0.1893 - val_loss: 50.0970 - val_mse: 0.1921\n",
            "Epoch 68/100\n",
            "2/2 [==============================] - 0s 51ms/step - loss: 46.8926 - mse: 0.1894 - val_loss: 50.1757 - val_mse: 0.1922\n",
            "Epoch 69/100\n",
            "2/2 [==============================] - 0s 49ms/step - loss: 46.9489 - mse: 0.1895 - val_loss: 50.2518 - val_mse: 0.1923\n",
            "Epoch 70/100\n",
            "2/2 [==============================] - 0s 35ms/step - loss: 47.0043 - mse: 0.1896 - val_loss: 50.3304 - val_mse: 0.1924\n",
            "Epoch 71/100\n",
            "2/2 [==============================] - 0s 32ms/step - loss: 47.0605 - mse: 0.1897 - val_loss: 50.4124 - val_mse: 0.1925\n",
            "Epoch 72/100\n",
            "2/2 [==============================] - 0s 34ms/step - loss: 47.1225 - mse: 0.1898 - val_loss: 50.4897 - val_mse: 0.1927\n",
            "Epoch 73/100\n",
            "2/2 [==============================] - 0s 49ms/step - loss: 47.1802 - mse: 0.1899 - val_loss: 50.5635 - val_mse: 0.1928\n",
            "Epoch 74/100\n",
            "2/2 [==============================] - 0s 51ms/step - loss: 47.2318 - mse: 0.1899 - val_loss: 50.6421 - val_mse: 0.1929\n",
            "Epoch 75/100\n",
            "2/2 [==============================] - 0s 46ms/step - loss: 47.2921 - mse: 0.1900 - val_loss: 50.7187 - val_mse: 0.1930\n",
            "Epoch 76/100\n",
            "2/2 [==============================] - 0s 33ms/step - loss: 47.3456 - mse: 0.1901 - val_loss: 50.7969 - val_mse: 0.1931\n",
            "Epoch 77/100\n",
            "2/2 [==============================] - 0s 35ms/step - loss: 47.4070 - mse: 0.1902 - val_loss: 50.8715 - val_mse: 0.1932\n",
            "Epoch 78/100\n",
            "2/2 [==============================] - 0s 50ms/step - loss: 47.4614 - mse: 0.1902 - val_loss: 50.9457 - val_mse: 0.1932\n",
            "Epoch 79/100\n",
            "2/2 [==============================] - 0s 32ms/step - loss: 47.5122 - mse: 0.1903 - val_loss: 51.0281 - val_mse: 0.1934\n",
            "Epoch 80/100\n",
            "2/2 [==============================] - 0s 45ms/step - loss: 47.5748 - mse: 0.1904 - val_loss: 51.1071 - val_mse: 0.1935\n",
            "Epoch 81/100\n",
            "2/2 [==============================] - 0s 53ms/step - loss: 47.6332 - mse: 0.1905 - val_loss: 51.1856 - val_mse: 0.1936\n",
            "Epoch 82/100\n",
            "2/2 [==============================] - 0s 45ms/step - loss: 47.6915 - mse: 0.1905 - val_loss: 51.2677 - val_mse: 0.1937\n",
            "Epoch 83/100\n",
            "2/2 [==============================] - 0s 57ms/step - loss: 47.7530 - mse: 0.1906 - val_loss: 51.3462 - val_mse: 0.1938\n",
            "Epoch 84/100\n",
            "2/2 [==============================] - 0s 32ms/step - loss: 47.8101 - mse: 0.1907 - val_loss: 51.4242 - val_mse: 0.1939\n",
            "Epoch 85/100\n",
            "2/2 [==============================] - 0s 48ms/step - loss: 47.8700 - mse: 0.1908 - val_loss: 51.5031 - val_mse: 0.1940\n",
            "Epoch 86/100\n",
            "2/2 [==============================] - 0s 47ms/step - loss: 47.9301 - mse: 0.1909 - val_loss: 51.5819 - val_mse: 0.1941\n",
            "Epoch 87/100\n",
            "2/2 [==============================] - 0s 35ms/step - loss: 47.9885 - mse: 0.1910 - val_loss: 51.6603 - val_mse: 0.1942\n",
            "Epoch 88/100\n",
            "2/2 [==============================] - 0s 48ms/step - loss: 48.0481 - mse: 0.1910 - val_loss: 51.7409 - val_mse: 0.1943\n",
            "Epoch 89/100\n",
            "2/2 [==============================] - 0s 45ms/step - loss: 48.1085 - mse: 0.1911 - val_loss: 51.8212 - val_mse: 0.1944\n",
            "Epoch 90/100\n",
            "2/2 [==============================] - 0s 39ms/step - loss: 48.1691 - mse: 0.1912 - val_loss: 51.9021 - val_mse: 0.1946\n",
            "Epoch 91/100\n",
            "2/2 [==============================] - 0s 30ms/step - loss: 48.2279 - mse: 0.1913 - val_loss: 51.9808 - val_mse: 0.1947\n",
            "Epoch 92/100\n",
            "2/2 [==============================] - 0s 48ms/step - loss: 48.2872 - mse: 0.1914 - val_loss: 52.0591 - val_mse: 0.1948\n",
            "Epoch 93/100\n",
            "2/2 [==============================] - 0s 46ms/step - loss: 48.3411 - mse: 0.1915 - val_loss: 52.1339 - val_mse: 0.1949\n",
            "Epoch 94/100\n",
            "2/2 [==============================] - 0s 48ms/step - loss: 48.3966 - mse: 0.1916 - val_loss: 52.2114 - val_mse: 0.1950\n",
            "Epoch 95/100\n",
            "2/2 [==============================] - 0s 30ms/step - loss: 48.4523 - mse: 0.1917 - val_loss: 52.2896 - val_mse: 0.1951\n",
            "Epoch 96/100\n",
            "2/2 [==============================] - 0s 33ms/step - loss: 48.5089 - mse: 0.1918 - val_loss: 52.3666 - val_mse: 0.1953\n",
            "Epoch 97/100\n",
            "2/2 [==============================] - 0s 34ms/step - loss: 48.5676 - mse: 0.1918 - val_loss: 52.4476 - val_mse: 0.1954\n",
            "Epoch 98/100\n",
            "2/2 [==============================] - 0s 31ms/step - loss: 48.6297 - mse: 0.1919 - val_loss: 52.5277 - val_mse: 0.1955\n",
            "Epoch 99/100\n",
            "2/2 [==============================] - 0s 32ms/step - loss: 48.6932 - mse: 0.1920 - val_loss: 52.6084 - val_mse: 0.1956\n",
            "Epoch 100/100\n",
            "2/2 [==============================] - 0s 30ms/step - loss: 48.7538 - mse: 0.1921 - val_loss: 52.6891 - val_mse: 0.1957\n"
          ]
        }
      ]
    },
    {
      "cell_type": "code",
      "source": [
        "import matplotlib.pyplot as plt\n",
        "plt.plot(history.history['acc'])\n",
        "plt.plot(history.history['val_acc'])\n",
        "plt.title('Model accuracy')\n",
        "plt.ylabel('Accuracy')\n",
        "plt.xlabel('Epoch')\n",
        "plt.legend(['Train', 'Test'], loc='upper left')\n",
        "plt.show()"
      ],
      "metadata": {
        "colab": {
          "base_uri": "https://localhost:8080/",
          "height": 245
        },
        "id": "lDFCTPTnihaa",
        "outputId": "69719bec-6ee2-4a2a-8c7e-0b5ea4bcdad6"
      },
      "execution_count": 18,
      "outputs": [
        {
          "output_type": "error",
          "ename": "KeyError",
          "evalue": "ignored",
          "traceback": [
            "\u001b[0;31m---------------------------------------------------------------------------\u001b[0m",
            "\u001b[0;31mKeyError\u001b[0m                                  Traceback (most recent call last)",
            "\u001b[0;32m<ipython-input-18-534a50a6ca6c>\u001b[0m in \u001b[0;36m<module>\u001b[0;34m()\u001b[0m\n\u001b[1;32m      1\u001b[0m \u001b[0;32mimport\u001b[0m \u001b[0mmatplotlib\u001b[0m\u001b[0;34m.\u001b[0m\u001b[0mpyplot\u001b[0m \u001b[0;32mas\u001b[0m \u001b[0mplt\u001b[0m\u001b[0;34m\u001b[0m\u001b[0;34m\u001b[0m\u001b[0m\n\u001b[0;32m----> 2\u001b[0;31m \u001b[0mplt\u001b[0m\u001b[0;34m.\u001b[0m\u001b[0mplot\u001b[0m\u001b[0;34m(\u001b[0m\u001b[0mhistory\u001b[0m\u001b[0;34m.\u001b[0m\u001b[0mhistory\u001b[0m\u001b[0;34m[\u001b[0m\u001b[0;34m'acc'\u001b[0m\u001b[0;34m]\u001b[0m\u001b[0;34m)\u001b[0m\u001b[0;34m\u001b[0m\u001b[0;34m\u001b[0m\u001b[0m\n\u001b[0m\u001b[1;32m      3\u001b[0m \u001b[0mplt\u001b[0m\u001b[0;34m.\u001b[0m\u001b[0mplot\u001b[0m\u001b[0;34m(\u001b[0m\u001b[0mhistory\u001b[0m\u001b[0;34m.\u001b[0m\u001b[0mhistory\u001b[0m\u001b[0;34m[\u001b[0m\u001b[0;34m'val_acc'\u001b[0m\u001b[0;34m]\u001b[0m\u001b[0;34m)\u001b[0m\u001b[0;34m\u001b[0m\u001b[0;34m\u001b[0m\u001b[0m\n\u001b[1;32m      4\u001b[0m \u001b[0mplt\u001b[0m\u001b[0;34m.\u001b[0m\u001b[0mtitle\u001b[0m\u001b[0;34m(\u001b[0m\u001b[0;34m'Model accuracy'\u001b[0m\u001b[0;34m)\u001b[0m\u001b[0;34m\u001b[0m\u001b[0;34m\u001b[0m\u001b[0m\n\u001b[1;32m      5\u001b[0m \u001b[0mplt\u001b[0m\u001b[0;34m.\u001b[0m\u001b[0mylabel\u001b[0m\u001b[0;34m(\u001b[0m\u001b[0;34m'Accuracy'\u001b[0m\u001b[0;34m)\u001b[0m\u001b[0;34m\u001b[0m\u001b[0;34m\u001b[0m\u001b[0m\n",
            "\u001b[0;31mKeyError\u001b[0m: 'acc'"
          ]
        }
      ]
    },
    {
      "cell_type": "code",
      "source": [
        "plt.plot(history.history['loss']) plt.plot(history.history['val_loss']) \n",
        "plt.title('Model loss') \n",
        "plt.ylabel('Loss') \n",
        "plt.xlabel('Epoch') \n",
        "plt.legend(['Train', 'Test'], loc='upper left') \n",
        "plt.show()"
      ],
      "metadata": {
        "colab": {
          "base_uri": "https://localhost:8080/",
          "height": 135
        },
        "id": "-Ry6imDvinsD",
        "outputId": "55b39ce7-5959-43e6-fa8c-69e96170bbab"
      },
      "execution_count": 19,
      "outputs": [
        {
          "output_type": "error",
          "ename": "SyntaxError",
          "evalue": "ignored",
          "traceback": [
            "\u001b[0;36m  File \u001b[0;32m\"<ipython-input-19-4c869544df77>\"\u001b[0;36m, line \u001b[0;32m1\u001b[0m\n\u001b[0;31m    plt.plot(history.history['loss']) plt.plot(history.history['val_loss'])\u001b[0m\n\u001b[0m                                        ^\u001b[0m\n\u001b[0;31mSyntaxError\u001b[0m\u001b[0;31m:\u001b[0m invalid syntax\n"
          ]
        }
      ]
    },
    {
      "cell_type": "markdown",
      "source": [
        "### **Conclusión:** \n",
        "Hemos utilizado la API funcional de **Keras** para implementar diferentes estructuras de redes neuronales para predicción de sobrecarga en líneas de transmisión de acuerdo a la demanda en las regiones.\n",
        "\n",
        "Los resultadosindica que la mejor estructura es........... sin embargo, el ............ algunas ventajas ya que da la posibilidad de ................, mientrass.\n",
        "\n",
        "Otra cosa que observamos es que .............., los rendimientos de predicción son similares. Esto quiere decir que a medida que crece el conjunto de datos los resultados deberían converger en la misma solución."
      ],
      "metadata": {
        "id": "Ql3ADEdWZY3a"
      }
    },
    {
      "cell_type": "markdown",
      "source": [
        "[Ejemplos KERAS](https://keras.io/examples/)\n",
        "\n",
        "[Model class API](https://faroit.com/keras-docs/1.2.2/models/model/)\n",
        "\n",
        "[The Functional API TUTORIAL](https://keras.io/guides/functional_api/)\n",
        "\n",
        "[https://gist.github.com/jkleint/1d878d0401b28b281eb75016ed29f2ee](https://gist.github.com/jkleint/1d878d0401b28b281eb75016ed29f2ee)\n",
        "\n",
        "[Introduction to 1D Convolutional Neural Networks in Keras for Time Sequences](https://blog.goodaudience.com/introduction-to-1d-convolutional-neural-networks-in-keras-for-time-sequences-3a7ff801a2cf)\n",
        "\n",
        "[1D Convolutional Neural Network Models for Human Activity Recognition](https://machinelearningmastery.com/cnn-models-for-human-activity-recognition-time-series-classification/)"
      ],
      "metadata": {
        "id": "gyYCVhnKqHRm"
      }
    },
    {
      "cell_type": "code",
      "source": [
        "#https://stackoverflow.com/questions/49161174/tensorflow-logits-and-labels-must-have-the-same-first-dimension\n",
        "\n",
        "#n_class = 2\n",
        "#n_features = 14\n",
        "#inputs = keras.Input(shape=(n_features,))\n",
        "\n",
        "#inputs.shape\n",
        "#inputs.dtype\n",
        "\n",
        "#dense = layers.Dense(14, activation = \"sigmoid\")\n",
        "#x = dense(inputs)\n",
        "\n",
        "#x = layers.Dense(14, activation=\"sigmoid\")(x)\n",
        "#outputs = layers.Dense(14)(x)\n",
        "\n",
        "#outputs = x\n",
        "\n",
        "#model = keras.Model(inputs=inputs, outputs=outputs, name = \"overload_model\")\n",
        "\n",
        "#np.expand_dims(inputs,axis=0)\n",
        "\n",
        "#model.summary()\n",
        "\n",
        "#keras.utils.plot_model(model, \"fig_t11_1.png\")\n",
        "#keras.utils.plot_model(model, \"fig_t11_2.png\", show_shapes=True)"
      ],
      "metadata": {
        "id": "z_MhV61PZEg3"
      },
      "execution_count": null,
      "outputs": []
    },
    {
      "cell_type": "code",
      "source": [
        "#from keras.models import Model\n",
        "#from keras.layers import Input, Dense\n",
        "\n",
        "#a = Input(shape=(32,))\n",
        "#b = Dense(32)(a)\n",
        "#model = Model(Input=a, Output=b)\n",
        "#compile(self, optimizer, loss, metrics=None, loss_weights=None, sample_weight_mode=None)\n",
        "#fit(self, x, y, batch_size=32, nb_epoch=10, verbose=1, callbacks=None, validation_split=0.0, validation_data=None, shuffle=True, class_weight=None, sample_weight=None, initial_epoch=0)"
      ],
      "metadata": {
        "id": "mFgH6kNqc5ie"
      },
      "execution_count": null,
      "outputs": []
    },
    {
      "cell_type": "code",
      "source": [
        "#model.compile(\n",
        "#    loss      = keras.losses.SparseCategoricalCrossentropy(from_logits = True),\n",
        "#    optimizer = keras.optimizers.RMSprop(),\n",
        "#    metrics=[\"accuracy\"],\n",
        "#)\n",
        "\n",
        "#history = model.fit(x_train, y_train, batch_size=14, epochs=2, validation_split=0.2)\n",
        "\n",
        "#test_scores = model.evaluate(x_test, y_test, verbose=2)\n",
        "#print(\"Test loss:\", test_scores[0])\n",
        "#print(\"Test accuracy:\", test_scores[1])"
      ],
      "metadata": {
        "id": "p45sI-QcSo0M"
      },
      "execution_count": null,
      "outputs": []
    }
  ]
}
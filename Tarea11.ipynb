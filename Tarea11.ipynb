{
  "nbformat": 4,
  "nbformat_minor": 0,
  "metadata": {
    "colab": {
      "name": "Tarea11.ipynb",
      "provenance": [],
      "collapsed_sections": [],
      "authorship_tag": "ABX9TyMhbkNplXIOnkpiO1UM//7h",
      "include_colab_link": true
    },
    "kernelspec": {
      "name": "python3",
      "display_name": "Python 3"
    },
    "language_info": {
      "name": "python"
    }
  },
  "cells": [
    {
      "cell_type": "markdown",
      "metadata": {
        "id": "view-in-github",
        "colab_type": "text"
      },
      "source": [
        "<a href=\"https://colab.research.google.com/github/urieliram/statistical/blob/main/Tarea11.ipynb\" target=\"_parent\"><img src=\"https://colab.research.google.com/assets/colab-badge.svg\" alt=\"Open In Colab\"/></a>"
      ]
    },
    {
      "cell_type": "code",
      "execution_count": 1,
      "metadata": {
        "colab": {
          "base_uri": "https://localhost:8080/"
        },
        "id": "Jl8U_TJwYnCt",
        "outputId": "94dc1f92-06d9-4d2f-dacb-a504aa3e4318"
      },
      "outputs": [
        {
          "output_type": "stream",
          "name": "stdout",
          "text": [
            "Requirement already satisfied: keras in /usr/local/lib/python3.7/dist-packages (2.8.0)\n"
          ]
        }
      ],
      "source": [
        "import numpy as np\n",
        "import pandas as pd\n",
        "import itertools\n",
        "import warnings\n",
        "import matplotlib.pyplot as plt\n",
        "import seaborn as sns\n",
        "from sklearn.model_selection import train_test_split #--------------splitting data into test and train\n",
        "from sklearn.metrics import mean_absolute_error, mean_squared_error\n",
        "from IPython.core.pylabtools import figsize\n",
        "warnings.filterwarnings(\"ignore\")\n",
        "%matplotlib inline\n",
        "!sudo pip3 install keras"
      ]
    },
    {
      "cell_type": "code",
      "source": [
        "import tensorflow as tf\n",
        "\n",
        "from tensorflow import keras\n",
        "from tensorflow.keras import layers\n",
        "from tensorflow.keras.datasets import mnist\n",
        "from tensorflow.keras.layers import Dense, Conv2D, Flatten\n",
        "from tensorflow.keras.layers import LocallyConnected2D\n",
        "from tensorflow.keras.layers import LocallyConnected1D\n",
        "from tensorflow.keras.models import Sequential\n",
        "from tensorflow.keras.layers import Reshape\n",
        "from tensorflow.keras.utils import plot_model\n",
        "from tensorflow.keras.layers import Input\n",
        "from tensorflow.keras.models import Model\n",
        "print(tf.__version__)\n",
        "from matplotlib import pyplot as plt\n",
        "from random import randint\n"
      ],
      "metadata": {
        "colab": {
          "base_uri": "https://localhost:8080/"
        },
        "id": "03KT7DFyii20",
        "outputId": "abe774ab-8b3c-4ac3-f16a-64ec7d0d1261"
      },
      "execution_count": 2,
      "outputs": [
        {
          "output_type": "stream",
          "name": "stdout",
          "text": [
            "2.8.0\n"
          ]
        }
      ]
    },
    {
      "cell_type": "markdown",
      "source": [
        "##Predicción de sobrecarga en grupos de líneas de transmisión.\n",
        "En esta sección se usará inferencia bayesiana para ajustar un modelo de regresión logística a datos de violación de flujo de potencia eléctrica en grupos de líneas de transmisión, que interconectan regiones eléctricas. La variable dependientes es de naturaleza binaria con un valor de uno si la línea presenta sobrecarga y cero si no. Las variables independientes son el flujo neto máximo y mínimo en la región eléctrica en un día y se calcula como la diferencia entre la demanda menos la generación en cada región."
      ],
      "metadata": {
        "id": "Oq5QAPZbZFIE"
      }
    },
    {
      "cell_type": "code",
      "source": [
        "df = pd.read_csv('overload.csv')\n",
        "df = df.assign(const=1)\n",
        "dfy = df[['L3','L5','L6','L7','L14','L15','L22','L31','L38','L39','L51','L58','L65']] #Se escoge le número de línea de transmisión\n",
        "dfx = df[['CEN','NES','NOR','NTE','OCC','ORI','PEN','CEN_min','NES_min','NOR_min','NTE_min','OCC_min','ORI_min','PEN_min']] ## Predictors\n",
        "\n",
        "X = dfx.to_numpy()\n",
        "y = dfy.to_numpy()\n",
        "\n",
        "#Normalizing the data\n",
        "from sklearn.preprocessing import StandardScaler\n",
        "sc = StandardScaler()\n",
        "X = sc.fit_transform(X)\n",
        "\n",
        "from sklearn.preprocessing import OneHotEncoder\n",
        "ohe = OneHotEncoder()\n",
        "y = ohe.fit_transform(y).toarray()\n",
        "\n",
        "## Crea conjuntos de datos de entrenamiento y prueba\n",
        "from sklearn.model_selection import train_test_split\n",
        "X_train,X_test,y_train,y_test = train_test_split(X,y,test_size = 0.7) #, random_state = 5\n",
        "\n",
        "#df.sample(5)\n",
        "#df.describe()\n",
        "# df.head()"
      ],
      "metadata": {
        "id": "YHm2TKzKJj1L"
      },
      "execution_count": 3,
      "outputs": []
    },
    {
      "cell_type": "markdown",
      "source": [
        "A continuación se enlista las configuraciones de red usadas en el libro (para resolver el problema *11.7 Example: ZIP Code Data*). \n",
        "*   Net-1: Sin capa oculta, equivalente a regresión logística multinomial.\n",
        "*   Net-2: Una capa oculta, 12 unidades ocultas totalmente conectadas.\n",
        "*   Net-3: Dos capas ocultas conectadas localmente.\n",
        "*   Net-4: Dos capas ocultas, conectadas localmente con peso compartido.\n",
        "*   Net-5: dos capas ocultas, conectadas localmente, dos niveles de peso compartido.\n",
        "\n",
        "Trataremos de replicar el ejercicio aplicando a nuestros datos. A diferencia del problema de 2dimensiones del libro , usaremos redes para una sola dimensión para predecir un vector de Binarios (Sobrecarga o no de algunas líneas de tranmisión) a partir de un vector de datos reales (datos de demanda de las regiones eléctricas). También mencionan que todas las redes tienen unidades de salida sigmoidales y el ajuste es con mínimpos cuadrados.\n"
      ],
      "metadata": {
        "id": "fyP3Pfx9i0bh"
      }
    },
    {
      "cell_type": "code",
      "source": [
        "#https://towardsdatascience.com/building-our-first-neural-network-in-keras-bdc8abbc17f5\n",
        "#Dependencies\n",
        "import keras\n",
        "from   keras.models import Sequential\n",
        "from   keras.layers import Dense\n",
        "\n",
        "## Neural network\n",
        "model = Sequential()\n",
        "model.add(Dense(units = 26,  input_dim = 14, activation = 'sigmoid'))\n",
        "#model.add(Dense(7,  input_dim = 13, activation = 'sigmoid'))\n",
        "#model.add(Dense(4,  input_dim = 7,  activation = 'sigmoid'))\n",
        "#model.add(Dense(14, input_dim = 4,  activation = 'sigmoid'))\n",
        "\n",
        "model.summary()\n",
        "\n",
        "#keras.utils.plot_model(model, \"fig_t11_1.png\")"
      ],
      "metadata": {
        "colab": {
          "base_uri": "https://localhost:8080/"
        },
        "id": "fxGqkvDWi9_G",
        "outputId": "ebdc98ff-cde6-4fe4-801e-2cac6fc09f8b"
      },
      "execution_count": 4,
      "outputs": [
        {
          "output_type": "stream",
          "name": "stdout",
          "text": [
            "Model: \"sequential\"\n",
            "_________________________________________________________________\n",
            " Layer (type)                Output Shape              Param #   \n",
            "=================================================================\n",
            " dense (Dense)               (None, 26)                390       \n",
            "                                                                 \n",
            "=================================================================\n",
            "Total params: 390\n",
            "Trainable params: 390\n",
            "Non-trainable params: 0\n",
            "_________________________________________________________________\n"
          ]
        }
      ]
    },
    {
      "cell_type": "code",
      "source": [
        "#parametros https://www.tensorflow.org/api_docs/python/tf/keras/Model\n",
        "model.compile(loss='categorical_crossentropy', optimizer='RMSprop', metrics=['accuracy'])"
      ],
      "metadata": {
        "id": "wogbeqm9i_J2"
      },
      "execution_count": 5,
      "outputs": []
    },
    {
      "cell_type": "code",
      "source": [
        "history = model.fit(X_train, y_train, epochs = 100, batch_size = 64)"
      ],
      "metadata": {
        "colab": {
          "base_uri": "https://localhost:8080/"
        },
        "id": "k54yEdixjce5",
        "outputId": "469c48fc-f328-4f08-a7e8-a81ced1165cb"
      },
      "execution_count": 6,
      "outputs": [
        {
          "output_type": "stream",
          "name": "stdout",
          "text": [
            "Epoch 1/100\n",
            "2/2 [==============================] - 1s 7ms/step - loss: 45.0741 - accuracy: 0.0000e+00\n",
            "Epoch 2/100\n",
            "2/2 [==============================] - 0s 10ms/step - loss: 44.8278 - accuracy: 0.0000e+00\n",
            "Epoch 3/100\n",
            "2/2 [==============================] - 0s 9ms/step - loss: 44.6631 - accuracy: 0.0000e+00\n",
            "Epoch 4/100\n",
            "2/2 [==============================] - 0s 6ms/step - loss: 44.5279 - accuracy: 0.0000e+00\n",
            "Epoch 5/100\n",
            "2/2 [==============================] - 0s 6ms/step - loss: 44.4189 - accuracy: 0.0000e+00\n",
            "Epoch 6/100\n",
            "2/2 [==============================] - 0s 6ms/step - loss: 44.3222 - accuracy: 0.0000e+00\n",
            "Epoch 7/100\n",
            "2/2 [==============================] - 0s 5ms/step - loss: 44.2324 - accuracy: 0.0000e+00\n",
            "Epoch 8/100\n",
            "2/2 [==============================] - 0s 7ms/step - loss: 44.1507 - accuracy: 0.0000e+00\n",
            "Epoch 9/100\n",
            "2/2 [==============================] - 0s 9ms/step - loss: 44.0701 - accuracy: 0.0000e+00\n",
            "Epoch 10/100\n",
            "2/2 [==============================] - 0s 6ms/step - loss: 43.9975 - accuracy: 0.0000e+00\n",
            "Epoch 11/100\n",
            "2/2 [==============================] - 0s 6ms/step - loss: 43.9195 - accuracy: 0.0000e+00\n",
            "Epoch 12/100\n",
            "2/2 [==============================] - 0s 4ms/step - loss: 43.8538 - accuracy: 0.0000e+00\n",
            "Epoch 13/100\n",
            "2/2 [==============================] - 0s 5ms/step - loss: 43.7874 - accuracy: 0.0000e+00\n",
            "Epoch 14/100\n",
            "2/2 [==============================] - 0s 7ms/step - loss: 43.7270 - accuracy: 0.0000e+00\n",
            "Epoch 15/100\n",
            "2/2 [==============================] - 0s 6ms/step - loss: 43.6641 - accuracy: 0.0000e+00\n",
            "Epoch 16/100\n",
            "2/2 [==============================] - 0s 7ms/step - loss: 43.6057 - accuracy: 0.0000e+00\n",
            "Epoch 17/100\n",
            "2/2 [==============================] - 0s 7ms/step - loss: 43.5494 - accuracy: 0.0100\n",
            "Epoch 18/100\n",
            "2/2 [==============================] - 0s 6ms/step - loss: 43.4974 - accuracy: 0.0100\n",
            "Epoch 19/100\n",
            "2/2 [==============================] - 0s 7ms/step - loss: 43.4433 - accuracy: 0.0100\n",
            "Epoch 20/100\n",
            "2/2 [==============================] - 0s 9ms/step - loss: 43.3955 - accuracy: 0.0100\n",
            "Epoch 21/100\n",
            "2/2 [==============================] - 0s 12ms/step - loss: 43.3479 - accuracy: 0.0100\n",
            "Epoch 22/100\n",
            "2/2 [==============================] - 0s 9ms/step - loss: 43.3009 - accuracy: 0.0100\n",
            "Epoch 23/100\n",
            "2/2 [==============================] - 0s 9ms/step - loss: 43.2552 - accuracy: 0.0100\n",
            "Epoch 24/100\n",
            "2/2 [==============================] - 0s 9ms/step - loss: 43.2177 - accuracy: 0.0100\n",
            "Epoch 25/100\n",
            "2/2 [==============================] - 0s 9ms/step - loss: 43.1795 - accuracy: 0.0100\n",
            "Epoch 26/100\n",
            "2/2 [==============================] - 0s 9ms/step - loss: 43.1376 - accuracy: 0.0100\n",
            "Epoch 27/100\n",
            "2/2 [==============================] - 0s 10ms/step - loss: 43.1047 - accuracy: 0.0100\n",
            "Epoch 28/100\n",
            "2/2 [==============================] - 0s 10ms/step - loss: 43.0631 - accuracy: 0.0100\n",
            "Epoch 29/100\n",
            "2/2 [==============================] - 0s 12ms/step - loss: 43.0333 - accuracy: 0.0100\n",
            "Epoch 30/100\n",
            "2/2 [==============================] - 0s 10ms/step - loss: 43.0018 - accuracy: 0.0100\n",
            "Epoch 31/100\n",
            "2/2 [==============================] - 0s 10ms/step - loss: 42.9752 - accuracy: 0.0100\n",
            "Epoch 32/100\n",
            "2/2 [==============================] - 0s 10ms/step - loss: 42.9461 - accuracy: 0.0100\n",
            "Epoch 33/100\n",
            "2/2 [==============================] - 0s 10ms/step - loss: 42.9195 - accuracy: 0.0100\n",
            "Epoch 34/100\n",
            "2/2 [==============================] - 0s 10ms/step - loss: 42.8924 - accuracy: 0.0100\n",
            "Epoch 35/100\n",
            "2/2 [==============================] - 0s 8ms/step - loss: 42.8768 - accuracy: 0.0100\n",
            "Epoch 36/100\n",
            "2/2 [==============================] - 0s 6ms/step - loss: 42.8497 - accuracy: 0.0100\n",
            "Epoch 37/100\n",
            "2/2 [==============================] - 0s 6ms/step - loss: 42.8304 - accuracy: 0.0100\n",
            "Epoch 38/100\n",
            "2/2 [==============================] - 0s 7ms/step - loss: 42.8176 - accuracy: 0.0100\n",
            "Epoch 39/100\n",
            "2/2 [==============================] - 0s 8ms/step - loss: 42.7970 - accuracy: 0.0100\n",
            "Epoch 40/100\n",
            "2/2 [==============================] - 0s 6ms/step - loss: 42.7835 - accuracy: 0.0100\n",
            "Epoch 41/100\n",
            "2/2 [==============================] - 0s 6ms/step - loss: 42.7664 - accuracy: 0.0100\n",
            "Epoch 42/100\n",
            "2/2 [==============================] - 0s 8ms/step - loss: 42.7540 - accuracy: 0.0100\n",
            "Epoch 43/100\n",
            "2/2 [==============================] - 0s 6ms/step - loss: 42.7417 - accuracy: 0.0100\n",
            "Epoch 44/100\n",
            "2/2 [==============================] - 0s 6ms/step - loss: 42.7337 - accuracy: 0.0100\n",
            "Epoch 45/100\n",
            "2/2 [==============================] - 0s 8ms/step - loss: 42.7213 - accuracy: 0.0100\n",
            "Epoch 46/100\n",
            "2/2 [==============================] - 0s 6ms/step - loss: 42.7142 - accuracy: 0.0100\n",
            "Epoch 47/100\n",
            "2/2 [==============================] - 0s 10ms/step - loss: 42.7083 - accuracy: 0.0200\n",
            "Epoch 48/100\n",
            "2/2 [==============================] - 0s 6ms/step - loss: 42.7013 - accuracy: 0.0200\n",
            "Epoch 49/100\n",
            "2/2 [==============================] - 0s 9ms/step - loss: 42.6977 - accuracy: 0.0200\n",
            "Epoch 50/100\n",
            "2/2 [==============================] - 0s 5ms/step - loss: 42.6913 - accuracy: 0.0200\n",
            "Epoch 51/100\n",
            "2/2 [==============================] - 0s 6ms/step - loss: 42.6956 - accuracy: 0.0200\n",
            "Epoch 52/100\n",
            "2/2 [==============================] - 0s 5ms/step - loss: 42.6956 - accuracy: 0.0200\n",
            "Epoch 53/100\n",
            "2/2 [==============================] - 0s 7ms/step - loss: 42.6973 - accuracy: 0.0200\n",
            "Epoch 54/100\n",
            "2/2 [==============================] - 0s 5ms/step - loss: 42.6899 - accuracy: 0.0200\n",
            "Epoch 55/100\n",
            "2/2 [==============================] - 0s 5ms/step - loss: 42.6961 - accuracy: 0.0200\n",
            "Epoch 56/100\n",
            "2/2 [==============================] - 0s 5ms/step - loss: 42.7031 - accuracy: 0.0200\n",
            "Epoch 57/100\n",
            "2/2 [==============================] - 0s 10ms/step - loss: 42.7054 - accuracy: 0.0200\n",
            "Epoch 58/100\n",
            "2/2 [==============================] - 0s 6ms/step - loss: 42.7161 - accuracy: 0.0200\n",
            "Epoch 59/100\n",
            "2/2 [==============================] - 0s 7ms/step - loss: 42.7212 - accuracy: 0.0200\n",
            "Epoch 60/100\n",
            "2/2 [==============================] - 0s 6ms/step - loss: 42.7301 - accuracy: 0.0200\n",
            "Epoch 61/100\n",
            "2/2 [==============================] - 0s 7ms/step - loss: 42.7317 - accuracy: 0.0200\n",
            "Epoch 62/100\n",
            "2/2 [==============================] - 0s 17ms/step - loss: 42.7447 - accuracy: 0.0200\n",
            "Epoch 63/100\n",
            "2/2 [==============================] - 0s 11ms/step - loss: 42.7547 - accuracy: 0.0300\n",
            "Epoch 64/100\n",
            "2/2 [==============================] - 0s 10ms/step - loss: 42.7651 - accuracy: 0.0300\n",
            "Epoch 65/100\n",
            "2/2 [==============================] - 0s 12ms/step - loss: 42.7781 - accuracy: 0.0300\n",
            "Epoch 66/100\n",
            "2/2 [==============================] - 0s 15ms/step - loss: 42.7922 - accuracy: 0.0300\n",
            "Epoch 67/100\n",
            "2/2 [==============================] - 0s 13ms/step - loss: 42.8058 - accuracy: 0.0300\n",
            "Epoch 68/100\n",
            "2/2 [==============================] - 0s 10ms/step - loss: 42.8180 - accuracy: 0.0300\n",
            "Epoch 69/100\n",
            "2/2 [==============================] - 0s 10ms/step - loss: 42.8397 - accuracy: 0.0300\n",
            "Epoch 70/100\n",
            "2/2 [==============================] - 0s 8ms/step - loss: 42.8565 - accuracy: 0.0300\n",
            "Epoch 71/100\n",
            "2/2 [==============================] - 0s 11ms/step - loss: 42.8746 - accuracy: 0.0300\n",
            "Epoch 72/100\n",
            "2/2 [==============================] - 0s 13ms/step - loss: 42.8888 - accuracy: 0.0300\n",
            "Epoch 73/100\n",
            "2/2 [==============================] - 0s 12ms/step - loss: 42.9108 - accuracy: 0.0300\n",
            "Epoch 74/100\n",
            "2/2 [==============================] - 0s 10ms/step - loss: 42.9264 - accuracy: 0.0300\n",
            "Epoch 75/100\n",
            "2/2 [==============================] - 0s 5ms/step - loss: 42.9494 - accuracy: 0.0300\n",
            "Epoch 76/100\n",
            "2/2 [==============================] - 0s 9ms/step - loss: 42.9734 - accuracy: 0.0300\n",
            "Epoch 77/100\n",
            "2/2 [==============================] - 0s 7ms/step - loss: 42.9940 - accuracy: 0.0300\n",
            "Epoch 78/100\n",
            "2/2 [==============================] - 0s 8ms/step - loss: 43.0220 - accuracy: 0.0300\n",
            "Epoch 79/100\n",
            "2/2 [==============================] - 0s 7ms/step - loss: 43.0467 - accuracy: 0.0300\n",
            "Epoch 80/100\n",
            "2/2 [==============================] - 0s 7ms/step - loss: 43.0716 - accuracy: 0.0300\n",
            "Epoch 81/100\n",
            "2/2 [==============================] - 0s 7ms/step - loss: 43.0948 - accuracy: 0.0300\n",
            "Epoch 82/100\n",
            "2/2 [==============================] - 0s 12ms/step - loss: 43.1104 - accuracy: 0.0300\n",
            "Epoch 83/100\n",
            "2/2 [==============================] - 0s 10ms/step - loss: 43.1421 - accuracy: 0.0300\n",
            "Epoch 84/100\n",
            "2/2 [==============================] - 0s 13ms/step - loss: 43.1647 - accuracy: 0.0300\n",
            "Epoch 85/100\n",
            "2/2 [==============================] - 0s 8ms/step - loss: 43.1952 - accuracy: 0.0300\n",
            "Epoch 86/100\n",
            "2/2 [==============================] - 0s 8ms/step - loss: 43.2233 - accuracy: 0.0300\n",
            "Epoch 87/100\n",
            "2/2 [==============================] - 0s 12ms/step - loss: 43.2486 - accuracy: 0.0300\n",
            "Epoch 88/100\n",
            "2/2 [==============================] - 0s 11ms/step - loss: 43.2777 - accuracy: 0.0300\n",
            "Epoch 89/100\n",
            "2/2 [==============================] - 0s 12ms/step - loss: 43.2983 - accuracy: 0.0300\n",
            "Epoch 90/100\n",
            "2/2 [==============================] - 0s 11ms/step - loss: 43.3304 - accuracy: 0.0300\n",
            "Epoch 91/100\n",
            "2/2 [==============================] - 0s 16ms/step - loss: 43.3672 - accuracy: 0.0300\n",
            "Epoch 92/100\n",
            "2/2 [==============================] - 0s 14ms/step - loss: 43.3924 - accuracy: 0.0300\n",
            "Epoch 93/100\n",
            "2/2 [==============================] - 0s 15ms/step - loss: 43.4233 - accuracy: 0.0300\n",
            "Epoch 94/100\n",
            "2/2 [==============================] - 0s 14ms/step - loss: 43.4559 - accuracy: 0.0300\n",
            "Epoch 95/100\n",
            "2/2 [==============================] - 0s 12ms/step - loss: 43.4866 - accuracy: 0.0300\n",
            "Epoch 96/100\n",
            "2/2 [==============================] - 0s 13ms/step - loss: 43.5236 - accuracy: 0.0300\n",
            "Epoch 97/100\n",
            "2/2 [==============================] - 0s 6ms/step - loss: 43.5616 - accuracy: 0.0300\n",
            "Epoch 98/100\n",
            "2/2 [==============================] - 0s 11ms/step - loss: 43.5941 - accuracy: 0.0300\n",
            "Epoch 99/100\n",
            "2/2 [==============================] - 0s 10ms/step - loss: 43.6314 - accuracy: 0.0300\n",
            "Epoch 100/100\n",
            "2/2 [==============================] - 0s 9ms/step - loss: 43.6706 - accuracy: 0.0300\n"
          ]
        }
      ]
    },
    {
      "cell_type": "code",
      "source": [
        "y_pred = model.predict(X_test)\n",
        "#Converting predictions to label\n",
        "pred = list()\n",
        "for i in range(len(y_pred)):\n",
        "    pred.append(np.argmax(y_pred[i]))\n",
        "#Converting one hot encoded test label to label\n",
        "test = list()\n",
        "for i in range(len(y_test)):\n",
        "    test.append(np.argmax(y_test[i]))"
      ],
      "metadata": {
        "id": "q3zvsxo524i6"
      },
      "execution_count": 7,
      "outputs": []
    },
    {
      "cell_type": "code",
      "source": [
        "from sklearn.metrics import accuracy_score\n",
        "a = accuracy_score(pred,test)\n",
        "print('Accuracy is:', a*100)"
      ],
      "metadata": {
        "colab": {
          "base_uri": "https://localhost:8080/"
        },
        "id": "vuRTB9O7lZZ8",
        "outputId": "65391e30-20c5-4c11-8f6b-a86e6d195d57"
      },
      "execution_count": 8,
      "outputs": [
        {
          "output_type": "stream",
          "name": "stdout",
          "text": [
            "Accuracy is: 1.702127659574468\n"
          ]
        }
      ]
    },
    {
      "cell_type": "code",
      "source": [
        "history = model.fit(X_train, y_train, validation_data = (X_test,y_test), epochs=100, batch_size=64)"
      ],
      "metadata": {
        "colab": {
          "base_uri": "https://localhost:8080/"
        },
        "id": "hwjiHFFl2A0i",
        "outputId": "fefe6dbb-47cf-486a-dfc9-5f6f07098a63"
      },
      "execution_count": 9,
      "outputs": [
        {
          "output_type": "stream",
          "name": "stdout",
          "text": [
            "Epoch 1/100\n",
            "2/2 [==============================] - 1s 518ms/step - loss: 43.7076 - accuracy: 0.0300 - val_loss: 44.7683 - val_accuracy: 0.0170\n",
            "Epoch 2/100\n",
            "2/2 [==============================] - 0s 59ms/step - loss: 43.7411 - accuracy: 0.0300 - val_loss: 44.8160 - val_accuracy: 0.0170\n",
            "Epoch 3/100\n",
            "2/2 [==============================] - 0s 62ms/step - loss: 43.7764 - accuracy: 0.0300 - val_loss: 44.8665 - val_accuracy: 0.0170\n",
            "Epoch 4/100\n",
            "2/2 [==============================] - 0s 63ms/step - loss: 43.8191 - accuracy: 0.0300 - val_loss: 44.9176 - val_accuracy: 0.0213\n",
            "Epoch 5/100\n",
            "2/2 [==============================] - 0s 60ms/step - loss: 43.8613 - accuracy: 0.0300 - val_loss: 44.9656 - val_accuracy: 0.0213\n",
            "Epoch 6/100\n",
            "2/2 [==============================] - 0s 78ms/step - loss: 43.8992 - accuracy: 0.0300 - val_loss: 45.0128 - val_accuracy: 0.0213\n",
            "Epoch 7/100\n",
            "2/2 [==============================] - 0s 57ms/step - loss: 43.9353 - accuracy: 0.0300 - val_loss: 45.0624 - val_accuracy: 0.0213\n",
            "Epoch 8/100\n",
            "2/2 [==============================] - 0s 56ms/step - loss: 43.9769 - accuracy: 0.0300 - val_loss: 45.1143 - val_accuracy: 0.0213\n",
            "Epoch 9/100\n",
            "2/2 [==============================] - 0s 142ms/step - loss: 44.0218 - accuracy: 0.0300 - val_loss: 45.1644 - val_accuracy: 0.0213\n",
            "Epoch 10/100\n",
            "2/2 [==============================] - 0s 67ms/step - loss: 44.0624 - accuracy: 0.0300 - val_loss: 45.2143 - val_accuracy: 0.0255\n",
            "Epoch 11/100\n",
            "2/2 [==============================] - 0s 73ms/step - loss: 44.1026 - accuracy: 0.0300 - val_loss: 45.2681 - val_accuracy: 0.0255\n",
            "Epoch 12/100\n",
            "2/2 [==============================] - 0s 55ms/step - loss: 44.1476 - accuracy: 0.0300 - val_loss: 45.3232 - val_accuracy: 0.0255\n",
            "Epoch 13/100\n",
            "2/2 [==============================] - 0s 66ms/step - loss: 44.1955 - accuracy: 0.0300 - val_loss: 45.3700 - val_accuracy: 0.0298\n",
            "Epoch 14/100\n",
            "2/2 [==============================] - 0s 87ms/step - loss: 44.2269 - accuracy: 0.0300 - val_loss: 45.4199 - val_accuracy: 0.0298\n",
            "Epoch 15/100\n",
            "2/2 [==============================] - 0s 62ms/step - loss: 44.2667 - accuracy: 0.0300 - val_loss: 45.4700 - val_accuracy: 0.0298\n",
            "Epoch 16/100\n",
            "2/2 [==============================] - 0s 67ms/step - loss: 44.3035 - accuracy: 0.0400 - val_loss: 45.5225 - val_accuracy: 0.0298\n",
            "Epoch 17/100\n",
            "2/2 [==============================] - 0s 65ms/step - loss: 44.3451 - accuracy: 0.0400 - val_loss: 45.5772 - val_accuracy: 0.0340\n",
            "Epoch 18/100\n",
            "2/2 [==============================] - 0s 56ms/step - loss: 44.3934 - accuracy: 0.0400 - val_loss: 45.6252 - val_accuracy: 0.0383\n",
            "Epoch 19/100\n",
            "2/2 [==============================] - 0s 85ms/step - loss: 44.4288 - accuracy: 0.0400 - val_loss: 45.6770 - val_accuracy: 0.0383\n",
            "Epoch 20/100\n",
            "2/2 [==============================] - 0s 61ms/step - loss: 44.4707 - accuracy: 0.0400 - val_loss: 45.7318 - val_accuracy: 0.0383\n",
            "Epoch 21/100\n",
            "2/2 [==============================] - 0s 73ms/step - loss: 44.5147 - accuracy: 0.0400 - val_loss: 45.7877 - val_accuracy: 0.0383\n",
            "Epoch 22/100\n",
            "2/2 [==============================] - 0s 72ms/step - loss: 44.5629 - accuracy: 0.0400 - val_loss: 45.8395 - val_accuracy: 0.0383\n",
            "Epoch 23/100\n",
            "2/2 [==============================] - 0s 71ms/step - loss: 44.6007 - accuracy: 0.0400 - val_loss: 45.8957 - val_accuracy: 0.0383\n",
            "Epoch 24/100\n",
            "2/2 [==============================] - 0s 80ms/step - loss: 44.6462 - accuracy: 0.0400 - val_loss: 45.9533 - val_accuracy: 0.0426\n",
            "Epoch 25/100\n",
            "2/2 [==============================] - 0s 61ms/step - loss: 44.6968 - accuracy: 0.0400 - val_loss: 46.0096 - val_accuracy: 0.0468\n",
            "Epoch 26/100\n",
            "2/2 [==============================] - 0s 69ms/step - loss: 44.7499 - accuracy: 0.0400 - val_loss: 46.0586 - val_accuracy: 0.0468\n",
            "Epoch 27/100\n",
            "2/2 [==============================] - 0s 56ms/step - loss: 44.7826 - accuracy: 0.0400 - val_loss: 46.1131 - val_accuracy: 0.0468\n",
            "Epoch 28/100\n",
            "2/2 [==============================] - 0s 99ms/step - loss: 44.8293 - accuracy: 0.0400 - val_loss: 46.1680 - val_accuracy: 0.0468\n",
            "Epoch 29/100\n",
            "2/2 [==============================] - 0s 72ms/step - loss: 44.8714 - accuracy: 0.0400 - val_loss: 46.2262 - val_accuracy: 0.0468\n",
            "Epoch 30/100\n",
            "2/2 [==============================] - 0s 130ms/step - loss: 44.9191 - accuracy: 0.0400 - val_loss: 46.2864 - val_accuracy: 0.0468\n",
            "Epoch 31/100\n",
            "2/2 [==============================] - 0s 78ms/step - loss: 44.9750 - accuracy: 0.0400 - val_loss: 46.3448 - val_accuracy: 0.0468\n",
            "Epoch 32/100\n",
            "2/2 [==============================] - 0s 73ms/step - loss: 45.0220 - accuracy: 0.0400 - val_loss: 46.4004 - val_accuracy: 0.0468\n",
            "Epoch 33/100\n",
            "2/2 [==============================] - 0s 56ms/step - loss: 45.0680 - accuracy: 0.0400 - val_loss: 46.4585 - val_accuracy: 0.0468\n",
            "Epoch 34/100\n",
            "2/2 [==============================] - 0s 67ms/step - loss: 45.1141 - accuracy: 0.0400 - val_loss: 46.5205 - val_accuracy: 0.0511\n",
            "Epoch 35/100\n",
            "2/2 [==============================] - 0s 60ms/step - loss: 45.1674 - accuracy: 0.0400 - val_loss: 46.5793 - val_accuracy: 0.0511\n",
            "Epoch 36/100\n",
            "2/2 [==============================] - 0s 59ms/step - loss: 45.2178 - accuracy: 0.0400 - val_loss: 46.6388 - val_accuracy: 0.0511\n",
            "Epoch 37/100\n",
            "2/2 [==============================] - 0s 62ms/step - loss: 45.2652 - accuracy: 0.0400 - val_loss: 46.6995 - val_accuracy: 0.0511\n",
            "Epoch 38/100\n",
            "2/2 [==============================] - 0s 57ms/step - loss: 45.3168 - accuracy: 0.0400 - val_loss: 46.7618 - val_accuracy: 0.0511\n",
            "Epoch 39/100\n",
            "2/2 [==============================] - 0s 65ms/step - loss: 45.3721 - accuracy: 0.0400 - val_loss: 46.8205 - val_accuracy: 0.0511\n",
            "Epoch 40/100\n",
            "2/2 [==============================] - 0s 59ms/step - loss: 45.4178 - accuracy: 0.0400 - val_loss: 46.8821 - val_accuracy: 0.0511\n",
            "Epoch 41/100\n",
            "2/2 [==============================] - 0s 72ms/step - loss: 45.4705 - accuracy: 0.0400 - val_loss: 46.9384 - val_accuracy: 0.0511\n",
            "Epoch 42/100\n",
            "2/2 [==============================] - 0s 65ms/step - loss: 45.5148 - accuracy: 0.0400 - val_loss: 46.9959 - val_accuracy: 0.0553\n",
            "Epoch 43/100\n",
            "2/2 [==============================] - 0s 47ms/step - loss: 45.5627 - accuracy: 0.0400 - val_loss: 47.0564 - val_accuracy: 0.0553\n",
            "Epoch 44/100\n",
            "2/2 [==============================] - 0s 63ms/step - loss: 45.6121 - accuracy: 0.0400 - val_loss: 47.1187 - val_accuracy: 0.0553\n",
            "Epoch 45/100\n",
            "2/2 [==============================] - 0s 61ms/step - loss: 45.6666 - accuracy: 0.0400 - val_loss: 47.1785 - val_accuracy: 0.0596\n",
            "Epoch 46/100\n",
            "2/2 [==============================] - 0s 79ms/step - loss: 45.7136 - accuracy: 0.0400 - val_loss: 47.2430 - val_accuracy: 0.0596\n",
            "Epoch 47/100\n",
            "2/2 [==============================] - 0s 86ms/step - loss: 45.7700 - accuracy: 0.0400 - val_loss: 47.2998 - val_accuracy: 0.0596\n",
            "Epoch 48/100\n",
            "2/2 [==============================] - 0s 114ms/step - loss: 45.8150 - accuracy: 0.0400 - val_loss: 47.3631 - val_accuracy: 0.0596\n",
            "Epoch 49/100\n",
            "2/2 [==============================] - 0s 145ms/step - loss: 45.8681 - accuracy: 0.0400 - val_loss: 47.4281 - val_accuracy: 0.0596\n",
            "Epoch 50/100\n",
            "2/2 [==============================] - 0s 72ms/step - loss: 45.9214 - accuracy: 0.0400 - val_loss: 47.4909 - val_accuracy: 0.0596\n",
            "Epoch 51/100\n",
            "2/2 [==============================] - 0s 64ms/step - loss: 45.9737 - accuracy: 0.0400 - val_loss: 47.5551 - val_accuracy: 0.0596\n",
            "Epoch 52/100\n",
            "2/2 [==============================] - 0s 59ms/step - loss: 46.0303 - accuracy: 0.0400 - val_loss: 47.6184 - val_accuracy: 0.0596\n",
            "Epoch 53/100\n",
            "2/2 [==============================] - 0s 97ms/step - loss: 46.0838 - accuracy: 0.0400 - val_loss: 47.6814 - val_accuracy: 0.0596\n",
            "Epoch 54/100\n",
            "2/2 [==============================] - 0s 81ms/step - loss: 46.1368 - accuracy: 0.0400 - val_loss: 47.7466 - val_accuracy: 0.0596\n",
            "Epoch 55/100\n",
            "2/2 [==============================] - 0s 55ms/step - loss: 46.1904 - accuracy: 0.0400 - val_loss: 47.8086 - val_accuracy: 0.0681\n",
            "Epoch 56/100\n",
            "2/2 [==============================] - 0s 141ms/step - loss: 46.2416 - accuracy: 0.0400 - val_loss: 47.8715 - val_accuracy: 0.0681\n",
            "Epoch 57/100\n",
            "2/2 [==============================] - 0s 66ms/step - loss: 46.2957 - accuracy: 0.0400 - val_loss: 47.9374 - val_accuracy: 0.0681\n",
            "Epoch 58/100\n",
            "2/2 [==============================] - 0s 68ms/step - loss: 46.3515 - accuracy: 0.0400 - val_loss: 48.0048 - val_accuracy: 0.0723\n",
            "Epoch 59/100\n",
            "2/2 [==============================] - 0s 58ms/step - loss: 46.4065 - accuracy: 0.0400 - val_loss: 48.0715 - val_accuracy: 0.0723\n",
            "Epoch 60/100\n",
            "2/2 [==============================] - 0s 78ms/step - loss: 46.4632 - accuracy: 0.0400 - val_loss: 48.1395 - val_accuracy: 0.0723\n",
            "Epoch 61/100\n",
            "2/2 [==============================] - 0s 62ms/step - loss: 46.5240 - accuracy: 0.0400 - val_loss: 48.2086 - val_accuracy: 0.0723\n",
            "Epoch 62/100\n",
            "2/2 [==============================] - 0s 65ms/step - loss: 46.5802 - accuracy: 0.0400 - val_loss: 48.2774 - val_accuracy: 0.0723\n",
            "Epoch 63/100\n",
            "2/2 [==============================] - 0s 105ms/step - loss: 46.6409 - accuracy: 0.0400 - val_loss: 48.3435 - val_accuracy: 0.0723\n",
            "Epoch 64/100\n",
            "2/2 [==============================] - 0s 78ms/step - loss: 46.6998 - accuracy: 0.0400 - val_loss: 48.4069 - val_accuracy: 0.0766\n",
            "Epoch 65/100\n",
            "2/2 [==============================] - 0s 79ms/step - loss: 46.7521 - accuracy: 0.0500 - val_loss: 48.4722 - val_accuracy: 0.0766\n",
            "Epoch 66/100\n",
            "2/2 [==============================] - 0s 121ms/step - loss: 46.8086 - accuracy: 0.0500 - val_loss: 48.5393 - val_accuracy: 0.0766\n",
            "Epoch 67/100\n",
            "2/2 [==============================] - 0s 70ms/step - loss: 46.8666 - accuracy: 0.0500 - val_loss: 48.6026 - val_accuracy: 0.0766\n",
            "Epoch 68/100\n",
            "2/2 [==============================] - 0s 54ms/step - loss: 46.9210 - accuracy: 0.0500 - val_loss: 48.6632 - val_accuracy: 0.0766\n",
            "Epoch 69/100\n",
            "2/2 [==============================] - 0s 92ms/step - loss: 46.9731 - accuracy: 0.0500 - val_loss: 48.7251 - val_accuracy: 0.0766\n",
            "Epoch 70/100\n",
            "2/2 [==============================] - 0s 110ms/step - loss: 47.0272 - accuracy: 0.0500 - val_loss: 48.7871 - val_accuracy: 0.0766\n",
            "Epoch 71/100\n",
            "2/2 [==============================] - 0s 88ms/step - loss: 47.0775 - accuracy: 0.0500 - val_loss: 48.8532 - val_accuracy: 0.0809\n",
            "Epoch 72/100\n",
            "2/2 [==============================] - 0s 64ms/step - loss: 47.1357 - accuracy: 0.0500 - val_loss: 48.9163 - val_accuracy: 0.0809\n",
            "Epoch 73/100\n",
            "2/2 [==============================] - 0s 80ms/step - loss: 47.1866 - accuracy: 0.0500 - val_loss: 48.9818 - val_accuracy: 0.0851\n",
            "Epoch 74/100\n",
            "2/2 [==============================] - 0s 68ms/step - loss: 47.2442 - accuracy: 0.0500 - val_loss: 49.0483 - val_accuracy: 0.0851\n",
            "Epoch 75/100\n",
            "2/2 [==============================] - 0s 76ms/step - loss: 47.3022 - accuracy: 0.0500 - val_loss: 49.1166 - val_accuracy: 0.0851\n",
            "Epoch 76/100\n",
            "2/2 [==============================] - 0s 104ms/step - loss: 47.3622 - accuracy: 0.0500 - val_loss: 49.1833 - val_accuracy: 0.0851\n",
            "Epoch 77/100\n",
            "2/2 [==============================] - 0s 145ms/step - loss: 47.4179 - accuracy: 0.0500 - val_loss: 49.2529 - val_accuracy: 0.0851\n",
            "Epoch 78/100\n",
            "2/2 [==============================] - 0s 69ms/step - loss: 47.4792 - accuracy: 0.0500 - val_loss: 49.3225 - val_accuracy: 0.0851\n",
            "Epoch 79/100\n",
            "2/2 [==============================] - 0s 60ms/step - loss: 47.5359 - accuracy: 0.0500 - val_loss: 49.3875 - val_accuracy: 0.0851\n",
            "Epoch 80/100\n",
            "2/2 [==============================] - 0s 77ms/step - loss: 47.5896 - accuracy: 0.0500 - val_loss: 49.4593 - val_accuracy: 0.0851\n",
            "Epoch 81/100\n",
            "2/2 [==============================] - 0s 70ms/step - loss: 47.6551 - accuracy: 0.0600 - val_loss: 49.5280 - val_accuracy: 0.0851\n",
            "Epoch 82/100\n",
            "2/2 [==============================] - 0s 93ms/step - loss: 47.7118 - accuracy: 0.0600 - val_loss: 49.5988 - val_accuracy: 0.0851\n",
            "Epoch 83/100\n",
            "2/2 [==============================] - 0s 99ms/step - loss: 47.7724 - accuracy: 0.0600 - val_loss: 49.6659 - val_accuracy: 0.0851\n",
            "Epoch 84/100\n",
            "2/2 [==============================] - 0s 64ms/step - loss: 47.8346 - accuracy: 0.0700 - val_loss: 49.7317 - val_accuracy: 0.0851\n",
            "Epoch 85/100\n",
            "2/2 [==============================] - 0s 68ms/step - loss: 47.8852 - accuracy: 0.0700 - val_loss: 49.8031 - val_accuracy: 0.0851\n",
            "Epoch 86/100\n",
            "2/2 [==============================] - 0s 63ms/step - loss: 47.9500 - accuracy: 0.0700 - val_loss: 49.8727 - val_accuracy: 0.0851\n",
            "Epoch 87/100\n",
            "2/2 [==============================] - 0s 84ms/step - loss: 48.0099 - accuracy: 0.0700 - val_loss: 49.9400 - val_accuracy: 0.0851\n",
            "Epoch 88/100\n",
            "2/2 [==============================] - 0s 64ms/step - loss: 48.0635 - accuracy: 0.0800 - val_loss: 50.0125 - val_accuracy: 0.0851\n",
            "Epoch 89/100\n",
            "2/2 [==============================] - 0s 76ms/step - loss: 48.1256 - accuracy: 0.0800 - val_loss: 50.0817 - val_accuracy: 0.0851\n",
            "Epoch 90/100\n",
            "2/2 [==============================] - 0s 106ms/step - loss: 48.1889 - accuracy: 0.0800 - val_loss: 50.1508 - val_accuracy: 0.0851\n",
            "Epoch 91/100\n",
            "2/2 [==============================] - 0s 105ms/step - loss: 48.2431 - accuracy: 0.0800 - val_loss: 50.2212 - val_accuracy: 0.0851\n",
            "Epoch 92/100\n",
            "2/2 [==============================] - 0s 75ms/step - loss: 48.3021 - accuracy: 0.0800 - val_loss: 50.2941 - val_accuracy: 0.0851\n",
            "Epoch 93/100\n",
            "2/2 [==============================] - 0s 61ms/step - loss: 48.3684 - accuracy: 0.0700 - val_loss: 50.3660 - val_accuracy: 0.0851\n",
            "Epoch 94/100\n",
            "2/2 [==============================] - 0s 102ms/step - loss: 48.4282 - accuracy: 0.0700 - val_loss: 50.4419 - val_accuracy: 0.0851\n",
            "Epoch 95/100\n",
            "2/2 [==============================] - 0s 102ms/step - loss: 48.4961 - accuracy: 0.0700 - val_loss: 50.5140 - val_accuracy: 0.0851\n",
            "Epoch 96/100\n",
            "2/2 [==============================] - 0s 54ms/step - loss: 48.5578 - accuracy: 0.0700 - val_loss: 50.5881 - val_accuracy: 0.0851\n",
            "Epoch 97/100\n",
            "2/2 [==============================] - 0s 59ms/step - loss: 48.6201 - accuracy: 0.0700 - val_loss: 50.6613 - val_accuracy: 0.0851\n",
            "Epoch 98/100\n",
            "2/2 [==============================] - 0s 54ms/step - loss: 48.6832 - accuracy: 0.0700 - val_loss: 50.7350 - val_accuracy: 0.0851\n",
            "Epoch 99/100\n",
            "2/2 [==============================] - 0s 100ms/step - loss: 48.7488 - accuracy: 0.0700 - val_loss: 50.8046 - val_accuracy: 0.0851\n",
            "Epoch 100/100\n",
            "2/2 [==============================] - 0s 94ms/step - loss: 48.8078 - accuracy: 0.0800 - val_loss: 50.8773 - val_accuracy: 0.0851\n"
          ]
        }
      ]
    },
    {
      "cell_type": "code",
      "source": [
        "import matplotlib.pyplot as plt\n",
        "print(history.history.keys())\n",
        "plt.plot(history.history['accuracy'])\n",
        "plt.plot(history.history['val_accuracy'])\n",
        "plt.title('Model accuracy')\n",
        "plt.ylabel('Accuracy')\n",
        "plt.xlabel('Epoch')\n",
        "plt.legend(['Train', 'Test'], loc='upper left')\n",
        "plt.show()"
      ],
      "metadata": {
        "colab": {
          "base_uri": "https://localhost:8080/",
          "height": 314
        },
        "id": "lDFCTPTnihaa",
        "outputId": "e1f27f79-9228-4a55-a651-241140d3c2d3"
      },
      "execution_count": 10,
      "outputs": [
        {
          "output_type": "stream",
          "name": "stdout",
          "text": [
            "dict_keys(['loss', 'accuracy', 'val_loss', 'val_accuracy'])\n"
          ]
        },
        {
          "output_type": "display_data",
          "data": {
            "text/plain": [
              "<Figure size 432x288 with 1 Axes>"
            ],
            "image/png": "[encoded data removed]"
          },
          "metadata": {
            "needs_background": "light"
          }
        }
      ]
    },
    {
      "cell_type": "code",
      "source": [
        "plt.plot(history.history['loss']) \n",
        "plt.plot(history.history['val_loss']) \n",
        "plt.title('Model loss') \n",
        "plt.ylabel('Loss') \n",
        "plt.xlabel('Epoch') \n",
        "plt.legend(['Train', 'Test'], loc='upper left') \n",
        "plt.show()"
      ],
      "metadata": {
        "colab": {
          "base_uri": "https://localhost:8080/",
          "height": 295
        },
        "id": "-Ry6imDvinsD",
        "outputId": "4e810f4a-dc44-40b7-910f-9b45b3f46c65"
      },
      "execution_count": 11,
      "outputs": [
        {
          "output_type": "display_data",
          "data": {
            "text/plain": [
              "<Figure size 432x288 with 1 Axes>"
            ],
            "image/png": "[encoded data removed]"
          },
          "metadata": {
            "needs_background": "light"
          }
        }
      ]
    },
    {
      "cell_type": "markdown",
      "source": [
        "### **Conclusión:** \n",
        "Hemos utilizado la API funcional de **Keras** para implementar diferentes estructuras de redes neuronales para predicción de sobrecarga en líneas de transmisión de acuerdo a la demanda en las regiones.\n",
        "\n",
        "Los resultadosindica que la mejor estructura es........... sin embargo, el ............ algunas ventajas ya que da la posibilidad de ................, mientrass.\n",
        "\n",
        "Otra cosa que observamos es que .............., los rendimientos de predicción son similares. Esto quiere decir que a medida que crece el conjunto de datos los resultados deberían converger en la misma solución."
      ],
      "metadata": {
        "id": "Ql3ADEdWZY3a"
      }
    },
    {
      "cell_type": "markdown",
      "source": [
        "[Ejemplos KERAS](https://keras.io/examples/)\n",
        "\n",
        "[Model class API](https://faroit.com/keras-docs/1.2.2/models/model/)\n",
        "\n",
        "[The Functional API TUTORIAL](https://keras.io/guides/functional_api/)\n",
        "\n",
        "[https://gist.github.com/jkleint/1d878d0401b28b281eb75016ed29f2ee](https://gist.github.com/jkleint/1d878d0401b28b281eb75016ed29f2ee)\n",
        "\n",
        "[Introduction to 1D Convolutional Neural Networks in Keras for Time Sequences](https://blog.goodaudience.com/introduction-to-1d-convolutional-neural-networks-in-keras-for-time-sequences-3a7ff801a2cf)\n",
        "\n",
        "[1D Convolutional Neural Network Models for Human Activity Recognition](https://machinelearningmastery.com/cnn-models-for-human-activity-recognition-time-series-classification/)"
      ],
      "metadata": {
        "id": "gyYCVhnKqHRm"
      }
    },
    {
      "cell_type": "code",
      "source": [
        "#https://stackoverflow.com/questions/49161174/tensorflow-logits-and-labels-must-have-the-same-first-dimension\n",
        "\n",
        "#n_class = 2\n",
        "#n_features = 14\n",
        "#inputs = keras.Input(shape=(n_features,))\n",
        "\n",
        "#inputs.shape\n",
        "#inputs.dtype\n",
        "\n",
        "#dense = layers.Dense(14, activation = \"sigmoid\")\n",
        "#x = dense(inputs)\n",
        "\n",
        "#x = layers.Dense(14, activation=\"sigmoid\")(x)\n",
        "#outputs = layers.Dense(14)(x)\n",
        "\n",
        "#outputs = x\n",
        "\n",
        "#model = keras.Model(inputs=inputs, outputs=outputs, name = \"overload_model\")\n",
        "\n",
        "#np.expand_dims(inputs,axis=0)\n",
        "\n",
        "#model.summary()\n",
        "\n",
        "#keras.utils.plot_model(model, \"fig_t11_1.png\")\n",
        "#keras.utils.plot_model(model, \"fig_t11_2.png\", show_shapes=True)"
      ],
      "metadata": {
        "id": "z_MhV61PZEg3"
      },
      "execution_count": 12,
      "outputs": []
    },
    {
      "cell_type": "code",
      "source": [
        "#from keras.models import Model\n",
        "#from keras.layers import Input, Dense\n",
        "\n",
        "#a = Input(shape=(32,))\n",
        "#b = Dense(32)(a)\n",
        "#model = Model(Input=a, Output=b)\n",
        "#compile(self, optimizer, loss, metrics=None, loss_weights=None, sample_weight_mode=None)\n",
        "#fit(self, x, y, batch_size=32, nb_epoch=10, verbose=1, callbacks=None, validation_split=0.0, validation_data=None, shuffle=True, class_weight=None, sample_weight=None, initial_epoch=0)"
      ],
      "metadata": {
        "id": "mFgH6kNqc5ie"
      },
      "execution_count": 13,
      "outputs": []
    },
    {
      "cell_type": "code",
      "source": [
        "#model.compile(\n",
        "#    loss      = keras.losses.SparseCategoricalCrossentropy(from_logits = True),\n",
        "#    optimizer = keras.optimizers.RMSprop(),\n",
        "#    metrics=[\"accuracy\"],\n",
        "#)\n",
        "\n",
        "#history = model.fit(x_train, y_train, batch_size=14, epochs=2, validation_split=0.2)\n",
        "\n",
        "#test_scores = model.evaluate(x_test, y_test, verbose=2)\n",
        "#print(\"Test loss:\", test_scores[0])\n",
        "#print(\"Test accuracy:\", test_scores[1])"
      ],
      "metadata": {
        "id": "p45sI-QcSo0M"
      },
      "execution_count": 14,
      "outputs": []
    }
  ]
}
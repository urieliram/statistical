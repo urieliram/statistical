{
  "nbformat": 4,
  "nbformat_minor": 0,
  "metadata": {
    "colab": {
      "name": "Tarea12.ipynb",
      "provenance": [],
      "authorship_tag": "ABX9TyNF1X0QcgCcZgfXbOtzQJPL",
      "include_colab_link": true
    },
    "kernelspec": {
      "name": "python3",
      "display_name": "Python 3"
    },
    "language_info": {
      "name": "python"
    }
  },
  "cells": [
    {
      "cell_type": "markdown",
      "metadata": {
        "id": "view-in-github",
        "colab_type": "text"
      },
      "source": [
        "<a href=\"https://colab.research.google.com/github/urieliram/statistical/blob/main/Tarea12.ipynb\" target=\"_parent\"><img src=\"https://colab.research.google.com/assets/colab-badge.svg\" alt=\"Open In Colab\"/></a>"
      ]
    },
    {
      "cell_type": "code",
      "execution_count": 1,
      "metadata": {
        "id": "v8_cSfUx2XNe"
      },
      "outputs": [],
      "source": [
        "import pandas as pd\n",
        "import numpy as np\n",
        "from sklearn.linear_model import LinearRegression\n",
        "from sklearn.metrics import mean_absolute_error,mean_squared_error,mean_absolute_percentage_error\n",
        "from sklearn import svm\n",
        "from sklearn.svm import LinearSVR\n",
        "from sklearn.model_selection import GridSearchCV\n",
        "from sklearn.metrics import mean_absolute_error\n",
        "import matplotlib.pyplot as plt"
      ]
    },
    {
      "cell_type": "markdown",
      "source": [
        "Ahora, cargamos los datos de prueba en los arreglos `X_train` y `y_train`:"
      ],
      "metadata": {
        "id": "QIFkPnhf2XE2"
      }
    },
    {
      "cell_type": "code",
      "source": [
        "df    = pd.read_csv('demanda.csv')\n",
        "\n",
        "## Procesamos datos de entrenamiento \n",
        "dftrain = df.loc[df.iloc[:,20].isin(['T'])] ## 'T' = training set\n",
        "y_train = dftrain['Y'].to_numpy() \n",
        "X_train = dftrain[['X1','X2','X3','X4','X5','X6','X7','X8','X9','X10']].to_numpy() ## Regresores\n",
        "\n",
        "## Procesamos datos de prueba \n",
        "dftest = df.loc[df.iloc[:,20].isin(['F'])] ## 'F' = test set\n",
        "y_test = dftest['Y'].to_numpy()\n",
        "X_test = dftest[['X1','X2','X3','X4','X5','X6','X7','X8','X9','X10']].to_numpy() ## Regresores"
      ],
      "metadata": {
        "id": "Av3SblC-tP7b"
      },
      "execution_count": 2,
      "outputs": []
    },
    {
      "cell_type": "code",
      "source": [
        "def trunc(values, decs=0):\n",
        "    return np.trunc(values*10**decs)/(10**decs)"
      ],
      "metadata": {
        "id": "e6QUTa0H-PNr"
      },
      "execution_count": 3,
      "outputs": []
    },
    {
      "cell_type": "code",
      "source": [
        "model = LinearRegression()\n",
        "model.fit(X_train, y_train)\n",
        "r_sq = model.score(X_test, y_test)\n",
        "print('coefficient of determination:', r_sq)\n",
        "print('intercept:', model.intercept_)\n",
        "print('slope:', model.coef_)\n",
        "y_lineal = model.predict(X_test)\n",
        "mae_rlm  = trunc(mean_absolute_error(y_test,y_lineal),4)\n",
        "mse_rlm  = trunc(mean_squared_error(y_test,y_lineal),4)\n",
        "mape_rlm = trunc(mean_absolute_percentage_error(y_test,y_lineal),4)\n",
        "print('mae_rlm:', mae_rlm)\n",
        "print('mse_rlm:', mse_rlm)\n",
        "print('mape_rlm:', mape_rlm)"
      ],
      "metadata": {
        "colab": {
          "base_uri": "https://localhost:8080/"
        },
        "id": "PsfJZWovDSrd",
        "outputId": "791fe1dc-385d-4a2d-efe8-9fea724e2844"
      },
      "execution_count": 4,
      "outputs": [
        {
          "output_type": "stream",
          "name": "stdout",
          "text": [
            "coefficient of determination: 0.7459708965464451\n",
            "intercept: -665.3444836197195\n",
            "slope: [ 0.28749465  0.29204618  0.25861088 -0.04431544 -0.14208937 -0.02613895\n",
            "  0.18289727  0.33580077  0.06905434 -0.12973508]\n",
            "mae_rlm: 167.1343\n",
            "mse_rlm: 48064.1398\n",
            "mape_rlm: 0.0192\n"
          ]
        }
      ]
    },
    {
      "cell_type": "code",
      "source": [
        "epsilon_list = [1,5,10,15,25]\n",
        "kernel_list = ['poly','rbf'] #,'linear'\n",
        "\n",
        "for k in kernel_list:\n",
        "    for e in epsilon_list:\n",
        "        mae_svm = []; mse_svm = []; mape_svm = []; Clist = []; perc_within_eps_list = []\n",
        "    \n",
        "        for c in range(1, 55, 1):\n",
        "            Clist.append(c)\n",
        "            model = svm.SVR(kernel=k, C=c, epsilon=e)\n",
        "            model.fit(X_train, y_train)\n",
        "            #r_sq = model.score(X_test, y_test)\n",
        "            #print('coefficient of determination:', r_sq)\n",
        "            \n",
        "            y_pred = model.predict(X_test)\n",
        "            mae_svm.append(trunc(mean_absolute_error(y_test,y_pred),4))\n",
        "            mse_svm.append(trunc(mean_squared_error(y_test,y_pred),4))\n",
        "            mape_svm.append(trunc(mean_absolute_percentage_error(y_test,y_pred),4))\n",
        "            \n",
        "            perc_within_eps = 100 * np.sum(abs(y_test-y_pred) <= e) / len(y_test)\n",
        "            perc_within_eps_list.append(perc_within_eps)\n",
        "            \n",
        "        CYAN = '#76ced6' ; LILA = '#777bd4'; VERDE='#17cb49'; LETRASNARA ='#ff8000'; AZUL='#168fff'; OTROAZUL = \"b-\"; ROJO= \"r-\";c\n",
        "        fig, ax1 = plt.subplots(figsize=(10,6))\n",
        "        \n",
        "        plt.title('Error absoluto (Kernel=' + str(k) + ', Epsilon=' + str(e) +')',fontsize='x-large',color = LETRASNARA)\n",
        "        ax1.set_xlabel('C', color=LETRASNARA,fontsize='x-large')\n",
        "        ax1.set_ylabel('% dentro de Epsilon', color=VERDE,fontsize='x-large')\n",
        "        ax1.scatter(Clist, perc_within_eps_list, color=VERDE,alpha = 0.5)\n",
        "        ax1.tick_params(axis='y', labelcolor=VERDE)\n",
        "        ax1.tick_params(axis='x', labelcolor=LETRASNARA)\n",
        "        #plt.tick_params(colors = LETRASNARA, which='both')\n",
        "        ax1.spines['bottom'].set_color(LETRASNARA)\n",
        "        ax1.spines['top'   ].set_color(LETRASNARA) \n",
        "        ax1.spines['right' ].set_color(LETRASNARA)\n",
        "        ax1.spines['left'  ].set_color(LETRASNARA)\n",
        "\n",
        "        color='blue'\n",
        "        ax2 = ax1.twinx()  # instantiate a second axes that shares the same x-axis\n",
        "        ax2.set_ylabel('MAE', color=color,fontsize='x-large')  # we already handled the x-label with ax1\n",
        "        ax2.scatter(Clist, mae_svm, color=color,alpha = 0.5)\n",
        "        ax2.tick_params(axis='y', labelcolor=color)\n",
        "        ax2.spines['bottom'].set_color(LETRASNARA)\n",
        "        ax2.spines['top'   ].set_color(LETRASNARA) \n",
        "        ax2.spines['right' ].set_color(LETRASNARA)\n",
        "        ax2.spines['left'  ].set_color(LETRASNARA)\n",
        "\n",
        "        namefile = 'fig_t12_' + str(k) + '_' + str(e)\n",
        "        plt.savefig(namefile, transparent=True)\n",
        "        plt.show()"
      ],
      "metadata": {
        "colab": {
          "base_uri": "https://localhost:8080/",
          "height": 1000
        },
        "id": "8aLsSFFaIgh4",
        "outputId": "0f6b4d9f-a6ff-46ad-adbb-819fdac61555"
      },
      "execution_count": null,
      "outputs": [
        {
          "output_type": "display_data",
          "data": {
            "text/plain": [
              "<Figure size 720x432 with 2 Axes>"
            ],
            "image/png": "[encoded data removed]"
          },
          "metadata": {}
        },
        {
          "output_type": "display_data",
          "data": {
            "text/plain": [
              "<Figure size 720x432 with 2 Axes>"
            ],
            "image/png": "[encoded data removed]"
          },
          "metadata": {}
        },
        {
          "output_type": "error",
          "ename": "KeyboardInterrupt",
          "evalue": "ignored",
          "traceback": [
            "\u001b[0;31m---------------------------------------------------------------------------\u001b[0m",
            "\u001b[0;31mKeyboardInterrupt\u001b[0m                         Traceback (most recent call last)",
            "\u001b[0;32m<ipython-input-5-238e348ba052>\u001b[0m in \u001b[0;36m<module>\u001b[0;34m()\u001b[0m\n\u001b[1;32m      9\u001b[0m             \u001b[0mClist\u001b[0m\u001b[0;34m.\u001b[0m\u001b[0mappend\u001b[0m\u001b[0;34m(\u001b[0m\u001b[0mc\u001b[0m\u001b[0;34m)\u001b[0m\u001b[0;34m\u001b[0m\u001b[0;34m\u001b[0m\u001b[0m\n\u001b[1;32m     10\u001b[0m             \u001b[0mmodel\u001b[0m \u001b[0;34m=\u001b[0m \u001b[0msvm\u001b[0m\u001b[0;34m.\u001b[0m\u001b[0mSVR\u001b[0m\u001b[0;34m(\u001b[0m\u001b[0mkernel\u001b[0m\u001b[0;34m=\u001b[0m\u001b[0mk\u001b[0m\u001b[0;34m,\u001b[0m \u001b[0mC\u001b[0m\u001b[0;34m=\u001b[0m\u001b[0mc\u001b[0m\u001b[0;34m,\u001b[0m \u001b[0mepsilon\u001b[0m\u001b[0;34m=\u001b[0m\u001b[0me\u001b[0m\u001b[0;34m)\u001b[0m\u001b[0;34m\u001b[0m\u001b[0;34m\u001b[0m\u001b[0m\n\u001b[0;32m---> 11\u001b[0;31m             \u001b[0mmodel\u001b[0m\u001b[0;34m.\u001b[0m\u001b[0mfit\u001b[0m\u001b[0;34m(\u001b[0m\u001b[0mX_train\u001b[0m\u001b[0;34m,\u001b[0m \u001b[0my_train\u001b[0m\u001b[0;34m)\u001b[0m\u001b[0;34m\u001b[0m\u001b[0;34m\u001b[0m\u001b[0m\n\u001b[0m\u001b[1;32m     12\u001b[0m             \u001b[0;31m#r_sq = model.score(X_test, y_test)\u001b[0m\u001b[0;34m\u001b[0m\u001b[0;34m\u001b[0m\u001b[0;34m\u001b[0m\u001b[0m\n\u001b[1;32m     13\u001b[0m             \u001b[0;31m#print('coefficient of determination:', r_sq)\u001b[0m\u001b[0;34m\u001b[0m\u001b[0;34m\u001b[0m\u001b[0;34m\u001b[0m\u001b[0m\n",
            "\u001b[0;32m/usr/local/lib/python3.7/dist-packages/sklearn/svm/_base.py\u001b[0m in \u001b[0;36mfit\u001b[0;34m(self, X, y, sample_weight)\u001b[0m\n\u001b[1;32m    253\u001b[0m \u001b[0;34m\u001b[0m\u001b[0m\n\u001b[1;32m    254\u001b[0m         \u001b[0mseed\u001b[0m \u001b[0;34m=\u001b[0m \u001b[0mrnd\u001b[0m\u001b[0;34m.\u001b[0m\u001b[0mrandint\u001b[0m\u001b[0;34m(\u001b[0m\u001b[0mnp\u001b[0m\u001b[0;34m.\u001b[0m\u001b[0miinfo\u001b[0m\u001b[0;34m(\u001b[0m\u001b[0;34m\"i\"\u001b[0m\u001b[0;34m)\u001b[0m\u001b[0;34m.\u001b[0m\u001b[0mmax\u001b[0m\u001b[0;34m)\u001b[0m\u001b[0;34m\u001b[0m\u001b[0;34m\u001b[0m\u001b[0m\n\u001b[0;32m--> 255\u001b[0;31m         \u001b[0mfit\u001b[0m\u001b[0;34m(\u001b[0m\u001b[0mX\u001b[0m\u001b[0;34m,\u001b[0m \u001b[0my\u001b[0m\u001b[0;34m,\u001b[0m \u001b[0msample_weight\u001b[0m\u001b[0;34m,\u001b[0m \u001b[0msolver_type\u001b[0m\u001b[0;34m,\u001b[0m \u001b[0mkernel\u001b[0m\u001b[0;34m,\u001b[0m \u001b[0mrandom_seed\u001b[0m\u001b[0;34m=\u001b[0m\u001b[0mseed\u001b[0m\u001b[0;34m)\u001b[0m\u001b[0;34m\u001b[0m\u001b[0;34m\u001b[0m\u001b[0m\n\u001b[0m\u001b[1;32m    256\u001b[0m         \u001b[0;31m# see comment on the other call to np.iinfo in this file\u001b[0m\u001b[0;34m\u001b[0m\u001b[0;34m\u001b[0m\u001b[0;34m\u001b[0m\u001b[0m\n\u001b[1;32m    257\u001b[0m \u001b[0;34m\u001b[0m\u001b[0m\n",
            "\u001b[0;32m/usr/local/lib/python3.7/dist-packages/sklearn/svm/_base.py\u001b[0m in \u001b[0;36m_dense_fit\u001b[0;34m(self, X, y, sample_weight, solver_type, kernel, random_seed)\u001b[0m\n\u001b[1;32m    331\u001b[0m             \u001b[0mepsilon\u001b[0m\u001b[0;34m=\u001b[0m\u001b[0mself\u001b[0m\u001b[0;34m.\u001b[0m\u001b[0mepsilon\u001b[0m\u001b[0;34m,\u001b[0m\u001b[0;34m\u001b[0m\u001b[0;34m\u001b[0m\u001b[0m\n\u001b[1;32m    332\u001b[0m             \u001b[0mmax_iter\u001b[0m\u001b[0;34m=\u001b[0m\u001b[0mself\u001b[0m\u001b[0;34m.\u001b[0m\u001b[0mmax_iter\u001b[0m\u001b[0;34m,\u001b[0m\u001b[0;34m\u001b[0m\u001b[0;34m\u001b[0m\u001b[0m\n\u001b[0;32m--> 333\u001b[0;31m             \u001b[0mrandom_seed\u001b[0m\u001b[0;34m=\u001b[0m\u001b[0mrandom_seed\u001b[0m\u001b[0;34m,\u001b[0m\u001b[0;34m\u001b[0m\u001b[0;34m\u001b[0m\u001b[0m\n\u001b[0m\u001b[1;32m    334\u001b[0m         )\n\u001b[1;32m    335\u001b[0m \u001b[0;34m\u001b[0m\u001b[0m\n",
            "\u001b[0;32msklearn/svm/_libsvm.pyx\u001b[0m in \u001b[0;36msklearn.svm._libsvm.fit\u001b[0;34m()\u001b[0m\n",
            "\u001b[0;31mKeyboardInterrupt\u001b[0m: "
          ]
        }
      ]
    },
    {
      "cell_type": "code",
      "source": [
        "#https://scikit-learn.org/stable/modules/generated/sklearn.model_selection.GridSearchCV.html\n",
        "#https://github.com/tomsharp/SVR/blob/master/SVR.ipynb\n",
        "for c in range(1, 60, 1):\n",
        "    Clist.append(c)\n",
        "\n",
        "parameters = {'kernel':('poly', 'rbf'), 'C':Clist,'epsilon': [1,2,5,10,15,25]} #'epsilon': np.linspace(1, 20),'kernel':('linear', 'poly', 'rbf', 'sigmoid')\n",
        "model = svm.SVR()\n",
        "clf   = GridSearchCV(model, parameters,scoring='neg_mean_absolute_error', cv=5)\n",
        "clf.fit(X_train, y_train)\n",
        "model = clf.best_estimator_\n",
        "model.fit(X_train, y_train)\n",
        "\n",
        "print(sorted(clf.cv_results_.keys()))\n",
        "print(clf.best_estimator_)\n",
        "\n",
        "r_sq = model.score(X_test, y_test)\n",
        "print('coefficient of determination:', r_sq)\n",
        "    \n",
        "y_pred = model.predict(X_test)"
      ],
      "metadata": {
        "id": "HeWLCSA5H9j4"
      },
      "execution_count": null,
      "outputs": []
    },
    {
      "cell_type": "code",
      "source": [
        "print(\"C:       {}\".format(model.C))\n",
        "print(\"Epsilon: {}\".format(model.epsilon))\n",
        "print(\"Kernel:  {}\".format(model.kernel))\n",
        "    \n",
        "#print(\"Intercept: {:,.3f}\".format(model.intercept_[0]))\n",
        "#print(\"Coefficient: {:,.3f}\".format(model.coef_[0]))\n",
        "    \n",
        "mae = mean_absolute_error(y_test, model.predict(X_test))\n",
        "print(\"MAE = {:,.2f}\".format(1000*mae))\n",
        "    \n",
        "perc_within_eps = 100*np.sum(y_test - model.predict(X_test) < model.epsilon) / len(y_test)\n",
        "print(\"Percentage within Epsilon = {:,.2f}%\".format(perc_within_eps))"
      ],
      "metadata": {
        "id": "7-UGsZ2ohYmH"
      },
      "execution_count": null,
      "outputs": []
    },
    {
      "cell_type": "markdown",
      "source": [
        "Graficamos los resultados de predicción de la máquina de vector de soporte con:\n",
        "\n",
        "\n",
        "y regresión local para pronosticar los datos de prueba Y.\n",
        "\n"
      ],
      "metadata": {
        "id": "I0DXiF0wmSic"
      }
    },
    {
      "cell_type": "code",
      "source": [
        "fig  = plt.figure(figsize=(16,9))\n",
        "axes = fig.add_subplot(1, 1, 1)\n",
        "#plt.style.use(\"seaborn-poster\")\n",
        "axes.legend()\n",
        "CYAN = '#76ced6' ; LILA = '#777bd4'; VERDE='#17cb49'; LETRASNARA ='#ff8000'; AZUL='#168fff';\n",
        "mytitle = plt.title('Máquina de vector de soporte en pronóstico de demanda eléctrica') # get the title property handler #plt.getp(title_obj)\n",
        "plt.setp(mytitle,    color=LETRASNARA)                                        #set the color of title to red\n",
        "axes.xaxis.label.set_color(LETRASNARA)\n",
        "axes.yaxis.label.set_color(LETRASNARA)\n",
        "axes.tick_params(colors=LETRASNARA, which='both')\n",
        "\n",
        "AUX = np.arange( len(y_test) )\n",
        "plt.scatter( AUX,y_test,s=25,marker='o' , color = 'red'      , label = 'Y'              ,alpha=1/2)\n",
        "axes.plot  ( y_pred[0], '.-' , color = LETRASNARA , label = 'Y_local,k=10'   ,alpha=1/2)\n",
        "#axes.plot  ( y_local_list[1], '.-' , color = VERDE      , label = 'Y_local,k=25'   ,alpha=1/2)\n",
        "#axes.plot  ( y_local_list[2], '.-' , color = AZUL       , label = 'Y_local,k=35'   ,alpha=1/2)\n",
        "#axes.plot  ( y_local_list[3], '.-' , color = LILA       , label = 'Y_local,k=50'   ,alpha=1/2)\n",
        "#axes.plot  ( y_local_list[4], '.-' , color = CYAN       , label = 'Y_local,k=100'  ,alpha=1/2)\n",
        "axes.plot  ( y_lineal         , '--' , color = 'red'      , label = 'Y_lineal'       ,alpha=1/2)\n",
        "#axes.plot ( y      , '.-'  , color = 'red'        , label = 'Y'  ,alpha=1/2)\n",
        "#axes.plot ( y_local, '.-'  , color = LETRASNARA   , label = 'Y_local'  ,alpha=1/2)\n",
        "#axes.plot ( xspline[3], yspline[3] , '.-'  , color = VERDE   , label = 'orden=4'  ,alpha=1/2)\n",
        "#axes.plot ( xspline[4], yspline[4] , '.-'  , color = AZUL   , label = 'orden=5'  ,alpha=1/12)\n",
        "#plt.scatter( dfx_miss, dfy_miss, marker='x',  s=170 ,  color = 'red' , label = 'perdidos' ,alpha=1)\n",
        "\n",
        "plt.axis([0,  600, 7650, 9800])\n",
        "plt.axis([100,  200, 7650, 9500])\n",
        "plt.axis([400,  500, 7450, 9500])\n",
        "#plt.axis([-2,  100, 8100, 9600])\n",
        "#plt.axis([300, 400, 7900, 9500])\n",
        "plt.legend()  \n",
        "plt.xticks(rotation=90)\n",
        "plt.savefig('pronodemanda_t12_1.png', transparent=True)\n",
        "plt.show()"
      ],
      "metadata": {
        "id": "t35T3ED1mRWO"
      },
      "execution_count": null,
      "outputs": []
    },
    {
      "cell_type": "markdown",
      "source": [
        "Conclusión: En "
      ],
      "metadata": {
        "id": "BQLcqKKpUInL"
      }
    },
    {
      "cell_type": "markdown",
      "source": [
        "[Support Vector Machine - Regression (SVR) ****](http://www.saedsayad.com/support_vector_machine_reg.htm)\n",
        "\n",
        "\n",
        "[https://towardsdatascience.com/an-introduction-to-support-vector-regression-svr-a3ebc1672c2](https://towardsdatascience.com/an-introduction-to-support-vector-regression-svr-a3ebc1672c2)\n",
        "\n",
        "[Grid Search over C and Epsilon](https://github.com/tomsharp/SVR/blob/master/SVR.ipynb)\n",
        "\n",
        "https://scikit-learn.org/stable/modules/svm.html\n",
        "\n",
        "https://scikit-learn.org/stable/auto_examples/svm/plot_svm_regression.html\n",
        "\n",
        "https://medium.com/pursuitnotes/support-vector-regression-in-6-steps-with-python-c4569acd062d\n",
        "\n",
        "https://www.analyticsvidhya.com/blog/2017/09/understaing-support-vector-machine-example-code/?utm_source=blog&utm_medium=support-vector-regression-tutorial-for-machine-learning"
      ],
      "metadata": {
        "id": "BLLDXc_JDnU8"
      }
    },
    {
      "cell_type": "code",
      "source": [
        "#print('| REGRESIÓN      | C              | MAE            | MSD            | MAPE         | % WITHIN EPSILON = ',epsilon,'       |')\n",
        "#print('| :------------- | :------------- | -------------: | -------------: |-------------:|-------------:|')\n",
        "#print('|    lineal      |         ',       0,'    |    ',str(mae_rlm),'  |    ',str(mse_rlm),'    |    ',str(mape_rlm),'|' )\n",
        "#for i in range(len(Clist)):\n",
        "#    print('|     SVM        |       ',  Clist[i]  ,'    |    ',str(mae_svm[i]),'   |    ',\n",
        "#       str(mse_svm[i]),'    |    ',str(mape_svm[i]),'    |    ',str(perc_within_eps_list[i]),'|',)\n"
      ],
      "metadata": {
        "id": "UQ9goF7684fC"
      },
      "execution_count": null,
      "outputs": []
    }
  ]
}
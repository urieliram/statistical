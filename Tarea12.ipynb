{
  "nbformat": 4,
  "nbformat_minor": 0,
  "metadata": {
    "colab": {
      "name": "Tarea12.ipynb",
      "provenance": [],
      "authorship_tag": "ABX9TyOvmlSgqbAX4tQX2q1bWG/6",
      "include_colab_link": true
    },
    "kernelspec": {
      "name": "python3",
      "display_name": "Python 3"
    },
    "language_info": {
      "name": "python"
    }
  },
  "cells": [
    {
      "cell_type": "markdown",
      "metadata": {
        "id": "view-in-github",
        "colab_type": "text"
      },
      "source": [
        "<a href=\"https://colab.research.google.com/github/urieliram/statistical/blob/main/Tarea12.ipynb\" target=\"_parent\"><img src=\"https://colab.research.google.com/assets/colab-badge.svg\" alt=\"Open In Colab\"/></a>"
      ]
    },
    {
      "cell_type": "code",
      "execution_count": 25,
      "metadata": {
        "id": "v8_cSfUx2XNe"
      },
      "outputs": [],
      "source": [
        "import pandas as pd\n",
        "import numpy as np\n",
        "from sklearn.linear_model import LinearRegression\n",
        "from sklearn.metrics import mean_absolute_error,mean_squared_error,mean_absolute_percentage_error"
      ]
    },
    {
      "cell_type": "markdown",
      "source": [
        "Ahora, cargamos los datos de prueba en los arreglos `X_train` y `y_train`:"
      ],
      "metadata": {
        "id": "QIFkPnhf2XE2"
      }
    },
    {
      "cell_type": "code",
      "source": [
        "df    = pd.read_csv('demanda.csv')\n",
        "\n",
        "## Procesamos datos de entrenamiento \n",
        "dftrain = df.loc[df.iloc[:,20].isin(['T'])] ## 'T' = training set\n",
        "y_train = dftrain['Y'].to_numpy()  \n",
        "X_train = dftrain[['X0','X1','X2','X3','X4','X5','X6','X7','X8','X9','X10']].to_numpy() ## Regresores\n",
        "\n",
        "## Procesamos datos de prueba \n",
        "dftest = df.loc[df.iloc[:,20].isin(['F'])] ## 'F' = test set\n",
        "y_test = dftest['Y'].to_numpy()\n",
        "X_test = dftest[['X0','X1','X2','X3','X4','X5','X6','X7','X8','X9','X10']].to_numpy() ## Regresores"
      ],
      "metadata": {
        "id": "Av3SblC-tP7b"
      },
      "execution_count": 26,
      "outputs": []
    },
    {
      "cell_type": "code",
      "source": [
        "def trunc(values, decs=0):\n",
        "    return np.trunc(values*10**decs)/(10**decs)"
      ],
      "metadata": {
        "id": "e6QUTa0H-PNr"
      },
      "execution_count": 27,
      "outputs": []
    },
    {
      "cell_type": "code",
      "source": [
        "#https://scikit-learn.org/stable/modules/svm.html\n",
        "#https://scikit-learn.org/stable/auto_examples/svm/plot_svm_regression.html\n",
        "#https://medium.com/pursuitnotes/support-vector-regression-in-6-steps-with-python-c4569acd062d\n",
        "from sklearn import svm\n",
        "model = svm.SVR(kernel='rbf')\n",
        "model.fit(X_train, y_train)\n",
        "\n",
        "r_sq = model.score(X_test, y_test)\n",
        "print('coefficient of determination:', r_sq)\n",
        "\n",
        "y_pred = model.predict(X_test)\n",
        "mae_svm_c0  = trunc(mean_absolute_error(y_test,y_pred),4)\n",
        "mse_svm_c0  = trunc(mean_squared_error(y_test,y_pred),4)\n",
        "mape_svm_c0 = trunc(mean_absolute_percentage_error(y_test,y_pred),4)"
      ],
      "metadata": {
        "colab": {
          "base_uri": "https://localhost:8080/"
        },
        "id": "8aLsSFFaIgh4",
        "outputId": "3f9c765a-2433-48ed-c4c2-6d34f6d91686"
      },
      "execution_count": 28,
      "outputs": [
        {
          "output_type": "stream",
          "name": "stdout",
          "text": [
            "coefficient of determination: 0.04203032299687226\n"
          ]
        }
      ]
    },
    {
      "cell_type": "code",
      "source": [
        "model = LinearRegression()\n",
        "model.fit(X_train, y_train)\n",
        "r_sq = model.score(X_test, y_test)\n",
        "print('coefficient of determination:', r_sq)\n",
        "print('intercept:', model.intercept_)\n",
        "print('slope:', model.coef_)\n",
        "y_pred = model.predict(X_test)\n",
        "mean_absolute_error(y_test, y_pred)\n",
        "mae_rlm  = trunc(mean_absolute_error(y_test,y_pred),4)\n",
        "mse_rlm  = trunc(mean_squared_error(y_test,y_pred),4)\n",
        "mape_rlm = trunc(mean_absolute_percentage_error(y_test,y_pred),4)"
      ],
      "metadata": {
        "colab": {
          "base_uri": "https://localhost:8080/"
        },
        "id": "PsfJZWovDSrd",
        "outputId": "0cea2458-7235-4969-f15a-463c661da0bd"
      },
      "execution_count": 29,
      "outputs": [
        {
          "output_type": "stream",
          "name": "stdout",
          "text": [
            "coefficient of determination: 0.7459708965464427\n",
            "intercept: -665.3444836197305\n",
            "slope: [ 0.          0.28749465  0.29204618  0.25861088 -0.04431544 -0.14208937\n",
            " -0.02613895  0.18289727  0.33580077  0.06905434 -0.12973508]\n"
          ]
        }
      ]
    },
    {
      "cell_type": "code",
      "source": [
        "print('| REGRESIÓN      | MAE            | MSD            | MAPE         |')\n",
        "print('| :------------- | -------------: | -------------: |-------------:|')\n",
        "print('| lineal         |',str(mae_rlm),'   |',str(mse_rlm),'   |   ',str(mape_rlm),'|')\n",
        "print('|    SVM         |',str(mae_svm_c0),'    |',str(mse_svm_c0),'   |   ',str(mape_svm_c0),'|')"
      ],
      "metadata": {
        "colab": {
          "base_uri": "https://localhost:8080/"
        },
        "id": "UQ9goF7684fC",
        "outputId": "ac1d132f-1193-4d39-ba96-33a15d04e53a"
      },
      "execution_count": 30,
      "outputs": [
        {
          "output_type": "stream",
          "name": "stdout",
          "text": [
            "| REGRESIÓN      | MAE            | MSD            | MAPE         |\n",
            "| :------------- | -------------: | -------------: |-------------:|\n",
            "| lineal         | 167.1343    | 48064.1398    |    0.0192 |\n",
            "|    SVM         | 359.7775     | 181254.7772    |    0.0411 |\n"
          ]
        }
      ]
    }
  ]
}
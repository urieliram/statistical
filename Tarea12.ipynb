{
  "nbformat": 4,
  "nbformat_minor": 0,
  "metadata": {
    "colab": {
      "name": "Tarea12.ipynb",
      "provenance": [],
      "authorship_tag": "ABX9TyMxPoUS1PabXAApTxWmxXnE",
      "include_colab_link": true
    },
    "kernelspec": {
      "name": "python3",
      "display_name": "Python 3"
    },
    "language_info": {
      "name": "python"
    }
  },
  "cells": [
    {
      "cell_type": "markdown",
      "metadata": {
        "id": "view-in-github",
        "colab_type": "text"
      },
      "source": [
        "<a href=\"https://colab.research.google.com/github/urieliram/statistical/blob/main/Tarea12.ipynb\" target=\"_parent\"><img src=\"https://colab.research.google.com/assets/colab-badge.svg\" alt=\"Open In Colab\"/></a>"
      ]
    },
    {
      "cell_type": "code",
      "execution_count": 15,
      "metadata": {
        "id": "v8_cSfUx2XNe"
      },
      "outputs": [],
      "source": [
        "import pandas as pd\n",
        "import numpy as np\n",
        "from sklearn.linear_model import LinearRegression\n",
        "from sklearn.metrics import mean_absolute_error,mean_squared_error,mean_absolute_percentage_error\n",
        "from sklearn import svm\n",
        "from sklearn.svm import LinearSVR\n"
      ]
    },
    {
      "cell_type": "code",
      "source": [
        "from sklearn.model_selection import GridSearchCV\n",
        "from sklearn.metrics import mean_absolute_error"
      ],
      "metadata": {
        "id": "xVtnP2uwDnHj"
      },
      "execution_count": 16,
      "outputs": []
    },
    {
      "cell_type": "markdown",
      "source": [
        "Ahora, cargamos los datos de prueba en los arreglos `X_train` y `y_train`:"
      ],
      "metadata": {
        "id": "QIFkPnhf2XE2"
      }
    },
    {
      "cell_type": "code",
      "source": [
        "df    = pd.read_csv('demanda.csv')\n",
        "\n",
        "## Procesamos datos de entrenamiento \n",
        "dftrain = df.loc[df.iloc[:,20].isin(['T'])] ## 'T' = training set\n",
        "y_train = dftrain['Y'].to_numpy()  \n",
        "X_train = dftrain[['X0','X1','X2','X3','X4','X5','X6','X7','X8','X9','X10']].to_numpy() ## Regresores\n",
        "\n",
        "## Procesamos datos de prueba \n",
        "dftest = df.loc[df.iloc[:,20].isin(['F'])] ## 'F' = test set\n",
        "y_test = dftest['Y'].to_numpy()\n",
        "X_test = dftest[['X0','X1','X2','X3','X4','X5','X6','X7','X8','X9','X10']].to_numpy() ## Regresores"
      ],
      "metadata": {
        "id": "Av3SblC-tP7b"
      },
      "execution_count": 17,
      "outputs": []
    },
    {
      "cell_type": "code",
      "source": [
        "def trunc(values, decs=0):\n",
        "    return np.trunc(values*10**decs)/(10**decs)"
      ],
      "metadata": {
        "id": "e6QUTa0H-PNr"
      },
      "execution_count": 18,
      "outputs": []
    },
    {
      "cell_type": "code",
      "source": [
        "model = LinearRegression()\n",
        "model.fit(X_train, y_train)\n",
        "r_sq = model.score(X_test, y_test)\n",
        "print('coefficient of determination:', r_sq)\n",
        "print('intercept:', model.intercept_)\n",
        "print('slope:', model.coef_)\n",
        "y_pred = model.predict(X_test)\n",
        "mae_rlm  = trunc(mean_absolute_error(y_test,y_pred),4)\n",
        "mse_rlm  = trunc(mean_squared_error(y_test,y_pred),4)\n",
        "mape_rlm = trunc(mean_absolute_percentage_error(y_test,y_pred),4)"
      ],
      "metadata": {
        "colab": {
          "base_uri": "https://localhost:8080/"
        },
        "id": "PsfJZWovDSrd",
        "outputId": "3e3f42fb-dec4-414d-f93d-3b93459ffcf7"
      },
      "execution_count": 19,
      "outputs": [
        {
          "output_type": "stream",
          "name": "stdout",
          "text": [
            "coefficient of determination: 0.7459708965464427\n",
            "intercept: -665.3444836197305\n",
            "slope: [ 0.          0.28749465  0.29204618  0.25861088 -0.04431544 -0.14208937\n",
            " -0.02613895  0.18289727  0.33580077  0.06905434 -0.12973508]\n"
          ]
        }
      ]
    },
    {
      "cell_type": "code",
      "source": [
        "mae_svm = []; mse_svm = []; mape_svm = []; \n",
        "Clist = [];\n",
        "perc_within_eps_list = []\n",
        "epsilon = 100\n",
        "for c in range(40, 55, 1):\n",
        "    Clist.append(c)\n",
        "    model = svm.SVR(kernel='rbf', C=c, epsilon=epsilon)\n",
        "    model.fit(X_train, y_train)\n",
        "    r_sq = model.score(X_test, y_test)\n",
        "    print('coefficient of determination:', r_sq)\n",
        "    \n",
        "    y_pred = model.predict(X_test)\n",
        "    mae_svm.append(trunc(mean_absolute_error(y_test,y_pred),4))\n",
        "    mse_svm.append(trunc(mean_squared_error(y_test,y_pred),4))\n",
        "    mape_svm.append(trunc(mean_absolute_percentage_error(y_test,y_pred),4))\n",
        "    \n",
        "    perc_within_eps = 100*np.sum(abs(y_test-y_pred) <= epsilon) / len(y_test)\n",
        "    perc_within_eps_list.append(perc_within_eps)\n",
        "    print(c,perc_within_eps )"
      ],
      "metadata": {
        "colab": {
          "base_uri": "https://localhost:8080/"
        },
        "id": "8aLsSFFaIgh4",
        "outputId": "11d566c0-22fb-447e-8f95-2a5db36de3af"
      },
      "execution_count": 22,
      "outputs": [
        {
          "output_type": "stream",
          "name": "stdout",
          "text": [
            "coefficient of determination: 0.7813628808809677\n",
            "40 39.583333333333336\n",
            "coefficient of determination: 0.7815529379004028\n",
            "41 40.27777777777778\n",
            "coefficient of determination: 0.7833506926110352\n",
            "42 41.666666666666664\n",
            "coefficient of determination: 0.7855049683233903\n",
            "43 41.31944444444444\n",
            "coefficient of determination: 0.7877408223154592\n",
            "44 41.666666666666664\n",
            "coefficient of determination: 0.7878461304614096\n",
            "45 42.013888888888886\n",
            "coefficient of determination: 0.7887290305729372\n",
            "46 42.361111111111114\n",
            "coefficient of determination: 0.7912038736360554\n",
            "47 43.05555555555556\n",
            "coefficient of determination: 0.7909423850105974\n",
            "48 44.44444444444444\n",
            "coefficient of determination: 0.7921037221277013\n",
            "49 44.44444444444444\n",
            "coefficient of determination: 0.7923868611918274\n",
            "50 44.09722222222222\n",
            "coefficient of determination: 0.7935270330680637\n",
            "51 44.791666666666664\n",
            "coefficient of determination: 0.7934276878423224\n",
            "52 44.791666666666664\n",
            "coefficient of determination: 0.7949512795985678\n",
            "53 45.138888888888886\n",
            "coefficient of determination: 0.7946225262322182\n",
            "54 44.791666666666664\n"
          ]
        }
      ]
    },
    {
      "cell_type": "code",
      "source": [
        "print('| REGRESIÓN      | C              | MAE            | MSD            | MAPE         |')\n",
        "print('| :------------- | :------------- | -------------: | -------------: |-------------:|')\n",
        "print('|    lineal      |         ',       0,'    |    ',str(mae_rlm),'  |    ',str(mse_rlm),'    |    ',str(mape_rlm),'|' )\n",
        "for i in range(len(Clist)):\n",
        "    print('|     SVM        |       ',  Clist[i]  ,'    |    ',str(mae_svm[i]),'   |    ',\n",
        "          str(mse_svm[i]),'    |    ',str(mape_svm[i]),'|','    |    ',str(perc_within_eps_list[i]),'|',)\n"
      ],
      "metadata": {
        "colab": {
          "base_uri": "https://localhost:8080/"
        },
        "id": "UQ9goF7684fC",
        "outputId": "49d627ab-a926-4d88-cb74-939d46b84b5a"
      },
      "execution_count": 23,
      "outputs": [
        {
          "output_type": "stream",
          "name": "stdout",
          "text": [
            "| REGRESIÓN      | C              | MAE            | MSD            | MAPE         |\n",
            "| :------------- | :------------- | -------------: | -------------: |-------------:|\n",
            "|    lineal      |          0     |     167.1343   |     48064.1398     |     0.0192 |\n",
            "|     SVM        |        40     |     158.8235    |     41367.721     |     0.0179 |     |     39.583333333333336 |\n",
            "|     SVM        |        41     |     158.2783    |     41331.7608     |     0.0178 |     |     40.27777777777778 |\n",
            "|     SVM        |        42     |     157.3381    |     40991.6126     |     0.0177 |     |     41.666666666666664 |\n",
            "|     SVM        |        43     |     156.2612    |     40584.0081     |     0.0176 |     |     41.31944444444444 |\n",
            "|     SVM        |        44     |     155.2193    |     40160.9684     |     0.0175 |     |     41.666666666666664 |\n",
            "|     SVM        |        45     |     155.0974    |     40141.0433     |     0.0174 |     |     42.013888888888886 |\n",
            "|     SVM        |        46     |     154.5593    |     39973.9923     |     0.0174 |     |     42.361111111111114 |\n",
            "|     SVM        |        47     |     153.29    |     39505.7341     |     0.0173 |     |     43.05555555555556 |\n",
            "|     SVM        |        48     |     153.2698    |     39555.2096     |     0.0173 |     |     44.44444444444444 |\n",
            "|     SVM        |        49     |     152.7725    |     39335.4763     |     0.0172 |     |     44.44444444444444 |\n",
            "|     SVM        |        50     |     152.5858    |     39281.9043     |     0.0172 |     |     44.09722222222222 |\n",
            "|     SVM        |        51     |     152.0859    |     39066.1756     |     0.0171 |     |     44.791666666666664 |\n",
            "|     SVM        |        52     |     152.1166    |     39084.9724     |     0.0171 |     |     44.791666666666664 |\n",
            "|     SVM        |        53     |     151.4537    |     38796.6978     |     0.0171 |     |     45.138888888888886 |\n",
            "|     SVM        |        54     |     151.5758    |     38858.9004     |     0.0171 |     |     44.791666666666664 |\n"
          ]
        }
      ]
    },
    {
      "cell_type": "code",
      "source": [
        "#https://scikit-learn.org/stable/modules/generated/sklearn.model_selection.GridSearchCV.html\n",
        "#https://github.com/tomsharp/SVR/blob/master/SVR.ipynb\n",
        "parameters = {'kernel':('linear', 'rbf'), 'C':Clist,} #'epsilon': np.linspace(1, 500)\n",
        "model = svm.SVR()\n",
        "clf   = GridSearchCV(model, parameters,scoring='neg_mean_absolute_error', cv=5)\n",
        "clf.fit(X_train, y_train)\n",
        "sorted(clf.cv_results_.keys())\n",
        "print(clf.best_estimator_)\n",
        "model = clf.best_estimator_\n",
        "model.fit(X_train, y_train)\n",
        "\n",
        "r_sq = model.score(X_test, y_test)\n",
        "print('coefficient of determination:', r_sq)\n",
        "    \n",
        "y_pred = model.predict(X_test)"
      ],
      "metadata": {
        "colab": {
          "base_uri": "https://localhost:8080/"
        },
        "id": "HeWLCSA5H9j4",
        "outputId": "26acfaac-6f97-4cc4-c9c5-8eabbb4ee03d"
      },
      "execution_count": 14,
      "outputs": [
        {
          "output_type": "stream",
          "name": "stdout",
          "text": [
            "SVR(C=54)\n",
            "coefficient of determination: 0.8002363165218531\n"
          ]
        }
      ]
    },
    {
      "cell_type": "code",
      "source": [
        ""
      ],
      "metadata": {
        "id": "smLE5Vb0NORf"
      },
      "execution_count": 14,
      "outputs": []
    },
    {
      "cell_type": "markdown",
      "source": [
        "[https://towardsdatascience.com/an-introduction-to-support-vector-regression-svr-a3ebc1672c2](https://towardsdatascience.com/an-introduction-to-support-vector-regression-svr-a3ebc1672c2)\n",
        "\n",
        "[Grid Search over C and Epsilon](https://github.com/tomsharp/SVR/blob/master/SVR.ipynb)\n",
        "\n",
        "https://scikit-learn.org/stable/modules/svm.html\n",
        "\n",
        "https://scikit-learn.org/stable/auto_examples/svm/plot_svm_regression.html\n",
        "\n",
        "https://medium.com/pursuitnotes/support-vector-regression-in-6-steps-with-python-c4569acd062d"
      ],
      "metadata": {
        "id": "BLLDXc_JDnU8"
      }
    }
  ]
}
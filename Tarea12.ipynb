{
  "nbformat": 4,
  "nbformat_minor": 0,
  "metadata": {
    "colab": {
      "name": "Tarea12.ipynb",
      "provenance": [],
      "authorship_tag": "ABX9TyNIMtE8NE/afzX2A6AZJtVz",
      "include_colab_link": true
    },
    "kernelspec": {
      "name": "python3",
      "display_name": "Python 3"
    },
    "language_info": {
      "name": "python"
    }
  },
  "cells": [
    {
      "cell_type": "markdown",
      "metadata": {
        "id": "view-in-github",
        "colab_type": "text"
      },
      "source": [
        "<a href=\"https://colab.research.google.com/github/urieliram/statistical/blob/main/Tarea12.ipynb\" target=\"_parent\"><img src=\"https://colab.research.google.com/assets/colab-badge.svg\" alt=\"Open In Colab\"/></a>"
      ]
    },
    {
      "cell_type": "code",
      "execution_count": 9,
      "metadata": {
        "id": "v8_cSfUx2XNe"
      },
      "outputs": [],
      "source": [
        "import pandas as pd\n",
        "import numpy as np\n",
        "from sklearn.linear_model import LinearRegression\n",
        "from sklearn.metrics import mean_absolute_error,mean_squared_error,mean_absolute_percentage_error\n",
        "from sklearn import svm\n",
        "from sklearn.svm import LinearSVR\n",
        "from sklearn.model_selection import GridSearchCV\n",
        "from sklearn.metrics import mean_absolute_error\n",
        "import matplotlib.pyplot as plt\n"
      ]
    },
    {
      "cell_type": "markdown",
      "source": [
        "Ahora, cargamos los datos de prueba en los arreglos `X_train` y `y_train`:"
      ],
      "metadata": {
        "id": "QIFkPnhf2XE2"
      }
    },
    {
      "cell_type": "code",
      "source": [
        "df    = pd.read_csv('demanda.csv')\n",
        "\n",
        "## Procesamos datos de entrenamiento \n",
        "dftrain = df.loc[df.iloc[:,20].isin(['T'])] ## 'T' = training set\n",
        "y_train = dftrain['Y'].to_numpy()  \n",
        "X_train = dftrain[['X0','X1','X2','X3','X4','X5','X6','X7','X8','X9','X10']].to_numpy() ## Regresores\n",
        "\n",
        "## Procesamos datos de prueba \n",
        "dftest = df.loc[df.iloc[:,20].isin(['F'])] ## 'F' = test set\n",
        "y_test = dftest['Y'].to_numpy()\n",
        "X_test = dftest[['X0','X1','X2','X3','X4','X5','X6','X7','X8','X9','X10']].to_numpy() ## Regresores"
      ],
      "metadata": {
        "id": "Av3SblC-tP7b"
      },
      "execution_count": 10,
      "outputs": []
    },
    {
      "cell_type": "code",
      "source": [
        "def trunc(values, decs=0):\n",
        "    return np.trunc(values*10**decs)/(10**decs)"
      ],
      "metadata": {
        "id": "e6QUTa0H-PNr"
      },
      "execution_count": 11,
      "outputs": []
    },
    {
      "cell_type": "code",
      "source": [
        "model = LinearRegression()\n",
        "model.fit(X_train, y_train)\n",
        "r_sq = model.score(X_test, y_test)\n",
        "print('coefficient of determination:', r_sq)\n",
        "print('intercept:', model.intercept_)\n",
        "print('slope:', model.coef_)\n",
        "y_pred = model.predict(X_test)\n",
        "mae_rlm  = trunc(mean_absolute_error(y_test,y_pred),4)\n",
        "mse_rlm  = trunc(mean_squared_error(y_test,y_pred),4)\n",
        "mape_rlm = trunc(mean_absolute_percentage_error(y_test,y_pred),4)"
      ],
      "metadata": {
        "colab": {
          "base_uri": "https://localhost:8080/"
        },
        "id": "PsfJZWovDSrd",
        "outputId": "8eb663cf-7da3-4623-f87f-cdea60214a9b"
      },
      "execution_count": 12,
      "outputs": [
        {
          "output_type": "stream",
          "name": "stdout",
          "text": [
            "coefficient of determination: 0.7459708965464427\n",
            "intercept: -665.3444836197305\n",
            "slope: [ 0.          0.28749465  0.29204618  0.25861088 -0.04431544 -0.14208937\n",
            " -0.02613895  0.18289727  0.33580077  0.06905434 -0.12973508]\n"
          ]
        }
      ]
    },
    {
      "cell_type": "code",
      "source": [
        "mae_svm = []; mse_svm = []; mape_svm = []; Clist = []; perc_within_eps_list = []\n",
        "epsilon = 10\n",
        "for c in range(34, 65, 2):\n",
        "    Clist.append(c)\n",
        "    model = svm.SVR(kernel='rbf', C=c, epsilon=epsilon)\n",
        "    model.fit(X_train, y_train)\n",
        "    #r_sq = model.score(X_test, y_test)\n",
        "    #print('coefficient of determination:', r_sq)\n",
        "    \n",
        "    y_pred = model.predict(X_test)\n",
        "    mae_svm.append(trunc(mean_absolute_error(y_test,y_pred),4))\n",
        "    mse_svm.append(trunc(mean_squared_error(y_test,y_pred),4))\n",
        "    mape_svm.append(trunc(mean_absolute_percentage_error(y_test,y_pred),4))\n",
        "    \n",
        "    perc_within_eps = 100*np.sum(abs(y_test-y_pred) <= epsilon) / len(y_test)\n",
        "    perc_within_eps_list.append(perc_within_eps)"
      ],
      "metadata": {
        "id": "8aLsSFFaIgh4"
      },
      "execution_count": 13,
      "outputs": []
    },
    {
      "cell_type": "code",
      "source": [
        "fig, ax1 = plt.subplots(figsize=(12,7))\n",
        "\n",
        "color='green'\n",
        "ax1.set_xlabel('C')\n",
        "ax1.set_ylabel('% within Epsilon', color=color)\n",
        "ax1.scatter(Clist, perc_within_eps_list, color=color)\n",
        "ax1.tick_params(axis='y', labelcolor=color)\n",
        "\n",
        "color='blue'\n",
        "ax2 = ax1.twinx()  # instantiate a second axes that shares the same x-axis\n",
        "ax2.set_ylabel('Test MAE', color=color)  # we already handled the x-label with ax1\n",
        "ax2.scatter(Clist, mae_svm, color=color)\n",
        "ax2.tick_params(axis='y', labelcolor=color)\n",
        "\n",
        "plt.show()"
      ],
      "metadata": {
        "colab": {
          "base_uri": "https://localhost:8080/",
          "height": 442
        },
        "id": "Fc-YZgQjUk0W",
        "outputId": "c8f3aea2-4a14-490a-9eb6-fda3cf1fc540"
      },
      "execution_count": 14,
      "outputs": [
        {
          "output_type": "display_data",
          "data": {
            "text/plain": [
              "<Figure size 864x504 with 2 Axes>"
            ],
            "image/png": "[encoded data removed]"
          },
          "metadata": {
            "needs_background": "light"
          }
        }
      ]
    },
    {
      "cell_type": "code",
      "source": [
        "print('| REGRESIÓN      | C              | MAE            | MSD            | MAPE         | % WITHIN EPSILON = ',epsilon,'       |')\n",
        "print('| :------------- | :------------- | -------------: | -------------: |-------------:|-------------:|')\n",
        "print('|    lineal      |         ',       0,'    |    ',str(mae_rlm),'  |    ',str(mse_rlm),'    |    ',str(mape_rlm),'|' )\n",
        "for i in range(len(Clist)):\n",
        "    print('|     SVM        |       ',  Clist[i]  ,'    |    ',str(mae_svm[i]),'   |    ',\n",
        "       str(mse_svm[i]),'    |    ',str(mape_svm[i]),'    |    ',str(perc_within_eps_list[i]),'|',)\n"
      ],
      "metadata": {
        "colab": {
          "base_uri": "https://localhost:8080/"
        },
        "id": "UQ9goF7684fC",
        "outputId": "0af7385d-9cbf-4122-ebe5-b944582198e0"
      },
      "execution_count": 15,
      "outputs": [
        {
          "output_type": "stream",
          "name": "stdout",
          "text": [
            "| REGRESIÓN      | C              | MAE            | MSD            | MAPE         | % WITHIN EPSILON =  10        |\n",
            "| :------------- | :------------- | -------------: | -------------: |-------------:|-------------:|\n",
            "|    lineal      |          0     |     167.1343   |     48064.1398     |     0.0192 |\n",
            "|     SVM        |        34     |     157.7527    |     40492.4957     |     0.0178     |     4.513888888888889 |\n",
            "|     SVM        |        36     |     155.2705    |     39724.3767     |     0.0175     |     4.166666666666667 |\n",
            "|     SVM        |        38     |     153.3079    |     39071.4905     |     0.0173     |     4.166666666666667 |\n",
            "|     SVM        |        40     |     151.1791    |     38347.9321     |     0.017     |     4.513888888888889 |\n",
            "|     SVM        |        42     |     150.1678    |     38003.4596     |     0.0169     |     5.555555555555555 |\n",
            "|     SVM        |        44     |     148.6552    |     37430.3631     |     0.0168     |     5.555555555555555 |\n",
            "|     SVM        |        46     |     148.5291    |     37426.4562     |     0.0167     |     4.166666666666667 |\n",
            "|     SVM        |        48     |     148.4953    |     37469.8713     |     0.0168     |     3.125 |\n",
            "|     SVM        |        50     |     147.8927    |     37207.4701     |     0.0167     |     3.8194444444444446 |\n",
            "|     SVM        |        52     |     148.2384    |     37375.0973     |     0.0167     |     5.208333333333333 |\n",
            "|     SVM        |        54     |     149.5242    |     38006.3634     |     0.0169     |     5.208333333333333 |\n",
            "|     SVM        |        56     |     149.0595    |     37770.0077     |     0.0169     |     5.208333333333333 |\n",
            "|     SVM        |        58     |     149.4254    |     37936.6037     |     0.0169     |     5.208333333333333 |\n",
            "|     SVM        |        60     |     150.8807    |     38567.5818     |     0.0171     |     4.513888888888889 |\n",
            "|     SVM        |        62     |     150.8134    |     38489.8859     |     0.0171     |     5.208333333333333 |\n",
            "|     SVM        |        64     |     151.2848    |     38715.6638     |     0.0171     |     4.861111111111111 |\n"
          ]
        }
      ]
    },
    {
      "cell_type": "code",
      "source": [
        "#https://scikit-learn.org/stable/modules/generated/sklearn.model_selection.GridSearchCV.html\n",
        "#https://github.com/tomsharp/SVR/blob/master/SVR.ipynb\n",
        "parameters = {'kernel':('linear', 'poly', 'rbf', 'sigmoid'), 'C':Clist,'epsilon': [0,2,5,10,12,15]} #'epsilon': np.linspace(1, 20),'kernel':('linear', 'poly', 'rbf', 'sigmoid')\n",
        "model = svm.SVR()\n",
        "clf   = GridSearchCV(model, parameters,scoring='neg_mean_absolute_error', cv=5)\n",
        "clf.fit(X_train, y_train)\n",
        "model = clf.best_estimator_\n",
        "model.fit(X_train, y_train)\n",
        "\n",
        "print(sorted(clf.cv_results_.keys()))\n",
        "print(clf.best_estimator_)\n",
        "\n",
        "r_sq = model.score(X_test, y_test)\n",
        "print('coefficient of determination:', r_sq)\n",
        "    \n",
        "y_pred = model.predict(X_test)"
      ],
      "metadata": {
        "colab": {
          "base_uri": "https://localhost:8080/"
        },
        "id": "HeWLCSA5H9j4",
        "outputId": "17b868a0-d784-451a-c592-b1979a1b7439"
      },
      "execution_count": 25,
      "outputs": [
        {
          "output_type": "stream",
          "name": "stdout",
          "text": [
            "['mean_fit_time', 'mean_score_time', 'mean_test_score', 'param_C', 'param_epsilon', 'param_kernel', 'params', 'rank_test_score', 'split0_test_score', 'split1_test_score', 'split2_test_score', 'split3_test_score', 'split4_test_score', 'std_fit_time', 'std_score_time', 'std_test_score']\n",
            "SVR(C=34, epsilon=2, kernel='poly')\n",
            "coefficient of determination: 0.7601691787764767\n"
          ]
        }
      ]
    },
    {
      "cell_type": "code",
      "source": [
        "print(\"C: {}\".format(model.C))\n",
        "print(\"Epsilon: {}\".format(model.epsilon))\n",
        "print(\"Kernel: {}\".format(model.kernel))\n",
        "    \n",
        "#print(\"Intercept: {:,.3f}\".format(model.intercept_[0]))\n",
        "#print(\"Coefficient: {:,.3f}\".format(model.coef_[0]))\n",
        "    \n",
        "mae = mean_absolute_error(y_test, model.predict(X_test))\n",
        "print(\"MAE = {:,.2f}\".format(1000*mae))\n",
        "    \n",
        "perc_within_eps = 100*np.sum(y_test - model.predict(X_test) < epsilon) / len(y_test)\n",
        "print(\"Percentage within Epsilon = {:,.2f}%\".format(perc_within_eps))"
      ],
      "metadata": {
        "colab": {
          "base_uri": "https://localhost:8080/"
        },
        "id": "7-UGsZ2ohYmH",
        "outputId": "fdbba7ba-ea6d-4db3-b997-1edf771b2b10"
      },
      "execution_count": 26,
      "outputs": [
        {
          "output_type": "stream",
          "name": "stdout",
          "text": [
            "C: 34\n",
            "Epsilon: 2\n",
            "Kernel: poly\n",
            "MAE = 165,260.73\n",
            "Percentage within Epsilon = 36.46%\n"
          ]
        }
      ]
    },
    {
      "cell_type": "code",
      "source": [
        ""
      ],
      "metadata": {
        "id": "smLE5Vb0NORf"
      },
      "execution_count": null,
      "outputs": []
    },
    {
      "cell_type": "markdown",
      "source": [
        "Ephsilon permite que los elementos queden del lado equivocado del hiperplano\n",
        "C es el costo en la función objetivo por la distancia \n",
        "\n",
        "Support Vector Machine también se puede utilizar como método de regresión, manteniendo todas las características principales que caracterizan al algoritmo (margen máximo). Support Vector Regression (SVR) utiliza los mismos principios que SVM para la clasificación, con solo algunas diferencias menores. Primero, debido a que la salida es un número real, se vuelve complicado predecir la información disponible con infinitas posibilidades. En el caso de regresión, se establece un margen de tolerancia (épsilon) de aproximación al SVM que ya habría pedido el problema. Pero además de este hecho, también hay una razón más complicada; el algoritmo es más complicado. Por lo tanto, debe tenerse en cuenta. Sin embargo, la idea principal siempre es la misma: minimizar el error e identificar el hiperplano que maximiza el margen, teniendo en cuenta que se tolera parte del error."
      ],
      "metadata": {
        "id": "1cN6vwDFX780"
      }
    },
    {
      "cell_type": "markdown",
      "source": [
        "[Support Vector Machine - Regression (SVR) ****](http://www.saedsayad.com/support_vector_machine_reg.htm)\n",
        "\n",
        "\n",
        "[https://towardsdatascience.com/an-introduction-to-support-vector-regression-svr-a3ebc1672c2](https://towardsdatascience.com/an-introduction-to-support-vector-regression-svr-a3ebc1672c2)\n",
        "\n",
        "[Grid Search over C and Epsilon](https://github.com/tomsharp/SVR/blob/master/SVR.ipynb)\n",
        "\n",
        "https://scikit-learn.org/stable/modules/svm.html\n",
        "\n",
        "https://scikit-learn.org/stable/auto_examples/svm/plot_svm_regression.html\n",
        "\n",
        "https://medium.com/pursuitnotes/support-vector-regression-in-6-steps-with-python-c4569acd062d\n",
        "\n",
        "https://www.analyticsvidhya.com/blog/2017/09/understaing-support-vector-machine-example-code/?utm_source=blog&utm_medium=support-vector-regression-tutorial-for-machine-learning"
      ],
      "metadata": {
        "id": "BLLDXc_JDnU8"
      }
    }
  ]
}
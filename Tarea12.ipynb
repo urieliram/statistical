{
  "nbformat": 4,
  "nbformat_minor": 0,
  "metadata": {
    "colab": {
      "name": "Tarea12.ipynb",
      "provenance": [],
      "authorship_tag": "ABX9TyPEJdvQbSTonLyIfJ2+/FJa",
      "include_colab_link": true
    },
    "kernelspec": {
      "name": "python3",
      "display_name": "Python 3"
    },
    "language_info": {
      "name": "python"
    }
  },
  "cells": [
    {
      "cell_type": "markdown",
      "metadata": {
        "id": "view-in-github",
        "colab_type": "text"
      },
      "source": [
        "<a href=\"https://colab.research.google.com/github/urieliram/statistical/blob/main/Tarea12.ipynb\" target=\"_parent\"><img src=\"https://colab.research.google.com/assets/colab-badge.svg\" alt=\"Open In Colab\"/></a>"
      ]
    },
    {
      "cell_type": "code",
      "execution_count": 100,
      "metadata": {
        "id": "v8_cSfUx2XNe"
      },
      "outputs": [],
      "source": [
        "import pandas as pd\n",
        "import numpy as np\n",
        "from sklearn.linear_model import LinearRegression\n",
        "from sklearn.metrics import mean_absolute_error,mean_squared_error,mean_absolute_percentage_error\n",
        "from sklearn import svm\n",
        "from sklearn.svm import LinearSVR\n",
        "from sklearn.model_selection import GridSearchCV\n",
        "from sklearn.metrics import mean_absolute_error\n",
        "import matplotlib.pyplot as plt\n"
      ]
    },
    {
      "cell_type": "markdown",
      "source": [
        "Ahora, cargamos los datos de prueba en los arreglos `X_train` y `y_train`:"
      ],
      "metadata": {
        "id": "QIFkPnhf2XE2"
      }
    },
    {
      "cell_type": "code",
      "source": [
        "df    = pd.read_csv('demanda.csv')\n",
        "\n",
        "## Procesamos datos de entrenamiento \n",
        "dftrain = df.loc[df.iloc[:,20].isin(['T'])] ## 'T' = training set\n",
        "y_train = dftrain['Y'].to_numpy()  \n",
        "X_train = dftrain[['X0','X1','X2','X3','X4','X5','X6','X7','X8','X9','X10']].to_numpy() ## Regresores\n",
        "\n",
        "## Procesamos datos de prueba \n",
        "dftest = df.loc[df.iloc[:,20].isin(['F'])] ## 'F' = test set\n",
        "y_test = dftest['Y'].to_numpy()\n",
        "X_test = dftest[['X0','X1','X2','X3','X4','X5','X6','X7','X8','X9','X10']].to_numpy() ## Regresores"
      ],
      "metadata": {
        "id": "Av3SblC-tP7b"
      },
      "execution_count": 101,
      "outputs": []
    },
    {
      "cell_type": "code",
      "source": [
        "def trunc(values, decs=0):\n",
        "    return np.trunc(values*10**decs)/(10**decs)"
      ],
      "metadata": {
        "id": "e6QUTa0H-PNr"
      },
      "execution_count": 102,
      "outputs": []
    },
    {
      "cell_type": "code",
      "source": [
        "model = LinearRegression()\n",
        "model.fit(X_train, y_train)\n",
        "r_sq = model.score(X_test, y_test)\n",
        "print('coefficient of determination:', r_sq)\n",
        "print('intercept:', model.intercept_)\n",
        "print('slope:', model.coef_)\n",
        "y_pred = model.predict(X_test)\n",
        "mae_rlm  = trunc(mean_absolute_error(y_test,y_pred),4)\n",
        "mse_rlm  = trunc(mean_squared_error(y_test,y_pred),4)\n",
        "mape_rlm = trunc(mean_absolute_percentage_error(y_test,y_pred),4)"
      ],
      "metadata": {
        "colab": {
          "base_uri": "https://localhost:8080/"
        },
        "id": "PsfJZWovDSrd",
        "outputId": "bf955df8-b186-4c18-f2a1-d26b6be52437"
      },
      "execution_count": 103,
      "outputs": [
        {
          "output_type": "stream",
          "name": "stdout",
          "text": [
            "coefficient of determination: 0.7459708965464427\n",
            "intercept: -665.3444836197305\n",
            "slope: [ 0.          0.28749465  0.29204618  0.25861088 -0.04431544 -0.14208937\n",
            " -0.02613895  0.18289727  0.33580077  0.06905434 -0.12973508]\n"
          ]
        }
      ]
    },
    {
      "cell_type": "code",
      "source": [
        "mae_svm = []; mse_svm = []; mape_svm = []; Clist = []; perc_within_eps_list = []\n",
        "epsilon = 0\n",
        "for c in range(1, 100, 1):\n",
        "    Clist.append(c)\n",
        "    model = svm.SVR(kernel='rbf', C=c, epsilon=epsilon)\n",
        "    model.fit(X_train, y_train)\n",
        "    #r_sq = model.score(X_test, y_test)\n",
        "    #print('coefficient of determination:', r_sq)\n",
        "    \n",
        "    y_pred = model.predict(X_test)\n",
        "    mae_svm.append(trunc(mean_absolute_error(y_test,y_pred),4))\n",
        "    mse_svm.append(trunc(mean_squared_error(y_test,y_pred),4))\n",
        "    mape_svm.append(trunc(mean_absolute_percentage_error(y_test,y_pred),4))\n",
        "    \n",
        "    perc_within_eps = 100*np.sum(abs(y_test-y_pred) <= epsilon) / len(y_test)\n",
        "    perc_within_eps_list.append(perc_within_eps)"
      ],
      "metadata": {
        "id": "8aLsSFFaIgh4"
      },
      "execution_count": 98,
      "outputs": []
    },
    {
      "cell_type": "code",
      "source": [
        "fig, ax1 = plt.subplots(figsize=(12,7))\n",
        "\n",
        "color='green'\n",
        "ax1.set_xlabel('C')\n",
        "ax1.set_ylabel('% within Epsilon', color=color)\n",
        "ax1.scatter(Clist, perc_within_eps_list, color=color)\n",
        "ax1.tick_params(axis='y', labelcolor=color)\n",
        "\n",
        "color='blue'\n",
        "ax2 = ax1.twinx()  # instantiate a second axes that shares the same x-axis\n",
        "ax2.set_ylabel('Test MAE', color=color)  # we already handled the x-label with ax1\n",
        "ax2.scatter(Clist, mae_svm, color=color)\n",
        "ax2.tick_params(axis='y', labelcolor=color)\n",
        "\n",
        "\n",
        "plt.show()"
      ],
      "metadata": {
        "colab": {
          "base_uri": "https://localhost:8080/",
          "height": 442
        },
        "id": "Fc-YZgQjUk0W",
        "outputId": "04c2fc25-763f-454d-acf9-8855208e9c2b"
      },
      "execution_count": 99,
      "outputs": [
        {
          "output_type": "display_data",
          "data": {
            "text/plain": [
              "<Figure size 864x504 with 2 Axes>"
            ],
            "image/png": "[encoded data removed]"
          },
          "metadata": {
            "needs_background": "light"
          }
        }
      ]
    },
    {
      "cell_type": "code",
      "source": [
        "print('| REGRESIÓN      | C              | MAE            | MSD            | MAPE         | % WITHIN EPSILON = ',epsilon,'       |')\n",
        "print('| :------------- | :------------- | -------------: | -------------: |-------------:|-------------:|')\n",
        "print('|    lineal      |         ',       0,'    |    ',str(mae_rlm),'  |    ',str(mse_rlm),'    |    ',str(mape_rlm),'|' )\n",
        "for i in range(len(Clist)):\n",
        "    print('|     SVM        |       ',  Clist[i]  ,'    |    ',str(mae_svm[i]),'   |    ',\n",
        "       str(mse_svm[i]),'    |    ',str(mape_svm[i]),'    |    ',str(perc_within_eps_list[i]),'|',)\n"
      ],
      "metadata": {
        "colab": {
          "base_uri": "https://localhost:8080/"
        },
        "id": "UQ9goF7684fC",
        "outputId": "09f53be0-534e-4907-da83-8c0be1a6647a"
      },
      "execution_count": 104,
      "outputs": [
        {
          "output_type": "stream",
          "name": "stdout",
          "text": [
            "| REGRESIÓN      | C              | MAE            | MSD            | MAPE         | % WITHIN EPSILON =  0        |\n",
            "| :------------- | :------------- | -------------: | -------------: |-------------:|-------------:|\n",
            "|    lineal      |          0     |     167.1343   |     48064.1398     |     0.0192 |\n",
            "|     SVM        |        1     |     359.7775    |     181254.7772     |     0.0411     |     0.0 |\n",
            "|     SVM        |        2     |     349.7643    |     171697.1604     |     0.04     |     0.0 |\n",
            "|     SVM        |        3     |     339.8573    |     162507.1433     |     0.0388     |     0.0 |\n",
            "|     SVM        |        4     |     330.1753    |     153857.9821     |     0.0377     |     0.0 |\n",
            "|     SVM        |        5     |     320.6313    |     145635.0071     |     0.0366     |     0.0 |\n",
            "|     SVM        |        6     |     311.3866    |     138009.1064     |     0.0355     |     0.0 |\n",
            "|     SVM        |        7     |     302.1753    |     130675.6455     |     0.0344     |     0.0 |\n",
            "|     SVM        |        8     |     293.1625    |     123833.1506     |     0.0333     |     0.0 |\n",
            "|     SVM        |        9     |     284.6851    |     117376.277     |     0.0323     |     0.0 |\n",
            "|     SVM        |        10     |     276.0909    |     111071.9454     |     0.0313     |     0.0 |\n",
            "|     SVM        |        11     |     267.6944    |     104984.6373     |     0.0303     |     0.0 |\n",
            "|     SVM        |        12     |     259.9616    |     99602.9813     |     0.0294     |     0.0 |\n",
            "|     SVM        |        13     |     252.8958    |     94847.4314     |     0.0286     |     0.0 |\n",
            "|     SVM        |        14     |     244.4809    |     89067.6413     |     0.0276     |     0.0 |\n",
            "|     SVM        |        15     |     237.0333    |     84054.492     |     0.0268     |     0.0 |\n",
            "|     SVM        |        16     |     230.3449    |     79668.0998     |     0.026     |     0.0 |\n",
            "|     SVM        |        17     |     223.7569    |     75391.666     |     0.0252     |     0.0 |\n",
            "|     SVM        |        18     |     217.702    |     71488.87     |     0.0245     |     0.0 |\n",
            "|     SVM        |        19     |     214.2296    |     69281.3489     |     0.0241     |     0.0 |\n",
            "|     SVM        |        20     |     208.6305    |     65824.5718     |     0.0235     |     0.0 |\n",
            "|     SVM        |        21     |     203.931    |     62997.5934     |     0.023     |     0.0 |\n",
            "|     SVM        |        22     |     198.417    |     59780.2344     |     0.0223     |     0.0 |\n",
            "|     SVM        |        23     |     193.8339    |     57230.2843     |     0.0218     |     0.0 |\n",
            "|     SVM        |        24     |     189.4807    |     54840.2283     |     0.0213     |     0.0 |\n",
            "|     SVM        |        25     |     185.3768    |     52624.2267     |     0.0209     |     0.0 |\n",
            "|     SVM        |        26     |     182.3981    |     51085.3088     |     0.0205     |     0.0 |\n",
            "|     SVM        |        27     |     177.6967    |     48811.1781     |     0.02     |     0.0 |\n",
            "|     SVM        |        28     |     172.4176    |     46394.7453     |     0.0194     |     0.0 |\n",
            "|     SVM        |        29     |     170.0756    |     45447.9205     |     0.0191     |     0.0 |\n",
            "|     SVM        |        30     |     167.2252    |     44296.3411     |     0.0188     |     0.0 |\n",
            "|     SVM        |        31     |     164.7144    |     43266.9143     |     0.0185     |     0.0 |\n",
            "|     SVM        |        32     |     162.0806    |     42151.6476     |     0.0182     |     0.0 |\n",
            "|     SVM        |        33     |     160.615    |     41699.2513     |     0.0181     |     0.0 |\n",
            "|     SVM        |        34     |     159.2595    |     41211.1256     |     0.0179     |     0.0 |\n",
            "|     SVM        |        35     |     157.2055    |     40471.0005     |     0.0177     |     0.0 |\n",
            "|     SVM        |        36     |     155.4739    |     39772.121     |     0.0175     |     0.0 |\n",
            "|     SVM        |        37     |     155.2083    |     39902.0228     |     0.0175     |     0.0 |\n",
            "|     SVM        |        38     |     153.5036    |     39241.7096     |     0.0173     |     0.0 |\n",
            "|     SVM        |        39     |     153.4154    |     39215.4505     |     0.0173     |     0.0 |\n",
            "|     SVM        |        40     |     152.6316    |     39005.8343     |     0.0172     |     0.0 |\n",
            "|     SVM        |        41     |     150.761    |     38209.6877     |     0.017     |     0.0 |\n",
            "|     SVM        |        42     |     150.6341    |     38190.8425     |     0.017     |     0.0 |\n",
            "|     SVM        |        43     |     149.9818    |     37977.4807     |     0.0169     |     0.0 |\n",
            "|     SVM        |        44     |     148.5558    |     37402.7282     |     0.0167     |     0.0 |\n",
            "|     SVM        |        45     |     148.2772    |     37292.3097     |     0.0167     |     0.0 |\n",
            "|     SVM        |        46     |     147.8841    |     37126.9485     |     0.0167     |     0.0 |\n",
            "|     SVM        |        47     |     147.8794    |     37122.3504     |     0.0167     |     0.0 |\n",
            "|     SVM        |        48     |     147.3541    |     36892.0429     |     0.0166     |     0.0 |\n",
            "|     SVM        |        49     |     147.421    |     36917.696     |     0.0166     |     0.0 |\n",
            "|     SVM        |        50     |     147.8668    |     37186.526     |     0.0167     |     0.0 |\n",
            "|     SVM        |        51     |     147.6534    |     37118.8088     |     0.0167     |     0.0 |\n",
            "|     SVM        |        52     |     148.044    |     37302.9329     |     0.0167     |     0.0 |\n",
            "|     SVM        |        53     |     148.0356    |     37296.6169     |     0.0167     |     0.0 |\n",
            "|     SVM        |        54     |     149.163    |     37822.9191     |     0.0169     |     0.0 |\n",
            "|     SVM        |        55     |     149.0832    |     37796.8678     |     0.0169     |     0.0 |\n",
            "|     SVM        |        56     |     148.9122    |     37717.3579     |     0.0168     |     0.0 |\n",
            "|     SVM        |        57     |     150.2418    |     38296.7032     |     0.017     |     0.0 |\n",
            "|     SVM        |        58     |     150.3873    |     38347.5057     |     0.017     |     0.0 |\n",
            "|     SVM        |        59     |     150.0562    |     38136.4808     |     0.017     |     0.0 |\n",
            "|     SVM        |        60     |     150.0201    |     38117.9283     |     0.017     |     0.0 |\n",
            "|     SVM        |        61     |     149.9794    |     38099.3588     |     0.017     |     0.0 |\n",
            "|     SVM        |        62     |     149.8388    |     38039.0014     |     0.017     |     0.0 |\n",
            "|     SVM        |        63     |     149.961    |     38096.9467     |     0.017     |     0.0 |\n",
            "|     SVM        |        64     |     150.6031    |     38387.9363     |     0.0171     |     0.0 |\n",
            "|     SVM        |        65     |     151.7598    |     38921.4923     |     0.0172     |     0.0 |\n",
            "|     SVM        |        66     |     151.6612    |     38880.5931     |     0.0172     |     0.0 |\n",
            "|     SVM        |        67     |     151.6552    |     38879.2796     |     0.0172     |     0.0 |\n",
            "|     SVM        |        68     |     152.0162    |     39045.817     |     0.0172     |     0.0 |\n",
            "|     SVM        |        69     |     151.9164    |     39006.5989     |     0.0172     |     0.0 |\n",
            "|     SVM        |        70     |     151.8229    |     38967.8375     |     0.0172     |     0.0 |\n",
            "|     SVM        |        71     |     152.7555    |     39381.4146     |     0.0173     |     0.0 |\n",
            "|     SVM        |        72     |     153.257    |     39616.003     |     0.0174     |     0.0 |\n",
            "|     SVM        |        73     |     153.288    |     39633.9719     |     0.0174     |     0.0 |\n",
            "|     SVM        |        74     |     153.3034    |     39644.7453     |     0.0174     |     0.0 |\n",
            "|     SVM        |        75     |     153.902    |     39925.601     |     0.0175     |     0.0 |\n",
            "|     SVM        |        76     |     154.4001    |     40147.5935     |     0.0175     |     0.0 |\n",
            "|     SVM        |        77     |     154.8741    |     40365.5449     |     0.0176     |     0.0 |\n",
            "|     SVM        |        78     |     154.9343    |     40388.0144     |     0.0176     |     0.0 |\n",
            "|     SVM        |        79     |     154.9107    |     40381.1876     |     0.0176     |     0.0 |\n",
            "|     SVM        |        80     |     154.8871    |     40374.5206     |     0.0176     |     0.0 |\n",
            "|     SVM        |        81     |     155.6266    |     40718.3344     |     0.0177     |     0.0 |\n",
            "|     SVM        |        82     |     155.596    |     40712.1031     |     0.0177     |     0.0 |\n",
            "|     SVM        |        83     |     155.5654    |     40706.0214     |     0.0177     |     0.0 |\n",
            "|     SVM        |        84     |     155.5348    |     40699.9992     |     0.0177     |     0.0 |\n",
            "|     SVM        |        85     |     155.374    |     40634.4123     |     0.0177     |     0.0 |\n",
            "|     SVM        |        86     |     155.5309    |     40706.304     |     0.0177     |     0.0 |\n",
            "|     SVM        |        87     |     156.1478    |     40986.3193     |     0.0178     |     0.0 |\n",
            "|     SVM        |        88     |     156.7607    |     41258.8702     |     0.0178     |     0.0 |\n",
            "|     SVM        |        89     |     156.9918    |     41336.8087     |     0.0179     |     0.0 |\n",
            "|     SVM        |        90     |     156.873    |     41258.3457     |     0.0179     |     0.0 |\n",
            "|     SVM        |        91     |     157.2436    |     41406.2484     |     0.0179     |     0.0 |\n",
            "|     SVM        |        92     |     157.8627    |     41682.115     |     0.018     |     0.0 |\n",
            "|     SVM        |        93     |     157.9269    |     41710.8823     |     0.018     |     0.0 |\n",
            "|     SVM        |        94     |     157.9869    |     41737.88     |     0.018     |     0.0 |\n",
            "|     SVM        |        95     |     158.0309    |     41758.1718     |     0.018     |     0.0 |\n",
            "|     SVM        |        96     |     158.0382    |     41762.9006     |     0.018     |     0.0 |\n",
            "|     SVM        |        97     |     158.1109    |     41795.0834     |     0.018     |     0.0 |\n",
            "|     SVM        |        98     |     158.12    |     41799.7168     |     0.018     |     0.0 |\n",
            "|     SVM        |        99     |     158.1291    |     41804.3344     |     0.018     |     0.0 |\n"
          ]
        }
      ]
    },
    {
      "cell_type": "code",
      "source": [
        "#https://scikit-learn.org/stable/modules/generated/sklearn.model_selection.GridSearchCV.html\n",
        "#https://github.com/tomsharp/SVR/blob/master/SVR.ipynb\n",
        "parameters = {'kernel':('linear', 'rbf'), 'C':Clist,} #'epsilon': np.linspace(1, 500)\n",
        "model = svm.SVR()\n",
        "clf   = GridSearchCV(model, parameters,scoring='neg_mean_absolute_error', cv=5)\n",
        "clf.fit(X_train, y_train)\n",
        "print(sorted(clf.cv_results_.keys()))\n",
        "print(clf.best_estimator_)\n",
        "model = clf.best_estimator_\n",
        "model.fit(X_train, y_train)\n",
        "\n",
        "r_sq = model.score(X_test, y_test)\n",
        "print('coefficient of determination:', r_sq)\n",
        "    \n",
        "y_pred = model.predict(X_test)"
      ],
      "metadata": {
        "colab": {
          "base_uri": "https://localhost:8080/"
        },
        "id": "HeWLCSA5H9j4",
        "outputId": "9faaa7b8-4cfe-47e5-b8c5-e548a44014b1"
      },
      "execution_count": 97,
      "outputs": [
        {
          "output_type": "stream",
          "name": "stdout",
          "text": [
            "['mean_fit_time', 'mean_score_time', 'mean_test_score', 'param_C', 'param_kernel', 'params', 'rank_test_score', 'split0_test_score', 'split1_test_score', 'split2_test_score', 'split3_test_score', 'split4_test_score', 'std_fit_time', 'std_score_time', 'std_test_score']\n",
            "SVR(C=97)\n",
            "coefficient of determination: 0.7791735441490721\n"
          ]
        }
      ]
    },
    {
      "cell_type": "code",
      "source": [
        ""
      ],
      "metadata": {
        "id": "smLE5Vb0NORf"
      },
      "execution_count": 104,
      "outputs": []
    },
    {
      "cell_type": "markdown",
      "source": [
        "Ephsilon permite que los elementos queden del lado equivocado del hiperplano\n",
        "C es el costo en la función objetivo por la distancia "
      ],
      "metadata": {
        "id": "1cN6vwDFX780"
      }
    },
    {
      "cell_type": "markdown",
      "source": [
        "[https://towardsdatascience.com/an-introduction-to-support-vector-regression-svr-a3ebc1672c2](https://towardsdatascience.com/an-introduction-to-support-vector-regression-svr-a3ebc1672c2)\n",
        "\n",
        "[Grid Search over C and Epsilon](https://github.com/tomsharp/SVR/blob/master/SVR.ipynb)\n",
        "\n",
        "https://scikit-learn.org/stable/modules/svm.html\n",
        "\n",
        "https://scikit-learn.org/stable/auto_examples/svm/plot_svm_regression.html\n",
        "\n",
        "https://medium.com/pursuitnotes/support-vector-regression-in-6-steps-with-python-c4569acd062d"
      ],
      "metadata": {
        "id": "BLLDXc_JDnU8"
      }
    }
  ]
}
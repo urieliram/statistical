{
  "nbformat": 4,
  "nbformat_minor": 0,
  "metadata": {
    "colab": {
      "name": "Tarea12.ipynb",
      "provenance": [],
      "authorship_tag": "ABX9TyOsGybAz+A/MR/IuAPOaONy",
      "include_colab_link": true
    },
    "kernelspec": {
      "name": "python3",
      "display_name": "Python 3"
    },
    "language_info": {
      "name": "python"
    }
  },
  "cells": [
    {
      "cell_type": "markdown",
      "metadata": {
        "id": "view-in-github",
        "colab_type": "text"
      },
      "source": [
        "<a href=\"https://colab.research.google.com/github/urieliram/statistical/blob/main/Tarea12.ipynb\" target=\"_parent\"><img src=\"https://colab.research.google.com/assets/colab-badge.svg\" alt=\"Open In Colab\"/></a>"
      ]
    },
    {
      "cell_type": "code",
      "execution_count": 283,
      "metadata": {
        "id": "v8_cSfUx2XNe"
      },
      "outputs": [],
      "source": [
        "import pandas as pd\n",
        "import numpy as np\n",
        "from sklearn.linear_model import LinearRegression\n",
        "from sklearn.metrics import mean_absolute_error,mean_squared_error,mean_absolute_percentage_error\n",
        "from sklearn import svm"
      ]
    },
    {
      "cell_type": "markdown",
      "source": [
        "Ahora, cargamos los datos de prueba en los arreglos `X_train` y `y_train`:"
      ],
      "metadata": {
        "id": "QIFkPnhf2XE2"
      }
    },
    {
      "cell_type": "code",
      "source": [
        "df    = pd.read_csv('demanda.csv')\n",
        "\n",
        "## Procesamos datos de entrenamiento \n",
        "dftrain = df.loc[df.iloc[:,20].isin(['T'])] ## 'T' = training set\n",
        "y_train = dftrain['Y'].to_numpy()  \n",
        "X_train = dftrain[['X0','X1','X2','X3','X4','X5','X6','X7','X8','X9','X10']].to_numpy() ## Regresores\n",
        "\n",
        "## Procesamos datos de prueba \n",
        "dftest = df.loc[df.iloc[:,20].isin(['F'])] ## 'F' = test set\n",
        "y_test = dftest['Y'].to_numpy()\n",
        "X_test = dftest[['X0','X1','X2','X3','X4','X5','X6','X7','X8','X9','X10']].to_numpy() ## Regresores"
      ],
      "metadata": {
        "id": "Av3SblC-tP7b"
      },
      "execution_count": 284,
      "outputs": []
    },
    {
      "cell_type": "code",
      "source": [
        "def trunc(values, decs=0):\n",
        "    return np.trunc(values*10**decs)/(10**decs)"
      ],
      "metadata": {
        "id": "e6QUTa0H-PNr"
      },
      "execution_count": 285,
      "outputs": []
    },
    {
      "cell_type": "code",
      "source": [
        "#https://scikit-learn.org/stable/modules/svm.html\n",
        "#https://scikit-learn.org/stable/auto_examples/svm/plot_svm_regression.html\n",
        "#https://medium.com/pursuitnotes/support-vector-regression-in-6-steps-with-python-c4569acd062d\n",
        "mae_svm = []; mse_svm = []; mape_svm = []; Clist = []\n",
        "for c in range(1, 100, 5):\n",
        "    print(c)\n",
        "    Clist.append(c)\n",
        "    model = svm.SVR(kernel='rbf', C=c)\n",
        "    model.fit(X_train, y_train)\n",
        "    #r_sq = model.score(X_test, y_test)\n",
        "    #print('coefficient of determination:', r_sq)\n",
        "    \n",
        "    y_pred = model.predict(X_test)\n",
        "    mae_svm.append(trunc(mean_absolute_error(y_test,y_pred),4))\n",
        "    mse_svm.append(trunc(mean_squared_error(y_test,y_pred),4))\n",
        "    mape_svm.append(trunc(mean_absolute_percentage_error(y_test,y_pred),4))"
      ],
      "metadata": {
        "colab": {
          "base_uri": "https://localhost:8080/"
        },
        "id": "8aLsSFFaIgh4",
        "outputId": "81683a5d-5522-4c97-f1dc-46599a7565f0"
      },
      "execution_count": 286,
      "outputs": [
        {
          "output_type": "stream",
          "name": "stdout",
          "text": [
            "1\n",
            "6\n",
            "11\n",
            "16\n",
            "21\n",
            "26\n",
            "31\n",
            "36\n",
            "41\n",
            "46\n",
            "51\n",
            "56\n",
            "61\n",
            "66\n",
            "71\n",
            "76\n",
            "81\n",
            "86\n",
            "91\n",
            "96\n"
          ]
        }
      ]
    },
    {
      "cell_type": "code",
      "source": [
        "model = LinearRegression()\n",
        "model.fit(X_train, y_train)\n",
        "r_sq = model.score(X_test, y_test)\n",
        "print('coefficient of determination:', r_sq)\n",
        "print('intercept:', model.intercept_)\n",
        "print('slope:', model.coef_)\n",
        "y_pred = model.predict(X_test)\n",
        "mae_rlm  = trunc(mean_absolute_error(y_test,y_pred),4)\n",
        "mse_rlm  = trunc(mean_squared_error(y_test,y_pred),4)\n",
        "mape_rlm = trunc(mean_absolute_percentage_error(y_test,y_pred),4)"
      ],
      "metadata": {
        "colab": {
          "base_uri": "https://localhost:8080/"
        },
        "id": "PsfJZWovDSrd",
        "outputId": "06ae7fd4-908e-49b8-b1d5-a6f83776814f"
      },
      "execution_count": 287,
      "outputs": [
        {
          "output_type": "stream",
          "name": "stdout",
          "text": [
            "coefficient of determination: 0.7459708965464427\n",
            "intercept: -665.3444836197305\n",
            "slope: [ 0.          0.28749465  0.29204618  0.25861088 -0.04431544 -0.14208937\n",
            " -0.02613895  0.18289727  0.33580077  0.06905434 -0.12973508]\n"
          ]
        }
      ]
    },
    {
      "cell_type": "code",
      "source": [
        "print('| REGRESIÓN      | C              | MAE            | MSD            | MAPE         |')\n",
        "print('| :------------- | :------------- | -------------: | -------------: |-------------:|')\n",
        "print('|    lineal      |         ',       0,'    |    ',str(mae_rlm),'  |    ',str(mse_rlm),'    |    ',str(mape_rlm),'|' )\n",
        "for i in range(len(Clist)):\n",
        "    print('|     SVM        |       ',  Clist[i]  ,'    |    ',str(mae_svm[i]),'   |    ',str(mse_svm[i]),'    |    ',str(mape_svm[i]),'|')\n"
      ],
      "metadata": {
        "colab": {
          "base_uri": "https://localhost:8080/"
        },
        "id": "UQ9goF7684fC",
        "outputId": "a065816b-14b7-41b7-e755-b2cc7e0e6b3e"
      },
      "execution_count": 288,
      "outputs": [
        {
          "output_type": "stream",
          "name": "stdout",
          "text": [
            "| REGRESIÓN      | C              | MAE            | MSD            | MAPE         |\n",
            "| :------------- | :------------- | -------------: | -------------: |-------------:|\n",
            "|    lineal      |          0     |     167.1343   |     48064.1398     |     0.0192 |\n",
            "|     SVM        |        1     |     359.7775    |     181254.7772     |     0.0411 |\n",
            "|     SVM        |        6     |     311.3866    |     138009.1064     |     0.0355 |\n",
            "|     SVM        |        11     |     267.6944    |     104984.6373     |     0.0303 |\n",
            "|     SVM        |        16     |     230.3449    |     79668.0998     |     0.026 |\n",
            "|     SVM        |        21     |     203.931    |     62997.5934     |     0.023 |\n",
            "|     SVM        |        26     |     182.3597    |     51066.8011     |     0.0205 |\n",
            "|     SVM        |        31     |     164.5616    |     43200.1875     |     0.0185 |\n",
            "|     SVM        |        36     |     155.4428    |     39762.4267     |     0.0175 |\n",
            "|     SVM        |        41     |     150.7878    |     38219.5619     |     0.017 |\n",
            "|     SVM        |        46     |     147.8847    |     37126.7779     |     0.0167 |\n",
            "|     SVM        |        51     |     147.6423    |     37112.7548     |     0.0167 |\n",
            "|     SVM        |        56     |     148.913    |     37715.5017     |     0.0168 |\n",
            "|     SVM        |        61     |     149.9819    |     38104.901     |     0.017 |\n",
            "|     SVM        |        66     |     151.7026    |     38900.4733     |     0.0172 |\n",
            "|     SVM        |        71     |     152.7993    |     39402.4362     |     0.0173 |\n",
            "|     SVM        |        76     |     154.3549    |     40125.9861     |     0.0175 |\n",
            "|     SVM        |        81     |     155.6018    |     40706.0937     |     0.0177 |\n",
            "|     SVM        |        86     |     155.4729    |     40680.2694     |     0.0177 |\n",
            "|     SVM        |        91     |     157.1839    |     41378.5688     |     0.0179 |\n",
            "|     SVM        |        96     |     158.0209    |     41752.5891     |     0.018 |\n"
          ]
        }
      ]
    }
  ]
}
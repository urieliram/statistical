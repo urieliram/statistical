{
  "nbformat": 4,
  "nbformat_minor": 0,
  "metadata": {
    "colab": {
      "name": "Tarea12.ipynb",
      "provenance": [],
      "authorship_tag": "ABX9TyPGzGsqCosS7nC4dINq00Xv",
      "include_colab_link": true
    },
    "kernelspec": {
      "name": "python3",
      "display_name": "Python 3"
    },
    "language_info": {
      "name": "python"
    }
  },
  "cells": [
    {
      "cell_type": "markdown",
      "metadata": {
        "id": "view-in-github",
        "colab_type": "text"
      },
      "source": [
        "<a href=\"https://colab.research.google.com/github/urieliram/statistical/blob/main/Tarea12.ipynb\" target=\"_parent\"><img src=\"https://colab.research.google.com/assets/colab-badge.svg\" alt=\"Open In Colab\"/></a>"
      ]
    },
    {
      "cell_type": "code",
      "execution_count": 297,
      "metadata": {
        "id": "v8_cSfUx2XNe"
      },
      "outputs": [],
      "source": [
        "import pandas as pd\n",
        "import numpy as np\n",
        "from sklearn.linear_model import LinearRegression\n",
        "from sklearn.metrics import mean_absolute_error,mean_squared_error,mean_absolute_percentage_error\n",
        "from sklearn import svm\n"
      ]
    },
    {
      "cell_type": "markdown",
      "source": [
        "Ahora, cargamos los datos de prueba en los arreglos `X_train` y `y_train`:"
      ],
      "metadata": {
        "id": "QIFkPnhf2XE2"
      }
    },
    {
      "cell_type": "code",
      "source": [
        "df    = pd.read_csv('demanda.csv')\n",
        "\n",
        "## Procesamos datos de entrenamiento \n",
        "dftrain = df.loc[df.iloc[:,20].isin(['T'])] ## 'T' = training set\n",
        "y_train = dftrain['Y'].to_numpy()  \n",
        "X_train = dftrain[['X0','X1','X2','X3','X4','X5','X6','X7','X8','X9','X10']].to_numpy() ## Regresores\n",
        "\n",
        "## Procesamos datos de prueba \n",
        "dftest = df.loc[df.iloc[:,20].isin(['F'])] ## 'F' = test set\n",
        "y_test = dftest['Y'].to_numpy()\n",
        "X_test = dftest[['X0','X1','X2','X3','X4','X5','X6','X7','X8','X9','X10']].to_numpy() ## Regresores"
      ],
      "metadata": {
        "id": "Av3SblC-tP7b"
      },
      "execution_count": 303,
      "outputs": []
    },
    {
      "cell_type": "code",
      "source": [
        "def trunc(values, decs=0):\n",
        "    return np.trunc(values*10**decs)/(10**decs)"
      ],
      "metadata": {
        "id": "e6QUTa0H-PNr"
      },
      "execution_count": 299,
      "outputs": []
    },
    {
      "cell_type": "code",
      "source": [
        "#https://scikit-learn.org/stable/modules/svm.html\n",
        "#https://scikit-learn.org/stable/auto_examples/svm/plot_svm_regression.html\n",
        "#https://medium.com/pursuitnotes/support-vector-regression-in-6-steps-with-python-c4569acd062d\n",
        "mae_svm = []; mse_svm = []; mape_svm = []; Clist = []\n",
        "for c in range(1, 100, 4):\n",
        "    Clist.append(c)\n",
        "    print(c)\n",
        "    model = svm.SVR(kernel='rbf', C=c)\n",
        "    model.fit(X_train, y_train)\n",
        "    #r_sq = model.score(X_test, y_test)\n",
        "    #print('coefficient of determination:', r_sq)\n",
        "    \n",
        "    y_pred = model.predict(X_test)\n",
        "    mae_svm.append(trunc(mean_absolute_error(y_test,y_pred),4))\n",
        "    mse_svm.append(trunc(mean_squared_error(y_test,y_pred),4))\n",
        "    mape_svm.append(trunc(mean_absolute_percentage_error(y_test,y_pred),4))"
      ],
      "metadata": {
        "id": "8aLsSFFaIgh4"
      },
      "execution_count": null,
      "outputs": []
    },
    {
      "cell_type": "code",
      "source": [
        "model = LinearRegression()\n",
        "model.fit(X_train, y_train)\n",
        "r_sq = model.score(X_test, y_test)\n",
        "print('coefficient of determination:', r_sq)\n",
        "print('intercept:', model.intercept_)\n",
        "print('slope:', model.coef_)\n",
        "y_pred = model.predict(X_test)\n",
        "mae_rlm  = trunc(mean_absolute_error(y_test,y_pred),4)\n",
        "mse_rlm  = trunc(mean_squared_error(y_test,y_pred),4)\n",
        "mape_rlm = trunc(mean_absolute_percentage_error(y_test,y_pred),4)"
      ],
      "metadata": {
        "colab": {
          "base_uri": "https://localhost:8080/"
        },
        "id": "PsfJZWovDSrd",
        "outputId": "6ced91c8-0e81-4902-d277-c44c152fbe1f"
      },
      "execution_count": 301,
      "outputs": [
        {
          "output_type": "stream",
          "name": "stdout",
          "text": [
            "coefficient of determination: 0.7459708965464427\n",
            "intercept: -665.3444836197305\n",
            "slope: [ 0.          0.28749465  0.29204618  0.25861088 -0.04431544 -0.14208937\n",
            " -0.02613895  0.18289727  0.33580077  0.06905434 -0.12973508]\n"
          ]
        }
      ]
    },
    {
      "cell_type": "code",
      "source": [
        "print('| REGRESIÓN      | C              | MAE            | MSD            | MAPE         |')\n",
        "print('| :------------- | :------------- | -------------: | -------------: |-------------:|')\n",
        "print('|    lineal      |         ',       0,'    |    ',str(mae_rlm),'  |    ',str(mse_rlm),'    |    ',str(mape_rlm),'|' )\n",
        "for i in range(len(Clist)):\n",
        "    print('|     SVM        |       ',  Clist[i]  ,'    |    ',str(mae_svm[i]),'   |    ',str(mse_svm[i]),'    |    ',str(mape_svm[i]),'|')\n"
      ],
      "metadata": {
        "colab": {
          "base_uri": "https://localhost:8080/"
        },
        "id": "UQ9goF7684fC",
        "outputId": "e015fcd4-d63f-4e04-d339-749b79f12d1f"
      },
      "execution_count": 302,
      "outputs": [
        {
          "output_type": "stream",
          "name": "stdout",
          "text": [
            "| REGRESIÓN      | C              | MAE            | MSD            | MAPE         |\n",
            "| :------------- | :------------- | -------------: | -------------: |-------------:|\n",
            "|    lineal      |          0     |     167.1343   |     48064.1398     |     0.0192 |\n",
            "|     SVM        |        1     |     359.7775    |     181254.7772     |     0.0411 |\n",
            "|     SVM        |        5     |     320.6393    |     145641.187     |     0.0366 |\n",
            "|     SVM        |        9     |     284.6851    |     117376.277     |     0.0323 |\n",
            "|     SVM        |        13     |     252.8958    |     94847.4314     |     0.0286 |\n",
            "|     SVM        |        17     |     223.7569    |     75391.666     |     0.0252 |\n",
            "|     SVM        |        21     |     203.931    |     62997.5934     |     0.023 |\n",
            "|     SVM        |        25     |     185.3293    |     52599.537     |     0.0209 |\n",
            "|     SVM        |        29     |     170.0756    |     45447.9205     |     0.0191 |\n",
            "|     SVM        |        33     |     160.565    |     41681.599     |     0.0181 |\n",
            "|     SVM        |        37     |     155.2496    |     39917.9198     |     0.0175 |\n",
            "|     SVM        |        41     |     150.7878    |     38219.5619     |     0.017 |\n",
            "|     SVM        |        45     |     148.2727    |     37288.6809     |     0.0167 |\n",
            "|     SVM        |        49     |     147.4329    |     36924.0524     |     0.0166 |\n",
            "|     SVM        |        53     |     148.0889    |     37318.5332     |     0.0167 |\n",
            "|     SVM        |        57     |     150.1887    |     38272.0555     |     0.017 |\n",
            "|     SVM        |        61     |     149.9819    |     38104.901     |     0.017 |\n",
            "|     SVM        |        65     |     151.7722    |     38928.5354     |     0.0172 |\n",
            "|     SVM        |        69     |     151.905    |     39000.1719     |     0.0172 |\n",
            "|     SVM        |        73     |     153.2716    |     39628.1337     |     0.0174 |\n",
            "|     SVM        |        77     |     154.8801    |     40367.9873     |     0.0176 |\n",
            "|     SVM        |        81     |     155.6018    |     40706.0937     |     0.0177 |\n",
            "|     SVM        |        85     |     155.3507    |     40622.5898     |     0.0177 |\n",
            "|     SVM        |        89     |     156.9852    |     41336.772     |     0.0179 |\n",
            "|     SVM        |        93     |     157.8825    |     41689.0205     |     0.018 |\n",
            "|     SVM        |        97     |     158.085    |     41781.9593     |     0.018 |\n"
          ]
        }
      ]
    },
    {
      "cell_type": "code",
      "source": [
        ""
      ],
      "metadata": {
        "id": "xVtnP2uwDnHj"
      },
      "execution_count": null,
      "outputs": []
    },
    {
      "cell_type": "markdown",
      "source": [
        "https://towardsdatascience.com/an-introduction-to-support-vector-regression-svr-a3ebc1672c2"
      ],
      "metadata": {
        "id": "BLLDXc_JDnU8"
      }
    }
  ]
}
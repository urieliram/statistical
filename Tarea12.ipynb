{
  "nbformat": 4,
  "nbformat_minor": 0,
  "metadata": {
    "colab": {
      "name": "Tarea12.ipynb",
      "provenance": [],
      "authorship_tag": "ABX9TyMbfJxn0YfmEZA2sjI2AK7D",
      "include_colab_link": true
    },
    "kernelspec": {
      "name": "python3",
      "display_name": "Python 3"
    },
    "language_info": {
      "name": "python"
    }
  },
  "cells": [
    {
      "cell_type": "markdown",
      "metadata": {
        "id": "view-in-github",
        "colab_type": "text"
      },
      "source": [
        "<a href=\"https://colab.research.google.com/github/urieliram/statistical/blob/main/Tarea12.ipynb\" target=\"_parent\"><img src=\"https://colab.research.google.com/assets/colab-badge.svg\" alt=\"Open In Colab\"/></a>"
      ]
    },
    {
      "cell_type": "code",
      "execution_count": 42,
      "metadata": {
        "id": "v8_cSfUx2XNe"
      },
      "outputs": [],
      "source": [
        "import numpy as np\n",
        "import pandas as pd"
      ]
    },
    {
      "cell_type": "code",
      "source": [
        "df  = pd.read_csv('minitest.csv')\n",
        "#df1 = df.iloc[:, [1,2,0]]\n",
        "\n",
        "#df1 = df.loc[df.iloc[:,19].isin(['T'])] ## 'T' = training set\n",
        "df1 = df.loc[(df['Y']>=3)] & df.loc[(df['X0']==0)]\n",
        "df1 = df1[['Y']]\n",
        "\n",
        "#df1 = df.loc[df.iloc[:,19].isin(['T'])] ## 'T' = training set\n",
        "\n",
        "#df2 = df1['Y']  \n",
        "#df1 = df1[['X1','X2','X3','X4','X5','X6','X7','X8','X9','X10']] ## Regresores#\n",
        "\n",
        "X   = pd.DataFrame(df[['X0','X1','X2','X3','X4']]).to_numpy()\n",
        "Y   = pd.DataFrame(df[['Y']]).to_numpy()"
      ],
      "metadata": {
        "id": "LMBVdQSX2iti"
      },
      "execution_count": 43,
      "outputs": []
    },
    {
      "cell_type": "code",
      "source": [
        "print(type(X))\n",
        "print(X)"
      ],
      "metadata": {
        "id": "e6QUTa0H-PNr",
        "outputId": "98fb57d1-0cf9-4883-fac4-50ddcd83f81e",
        "colab": {
          "base_uri": "https://localhost:8080/"
        }
      },
      "execution_count": 44,
      "outputs": [
        {
          "output_type": "stream",
          "name": "stdout",
          "text": [
            "<class 'numpy.ndarray'>\n",
            "[[ 1  4  4 16 16]\n",
            " [ 1 -1 -9  1 81]\n",
            " [ 1  6 -2 36  4]\n",
            " [ 1 -8  7 64 49]\n",
            " [ 1 -2  1  4  1]\n",
            " [ 1  7  3 49  9]\n",
            " [ 1 -9 -1 81  1]\n",
            " [ 1 -8  9 64 81]\n",
            " [ 1  4 -7 16 49]]\n"
          ]
        }
      ]
    },
    {
      "cell_type": "code",
      "source": [
        "#https://towardsdatascience.com/numpy-cheat-sheet-4e3858d0ff0e}\n",
        "X   = pd.DataFrame(df[['X0','X1','X2','X3','X4']]).to_numpy()\n",
        "Y   = pd.DataFrame(df[['Y']]).to_numpy()\n",
        "A = np.matmul(X.T, X)  # Multiplica dos matrices\n",
        "A = np.linalg.inv(A)   # Calcula inversa de A \n",
        "B = np.matmul(X.T,Y)\n",
        "beta = np.matmul(A,B)\n",
        "prediccion = np.matmul(X,beta)    \n",
        "print(prediccion)"
      ],
      "metadata": {
        "id": "XiwtL_WK_9Zb",
        "outputId": "d661900b-db7d-4013-cd28-f91022c5b351",
        "colab": {
          "base_uri": "https://localhost:8080/"
        }
      },
      "execution_count": 45,
      "outputs": [
        {
          "output_type": "stream",
          "name": "stdout",
          "text": [
            "[[4.54638371]\n",
            " [6.0085059 ]\n",
            " [6.18866689]\n",
            " [3.02076176]\n",
            " [3.78154498]\n",
            " [5.74605327]\n",
            " [4.27525042]\n",
            " [2.8380248 ]\n",
            " [6.59480827]]\n"
          ]
        }
      ]
    },
    {
      "cell_type": "code",
      "source": [
        "from sklearn.linear_model import LinearRegression\n",
        "\n",
        "model = LinearRegression()\n",
        "model.fit(X, Y)\n",
        "r_sq = model.score(X, Y)\n",
        "print('coefficient of determination:', r_sq)\n",
        "print('intercept:', model.intercept_)\n",
        "intercept: 5.633333333333329\n",
        "print('slope:', model.coef_)\n",
        "y_pred = model.predict(X)\n",
        "print('predicted response:', y_pred, sep='\\n')"
      ],
      "metadata": {
        "id": "PsfJZWovDSrd",
        "outputId": "ee5656a1-6f93-4932-b388-f2ac7768ac83",
        "colab": {
          "base_uri": "https://localhost:8080/"
        }
      },
      "execution_count": 46,
      "outputs": [
        {
          "output_type": "stream",
          "name": "stdout",
          "text": [
            "coefficient of determination: 0.3648848114133756\n",
            "intercept: [4.21227661]\n",
            "slope: [[ 0.          0.16642726 -0.17124379  0.01709362  0.00499221]]\n",
            "predicted response:\n",
            "[[4.54638371]\n",
            " [6.0085059 ]\n",
            " [6.18866689]\n",
            " [3.02076176]\n",
            " [3.78154498]\n",
            " [5.74605327]\n",
            " [4.27525042]\n",
            " [2.8380248 ]\n",
            " [6.59480827]]\n"
          ]
        }
      ]
    },
    {
      "cell_type": "code",
      "source": [
        "#https://scikit-learn.org/stable/modules/svm.html\n",
        "#https://scikit-learn.org/stable/auto_examples/svm/plot_svm_regression.html\n",
        "from sklearn import svm\n",
        "regr = svm.SVR()\n",
        "regr.fit(X, Y)\n",
        "regr.predict(X)"
      ],
      "metadata": {
        "id": "8aLsSFFaIgh4",
        "outputId": "ca4d0f1f-b62c-4c32-8d32-e3e47441c81e",
        "colab": {
          "base_uri": "https://localhost:8080/"
        }
      },
      "execution_count": 47,
      "outputs": [
        {
          "output_type": "stream",
          "name": "stderr",
          "text": [
            "/usr/local/lib/python3.7/dist-packages/sklearn/utils/validation.py:993: DataConversionWarning: A column-vector y was passed when a 1d array was expected. Please change the shape of y to (n_samples, ), for example using ravel().\n",
            "  y = column_or_1d(y, warn=True)\n"
          ]
        },
        {
          "output_type": "execute_result",
          "data": {
            "text/plain": [
              "array([4.6201865 , 4.89999999, 4.35957831, 3.91903191, 4.63619573,\n",
              "       4.26652356, 4.09999998, 3.64670873, 4.88017073])"
            ]
          },
          "metadata": {},
          "execution_count": 47
        }
      ]
    }
  ]
}
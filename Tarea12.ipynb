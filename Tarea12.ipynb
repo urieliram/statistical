{
  "nbformat": 4,
  "nbformat_minor": 0,
  "metadata": {
    "colab": {
      "name": "Tarea12.ipynb",
      "provenance": [],
      "authorship_tag": "ABX9TyPZ85GjPqNQ966DChpqgKbA",
      "include_colab_link": true
    },
    "kernelspec": {
      "name": "python3",
      "display_name": "Python 3"
    },
    "language_info": {
      "name": "python"
    }
  },
  "cells": [
    {
      "cell_type": "markdown",
      "metadata": {
        "id": "view-in-github",
        "colab_type": "text"
      },
      "source": [
        "<a href=\"https://colab.research.google.com/github/urieliram/statistical/blob/main/Tarea12.ipynb\" target=\"_parent\"><img src=\"https://colab.research.google.com/assets/colab-badge.svg\" alt=\"Open In Colab\"/></a>"
      ]
    },
    {
      "cell_type": "code",
      "execution_count": 51,
      "metadata": {
        "id": "v8_cSfUx2XNe"
      },
      "outputs": [],
      "source": [
        "import pandas as pd\n",
        "import numpy as np\n",
        "from sklearn.linear_model import LinearRegression\n",
        "from sklearn.metrics import mean_absolute_error,mean_squared_error,mean_absolute_percentage_error\n",
        "from sklearn import svm\n",
        "from sklearn.svm import LinearSVR\n",
        "from sklearn.model_selection import GridSearchCV\n",
        "from sklearn.metrics import mean_absolute_error\n",
        "\n",
        "import matplotlib.pyplot as plt\n"
      ]
    },
    {
      "cell_type": "markdown",
      "source": [
        "Ahora, cargamos los datos de prueba en los arreglos `X_train` y `y_train`:"
      ],
      "metadata": {
        "id": "QIFkPnhf2XE2"
      }
    },
    {
      "cell_type": "code",
      "source": [
        "df    = pd.read_csv('demanda.csv')\n",
        "\n",
        "## Procesamos datos de entrenamiento \n",
        "dftrain = df.loc[df.iloc[:,20].isin(['T'])] ## 'T' = training set\n",
        "y_train = dftrain['Y'].to_numpy()  \n",
        "X_train = dftrain[['X0','X1','X2','X3','X4','X5','X6','X7','X8','X9','X10']].to_numpy() ## Regresores\n",
        "\n",
        "## Procesamos datos de prueba \n",
        "dftest = df.loc[df.iloc[:,20].isin(['F'])] ## 'F' = test set\n",
        "y_test = dftest['Y'].to_numpy()\n",
        "X_test = dftest[['X0','X1','X2','X3','X4','X5','X6','X7','X8','X9','X10']].to_numpy() ## Regresores"
      ],
      "metadata": {
        "id": "Av3SblC-tP7b"
      },
      "execution_count": 52,
      "outputs": []
    },
    {
      "cell_type": "code",
      "source": [
        "def trunc(values, decs=0):\n",
        "    return np.trunc(values*10**decs)/(10**decs)"
      ],
      "metadata": {
        "id": "e6QUTa0H-PNr"
      },
      "execution_count": 53,
      "outputs": []
    },
    {
      "cell_type": "code",
      "source": [
        "model = LinearRegression()\n",
        "model.fit(X_train, y_train)\n",
        "r_sq = model.score(X_test, y_test)\n",
        "print('coefficient of determination:', r_sq)\n",
        "print('intercept:', model.intercept_)\n",
        "print('slope:', model.coef_)\n",
        "y_pred = model.predict(X_test)\n",
        "mae_rlm  = trunc(mean_absolute_error(y_test,y_pred),4)\n",
        "mse_rlm  = trunc(mean_squared_error(y_test,y_pred),4)\n",
        "mape_rlm = trunc(mean_absolute_percentage_error(y_test,y_pred),4)"
      ],
      "metadata": {
        "id": "PsfJZWovDSrd"
      },
      "execution_count": null,
      "outputs": []
    },
    {
      "cell_type": "code",
      "source": [
        "mae_svm = []; mse_svm = []; mape_svm = []; Clist = []; perc_within_eps_list = []\n",
        "epsilon = 20\n",
        "for c in range(1, 100, 1):\n",
        "    Clist.append(c)\n",
        "    model = svm.SVR(kernel='rbf', C=c, epsilon=epsilon)\n",
        "    model.fit(X_train, y_train)\n",
        "    r_sq = model.score(X_test, y_test)\n",
        "    print('coefficient of determination:', r_sq)\n",
        "    \n",
        "    y_pred = model.predict(X_test)\n",
        "    mae_svm.append(trunc(mean_absolute_error(y_test,y_pred),4))\n",
        "    mse_svm.append(trunc(mean_squared_error(y_test,y_pred),4))\n",
        "    mape_svm.append(trunc(mean_absolute_percentage_error(y_test,y_pred),4))\n",
        "    \n",
        "    perc_within_eps = 100*np.sum(abs(y_test-y_pred) <= epsilon) / len(y_test)\n",
        "    perc_within_eps_list.append(perc_within_eps)"
      ],
      "metadata": {
        "id": "8aLsSFFaIgh4"
      },
      "execution_count": null,
      "outputs": []
    },
    {
      "cell_type": "code",
      "source": [
        "print('| REGRESIÓN      | C              | MAE            | MSD            | MAPE         | % WITHIN EPSILON = ',epsilon,'       |')\n",
        "print('| :------------- | :------------- | -------------: | -------------: |-------------:|-------------:|')\n",
        "print('|    lineal      |         ',       0,'    |    ',str(mae_rlm),'  |    ',str(mse_rlm),'    |    ',str(mape_rlm),'|' )\n",
        "for i in range(len(Clist)):\n",
        "    print('|     SVM        |       ',  Clist[i]  ,'    |    ',str(mae_svm[i]),'   |    ',\n",
        "       str(mse_svm[i]),'    |    ',str(mape_svm[i]),'    |    ',str(perc_within_eps_list[i]),'|',)\n"
      ],
      "metadata": {
        "id": "UQ9goF7684fC"
      },
      "execution_count": null,
      "outputs": []
    },
    {
      "cell_type": "code",
      "source": [
        "fig, ax1 = plt.subplots(figsize=(12,7))\n",
        "\n",
        "color='green'\n",
        "ax1.set_xlabel('C')\n",
        "ax1.set_ylabel('% within Epsilon', color=color)\n",
        "ax1.scatter(Clist, perc_within_eps_list, color=color)\n",
        "ax1.tick_params(axis='y', labelcolor=color)\n",
        "\n",
        "color='blue'\n",
        "ax2 = ax1.twinx()  # instantiate a second axes that shares the same x-axis\n",
        "ax2.set_ylabel('Test MAE', color=color)  # we already handled the x-label with ax1\n",
        "ax2.scatter(Clist, mae_svm, color=color)\n",
        "ax2.tick_params(axis='y', labelcolor=color)\n",
        "\n",
        "\n",
        "plt.show()"
      ],
      "metadata": {
        "id": "Fc-YZgQjUk0W",
        "outputId": "236042b7-cf75-4030-9c26-d08a93edf241",
        "colab": {
          "base_uri": "https://localhost:8080/",
          "height": 442
        }
      },
      "execution_count": 73,
      "outputs": [
        {
          "output_type": "display_data",
          "data": {
            "text/plain": [
              "<Figure size 864x504 with 2 Axes>"
            ],
            "image/png": "[encoded data removed]"
          },
          "metadata": {
            "needs_background": "light"
          }
        }
      ]
    },
    {
      "cell_type": "code",
      "source": [
        "#https://scikit-learn.org/stable/modules/generated/sklearn.model_selection.GridSearchCV.html\n",
        "#https://github.com/tomsharp/SVR/blob/master/SVR.ipynb\n",
        "parameters = {'kernel':('linear', 'rbf'), 'C':Clist,} #'epsilon': np.linspace(1, 500)\n",
        "model = svm.SVR()\n",
        "clf   = GridSearchCV(model, parameters,scoring='neg_mean_absolute_error', cv=5)\n",
        "clf.fit(X_train, y_train)\n",
        "print(sorted(clf.cv_results_.keys()))\n",
        "print(clf.best_estimator_)\n",
        "model = clf.best_estimator_\n",
        "model.fit(X_train, y_train)\n",
        "\n",
        "r_sq = model.score(X_test, y_test)\n",
        "print('coefficient of determination:', r_sq)\n",
        "    \n",
        "y_pred = model.predict(X_test)"
      ],
      "metadata": {
        "colab": {
          "base_uri": "https://localhost:8080/"
        },
        "id": "HeWLCSA5H9j4",
        "outputId": "b69a2bbc-1048-4e93-9485-afe267f7881a"
      },
      "execution_count": 61,
      "outputs": [
        {
          "output_type": "stream",
          "name": "stdout",
          "text": [
            "['mean_fit_time', 'mean_score_time', 'mean_test_score', 'param_C', 'param_kernel', 'params', 'rank_test_score', 'split0_test_score', 'split1_test_score', 'split2_test_score', 'split3_test_score', 'split4_test_score', 'std_fit_time', 'std_score_time', 'std_test_score']\n",
            "SVR(C=54)\n",
            "coefficient of determination: 0.8002363165218531\n"
          ]
        }
      ]
    },
    {
      "cell_type": "code",
      "source": [
        ""
      ],
      "metadata": {
        "id": "smLE5Vb0NORf"
      },
      "execution_count": 31,
      "outputs": []
    },
    {
      "cell_type": "markdown",
      "source": [
        "[https://towardsdatascience.com/an-introduction-to-support-vector-regression-svr-a3ebc1672c2](https://towardsdatascience.com/an-introduction-to-support-vector-regression-svr-a3ebc1672c2)\n",
        "\n",
        "[Grid Search over C and Epsilon](https://github.com/tomsharp/SVR/blob/master/SVR.ipynb)\n",
        "\n",
        "https://scikit-learn.org/stable/modules/svm.html\n",
        "\n",
        "https://scikit-learn.org/stable/auto_examples/svm/plot_svm_regression.html\n",
        "\n",
        "https://medium.com/pursuitnotes/support-vector-regression-in-6-steps-with-python-c4569acd062d"
      ],
      "metadata": {
        "id": "BLLDXc_JDnU8"
      }
    }
  ]
}
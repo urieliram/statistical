{
  "nbformat": 4,
  "nbformat_minor": 0,
  "metadata": {
    "colab": {
      "name": "Tarea14.ipynb",
      "provenance": [],
      "authorship_tag": "ABX9TyO4Hztx50WJVeKiza4FHTC9",
      "include_colab_link": true
    },
    "kernelspec": {
      "name": "python3",
      "display_name": "Python 3"
    },
    "language_info": {
      "name": "python"
    }
  },
  "cells": [
    {
      "cell_type": "markdown",
      "metadata": {
        "id": "view-in-github",
        "colab_type": "text"
      },
      "source": [
        "<a href=\"https://colab.research.google.com/github/urieliram/statistical/blob/main/Tarea14.ipynb\" target=\"_parent\"><img src=\"https://colab.research.google.com/assets/colab-badge.svg\" alt=\"Open In Colab\"/></a>"
      ]
    },
    {
      "cell_type": "code",
      "execution_count": 51,
      "metadata": {
        "id": "WvFSSGaOH-y3"
      },
      "outputs": [],
      "source": [
        "import pandas as pd\n",
        "import numpy as np\n",
        "from sklearn import preprocessing\n",
        "from sklearn.decomposition import PCA\n",
        "import matplotlib.pyplot as plt"
      ]
    },
    {
      "cell_type": "code",
      "source": [
        "#https://drive.google.com/drive/folders/1Gj3XK9kM-lE18uBMe3qrZOGEm8yAI8i9\n",
        "#https://www.codegrepper.com/code-examples/python/how+to+read+csv+file+from+google+drive+on+google+colab+\n",
        "path         = 'https://drive.google.com/uc?export=download&id=' \n",
        "URL_EMBALSES = 'https://drive.google.com/file/d/1GJTg0J5W-061Dh8O4bNNCBiMpHwlCr9L/view?usp=sharing'\n",
        "df_EMBALSES  = pd.read_csv(path + URL_EMBALSES.split('/')[-2]) #, usecols=[0,1,4], names=['CLVUNI','TYPE','NODE']"
      ],
      "metadata": {
        "id": "4ykXCJd-JbO7"
      },
      "execution_count": 52,
      "outputs": []
    },
    {
      "cell_type": "code",
      "source": [
        "X = df_EMBALSES.to_numpy()\n",
        "scaler = preprocessing.StandardScaler().fit(X)\n",
        "X_scaled = scaler.transform(X)"
      ],
      "metadata": {
        "id": "Ikik4O25H_8T"
      },
      "execution_count": 53,
      "outputs": []
    },
    {
      "cell_type": "code",
      "source": [
        "CYAN = '#76ced6' ; LILA = '#777bd4'; VERDE='#17cb49'; LETRASNARA='#ff8000'; AZUL='#168fff'; OTROAZUL = \"b-\"; ROJO= \"r-\";\n",
        "def print_serie(serie_,title_,ytitle_,xtitle_,namefile_):\n",
        "    fig, ax1 = plt.subplots(figsize=(7,4))\n",
        "    plt.title(title_,fontsize='x-large',color=LETRASNARA)\n",
        "    ax1.set_xlabel(xtitle_, color=LETRASNARA, fontsize='large')\n",
        "    ax1.set_ylabel(ytitle_, color=LETRASNARA, fontsize='large')\n",
        "    plt.tick_params(colors = LETRASNARA, which='both')\n",
        "    ax1.spines['bottom'].set_color(LETRASNARA)\n",
        "    ax1.spines['top'   ].set_color(LETRASNARA) \n",
        "    ax1.spines['right' ].set_color(LETRASNARA)\n",
        "    ax1.spines['left'  ].set_color(LETRASNARA)    \n",
        "    plt.plot(pca_n.explained_variance_ratio_)\n",
        "    plt.savefig(namefile_, transparent=True)         \n",
        "    plt.show()"
      ],
      "metadata": {
        "id": "9AmHxqMRQixL"
      },
      "execution_count": 61,
      "outputs": []
    },
    {
      "cell_type": "code",
      "source": [
        "pca_n = PCA(n_components=14)\n",
        "pca_n.fit(X)\n",
        "x_pca_n = pca_n.transform(X)\n",
        "print(sum(pca_n.explained_variance_ratio_ * 100))\n",
        "print(pca_n.explained_variance_ratio_ * 100)\n",
        "print_serie(pca_n.explained_variance_ratio_,'PCA en.... \\n','Explicación de la varianza','Número de componentes','fig_t14__variance_pca')\n"
      ],
      "metadata": {
        "colab": {
          "base_uri": "https://localhost:8080/",
          "height": 403
        },
        "id": "AY-pi6pWNDAJ",
        "outputId": "d2504763-b0a7-4cca-a2af-de6881a5a8ce"
      },
      "execution_count": 64,
      "outputs": [
        {
          "output_type": "stream",
          "name": "stdout",
          "text": [
            "99.99999999999997\n",
            "[7.24653606e+01 1.03348283e+01 5.39070486e+00 3.05839934e+00\n",
            " 2.61913849e+00 1.73694960e+00 1.62113795e+00 1.21208977e+00\n",
            " 9.71673914e-01 3.55559090e-01 2.10996754e-01 2.28559165e-02\n",
            " 3.05493802e-04 4.48078293e-31]\n"
          ]
        },
        {
          "output_type": "display_data",
          "data": {
            "text/plain": [
              "<Figure size 504x288 with 1 Axes>"
            ],
            "image/png": "[encoded data removed]"
          },
          "metadata": {
            "needs_background": "dark"
          }
        }
      ]
    }
  ]
}
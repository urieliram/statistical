{
  "nbformat": 4,
  "nbformat_minor": 0,
  "metadata": {
    "colab": {
      "name": "Tarea14.ipynb",
      "provenance": [],
      "authorship_tag": "ABX9TyPTi5U1SmOovcXDgtgVpcc2",
      "include_colab_link": true
    },
    "kernelspec": {
      "name": "python3",
      "display_name": "Python 3"
    },
    "language_info": {
      "name": "python"
    }
  },
  "cells": [
    {
      "cell_type": "markdown",
      "metadata": {
        "id": "view-in-github",
        "colab_type": "text"
      },
      "source": [
        "<a href=\"https://colab.research.google.com/github/urieliram/statistical/blob/main/Tarea14.ipynb\" target=\"_parent\"><img src=\"https://colab.research.google.com/assets/colab-badge.svg\" alt=\"Open In Colab\"/></a>"
      ]
    },
    {
      "cell_type": "code",
      "execution_count": 43,
      "metadata": {
        "id": "WvFSSGaOH-y3"
      },
      "outputs": [],
      "source": [
        "import pandas as pd\n",
        "import numpy as np\n",
        "import matplotlib.pyplot as plt\n",
        "from sklearn.preprocessing import StandardScaler\n",
        "from sklearn.decomposition import PCA\n",
        "from sklearn.decomposition import FactorAnalysis"
      ]
    },
    {
      "cell_type": "code",
      "source": [
        "CYAN = '#76ced6' ; LILA = '#777bd4'; VERDE='#17cb49'; LETRASNARA='#ff8000'; AZUL='#168fff'; OTROAZUL = \"b-\"; ROJO= \"r-\";\n",
        "def print_serie(serie_,title_,ytitle_,xtitle_,namefile_):\n",
        "    fig, ax1 = plt.subplots(figsize=(7,4))\n",
        "    plt.title(title_,fontsize='x-large',color=LETRASNARA)\n",
        "    ax1.set_xlabel(xtitle_, color=LETRASNARA, fontsize='large')\n",
        "    ax1.set_ylabel(ytitle_, color=LETRASNARA, fontsize='large')\n",
        "    plt.tick_params(colors = LETRASNARA, which='both')\n",
        "    ax1.spines['bottom'].set_color(LETRASNARA)\n",
        "    ax1.spines['top'   ].set_color(LETRASNARA) \n",
        "    ax1.spines['right' ].set_color(LETRASNARA)\n",
        "    ax1.spines['left'  ].set_color(LETRASNARA)    \n",
        "    plt.plot(serie_)\n",
        "    plt.savefig(namefile_, transparent=True)         \n",
        "    plt.show()"
      ],
      "metadata": {
        "id": "9AmHxqMRQixL"
      },
      "execution_count": 44,
      "outputs": []
    },
    {
      "cell_type": "code",
      "source": [
        "#https://drive.google.com/drive/folders/1Gj3XK9kM-lE18uBMe3qrZOGEm8yAI8i9\n",
        "#https://www.codegrepper.com/code-examples/python/how+to+read+csv+file+from+google+drive+on+google+colab+\n",
        "path        = 'https://drive.google.com/uc?export=download&id=' \n",
        "URL_Eolicas = 'https://drive.google.com/file/d/1FNMdGkhjypcGTAtPeOfw12EuAolUJ4Fh/view?usp=sharing'\n",
        "df_Eolicas  = pd.read_csv(path + URL_Eolicas.split('/')[-2], usecols=[1,2,3,4,5,6,7,8,9,10,11,12,13,14,15,16,17,18,19,20,21,22,23,24,25,26,27,28,29,30,31,32,33,34,35] ) #names=['CLVUNI','TYPE','NODE'], usecols=[1,2,3,4,5,6,], 1,2,3,4,5,6,7,8,9,10,11,12,13,15,\n",
        "df_Eolicas.dropna(inplace=True)\n",
        "#df_Eolicas.head()\n"
      ],
      "metadata": {
        "id": "4ykXCJd-JbO7"
      },
      "execution_count": 45,
      "outputs": []
    },
    {
      "cell_type": "code",
      "source": [
        "X = df_Eolicas.to_numpy()\n",
        "X = StandardScaler().fit_transform(X)"
      ],
      "metadata": {
        "id": "Ikik4O25H_8T"
      },
      "execution_count": 49,
      "outputs": []
    },
    {
      "cell_type": "code",
      "source": [
        "#https://towardsdatascience.com/pca-using-python-scikit-learn-e653f8989e60\n",
        "pca = PCA(n_components = 18)\n",
        "pca.fit(X)\n",
        "x_pca = pca.transform(X)\n",
        "print(sum(pca.explained_variance_ratio_ * 100))\n",
        "print(pca.explained_variance_ratio_ * 100)\n",
        "print_serie(pca.explained_variance_ratio_,'PCA en parques eólicos  \\n','Explicación de la varianza','Número de componentes','fig_t14__variance_pca')\n",
        "print(pca)"
      ],
      "metadata": {
        "colab": {
          "base_uri": "https://localhost:8080/",
          "height": 403
        },
        "id": "AY-pi6pWNDAJ",
        "outputId": "8527925b-1649-4892-c709-d2c17472ab09"
      },
      "execution_count": 50,
      "outputs": [
        {
          "output_type": "stream",
          "name": "stdout",
          "text": [
            "98.22254930493403\n",
            "[63.84940499  7.8699575   4.280658    4.10565672  3.27489058  3.08194639\n",
            "  2.09368534  1.86504567  1.68343277  1.48438211  1.17112787  0.91234496\n",
            "  0.68270555  0.50650808  0.47474004  0.35448404  0.27982948  0.2517492 ]\n"
          ]
        },
        {
          "output_type": "display_data",
          "data": {
            "text/plain": [
              "<Figure size 504x288 with 1 Axes>"
            ],
            "image/png": "[encoded data removed]"
          },
          "metadata": {
            "needs_background": "dark"
          }
        },
        {
          "output_type": "stream",
          "name": "stdout",
          "text": [
            "PCA(n_components=18)\n"
          ]
        }
      ]
    },
    {
      "cell_type": "code",
      "source": [
        "#https://scikit-learn.org/stable/modules/generated/sklearn.decomposition.FactorAnalysis.html?highlight=factor%20analysis#\n",
        "factor = FactorAnalysis(n_components=30, random_state=0)\n",
        "X_factor = factor.fit_transform(X)\n",
        "X_factor.shape"
      ],
      "metadata": {
        "colab": {
          "base_uri": "https://localhost:8080/"
        },
        "id": "vbILwUQziFbY",
        "outputId": "db7cdd85-6595-4fa6-f23b-6305f7494288"
      },
      "execution_count": 48,
      "outputs": [
        {
          "output_type": "execute_result",
          "data": {
            "text/plain": [
              "(26346, 30)"
            ]
          },
          "metadata": {},
          "execution_count": 48
        }
      ]
    },
    {
      "cell_type": "markdown",
      "source": [
        "[link text](https://towardsdatascience.com/statistics-in-python-collinearity-and-multicollinearity-4cc4dcd82b3f)\n",
        "\n",
        "Análisis de componentes principales y Análisis factorial son métodos de reducción de dimensiones y su función es escoger un subconjunto de variables que expliquen la mayor varianza, es decir que representen en mayor medida los datos originales. Las variables eliminadas serán redundates con otras que llamaremos latentes o factores en el método de Analisis factorial o componentes en el PCA. "
      ],
      "metadata": {
        "id": "x63LnUyzxefx"
      }
    }
  ]
}
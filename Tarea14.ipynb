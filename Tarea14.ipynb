{
  "nbformat": 4,
  "nbformat_minor": 0,
  "metadata": {
    "colab": {
      "name": "Tarea14.ipynb",
      "provenance": [],
      "authorship_tag": "ABX9TyMvXXt/0GdmMGGuh+AOyt7D",
      "include_colab_link": true
    },
    "kernelspec": {
      "name": "python3",
      "display_name": "Python 3"
    },
    "language_info": {
      "name": "python"
    }
  },
  "cells": [
    {
      "cell_type": "markdown",
      "metadata": {
        "id": "view-in-github",
        "colab_type": "text"
      },
      "source": [
        "<a href=\"https://colab.research.google.com/github/urieliram/statistical/blob/main/Tarea14.ipynb\" target=\"_parent\"><img src=\"https://colab.research.google.com/assets/colab-badge.svg\" alt=\"Open In Colab\"/></a>"
      ]
    },
    {
      "cell_type": "code",
      "execution_count": 115,
      "metadata": {
        "id": "WvFSSGaOH-y3"
      },
      "outputs": [],
      "source": [
        "import pandas as pd\n",
        "import numpy as np\n",
        "import matplotlib.pyplot as plt\n",
        "from sklearn.preprocessing import StandardScaler\n",
        "from sklearn.decomposition import PCA\n",
        "from sklearn.decomposition import FactorAnalysis\n",
        "from matplotlib import pyplot as plt\n",
        "from scipy.cluster.hierarchy import dendrogram\n",
        "from sklearn.cluster import AgglomerativeClustering\n",
        "from sklearn.model_selection import train_test_split\n",
        "from sklearn.linear_model import LinearRegression\n",
        "\n",
        "import seaborn as sns\n",
        "import statsmodels.api as sm\n",
        "from statsmodels.stats.outliers_influence import variance_inflation_factor"
      ]
    },
    {
      "cell_type": "code",
      "source": [
        "pip install factor_analyzer"
      ],
      "metadata": {
        "colab": {
          "base_uri": "https://localhost:8080/"
        },
        "id": "V-r3FO1GQHMi",
        "outputId": "08ac99d4-0349-456a-b085-5654125a5462"
      },
      "execution_count": 116,
      "outputs": [
        {
          "output_type": "stream",
          "name": "stdout",
          "text": [
            "Requirement already satisfied: factor_analyzer in /usr/local/lib/python3.7/dist-packages (0.4.0)\n",
            "Requirement already satisfied: scikit-learn in /usr/local/lib/python3.7/dist-packages (from factor_analyzer) (1.0.2)\n",
            "Requirement already satisfied: pandas in /usr/local/lib/python3.7/dist-packages (from factor_analyzer) (1.3.5)\n",
            "Requirement already satisfied: scipy in /usr/local/lib/python3.7/dist-packages (from factor_analyzer) (1.4.1)\n",
            "Requirement already satisfied: numpy in /usr/local/lib/python3.7/dist-packages (from factor_analyzer) (1.21.6)\n",
            "Requirement already satisfied: pytz>=2017.3 in /usr/local/lib/python3.7/dist-packages (from pandas->factor_analyzer) (2022.1)\n",
            "Requirement already satisfied: python-dateutil>=2.7.3 in /usr/local/lib/python3.7/dist-packages (from pandas->factor_analyzer) (2.8.2)\n",
            "Requirement already satisfied: six>=1.5 in /usr/local/lib/python3.7/dist-packages (from python-dateutil>=2.7.3->pandas->factor_analyzer) (1.15.0)\n",
            "Requirement already satisfied: threadpoolctl>=2.0.0 in /usr/local/lib/python3.7/dist-packages (from scikit-learn->factor_analyzer) (3.1.0)\n",
            "Requirement already satisfied: joblib>=0.11 in /usr/local/lib/python3.7/dist-packages (from scikit-learn->factor_analyzer) (1.1.0)\n"
          ]
        }
      ]
    },
    {
      "cell_type": "code",
      "source": [
        "def scatterplot(X_,Y_,title_,namefile_ ):\n",
        "    fig, ax1 = plt.subplots(figsize=(4,4))\n",
        "    CYAN = '#76ced6' ; LILA = '#777bd4'; VERDE='#17cb49'; LETRASNARA ='#ff8000'; AZUL='#168fff'; OTROAZUL = \"b-\"; ROJO= \"r-\";\n",
        "    plt.title(title_,fontsize='x-large',color=LETRASNARA)\n",
        "    ax1.set_xlabel('Componente principal 1',  color=LETRASNARA, fontsize='large')\n",
        "    ax1.set_ylabel('Componente principal 2',  color=LETRASNARA, fontsize='large')\n",
        "    plt.scatter(X_, Y_, alpha=0.3)\n",
        "    plt.tick_params(colors = LETRASNARA, which='both')\n",
        "    ax1.spines['bottom'].set_color(LETRASNARA)\n",
        "    ax1.spines['top'   ].set_color(LETRASNARA) \n",
        "    ax1.spines['right' ].set_color(LETRASNARA)\n",
        "    ax1.spines['left'  ].set_color(LETRASNARA)\n",
        "    plt.savefig(namefile_, transparent=True)\n",
        "    plt.show()"
      ],
      "metadata": {
        "id": "7Y4p6PCRP877"
      },
      "execution_count": 117,
      "outputs": []
    },
    {
      "cell_type": "code",
      "source": [
        "CYAN = '#76ced6' ; LILA = '#777bd4'; VERDE='#17cb49'; LETRASNARA='#ff8000'; AZUL='#168fff'; OTROAZUL = \"b-\"; ROJO= \"r-\";\n",
        "def print_serie(serie_,title_,ytitle_,xtitle_,namefile_):\n",
        "    fig, ax1 = plt.subplots(figsize=(7,4))\n",
        "    plt.title(title_,fontsize='x-large',color=LETRASNARA)\n",
        "    ax1.set_xlabel(xtitle_, color=LETRASNARA, fontsize='large')\n",
        "    ax1.set_ylabel(ytitle_, color=LETRASNARA, fontsize='large')\n",
        "    plt.tick_params(colors = LETRASNARA, which='both')\n",
        "    ax1.spines['bottom'].set_color(LETRASNARA)\n",
        "    ax1.spines['top'   ].set_color(LETRASNARA) \n",
        "    ax1.spines['right' ].set_color(LETRASNARA)\n",
        "    ax1.spines['left'  ].set_color(LETRASNARA)    \n",
        "    plt.plot(serie_)\n",
        "    plt.savefig(namefile_, transparent=True)         \n",
        "    plt.show()"
      ],
      "metadata": {
        "id": "9AmHxqMRQixL"
      },
      "execution_count": 118,
      "outputs": []
    },
    {
      "cell_type": "code",
      "source": [
        "#https://drive.google.com/drive/folders/1Gj3XK9kM-lE18uBMe3qrZOGEm8yAI8i9\n",
        "#https://www.codegrepper.com/code-examples/python/how+to+read+csv+file+from+google+drive+on+google+colab+\n",
        "path        = 'https://drive.google.com/uc?export=download&id=' \n",
        "URL_Eolicas = 'https://drive.google.com/file/d/1FNMdGkhjypcGTAtPeOfw12EuAolUJ4Fh/view?usp=sharing'\n",
        "URL_Demanda = 'https://drive.google.com/file/d/1KpY2p4bfVEwGRh5tJjMx9QpH6SEwrUwH/view?usp=sharing'\n",
        "df = pd.read_csv(path + URL_Demanda.split('/')[-2], usecols=['X0','X1','X2','X3','X4','X5','X6','X7','X8','X9','X10','X11','X12','X13','X14','X15','X16','X17','X18','Y'] )\n",
        "dfx = df[['X0','X1','X2','X3','X4','X5','X6','X7','X8','X9','X10','X11','X12','X13','X14','X15','X16','X17','X18',]]\n",
        "dfy = df[['Y']]\n",
        "#dfx  = pd.read_csv(path + URL_Eolicas.split('/')[-2], usecols=[1,2,3,4,5,6,7,8,9,10,11,12,13,14,15,16,17,18,19,20,21,22,23,24,25,26,27,28,29,30,31,32,33,34,35] ) #names=['CLVUNI','TYPE','NODE'], usecols=[1,2,3,4,5,6,], 1,2,3,4,5,6,7,8,9,10,11,12,13,15,\n",
        "#dfx.dropna(inplace=True)\n",
        "#dfx = df.iloc[:1500, :]\n",
        "#dfx.head()"
      ],
      "metadata": {
        "id": "4ykXCJd-JbO7"
      },
      "execution_count": 119,
      "outputs": []
    },
    {
      "cell_type": "code",
      "source": [
        "X = dfx.to_numpy()\n",
        "y = dfy.to_numpy()\n",
        "X = StandardScaler().fit_transform(X)\n",
        "## Crea conjuntos de datos de entrenamiento y prueba\n",
        "X_train,X_test,y_train,y_test = train_test_split(X,y,test_size = 0.7, random_state = 5)"
      ],
      "metadata": {
        "id": "Ikik4O25H_8T"
      },
      "execution_count": 120,
      "outputs": []
    },
    {
      "cell_type": "code",
      "source": [
        "#sns.set_theme(style = \"ticks\")\n",
        "#sns.set(font_scale=1)\n",
        "#sns.pairplot( dfx.iloc[0:200, :] , height=1) "
      ],
      "metadata": {
        "id": "FR-8lSlZb1BK"
      },
      "execution_count": 121,
      "outputs": []
    },
    {
      "cell_type": "markdown",
      "source": [
        "### Análisis de componentes principales en Regresión\n",
        "\n",
        "Análisis de componentes principales es un métodos de reducción de dimensiones que puede ser usado paraescoger un subconjunto de variables que expliquen la mayor varianza, es decir que representen en mayor medida los datos originales. Las variables eliminadas serán redundates con otras. Además otras variables isntéticas llamadas latentes o componentes en el PCA pueden explicar partes importantes del fenómeno. El enfoque se basa en reducir el número de predictores a una dimensión más pequeña mediante el análisis de componentes principales. Estos componentes principales luego se utilizan como regresores al ajustar un nuevo modelo OLS."
      ],
      "metadata": {
        "id": "gY6alLtF5QxT"
      }
    },
    {
      "cell_type": "code",
      "source": [
        "#https://towardsdatascience.com/pca-using-python-scikit-learn-e653f8989e60\n",
        "pca = PCA(0.9999) \n",
        "pca.fit(X_train)\n",
        "X_pca = pca.transform(X_train)\n",
        "X_pcat = pca.transform(X_test)\n",
        "print(sum(pca.explained_variance_ratio_ * 100))\n",
        "print_serie(pca.explained_variance_ratio_,'PCA en regresores de demanda\\n','Explicación de la varianza','Número de componentes','fig_t14__variance_pca_9999per')"
      ],
      "metadata": {
        "colab": {
          "base_uri": "https://localhost:8080/",
          "height": 333
        },
        "id": "AY-pi6pWNDAJ",
        "outputId": "9648fa02-15c8-4ed8-86b1-0514c611ad89"
      },
      "execution_count": 122,
      "outputs": [
        {
          "output_type": "stream",
          "name": "stdout",
          "text": [
            "100.00000000000001\n"
          ]
        },
        {
          "output_type": "display_data",
          "data": {
            "text/plain": [
              "<Figure size 504x288 with 1 Axes>"
            ],
            "image/png": "[encoded data removed]"
          },
          "metadata": {
            "needs_background": "dark"
          }
        }
      ]
    },
    {
      "cell_type": "code",
      "source": [
        "pca.components_\n",
        "pca.n_components_\n",
        "pca.singular_values_"
      ],
      "metadata": {
        "colab": {
          "base_uri": "https://localhost:8080/"
        },
        "id": "5mmqz7R0wNrM",
        "outputId": "17b2c69c-2fb7-4524-89b8-354509434c52"
      },
      "execution_count": 123,
      "outputs": [
        {
          "output_type": "execute_result",
          "data": {
            "text/plain": [
              "array([50.24705368, 18.58794141,  7.01973703,  5.43557514,  4.73759517,\n",
              "        4.10603429,  3.7076992 ,  3.1959674 ,  3.07906039,  2.91354441,\n",
              "        2.75690543,  2.63678107,  2.51421084,  2.4006517 ,  2.20089014,\n",
              "        2.00369984,  1.96864571,  1.61975613])"
            ]
          },
          "metadata": {},
          "execution_count": 123
        }
      ]
    },
    {
      "cell_type": "markdown",
      "source": [
        "### Calculamos la regresión"
      ],
      "metadata": {
        "id": "GnnNWEcKdhhr"
      }
    },
    {
      "cell_type": "code",
      "source": [
        "model      = LinearRegression().fit(X_train[:, :], y_train)\n",
        "err1_mae = np.mean(np.abs(y_train - model.predict(X_train)))\n",
        "err1_mae_test = np.mean(np.abs(y_test - model.predict(X_test)))\n",
        "print(\"MAE del modelo de regresión con datos de entrenamiento con sklearn:\", err1_mae)\n",
        "print(\"MAE del modelo de regresión con datos de prueba con sklearn:\", err1_mae_test)\n",
        "\n",
        "# calculating VIF for each feature\n",
        "for i in range(X_train.shape[1]):\n",
        "    print(variance_inflation_factor(X_train,i))  "
      ],
      "metadata": {
        "colab": {
          "base_uri": "https://localhost:8080/"
        },
        "id": "hfrUDGW5c5Rm",
        "outputId": "60ae99c6-0d60-4ce4-c41a-4b94a3469dda"
      },
      "execution_count": 124,
      "outputs": [
        {
          "output_type": "stream",
          "name": "stdout",
          "text": [
            "MAE del modelo de regresión con datos de entrenamiento con sklearn: 102.03653229489723\n",
            "MAE del modelo de regresión con datos de prueba con sklearn: 131.86027342669107\n",
            "nan\n",
            "19.268815602047138\n",
            "25.900291272307413\n",
            "21.75005645732436\n",
            "31.3039369332227\n",
            "16.94503888144909\n",
            "23.182547018706778\n",
            "21.415405802141464\n",
            "32.21371857799564\n",
            "13.042998282179228\n",
            "19.990213915947887\n",
            "18.269618431784952\n",
            "9.088089141611725\n",
            "4.594616265979086\n",
            "33.45388030260464\n",
            "26.546509209585857\n",
            "31.938715377963362\n",
            "17.948772566166706\n",
            "21.219310770169713\n"
          ]
        },
        {
          "output_type": "stream",
          "name": "stderr",
          "text": [
            "/usr/local/lib/python3.7/dist-packages/statsmodels/regression/linear_model.py:1638: RuntimeWarning: invalid value encountered in double_scalars\n",
            "  return 1 - self.ssr/self.uncentered_tss\n"
          ]
        }
      ]
    },
    {
      "cell_type": "code",
      "source": [
        "linreg_model      = LinearRegression().fit(X_pca[:, :], y_train)\n",
        "err2_mae = np.mean(np.abs(y_train - linreg_model.predict(X_pca)))\n",
        "err2_mae_test = np.mean(np.abs(y_test - linreg_model.predict(X_pcat)))\n",
        "print(\"MAE del modelo de regresión con datos de entrenamiento con sklearn:\", err2_mae)\n",
        "print(\"MAE del modelo de regresión con datos de prueba con sklearn:\", err2_mae_test)\n",
        "\n",
        "# calculating VIF for each feature\n",
        "for i in range(X_pcat.shape[1]):\n",
        "    print(variance_inflation_factor(X_pcat,i))  "
      ],
      "metadata": {
        "colab": {
          "base_uri": "https://localhost:8080/"
        },
        "id": "Y6DCKHYghhZ7",
        "outputId": "0b8a8554-aab8-4398-db47-e2910c1cc06c"
      },
      "execution_count": 125,
      "outputs": [
        {
          "output_type": "stream",
          "name": "stdout",
          "text": [
            "MAE del modelo de regresión con datos de entrenamiento con sklearn: 102.03653229489727\n",
            "MAE del modelo de regresión con datos de prueba con sklearn: 131.86027342669115\n",
            "1.0916455582847158\n",
            "1.0601004320461906\n",
            "1.1168117876529722\n",
            "1.1457894613708417\n",
            "1.1523412120435788\n",
            "1.1536215578353162\n",
            "1.1491477461449198\n",
            "1.0731741487998225\n",
            "1.1136973711933749\n",
            "1.0868154380237036\n",
            "1.0707778739647433\n",
            "1.1465545728928228\n",
            "1.1145628898435251\n",
            "1.0872008821946384\n",
            "1.1077344674401515\n",
            "1.1459797454302063\n",
            "1.08919860941622\n",
            "1.0832319910231567\n"
          ]
        }
      ]
    },
    {
      "cell_type": "code",
      "source": [
        "pca = PCA(0.98) \n",
        "pca.fit(X_train)\n",
        "X_pca = pca.transform(X_train)\n",
        "X_pcat = pca.transform(X_test)\n",
        "print(sum(pca.explained_variance_ratio_ * 100))\n",
        "print_serie(pca.explained_variance_ratio_,'PCA en regresores de demanda\\n','Explicación de la varianza','Número de componentes','fig_t14_variance_pca2_98perc')"
      ],
      "metadata": {
        "colab": {
          "base_uri": "https://localhost:8080/",
          "height": 333
        },
        "id": "5Za5E_-ZoTbb",
        "outputId": "6e1ddcb4-c5a3-4699-ec0c-aea869c054a3"
      },
      "execution_count": 126,
      "outputs": [
        {
          "output_type": "stream",
          "name": "stdout",
          "text": [
            "98.0482312476889\n"
          ]
        },
        {
          "output_type": "display_data",
          "data": {
            "text/plain": [
              "<Figure size 504x288 with 1 Axes>"
            ],
            "image/png": "[encoded data removed]"
          },
          "metadata": {
            "needs_background": "dark"
          }
        }
      ]
    },
    {
      "cell_type": "code",
      "source": [
        "linreg_model  = LinearRegression().fit(X_pca[:, :], y_train)\n",
        "err3_mae      = np.mean(np.abs(y_train - linreg_model.predict(X_pca)))\n",
        "err3_mae_test = np.mean(np.abs(y_test - linreg_model.predict(X_pcat)))\n",
        "print(\"MAE del modelo de regresión con datos de entrenamiento con sklearn:\", err3_mae)\n",
        "print(\"MAE del modelo de regresión con datos de prueba con sklearn:\", err3_mae_test)\n",
        "\n",
        "# calculating VIF for each feature\n",
        "for i in range(X_pcat.shape[1]):\n",
        "    print(variance_inflation_factor(X_pcat,i)) "
      ],
      "metadata": {
        "colab": {
          "base_uri": "https://localhost:8080/"
        },
        "id": "U78wjVU4ocjK",
        "outputId": "53af5283-3213-434d-cca5-4ede6508773b"
      },
      "execution_count": 127,
      "outputs": [
        {
          "output_type": "stream",
          "name": "stdout",
          "text": [
            "MAE del modelo de regresión con datos de entrenamiento con sklearn: 111.79413703293265\n",
            "MAE del modelo de regresión con datos de prueba con sklearn: 130.55280746630132\n",
            "1.0202126662701723\n",
            "1.0309617986088888\n",
            "1.0433254564831038\n",
            "1.0802131687107597\n",
            "1.0239019535969995\n",
            "1.0637878942632697\n",
            "1.0605053887139235\n",
            "1.0088605587066386\n"
          ]
        }
      ]
    },
    {
      "cell_type": "code",
      "source": [
        "#sns.set_theme(style = \"ticks\")\n",
        "#sns.set(font_scale=1)\n",
        "#sns.pairplot(pd.DataFrame(X_pcat).iloc[0:200, :], height=1.5)"
      ],
      "metadata": {
        "id": "zzOJnwUCipy5"
      },
      "execution_count": 128,
      "outputs": []
    },
    {
      "cell_type": "code",
      "source": [
        "#sns.set_theme(style = \"ticks\")\n",
        "#sns.set(font_scale=1)\n",
        "#sns.pairplot(pd.DataFrame(X_pca).iloc[0:200, :], height=1.5)"
      ],
      "metadata": {
        "id": "VtrYK6ECZGIh"
      },
      "execution_count": 129,
      "outputs": []
    },
    {
      "cell_type": "markdown",
      "source": [
        "### PCA from Scratch"
      ],
      "metadata": {
        "id": "7y2wA3uidgvB"
      }
    },
    {
      "cell_type": "code",
      "source": [
        "def PCAfromScratch(X , num_components):     \n",
        "    X_meaned = X - np.mean(X , axis = 0)     \n",
        "    cov_mat = np.cov(X_meaned , rowvar = False)\n",
        "    eigen_values , eigen_vectors = np.linalg.eigh(cov_mat)\n",
        "    idx                 = np.argsort(eigen_values)[::-1]\n",
        "    print(idx)\n",
        "    sorted_eigenvalue   = eigen_values[idx]\n",
        "    sorted_eigenvectors = eigen_vectors[:,idx]\n",
        "    eigenvector_subset = sorted_eigenvectors[:,0:num_components]\n",
        "    X_reduced = np.dot(eigenvector_subset.transpose() , X_meaned.transpose() ).transpose()\n",
        "    return X_reduced, eigen_values, "
      ],
      "metadata": {
        "id": "t_Wk5eKR51Om"
      },
      "execution_count": 130,
      "outputs": []
    },
    {
      "cell_type": "code",
      "source": [
        "#Applying it to PCA function\n",
        "mat_reduced ,eigen_values, = PCAfromScratch(X , 12)\n",
        " \n",
        "#Creating a Pandas DataFrame of reduced Dataset\n",
        "principal_df = pd.DataFrame(mat_reduced)\n",
        "principal_df\n"
      ],
      "metadata": {
        "colab": {
          "base_uri": "https://localhost:8080/",
          "height": 441
        },
        "id": "kdi3GoyK55sp",
        "outputId": "8d1d3845-4139-4216-c0f9-418842cbfffd"
      },
      "execution_count": 131,
      "outputs": [
        {
          "output_type": "stream",
          "name": "stdout",
          "text": [
            "[18 17 16 15 14 13 12 11 10  9  8  7  6  5  4  3  2  1  0]\n"
          ]
        },
        {
          "output_type": "execute_result",
          "data": {
            "text/plain": [
              "           0         1         2         3         4         5         6   \\\n",
              "0   -0.598026  0.912949  0.752409  0.713978  0.022649 -0.007495 -0.022037   \n",
              "1   -0.742100  1.015275  0.689037  0.904083 -0.021475  0.023846 -0.203283   \n",
              "2   -0.983421  0.867777  0.551197  0.949123 -0.049680  0.043048 -0.055927   \n",
              "3   -1.190426  0.877608  0.543978  0.644281 -0.058860 -0.090205  0.152465   \n",
              "4   -1.079222  0.979436  0.564403  0.453363 -0.192928 -0.302365  0.128677   \n",
              "..        ...       ...       ...       ...       ...       ...       ...   \n",
              "571 -1.942460 -1.219012  1.255551 -0.971341  0.873665  0.084815 -0.005489   \n",
              "572 -1.764630 -1.300275  1.371033 -0.901983  0.898811  0.033585 -0.093054   \n",
              "573 -1.842400 -1.184668  1.008705 -0.967553  0.841579 -0.035729  0.002416   \n",
              "574 -2.015825 -1.259498  0.698565 -0.957936  0.505677 -0.024229  0.080122   \n",
              "575 -2.068561 -1.205344  0.660289 -0.950084  0.169685 -0.054955  0.140031   \n",
              "\n",
              "           7         8         9         10        11  \n",
              "0    0.318160 -0.303551  0.255477  0.108072  0.135600  \n",
              "1    0.121392 -0.155629  0.452719  0.126879  0.322789  \n",
              "2    0.084769  0.131396  0.298376  0.029264  0.252983  \n",
              "3    0.025415  0.104236 -0.136131 -0.071127  0.100298  \n",
              "4   -0.359147 -0.002343 -0.311500 -0.085790  0.223305  \n",
              "..        ...       ...       ...       ...       ...  \n",
              "571  0.255370 -0.123108  0.110559  0.072428  0.225521  \n",
              "572  0.276018  0.051745  0.083899  0.181996  0.118326  \n",
              "573  0.111566  0.261457 -0.050768  0.064735  0.209580  \n",
              "574 -0.152605  0.380927  0.003499 -0.184958  0.381979  \n",
              "575 -0.387337  0.360278 -0.015728 -0.225439  0.244649  \n",
              "\n",
              "[576 rows x 12 columns]"
            ],
            "text/html": [
              "\n",
              "  <div id=\"df-5d25d05e-3181-4b1a-a321-8d57ff9720e8\">\n",
              "    <div class=\"colab-df-container\">\n",
              "      <div>\n",
              "<style scoped>\n",
              "    .dataframe tbody tr th:only-of-type {\n",
              "        vertical-align: middle;\n",
              "    }\n",
              "\n",
              "    .dataframe tbody tr th {\n",
              "        vertical-align: top;\n",
              "    }\n",
              "\n",
              "    .dataframe thead th {\n",
              "        text-align: right;\n",
              "    }\n",
              "</style>\n",
              "<table border=\"1\" class=\"dataframe\">\n",
              "  <thead>\n",
              "    <tr style=\"text-align: right;\">\n",
              "      <th></th>\n",
              "      <th>0</th>\n",
              "      <th>1</th>\n",
              "      <th>2</th>\n",
              "      <th>3</th>\n",
              "      <th>4</th>\n",
              "      <th>5</th>\n",
              "      <th>6</th>\n",
              "      <th>7</th>\n",
              "      <th>8</th>\n",
              "      <th>9</th>\n",
              "      <th>10</th>\n",
              "      <th>11</th>\n",
              "    </tr>\n",
              "  </thead>\n",
              "  <tbody>\n",
              "    <tr>\n",
              "      <th>0</th>\n",
              "      <td>-0.598026</td>\n",
              "      <td>0.912949</td>\n",
              "      <td>0.752409</td>\n",
              "      <td>0.713978</td>\n",
              "      <td>0.022649</td>\n",
              "      <td>-0.007495</td>\n",
              "      <td>-0.022037</td>\n",
              "      <td>0.318160</td>\n",
              "      <td>-0.303551</td>\n",
              "      <td>0.255477</td>\n",
              "      <td>0.108072</td>\n",
              "      <td>0.135600</td>\n",
              "    </tr>\n",
              "    <tr>\n",
              "      <th>1</th>\n",
              "      <td>-0.742100</td>\n",
              "      <td>1.015275</td>\n",
              "      <td>0.689037</td>\n",
              "      <td>0.904083</td>\n",
              "      <td>-0.021475</td>\n",
              "      <td>0.023846</td>\n",
              "      <td>-0.203283</td>\n",
              "      <td>0.121392</td>\n",
              "      <td>-0.155629</td>\n",
              "      <td>0.452719</td>\n",
              "      <td>0.126879</td>\n",
              "      <td>0.322789</td>\n",
              "    </tr>\n",
              "    <tr>\n",
              "      <th>2</th>\n",
              "      <td>-0.983421</td>\n",
              "      <td>0.867777</td>\n",
              "      <td>0.551197</td>\n",
              "      <td>0.949123</td>\n",
              "      <td>-0.049680</td>\n",
              "      <td>0.043048</td>\n",
              "      <td>-0.055927</td>\n",
              "      <td>0.084769</td>\n",
              "      <td>0.131396</td>\n",
              "      <td>0.298376</td>\n",
              "      <td>0.029264</td>\n",
              "      <td>0.252983</td>\n",
              "    </tr>\n",
              "    <tr>\n",
              "      <th>3</th>\n",
              "      <td>-1.190426</td>\n",
              "      <td>0.877608</td>\n",
              "      <td>0.543978</td>\n",
              "      <td>0.644281</td>\n",
              "      <td>-0.058860</td>\n",
              "      <td>-0.090205</td>\n",
              "      <td>0.152465</td>\n",
              "      <td>0.025415</td>\n",
              "      <td>0.104236</td>\n",
              "      <td>-0.136131</td>\n",
              "      <td>-0.071127</td>\n",
              "      <td>0.100298</td>\n",
              "    </tr>\n",
              "    <tr>\n",
              "      <th>4</th>\n",
              "      <td>-1.079222</td>\n",
              "      <td>0.979436</td>\n",
              "      <td>0.564403</td>\n",
              "      <td>0.453363</td>\n",
              "      <td>-0.192928</td>\n",
              "      <td>-0.302365</td>\n",
              "      <td>0.128677</td>\n",
              "      <td>-0.359147</td>\n",
              "      <td>-0.002343</td>\n",
              "      <td>-0.311500</td>\n",
              "      <td>-0.085790</td>\n",
              "      <td>0.223305</td>\n",
              "    </tr>\n",
              "    <tr>\n",
              "      <th>...</th>\n",
              "      <td>...</td>\n",
              "      <td>...</td>\n",
              "      <td>...</td>\n",
              "      <td>...</td>\n",
              "      <td>...</td>\n",
              "      <td>...</td>\n",
              "      <td>...</td>\n",
              "      <td>...</td>\n",
              "      <td>...</td>\n",
              "      <td>...</td>\n",
              "      <td>...</td>\n",
              "      <td>...</td>\n",
              "    </tr>\n",
              "    <tr>\n",
              "      <th>571</th>\n",
              "      <td>-1.942460</td>\n",
              "      <td>-1.219012</td>\n",
              "      <td>1.255551</td>\n",
              "      <td>-0.971341</td>\n",
              "      <td>0.873665</td>\n",
              "      <td>0.084815</td>\n",
              "      <td>-0.005489</td>\n",
              "      <td>0.255370</td>\n",
              "      <td>-0.123108</td>\n",
              "      <td>0.110559</td>\n",
              "      <td>0.072428</td>\n",
              "      <td>0.225521</td>\n",
              "    </tr>\n",
              "    <tr>\n",
              "      <th>572</th>\n",
              "      <td>-1.764630</td>\n",
              "      <td>-1.300275</td>\n",
              "      <td>1.371033</td>\n",
              "      <td>-0.901983</td>\n",
              "      <td>0.898811</td>\n",
              "      <td>0.033585</td>\n",
              "      <td>-0.093054</td>\n",
              "      <td>0.276018</td>\n",
              "      <td>0.051745</td>\n",
              "      <td>0.083899</td>\n",
              "      <td>0.181996</td>\n",
              "      <td>0.118326</td>\n",
              "    </tr>\n",
              "    <tr>\n",
              "      <th>573</th>\n",
              "      <td>-1.842400</td>\n",
              "      <td>-1.184668</td>\n",
              "      <td>1.008705</td>\n",
              "      <td>-0.967553</td>\n",
              "      <td>0.841579</td>\n",
              "      <td>-0.035729</td>\n",
              "      <td>0.002416</td>\n",
              "      <td>0.111566</td>\n",
              "      <td>0.261457</td>\n",
              "      <td>-0.050768</td>\n",
              "      <td>0.064735</td>\n",
              "      <td>0.209580</td>\n",
              "    </tr>\n",
              "    <tr>\n",
              "      <th>574</th>\n",
              "      <td>-2.015825</td>\n",
              "      <td>-1.259498</td>\n",
              "      <td>0.698565</td>\n",
              "      <td>-0.957936</td>\n",
              "      <td>0.505677</td>\n",
              "      <td>-0.024229</td>\n",
              "      <td>0.080122</td>\n",
              "      <td>-0.152605</td>\n",
              "      <td>0.380927</td>\n",
              "      <td>0.003499</td>\n",
              "      <td>-0.184958</td>\n",
              "      <td>0.381979</td>\n",
              "    </tr>\n",
              "    <tr>\n",
              "      <th>575</th>\n",
              "      <td>-2.068561</td>\n",
              "      <td>-1.205344</td>\n",
              "      <td>0.660289</td>\n",
              "      <td>-0.950084</td>\n",
              "      <td>0.169685</td>\n",
              "      <td>-0.054955</td>\n",
              "      <td>0.140031</td>\n",
              "      <td>-0.387337</td>\n",
              "      <td>0.360278</td>\n",
              "      <td>-0.015728</td>\n",
              "      <td>-0.225439</td>\n",
              "      <td>0.244649</td>\n",
              "    </tr>\n",
              "  </tbody>\n",
              "</table>\n",
              "<p>576 rows × 12 columns</p>\n",
              "</div>\n",
              "      <button class=\"colab-df-convert\" onclick=\"convertToInteractive('df-5d25d05e-3181-4b1a-a321-8d57ff9720e8')\"\n",
              "              title=\"Convert this dataframe to an interactive table.\"\n",
              "              style=\"display:none;\">\n",
              "        \n",
              "  <svg xmlns=\"http://www.w3.org/2000/svg\" height=\"24px\"viewBox=\"0 0 24 24\"\n",
              "       width=\"24px\">\n",
              "    <path d=\"M0 0h24v24H0V0z\" fill=\"none\"/>\n",
              "    <path d=\"M18.56 5.44l.94 2.06.94-2.06 2.06-.94-2.06-.94-.94-2.06-.94 2.06-2.06.94zm-11 1L8.5 8.5l.94-2.06 2.06-.94-2.06-.94L8.5 2.5l-.94 2.06-2.06.94zm10 10l.94 2.06.94-2.06 2.06-.94-2.06-.94-.94-2.06-.94 2.06-2.06.94z\"/><path d=\"M17.41 7.96l-1.37-1.37c-.4-.4-.92-.59-1.43-.59-.52 0-1.04.2-1.43.59L10.3 9.45l-7.72 7.72c-.78.78-.78 2.05 0 2.83L4 21.41c.39.39.9.59 1.41.59.51 0 1.02-.2 1.41-.59l7.78-7.78 2.81-2.81c.8-.78.8-2.07 0-2.86zM5.41 20L4 18.59l7.72-7.72 1.47 1.35L5.41 20z\"/>\n",
              "  </svg>\n",
              "      </button>\n",
              "      \n",
              "  <style>\n",
              "    .colab-df-container {\n",
              "      display:flex;\n",
              "      flex-wrap:wrap;\n",
              "      gap: 12px;\n",
              "    }\n",
              "\n",
              "    .colab-df-convert {\n",
              "      background-color: #E8F0FE;\n",
              "      border: none;\n",
              "      border-radius: 50%;\n",
              "      cursor: pointer;\n",
              "      display: none;\n",
              "      fill: #1967D2;\n",
              "      height: 32px;\n",
              "      padding: 0 0 0 0;\n",
              "      width: 32px;\n",
              "    }\n",
              "\n",
              "    .colab-df-convert:hover {\n",
              "      background-color: #E2EBFA;\n",
              "      box-shadow: 0px 1px 2px rgba(60, 64, 67, 0.3), 0px 1px 3px 1px rgba(60, 64, 67, 0.15);\n",
              "      fill: #174EA6;\n",
              "    }\n",
              "\n",
              "    [theme=dark] .colab-df-convert {\n",
              "      background-color: #3B4455;\n",
              "      fill: #D2E3FC;\n",
              "    }\n",
              "\n",
              "    [theme=dark] .colab-df-convert:hover {\n",
              "      background-color: #434B5C;\n",
              "      box-shadow: 0px 1px 3px 1px rgba(0, 0, 0, 0.15);\n",
              "      filter: drop-shadow(0px 1px 2px rgba(0, 0, 0, 0.3));\n",
              "      fill: #FFFFFF;\n",
              "    }\n",
              "  </style>\n",
              "\n",
              "      <script>\n",
              "        const buttonEl =\n",
              "          document.querySelector('#df-5d25d05e-3181-4b1a-a321-8d57ff9720e8 button.colab-df-convert');\n",
              "        buttonEl.style.display =\n",
              "          google.colab.kernel.accessAllowed ? 'block' : 'none';\n",
              "\n",
              "        async function convertToInteractive(key) {\n",
              "          const element = document.querySelector('#df-5d25d05e-3181-4b1a-a321-8d57ff9720e8');\n",
              "          const dataTable =\n",
              "            await google.colab.kernel.invokeFunction('convertToInteractive',\n",
              "                                                     [key], {});\n",
              "          if (!dataTable) return;\n",
              "\n",
              "          const docLinkHtml = 'Like what you see? Visit the ' +\n",
              "            '<a target=\"_blank\" href=https://colab.research.google.com/notebooks/data_table.ipynb>data table notebook</a>'\n",
              "            + ' to learn more about interactive tables.';\n",
              "          element.innerHTML = '';\n",
              "          dataTable['output_type'] = 'display_data';\n",
              "          await google.colab.output.renderOutput(dataTable, element);\n",
              "          const docLink = document.createElement('div');\n",
              "          docLink.innerHTML = docLinkHtml;\n",
              "          element.appendChild(docLink);\n",
              "        }\n",
              "      </script>\n",
              "    </div>\n",
              "  </div>\n",
              "  "
            ]
          },
          "metadata": {},
          "execution_count": 131
        }
      ]
    },
    {
      "cell_type": "markdown",
      "source": [
        "[Eliminar multicolinealidad con PCA](https://medium.com/@awabmohammedomer/principal-component-analysis-pca-in-python-6897664f97d6#:~:text=PCA%20aims%20to%20reduce%20dimensionality,original%20data%20with%20less%20noise.)\n",
        "\n",
        "\n",
        "[collinearity-and-multicollinearity](https://towardsdatascience.com/statistics-in-python-collinearity-and-multicollinearity-4cc4dcd82b3f)\n",
        "\n",
        "[Dimension Reduction: Principal Components and Partial Least Squares Regression](https://www.datasklr.com/extensions-of-ols-regression/dimension-reduction-principal-components-regression)"
      ],
      "metadata": {
        "id": "Eu2m_VR6T4Jj"
      }
    },
    {
      "cell_type": "markdown",
      "source": [
        "En términos de variables aleatorias, podemos interpretar las descomposición de valores singulares (SVD) o el correspondiente análisis de componentes principales (PCA) como un modelo de estimación de las variables latentes Ecuación (14.78) del Libro.\n",
        "\n",
        "En el apartado 14.7 del libro se hace la diferencia entre el PCA y el Análisis Fcatorial, se puede ver que el análisis factorial está modelando la estructura de correlación en lugar de la estructura de covarianza de X."
      ],
      "metadata": {
        "id": "HR_QAJBaJhR2"
      }
    },
    {
      "cell_type": "markdown",
      "source": [
        "### Análisis factorial en selección de parques eólicos representativos de una región\n",
        "\n",
        "Sección del libro 14.7.1 Latent Variables and Factor Analysis\n",
        "\n",
        "En México, una gran cantidad de párques eólicos esta instalados en el Itzmo de Tehuantepec, Oaxaca. Los parques están distribuidos geográficamente en toda la zona"
      ],
      "metadata": {
        "id": "WUMiODO0UHiZ"
      }
    },
    {
      "cell_type": "code",
      "source": [
        "#https://drive.google.com/drive/folders/1Gj3XK9kM-lE18uBMe3qrZOGEm8yAI8i9\n",
        "#https://www.codegrepper.com/code-examples/python/how+to+read+csv+file+from+google+drive+on+google+colab+\n",
        "path        = 'https://drive.google.com/uc?export=download&id=' \n",
        "URL_Eolicas = 'https://drive.google.com/file/d/1FNMdGkhjypcGTAtPeOfw12EuAolUJ4Fh/view?usp=sharing'\n",
        "df = pd.read_csv(path + URL_Eolicas.split('/')[-2], usecols=['EOL1','EOL2','EOL3','EOL4','EOL5','EOL6','EOL7','EOL8','EOL9','EOL10','EOL12','EOL13','EOL14','EOL15','EOL16','EOL17','EOL18','EOL19','EOL20','EOL21','EOL22','EOL23','EOL24','EOL25','EOL26','EOL27','EOL28','EOL29','EOL30','EOL31','EOL32','EOL33','EOL34','EOL35','EOL36'] )\n",
        "df = df.dropna()\n",
        "#df = df.iloc[:, :]\n",
        "df = df.iloc[0:200, :]\n",
        "X = df.to_numpy()\n",
        "X = StandardScaler().fit_transform(X)"
      ],
      "metadata": {
        "id": "-Wy324ivVptY"
      },
      "execution_count": 136,
      "outputs": []
    },
    {
      "cell_type": "code",
      "source": [
        "plt.figure(figsize = (10,8))\n",
        "ax = plt.axes()\n",
        "im = ax.imshow(np.corrcoef(X.T), cmap=\"bwr\", vmin=-1, vmax=1, aspect='auto')\n",
        "feature_names = ['EOL1','EOL2','EOL3','EOL4','EOL5','EOL6','EOL7','EOL8','EOL9','EOL10','EOL12','EOL13','EOL14','EOL15','EOL16','EOL17','EOL18','EOL19','EOL20','EOL21','EOL22','EOL23','EOL24','EOL25','EOL26','EOL27','EOL28','EOL29','EOL30','EOL31','EOL32','EOL33','EOL34','EOL35','EOL36']\n",
        "ax.set_xticks([1,2,3,4,5,6,7,8,9,10,12,13,14,15,16,17,18,19,20,21,22,23,24,25,26,27,28,29,30,31,32,33,34,35,36])\n",
        "ax.set_xticklabels(list(feature_names), rotation=90)\n",
        "ax.set_yticks([1,2,3,4,5,6,7,8,9,10,12,13,14,15,16,17,18,19,20,21,22,23,24,25,26,27,28,29,30,31,32,33,34,35,36])\n",
        "ax.set_yticklabels(list(feature_names))\n",
        "plt.colorbar(im).ax.set_ylabel(\"$r$\", rotation=0)\n",
        "ax.set_title(\"Correlaciones entre parques eólicos\")\n",
        "plt.tight_layout()"
      ],
      "metadata": {
        "colab": {
          "base_uri": "https://localhost:8080/",
          "height": 585
        },
        "id": "XMAG2paRjmVz",
        "outputId": "f8299460-515b-4a74-9a99-e09ef3e0615b"
      },
      "execution_count": 137,
      "outputs": [
        {
          "output_type": "display_data",
          "data": {
            "text/plain": [
              "<Figure size 720x576 with 2 Axes>"
            ],
            "image/png": "[encoded data removed]"
          },
          "metadata": {
            "needs_background": "light"
          }
        }
      ]
    },
    {
      "cell_type": "code",
      "source": [
        "n_comps = 6\n",
        "\n",
        "methods = [(\"PCA\", PCA()),(\"FA sin rotación\", FactorAnalysis()),(\"FA con varimax\", FactorAnalysis(rotation=\"varimax\")),]\n",
        "fig, axes = plt.subplots(ncols=len(methods), figsize=(10,9))\n",
        "\n",
        "for ax, (method, fa) in zip(axes, methods):\n",
        "    fa.set_params(n_components=n_comps)\n",
        "    fa.fit(X)\n",
        "\n",
        "    components = fa.components_.T\n",
        "    print(\"\\n\\n %s :\\n\" % method)\n",
        "    print(components)\n",
        "\n",
        "    vmax = np.abs(components).max()\n",
        "    ax.imshow(components, cmap=\"bwr\", vmax=vmax, vmin=-vmax)\n",
        "    ax.set_yticks(np.arange(len(feature_names)))\n",
        "    if ax.is_first_col():\n",
        "        ax.set_yticklabels(feature_names)\n",
        "    else:\n",
        "        ax.set_yticklabels([])\n",
        "    ax.set_title(str(method))\n",
        "    ax.set_xticks([0,1,2,3,4,5])\n",
        "    ax.set_xticklabels([\"F1\",\"F2\",\"F3\",\"F4\",\"F5\",\"F6\"])\n",
        "plt.tight_layout()\n",
        "plt.show()"
      ],
      "metadata": {
        "colab": {
          "base_uri": "https://localhost:8080/",
          "height": 1000
        },
        "id": "mwySylATz0v6",
        "outputId": "115bbe0d-1650-432a-9d46-c04a1c04cf82"
      },
      "execution_count": 138,
      "outputs": [
        {
          "output_type": "stream",
          "name": "stdout",
          "text": [
            "\n",
            "\n",
            " PCA :\n",
            "\n",
            "[[ 0.20325897  0.05786182 -0.04252636 -0.08128141  0.06871717  0.04856801]\n",
            " [ 0.20095787  0.05287505 -0.01467353 -0.02028886 -0.1149358   0.21989972]\n",
            " [ 0.19645188  0.07502189 -0.11438094 -0.07361215  0.08611143  0.04853103]\n",
            " [ 0.19452975 -0.1237445   0.07251813 -0.08482947 -0.07780319  0.14356464]\n",
            " [ 0.20200406 -0.04904185 -0.02820101 -0.08399744 -0.0685476   0.07827469]\n",
            " [ 0.1967074   0.0306066  -0.1169314  -0.08100094  0.15451234 -0.04594573]\n",
            " [ 0.17421549 -0.14096429 -0.00154091 -0.13908042  0.20684305 -0.29780661]\n",
            " [ 0.1988158  -0.01445562  0.01619475 -0.12255393  0.0944445  -0.07179412]\n",
            " [ 0.19891976  0.09422164 -0.05809111 -0.07494184  0.06085368  0.06768158]\n",
            " [ 0.20101193 -0.02633823 -0.03292398 -0.09544273  0.08287466 -0.04270304]\n",
            " [ 0.1971123   0.08191391 -0.08365427 -0.06253931 -0.04996163  0.18279718]\n",
            " [ 0.18988636  0.08501655 -0.05869732  0.08260885 -0.11229021  0.15664599]\n",
            " [ 0.20005729  0.0034159   0.02646927  0.08216092 -0.15023782  0.02805538]\n",
            " [ 0.2030792   0.03311849 -0.06798791 -0.01856576 -0.07637318  0.04228662]\n",
            " [ 0.20236526  0.06923188 -0.02272749 -0.05910422  0.09196293  0.00567836]\n",
            " [ 0.20409523  0.03057741 -0.07017385 -0.04301935 -0.07970759  0.04173409]\n",
            " [ 0.10811879  0.28511989  0.37434571  0.17657242 -0.04711644 -0.14425413]\n",
            " [ 0.10811879  0.28511989  0.37434571  0.17657242 -0.04711644 -0.14425413]\n",
            " [ 0.10811879  0.28511989  0.37434571  0.17657242 -0.04711644 -0.14425413]\n",
            " [ 0.1941523  -0.01904457  0.07877178 -0.1146229   0.21111298 -0.11475121]\n",
            " [ 0.18310669 -0.02592939  0.17305952  0.07816409 -0.17383366  0.11617457]\n",
            " [ 0.03261606  0.00476277  0.05195568  0.48867715  0.59971463  0.08403355]\n",
            " [ 0.18559898 -0.00486874  0.07296521  0.12826925 -0.28009754 -0.02567259]\n",
            " [ 0.1265224  -0.31802114  0.10641092  0.05268503 -0.08150024 -0.35919003]\n",
            " [ 0.01600811 -0.27640693  0.33095685 -0.02362955  0.28608579  0.56280016]\n",
            " [ 0.20084693 -0.00556641  0.03220422 -0.08706156  0.15507243 -0.08510572]\n",
            " [ 0.1979734   0.04085653 -0.00654428  0.05000919 -0.18143289  0.18225507]\n",
            " [ 0.11963402 -0.31646177 -0.07591889  0.03933041 -0.14886961 -0.33184571]\n",
            " [ 0.19488926 -0.08782279 -0.0273877  -0.08563327 -0.01084435  0.09880807]\n",
            " [ 0.16258543 -0.10106747 -0.14191956  0.19333182  0.24851788 -0.18345706]\n",
            " [ 0.1903514  -0.09536625  0.06994293 -0.15111455  0.14778168 -0.09750628]\n",
            " [ 0.08634586 -0.23942293 -0.1586392   0.474752   -0.06823561  0.05971725]\n",
            " [ 0.09171043 -0.26397899 -0.15294657  0.42083609 -0.19380277  0.06978737]\n",
            " [-0.03616917 -0.37111956  0.36799207 -0.03005565 -0.04929167  0.00335132]\n",
            " [-0.06321575 -0.32099792  0.3703967  -0.20135586 -0.06240083  0.03164236]]\n",
            "\n",
            "\n",
            " FA sin rotación :\n",
            "\n",
            "[[ 5.02568307e-01  8.43432730e-01 -1.44150341e-01 -1.38334083e-03\n",
            "   8.86526020e-02 -3.80109192e-02]\n",
            " [ 5.17597070e-01  8.23210258e-01 -5.37767565e-03 -1.58135520e-01\n",
            "  -1.10420651e-01 -7.82634320e-02]\n",
            " [ 4.55292795e-01  8.39294789e-01 -1.58209790e-01 -7.33108577e-02\n",
            "   1.74728420e-01 -2.11181658e-02]\n",
            " [ 3.52613134e-01  8.63934084e-01  9.27189687e-02  1.64278966e-01\n",
            "  -2.36740019e-01 -1.22470464e-01]\n",
            " [ 3.89364593e-01  8.93107225e-01  1.29566906e-02  4.98845100e-02\n",
            "  -8.51277432e-02 -7.14898457e-02]\n",
            " [ 4.06988601e-01  8.57129391e-01 -1.47074612e-01  3.33233076e-02\n",
            "   1.78445542e-01  8.30241378e-02]\n",
            " [ 2.29164377e-01  7.98706908e-01 -6.91046159e-02  4.05737906e-01\n",
            "  -5.59776928e-02  2.61683616e-01]\n",
            " [ 4.54058698e-01  8.33891851e-01 -1.05595621e-01  2.12261878e-01\n",
            "   7.89962594e-02 -3.44135192e-02]\n",
            " [ 5.25021952e-01  8.12136193e-01 -1.70142662e-01 -6.32699360e-02\n",
            "   1.29868652e-01 -6.00425102e-02]\n",
            " [ 4.09154141e-01  8.72061317e-01 -6.82848154e-02  1.62127809e-01\n",
            "   8.78028708e-02 -2.30721088e-03]\n",
            " [ 4.77718952e-01  8.28396431e-01 -1.10459828e-01 -1.90793095e-01\n",
            "  -3.73664566e-02 -1.98147894e-02]\n",
            " [ 5.28722614e-01  7.41915653e-01  6.77257647e-02 -2.62497749e-01\n",
            "  -1.29462809e-01  1.82446760e-01]\n",
            " [ 5.37782809e-01  7.80948592e-01  1.62081130e-01 -6.80345666e-02\n",
            "  -1.87799775e-01  1.31217742e-01]\n",
            " [ 4.78376462e-01  8.47614785e-01 -3.12175769e-03 -9.86416936e-02\n",
            "  -4.54011856e-02  6.31972423e-02]\n",
            " [ 5.34926190e-01  8.14453854e-01 -1.39882045e-01  2.04876799e-02\n",
            "   9.47494714e-02  2.07246281e-02]\n",
            " [ 4.69962677e-01  8.60060330e-01 -2.54496849e-02 -8.38565266e-02\n",
            "  -3.72765880e-02  3.24893071e-02]\n",
            " [ 1.00000000e+00 -1.28720113e-10  8.48573010e-12  3.47744408e-12\n",
            "   1.76220078e-12 -5.64078443e-13]\n",
            " [ 1.00000000e+00 -1.28720113e-10  8.48573010e-12  3.47744408e-12\n",
            "   1.76220078e-12 -5.64078443e-13]\n",
            " [ 1.00000000e+00 -1.28720113e-10  8.48573010e-12  3.47744408e-12\n",
            "   1.76220078e-12 -5.64078443e-13]\n",
            " [ 4.80061244e-01  7.81646005e-01 -1.36370612e-01  3.17365805e-01\n",
            "   5.10060250e-02  6.24760212e-02]\n",
            " [ 5.59376078e-01  6.72124863e-01  2.04402970e-01  5.81193225e-02\n",
            "  -2.54400942e-01 -4.42212527e-02]\n",
            " [ 2.38139787e-01  1.35053506e-02  2.82396426e-01  8.64749480e-02\n",
            "   3.88179260e-01  2.24149775e-01]\n",
            " [ 5.53156380e-01  6.83701118e-01  2.67380529e-01 -6.46146324e-02\n",
            "  -2.63778458e-01  1.22013334e-01]\n",
            " [ 7.54647044e-02  6.00083819e-01  4.25151426e-01  5.24960818e-01\n",
            "  -2.09836916e-01  1.73741354e-01]\n",
            " [-1.00001989e-01  1.23385569e-01  1.79681074e-01  4.72509266e-01\n",
            "  -3.05717186e-01 -2.63527755e-01]\n",
            " [ 4.82391907e-01  8.19909624e-01 -1.13267893e-01  2.14942410e-01\n",
            "   3.34111467e-02  9.10411865e-02]\n",
            " [ 5.32696393e-01  7.89754579e-01  1.02907109e-01 -1.97146604e-01\n",
            "  -1.75238911e-01  5.42530758e-03]\n",
            " [-7.42963819e-02  6.66605207e-01  3.91989249e-01  3.27507690e-01\n",
            "  -1.26198359e-01  1.10573201e-01]\n",
            " [ 3.23955992e-01  8.87937487e-01  2.20682066e-02  1.08633351e-01\n",
            "  -7.28666432e-02 -8.59078982e-02]\n",
            " [ 2.24046264e-01  7.35513850e-01  1.96864987e-01  9.63484185e-02\n",
            "   1.08504695e-01  4.13421045e-01]\n",
            " [ 3.62266882e-01  8.27534077e-01 -7.93752071e-02  3.63324528e-01\n",
            "  -2.89353396e-02  1.94033467e-02]\n",
            " [-1.90536221e-02  4.71500546e-01  8.00775767e-01 -1.00887875e-02\n",
            "   2.86922386e-01 -8.37125213e-04]\n",
            " [-4.78326479e-02  5.17796511e-01  8.24121033e-01 -6.72484138e-03\n",
            "   1.85719401e-01 -4.20916771e-02]\n",
            " [-2.39682982e-01 -9.36378128e-02  3.73245843e-01  6.41081681e-01\n",
            "  -3.54236043e-01 -3.20905827e-01]\n",
            " [-3.03692887e-01 -1.95703271e-01  1.43973051e-01  6.06041144e-01\n",
            "  -4.55927360e-01 -3.22773707e-01]]\n",
            "\n",
            "\n",
            " FA con varimax :\n",
            "\n",
            "[[ 2.11691637e-01  9.62643331e-01  9.38632570e-02 -1.16715283e-01\n",
            "   6.51475572e-03  8.26318667e-03]\n",
            " [ 2.43831593e-01  9.08111489e-01  1.62456856e-01 -8.56406787e-02\n",
            "  -2.48401926e-01 -9.68767645e-02]\n",
            " [ 1.61697127e-01  9.40499249e-01  1.13575255e-01 -2.18235300e-01\n",
            "   4.17838668e-02 -1.14635864e-02]\n",
            " [ 1.08842773e-01  8.98986600e-01  2.11050763e-01  2.66738820e-01\n",
            "  -2.03132270e-01  1.92083785e-02]\n",
            " [ 1.16231384e-01  9.42628524e-01  1.98348009e-01  6.54684305e-02\n",
            "  -1.35930113e-01  9.79077298e-03]\n",
            " [ 1.16021373e-01  9.37980437e-01  1.23886124e-01 -1.76735376e-01\n",
            "   6.86618336e-02  1.31232034e-01]\n",
            " [-7.12547161e-03  8.23979548e-01  8.92174162e-02  1.76869811e-01\n",
            "   1.25919309e-02  4.61589912e-01]\n",
            " [ 1.85694040e-01  9.45196290e-01  1.12088639e-01  5.56707512e-02\n",
            "   9.57670022e-02  1.11635310e-01]\n",
            " [ 2.35307469e-01  9.44433168e-01  7.79572304e-02 -1.81370157e-01\n",
            "   2.31484513e-02 -4.24723312e-02]\n",
            " [ 1.33934535e-01  9.50633437e-01  1.63857255e-01  1.36153958e-02\n",
            "   6.01439195e-02  1.19443294e-01]\n",
            " [ 1.86718150e-01  9.18077719e-01  9.44115030e-02 -1.88880451e-01\n",
            "  -1.96111729e-01 -6.37869026e-02]\n",
            " [ 2.76624045e-01  7.89295643e-01  2.04684828e-01 -2.39117737e-01\n",
            "  -3.84911402e-01  8.23850276e-02]\n",
            " [ 2.99052596e-01  8.24058275e-01  2.70268214e-01 -2.80546457e-02\n",
            "  -3.49911840e-01  1.33049381e-01]\n",
            " [ 2.00039754e-01  9.09520018e-01  1.87658084e-01 -1.27082743e-01\n",
            "  -2.03133687e-01  5.67319128e-02]\n",
            " [ 2.51151607e-01  9.41604853e-01  8.83285989e-02 -1.28567820e-01\n",
            "   8.94403818e-03  6.90388458e-02]\n",
            " [ 1.86842469e-01  9.27414436e-01  1.72990364e-01 -1.12549637e-01\n",
            "  -1.78219775e-01  3.64742594e-02]\n",
            " [ 9.45233245e-01  3.08454032e-01 -4.96064938e-02 -8.87880883e-02\n",
            "  -3.19666446e-02  4.92214660e-03]\n",
            " [ 9.45233245e-01  3.08454032e-01 -4.96064938e-02 -8.87880883e-02\n",
            "  -3.19666446e-02  4.92214660e-03]\n",
            " [ 9.45233245e-01  3.08454032e-01 -4.96064938e-02 -8.87880883e-02\n",
            "  -3.19666446e-02  4.92214660e-03]\n",
            " [ 2.24814730e-01  9.12399091e-01  5.24773979e-02  1.00011779e-01\n",
            "   1.12172631e-01  2.42692078e-01]\n",
            " [ 3.67782081e-01  7.46085691e-01  2.52308598e-01  1.75491166e-01\n",
            "  -2.98389986e-01  3.29596260e-02]\n",
            " [ 2.59509641e-01  2.71147235e-03  3.61376460e-01 -1.81001162e-01\n",
            "   2.30151991e-01  2.47725572e-01]\n",
            " [ 3.56958963e-01  7.15989094e-01  3.15906109e-01  3.91898624e-02\n",
            "  -4.20236425e-01  1.24786517e-01]\n",
            " [-1.71629725e-02  4.93076969e-01  4.39547956e-01  5.00114524e-01\n",
            "  -1.13284291e-01  4.43599998e-01]\n",
            " [-7.25601696e-02  9.77217646e-02  7.83442643e-02  6.50176302e-01\n",
            "  -1.72250411e-03  1.73930810e-04]\n",
            " [ 2.12953781e-01  9.32480791e-01  8.41667333e-02  2.71927267e-02\n",
            "   3.23368289e-02  2.22821699e-01]\n",
            " [ 2.79055290e-01  8.46182088e-01  2.32691730e-01 -9.17154396e-02\n",
            "  -3.60073883e-01 -3.95747785e-02]\n",
            " [-1.92274950e-01  5.06148931e-01  4.73770141e-01  3.43772991e-01\n",
            "  -1.21575783e-01  2.97282169e-01]\n",
            " [ 6.06945576e-02  9.21082862e-01  2.08749985e-01  1.15735266e-01\n",
            "  -9.34131504e-02  2.41598161e-02]\n",
            " [ 2.26387815e-02  6.63629584e-01  3.84031948e-01 -1.32899580e-01\n",
            "  -9.25247191e-02  4.55286750e-01]\n",
            " [ 1.11831511e-01  9.11709934e-01  9.48593803e-02  2.13307819e-01\n",
            "   6.71692033e-02  2.29863659e-01]\n",
            " [-4.37873336e-02  2.29267336e-01  9.43217902e-01  1.88024771e-02\n",
            "   4.20284955e-03  4.28079836e-02]\n",
            " [-7.97792240e-02  2.61317616e-01  9.46768003e-01  9.57563983e-02\n",
            "  -7.46300899e-02  1.11840949e-02]\n",
            " [-1.04190224e-01 -1.72535938e-01  1.79010250e-01  8.77612149e-01\n",
            "   4.02443546e-02  2.20513425e-02]\n",
            " [-1.68829193e-01 -2.32075933e-01 -8.25811280e-02  8.61003230e-01\n",
            "   4.18650440e-03 -8.34289785e-03]]\n"
          ]
        },
        {
          "output_type": "display_data",
          "data": {
            "text/plain": [
              "<Figure size 720x648 with 3 Axes>"
            ],
            "image/png": "[encoded data removed]"
          },
          "metadata": {
            "needs_background": "light"
          }
        }
      ]
    },
    {
      "cell_type": "markdown",
      "source": [
        "# 14.3.12 Hierarchical Clustering"
      ],
      "metadata": {
        "id": "NgoJ-n-iuTjo"
      }
    },
    {
      "cell_type": "code",
      "source": [
        "#https://scikit-learn.org/stable/auto_examples/cluster/plot_agglomerative_dendrogram.html#\n",
        "#https://support.minitab.com/es-mx/minitab/18/help-and-how-to/modeling-statistics/multivariate/how-to/cluster-observations/interpret-the-results/all-statistics-and-graphs/dendrogram/#:~:text=Interpretaci%C3%B3n,una%20l%C3%ADnea%20horizontal%20del%20dendrograma.\n",
        "def plot_dendrogram(model, **kwargs):\n",
        "    # Create linkage matrix and then plot the dendrogram\n",
        "\n",
        "    # create the counts of samples under each node\n",
        "    counts = np.zeros(model.children_.shape[0])\n",
        "    n_samples = len(model.labels_)\n",
        "    for i, merge in enumerate(model.children_):\n",
        "        current_count = 0\n",
        "        for child_idx in merge:\n",
        "            if child_idx < n_samples:\n",
        "                current_count += 1  # leaf node\n",
        "            else:\n",
        "                current_count += counts[child_idx - n_samples]\n",
        "        counts[i] = current_count\n",
        "\n",
        "    linkage_matrix = np.column_stack(\n",
        "        [model.children_, model.distances_, counts]\n",
        "    ).astype(float)\n",
        "\n",
        "    # Plot the corresponding dendrogram\n",
        "    dendrogram(linkage_matrix, **kwargs)\n",
        "\n",
        "# setting distance_threshold=0 ensures we compute the full tree.\n",
        "model = AgglomerativeClustering(distance_threshold=0, n_clusters= None)\n",
        "\n",
        "model = model.fit(X.T)\n",
        "plt.title(\"Hierarchical Clustering Dendrogram\")\n",
        "# plot the top three levels of the dendrogram\n",
        "plot_dendrogram(model, truncate_mode=\"level\", p=4)\n",
        "plt.xlabel(\"Number of points in node (or index of point if no parenthesis).\")\n",
        "plt.show()"
      ],
      "metadata": {
        "colab": {
          "base_uri": "https://localhost:8080/",
          "height": 298
        },
        "id": "glU8FMiuUwwd",
        "outputId": "6f279ace-3880-4ad7-b6e2-d6888da6d466"
      },
      "execution_count": 139,
      "outputs": [
        {
          "output_type": "display_data",
          "data": {
            "text/plain": [
              "<Figure size 432x288 with 1 Axes>"
            ],
            "image/png": "[encoded data removed]"
          },
          "metadata": {
            "needs_background": "light"
          }
        }
      ]
    }
  ]
}
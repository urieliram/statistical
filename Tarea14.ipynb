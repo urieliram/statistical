{
  "nbformat": 4,
  "nbformat_minor": 0,
  "metadata": {
    "colab": {
      "name": "Tarea14.ipynb",
      "provenance": [],
      "authorship_tag": "ABX9TyOES+VMtVgT2bzT7Bb9UOGx",
      "include_colab_link": true
    },
    "kernelspec": {
      "name": "python3",
      "display_name": "Python 3"
    },
    "language_info": {
      "name": "python"
    }
  },
  "cells": [
    {
      "cell_type": "markdown",
      "metadata": {
        "id": "view-in-github",
        "colab_type": "text"
      },
      "source": [
        "<a href=\"https://colab.research.google.com/github/urieliram/statistical/blob/main/Tarea14.ipynb\" target=\"_parent\"><img src=\"https://colab.research.google.com/assets/colab-badge.svg\" alt=\"Open In Colab\"/></a>"
      ]
    },
    {
      "cell_type": "code",
      "source": [
        "pip install factor_analyzer"
      ],
      "metadata": {
        "id": "V-r3FO1GQHMi"
      },
      "execution_count": null,
      "outputs": []
    },
    {
      "cell_type": "code",
      "execution_count": 81,
      "metadata": {
        "id": "WvFSSGaOH-y3"
      },
      "outputs": [],
      "source": [
        "import pandas as pd\n",
        "import numpy as np\n",
        "import matplotlib.pyplot as plt\n",
        "from sklearn.preprocessing import StandardScaler\n",
        "from sklearn.decomposition import PCA\n",
        "from sklearn.decomposition import FactorAnalysis\n",
        "from matplotlib import pyplot as plt\n",
        "from scipy.cluster.hierarchy import dendrogram\n",
        "from sklearn.cluster import AgglomerativeClustering\n",
        "from sklearn.model_selection import train_test_split\n",
        "from sklearn.linear_model import LinearRegression\n",
        "\n",
        "import seaborn as sns\n",
        "import statsmodels.api as sm\n",
        "from statsmodels.stats.outliers_influence import variance_inflation_factor"
      ]
    },
    {
      "cell_type": "code",
      "source": [
        "def scatterplot(X_,Y_,title_,namefile_ ):\n",
        "    fig, ax1 = plt.subplots(figsize=(4,4))\n",
        "    CYAN = '#76ced6' ; LILA = '#777bd4'; VERDE='#17cb49'; LETRASNARA ='#ff8000'; AZUL='#168fff'; OTROAZUL = \"b-\"; ROJO= \"r-\";\n",
        "    plt.title(title_,fontsize='x-large',color=LETRASNARA)\n",
        "    ax1.set_xlabel('Componente principal 1',  color=LETRASNARA, fontsize='large')\n",
        "    ax1.set_ylabel('Componente principal 2',  color=LETRASNARA, fontsize='large')\n",
        "    plt.scatter(X_, Y_, alpha=0.3)\n",
        "    plt.tick_params(colors = LETRASNARA, which='both')\n",
        "    ax1.spines['bottom'].set_color(LETRASNARA)\n",
        "    ax1.spines['top'   ].set_color(LETRASNARA) \n",
        "    ax1.spines['right' ].set_color(LETRASNARA)\n",
        "    ax1.spines['left'  ].set_color(LETRASNARA)\n",
        "    plt.savefig(namefile_, transparent=True)\n",
        "    plt.show()"
      ],
      "metadata": {
        "id": "7Y4p6PCRP877"
      },
      "execution_count": 83,
      "outputs": []
    },
    {
      "cell_type": "code",
      "source": [
        "CYAN = '#76ced6' ; LILA = '#777bd4'; VERDE='#17cb49'; LETRASNARA='#ff8000'; AZUL='#168fff'; OTROAZUL = \"b-\"; ROJO= \"r-\";\n",
        "def print_serie(serie_,title_,ytitle_,xtitle_,namefile_):\n",
        "    fig, ax1 = plt.subplots(figsize=(7,4))\n",
        "    plt.title(title_,fontsize='x-large',color=LETRASNARA)\n",
        "    ax1.set_xlabel(xtitle_, color=LETRASNARA, fontsize='large')\n",
        "    ax1.set_ylabel(ytitle_, color=LETRASNARA, fontsize='large')\n",
        "    plt.tick_params(colors = LETRASNARA, which='both')\n",
        "    ax1.spines['bottom'].set_color(LETRASNARA)\n",
        "    ax1.spines['top'   ].set_color(LETRASNARA) \n",
        "    ax1.spines['right' ].set_color(LETRASNARA)\n",
        "    ax1.spines['left'  ].set_color(LETRASNARA)    \n",
        "    plt.plot(serie_)\n",
        "    plt.savefig(namefile_, transparent=True)         \n",
        "    plt.show()"
      ],
      "metadata": {
        "id": "9AmHxqMRQixL"
      },
      "execution_count": 84,
      "outputs": []
    },
    {
      "cell_type": "code",
      "source": [
        "#https://drive.google.com/drive/folders/1Gj3XK9kM-lE18uBMe3qrZOGEm8yAI8i9\n",
        "#https://www.codegrepper.com/code-examples/python/how+to+read+csv+file+from+google+drive+on+google+colab+\n",
        "path        = 'https://drive.google.com/uc?export=download&id=' \n",
        "URL_Eolicas = 'https://drive.google.com/file/d/1FNMdGkhjypcGTAtPeOfw12EuAolUJ4Fh/view?usp=sharing'\n",
        "URL_Demanda = 'https://drive.google.com/file/d/1KpY2p4bfVEwGRh5tJjMx9QpH6SEwrUwH/view?usp=sharing'\n",
        "df = pd.read_csv(path + URL_Demanda.split('/')[-2], usecols=['X0','X1','X2','X3','X4','X5','X6','X7','X8','X9','X10','X11','X12','X13','X14','X15','X16','X17','X18','Y'] )\n",
        "dfx = df[['X0','X1','X2','X3','X4','X5','X6','X7','X8','X9','X10','X11','X12','X13','X14','X15','X16','X17','X18',]]\n",
        "dfy = df[['Y']]\n",
        "#dfx  = pd.read_csv(path + URL_Eolicas.split('/')[-2], usecols=[1,2,3,4,5,6,7,8,9,10,11,12,13,14,15,16,17,18,19,20,21,22,23,24,25,26,27,28,29,30,31,32,33,34,35] ) #names=['CLVUNI','TYPE','NODE'], usecols=[1,2,3,4,5,6,], 1,2,3,4,5,6,7,8,9,10,11,12,13,15,\n",
        "#dfx.dropna(inplace=True)\n",
        "#dfx = df.iloc[:1500, :]\n",
        "#dfx.head()"
      ],
      "metadata": {
        "id": "4ykXCJd-JbO7"
      },
      "execution_count": 85,
      "outputs": []
    },
    {
      "cell_type": "code",
      "source": [
        "X = dfx.to_numpy()\n",
        "y = dfy.to_numpy()\n",
        "X = StandardScaler().fit_transform(X)\n",
        "## Crea conjuntos de datos de entrenamiento y prueba\n",
        "X_train,X_test,y_train,y_test = train_test_split(X,y,test_size = 0.7, random_state = 5)"
      ],
      "metadata": {
        "id": "Ikik4O25H_8T"
      },
      "execution_count": 86,
      "outputs": []
    },
    {
      "cell_type": "code",
      "source": [
        "#sns.set_theme(style = \"ticks\")\n",
        "#sns.set(font_scale=1)\n",
        "#sns.pairplot( dfx.iloc[0:200, :] , height=1) "
      ],
      "metadata": {
        "id": "FR-8lSlZb1BK"
      },
      "execution_count": 87,
      "outputs": []
    },
    {
      "cell_type": "markdown",
      "source": [
        "### Análisis de componentes principales en Regresión\n",
        "\n",
        "Análisis de componentes principales es un métodos de reducción de dimensiones que puede ser usado paraescoger un subconjunto de variables que expliquen la mayor varianza, es decir que representen en mayor medida los datos originales. Las variables eliminadas serán redundates con otras. Además otras variables isntéticas llamadas latentes o componentes en el PCA pueden explicar partes importantes del fenómeno. El enfoque se basa en reducir el número de predictores a una dimensión más pequeña mediante el análisis de componentes principales. Estos componentes principales luego se utilizan como regresores al ajustar un nuevo modelo OLS."
      ],
      "metadata": {
        "id": "gY6alLtF5QxT"
      }
    },
    {
      "cell_type": "code",
      "source": [
        "#https://towardsdatascience.com/pca-using-python-scikit-learn-e653f8989e60\n",
        "pca = PCA(0.999) \n",
        "pca.fit(X_train)\n",
        "X_pca = pca.transform(X_train)\n",
        "X_pcat = pca.transform(X_test)\n",
        "print(sum(pca.explained_variance_ratio_ * 100))\n",
        "print_serie(pca.explained_variance_ratio_,'PCA en regresores de demanda\\n','Explicación de la varianza','Número de componentes','fig_t14__variance_pca_9999per')"
      ],
      "metadata": {
        "colab": {
          "base_uri": "https://localhost:8080/",
          "height": 333
        },
        "id": "AY-pi6pWNDAJ",
        "outputId": "635fa22f-4c00-4f93-b687-fc2ada6139a1"
      },
      "execution_count": 88,
      "outputs": [
        {
          "output_type": "stream",
          "name": "stdout",
          "text": [
            "99.91460521885719\n"
          ]
        },
        {
          "output_type": "display_data",
          "data": {
            "text/plain": [
              "<Figure size 504x288 with 1 Axes>"
            ],
            "image/png": "[encoded data removed]"
          },
          "metadata": {
            "needs_background": "dark"
          }
        }
      ]
    },
    {
      "cell_type": "code",
      "source": [
        "pca.components_\n",
        "pca.n_components_\n",
        "pca.singular_values_"
      ],
      "metadata": {
        "colab": {
          "base_uri": "https://localhost:8080/"
        },
        "id": "5mmqz7R0wNrM",
        "outputId": "5c1a25b3-d843-4003-d93b-26d172e80606"
      },
      "execution_count": 89,
      "outputs": [
        {
          "output_type": "execute_result",
          "data": {
            "text/plain": [
              "array([50.24705368, 18.58794141,  7.01973703,  5.43557514,  4.73759517,\n",
              "        4.10603429,  3.7076992 ,  3.1959674 ,  3.07906039,  2.91354441,\n",
              "        2.75690543,  2.63678107,  2.51421084,  2.4006517 ,  2.20089014,\n",
              "        2.00369984,  1.96864571])"
            ]
          },
          "metadata": {},
          "execution_count": 89
        }
      ]
    },
    {
      "cell_type": "markdown",
      "source": [
        "### Calculamos la regresión"
      ],
      "metadata": {
        "id": "GnnNWEcKdhhr"
      }
    },
    {
      "cell_type": "code",
      "source": [
        "model      = LinearRegression().fit(X_train[:, :], y_train)\n",
        "err1_mae = np.mean(np.abs(y_train - model.predict(X_train)))\n",
        "err1_mae_test = np.mean(np.abs(y_test - model.predict(X_test)))\n",
        "print(\"MAE del modelo de regresión con datos de entrenamiento con sklearn:\", err1_mae)\n",
        "print(\"MAE del modelo de regresión con datos de prueba con sklearn:\", err1_mae_test)\n",
        "\n",
        "# calculating VIF for each feature\n",
        "for i in range(X_train.shape[1]):\n",
        "    print(variance_inflation_factor(X_train,i))  "
      ],
      "metadata": {
        "colab": {
          "base_uri": "https://localhost:8080/"
        },
        "id": "hfrUDGW5c5Rm",
        "outputId": "795ba85d-d2a7-4024-d384-251b9815ae34"
      },
      "execution_count": 90,
      "outputs": [
        {
          "output_type": "stream",
          "name": "stdout",
          "text": [
            "MAE del modelo de regresión con datos de entrenamiento con sklearn: 102.03653229489723\n",
            "MAE del modelo de regresión con datos de prueba con sklearn: 131.86027342669107\n",
            "nan\n",
            "19.268815602047138\n",
            "25.900291272307413\n",
            "21.75005645732436\n",
            "31.3039369332227\n",
            "16.94503888144909\n",
            "23.182547018706778\n",
            "21.415405802141464\n",
            "32.21371857799564\n",
            "13.042998282179228\n",
            "19.990213915947887\n",
            "18.269618431784952\n",
            "9.088089141611725\n",
            "4.594616265979086\n",
            "33.45388030260464\n",
            "26.546509209585857\n",
            "31.938715377963362\n",
            "17.948772566166706\n",
            "21.219310770169713\n"
          ]
        },
        {
          "output_type": "stream",
          "name": "stderr",
          "text": [
            "/usr/local/lib/python3.7/dist-packages/statsmodels/regression/linear_model.py:1638: RuntimeWarning: invalid value encountered in double_scalars\n",
            "  return 1 - self.ssr/self.uncentered_tss\n"
          ]
        }
      ]
    },
    {
      "cell_type": "code",
      "source": [
        "linreg_model      = LinearRegression().fit(X_pca[:, :], y_train)\n",
        "err2_mae = np.mean(np.abs(y_train - linreg_model.predict(X_pca)))\n",
        "err2_mae_test = np.mean(np.abs(y_test - linreg_model.predict(X_pcat)))\n",
        "print(\"MAE del modelo de regresión con datos de entrenamiento con sklearn:\", err2_mae)\n",
        "print(\"MAE del modelo de regresión con datos de prueba con sklearn:\", err2_mae_test)\n",
        "\n",
        "# calculating VIF for each feature\n",
        "for i in range(X_pcat.shape[1]):\n",
        "    print(variance_inflation_factor(X_pcat,i))  "
      ],
      "metadata": {
        "colab": {
          "base_uri": "https://localhost:8080/"
        },
        "id": "Y6DCKHYghhZ7",
        "outputId": "030c1d06-8e54-457c-8236-f52d7a956eb9"
      },
      "execution_count": 91,
      "outputs": [
        {
          "output_type": "stream",
          "name": "stdout",
          "text": [
            "MAE del modelo de regresión con datos de entrenamiento con sklearn: 104.85297721802614\n",
            "MAE del modelo de regresión con datos de prueba con sklearn: 129.9635491835863\n",
            "1.0902761450916674\n",
            "1.0598828741461448\n",
            "1.1162592918553464\n",
            "1.1397838108123455\n",
            "1.1518345438624478\n",
            "1.1180330342217608\n",
            "1.149140164185122\n",
            "1.073119508332448\n",
            "1.1062065782172554\n",
            "1.0769513003199367\n",
            "1.0707688594066322\n",
            "1.1449913192733503\n",
            "1.1073390849240747\n",
            "1.0766506639766598\n",
            "1.1056761841580338\n",
            "1.1394736033361414\n",
            "1.0866897976125844\n"
          ]
        }
      ]
    },
    {
      "cell_type": "code",
      "source": [
        "pca = PCA(0.98) \n",
        "pca.fit(X_train)\n",
        "X_pca = pca.transform(X_train)\n",
        "X_pcat = pca.transform(X_test)\n",
        "print(sum(pca.explained_variance_ratio_ * 100))\n",
        "print_serie(pca.explained_variance_ratio_,'PCA en regresores de demanda\\n','Explicación de la varianza','Número de componentes','fig_t14_variance_pca2_98perc')"
      ],
      "metadata": {
        "colab": {
          "base_uri": "https://localhost:8080/",
          "height": 333
        },
        "id": "5Za5E_-ZoTbb",
        "outputId": "34a2769e-62e4-4491-f603-0ce5b2087c40"
      },
      "execution_count": 92,
      "outputs": [
        {
          "output_type": "stream",
          "name": "stdout",
          "text": [
            "98.0482312476889\n"
          ]
        },
        {
          "output_type": "display_data",
          "data": {
            "text/plain": [
              "<Figure size 504x288 with 1 Axes>"
            ],
            "image/png": "[encoded data removed]"
          },
          "metadata": {
            "needs_background": "dark"
          }
        }
      ]
    },
    {
      "cell_type": "code",
      "source": [
        "linreg_model  = LinearRegression().fit(X_pca[:, :], y_train)\n",
        "err3_mae      = np.mean(np.abs(y_train - linreg_model.predict(X_pca)))\n",
        "err3_mae_test = np.mean(np.abs(y_test - linreg_model.predict(X_pcat)))\n",
        "print(\"MAE del modelo de regresión con datos de entrenamiento con sklearn:\", err3_mae)\n",
        "print(\"MAE del modelo de regresión con datos de prueba con sklearn:\", err3_mae_test)\n",
        "\n",
        "# calculating VIF for each feature\n",
        "for i in range(X_pcat.shape[1]):\n",
        "    print(variance_inflation_factor(X_pcat,i)) "
      ],
      "metadata": {
        "colab": {
          "base_uri": "https://localhost:8080/"
        },
        "id": "U78wjVU4ocjK",
        "outputId": "3ae65fe9-de70-46bf-e496-628b656c48f6"
      },
      "execution_count": 93,
      "outputs": [
        {
          "output_type": "stream",
          "name": "stdout",
          "text": [
            "MAE del modelo de regresión con datos de entrenamiento con sklearn: 111.79413703293265\n",
            "MAE del modelo de regresión con datos de prueba con sklearn: 130.55280746630132\n",
            "1.0202126662701723\n",
            "1.0309617986088888\n",
            "1.0433254564831038\n",
            "1.0802131687107597\n",
            "1.0239019535969995\n",
            "1.0637878942632697\n",
            "1.0605053887139235\n",
            "1.0088605587066386\n"
          ]
        }
      ]
    },
    {
      "cell_type": "code",
      "source": [
        "#sns.set_theme(style = \"ticks\")\n",
        "#sns.set(font_scale=1)\n",
        "#sns.pairplot(pd.DataFrame(X_pcat).iloc[0:200, :], height=1.5)"
      ],
      "metadata": {
        "id": "zzOJnwUCipy5"
      },
      "execution_count": 94,
      "outputs": []
    },
    {
      "cell_type": "code",
      "source": [
        "#sns.set_theme(style = \"ticks\")\n",
        "#sns.set(font_scale=1)\n",
        "#sns.pairplot(pd.DataFrame(X_pca).iloc[0:200, :], height=1.5)"
      ],
      "metadata": {
        "id": "VtrYK6ECZGIh"
      },
      "execution_count": 95,
      "outputs": []
    },
    {
      "cell_type": "markdown",
      "source": [
        "### PCA from Scratch"
      ],
      "metadata": {
        "id": "7y2wA3uidgvB"
      }
    },
    {
      "cell_type": "code",
      "source": [
        "def PCAfromScratch(X , num_components):     \n",
        "    X_meaned = X - np.mean(X , axis = 0)     \n",
        "    cov_mat = np.cov(X_meaned , rowvar = False)\n",
        "    eigen_values , eigen_vectors = np.linalg.eigh(cov_mat)\n",
        "    idx                 = np.argsort(eigen_values)[::-1]\n",
        "    print(idx)\n",
        "    sorted_eigenvalue   = eigen_values[idx]\n",
        "    sorted_eigenvectors = eigen_vectors[:,idx]\n",
        "    eigenvector_subset = sorted_eigenvectors[:,0:num_components]\n",
        "    X_reduced = np.dot(eigenvector_subset.transpose() , X_meaned.transpose() ).transpose()\n",
        "    return X_reduced, eigen_values, "
      ],
      "metadata": {
        "id": "t_Wk5eKR51Om"
      },
      "execution_count": 96,
      "outputs": []
    },
    {
      "cell_type": "code",
      "source": [
        "#Applying it to PCA function\n",
        "mat_reduced ,eigen_values, = PCAfromScratch(X , 12)\n",
        " \n",
        "#Creating a Pandas DataFrame of reduced Dataset\n",
        "principal_df = pd.DataFrame(mat_reduced)\n",
        "principal_df\n"
      ],
      "metadata": {
        "colab": {
          "base_uri": "https://localhost:8080/",
          "height": 441
        },
        "id": "kdi3GoyK55sp",
        "outputId": "28010576-f57f-41fc-910b-faac9d40d872"
      },
      "execution_count": 97,
      "outputs": [
        {
          "output_type": "stream",
          "name": "stdout",
          "text": [
            "[18 17 16 15 14 13 12 11 10  9  8  7  6  5  4  3  2  1  0]\n"
          ]
        },
        {
          "output_type": "execute_result",
          "data": {
            "text/plain": [
              "           0         1         2         3         4         5         6   \\\n",
              "0   -0.598026  0.912949  0.752409  0.713978  0.022649 -0.007495 -0.022037   \n",
              "1   -0.742100  1.015275  0.689037  0.904083 -0.021475  0.023846 -0.203283   \n",
              "2   -0.983421  0.867777  0.551197  0.949123 -0.049680  0.043048 -0.055927   \n",
              "3   -1.190426  0.877608  0.543978  0.644281 -0.058860 -0.090205  0.152465   \n",
              "4   -1.079222  0.979436  0.564403  0.453363 -0.192928 -0.302365  0.128677   \n",
              "..        ...       ...       ...       ...       ...       ...       ...   \n",
              "571 -1.942460 -1.219012  1.255551 -0.971341  0.873665  0.084815 -0.005489   \n",
              "572 -1.764630 -1.300275  1.371033 -0.901983  0.898811  0.033585 -0.093054   \n",
              "573 -1.842400 -1.184668  1.008705 -0.967553  0.841579 -0.035729  0.002416   \n",
              "574 -2.015825 -1.259498  0.698565 -0.957936  0.505677 -0.024229  0.080122   \n",
              "575 -2.068561 -1.205344  0.660289 -0.950084  0.169685 -0.054955  0.140031   \n",
              "\n",
              "           7         8         9         10        11  \n",
              "0    0.318160 -0.303551  0.255477  0.108072  0.135600  \n",
              "1    0.121392 -0.155629  0.452719  0.126879  0.322789  \n",
              "2    0.084769  0.131396  0.298376  0.029264  0.252983  \n",
              "3    0.025415  0.104236 -0.136131 -0.071127  0.100298  \n",
              "4   -0.359147 -0.002343 -0.311500 -0.085790  0.223305  \n",
              "..        ...       ...       ...       ...       ...  \n",
              "571  0.255370 -0.123108  0.110559  0.072428  0.225521  \n",
              "572  0.276018  0.051745  0.083899  0.181996  0.118326  \n",
              "573  0.111566  0.261457 -0.050768  0.064735  0.209580  \n",
              "574 -0.152605  0.380927  0.003499 -0.184958  0.381979  \n",
              "575 -0.387337  0.360278 -0.015728 -0.225439  0.244649  \n",
              "\n",
              "[576 rows x 12 columns]"
            ],
            "text/html": [
              "\n",
              "  <div id=\"df-e0b3e024-6632-463a-afa6-7d9b5901ad84\">\n",
              "    <div class=\"colab-df-container\">\n",
              "      <div>\n",
              "<style scoped>\n",
              "    .dataframe tbody tr th:only-of-type {\n",
              "        vertical-align: middle;\n",
              "    }\n",
              "\n",
              "    .dataframe tbody tr th {\n",
              "        vertical-align: top;\n",
              "    }\n",
              "\n",
              "    .dataframe thead th {\n",
              "        text-align: right;\n",
              "    }\n",
              "</style>\n",
              "<table border=\"1\" class=\"dataframe\">\n",
              "  <thead>\n",
              "    <tr style=\"text-align: right;\">\n",
              "      <th></th>\n",
              "      <th>0</th>\n",
              "      <th>1</th>\n",
              "      <th>2</th>\n",
              "      <th>3</th>\n",
              "      <th>4</th>\n",
              "      <th>5</th>\n",
              "      <th>6</th>\n",
              "      <th>7</th>\n",
              "      <th>8</th>\n",
              "      <th>9</th>\n",
              "      <th>10</th>\n",
              "      <th>11</th>\n",
              "    </tr>\n",
              "  </thead>\n",
              "  <tbody>\n",
              "    <tr>\n",
              "      <th>0</th>\n",
              "      <td>-0.598026</td>\n",
              "      <td>0.912949</td>\n",
              "      <td>0.752409</td>\n",
              "      <td>0.713978</td>\n",
              "      <td>0.022649</td>\n",
              "      <td>-0.007495</td>\n",
              "      <td>-0.022037</td>\n",
              "      <td>0.318160</td>\n",
              "      <td>-0.303551</td>\n",
              "      <td>0.255477</td>\n",
              "      <td>0.108072</td>\n",
              "      <td>0.135600</td>\n",
              "    </tr>\n",
              "    <tr>\n",
              "      <th>1</th>\n",
              "      <td>-0.742100</td>\n",
              "      <td>1.015275</td>\n",
              "      <td>0.689037</td>\n",
              "      <td>0.904083</td>\n",
              "      <td>-0.021475</td>\n",
              "      <td>0.023846</td>\n",
              "      <td>-0.203283</td>\n",
              "      <td>0.121392</td>\n",
              "      <td>-0.155629</td>\n",
              "      <td>0.452719</td>\n",
              "      <td>0.126879</td>\n",
              "      <td>0.322789</td>\n",
              "    </tr>\n",
              "    <tr>\n",
              "      <th>2</th>\n",
              "      <td>-0.983421</td>\n",
              "      <td>0.867777</td>\n",
              "      <td>0.551197</td>\n",
              "      <td>0.949123</td>\n",
              "      <td>-0.049680</td>\n",
              "      <td>0.043048</td>\n",
              "      <td>-0.055927</td>\n",
              "      <td>0.084769</td>\n",
              "      <td>0.131396</td>\n",
              "      <td>0.298376</td>\n",
              "      <td>0.029264</td>\n",
              "      <td>0.252983</td>\n",
              "    </tr>\n",
              "    <tr>\n",
              "      <th>3</th>\n",
              "      <td>-1.190426</td>\n",
              "      <td>0.877608</td>\n",
              "      <td>0.543978</td>\n",
              "      <td>0.644281</td>\n",
              "      <td>-0.058860</td>\n",
              "      <td>-0.090205</td>\n",
              "      <td>0.152465</td>\n",
              "      <td>0.025415</td>\n",
              "      <td>0.104236</td>\n",
              "      <td>-0.136131</td>\n",
              "      <td>-0.071127</td>\n",
              "      <td>0.100298</td>\n",
              "    </tr>\n",
              "    <tr>\n",
              "      <th>4</th>\n",
              "      <td>-1.079222</td>\n",
              "      <td>0.979436</td>\n",
              "      <td>0.564403</td>\n",
              "      <td>0.453363</td>\n",
              "      <td>-0.192928</td>\n",
              "      <td>-0.302365</td>\n",
              "      <td>0.128677</td>\n",
              "      <td>-0.359147</td>\n",
              "      <td>-0.002343</td>\n",
              "      <td>-0.311500</td>\n",
              "      <td>-0.085790</td>\n",
              "      <td>0.223305</td>\n",
              "    </tr>\n",
              "    <tr>\n",
              "      <th>...</th>\n",
              "      <td>...</td>\n",
              "      <td>...</td>\n",
              "      <td>...</td>\n",
              "      <td>...</td>\n",
              "      <td>...</td>\n",
              "      <td>...</td>\n",
              "      <td>...</td>\n",
              "      <td>...</td>\n",
              "      <td>...</td>\n",
              "      <td>...</td>\n",
              "      <td>...</td>\n",
              "      <td>...</td>\n",
              "    </tr>\n",
              "    <tr>\n",
              "      <th>571</th>\n",
              "      <td>-1.942460</td>\n",
              "      <td>-1.219012</td>\n",
              "      <td>1.255551</td>\n",
              "      <td>-0.971341</td>\n",
              "      <td>0.873665</td>\n",
              "      <td>0.084815</td>\n",
              "      <td>-0.005489</td>\n",
              "      <td>0.255370</td>\n",
              "      <td>-0.123108</td>\n",
              "      <td>0.110559</td>\n",
              "      <td>0.072428</td>\n",
              "      <td>0.225521</td>\n",
              "    </tr>\n",
              "    <tr>\n",
              "      <th>572</th>\n",
              "      <td>-1.764630</td>\n",
              "      <td>-1.300275</td>\n",
              "      <td>1.371033</td>\n",
              "      <td>-0.901983</td>\n",
              "      <td>0.898811</td>\n",
              "      <td>0.033585</td>\n",
              "      <td>-0.093054</td>\n",
              "      <td>0.276018</td>\n",
              "      <td>0.051745</td>\n",
              "      <td>0.083899</td>\n",
              "      <td>0.181996</td>\n",
              "      <td>0.118326</td>\n",
              "    </tr>\n",
              "    <tr>\n",
              "      <th>573</th>\n",
              "      <td>-1.842400</td>\n",
              "      <td>-1.184668</td>\n",
              "      <td>1.008705</td>\n",
              "      <td>-0.967553</td>\n",
              "      <td>0.841579</td>\n",
              "      <td>-0.035729</td>\n",
              "      <td>0.002416</td>\n",
              "      <td>0.111566</td>\n",
              "      <td>0.261457</td>\n",
              "      <td>-0.050768</td>\n",
              "      <td>0.064735</td>\n",
              "      <td>0.209580</td>\n",
              "    </tr>\n",
              "    <tr>\n",
              "      <th>574</th>\n",
              "      <td>-2.015825</td>\n",
              "      <td>-1.259498</td>\n",
              "      <td>0.698565</td>\n",
              "      <td>-0.957936</td>\n",
              "      <td>0.505677</td>\n",
              "      <td>-0.024229</td>\n",
              "      <td>0.080122</td>\n",
              "      <td>-0.152605</td>\n",
              "      <td>0.380927</td>\n",
              "      <td>0.003499</td>\n",
              "      <td>-0.184958</td>\n",
              "      <td>0.381979</td>\n",
              "    </tr>\n",
              "    <tr>\n",
              "      <th>575</th>\n",
              "      <td>-2.068561</td>\n",
              "      <td>-1.205344</td>\n",
              "      <td>0.660289</td>\n",
              "      <td>-0.950084</td>\n",
              "      <td>0.169685</td>\n",
              "      <td>-0.054955</td>\n",
              "      <td>0.140031</td>\n",
              "      <td>-0.387337</td>\n",
              "      <td>0.360278</td>\n",
              "      <td>-0.015728</td>\n",
              "      <td>-0.225439</td>\n",
              "      <td>0.244649</td>\n",
              "    </tr>\n",
              "  </tbody>\n",
              "</table>\n",
              "<p>576 rows × 12 columns</p>\n",
              "</div>\n",
              "      <button class=\"colab-df-convert\" onclick=\"convertToInteractive('df-e0b3e024-6632-463a-afa6-7d9b5901ad84')\"\n",
              "              title=\"Convert this dataframe to an interactive table.\"\n",
              "              style=\"display:none;\">\n",
              "        \n",
              "  <svg xmlns=\"http://www.w3.org/2000/svg\" height=\"24px\"viewBox=\"0 0 24 24\"\n",
              "       width=\"24px\">\n",
              "    <path d=\"M0 0h24v24H0V0z\" fill=\"none\"/>\n",
              "    <path d=\"M18.56 5.44l.94 2.06.94-2.06 2.06-.94-2.06-.94-.94-2.06-.94 2.06-2.06.94zm-11 1L8.5 8.5l.94-2.06 2.06-.94-2.06-.94L8.5 2.5l-.94 2.06-2.06.94zm10 10l.94 2.06.94-2.06 2.06-.94-2.06-.94-.94-2.06-.94 2.06-2.06.94z\"/><path d=\"M17.41 7.96l-1.37-1.37c-.4-.4-.92-.59-1.43-.59-.52 0-1.04.2-1.43.59L10.3 9.45l-7.72 7.72c-.78.78-.78 2.05 0 2.83L4 21.41c.39.39.9.59 1.41.59.51 0 1.02-.2 1.41-.59l7.78-7.78 2.81-2.81c.8-.78.8-2.07 0-2.86zM5.41 20L4 18.59l7.72-7.72 1.47 1.35L5.41 20z\"/>\n",
              "  </svg>\n",
              "      </button>\n",
              "      \n",
              "  <style>\n",
              "    .colab-df-container {\n",
              "      display:flex;\n",
              "      flex-wrap:wrap;\n",
              "      gap: 12px;\n",
              "    }\n",
              "\n",
              "    .colab-df-convert {\n",
              "      background-color: #E8F0FE;\n",
              "      border: none;\n",
              "      border-radius: 50%;\n",
              "      cursor: pointer;\n",
              "      display: none;\n",
              "      fill: #1967D2;\n",
              "      height: 32px;\n",
              "      padding: 0 0 0 0;\n",
              "      width: 32px;\n",
              "    }\n",
              "\n",
              "    .colab-df-convert:hover {\n",
              "      background-color: #E2EBFA;\n",
              "      box-shadow: 0px 1px 2px rgba(60, 64, 67, 0.3), 0px 1px 3px 1px rgba(60, 64, 67, 0.15);\n",
              "      fill: #174EA6;\n",
              "    }\n",
              "\n",
              "    [theme=dark] .colab-df-convert {\n",
              "      background-color: #3B4455;\n",
              "      fill: #D2E3FC;\n",
              "    }\n",
              "\n",
              "    [theme=dark] .colab-df-convert:hover {\n",
              "      background-color: #434B5C;\n",
              "      box-shadow: 0px 1px 3px 1px rgba(0, 0, 0, 0.15);\n",
              "      filter: drop-shadow(0px 1px 2px rgba(0, 0, 0, 0.3));\n",
              "      fill: #FFFFFF;\n",
              "    }\n",
              "  </style>\n",
              "\n",
              "      <script>\n",
              "        const buttonEl =\n",
              "          document.querySelector('#df-e0b3e024-6632-463a-afa6-7d9b5901ad84 button.colab-df-convert');\n",
              "        buttonEl.style.display =\n",
              "          google.colab.kernel.accessAllowed ? 'block' : 'none';\n",
              "\n",
              "        async function convertToInteractive(key) {\n",
              "          const element = document.querySelector('#df-e0b3e024-6632-463a-afa6-7d9b5901ad84');\n",
              "          const dataTable =\n",
              "            await google.colab.kernel.invokeFunction('convertToInteractive',\n",
              "                                                     [key], {});\n",
              "          if (!dataTable) return;\n",
              "\n",
              "          const docLinkHtml = 'Like what you see? Visit the ' +\n",
              "            '<a target=\"_blank\" href=https://colab.research.google.com/notebooks/data_table.ipynb>data table notebook</a>'\n",
              "            + ' to learn more about interactive tables.';\n",
              "          element.innerHTML = '';\n",
              "          dataTable['output_type'] = 'display_data';\n",
              "          await google.colab.output.renderOutput(dataTable, element);\n",
              "          const docLink = document.createElement('div');\n",
              "          docLink.innerHTML = docLinkHtml;\n",
              "          element.appendChild(docLink);\n",
              "        }\n",
              "      </script>\n",
              "    </div>\n",
              "  </div>\n",
              "  "
            ]
          },
          "metadata": {},
          "execution_count": 97
        }
      ]
    },
    {
      "cell_type": "markdown",
      "source": [
        "[Eliminar multicolinealidad con PCA](https://medium.com/@awabmohammedomer/principal-component-analysis-pca-in-python-6897664f97d6#:~:text=PCA%20aims%20to%20reduce%20dimensionality,original%20data%20with%20less%20noise.)\n",
        "\n",
        "\n",
        "[collinearity-and-multicollinearity](https://towardsdatascience.com/statistics-in-python-collinearity-and-multicollinearity-4cc4dcd82b3f)\n",
        "\n",
        "[Dimension Reduction: Principal Components and Partial Least Squares Regression](https://www.datasklr.com/extensions-of-ols-regression/dimension-reduction-principal-components-regression)"
      ],
      "metadata": {
        "id": "Eu2m_VR6T4Jj"
      }
    },
    {
      "cell_type": "markdown",
      "source": [
        "En términos de variables aleatorias, podemos interpretar las descomposición de valores singulares (SVD) o el correspondiente análisis de componentes principales (PCA) como un modelo de estimación de las variables latentes Ecuación (14.78) del Libro.\n",
        "\n",
        "En el apartado 14.7 del libro se hace la diferencia entre el PCA y el Análisis Fcatorial, se puede ver que el análisis factorial está modelando la estructura de correlación en lugar de la estructura de covarianza de X."
      ],
      "metadata": {
        "id": "HR_QAJBaJhR2"
      }
    },
    {
      "cell_type": "markdown",
      "source": [
        "### Análisis factorial en selección de parques eólicos representativos de una región\n",
        "\n",
        "Sección del libro 14.7.1 Latent Variables and Factor Analysis\n",
        "\n",
        "En México, una gran cantidad de párques eólicos esta instalados en el Itzmo de Tehuantepec, Oaxaca. Los parques están distribuidos geográficamente en toda la zona"
      ],
      "metadata": {
        "id": "WUMiODO0UHiZ"
      }
    },
    {
      "cell_type": "code",
      "source": [
        "#https://drive.google.com/drive/folders/1Gj3XK9kM-lE18uBMe3qrZOGEm8yAI8i9\n",
        "#https://www.codegrepper.com/code-examples/python/how+to+read+csv+file+from+google+drive+on+google+colab+\n",
        "path        = 'https://drive.google.com/uc?export=download&id=' \n",
        "URL_Eolicas = 'https://drive.google.com/file/d/1FNMdGkhjypcGTAtPeOfw12EuAolUJ4Fh/view?usp=sharing'\n",
        "df = pd.read_csv(path + URL_Eolicas.split('/')[-2], usecols=['EOL1','EOL2','EOL3','EOL4','EOL5','EOL6','EOL7','EOL8','EOL9','EOL10','EOL12','EOL13','EOL14','EOL15','EOL16','EOL17','EOL18','EOL19','EOL20','EOL21','EOL22','EOL23','EOL24','EOL25','EOL26','EOL27','EOL28','EOL29','EOL30','EOL31','EOL32','EOL33','EOL34','EOL35','EOL36'] )\n",
        "df = df.dropna()\n",
        "#df = df.iloc[:, :]\n",
        "#df = df.iloc[1000:2000, :]\n",
        "df = df.sample(n=2000,replace=False)\n",
        "X = df.to_numpy()\n",
        "X = StandardScaler().fit_transform(X)"
      ],
      "metadata": {
        "id": "-Wy324ivVptY"
      },
      "execution_count": 98,
      "outputs": []
    },
    {
      "cell_type": "code",
      "source": [
        "plt.figure(figsize = (10,8))\n",
        "ax = plt.axes()\n",
        "im = ax.imshow(np.corrcoef(X.T), cmap=\"bwr\", vmin=-1, vmax=1, aspect='auto')\n",
        "feature_names = ['EOL1','EOL2','EOL3','EOL4','EOL5','EOL6','EOL7','EOL8','EOL9','EOL10','EOL12','EOL13','EOL14','EOL15','EOL16','EOL17','EOL18','EOL19','EOL20','EOL21','EOL22','EOL23','EOL24','EOL25','EOL26','EOL27','EOL28','EOL29','EOL30','EOL31','EOL32','EOL33','EOL34','EOL35','EOL36']\n",
        "ax.set_xticks([1,2,3,4,5,6,7,8,9,10,12,13,14,15,16,17,18,19,20,21,22,23,24,25,26,27,28,29,30,31,32,33,34,35,36])\n",
        "ax.set_xticklabels(list(feature_names), rotation=90)\n",
        "ax.set_yticks([1,2,3,4,5,6,7,8,9,10,12,13,14,15,16,17,18,19,20,21,22,23,24,25,26,27,28,29,30,31,32,33,34,35,36])\n",
        "ax.set_yticklabels(list(feature_names))\n",
        "\n",
        "plt.tick_params(colors = LETRASNARA, which='both')\n",
        "ax.spines['bottom'].set_color(LETRASNARA)\n",
        "ax.spines['top'   ].set_color(LETRASNARA) \n",
        "ax.spines['right' ].set_color(LETRASNARA)\n",
        "ax.spines['left'  ].set_color(LETRASNARA)    \n",
        "\n",
        "\n",
        "plt.colorbar(im).ax.set_ylabel(\"$r$\", rotation=0)\n",
        "ax.set_title(\"Correlaciones entre parques eólicos\", color=LETRASNARA, fontsize='x-large')\n",
        "plt.savefig('fig_t14_corr_eol', transparent=True)    \n",
        "plt.tight_layout()"
      ],
      "metadata": {
        "colab": {
          "base_uri": "https://localhost:8080/",
          "height": 585
        },
        "id": "XMAG2paRjmVz",
        "outputId": "a6ddf430-4d69-4bf2-f3c1-7f10d6116424"
      },
      "execution_count": 99,
      "outputs": [
        {
          "output_type": "display_data",
          "data": {
            "text/plain": [
              "<Figure size 720x576 with 2 Axes>"
            ],
            "image/png": "[encoded data removed]"
          },
          "metadata": {}
        }
      ]
    },
    {
      "cell_type": "code",
      "source": [
        "n_comps = 4\n",
        "\n",
        "methods = [(\"PCA\", PCA()),(\"FA sin rotación\", FactorAnalysis()),(\"FA con varimax\", FactorAnalysis(rotation=\"varimax\")),]\n",
        "fig, axes = plt.subplots(ncols=len(methods), figsize=(10,9))\n",
        "\n",
        "for ax, (method, fa) in zip(axes, methods):\n",
        "    fa.set_params(n_components=n_comps)\n",
        "    fa.fit(X)\n",
        "\n",
        "    components = fa.components_.T\n",
        "    print(\"\\n\\n %s :\\n\" % method)\n",
        "    print(components)\n",
        "\n",
        "    vmax = np.abs(components).max()\n",
        "    ax.imshow(components, cmap=\"bwr\", vmax=vmax, vmin=-vmax)\n",
        "    ax.set_yticks(np.arange(len(feature_names)))\n",
        "    if ax.is_first_col():\n",
        "        ax.set_yticklabels(feature_names, color=LETRASNARA, fontsize='large')\n",
        "        plt.tick_params(colors = LETRASNARA)\n",
        "    else:\n",
        "        ax.set_yticklabels([], color=LETRASNARA, fontsize='large')\n",
        "        plt.tick_params(colors = LETRASNARA)\n",
        "\n",
        "    ax.set_title(str(method), color=LETRASNARA, fontsize='x-large')\n",
        "    ax.set_xticks([0,1,2,3])\n",
        "    ax.set_xticklabels([\"F1\",\"F2\",\"F3\",\"F4\"], color=LETRASNARA, fontsize='large')\n",
        "\n",
        "    ax.spines['bottom'].set_color(LETRASNARA)\n",
        "    ax.spines['top'   ].set_color(LETRASNARA) \n",
        "    ax.spines['right' ].set_color(LETRASNARA)\n",
        "    ax.spines['left'  ].set_color(LETRASNARA)\n",
        "\n",
        "plt.tight_layout()\n",
        "plt.savefig('fig_t14_varimax', transparent=True) \n",
        "plt.show()"
      ],
      "metadata": {
        "colab": {
          "base_uri": "https://localhost:8080/",
          "height": 1000
        },
        "id": "mwySylATz0v6",
        "outputId": "ed398561-4c06-460f-929b-7f64ba6a883e"
      },
      "execution_count": 100,
      "outputs": [
        {
          "output_type": "stream",
          "name": "stdout",
          "text": [
            "\n",
            "\n",
            " PCA :\n",
            "\n",
            "[[ 2.02541692e-01  1.80588054e-02 -8.13061780e-03 -2.07940507e-02]\n",
            " [ 2.02704830e-01 -2.03719003e-02  4.38234812e-02 -3.14041680e-02]\n",
            " [ 1.89603912e-01 -9.60582405e-03 -3.49346736e-02 -1.74221014e-01]\n",
            " [ 1.60220438e-01 -2.32191738e-02 -1.52018231e-02 -3.24494585e-01]\n",
            " [ 1.85883274e-01  8.55540958e-03 -2.61618298e-02 -1.36974887e-01]\n",
            " [ 1.96004046e-01 -2.46034867e-02 -1.42852298e-02  3.40746467e-02]\n",
            " [ 1.97888343e-01 -1.49972393e-02  1.73609840e-02  6.07830659e-02]\n",
            " [ 2.03330825e-01  1.25556013e-02 -3.59113457e-02 -3.39402907e-02]\n",
            " [ 2.03724696e-01 -2.10848514e-02 -6.24950984e-03 -5.04436945e-02]\n",
            " [ 2.00097881e-01  2.19593717e-02 -2.67257418e-02 -7.70246943e-02]\n",
            " [ 1.93769376e-01 -7.61583695e-02  2.83912079e-02 -1.05952632e-01]\n",
            " [ 1.99314788e-01 -1.27467718e-02  3.42256459e-02  5.15898783e-02]\n",
            " [ 2.00975221e-01 -1.28231364e-02  4.06473244e-02  5.87921962e-02]\n",
            " [ 2.00740715e-01 -5.72319008e-02  4.00799154e-02 -1.79833760e-02]\n",
            " [ 2.01568019e-01 -2.96012137e-02  1.93354392e-02  7.45578386e-04]\n",
            " [ 2.02439551e-01 -4.10242720e-02  2.67904971e-02 -6.14116866e-02]\n",
            " [ 1.77118116e-01  8.40749562e-02 -1.03079258e-01  2.79128210e-01]\n",
            " [ 1.77118116e-01  8.40749562e-02 -1.03079258e-01  2.79128210e-01]\n",
            " [ 1.77118116e-01  8.40749562e-02 -1.03079258e-01  2.79128210e-01]\n",
            " [ 2.04121348e-01 -2.54481871e-04 -1.12169609e-02 -4.88246488e-02]\n",
            " [ 1.87390807e-01 -1.85474191e-02  2.17130280e-02  9.50609565e-02]\n",
            " [-3.94721330e-02 -3.13122903e-01  2.41817825e-01 -1.18128551e-02]\n",
            " [ 2.00177582e-01  1.99296587e-02 -4.52531801e-04  6.33274481e-02]\n",
            " [ 3.83042444e-02  3.51337333e-01  3.44194810e-01  9.07530651e-02]\n",
            " [-1.75073787e-02 -1.43991276e-01  5.38949632e-01 -1.45377873e-01]\n",
            " [ 2.00937581e-01  3.95187652e-03  1.59810050e-02 -1.94211015e-02]\n",
            " [ 1.99094530e-01 -3.70028017e-02  7.10245003e-03  1.93734760e-02]\n",
            " [-5.72151608e-03  2.67751119e-01  5.24457101e-01  1.33592060e-01]\n",
            " [ 1.91472255e-01  9.19970806e-03 -4.62659760e-03 -1.35389187e-01]\n",
            " [ 8.99013500e-02 -2.69989686e-03  4.48481878e-01  2.67569798e-02]\n",
            " [ 2.01198264e-01  6.56993610e-03 -1.67584303e-02 -4.75048495e-02]\n",
            " [ 1.50776129e-02 -4.64145845e-01  5.16372062e-02  3.92395513e-01]\n",
            " [ 5.48127076e-03 -4.81573591e-01  6.64678097e-02  3.83712042e-01]\n",
            " [ 2.63666768e-02  3.00005592e-01  9.85682231e-03  3.40410094e-01]\n",
            " [-3.40318526e-02  3.31594677e-01 -5.59855629e-02  2.69399244e-01]]\n",
            "\n",
            "\n",
            " FA sin rotación :\n",
            "\n",
            "[[ 7.85511537e-01  5.39333721e-01  1.14554042e-01 -8.47549475e-02]\n",
            " [ 7.40536868e-01  6.13252280e-01  9.51960676e-02  9.93526834e-02]\n",
            " [ 6.60191613e-01  6.11748778e-01  1.19536793e-01 -3.14358244e-01]\n",
            " [ 4.92139946e-01  5.97297555e-01  1.49939723e-01 -4.27780591e-01]\n",
            " [ 7.06165047e-01  4.91019559e-01  1.26093021e-01 -1.90733287e-01]\n",
            " [ 7.64336902e-01  5.16000398e-01  4.87012457e-02  6.06160192e-02]\n",
            " [ 7.72246932e-01  5.23686907e-01  5.52026668e-02  1.38331040e-01]\n",
            " [ 7.97866084e-01  5.25105564e-01  1.05956926e-01 -1.56578474e-01]\n",
            " [ 7.69425609e-01  5.79055999e-01  8.88939954e-02 -1.06057613e-01]\n",
            " [ 7.58020821e-01  5.52649779e-01  1.29478780e-01 -1.91610378e-01]\n",
            " [ 6.83846787e-01  6.25686944e-01  4.50548858e-02 -4.75942567e-02]\n",
            " [ 7.74588499e-01  5.39726213e-01  7.56956346e-02  2.48195826e-01]\n",
            " [ 7.94952664e-01  5.21733605e-01  6.52628964e-02  2.10442511e-01]\n",
            " [ 7.41912542e-01  6.03996812e-01  4.41650765e-02  1.02606068e-01]\n",
            " [ 7.72254353e-01  5.58564512e-01  6.83745326e-02  4.38362841e-02]\n",
            " [ 7.41298524e-01  6.11104859e-01  7.37560147e-02  1.08207362e-03]\n",
            " [ 1.00000000e+00 -4.16357724e-11 -6.74223070e-12 -7.73632877e-13]\n",
            " [ 1.00000000e+00 -4.16357724e-11 -6.74223070e-12 -7.73632877e-13]\n",
            " [ 1.00000000e+00 -4.16357724e-11 -6.74223070e-12 -7.73632865e-13]\n",
            " [ 7.79499484e-01  5.59244956e-01  1.05327991e-01 -1.06966941e-01]\n",
            " [ 7.59212601e-01  4.57166069e-01  4.98270786e-02  3.07411304e-01]\n",
            " [-2.16112879e-01  5.58235797e-02 -3.25671206e-01 -1.25852766e-03]\n",
            " [ 8.14815178e-01  4.72011696e-01  8.75622940e-02  1.16416395e-01]\n",
            " [ 2.03055407e-01 -4.66491535e-02  2.95767897e-01 -1.80960324e-02]\n",
            " [-1.34666650e-01  7.12932921e-02 -7.79835715e-02  8.15945990e-02]\n",
            " [ 7.72770957e-01  5.40238657e-01  1.07845400e-01 -5.97532793e-03]\n",
            " [ 7.51596614e-01  5.72010284e-01  6.41511683e-02  1.98268985e-01]\n",
            " [-2.19794433e-02 -5.10605972e-02  1.67947249e-01  2.28626754e-02]\n",
            " [ 7.13323109e-01  5.35293018e-01  1.22856917e-01 -2.33463498e-01]\n",
            " [ 3.20678808e-01  2.65211703e-01  3.48423850e-02  1.69385505e-01]\n",
            " [ 7.63631818e-01  5.59225631e-01  1.17243662e-01 -9.48392484e-02]\n",
            " [ 2.00022579e-02  2.52398414e-01 -9.35555086e-01 -1.15812265e-02]\n",
            " [-1.06641454e-02  2.20933589e-01 -9.64916468e-01 -1.68460352e-02]\n",
            " [ 2.03738069e-01 -1.18868465e-01  1.86190750e-01  1.14506704e-02]\n",
            " [-2.91286450e-02 -2.80834609e-01  2.07808526e-01 -9.91944350e-02]]\n",
            "\n",
            "\n",
            " FA con varimax :\n",
            "\n",
            "[[ 9.41919447e-01  9.27587409e-02  1.64130828e-02 -1.79246895e-01]\n",
            " [ 9.62301679e-01 -8.97591521e-02 -1.51219939e-02 -9.53758777e-02]\n",
            " [ 9.03098537e-01  3.24926833e-01 -6.07418000e-04 -4.51098680e-02]\n",
            " [ 7.78172664e-01  4.40068001e-01  2.63792295e-02  6.73486856e-02]\n",
            " [ 8.52707938e-01  1.98557224e-01  3.39101862e-02 -1.56084007e-01]\n",
            " [ 9.03866471e-01 -5.44577422e-02 -4.08937916e-02 -1.86817768e-01]\n",
            " [ 9.16644960e-01 -1.31870192e-01 -3.44575749e-02 -1.84339513e-01]\n",
            " [ 9.38485957e-01  1.63927634e-01  9.80982287e-03 -2.00861736e-01]\n",
            " [ 9.54968751e-01  1.14413783e-01 -1.75871310e-02 -1.45281938e-01]\n",
            " [ 9.32705521e-01  2.00424909e-01  2.56585021e-02 -1.50759885e-01]\n",
            " [ 9.22969842e-01  5.66170931e-02 -7.07344371e-02 -5.78234466e-02]\n",
            " [ 9.33670017e-01 -2.40850659e-01 -1.55501055e-02 -1.69210459e-01]\n",
            " [ 9.33371687e-01 -2.03923210e-01 -2.23562802e-02 -1.98579464e-01]\n",
            " [ 9.50047355e-01 -9.44571952e-02 -6.30562303e-02 -1.10619619e-01]\n",
            " [ 9.41724001e-01 -3.63577663e-02 -3.05327448e-02 -1.60840190e-01]\n",
            " [ 9.57238230e-01  7.88491848e-03 -3.75187852e-02 -1.03145103e-01]\n",
            " [ 6.98208092e-01 -8.07573789e-03  2.11468521e-02 -7.15536898e-01]\n",
            " [ 6.98208092e-01 -8.07573789e-03  2.11468521e-02 -7.15536898e-01]\n",
            " [ 6.98208092e-01 -8.07573789e-03  2.11468521e-02 -7.15536898e-01]\n",
            " [ 9.50226584e-01  1.15212435e-01  2.75049153e-03 -1.63395983e-01]\n",
            " [ 8.62190048e-01 -3.02314241e-01 -2.31132279e-02 -2.17000540e-01]\n",
            " [-1.54684716e-01 -3.68178577e-03 -3.34655431e-01  1.41241609e-01]\n",
            " [ 9.14012822e-01 -1.10641182e-01  8.28311327e-03 -2.45375687e-01]\n",
            " [ 1.47822892e-01  2.26044128e-02  3.02872344e-01 -1.30841635e-01]\n",
            " [-5.31420073e-02 -8.08142033e-02 -9.22068728e-02  1.34535647e-01]\n",
            " [ 9.33776313e-01  1.39829995e-02  1.09006470e-02 -1.68661026e-01]\n",
            " [ 9.38166470e-01 -1.90350034e-01 -3.49080170e-02 -1.33832610e-01]\n",
            " [-2.87756576e-02 -1.97049244e-02  1.74752761e-01  8.02565027e-03]\n",
            " [ 8.87879308e-01  2.42081296e-01  2.09958946e-02 -1.32641069e-01]\n",
            " [ 4.17230537e-01 -1.65322682e-01 -1.03041202e-02 -3.94778635e-02]\n",
            " [ 9.40863414e-01  1.03507831e-01  1.43079815e-02 -1.49882839e-01]\n",
            " [ 6.77117087e-02 -5.80749512e-03 -9.66846189e-01  9.60922000e-03]\n",
            " [ 2.02175837e-02 -1.68701884e-03 -9.89864756e-01  5.39640407e-03]\n",
            " [ 8.33874340e-02 -1.11412305e-02  2.11066944e-01 -1.97002995e-01]\n",
            " [-1.91691225e-01  9.83566149e-02  2.58405048e-01 -1.39813291e-01]]\n"
          ]
        },
        {
          "output_type": "display_data",
          "data": {
            "text/plain": [
              "<Figure size 720x648 with 3 Axes>"
            ],
            "image/png": "[encoded data removed]"
          },
          "metadata": {}
        }
      ]
    },
    {
      "cell_type": "markdown",
      "source": [
        "# 14.3.12 Hierarchical Clustering"
      ],
      "metadata": {
        "id": "NgoJ-n-iuTjo"
      }
    },
    {
      "cell_type": "code",
      "source": [
        "#https://scikit-learn.org/stable/auto_examples/cluster/plot_agglomerative_dendrogram.html#\n",
        "#https://support.minitab.com/es-mx/minitab/18/help-and-how-to/modeling-statistics/multivariate/how-to/cluster-observations/interpret-the-results/all-statistics-and-graphs/dendrogram/#:~:text=Interpretaci%C3%B3n,una%20l%C3%ADnea%20horizontal%20del%20dendrograma.\n",
        "\n",
        "    # Create linkage matrix and then plot the dendrogram\n",
        "def plot_dendrogram(model, **kwargs):\n",
        "    \n",
        "    # create the counts of samples under each node\n",
        "    counts = np.zeros(model.children_.shape[0])\n",
        "    n_samples = len(model.labels_)\n",
        "    for i, merge in enumerate(model.children_):\n",
        "        current_count = 0\n",
        "        for child_idx in merge:\n",
        "            if child_idx < n_samples:\n",
        "                current_count += 1  # leaf node\n",
        "            else:\n",
        "                current_count += counts[child_idx - n_samples]\n",
        "        counts[i] = current_count\n",
        "\n",
        "    linkage_matrix = np.column_stack([model.children_, model.distances_, counts]).astype(float)\n",
        "\n",
        "    # Plot the corresponding dendrogram\n",
        "    dendrogram(linkage_matrix, **kwargs)\n",
        "\n",
        "# setting distance_threshold=0 ensures we compute the full tree.\n",
        "model = AgglomerativeClustering(distance_threshold=0, n_clusters= None).fit(X.T)\n",
        "\n",
        "# plot the top 'p' levels of the dendrogram\n",
        "p = 100\n",
        "\n",
        "fig, ax = plt.subplots(figsize=(10,10))\n",
        "plt.tick_params(colors = LETRASNARA, which='both')\n",
        "ax.spines['bottom'].set_color(LETRASNARA)\n",
        "ax.spines['top'   ].set_color(LETRASNARA) \n",
        "ax.spines['right' ].set_color(LETRASNARA)\n",
        "ax.spines['left'  ].set_color(LETRASNARA)    \n",
        "\n",
        "plt.title(\"Dendograma de agrupamiento jerárquico\",  color=LETRASNARA, fontsize='x-large')\n",
        "plot_dendrogram(model, truncate_mode=\"level\", p=p)\n",
        "\n",
        "\n",
        "plt.xlabel(\"Número de puntos en el nodo \\n(o índice del punto si no hay paréntesis)\",  color=LETRASNARA, fontsize='large')\n",
        "plt.savefig('fig_t14_dendogram', transparent=True)    \n",
        "plt.show()"
      ],
      "metadata": {
        "colab": {
          "base_uri": "https://localhost:8080/",
          "height": 645
        },
        "id": "glU8FMiuUwwd",
        "outputId": "3dd56491-5de9-40a0-de7c-556bc5abb976"
      },
      "execution_count": 101,
      "outputs": [
        {
          "output_type": "display_data",
          "data": {
            "text/plain": [
              "<Figure size 720x720 with 1 Axes>"
            ],
            "image/png": "[encoded data removed]"
          },
          "metadata": {
            "needs_background": "dark"
          }
        }
      ]
    }
  ]
}
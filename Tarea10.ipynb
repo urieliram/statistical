{
  "nbformat": 4,
  "nbformat_minor": 0,
  "metadata": {
    "colab": {
      "name": "Tarea10.ipynb",
      "provenance": [],
      "collapsed_sections": [],
      "authorship_tag": "ABX9TyPxkwwUCJKimWYJJ5YJOOBl",
      "include_colab_link": true
    },
    "kernelspec": {
      "name": "python3",
      "display_name": "Python 3"
    },
    "language_info": {
      "name": "python"
    }
  },
  "cells": [
    {
      "cell_type": "markdown",
      "metadata": {
        "id": "view-in-github",
        "colab_type": "text"
      },
      "source": [
        "<a href=\"https://colab.research.google.com/github/urieliram/statistical/blob/main/Tarea10.ipynb\" target=\"_parent\"><img src=\"https://colab.research.google.com/assets/colab-badge.svg\" alt=\"Open In Colab\"/></a>"
      ]
    },
    {
      "cell_type": "code",
      "execution_count": 292,
      "metadata": {
        "id": "RD2DDr2t1hL1"
      },
      "outputs": [],
      "source": [
        "import numpy as np\n",
        "import pandas as pd\n",
        "import matplotlib.pyplot as plt\n",
        "import numpy as np\n",
        "from sklearn import datasets, ensemble\n",
        "from sklearn.inspection import permutation_importance\n",
        "from sklearn.metrics import mean_absolute_error\n",
        "from sklearn.model_selection import train_test_split"
      ]
    },
    {
      "cell_type": "markdown",
      "source": [
        "En esta tarea aplicaremos el procedimiento de predicción de precios de casas desarrollado en el [libro]() en la `sección 10.14.1 California Housing`.\n",
        "\n",
        "Usaremos el modelo de aumento de gradiente **(Gradient Boosting)** para producir un modelo predictivo a partir de un conjunto de modelos predictivos débiles **(weak)**, usando la función **ensemble.GradientBoostingRegressor** de la librería **sklearn**.\n",
        "\n",
        "El aumento de gradiente **(Gradient Boosting)** se puede utilizar para problemas de regresión y clasificación. En esta tarea, entrenaremos un modelo para predecir demanda eléctrica. Obtendremos los resultados con una función de pérdida por diferencia absuluta. 500 árboles de regresión `n_estimators=500`, con un número profundidad `J=6` y una tasa de aprendizaje de `learning_rate\": 0.01`."
      ],
      "metadata": {
        "id": "hiFOg-oD-CPM"
      }
    },
    {
      "cell_type": "code",
      "source": [
        "df  = pd.read_csv('demanda.csv')\n",
        "X   = pd.DataFrame(df[['X1','X2']]).to_numpy()\n",
        "X   = pd.DataFrame(df[['X0','X1','X2','X3','X4','X5','X6','X7','X8','X9']]).to_numpy()\n",
        "y   = pd.DataFrame(df[['Y']]).to_numpy()"
      ],
      "metadata": {
        "id": "kj9uq9UaFyf2"
      },
      "execution_count": 293,
      "outputs": []
    },
    {
      "cell_type": "code",
      "source": [
        "# diabetes = datasets.load_diabetes()\n",
        "# X, y = diabetes.data, diabetes.target"
      ],
      "metadata": {
        "id": "so_JYpjBkUKM"
      },
      "execution_count": 294,
      "outputs": []
    },
    {
      "cell_type": "code",
      "source": [
        "X_train, X_test, y_train, y_test = train_test_split(X, y, test_size=0.2, random_state=5 )\n",
        "\n",
        "params = { \"n_estimators\": 500,\n",
        "           \"max_depth\": 6,\n",
        "           \"min_samples_split\": 5,\n",
        "           \"learning_rate\": 0.01,\n",
        "           \"loss\": \"absolute_error\",} #\"squared_error\", \"absolute_error\", \"huber\", \"quantile\""
      ],
      "metadata": {
        "id": "sZjQL5Js8Lg-"
      },
      "execution_count": 295,
      "outputs": []
    },
    {
      "cell_type": "code",
      "source": [
        "reg = ensemble.GradientBoostingRegressor(**params)\n",
        "reg.fit(X_train, y_train)\n",
        "\n",
        "mae = mean_absolute_error(y_test, reg.predict(X_test))\n",
        "print(\"The mean absolute error (MAE) on test set: {:.4f}\".format(mae))"
      ],
      "metadata": {
        "colab": {
          "base_uri": "https://localhost:8080/"
        },
        "id": "pGIerLOU8RRq",
        "outputId": "07c04368-ed0d-45de-9cc1-70fcf834d411"
      },
      "execution_count": 296,
      "outputs": [
        {
          "output_type": "stream",
          "name": "stderr",
          "text": [
            "/usr/local/lib/python3.7/dist-packages/sklearn/ensemble/_gb.py:494: DataConversionWarning: A column-vector y was passed when a 1d array was expected. Please change the shape of y to (n_samples, ), for example using ravel().\n",
            "  y = column_or_1d(y, warn=True)\n"
          ]
        },
        {
          "output_type": "stream",
          "name": "stdout",
          "text": [
            "The mean absolute error (MAE) on test set: 93.6218\n"
          ]
        }
      ]
    },
    {
      "cell_type": "code",
      "source": [
        "test_score = np.zeros((params[\"n_estimators\"],), dtype=np.float64)\n",
        "for i, y_pred in enumerate(reg.staged_predict(X_test)):\n",
        "    test_score[i] = reg.loss_(y_test, y_pred)\n",
        "\n",
        "fig = plt.figure(figsize=(6, 6))\n",
        "plt.subplot(1, 1, 1)\n",
        "plt.title(\"Deviance\")\n",
        "plt.plot(\n",
        "    np.arange(params[\"n_estimators\"]) + 1,\n",
        "    reg.train_score_,\n",
        "    \"b-\",\n",
        "    label=\"Training Set Deviance\",\n",
        ")\n",
        "plt.plot(\n",
        "    np.arange(params[\"n_estimators\"]) + 1, test_score, \"r-\", label=\"Test Set Deviance\"\n",
        ")\n",
        "plt.legend(loc=\"upper right\")\n",
        "plt.xlabel(\"Boosting Iterations\")\n",
        "plt.ylabel(\"Deviance\")\n",
        "fig.tight_layout()\n",
        "plt.show()"
      ],
      "metadata": {
        "colab": {
          "base_uri": "https://localhost:8080/",
          "height": 441
        },
        "id": "wH3xKz_88XRh",
        "outputId": "6aa6aad3-4696-4845-eefa-f5f6b56599df"
      },
      "execution_count": 297,
      "outputs": [
        {
          "output_type": "display_data",
          "data": {
            "image/png": "[encoded data removed]",
            "text/plain": [
              "<Figure size 432x432 with 1 Axes>"
            ]
          },
          "metadata": {
            "needs_background": "light"
          }
        }
      ]
    },
    {
      "cell_type": "code",
      "source": [
        "feature_importance = reg.feature_importances_\n",
        "sorted_idx = np.argsort(feature_importance)\n",
        "pos = np.arange(sorted_idx.shape[0]) + 0.5\n",
        "fig = plt.figure(figsize=(12, 6))\n",
        "plt.subplot(1, 2, 1)\n",
        "plt.barh(pos, feature_importance[sorted_idx], align=\"center\")\n",
        "plt.yticks(pos, np.array(['X0','X1','X2','X3','X4','X5','X6','X7','X8','X9'])[sorted_idx])\n",
        "plt.title(\"Feature Importance (MDI)\")\n",
        "\n",
        "result = permutation_importance(\n",
        "    reg, X_test, y_test, n_repeats=10, random_state=42, n_jobs=2\n",
        ")\n",
        "sorted_idx = result.importances_mean.argsort()\n",
        "plt.subplot(1, 2, 2)\n",
        "plt.boxplot(\n",
        "    result.importances[sorted_idx].T,\n",
        "    vert=False,\n",
        "    labels=np.array(['X0','X1','X2','X3','X4','X5','X6','X7','X8','X9'])[sorted_idx],\n",
        ")\n",
        "plt.title(\"Permutation Importance (test set)\")\n",
        "fig.tight_layout()\n",
        "plt.show()\n"
      ],
      "metadata": {
        "colab": {
          "base_uri": "https://localhost:8080/",
          "height": 441
        },
        "id": "TypG0KEd8cVD",
        "outputId": "fed23f14-4c5c-4a0f-fdb3-a8b5c60c9a7b"
      },
      "execution_count": 298,
      "outputs": [
        {
          "output_type": "display_data",
          "data": {
            "image/png": "[encoded data removed]",
            "text/plain": [
              "<Figure size 864x432 with 2 Axes>"
            ]
          },
          "metadata": {
            "needs_background": "light"
          }
        }
      ]
    },
    {
      "cell_type": "markdown",
      "source": [
        "[Gradient Boosting regression](https://scikit-learn.org/stable/auto_examples/ensemble/plot_gradient_boosting_regression.html)\n",
        "\n",
        "[sklearn.ensemble.GradientBoostingRegressor](https://scikit-learn.org/stable/modules/generated/sklearn.ensemble.GradientBoostingRegressor.html)\n"
      ],
      "metadata": {
        "id": "OsjAgr908hza"
      }
    }
  ]
}
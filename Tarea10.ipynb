{
  "nbformat": 4,
  "nbformat_minor": 0,
  "metadata": {
    "colab": {
      "name": "Tarea10.ipynb",
      "provenance": [],
      "collapsed_sections": [],
      "authorship_tag": "ABX9TyNH27WZhh0n+ES9mAko13Kh",
      "include_colab_link": true
    },
    "kernelspec": {
      "name": "python3",
      "display_name": "Python 3"
    },
    "language_info": {
      "name": "python"
    }
  },
  "cells": [
    {
      "cell_type": "markdown",
      "metadata": {
        "id": "view-in-github",
        "colab_type": "text"
      },
      "source": [
        "<a href=\"https://colab.research.google.com/github/urieliram/statistical/blob/main/Tarea10.ipynb\" target=\"_parent\"><img src=\"https://colab.research.google.com/assets/colab-badge.svg\" alt=\"Open In Colab\"/></a>"
      ]
    },
    {
      "cell_type": "code",
      "execution_count": 350,
      "metadata": {
        "id": "RD2DDr2t1hL1"
      },
      "outputs": [],
      "source": [
        "import numpy as np\n",
        "import pandas as pd\n",
        "import matplotlib.pyplot as plt\n",
        "import numpy as np\n",
        "from sklearn import datasets, ensemble\n",
        "from sklearn.inspection import permutation_importance\n",
        "from sklearn.metrics import mean_absolute_error\n",
        "from sklearn.model_selection import train_test_split"
      ]
    },
    {
      "cell_type": "markdown",
      "source": [
        "En esta tarea aplicaremos el procedimiento de predicción de precios de casas desarrollado en el [libro]() en la `sección 10.14.1 California Housing`.\n",
        "\n",
        "Usaremos el modelo de aumento de gradiente **(Gradient Boosting)** para producir un modelo predictivo a partir de un conjunto de modelos predictivos débiles **(weak)**, usando la función **ensemble.GradientBoostingRegressor** de la librería **sklearn**.\n",
        "\n",
        "El aumento de gradiente **(Gradient Boosting)** se puede utilizar para problemas de regresión y clasificación. En esta tarea, entrenaremos un modelo de regresión para predecir demanda eléctrica usando datos de demanda de días semejantes. Obtendremos los resultados con una función de pérdida por diferencia absuluta, usaremos 500 árboles de regresión `n_estimators=500`, con un número profundidad `J=6` y una tasa de aprendizaje de `learning_rate\": 0.01`."
      ],
      "metadata": {
        "id": "hiFOg-oD-CPM"
      }
    },
    {
      "cell_type": "code",
      "source": [
        "# diabetes = datasets.load_diabetes()\n",
        "# X, y = diabetes.data, diabetes.target"
      ],
      "metadata": {
        "id": "so_JYpjBkUKM"
      },
      "execution_count": 351,
      "outputs": []
    },
    {
      "cell_type": "code",
      "source": [
        "#df  = pd.read_csv('prostata.csv')\n",
        "#X   = pd.DataFrame(df[['lcavol','lweight','age','lbph','svi','lcp','gleason','pgg45']]).to_numpy()\n",
        "#y   = pd.DataFrame(df[['lpsa']]).to_numpy()"
      ],
      "metadata": {
        "id": "JMro66xcNCw1"
      },
      "execution_count": 352,
      "outputs": []
    },
    {
      "cell_type": "code",
      "source": [
        "#df  = pd.read_csv('demanda.csv')\n",
        "#X   = pd.DataFrame(df[['X0','X1','X2','X3','X4','X5','X6','X7','X8','X9']]).to_numpy()\n",
        "#y   = pd.DataFrame(df[['Y']]).to_numpy()"
      ],
      "metadata": {
        "id": "kj9uq9UaFyf2"
      },
      "execution_count": 353,
      "outputs": []
    },
    {
      "cell_type": "code",
      "source": [
        "df    = pd.read_csv('demanda.csv')\n",
        "\n",
        "## Procesamos datos de entrenamiento \n",
        "df1 = df.loc[df.iloc[:,20].isin(['T'])] ## 'T' = training set\n",
        "df2 = df1['Y']  \n",
        "df1 = df1[['X1','X2','X3','X4','X5','X6','X7','X8','X9','X10','X11','X12','X13','X14','X15','X16','X17','X18']] ## Regresores\n",
        "\n",
        "## Procesamos datos de prueba \n",
        "dft = df.loc[df.iloc[:,20].isin(['F'])] ## 'F' = test set\n",
        "dft2 = dft['Y']\n",
        "dft1 = dft[['X1','X2','X3','X4','X5','X6','X7','X8','X9','X10','X11','X12','X13','X14','X15','X16','X17','X18']] ## Regresores\n",
        "\n",
        "print(df)"
      ],
      "metadata": {
        "id": "mIjVFozBQAf7",
        "outputId": "912f0c37-13c8-438d-bdd5-cd78f30837be",
        "colab": {
          "base_uri": "https://localhost:8080/"
        }
      },
      "execution_count": 354,
      "outputs": [
        {
          "output_type": "stream",
          "name": "stdout",
          "text": [
            "     X0         X1         X2         X3         X4         X5           X6  \\\n",
            "0     1  8446.2546  8542.5188  8636.1652  7680.2550  7879.4424  8218.927000   \n",
            "1     1  8405.4098  8562.9526  8614.5186  7640.0082  7993.4402  8098.442200   \n",
            "2     1  8306.6222  8609.1252  8615.0144  7623.4334  7984.0294  8142.563000   \n",
            "3     1  8376.7830  8575.4184  8528.9058  7503.8736  7890.5644  8238.174600   \n",
            "4     1  8501.6664  8634.0382  8399.8990  7411.2114  7988.8982  8379.275000   \n",
            "..   ..        ...        ...        ...        ...        ...          ...   \n",
            "571   1  8282.7168  8573.3440  8526.8084  7751.7116  7549.2974  8365.294167   \n",
            "572   1  8288.4040  8713.6944  8543.7800  7724.8552  7490.0160  8303.711600   \n",
            "573   1  8261.1958  8655.5832  8507.6230  7564.1578  7611.4526  8292.295400   \n",
            "574   1  8188.9102  8525.3702  8527.4594  7505.8454  7777.4772  8351.025000   \n",
            "575   1  8183.5672  8556.3534  8529.7884  7487.4990  7812.5252  8406.598600   \n",
            "\n",
            "              X7         X8         X9  ...        X11        X12        X13  \\\n",
            "0    8365.294167  8000.1556  8485.5094  ...  8529.7884  8275.0908  8171.9804   \n",
            "1    8303.711600  7970.2000  8577.9318  ...  8389.9512  8282.7168  8200.5242   \n",
            "2    8292.295400  7978.8050  8562.1044  ...  8374.8898  8288.4040  8120.0520   \n",
            "3    8351.025000  8100.2644  8352.8048  ...  8475.7716  8261.1958  8036.0498   \n",
            "4    8406.598600  8076.0462  8345.3904  ...  8503.8324  8188.9102  8024.9798   \n",
            "..           ...        ...        ...  ...        ...        ...        ...   \n",
            "571  7980.817400  7900.2860  7702.5396  ...  8173.6168  7598.5434  7516.9920   \n",
            "572  7969.160200  7954.3452  7796.3140  ...  8265.7796  7559.9858  7538.5900   \n",
            "573  8046.322000  7913.1048  7861.0268  ...  8322.7704  7607.9946  7414.2996   \n",
            "574  8106.169600  7882.4630  7964.4270  ...  8175.2016  7570.3624  7298.5030   \n",
            "575  8178.798400  7855.4910  8040.0636  ...  8136.3872  7502.6524  7291.3482   \n",
            "\n",
            "           X14        X15         X16        X17        X18            Y  \\\n",
            "0    7599.5990  7597.6966  8236.81520  7557.1776  7529.8678  8549.068600   \n",
            "1    7571.5456  7527.6452  8226.38140  7560.9142  7514.3512  8601.504800   \n",
            "2    7533.9020  7471.1716  8165.52400  7406.2252  7437.3758  8592.537600   \n",
            "3    7481.1406  7470.1124  8027.31360  7295.6584  7473.0412  8563.225200   \n",
            "4    7448.5876  7506.5060  7953.53320  7371.8246  7506.5386  8562.674600   \n",
            "..         ...        ...         ...        ...        ...          ...   \n",
            "571  8069.8994  7775.8190  8329.82325  7290.6536  7382.3426  8526.538800   \n",
            "572  8122.6926  7782.2198  8329.59100  7336.2162  7320.6202  8550.101000   \n",
            "573  8043.0774  7791.8540  8291.18225  7314.8592  7227.0550  8636.880400   \n",
            "574  7985.7718  7764.6904  8245.08150  7187.6038  7255.4466  8409.501208   \n",
            "575  7932.6370  7675.5842  8218.83975  7096.9116  7354.0994  8370.977000   \n",
            "\n",
            "     train  \n",
            "0        T  \n",
            "1        T  \n",
            "2        T  \n",
            "3        T  \n",
            "4        T  \n",
            "..     ...  \n",
            "571      F  \n",
            "572      F  \n",
            "573      F  \n",
            "574      F  \n",
            "575      F  \n",
            "\n",
            "[576 rows x 21 columns]\n"
          ]
        }
      ]
    },
    {
      "cell_type": "code",
      "source": [
        "#df1.std(numeric_only = True) \n",
        "#df1.mean(numeric_only = True)\n",
        "#df1 = df1 - df1.mean(numeric_only = True)\n",
        "#df1 = df1 / df1.std(numeric_only = True) \n",
        "X_train = df1.to_numpy()   ## Predictors\n",
        "#X_train = sm.add_constant(X_train)\n",
        "y_train = df2.to_numpy()   ## Outcome\n",
        "\n",
        "#dft1.std(numeric_only = True) \n",
        "#dft1.mean(numeric_only = True)\n",
        "#dft1 = dft1 - dft1.mean(numeric_only = True)\n",
        "#dft1 = dft1 / dft1.std(numeric_only = True) \n",
        "X_test = dft1.to_numpy()   ## Predictors\n",
        "#X_test = sm.add_constant(X_test)\n",
        "y_test = dft2.to_numpy()   ## Outcome"
      ],
      "metadata": {
        "id": "tycfei2vQUVy"
      },
      "execution_count": 355,
      "outputs": []
    },
    {
      "cell_type": "code",
      "source": [
        "#X_train, X_test, y_train, y_test = train_test_split(X, y, test_size=0.3, random_state=5 )\n",
        "\n",
        "params = { \"n_estimators\": 500,\n",
        "           \"max_depth\": 6,\n",
        "           \"min_samples_split\": 5,\n",
        "           \"learning_rate\": 0.01,\n",
        "           \"loss\": \"absolute_error\",} #\"squared_error\", \"absolute_error\", \"huber\", \"quantile\""
      ],
      "metadata": {
        "id": "sZjQL5Js8Lg-"
      },
      "execution_count": 356,
      "outputs": []
    },
    {
      "cell_type": "code",
      "source": [
        "reg = ensemble.GradientBoostingRegressor(**params)\n",
        "reg.fit(X_train, y_train)\n",
        "\n",
        "mae = mean_absolute_error(y_test, reg.predict(X_test))\n",
        "print(\"The mean absolute error (MAE) on test set: {:.4f}\".format(mae))"
      ],
      "metadata": {
        "colab": {
          "base_uri": "https://localhost:8080/"
        },
        "id": "pGIerLOU8RRq",
        "outputId": "fa1d1a2e-2683-49ea-f9de-a6c8a3acae2a"
      },
      "execution_count": 357,
      "outputs": [
        {
          "output_type": "stream",
          "name": "stdout",
          "text": [
            "The mean absolute error (MAE) on test set: 174.8712\n"
          ]
        }
      ]
    },
    {
      "cell_type": "code",
      "source": [
        "test_score = np.zeros((params[\"n_estimators\"],), dtype=np.float64)\n",
        "for i, y_pred in enumerate(reg.staged_predict(X_test)):\n",
        "    test_score[i] = reg.loss_(y_test, y_pred)\n",
        "\n",
        "fig = plt.figure(figsize=(6, 6))\n",
        "plt.subplot(1, 1, 1)\n",
        "plt.title(\"Deviance\")\n",
        "plt.plot(\n",
        "    np.arange(params[\"n_estimators\"]) + 1,\n",
        "    reg.train_score_,\n",
        "    \"b-\",\n",
        "    label=\"Training Set Deviance\",\n",
        ")\n",
        "plt.plot(\n",
        "    np.arange(params[\"n_estimators\"]) + 1, test_score, \"r-\", label=\"Test Set Deviance\"\n",
        ")\n",
        "plt.legend(loc=\"upper right\")\n",
        "plt.xlabel(\"Boosting Iterations\")\n",
        "plt.ylabel(\"Deviance\")\n",
        "fig.tight_layout()\n",
        "plt.show()"
      ],
      "metadata": {
        "colab": {
          "base_uri": "https://localhost:8080/",
          "height": 441
        },
        "id": "wH3xKz_88XRh",
        "outputId": "9eceb57b-05d2-4965-d179-e1b98daab21b"
      },
      "execution_count": 358,
      "outputs": [
        {
          "output_type": "display_data",
          "data": {
            "text/plain": [
              "<Figure size 432x432 with 1 Axes>"
            ],
            "image/png": "[encoded data removed]"
          },
          "metadata": {
            "needs_background": "light"
          }
        }
      ]
    },
    {
      "cell_type": "code",
      "source": [
        "feature_importance = reg.feature_importances_\n",
        "sorted_idx = np.argsort(feature_importance)\n",
        "pos = np.arange(sorted_idx.shape[0]) + 0.5\n",
        "fig = plt.figure(figsize=(12, 6))\n",
        "plt.subplot(1, 2, 1)\n",
        "plt.barh(pos, feature_importance[sorted_idx], align=\"center\")\n",
        "plt.yticks(pos, np.array(['X0','X1','X2','X3','X4','X5','X6','X7','X8','X9','X10','X11','X12','X13','X14','X15','X16','X17','X18'])[sorted_idx])\n",
        "plt.title(\"Feature Importance (MDI)\")\n",
        "\n",
        "result = permutation_importance(\n",
        "    reg, X_test, y_test, n_repeats=10, random_state=42, n_jobs=2\n",
        ")\n",
        "sorted_idx = result.importances_mean.argsort()\n",
        "plt.subplot(1, 2, 2)\n",
        "plt.boxplot(\n",
        "    result.importances[sorted_idx].T,\n",
        "    vert=False,\n",
        "    labels=np.array(['X0','X1','X2','X3','X4','X5','X6','X7','X8','X9','X10','X11','X12','X13','X14','X15','X16','X17','X18'])[sorted_idx],\n",
        ")\n",
        "plt.title(\"Permutation Importance (test set)\")\n",
        "fig.tight_layout()\n",
        "plt.show()\n"
      ],
      "metadata": {
        "colab": {
          "base_uri": "https://localhost:8080/",
          "height": 441
        },
        "id": "TypG0KEd8cVD",
        "outputId": "d48f89a8-e799-4394-ff3e-b303ff5e2d63"
      },
      "execution_count": 359,
      "outputs": [
        {
          "output_type": "display_data",
          "data": {
            "text/plain": [
              "<Figure size 864x432 with 2 Axes>"
            ],
            "image/png": "[encoded data removed]"
          },
          "metadata": {
            "needs_background": "light"
          }
        }
      ]
    },
    {
      "cell_type": "markdown",
      "source": [
        "[Gradient Boosting regression](https://scikit-learn.org/stable/auto_examples/ensemble/plot_gradient_boosting_regression.html)\n",
        "\n",
        "[sklearn.ensemble.GradientBoostingRegressor](https://scikit-learn.org/stable/modules/generated/sklearn.ensemble.GradientBoostingRegressor.html)\n"
      ],
      "metadata": {
        "id": "OsjAgr908hza"
      }
    }
  ]
}
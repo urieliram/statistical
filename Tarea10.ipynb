{
  "nbformat": 4,
  "nbformat_minor": 0,
  "metadata": {
    "colab": {
      "name": "Tarea10.ipynb",
      "provenance": [],
      "collapsed_sections": [],
      "authorship_tag": "ABX9TyNQk8Bi+TEPT7evIX+EMPnb",
      "include_colab_link": true
    },
    "kernelspec": {
      "name": "python3",
      "display_name": "Python 3"
    },
    "language_info": {
      "name": "python"
    }
  },
  "cells": [
    {
      "cell_type": "markdown",
      "metadata": {
        "id": "view-in-github",
        "colab_type": "text"
      },
      "source": [
        "<a href=\"https://colab.research.google.com/github/urieliram/statistical/blob/main/Tarea10.ipynb\" target=\"_parent\"><img src=\"https://colab.research.google.com/assets/colab-badge.svg\" alt=\"Open In Colab\"/></a>"
      ]
    },
    {
      "cell_type": "code",
      "execution_count": 160,
      "metadata": {
        "id": "RD2DDr2t1hL1"
      },
      "outputs": [],
      "source": [
        "import numpy as np\n",
        "import pandas as pd\n",
        "import matplotlib.pyplot as plt\n",
        "import numpy as np\n",
        "from sklearn import datasets, ensemble\n",
        "from sklearn.inspection import permutation_importance\n",
        "from sklearn.metrics import mean_absolute_error\n",
        "from sklearn.model_selection import train_test_split"
      ]
    },
    {
      "cell_type": "markdown",
      "source": [
        "En esta tarea aplicaremos el procedimiento de predicción de precios de casas desarrollado en el libro [The Elements of Statistical Learning](https://link.springer.com/book/10.1007/ en la `sección 10.14.1 California Housing`.\n",
        "\n",
        "Usaremos el modelo de aumento de gradiente **(Gradient Boosting)** para producir un modelo predictivo a partir de un conjunto de modelos predictivos débiles **(weak)**, usando la función **ensemble.GradientBoostingRegressor** de la librería **sklearn**. El **Gradient Boosting** se puede utilizar para problemas de regresión y clasificación. En esta tarea, entrenaremos un modelo de regresión para predecir demanda eléctrica usando datos de demanda de días semejantes. La variable independiente $X$ serán los datos de demanda del día anterior, y los datos independiente $Y$ serán los datos de días con una mayor correlación con $X$.\n",
        "\n",
        "Los datos usados en esta sección están disponibles en [demanda.csv](https://drive.google.com/file/d/1KpY2p4bfVEwGRh5tJjMx9QpH6SEwrUwH/view?usp=sharing)\n"
      ],
      "metadata": {
        "id": "hiFOg-oD-CPM"
      }
    },
    {
      "cell_type": "code",
      "source": [
        "df    = pd.read_csv('demanda.csv')\n",
        "\n",
        "## Procesamos datos de entrenamiento \n",
        "df1 = df.loc[df.iloc[:,20].isin(['T'])] ## 'T' = training set\n",
        "df2 = df1['Y']  \n",
        "df1 = df1[['X0','X1','X2','X3','X4','X5','X6','X7','X8','X9','X10','X11','X12','X13','X14','X15','X16','X17','X18']] ## Regresores\n",
        "\n",
        "## Procesamos datos de prueba \n",
        "dft = df.loc[df.iloc[:,20].isin(['F'])] ## 'F' = test set\n",
        "dft2 = dft['Y']\n",
        "dft1 = dft[['X0','X1','X2','X3','X4','X5','X6','X7','X8','X9','X10','X11','X12','X13','X14','X15','X16','X17','X18']] ## Regresores\n",
        "\n",
        "X_train = df1.to_numpy()   ## Predictors\n",
        "y_train = df2.to_numpy()   ## Outcome\n",
        "\n",
        "X_test = dft1.to_numpy()   ## Predictors\n",
        "y_test = dft2.to_numpy()   ## Outcome"
      ],
      "metadata": {
        "id": "mIjVFozBQAf7"
      },
      "execution_count": 161,
      "outputs": []
    },
    {
      "cell_type": "markdown",
      "source": [
        "Obtendremos los resultados con una función de pérdida por diferencia absoluta. Como parámetros del modelo usaremos 500 árboles de regresión `n_estimators=500`, con un número profundidad `max_depth=6` y una tasa de aprendizaje de `learning_rate\": 0.01`."
      ],
      "metadata": {
        "id": "w-91bai5Rggr"
      }
    },
    {
      "cell_type": "code",
      "source": [
        "params = { \"n_estimators\": 500,\n",
        "           \"max_depth\": 6,\n",
        "           \"min_samples_split\": 5,\n",
        "           \"learning_rate\": 0.1,\n",
        "           \"loss\": \"absolute_error\",} #\"squared_error\", \"absolute_error\", \"huber\", \"quantile\""
      ],
      "metadata": {
        "id": "sZjQL5Js8Lg-"
      },
      "execution_count": 162,
      "outputs": []
    },
    {
      "cell_type": "markdown",
      "source": [
        "Ahora, ajustaremos un modelo **Gradient Boosting** con nuestros datos de entrenamiento. y calculamos el error cuadrático medio (MAE) en los datos de prueba."
      ],
      "metadata": {
        "id": "hEkfoXYjQbsy"
      }
    },
    {
      "cell_type": "code",
      "source": [
        "reg = ensemble.GradientBoostingRegressor(**params)\n",
        "reg.fit(X_train, y_train)\n",
        "\n",
        "mae = mean_absolute_error(y_test, reg.predict(X_test))\n",
        "print(\"El error medio absoluto (MAE) en datos de prueba es: {:.4f}\".format(mae))"
      ],
      "metadata": {
        "colab": {
          "base_uri": "https://localhost:8080/"
        },
        "id": "pGIerLOU8RRq",
        "outputId": "e55b3349-4586-4c91-c40a-67395b915475"
      },
      "execution_count": 163,
      "outputs": [
        {
          "output_type": "stream",
          "name": "stdout",
          "text": [
            "El error medio absoluto (MAE) en datos de prueba es: 213.2078\n"
          ]
        }
      ]
    },
    {
      "cell_type": "markdown",
      "source": [
        "Ahora visualizaremos el proceso de ajuste con los datos de entrenamiento y prueba. Calcularemos el error del conjunto de datos de entrenamiento y luego la compararemos con las iteraciones del conjunto de datos de prueba."
      ],
      "metadata": {
        "id": "jsOFbOClTSR3"
      }
    },
    {
      "cell_type": "code",
      "source": [
        "test_score = np.zeros((params[\"n_estimators\"],), dtype=np.float64)\n",
        "for i, y_pred in enumerate(reg.staged_predict(X_test)):\n",
        "    test_score[i] = reg.loss_(y_test, y_pred)\n",
        "\n",
        "fig = plt.figure(figsize=(6, 6))\n",
        "plt.subplot(1, 1, 1)\n",
        "plt.title(\"Error absoluto\")\n",
        "plt.plot(\n",
        "    np.arange(params[\"n_estimators\"]) + 1,\n",
        "    reg.train_score_,\n",
        "    \"b-\",\n",
        "    label=\"error en datos de entrenamiento\",\n",
        ")\n",
        "plt.plot(\n",
        "    np.arange(params[\"n_estimators\"]) + 1, test_score, \"r-\", label=\"error en datos de prueba\"\n",
        ")\n",
        "plt.legend(loc=\"upper right\")\n",
        "plt.xlabel(\"Iteraciones Boosting\")\n",
        "plt.ylabel(\"Error\")\n",
        "fig.tight_layout()\n",
        "plt.show()"
      ],
      "metadata": {
        "colab": {
          "base_uri": "https://localhost:8080/",
          "height": 441
        },
        "id": "wH3xKz_88XRh",
        "outputId": "82ad79ba-8423-4e7b-d11b-fc137c4b3dc3"
      },
      "execution_count": 164,
      "outputs": [
        {
          "output_type": "display_data",
          "data": {
            "text/plain": [
              "<Figure size 432x432 with 1 Axes>"
            ],
            "image/png": "[encoded data removed]"
          },
          "metadata": {
            "needs_background": "light"
          }
        }
      ]
    },
    {
      "cell_type": "markdown",
      "source": [
        "La importancia relativa de los predictores "
      ],
      "metadata": {
        "id": "-fY1wN9rV705"
      }
    },
    {
      "cell_type": "code",
      "source": [
        "feature_importance = reg.feature_importances_\n",
        "sorted_idx = np.argsort(feature_importance)\n",
        "pos = np.arange(sorted_idx.shape[0]) + 0.5\n",
        "fig = plt.figure(figsize=(12, 6))\n",
        "plt.subplot(1, 2, 1)\n",
        "plt.barh(pos, feature_importance[sorted_idx], align=\"center\")\n",
        "plt.yticks(pos, np.array(['X0','X1','X2','X3','X4','X5','X6','X7','X8','X9','X10','X11','X12','X13','X14','X15','X16','X17','X18'])[sorted_idx])\n",
        "plt.title(\"Feature Importance (MDI)\")\n",
        "plt.show()"
      ],
      "metadata": {
        "colab": {
          "base_uri": "https://localhost:8080/",
          "height": 390
        },
        "id": "TypG0KEd8cVD",
        "outputId": "d1507813-8563-49b9-e031-46619e12d299"
      },
      "execution_count": 165,
      "outputs": [
        {
          "output_type": "display_data",
          "data": {
            "text/plain": [
              "<Figure size 864x432 with 1 Axes>"
            ],
            "image/png": "[encoded data removed]"
          },
          "metadata": {
            "needs_background": "light"
          }
        }
      ]
    },
    {
      "cell_type": "code",
      "source": [
        "result = permutation_importance(\n",
        "    reg, X_test, y_test, n_repeats=10, random_state=42, n_jobs=2\n",
        ")\n",
        "\n",
        "fig = plt.figure(figsize=(12, 6))\n",
        "sorted_idx = result.importances_mean.argsort()\n",
        "plt.subplot(1, 2, 2)\n",
        "plt.boxplot(\n",
        "   result.importances[sorted_idx].T,\n",
        "    vert=False,\n",
        "    labels=np.array(['X0','X1','X2','X3','X4','X5','X6','X7','X8','X9','X10','X11','X12','X13','X14','X15','X16','X17','X18'])[sorted_idx],\n",
        ")\n",
        "plt.title(\"Permutation Importance (test set)\")\n",
        "fig.tight_layout()\n",
        "plt.show()"
      ],
      "metadata": {
        "id": "qZEbiEhGY52J",
        "outputId": "455a49e4-996a-4089-faf7-a31b1957fa2c",
        "colab": {
          "base_uri": "https://localhost:8080/",
          "height": 441
        }
      },
      "execution_count": 166,
      "outputs": [
        {
          "output_type": "display_data",
          "data": {
            "text/plain": [
              "<Figure size 864x432 with 1 Axes>"
            ],
            "image/png": "[encoded data removed]"
          },
          "metadata": {
            "needs_background": "light"
          }
        }
      ]
    },
    {
      "cell_type": "markdown",
      "source": [
        "[Gradient Boosting regression](https://scikit-learn.org/stable/auto_examples/ensemble/plot_gradient_boosting_regression.html)\n",
        "\n",
        "[sklearn.ensemble.GradientBoostingRegressor](https://scikit-learn.org/stable/modules/generated/sklearn.ensemble.GradientBoostingRegressor.html)\n"
      ],
      "metadata": {
        "id": "OsjAgr908hza"
      }
    }
  ]
}
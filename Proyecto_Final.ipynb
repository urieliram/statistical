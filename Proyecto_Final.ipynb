{
  "nbformat": 4,
  "nbformat_minor": 0,
  "metadata": {
    "colab": {
      "name": "Proyecto_Final.ipynb",
      "provenance": [],
      "authorship_tag": "ABX9TyOoVxiyllr3I7xmUNy5S8DQ",
      "include_colab_link": true
    },
    "kernelspec": {
      "name": "python3",
      "display_name": "Python 3"
    },
    "language_info": {
      "name": "python"
    }
  },
  "cells": [
    {
      "cell_type": "markdown",
      "metadata": {
        "id": "view-in-github",
        "colab_type": "text"
      },
      "source": [
        "<a href=\"https://colab.research.google.com/github/urieliram/statistical/blob/main/Proyecto_Final.ipynb\" target=\"_parent\"><img src=\"https://colab.research.google.com/assets/colab-badge.svg\" alt=\"Open In Colab\"/></a>"
      ]
    },
    {
      "cell_type": "code",
      "execution_count": null,
      "metadata": {
        "id": "KjxQmrlizjZ6"
      },
      "outputs": [],
      "source": [
        ""
      ]
    },
    {
      "cell_type": "markdown",
      "source": [
        "IDEAS:\n",
        "\n",
        "\n",
        "*   Aplicar diferetes métodos de regresión a los datos de pronóstico de demanda\n",
        "*   Utilizar transformaciones de base para generar más regresores\n",
        "*   Amortiguar la multicolinealidad\n",
        "*   Evaluar con diferentes métricas de error.\n",
        "*   Estandarizar los datos\n",
        "\n",
        "*   quitar estacionalidad\n",
        "*   hacer estacionarios\n",
        "\n",
        "\n",
        "\n",
        "\n",
        "\n",
        "\n"
      ],
      "metadata": {
        "id": "yYQCgN_QzwcO"
      }
    }
  ]
}
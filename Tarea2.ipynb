{
  "nbformat": 4,
  "nbformat_minor": 0,
  "metadata": {
    "colab": {
      "name": "Tarea2.ipynb",
      "provenance": [],
      "collapsed_sections": [],
      "authorship_tag": "ABX9TyOG5xNLrIlnvTEtq1RtmAIE",
      "include_colab_link": true
    },
    "kernelspec": {
      "name": "python3",
      "display_name": "Python 3"
    },
    "language_info": {
      "name": "python"
    }
  },
  "cells": [
    {
      "cell_type": "markdown",
      "metadata": {
        "id": "view-in-github",
        "colab_type": "text"
      },
      "source": [
        "<a href=\"https://colab.research.google.com/github/urieliram/statistical/blob/main/Tarea2.ipynb\" target=\"_parent\"><img src=\"https://colab.research.google.com/assets/colab-badge.svg\" alt=\"Open In Colab\"/></a>"
      ]
    },
    {
      "cell_type": "markdown",
      "source": [
        "\"First carry out Exercise 2.8 of the textbook with their ZIP-code data and then replicate the process the best you manage to some data from you own problem that was established in the first homework.\""
      ],
      "metadata": {
        "id": "mSp-SqxZkCFc"
      }
    },
    {
      "cell_type": "code",
      "source": [
        "import numpy as np\n",
        "import pandas as pd\n",
        "from sklearn.linear_model import LinearRegression\n",
        "from sklearn.metrics import mean_absolute_error\n",
        "from sklearn.metrics import mean_squared_error\n",
        "from sklearn.neighbors import KNeighborsRegressor\n",
        "import matplotlib.pyplot as plt"
      ],
      "metadata": {
        "id": "3ghzTDgI8c3z"
      },
      "execution_count": 25,
      "outputs": []
    },
    {
      "cell_type": "markdown",
      "source": [
        "## **Regresión líneal**\n",
        "(para resolver el problema de ZIP-code [2,3] del libro [liga](https://link.springer.com/book/10.1007/978-0-387-84858-7))"
      ],
      "metadata": {
        "id": "eqqBrWsXfSz-"
      }
    },
    {
      "cell_type": "markdown",
      "source": [
        "\n",
        "Iniciamos cargando los datos de entrenamiento de los códigos postales 2 y 3 en los arreglos $X$ y $Y$:"
      ],
      "metadata": {
        "id": "TQNC-rPq2rX0"
      }
    },
    {
      "cell_type": "code",
      "source": [
        "df1 = pd.read_csv('zip_train.csv', header=None)\n",
        "n = [2,3]\n",
        "df1 = df1.loc[ df1.iloc[:,0].isin(n)]\n",
        "df2 = df1.iloc[:,0]\n",
        "df1 = df1.drop([0],axis=1)\n",
        "X  = df1.to_numpy() ## Características\n",
        "Y  = df2.to_numpy() ## Etiquetas"
      ],
      "metadata": {
        "id": "KkgmRwj9DGuy"
      },
      "execution_count": 43,
      "outputs": []
    },
    {
      "cell_type": "markdown",
      "source": [
        "Ahora, cargamos los datos de prueba en los arreglos $Xt$ y $Yt$:"
      ],
      "metadata": {
        "id": "8b92RU6Kug3p"
      }
    },
    {
      "cell_type": "code",
      "source": [
        "df1 = pd.read_csv('zip_test.csv', header=None)\n",
        "df1 = df1.loc[ df1.iloc[:,0].isin(n)]\n",
        "df2 = df1.iloc[:,0]\n",
        "df1 = df1.drop([0],axis=1)\n",
        "Xt  = df1.to_numpy()\n",
        "Yt  = df2.to_numpy()"
      ],
      "metadata": {
        "id": "EtITOjZam199"
      },
      "execution_count": 44,
      "outputs": []
    },
    {
      "cell_type": "markdown",
      "source": [
        "A continuación, obtenemos un modelo de predicción de los datos de entrenamiento usando regresión lineal. Posteriomente, calculamos los errores entre la predicción $y_{pred}$ y los datos de entrenamiento \"Y\". Los errores de la predicción con datos de entrenamiento son representados por un histograma."
      ],
      "metadata": {
        "id": "pahdRgDdf-9R"
      }
    },
    {
      "cell_type": "code",
      "source": [
        "model = LinearRegression().fit(X, Y) #https://realpython.com/linear-regression-in-python/\n",
        "y_pred = model.predict(X)\n",
        "error = Y - y_pred\n",
        "dfx = pd.DataFrame(error,Y)\n",
        "plt = dfx.hist(column=0, bins=27, grid=False, figsize=(6,3), color='#86bf91', zorder=2, rwidth=0.9)\n",
        "err_regress = mean_absolute_error(Y,y_pred)"
      ],
      "metadata": {
        "colab": {
          "base_uri": "https://localhost:8080/",
          "height": 227
        },
        "id": "sjO0ZO11timQ",
        "outputId": "0f328722-b026-4849-ec94-134ed34303e4"
      },
      "execution_count": 45,
      "outputs": [
        {
          "output_type": "display_data",
          "data": {
            "image/png": "[encoded data removed]",
            "text/plain": [
              "<Figure size 432x216 with 1 Axes>"
            ]
          },
          "metadata": {
            "needs_background": "light"
          }
        }
      ]
    },
    {
      "cell_type": "markdown",
      "source": [
        "Ahora, utilizamos el modelo obtenido con los datos de entrenamiento para predecir los datos de prueba. Además,  calculamos los errores entre la predicción $y_{pred2}$ y los datos de prueba $Yt$. Los errores de la predicción con datos de prueba son representados por un histograma."
      ],
      "metadata": {
        "id": "8CbknbJqislx"
      }
    },
    {
      "cell_type": "code",
      "source": [
        "y_pred2 = model.predict(Xt)\n",
        "error2 = Yt - y_pred2\n",
        "dfx = pd.DataFrame(error2,Yt)\n",
        "dfx.to_csv('sample.csv')\n",
        "plt = dfx.hist(column=0, bins=25, grid=False, figsize=(6,3), color='#86bf91', zorder=2, rwidth=0.9)\n",
        "err_regress_t = mean_absolute_error(y_pred2,Yt)"
      ],
      "metadata": {
        "colab": {
          "base_uri": "https://localhost:8080/",
          "height": 227
        },
        "id": "m6Wilj2JPWLJ",
        "outputId": "ff016fd6-59b1-4221-b07c-49470b32de1a"
      },
      "execution_count": 46,
      "outputs": [
        {
          "output_type": "display_data",
          "data": {
            "image/png": "[encoded data removed]",
            "text/plain": [
              "<Figure size 432x216 with 1 Axes>"
            ]
          },
          "metadata": {
            "needs_background": "light"
          }
        }
      ]
    },
    {
      "cell_type": "markdown",
      "source": [
        "Por último calculamos el error medio absuluto de los datos de entrenamoento como de los datos de prueba."
      ],
      "metadata": {
        "id": "Xm_Oq6VEl4Pa"
      }
    },
    {
      "cell_type": "code",
      "source": [
        "print(\"MAE del modelo de regresión con datos de entrenamiento:\", err_regress)\n",
        "print(\"MAE del modelo de regresión con datos de prueba:\", err_regress_t) "
      ],
      "metadata": {
        "colab": {
          "base_uri": "https://localhost:8080/"
        },
        "id": "cu-N1H_czv4v",
        "outputId": "28b92cc8-9504-4e19-ac77-da7f3bfd6a59"
      },
      "execution_count": 48,
      "outputs": [
        {
          "output_type": "stream",
          "name": "stdout",
          "text": [
            "MAE del modelo de regresión con datos de entrenamiento: 0.12054534466534834\n",
            "MAE del modelo de regresión con datos de prueba: 0.1911427954737535\n"
          ]
        }
      ]
    },
    {
      "cell_type": "markdown",
      "source": [
        "#**k-nearest neighbors**\n",
        "(para resolver el problema de ZIP-code [2,3] del libro [liga](https://link.springer.com/book/10.1007/978-0-387-84858-7))"
      ],
      "metadata": {
        "id": "-5EV2hG9FQ-P"
      }
    },
    {
      "cell_type": "code",
      "source": [
        "#https://realpython.com/knn-python/#:~:text=The%20kNN%20algorithm%20is%20a,in%20Python%3A%20A%20Practical%20Guide.\n",
        "k_list    = [1, 3, 5, 7, 15]\n",
        "mae_knn   = []  ## Guarda valores de error de diferentes k en datos de entrenamiento\n",
        "mae_knn_t = []  ## Guarda valores de error de diferentes k en datos de prueba\n",
        "for k in k_list:\n",
        "    model = KNeighborsRegressor(n_neighbors=k)\n",
        "    model.fit(X, Y)\n",
        "    y_pred1   = model.predict(X) \n",
        "    y_pred2   = model.predict(Xt)\n",
        "    err_knn   = (mean_squared_error(Y,y_pred1))\n",
        "    err_knn_t = (mean_squared_error(Yt,y_pred2))\n",
        "    err_knn = err_knn**0.5\n",
        "    err_knn_t = err_knn_t**0.5\n",
        "    mae_knn.append(err_knn)\n",
        "    mae_knn_t.append(err_knn_t)"
      ],
      "metadata": {
        "id": "gZAB9V4rFYGH"
      },
      "execution_count": 30,
      "outputs": []
    },
    {
      "cell_type": "code",
      "source": [
        "error = Y - y_pred1    \n",
        "    dfy = pd.DataFrame(error,Y)\n",
        "    plt = dfy.hist(column=0, bins=25, grid=False, figsize=(6,3), color='#86bf91', zorder=2, rwidth=0.9)"
      ],
      "metadata": {
        "colab": {
          "base_uri": "https://localhost:8080/",
          "height": 130
        },
        "id": "ilWhZYNieeNk",
        "outputId": "a36c60bb-3afc-404f-afcb-295af954bfa5"
      },
      "execution_count": 31,
      "outputs": [
        {
          "output_type": "error",
          "ename": "IndentationError",
          "evalue": "ignored",
          "traceback": [
            "\u001b[0;36m  File \u001b[0;32m\"<ipython-input-31-058486c667b3>\"\u001b[0;36m, line \u001b[0;32m2\u001b[0m\n\u001b[0;31m    dfy = pd.DataFrame(error,Y)\u001b[0m\n\u001b[0m    ^\u001b[0m\n\u001b[0;31mIndentationError\u001b[0m\u001b[0;31m:\u001b[0m unexpected indent\n"
          ]
        }
      ]
    },
    {
      "cell_type": "code",
      "source": [
        "print(\"MAE del modelo de KNN con datos de entrenamiento:\", mae_knn)\n",
        "print(\"MAE del modelo de KNN con datos de prueba:\", mae_knn_t) "
      ],
      "metadata": {
        "colab": {
          "base_uri": "https://localhost:8080/"
        },
        "id": "mnVGN2Yy29M5",
        "outputId": "a15f301c-5393-4f76-9e50-6d440817b891"
      },
      "execution_count": 32,
      "outputs": [
        {
          "output_type": "stream",
          "name": "stdout",
          "text": [
            "MAE del modelo de KNN con datos de entrenamiento: [0.0, 0.05932721485563096, 0.06787953586677535, 0.07333163697446661, 0.0913155677711452]\n",
            "MAE del modelo de KNN con datos de prueba: [0.15724272550828775, 0.1513068831672006, 0.15118578920369088, 0.1534531872941642, 0.16374732612530443]\n"
          ]
        }
      ]
    }
  ]
}
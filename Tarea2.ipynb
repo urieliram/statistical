{
  "nbformat": 4,
  "nbformat_minor": 0,
  "metadata": {
    "colab": {
      "name": "Tarea2.ipynb",
      "provenance": [],
      "collapsed_sections": [],
      "authorship_tag": "ABX9TyNsuGa0FFh1yRHS1Sjkwosl",
      "include_colab_link": true
    },
    "kernelspec": {
      "name": "python3",
      "display_name": "Python 3"
    },
    "language_info": {
      "name": "python"
    }
  },
  "cells": [
    {
      "cell_type": "markdown",
      "metadata": {
        "id": "view-in-github",
        "colab_type": "text"
      },
      "source": [
        "<a href=\"https://colab.research.google.com/github/urieliram/statistical/blob/main/Tarea2.ipynb\" target=\"_parent\"><img src=\"https://colab.research.google.com/assets/colab-badge.svg\" alt=\"Open In Colab\"/></a>"
      ]
    },
    {
      "cell_type": "code",
      "source": [
        "import numpy as np\n",
        "import pandas as pd\n",
        "from sklearn.linear_model import LinearRegression\n",
        "from sklearn.metrics import mean_absolute_percentage_error\n",
        "import matplotlib.pyplot as plt"
      ],
      "metadata": {
        "id": "3ghzTDgI8c3z"
      },
      "execution_count": 242,
      "outputs": []
    },
    {
      "cell_type": "markdown",
      "source": [
        "Encontramos el modelo de predicción por regresión de los codigos postales 2 y 3."
      ],
      "metadata": {
        "id": "TQNC-rPq2rX0"
      }
    },
    {
      "cell_type": "code",
      "source": [
        "df1 = pd.read_csv('zip_train.csv', header=None)\n",
        "n = [2,3]\n",
        "df1 = df1.loc[ df1.iloc[:,0].isin(n)]\n",
        "df1.to_csv('sample.csv')\n",
        "df2 = df1.iloc[:,0]\n",
        "df1 = df1.drop([0],axis=1)\n",
        "Xu = df1.to_numpy()\n",
        "Yu = df2.to_numpy()"
      ],
      "metadata": {
        "id": "KkgmRwj9DGuy"
      },
      "execution_count": 243,
      "outputs": []
    },
    {
      "cell_type": "code",
      "source": [
        "model = LinearRegression().fit(Xu, Yu)\n",
        "#https://realpython.com/linear-regression-in-python/\n",
        "\n",
        "r_sq = model.score(Xu, Yu)"
      ],
      "metadata": {
        "id": "jR3TGefaMZ3Z"
      },
      "execution_count": 253,
      "outputs": []
    },
    {
      "cell_type": "code",
      "source": [
        "y_pred = model.predict(Xu)\n",
        "#print('predicted response:', y_pred, sep='\\n')\n",
        "error = Yu - y_pred\n",
        "dfx=pd.DataFrame(error,Yu)\n",
        "dfx.to_csv('sample.csv')\n",
        "err_regress = mean_absolute_percentage_error(error,Yu)\n",
        "print(err_regress)\n",
        "#plt = dfx.hist(column=0, bins=27, grid=False, figsize=(6,3), color='#86bf91', zorder=2, rwidth=0.9)\n"
      ],
      "metadata": {
        "colab": {
          "base_uri": "https://localhost:8080/"
        },
        "id": "m6Wilj2JPWLJ",
        "outputId": "c0c1b70e-da7f-49a4-e070-f070b4a47978"
      },
      "execution_count": 256,
      "outputs": [
        {
          "output_type": "stream",
          "name": "stdout",
          "text": [
            "303968657455.0301\n"
          ]
        }
      ]
    },
    {
      "cell_type": "markdown",
      "source": [
        "Intentaremos con KNN..."
      ],
      "metadata": {
        "id": "-5EV2hG9FQ-P"
      }
    },
    {
      "cell_type": "code",
      "source": [
        "def dist(x1, x2): # using euclidean distance for simplicity\n",
        "    return sqrt(sum([(xi - xj)**2 for (xi, xj) in zip(x1, x2)]))"
      ],
      "metadata": {
        "id": "gZAB9V4rFYGH"
      },
      "execution_count": 238,
      "outputs": []
    },
    {
      "cell_type": "code",
      "source": [
        "np.linalg.norm(y_pred - Yu)"
      ],
      "metadata": {
        "colab": {
          "base_uri": "https://localhost:8080/"
        },
        "id": "4qO-u6-9FeSh",
        "outputId": "0355343d-3441-464f-d811-97bbd3ccbbe8"
      },
      "execution_count": 257,
      "outputs": [
        {
          "output_type": "execute_result",
          "data": {
            "text/plain": [
              "5.870560555105522"
            ]
          },
          "metadata": {},
          "execution_count": 257
        }
      ]
    },
    {
      "cell_type": "code",
      "source": [
        ""
      ],
      "metadata": {
        "id": "wKxX_mqvGOOB"
      },
      "execution_count": 224,
      "outputs": []
    }
  ]
}
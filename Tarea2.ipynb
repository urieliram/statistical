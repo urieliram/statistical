{
  "nbformat": 4,
  "nbformat_minor": 0,
  "metadata": {
    "colab": {
      "name": "Tarea2.ipynb",
      "provenance": [],
      "collapsed_sections": [],
      "authorship_tag": "ABX9TyOcU+YY/VluiX2FWN6medZQ",
      "include_colab_link": true
    },
    "kernelspec": {
      "name": "python3",
      "display_name": "Python 3"
    },
    "language_info": {
      "name": "python"
    }
  },
  "cells": [
    {
      "cell_type": "markdown",
      "metadata": {
        "id": "view-in-github",
        "colab_type": "text"
      },
      "source": [
        "<a href=\"https://colab.research.google.com/github/urieliram/statistical/blob/main/Tarea2.ipynb\" target=\"_parent\"><img src=\"https://colab.research.google.com/assets/colab-badge.svg\" alt=\"Open In Colab\"/></a>"
      ]
    },
    {
      "cell_type": "markdown",
      "source": [
        "# Tarea 1\n",
        "\"First carry out Exercise 2.8 of the textbook with their ZIP-code data and then replicate the process the best you manage to some data from you own problem that was established in the first homework.\""
      ],
      "metadata": {
        "id": "mSp-SqxZkCFc"
      }
    },
    {
      "cell_type": "code",
      "source": [
        "import numpy as np\n",
        "import pandas as pd\n",
        "%matplotlib inline\n",
        "from sklearn.linear_model import LinearRegression\n",
        "from sklearn.metrics import mean_absolute_error\n",
        "from sklearn.metrics import mean_squared_error\n",
        "from sklearn.neighbors import KNeighborsRegressor\n",
        "import matplotlib.pyplot as plt\n"
      ],
      "metadata": {
        "id": "3ghzTDgI8c3z"
      },
      "execution_count": 177,
      "outputs": []
    },
    {
      "cell_type": "markdown",
      "source": [
        "## **Regresión líneal**\n",
        "(usado para resolver el problema de ZIP-code [2,3] del libro [liga](https://link.springer.com/book/10.1007/978-0-387-84858-7))"
      ],
      "metadata": {
        "id": "eqqBrWsXfSz-"
      }
    },
    {
      "cell_type": "markdown",
      "source": [
        "Iniciamos cargando los datos de entrenamiento de los códigos postales 2 y 3 en los arreglos $X$ y $Y$:"
      ],
      "metadata": {
        "id": "TQNC-rPq2rX0"
      }
    },
    {
      "cell_type": "code",
      "source": [
        "df1 = pd.read_csv('zip_train.csv', header=None)\n",
        "n = [2,3]\n",
        "df1 = df1.loc[ df1.iloc[:,0].isin(n)]\n",
        "df2 = df1.iloc[:,0]\n",
        "df1 = df1.drop([0],axis=1)\n",
        "X  = df1.to_numpy() ## Características\n",
        "Y  = df2.to_numpy() ## Etiquetas"
      ],
      "metadata": {
        "id": "KkgmRwj9DGuy"
      },
      "execution_count": 143,
      "outputs": []
    },
    {
      "cell_type": "markdown",
      "source": [
        "Ahora, cargamos los datos de prueba en los arreglos $Xt$ y $Yt$:"
      ],
      "metadata": {
        "id": "8b92RU6Kug3p"
      }
    },
    {
      "cell_type": "code",
      "source": [
        "df1 = pd.read_csv('zip_test.csv', header=None)\n",
        "df1 = df1.loc[df1.iloc[:,0].isin(n)]\n",
        "df2 = df1.iloc[:,0]\n",
        "df1 = df1.drop([0],axis=1)\n",
        "Xt  = df1.to_numpy()\n",
        "Yt  = df2.to_numpy()"
      ],
      "metadata": {
        "id": "EtITOjZam199"
      },
      "execution_count": 144,
      "outputs": []
    },
    {
      "cell_type": "markdown",
      "source": [
        "A continuación, obtenemos un modelo de predicción de los datos de entrenamiento usando regresión lineal. Posteriomente, calculamos los errores entre la predicción $y\\_pred$ y los datos de entrenamiento \"Y\". Los errores de la predicción con datos de entrenamiento son representados por un histograma."
      ],
      "metadata": {
        "id": "pahdRgDdf-9R"
      }
    },
    {
      "cell_type": "code",
      "source": [
        "model = LinearRegression().fit(X, Y) #https://realpython.com/linear-regression-in-python/\n",
        "y_pred = model.predict(X)\n",
        "error = Y - y_pred\n",
        "dfx = pd.DataFrame(error,Y)\n",
        "dfx.to_csv('error.csv')\n",
        "plt = dfx.hist(column=0, bins=25, grid=False, figsize=(6,3), color='#86bf91', zorder=2, rwidth=0.9)\n",
        "err_regress = mean_absolute_error(Y,y_pred)"
      ],
      "metadata": {
        "colab": {
          "base_uri": "https://localhost:8080/",
          "height": 227
        },
        "id": "sjO0ZO11timQ",
        "outputId": "c47f8733-19ec-42df-88a3-5066e438d9c5"
      },
      "execution_count": 145,
      "outputs": [
        {
          "output_type": "display_data",
          "data": {
            "image/png": "[encoded data removed]",
            "text/plain": [
              "<Figure size 432x216 with 1 Axes>"
            ]
          },
          "metadata": {
            "needs_background": "light"
          }
        }
      ]
    },
    {
      "cell_type": "markdown",
      "source": [
        "Ahora, utilizamos el modelo obtenido con los datos de entrenamiento para predecir los datos de prueba. Además,  calculamos los errores entre la predicción $y\\_pred2$ y los datos de prueba $Yt$. Los errores de la predicción con datos de prueba son representados por un histograma."
      ],
      "metadata": {
        "id": "8CbknbJqislx"
      }
    },
    {
      "cell_type": "code",
      "source": [
        "y_pred2 = model.predict(Xt)\n",
        "error2 = Yt - y_pred2\n",
        "df = pd.DataFrame(error2,Yt)\n",
        "df.to_csv('error2.csv')\n",
        "plt = df.hist(column=0, bins=25, grid=False, figsize=(6,3), color='#86bf40', zorder=2, rwidth=0.9)\n",
        "err_regress_t = mean_absolute_error(Yt,y_pred2)"
      ],
      "metadata": {
        "colab": {
          "base_uri": "https://localhost:8080/",
          "height": 227
        },
        "id": "m6Wilj2JPWLJ",
        "outputId": "2ee846e2-08f1-44c9-924d-a43f2f1d7545"
      },
      "execution_count": 146,
      "outputs": [
        {
          "output_type": "display_data",
          "data": {
            "image/png": "[encoded data removed]",
            "text/plain": [
              "<Figure size 432x216 with 1 Axes>"
            ]
          },
          "metadata": {
            "needs_background": "light"
          }
        }
      ]
    },
    {
      "cell_type": "markdown",
      "source": [
        "Por último calculamos el **error absoluto medio (MAE)** de los datos de entrenamiento así como de los datos de prueba."
      ],
      "metadata": {
        "id": "Xm_Oq6VEl4Pa"
      }
    },
    {
      "cell_type": "code",
      "source": [
        "print(\"MAE del modelo de regresión con datos de entrenamiento:\", err_regress)\n",
        "print(\"MAE del modelo de regresión con datos de prueba:\", err_regress_t) "
      ],
      "metadata": {
        "colab": {
          "base_uri": "https://localhost:8080/"
        },
        "id": "cu-N1H_czv4v",
        "outputId": "239d320d-b4ec-4181-d4fc-374a56d9859c"
      },
      "execution_count": 147,
      "outputs": [
        {
          "output_type": "stream",
          "name": "stdout",
          "text": [
            "MAE del modelo de regresión con datos de entrenamiento: 0.12054534466534834\n",
            "MAE del modelo de regresión con datos de prueba: 0.1911427954737535\n"
          ]
        }
      ]
    },
    {
      "cell_type": "markdown",
      "source": [
        "#**k-nearest neighbors**\n",
        "(usado para resolver el problema de ZIP-code [2,3] del libro [liga](https://link.springer.com/book/10.1007/978-0-387-84858-7))"
      ],
      "metadata": {
        "id": "-5EV2hG9FQ-P"
      }
    },
    {
      "cell_type": "markdown",
      "source": [
        "Usaremos los arreglos $mae\\_knn$ y $mae\\_knn\\_y$ para guardar los resultados del error de predicción de cada modelo de K-NN con parámetro $k$.**bold text**"
      ],
      "metadata": {
        "id": "w4TQ7nozm0ob"
      }
    },
    {
      "cell_type": "code",
      "source": [
        "k_list    = [1, 3, 5, 7, 15] ## Lista de parámetros k\n",
        "mae_knn   = []  ## Guarda valores de error de diferentes k en datos de entrenamiento\n",
        "mae_knn_t = []  ## Guarda valores de error de diferentes k en datos de prueba"
      ],
      "metadata": {
        "id": "gZAB9V4rFYGH"
      },
      "execution_count": 148,
      "outputs": []
    },
    {
      "cell_type": "markdown",
      "source": [
        "Para cada $k$ se obtiene un modelo K-NN con los que se calculan el **error absoluto medio (MAE)**[link text](https://) para los datos de entrenamiento $X$ como de prueba $Xt$."
      ],
      "metadata": {
        "id": "BbTpZw_mote5"
      }
    },
    {
      "cell_type": "code",
      "source": [
        "for k in k_list:\n",
        "    #https://realpython.com/knn-python/#:~:text=The%20kNN%20algorithm%20is%20a,in%20Python%3A%20A%20Practical%20Guide.\n",
        "    model = KNeighborsRegressor(n_neighbors=k)\n",
        "    model.fit(X, Y)\n",
        "    y_pred   = model.predict(X) \n",
        "    y_predt   = model.predict(Xt)\n",
        "    mae_knn.append(mean_absolute_error(Y,y_pred))\n",
        "    mae_knn_t.append(mean_absolute_error(Yt,y_predt))\n",
        "    error = Y - y_pred\n",
        "    errort = Yt - y_predt\n",
        "    ## Líneas de código que imprimen los histogramas de los errores de cada modelo con un parámetro k.\n",
        "    df = pd.DataFrame(error,Y)\n",
        "    plt = df.hist(column=0, bins=25, grid=False, figsize=(6,3), color='#86bf91', zorder=2, rwidth=0.9)    \n",
        "    dft = pd.DataFrame(errort,Yt)\n",
        "    plt2 = dft.hist(column=0, bins=25, grid=False, figsize=(6,3), color='#86bf40', zorder=2, rwidth=0.9)"
      ],
      "metadata": {
        "id": "oYkJLU4qoleC"
      },
      "execution_count": null,
      "outputs": []
    },
    {
      "cell_type": "markdown",
      "source": [
        "Por último mostramos el **error absoluto medio (MAE)** de los datos de entrenamiento así como de los datos de prueba del modelo K-NN para cada parámetro $k$."
      ],
      "metadata": {
        "id": "gPIK9UyTyC4g"
      }
    },
    {
      "cell_type": "code",
      "source": [
        "print(\"MAE del modelo de KNN con datos de entrenamiento:\", mae_knn)\n",
        "print(\"MAE del modelo de KNN con datos de prueba:\", mae_knn_t)"
      ],
      "metadata": {
        "colab": {
          "base_uri": "https://localhost:8080/"
        },
        "id": "mnVGN2Yy29M5",
        "outputId": "2e62f135-6732-4217-8795-754d7c01df67"
      },
      "execution_count": 150,
      "outputs": [
        {
          "output_type": "stream",
          "name": "stdout",
          "text": [
            "MAE del modelo de KNN con datos de entrenamiento: [0.0, 0.007199424046076315, 0.010079193664506842, 0.013370358942713153, 0.023710103191744672]\n",
            "MAE del modelo de KNN con datos de prueba: [0.024725274725274724, 0.03021978021978022, 0.03296703296703297, 0.03767660910518054, 0.04761904761904762]\n"
          ]
        }
      ]
    },
    {
      "cell_type": "code",
      "source": [
        "mae_reg = []\n",
        "mae_reg_t = []\n",
        "for k in k_list:\n",
        "  mae_reg.append(err_regress)\n",
        "  mae_reg_t.append(err_regress_t)"
      ],
      "metadata": {
        "id": "NYN2CtV-e15j"
      },
      "execution_count": 151,
      "outputs": []
    },
    {
      "cell_type": "markdown",
      "source": [
        "Finalmente comparamos los errores en la clasificación de ZIP-code del modelo de regresión lineal contra el de K-NN con diferentes valores de $k$."
      ],
      "metadata": {
        "id": "OyZGnUDXPnPt"
      }
    },
    {
      "cell_type": "code",
      "source": [
        "fig = plt.figure(figsize = (5, 5))\n",
        "axes = fig.add_subplot(1, 1, 1)\n",
        "axes.plot(k_list, mae_knn,   '-', color = 'blue'  , label = 'knn-train')\n",
        "axes.plot(k_list, mae_knn_t, '-', color = 'red'   , label = 'knn-test')\n",
        "axes.plot(k_list, mae_reg,   '-', color = 'orange', label = 'regression-train')\n",
        "axes.plot(k_list, mae_reg_t, '-', color = 'green' , label = 'regression-test')\n",
        "axes.legend()\n",
        "axes.set_xlabel(\"k\")\n",
        "axes.set_ylabel(\"MAE error\")\n",
        "plt.show()"
      ],
      "metadata": {
        "colab": {
          "base_uri": "https://localhost:8080/",
          "height": 337
        },
        "id": "1K-1KEwsP5RU",
        "outputId": "e949dcd8-581a-40eb-e741-91d974dcfe0c"
      },
      "execution_count": 156,
      "outputs": [
        {
          "output_type": "display_data",
          "data": {
            "image/png": "[encoded data removed]",
            "text/plain": [
              "<Figure size 360x360 with 1 Axes>"
            ]
          },
          "metadata": {
            "needs_background": "light"
          }
        }
      ]
    },
    {
      "cell_type": "markdown",
      "source": [
        "## **Estimación de pérdidas eléctricas en regiones con técnicas de  regresión líneal y k-NN**\n",
        "\n",
        "Los datos que se usarán en este ejercicio son resultados de la planeación de la operación eléctrica de 320 instancias .\n",
        "Las columnas de los datos son los resultados por región y por hora del día. Se dan resultados de generación térmica (GenTer), generación hidráulica (GenHid), generación renovable (GenRE), Gneración no programable (GenNP), Generación total (GenTot), demanda de la región (Demanda), Cortes de energía (Corte), Excedentes de energía(Excedente),Potencia (PotInt), precio Marginal y pérdidas de la región.\n",
        "\n",
        "Una parte importante del proyecto de tesis es la estimación de pérdidas eléctricas en la red agregando restricciones al modelo MILP de programación de las unidades.\n",
        "\n",
        "¿Es posible determinar un modelo lineal de regresión o k-NN que estime las pérdidas en función de la generación y demanda conocidas?\n",
        "\n",
        "¿Puede agregarse este modelo de estimación de pérdidas al modelo MILP a manera de restricciónes para acelerar el proceso de convergencia?"
      ],
      "metadata": {
        "id": "i-tE_cbvokJK"
      }
    },
    {
      "cell_type": "markdown",
      "source": [
        "Iniciamos cargando los datos de entrenamiento y de prueba."
      ],
      "metadata": {
        "id": "1igU-M9SmtdH"
      }
    },
    {
      "cell_type": "code",
      "source": [
        "#Carga de datos de entrenamiento\n",
        "df1 = pd.read_csv('r_Regiones_100s_train.csv')\n",
        "df2 = df1['Perdidas']\n",
        "df1 = df1[['GenTer','GenRE','GenNP','Demanda','Corte','Excedente']]\n",
        "X  = df1.to_numpy() ## Resultados por región e intervalo\n",
        "Y  = df2.to_numpy() ## Pérdidas eléctricas en MW"
      ],
      "metadata": {
        "colab": {
          "base_uri": "https://localhost:8080/"
        },
        "id": "TCYGqE8OojpV",
        "outputId": "114b65ff-d1df-495a-aa16-28aef90058ac"
      },
      "execution_count": 179,
      "outputs": [
        {
          "output_type": "stream",
          "name": "stderr",
          "text": [
            "/usr/local/lib/python3.7/dist-packages/IPython/core/interactiveshell.py:2718: DtypeWarning: Columns (13) have mixed types.Specify dtype option on import or set low_memory=False.\n",
            "  interactivity=interactivity, compiler=compiler, result=result)\n"
          ]
        }
      ]
    },
    {
      "cell_type": "code",
      "source": [
        "#Carga de datos de prueba\n",
        "df1 = pd.read_csv('r_Regiones_40s_test.csv')\n",
        "df2 = df1['Perdidas']\n",
        "df1 = df1[['GenTer','GenRE','GenNP','Demanda','Corte','Excedente']]\n",
        "Xt  = df1.to_numpy() ## Resultados por región e intervalo\n",
        "Yt  = df2.to_numpy() ## Pérdidas eléctricas en MW"
      ],
      "metadata": {
        "id": "3opySO1gpVua"
      },
      "execution_count": 180,
      "outputs": []
    },
    {
      "cell_type": "markdown",
      "source": [
        "A continuación, obtenemos un modelo de predicción de los datos de entrenamiento usando regresión lineal. Posteriomente, calculamos los errores entre la predicción $y\\_pred$ y los datos de entrenamiento \"Y\". Los errores de la predicción con datos de entrenamiento son representados por un histograma."
      ],
      "metadata": {
        "id": "6N-K2r8_nEIJ"
      }
    },
    {
      "cell_type": "code",
      "source": [
        "model = LinearRegression().fit(X, Y) #https://realpython.com/linear-regression-in-python/\n",
        "y_pred = model.predict(X)\n",
        "error = Y - y_pred\n",
        "dfx = pd.DataFrame(error,Y)\n",
        "plt = dfx.hist(column=0, bins=25, grid=False, figsize=(6,3), color='#777bd4', zorder=2, rwidth=0.9)\n",
        "err_regress = mean_absolute_error(Y,y_pred)"
      ],
      "metadata": {
        "colab": {
          "base_uri": "https://localhost:8080/",
          "height": 227
        },
        "id": "WofgXYSunQtg",
        "outputId": "b6ac4fda-5cd7-40af-a731-bb956272866f"
      },
      "execution_count": 182,
      "outputs": [
        {
          "output_type": "display_data",
          "data": {
            "image/png": "[encoded data removed]",
            "text/plain": [
              "<Figure size 432x216 with 1 Axes>"
            ]
          },
          "metadata": {
            "needs_background": "light"
          }
        }
      ]
    },
    {
      "cell_type": "markdown",
      "source": [
        "Ahora, utilizamos el modelo obtenido con los datos de entrenamiento para predecir los datos de prueba. Además,  calculamos los errores entre la predicción $y\\_pred2$ y los datos de prueba $Yt$. Los errores de la predicción con datos de prueba son representados por un histograma."
      ],
      "metadata": {
        "id": "nnRZY0ReqG-m"
      }
    },
    {
      "cell_type": "code",
      "source": [
        "y_pred2 = model.predict(Xt)\n",
        "error2 = Yt - y_pred2\n",
        "df = pd.DataFrame(error2,Yt)\n",
        "plt = df.hist(column=0, bins=25, grid=False, figsize=(6,3), color='#76ced6', zorder=2, rwidth=0.9)\n",
        "err_regress_t = mean_absolute_error(Yt,y_pred2)"
      ],
      "metadata": {
        "colab": {
          "base_uri": "https://localhost:8080/",
          "height": 227
        },
        "id": "mqsvIi2Frb19",
        "outputId": "790204fd-f923-49a2-d27f-03bb00fc572e"
      },
      "execution_count": 183,
      "outputs": [
        {
          "output_type": "display_data",
          "data": {
            "image/png": "[encoded data removed]",
            "text/plain": [
              "<Figure size 432x216 with 1 Axes>"
            ]
          },
          "metadata": {
            "needs_background": "light"
          }
        }
      ]
    },
    {
      "cell_type": "code",
      "source": [
        "print(\"MAE del modelo de regresión con datos de entrenamiento:\", err_regress)\n",
        "print(\"MAE del modelo de regresión con datos de prueba:\", err_regress_t) "
      ],
      "metadata": {
        "colab": {
          "base_uri": "https://localhost:8080/"
        },
        "id": "A4uh320DrlqP",
        "outputId": "d0dc0a81-7672-4bea-ade2-c678476fc8f3"
      },
      "execution_count": 184,
      "outputs": [
        {
          "output_type": "stream",
          "name": "stdout",
          "text": [
            "MAE del modelo de regresión con datos de entrenamiento: 7.026442166536972\n",
            "MAE del modelo de regresión con datos de prueba: 6.884672570413969\n"
          ]
        }
      ]
    },
    {
      "cell_type": "markdown",
      "source": [
        "#**Estimación de pérdidas con k-NN**\n",
        "Usaremos los arreglos $mae\\_knn$ y $mae\\_knn\\_y$ para guardar los resultados del error de predicción de cada modelo de K-NN con parámetro $k$."
      ],
      "metadata": {
        "id": "mhrPTe0Anvgo"
      }
    },
    {
      "cell_type": "code",
      "source": [
        "k_list    = [1, 3, 5, 7, 15] ## Lista de parámetros k\n",
        "mae_knn   = []                   ## Guarda valores de error de diferentes k en datos de entrenamiento\n",
        "mae_knn_t = []                   ## Guarda valores de error de diferentes k en datos de prueba"
      ],
      "metadata": {
        "id": "DIG4G2hhoHQ7"
      },
      "execution_count": 174,
      "outputs": []
    },
    {
      "cell_type": "markdown",
      "source": [
        "Para cada $k$ se obtiene un modelo K-NN con los que se calculan el **error absoluto medio (MAE)** para los datos de entrenamiento $X$ como de prueba $Xt$."
      ],
      "metadata": {
        "id": "FGaRoEnfoWDh"
      }
    },
    {
      "cell_type": "code",
      "source": [
        "for k in k_list:\n",
        "    #https://realpython.com/knn-python/#:~:text=The%20kNN%20algorithm%20is%20a,in%20Python%3A%20A%20Practical%20Guide.\n",
        "    model = KNeighborsRegressor(n_neighbors=k)\n",
        "    model.fit(X, Y)\n",
        "    y_pred   = model.predict(X) \n",
        "    y_predt   = model.predict(Xt)\n",
        "    mae_knn.append(mean_absolute_error(Y,y_pred))\n",
        "    mae_knn_t.append(mean_absolute_error(Yt,y_predt))\n",
        "    error = Y - y_pred\n",
        "    errort = Yt - y_predt\n",
        "    ## Líneas de código que imprimen los histogramas de los errores de cada modelo con un parámetro k.\n",
        "    df = pd.DataFrame(error,Y)\n",
        "    plt = df.hist(column=0, bins=25, grid=False, figsize=(6,3), color='#777bd4', zorder=2, rwidth=0.9)    \n",
        "    dft = pd.DataFrame(errort,Yt)\n",
        "    plt2 = dft.hist(column=0, bins=25, grid=False, figsize=(6,3), color='#76ced6', zorder=2, rwidth=0.9)"
      ],
      "metadata": {
        "colab": {
          "base_uri": "https://localhost:8080/",
          "height": 1000
        },
        "id": "RLWo40CAotnm",
        "outputId": "7b6abcbd-9dab-43a1-c44a-40a1f5a23cee"
      },
      "execution_count": 185,
      "outputs": [
        {
          "output_type": "display_data",
          "data": {
            "image/png": "[encoded data removed]",
            "text/plain": [
              "<Figure size 432x216 with 1 Axes>"
            ]
          },
          "metadata": {
            "needs_background": "light"
          }
        },
        {
          "output_type": "display_data",
          "data": {
            "image/png": "[encoded data removed]",
            "text/plain": [
              "<Figure size 432x216 with 1 Axes>"
            ]
          },
          "metadata": {
            "needs_background": "light"
          }
        },
        {
          "output_type": "display_data",
          "data": {
            "image/png": "[encoded data removed]",
            "text/plain": [
              "<Figure size 432x216 with 1 Axes>"
            ]
          },
          "metadata": {
            "needs_background": "light"
          }
        },
        {
          "output_type": "display_data",
          "data": {
            "image/png": "[encoded data removed]",
            "text/plain": [
              "<Figure size 432x216 with 1 Axes>"
            ]
          },
          "metadata": {
            "needs_background": "light"
          }
        },
        {
          "output_type": "display_data",
          "data": {
            "image/png": "[encoded data removed]",
            "text/plain": [
              "<Figure size 432x216 with 1 Axes>"
            ]
          },
          "metadata": {
            "needs_background": "light"
          }
        },
        {
          "output_type": "display_data",
          "data": {
            "image/png": "[encoded data removed]",
            "text/plain": [
              "<Figure size 432x216 with 1 Axes>"
            ]
          },
          "metadata": {
            "needs_background": "light"
          }
        },
        {
          "output_type": "display_data",
          "data": {
            "image/png": "[encoded data removed]",
            "text/plain": [
              "<Figure size 432x216 with 1 Axes>"
            ]
          },
          "metadata": {
            "needs_background": "light"
          }
        },
        {
          "output_type": "display_data",
          "data": {
            "image/png": "[encoded data removed]",
            "text/plain": [
              "<Figure size 432x216 with 1 Axes>"
            ]
          },
          "metadata": {
            "needs_background": "light"
          }
        },
        {
          "output_type": "display_data",
          "data": {
            "image/png": "[encoded data removed]",
            "text/plain": [
              "<Figure size 432x216 with 1 Axes>"
            ]
          },
          "metadata": {
            "needs_background": "light"
          }
        },
        {
          "output_type": "display_data",
          "data": {
            "image/png": "[encoded data removed]",
            "text/plain": [
              "<Figure size 432x216 with 1 Axes>"
            ]
          },
          "metadata": {
            "needs_background": "light"
          }
        },
        {
          "output_type": "display_data",
          "data": {
            "image/png": "[encoded data removed]",
            "text/plain": [
              "<Figure size 432x216 with 1 Axes>"
            ]
          },
          "metadata": {
            "needs_background": "light"
          }
        },
        {
          "output_type": "display_data",
          "data": {
            "image/png": "[encoded data removed]",
            "text/plain": [
              "<Figure size 432x216 with 1 Axes>"
            ]
          },
          "metadata": {
            "needs_background": "light"
          }
        }
      ]
    },
    {
      "cell_type": "markdown",
      "source": [
        "Por último mostramos el **error absoluto medio (MAE)** de los datos de entrenamiento así como de los datos de prueba del modelo K-NN para cada parámetro $k$."
      ],
      "metadata": {
        "id": "P3lz7AcZwL52"
      }
    },
    {
      "cell_type": "code",
      "source": [
        "print(\"MAE del modelo de KNN con datos de entrenamiento:\", mae_knn)\n",
        "print(\"MAE del modelo de KNN con datos de prueba:\", mae_knn_t)"
      ],
      "metadata": {
        "colab": {
          "base_uri": "https://localhost:8080/"
        },
        "id": "QFtUn1D_wW0A",
        "outputId": "2ff6a4d2-1955-4f51-85f0-a558b45dc46a"
      },
      "execution_count": 186,
      "outputs": [
        {
          "output_type": "stream",
          "name": "stdout",
          "text": [
            "MAE del modelo de KNN con datos de entrenamiento: [1.324293221393035, 1.2696310737976781, 1.2798165319237147, 1.2984168932125089, 1.4456673618021008, 1.6820326537451629, 1.324293221393035, 1.2696310737976781, 1.2798165319237147, 1.2984168932125089, 1.4456673618021008, 1.6820326537451629]\n",
            "MAE del modelo de KNN con datos de prueba: [1.041209328358209, 1.1468778399668327, 1.261364552238806, 1.3769853500355365, 1.7017916542288556, 2.130009060945274, 1.041209328358209, 1.1468778399668327, 1.261364552238806, 1.3769853500355365, 1.7017916542288556, 2.130009060945274]\n"
          ]
        }
      ]
    },
    {
      "cell_type": "code",
      "source": [
        "mae_reg = []\n",
        "mae_reg_t = []\n",
        "for k in k_list:\n",
        "  mae_reg.append(err_regress)\n",
        "  mae_reg_t.append(err_regress_t)"
      ],
      "metadata": {
        "id": "rwOQm55OwhBf"
      },
      "execution_count": 165,
      "outputs": []
    },
    {
      "cell_type": "markdown",
      "source": [
        "Finalmente comparamos los errores en la clasificación de ZIP-code del modelo de regresión lineal contra el de K-NN con diferentes valores de $k$."
      ],
      "metadata": {
        "id": "_gB2b9yXwrjf"
      }
    },
    {
      "cell_type": "code",
      "source": [
        "fig = plt.figure(figsize = (5, 5))\n",
        "axes = fig.add_subplot(1, 1, 1)\n",
        "axes.plot(k_list, mae_knn,   '-', color = 'blue'  , label = 'knn-train')\n",
        "axes.plot(k_list, mae_knn_t, '-', color = 'red'   , label = 'knn-test')\n",
        "axes.plot(k_list, mae_reg,   '-', color = 'orange', label = 'regression-train')\n",
        "axes.plot(k_list, mae_reg_t, '-', color = 'green' , label = 'regression-test')\n",
        "axes.legend()\n",
        "axes.set_xlabel(\"k\")\n",
        "axes.set_ylabel(\"MAE error\")\n",
        "plt.show()"
      ],
      "metadata": {
        "colab": {
          "base_uri": "https://localhost:8080/",
          "height": 337
        },
        "id": "oH2hMD_Lw42-",
        "outputId": "2b0b32b9-e598-41bc-ce50-3ac0d02c39a3"
      },
      "execution_count": 178,
      "outputs": [
        {
          "output_type": "display_data",
          "data": {
            "image/png": "[encoded data removed]",
            "text/plain": [
              "<Figure size 360x360 with 1 Axes>"
            ]
          },
          "metadata": {
            "needs_background": "light"
          }
        }
      ]
    }
  ]
}
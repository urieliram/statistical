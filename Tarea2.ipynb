{
  "nbformat": 4,
  "nbformat_minor": 0,
  "metadata": {
    "colab": {
      "name": "Tarea2.ipynb",
      "provenance": [],
      "collapsed_sections": [],
      "authorship_tag": "ABX9TyNlVhcTCY6AFedNY9wBO5hY",
      "include_colab_link": true
    },
    "kernelspec": {
      "name": "python3",
      "display_name": "Python 3"
    },
    "language_info": {
      "name": "python"
    }
  },
  "cells": [
    {
      "cell_type": "markdown",
      "metadata": {
        "id": "view-in-github",
        "colab_type": "text"
      },
      "source": [
        "<a href=\"https://colab.research.google.com/github/urieliram/statistical/blob/main/Tarea2.ipynb\" target=\"_parent\"><img src=\"https://colab.research.google.com/assets/colab-badge.svg\" alt=\"Open In Colab\"/></a>"
      ]
    },
    {
      "cell_type": "code",
      "source": [
        "import numpy as np\n",
        "import pandas as pd\n",
        "from sklearn.linear_model import LinearRegression\n",
        "import matplotlib.pyplot as plt"
      ],
      "metadata": {
        "id": "3ghzTDgI8c3z"
      },
      "execution_count": 225,
      "outputs": []
    },
    {
      "cell_type": "markdown",
      "source": [
        "Encontramos el modelo de predicción po regresión de los codigos postales 2 y 3."
      ],
      "metadata": {
        "id": "TQNC-rPq2rX0"
      }
    },
    {
      "cell_type": "code",
      "source": [
        "df1 = pd.read_csv('zip_train.csv', header=None)\n",
        "n = [2,3]\n",
        "df1 = df1.loc[ df1.iloc[:,0].isin(n)]\n",
        "df1.to_csv('sample.csv')\n",
        "#print(df1)\n"
      ],
      "metadata": {
        "id": "KkgmRwj9DGuy"
      },
      "execution_count": 226,
      "outputs": []
    },
    {
      "cell_type": "code",
      "source": [
        "df2 = df1.iloc[:,0]\n",
        "#print(df2)"
      ],
      "metadata": {
        "id": "4kHdyXbkYw_v"
      },
      "execution_count": 227,
      "outputs": []
    },
    {
      "cell_type": "code",
      "source": [
        "df1 = df1.drop([0],axis=1)\n",
        "#print(df1)"
      ],
      "metadata": {
        "id": "sy5eq7ZTfJWG"
      },
      "execution_count": 228,
      "outputs": []
    },
    {
      "cell_type": "code",
      "source": [
        "Xu = df1.to_numpy()\n",
        "Yu = df2.to_numpy()\n",
        "#print(Xu)\n",
        "#print(Yu.T)"
      ],
      "metadata": {
        "id": "i0jm-KyvDsTa"
      },
      "execution_count": 229,
      "outputs": []
    },
    {
      "cell_type": "code",
      "source": [
        "model = LinearRegression().fit(Xu, Yu)\n",
        "#https://realpython.com/linear-regression-in-python/\n",
        "\n",
        "r_sq = model.score(Xu, Yu)\n",
        "#print('coefficient of determination:', r_sq)\n",
        "#print('intercept:', model.intercept_)\n",
        "##print('slope:', model.coef_)"
      ],
      "metadata": {
        "id": "jR3TGefaMZ3Z"
      },
      "execution_count": 230,
      "outputs": []
    },
    {
      "cell_type": "code",
      "source": [
        "y_pred = model.predict(Xu)\n",
        "#print('predicted response:', y_pred, sep='\\n')\n",
        "error_reg = Yu - y_pred\n",
        "dfx=pd.DataFrame(error_reg,Yu)\n",
        "dfx.to_csv('sample.csv')"
      ],
      "metadata": {
        "id": "m6Wilj2JPWLJ"
      },
      "execution_count": 231,
      "outputs": []
    },
    {
      "cell_type": "code",
      "source": [
        "plt = dfx.hist(column=0, bins=27, grid=False, figsize=(6,3), color='#86bf91', zorder=2, rwidth=0.9)\n"
      ],
      "metadata": {
        "colab": {
          "base_uri": "https://localhost:8080/",
          "height": 227
        },
        "id": "rv4VfWXRuKOb",
        "outputId": "5c1f598a-e783-4b0e-ebe1-f13e456f5ce4"
      },
      "execution_count": 232,
      "outputs": [
        {
          "output_type": "display_data",
          "data": {
            "image/png": "[encoded data removed]",
            "text/plain": [
              "<Figure size 432x216 with 1 Axes>"
            ]
          },
          "metadata": {
            "needs_background": "light"
          }
        }
      ]
    },
    {
      "cell_type": "markdown",
      "source": [
        "Intentaremos con KNN..."
      ],
      "metadata": {
        "id": "-5EV2hG9FQ-P"
      }
    },
    {
      "cell_type": "code",
      "source": [
        "def dist(x1, x2): # using euclidean distance for simplicity\n",
        "    return sqrt(sum([(xi - xj)**2 for (xi, xj) in zip(x1, x2)]))"
      ],
      "metadata": {
        "id": "gZAB9V4rFYGH"
      },
      "execution_count": null,
      "outputs": []
    },
    {
      "cell_type": "code",
      "source": [
        "np.linalg.norm(y_pred - Yu)"
      ],
      "metadata": {
        "colab": {
          "base_uri": "https://localhost:8080/"
        },
        "id": "4qO-u6-9FeSh",
        "outputId": "13bf82b9-8dce-49dd-d3fd-7a00879a0c08"
      },
      "execution_count": 223,
      "outputs": [
        {
          "output_type": "execute_result",
          "data": {
            "text/plain": [
              "5.870560555105522"
            ]
          },
          "metadata": {},
          "execution_count": 223
        }
      ]
    },
    {
      "cell_type": "code",
      "source": [
        ""
      ],
      "metadata": {
        "id": "wKxX_mqvGOOB"
      },
      "execution_count": 224,
      "outputs": []
    }
  ]
}
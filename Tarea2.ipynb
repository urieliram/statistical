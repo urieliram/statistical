{
  "nbformat": 4,
  "nbformat_minor": 0,
  "metadata": {
    "colab": {
      "name": "Tarea2.ipynb",
      "provenance": [],
      "authorship_tag": "ABX9TyPQXEx2Qh7C+vwLz6bb6UX4",
      "include_colab_link": true
    },
    "kernelspec": {
      "name": "python3",
      "display_name": "Python 3"
    },
    "language_info": {
      "name": "python"
    }
  },
  "cells": [
    {
      "cell_type": "markdown",
      "metadata": {
        "id": "view-in-github",
        "colab_type": "text"
      },
      "source": [
        "<a href=\"https://colab.research.google.com/github/urieliram/statistical/blob/main/Tarea2.ipynb\" target=\"_parent\"><img src=\"https://colab.research.google.com/assets/colab-badge.svg\" alt=\"Open In Colab\"/></a>"
      ]
    },
    {
      "cell_type": "code",
      "source": [
        "import numpy as np\n",
        "import pandas as pd\n",
        "from sklearn.linear_model import LinearRegression\n",
        "import matplotlib.pyplot as plt"
      ],
      "metadata": {
        "id": "3ghzTDgI8c3z"
      },
      "execution_count": 159,
      "outputs": []
    },
    {
      "cell_type": "code",
      "source": [
        "df1 = pd.read_csv('zip_train.csv', header=None)\n",
        "n = [2,3]\n",
        "df1 = df1.loc[ df1.iloc[:,0].isin(n)]\n",
        "df1.to_csv('sample.csv')\n",
        "print(df1)\n"
      ],
      "metadata": {
        "id": "KkgmRwj9DGuy",
        "colab": {
          "base_uri": "https://localhost:8080/"
        },
        "outputId": "116611eb-9313-47c9-e256-60906317b33a"
      },
      "execution_count": 160,
      "outputs": [
        {
          "output_type": "stream",
          "name": "stdout",
          "text": [
            "      0      1      2      3      4    ...    252    253    254  255  256\n",
            "4       3 -1.000 -1.000 -1.000 -1.000  ...  0.439 -0.199 -0.883 -1.0 -1.0\n",
            "6       3 -1.000 -1.000 -1.000 -0.830  ... -1.000 -1.000 -1.000 -1.0 -1.0\n",
            "26      3 -1.000 -1.000 -1.000 -1.000  ...  0.715  0.107 -0.526 -1.0 -1.0\n",
            "30      3 -1.000 -1.000 -1.000 -1.000  ...  0.633 -0.144 -0.994 -1.0 -1.0\n",
            "35      3 -1.000 -1.000 -1.000 -1.000  ... -1.000 -1.000 -1.000 -1.0 -1.0\n",
            "...   ...    ...    ...    ...    ...  ...    ...    ...    ...  ...  ...\n",
            "7282    3 -1.000 -0.882 -0.334  0.267  ...  0.325 -0.820 -1.000 -1.0 -1.0\n",
            "7283    3 -0.985 -0.048  0.226  0.226  ... -1.000 -1.000 -1.000 -1.0 -1.0\n",
            "7286    3 -1.000 -1.000 -1.000 -0.988  ... -1.000 -1.000 -1.000 -1.0 -1.0\n",
            "7287    3 -1.000 -1.000 -1.000 -0.990  ... -1.000 -1.000 -1.000 -1.0 -1.0\n",
            "7288    3 -1.000 -1.000 -1.000 -0.783  ... -0.933 -1.000 -1.000 -1.0 -1.0\n",
            "\n",
            "[1389 rows x 257 columns]\n"
          ]
        }
      ]
    },
    {
      "cell_type": "code",
      "source": [
        "df2 = df1.iloc[:,0]\n",
        "print(df2)"
      ],
      "metadata": {
        "colab": {
          "base_uri": "https://localhost:8080/"
        },
        "id": "4kHdyXbkYw_v",
        "outputId": "0621f023-0eb5-4ccd-e20d-7f0461a7f4bf"
      },
      "execution_count": 161,
      "outputs": [
        {
          "output_type": "stream",
          "name": "stdout",
          "text": [
            "4       3\n",
            "6       3\n",
            "26      3\n",
            "30      3\n",
            "35      3\n",
            "       ..\n",
            "7282    3\n",
            "7283    3\n",
            "7286    3\n",
            "7287    3\n",
            "7288    3\n",
            "Name: 0, Length: 1389, dtype: int64\n"
          ]
        }
      ]
    },
    {
      "cell_type": "code",
      "source": [
        "df1 = df1.drop([0],axis=1)\n",
        "print(df1)"
      ],
      "metadata": {
        "colab": {
          "base_uri": "https://localhost:8080/"
        },
        "id": "sy5eq7ZTfJWG",
        "outputId": "08587efa-f682-4b7f-8144-ecc944b4c25d"
      },
      "execution_count": 162,
      "outputs": [
        {
          "output_type": "stream",
          "name": "stdout",
          "text": [
            "        1      2      3      4      5    ...    252    253    254  255  256\n",
            "4    -1.000 -1.000 -1.000 -1.000 -1.000  ...  0.439 -0.199 -0.883 -1.0 -1.0\n",
            "6    -1.000 -1.000 -1.000 -0.830  0.442  ... -1.000 -1.000 -1.000 -1.0 -1.0\n",
            "26   -1.000 -1.000 -1.000 -1.000 -1.000  ...  0.715  0.107 -0.526 -1.0 -1.0\n",
            "30   -1.000 -1.000 -1.000 -1.000 -1.000  ...  0.633 -0.144 -0.994 -1.0 -1.0\n",
            "35   -1.000 -1.000 -1.000 -1.000 -0.674  ... -1.000 -1.000 -1.000 -1.0 -1.0\n",
            "...     ...    ...    ...    ...    ...  ...    ...    ...    ...  ...  ...\n",
            "7282 -1.000 -0.882 -0.334  0.267  0.333  ...  0.325 -0.820 -1.000 -1.0 -1.0\n",
            "7283 -0.985 -0.048  0.226  0.226  0.226  ... -1.000 -1.000 -1.000 -1.0 -1.0\n",
            "7286 -1.000 -1.000 -1.000 -0.988 -0.527  ... -1.000 -1.000 -1.000 -1.0 -1.0\n",
            "7287 -1.000 -1.000 -1.000 -0.990  0.708  ... -1.000 -1.000 -1.000 -1.0 -1.0\n",
            "7288 -1.000 -1.000 -1.000 -0.783 -0.984  ... -0.933 -1.000 -1.000 -1.0 -1.0\n",
            "\n",
            "[1389 rows x 256 columns]\n"
          ]
        }
      ]
    },
    {
      "cell_type": "code",
      "source": [
        "Xu = df1.to_numpy()\n",
        "Yu = df2.to_numpy()\n",
        "print(Xu)\n",
        "print(Yu.T)"
      ],
      "metadata": {
        "colab": {
          "base_uri": "https://localhost:8080/"
        },
        "id": "i0jm-KyvDsTa",
        "outputId": "be5c5256-d3d0-437e-91b3-6210575dfe62"
      },
      "execution_count": 163,
      "outputs": [
        {
          "output_type": "stream",
          "name": "stdout",
          "text": [
            "[[-1.    -1.    -1.    ... -0.883 -1.    -1.   ]\n",
            " [-1.    -1.    -1.    ... -1.    -1.    -1.   ]\n",
            " [-1.    -1.    -1.    ... -0.526 -1.    -1.   ]\n",
            " ...\n",
            " [-1.    -1.    -1.    ... -1.    -1.    -1.   ]\n",
            " [-1.    -1.    -1.    ... -1.    -1.    -1.   ]\n",
            " [-1.    -1.    -1.    ... -1.    -1.    -1.   ]]\n",
            "[3 3 3 ... 3 3 3]\n"
          ]
        }
      ]
    },
    {
      "cell_type": "code",
      "source": [
        "model = LinearRegression().fit(Xu, Yu)\n",
        "#https://realpython.com/linear-regression-in-python/\n",
        "\n",
        "r_sq = model.score(Xu, Yu)\n",
        "#print('coefficient of determination:', r_sq)\n",
        "#print('intercept:', model.intercept_)\n",
        "##print('slope:', model.coef_)"
      ],
      "metadata": {
        "id": "jR3TGefaMZ3Z"
      },
      "execution_count": 172,
      "outputs": []
    },
    {
      "cell_type": "code",
      "source": [
        "y_pred = model.predict(Xu)\n",
        "#print('predicted response:', y_pred, sep='\\n')\n",
        "error_reg = Yu - y_pred\n",
        "dfx=pd.DataFrame(error_reg,Yu)\n",
        "dfx.to_csv('sample.csv')"
      ],
      "metadata": {
        "id": "m6Wilj2JPWLJ"
      },
      "execution_count": 198,
      "outputs": []
    },
    {
      "cell_type": "code",
      "source": [
        "plt = dfx.hist(column=0, bins=25, grid=False, figsize=(6,3), color='#86bf91', zorder=2, rwidth=0.9)\n"
      ],
      "metadata": {
        "colab": {
          "base_uri": "https://localhost:8080/",
          "height": 227
        },
        "id": "rv4VfWXRuKOb",
        "outputId": "85668cc5-48a8-4313-f33a-a2218ca7baa0"
      },
      "execution_count": 208,
      "outputs": [
        {
          "output_type": "display_data",
          "data": {
            "image/png": "[encoded data removed]",
            "text/plain": [
              "<Figure size 432x216 with 1 Axes>"
            ]
          },
          "metadata": {
            "needs_background": "light"
          }
        }
      ]
    }
  ]
}
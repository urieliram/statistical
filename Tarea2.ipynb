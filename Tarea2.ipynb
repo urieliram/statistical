{
  "nbformat": 4,
  "nbformat_minor": 0,
  "metadata": {
    "colab": {
      "name": "Tarea2.ipynb",
      "provenance": [],
      "collapsed_sections": [],
      "authorship_tag": "ABX9TyM7IvKK0pYbXT2Y4wxjFhJ8",
      "include_colab_link": true
    },
    "kernelspec": {
      "name": "python3",
      "display_name": "Python 3"
    },
    "language_info": {
      "name": "python"
    }
  },
  "cells": [
    {
      "cell_type": "markdown",
      "metadata": {
        "id": "view-in-github",
        "colab_type": "text"
      },
      "source": [
        "<a href=\"https://colab.research.google.com/github/urieliram/statistical/blob/main/Tarea2.ipynb\" target=\"_parent\"><img src=\"https://colab.research.google.com/assets/colab-badge.svg\" alt=\"Open In Colab\"/></a>"
      ]
    },
    {
      "cell_type": "markdown",
      "source": [
        "\"First carry out Exercise 2.8 of the textbook with their ZIP-code data and then replicate the process the best you manage to some data from you own problem that was established in the first homework.\""
      ],
      "metadata": {
        "id": "mSp-SqxZkCFc"
      }
    },
    {
      "cell_type": "code",
      "source": [
        "import numpy as np\n",
        "import pandas as pd\n",
        "from sklearn.linear_model import LinearRegression\n",
        "from sklearn.metrics import mean_absolute_error\n",
        "from sklearn.metrics import mean_squared_error\n",
        "from sklearn.neighbors import KNeighborsRegressor\n",
        "import matplotlib.pyplot as plt"
      ],
      "metadata": {
        "id": "3ghzTDgI8c3z"
      },
      "execution_count": 77,
      "outputs": []
    },
    {
      "cell_type": "markdown",
      "source": [
        "## **Regresión líneal**\n",
        "(usado para resolver el problema de ZIP-code [2,3] del libro [liga](https://link.springer.com/book/10.1007/978-0-387-84858-7))"
      ],
      "metadata": {
        "id": "eqqBrWsXfSz-"
      }
    },
    {
      "cell_type": "markdown",
      "source": [
        "\n",
        "Iniciamos cargando los datos de entrenamiento de los códigos postales 2 y 3 en los arreglos $X$ y $Y$:"
      ],
      "metadata": {
        "id": "TQNC-rPq2rX0"
      }
    },
    {
      "cell_type": "code",
      "source": [
        "df1 = pd.read_csv('zip_train.csv', header=None)\n",
        "n = [2,3]\n",
        "df1 = df1.loc[ df1.iloc[:,0].isin(n)]\n",
        "df2 = df1.iloc[:,0]\n",
        "df1 = df1.drop([0],axis=1)\n",
        "X  = df1.to_numpy() ## Características\n",
        "Y  = df2.to_numpy() ## Etiquetas"
      ],
      "metadata": {
        "id": "KkgmRwj9DGuy"
      },
      "execution_count": 78,
      "outputs": []
    },
    {
      "cell_type": "markdown",
      "source": [
        "Ahora, cargamos los datos de prueba en los arreglos $Xt$ y $Yt$:"
      ],
      "metadata": {
        "id": "8b92RU6Kug3p"
      }
    },
    {
      "cell_type": "code",
      "source": [
        "df1 = pd.read_csv('zip_test.csv', header=None)\n",
        "df1 = df1.loc[ df1.iloc[:,0].isin(n)]\n",
        "df2 = df1.iloc[:,0]\n",
        "df1 = df1.drop([0],axis=1)\n",
        "Xt  = df1.to_numpy()\n",
        "Yt  = df2.to_numpy()"
      ],
      "metadata": {
        "id": "EtITOjZam199"
      },
      "execution_count": 79,
      "outputs": []
    },
    {
      "cell_type": "markdown",
      "source": [
        "A continuación, obtenemos un modelo de predicción de los datos de entrenamiento usando regresión lineal. Posteriomente, calculamos los errores entre la predicción $y\\_pred$ y los datos de entrenamiento \"Y\". Los errores de la predicción con datos de entrenamiento son representados por un histograma."
      ],
      "metadata": {
        "id": "pahdRgDdf-9R"
      }
    },
    {
      "cell_type": "code",
      "source": [
        "model = LinearRegression().fit(X, Y) #https://realpython.com/linear-regression-in-python/\n",
        "y_pred = model.predict(X)\n",
        "error = Y - y_pred\n",
        "dfx = pd.DataFrame(error,Y)\n",
        "plt = dfx.hist(column=0, bins=27, grid=False, figsize=(6,3), color='#86bf91', zorder=2, rwidth=0.9)\n",
        "err_regress = mean_absolute_error(Y,y_pred)"
      ],
      "metadata": {
        "colab": {
          "base_uri": "https://localhost:8080/",
          "height": 227
        },
        "id": "sjO0ZO11timQ",
        "outputId": "fec3bcbe-7a4d-477f-a800-8e600c3dc489"
      },
      "execution_count": 80,
      "outputs": [
        {
          "output_type": "display_data",
          "data": {
            "image/png": "[encoded data removed]",
            "text/plain": [
              "<Figure size 432x216 with 1 Axes>"
            ]
          },
          "metadata": {
            "needs_background": "light"
          }
        }
      ]
    },
    {
      "cell_type": "markdown",
      "source": [
        "Ahora, utilizamos el modelo obtenido con los datos de entrenamiento para predecir los datos de prueba. Además,  calculamos los errores entre la predicción $y\\_pred2$ y los datos de prueba $Yt$. Los errores de la predicción con datos de prueba son representados por un histograma."
      ],
      "metadata": {
        "id": "8CbknbJqislx"
      }
    },
    {
      "cell_type": "code",
      "source": [
        "y_pred2 = model.predict(Xt)\n",
        "error2 = Yt - y_pred2\n",
        "df = pd.DataFrame(error2,Yt)\n",
        "df.to_csv('sample.csv')\n",
        "plt = df.hist(column=0, bins=25, grid=False, figsize=(6,3), color='#86bf40', zorder=2, rwidth=0.9)\n",
        "err_regress_t = mean_absolute_error(y_pred2,Yt)"
      ],
      "metadata": {
        "colab": {
          "base_uri": "https://localhost:8080/",
          "height": 227
        },
        "id": "m6Wilj2JPWLJ",
        "outputId": "1e37e911-2509-4c2e-b23e-692907faf581"
      },
      "execution_count": 81,
      "outputs": [
        {
          "output_type": "display_data",
          "data": {
            "image/png": "[encoded data removed]",
            "text/plain": [
              "<Figure size 432x216 with 1 Axes>"
            ]
          },
          "metadata": {
            "needs_background": "light"
          }
        }
      ]
    },
    {
      "cell_type": "markdown",
      "source": [
        "Por último calculamos el **error absoluto medio (MAE)** de los datos de entrenamiento así como de los datos de prueba."
      ],
      "metadata": {
        "id": "Xm_Oq6VEl4Pa"
      }
    },
    {
      "cell_type": "code",
      "source": [
        "print(\"MAE del modelo de regresión con datos de entrenamiento:\", err_regress)\n",
        "print(\"MAE del modelo de regresión con datos de prueba:\", err_regress_t) "
      ],
      "metadata": {
        "colab": {
          "base_uri": "https://localhost:8080/"
        },
        "id": "cu-N1H_czv4v",
        "outputId": "462f5899-7882-4a61-8250-662a9f95fdab"
      },
      "execution_count": 82,
      "outputs": [
        {
          "output_type": "stream",
          "name": "stdout",
          "text": [
            "MAE del modelo de regresión con datos de entrenamiento: 0.12054534466534834\n",
            "MAE del modelo de regresión con datos de prueba: 0.1911427954737535\n"
          ]
        }
      ]
    },
    {
      "cell_type": "markdown",
      "source": [
        "#**k-nearest neighbors**\n",
        "(usado para resolver el problema de ZIP-code [2,3] del libro [liga](https://link.springer.com/book/10.1007/978-0-387-84858-7))"
      ],
      "metadata": {
        "id": "-5EV2hG9FQ-P"
      }
    },
    {
      "cell_type": "markdown",
      "source": [
        "Usaremos los arreglos $mae\\_knn$ y $mae\\_knn\\_y$ para guardar los resultados del error de predicción de cada modelo de K-NN con parámetro $k$."
      ],
      "metadata": {
        "id": "w4TQ7nozm0ob"
      }
    },
    {
      "cell_type": "code",
      "source": [
        "k_list    = [1, 3, 5, 7, 15] ## Lista de parámetros k\n",
        "mae_knn   = []  ## Guarda valores de error de diferentes k en datos de entrenamiento\n",
        "mae_knn_t = []  ## Guarda valores de error de diferentes k en datos de prueba"
      ],
      "metadata": {
        "id": "gZAB9V4rFYGH"
      },
      "execution_count": 83,
      "outputs": []
    },
    {
      "cell_type": "markdown",
      "source": [
        "Para cada $k$ se obtiene un modelo K-NN con los que se calculan el **error absoluto medio (MAE)** para los datos de entrenamiento $X$ como de prueba $Xt$."
      ],
      "metadata": {
        "id": "BbTpZw_mote5"
      }
    },
    {
      "cell_type": "code",
      "source": [
        "for k in k_list:\n",
        "    #https://realpython.com/knn-python/#:~:text=The%20kNN%20algorithm%20is%20a,in%20Python%3A%20A%20Practical%20Guide.\n",
        "    model = KNeighborsRegressor(n_neighbors=k)\n",
        "    model.fit(X, Y)\n",
        "    y_pred   = model.predict(X) \n",
        "    y_predt   = model.predict(Xt)\n",
        "    mae_knn.append(mean_absolute_error(Y,y_pred))\n",
        "    mae_knn_t.append(mean_absolute_error(Yt,y_predt))\n",
        "    error = Y - y_pred  \n",
        "    df = pd.DataFrame(error,Y)\n",
        "    plt = df.hist(column=0, bins=25, grid=False, figsize=(6,3), color='#86bf91', zorder=2, rwidth=0.9)\n",
        "    errort = Yt - y_predt\n",
        "    dft = pd.DataFrame(errort,Yt)\n",
        "    plt2 = dft.hist(column=0, bins=25, grid=False, figsize=(6,3), color='#86bf40', zorder=2, rwidth=0.9)"
      ],
      "metadata": {
        "id": "oYkJLU4qoleC"
      },
      "execution_count": null,
      "outputs": []
    },
    {
      "cell_type": "markdown",
      "source": [
        "Por último imprimimos el **error absoluto medio (MAE)** de los datos de entrenamiento así como de los datos de prueba del modelo K-NN."
      ],
      "metadata": {
        "id": "gPIK9UyTyC4g"
      }
    },
    {
      "cell_type": "code",
      "source": [
        "print(\"MAE del modelo de KNN con datos de entrenamiento:\", mae_knn)\n",
        "print(\"MAE del modelo de KNN con datos de prueba:\", mae_knn_t) "
      ],
      "metadata": {
        "colab": {
          "base_uri": "https://localhost:8080/"
        },
        "id": "mnVGN2Yy29M5",
        "outputId": "b91e28d9-7387-48c9-8460-7dfba8003808"
      },
      "execution_count": 100,
      "outputs": [
        {
          "output_type": "stream",
          "name": "stdout",
          "text": [
            "MAE del modelo de KNN con datos de entrenamiento: [0.0, 0.007199424046076315, 0.010079193664506842, 0.013370358942713153, 0.023710103191744672, 0.0, 0.007199424046076315, 0.010079193664506842, 0.013370358942713153, 0.023710103191744672, 0.0, 0.007199424046076315, 0.010079193664506842, 0.013370358942713153, 0.023710103191744672, 0.0, 0.007199424046076315, 0.010079193664506842, 0.013370358942713153, 0.023710103191744672, 0.0, 0.007199424046076315, 0.010079193664506842, 0.013370358942713153, 0.023710103191744672, 0.0, 0.0, 0.0, 0.0, 0.007199424046076315, 0.010079193664506842, 0.013370358942713153, 0.023710103191744672]\n",
            "MAE del modelo de KNN con datos de prueba: [0.024725274725274724, 0.03021978021978022, 0.03296703296703297, 0.03767660910518054, 0.04761904761904762, 0.024725274725274724, 0.03021978021978022, 0.03296703296703297, 0.03767660910518054, 0.04761904761904762, 0.024725274725274724, 0.03021978021978022, 0.03296703296703297, 0.03767660910518054, 0.04761904761904762, 0.024725274725274724, 0.03021978021978022, 0.03296703296703297, 0.03767660910518054, 0.04761904761904762, 0.024725274725274724, 0.03021978021978022, 0.03296703296703297, 0.03767660910518054, 0.04761904761904762, 0.024725274725274724, 0.024725274725274724, 0.024725274725274724, 0.024725274725274724, 0.03021978021978022, 0.03296703296703297, 0.03767660910518054, 0.04761904761904762]\n"
          ]
        }
      ]
    }
  ]
}
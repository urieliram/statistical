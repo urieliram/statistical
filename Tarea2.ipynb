{
  "nbformat": 4,
  "nbformat_minor": 0,
  "metadata": {
    "colab": {
      "name": "Tarea2.ipynb",
      "provenance": [],
      "authorship_tag": "ABX9TyPg+MbVtjn3IYOGjjhzgBGj",
      "include_colab_link": true
    },
    "kernelspec": {
      "name": "python3",
      "display_name": "Python 3"
    },
    "language_info": {
      "name": "python"
    }
  },
  "cells": [
    {
      "cell_type": "markdown",
      "metadata": {
        "id": "view-in-github",
        "colab_type": "text"
      },
      "source": [
        "<a href=\"https://colab.research.google.com/github/urieliram/statistical/blob/main/Tarea2.ipynb\" target=\"_parent\"><img src=\"https://colab.research.google.com/assets/colab-badge.svg\" alt=\"Open In Colab\"/></a>"
      ]
    },
    {
      "cell_type": "code",
      "source": [
        "import numpy as np\n",
        "import pandas as pd\n",
        "from sklearn.linear_model import LinearRegression"
      ],
      "metadata": {
        "id": "3ghzTDgI8c3z"
      },
      "execution_count": 86,
      "outputs": []
    },
    {
      "cell_type": "code",
      "source": [
        "df1 = pd.read_csv('zip_train.csv', header=None)\n",
        "print(df1)\n",
        "type"
      ],
      "metadata": {
        "id": "KkgmRwj9DGuy",
        "colab": {
          "base_uri": "https://localhost:8080/"
        },
        "outputId": "0b7f5c30-05a9-497d-c3c1-0b0d0ec36f7a"
      },
      "execution_count": 99,
      "outputs": [
        {
          "output_type": "stream",
          "name": "stdout",
          "text": [
            "      0    1    2    3      4      5    ...    251    252    253    254    255  256\n",
            "0       6 -1.0 -1.0 -1.0 -1.000 -1.000  ... -0.474 -0.991 -1.000 -1.000 -1.000 -1.0\n",
            "1       5 -1.0 -1.0 -1.0 -0.813 -0.671  ...  0.762  0.126 -0.095 -0.671 -0.828 -1.0\n",
            "2       4 -1.0 -1.0 -1.0 -1.000 -1.000  ...  1.000 -0.179 -1.000 -1.000 -1.000 -1.0\n",
            "3       7 -1.0 -1.0 -1.0 -1.000 -1.000  ... -1.000 -1.000 -1.000 -1.000 -1.000 -1.0\n",
            "4       3 -1.0 -1.0 -1.0 -1.000 -1.000  ...  0.791  0.439 -0.199 -0.883 -1.000 -1.0\n",
            "...   ...  ...  ...  ...    ...    ...  ...    ...    ...    ...    ...    ...  ...\n",
            "7286    3 -1.0 -1.0 -1.0 -0.988 -0.527  ... -1.000 -1.000 -1.000 -1.000 -1.000 -1.0\n",
            "7287    3 -1.0 -1.0 -1.0 -0.990  0.708  ... -1.000 -1.000 -1.000 -1.000 -1.000 -1.0\n",
            "7288    3 -1.0 -1.0 -1.0 -0.783 -0.984  ... -0.342 -0.933 -1.000 -1.000 -1.000 -1.0\n",
            "7289    0 -1.0 -1.0 -1.0 -1.000 -1.000  ... -0.231 -0.687 -1.000 -1.000 -1.000 -1.0\n",
            "7290    1 -1.0 -1.0 -1.0 -1.000 -1.000  ... -1.000 -1.000 -1.000 -1.000 -1.000 -1.0\n",
            "\n",
            "[7291 rows x 257 columns]\n"
          ]
        },
        {
          "output_type": "execute_result",
          "data": {
            "text/plain": [
              "type"
            ]
          },
          "metadata": {},
          "execution_count": 99
        }
      ]
    },
    {
      "cell_type": "code",
      "source": [
        "df2 = df1.iloc[:,0]\n",
        "print(df2)"
      ],
      "metadata": {
        "colab": {
          "base_uri": "https://localhost:8080/"
        },
        "id": "4kHdyXbkYw_v",
        "outputId": "65821fc0-e9d0-44cc-9753-169871fd3682"
      },
      "execution_count": 103,
      "outputs": [
        {
          "output_type": "stream",
          "name": "stdout",
          "text": [
            "0       6\n",
            "1       5\n",
            "2       4\n",
            "3       7\n",
            "4       3\n",
            "       ..\n",
            "7286    3\n",
            "7287    3\n",
            "7288    3\n",
            "7289    0\n",
            "7290    1\n",
            "Name: 0, Length: 7291, dtype: int64\n"
          ]
        }
      ]
    },
    {
      "cell_type": "code",
      "source": [
        "df1 = df1.drop([0],axis=1)\n",
        "print(df1)"
      ],
      "metadata": {
        "colab": {
          "base_uri": "https://localhost:8080/"
        },
        "id": "sy5eq7ZTfJWG",
        "outputId": "92dbb9fb-b832-41d5-c42f-6abbd883ff52"
      },
      "execution_count": 105,
      "outputs": [
        {
          "output_type": "stream",
          "name": "stdout",
          "text": [
            "      1    2    3      4      5    ...    252    253    254    255  256\n",
            "0    -1.0 -1.0 -1.0 -1.000 -1.000  ... -0.991 -1.000 -1.000 -1.000 -1.0\n",
            "1    -1.0 -1.0 -1.0 -0.813 -0.671  ...  0.126 -0.095 -0.671 -0.828 -1.0\n",
            "2    -1.0 -1.0 -1.0 -1.000 -1.000  ... -0.179 -1.000 -1.000 -1.000 -1.0\n",
            "3    -1.0 -1.0 -1.0 -1.000 -1.000  ... -1.000 -1.000 -1.000 -1.000 -1.0\n",
            "4    -1.0 -1.0 -1.0 -1.000 -1.000  ...  0.439 -0.199 -0.883 -1.000 -1.0\n",
            "...   ...  ...  ...    ...    ...  ...    ...    ...    ...    ...  ...\n",
            "7286 -1.0 -1.0 -1.0 -0.988 -0.527  ... -1.000 -1.000 -1.000 -1.000 -1.0\n",
            "7287 -1.0 -1.0 -1.0 -0.990  0.708  ... -1.000 -1.000 -1.000 -1.000 -1.0\n",
            "7288 -1.0 -1.0 -1.0 -0.783 -0.984  ... -0.933 -1.000 -1.000 -1.000 -1.0\n",
            "7289 -1.0 -1.0 -1.0 -1.000 -1.000  ... -0.687 -1.000 -1.000 -1.000 -1.0\n",
            "7290 -1.0 -1.0 -1.0 -1.000 -1.000  ... -1.000 -1.000 -1.000 -1.000 -1.0\n",
            "\n",
            "[7291 rows x 256 columns]\n"
          ]
        }
      ]
    },
    {
      "cell_type": "code",
      "source": [
        "Xu = df1.to_numpy()\n",
        "Yu = df2.to_numpy()\n",
        "print(Xu)\n",
        "print(Yu.T)"
      ],
      "metadata": {
        "id": "i0jm-KyvDsTa"
      },
      "execution_count": null,
      "outputs": []
    },
    {
      "cell_type": "code",
      "source": [
        "model = LinearRegression().fit(Xu, Yu)\n",
        "#https://realpython.com/linear-regression-in-python/\n",
        "\n",
        "r_sq = model.score(Xu, Yu)\n",
        "print('coefficient of determination:', r_sq)\n",
        "print('intercept:', model.intercept_)\n",
        "print('slope:', model.coef_)"
      ],
      "metadata": {
        "id": "jR3TGefaMZ3Z"
      },
      "execution_count": null,
      "outputs": []
    },
    {
      "cell_type": "code",
      "source": [
        "y_pred = model.predict(Xu)\n",
        "print('predicted response:', y_pred, sep='\\n')\n",
        "error = Yu - y_pred\n",
        "print(error)\n",
        "pd.DataFrame(error).to_csv('sample.csv')"
      ],
      "metadata": {
        "colab": {
          "base_uri": "https://localhost:8080/"
        },
        "id": "m6Wilj2JPWLJ",
        "outputId": "175fd712-42d2-4aa9-84f0-ccdd9b29987c"
      },
      "execution_count": 115,
      "outputs": [
        {
          "output_type": "stream",
          "name": "stdout",
          "text": [
            "predicted response:\n",
            "[2.17680163 3.92892234 2.73468605 ... 3.10574952 0.10858921 4.2994831 ]\n",
            "[ 3.82319837  1.07107766  1.26531395 ... -0.10574952 -0.10858921\n",
            " -3.2994831 ]\n"
          ]
        }
      ]
    }
  ]
}
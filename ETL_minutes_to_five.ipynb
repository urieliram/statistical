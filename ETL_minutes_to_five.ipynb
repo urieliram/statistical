{
  "nbformat": 4,
  "nbformat_minor": 0,
  "metadata": {
    "colab": {
      "name": "ETL_minutes_to_five.ipynb",
      "provenance": [],
      "authorship_tag": "ABX9TyPITGXekJUF2jQJtBBSCAvE",
      "include_colab_link": true
    },
    "kernelspec": {
      "name": "python3",
      "display_name": "Python 3"
    },
    "language_info": {
      "name": "python"
    }
  },
  "cells": [
    {
      "cell_type": "markdown",
      "metadata": {
        "id": "view-in-github",
        "colab_type": "text"
      },
      "source": [
        "<a href=\"https://colab.research.google.com/github/urieliram/statistical/blob/main/ETL_minutes_to_five.ipynb\" target=\"_parent\"><img src=\"https://colab.research.google.com/assets/colab-badge.svg\" alt=\"Open In Colab\"/></a>"
      ]
    },
    {
      "cell_type": "code",
      "source": [
        "import pandas as pd\n",
        "import numpy as np"
      ],
      "metadata": {
        "id": "DuC_OkW4nm78"
      },
      "execution_count": 2,
      "outputs": []
    },
    {
      "cell_type": "code",
      "source": [
        "#https://drive.google.com/drive/folders/1Gj3XK9kM-lE18uBMe3qrZOGEm8yAI8i9\n",
        "#https://www.codegrepper.com/code-examples/python/how+to+read+csv+file+from+google+drive+on+google+colab+\n",
        "path = 'https://drive.google.com/uc?export=download&id=' \n",
        "URL  = 'https://drive.google.com/file/d/1057_dPk6rIZgXVku8kmZjq3m8WQNkJZb/view?usp=sharing'\n",
        "#Date\tSERIE1\tSERIE2\tSERIE3\tSERIE4\tSERIE5\tSERIE6\tSERIE7\n",
        "\n",
        "df = pd.read_csv(path+URL.split('/')[-2],usecols=[0,1,2,3,4,5,6,7],names=['Date','SERIE1','SERIE2','SERIE3','SERIE4','SERIE5','SERIE6','SERIE7'],\n",
        "                 dtype={'Date':str,'SERIE1':float,'SERIE2':float,'SERIE3':float,'SERIE4':float,'SERIE5':float,'SERIE6':float,'SERIE7':float}) #names=['CLVUNI','TYPE','NODE'], usecols=[1,2,3,4,5,6,]\n",
        "df.dropna(inplace=True)"
      ],
      "metadata": {
        "id": "1e612CLOjx1J"
      },
      "execution_count": 3,
      "outputs": []
    },
    {
      "cell_type": "code",
      "source": [
        "df['Timestamp'] = pd.to_datetime(df['Date'],format= '%d-%m-%Y %H:%M' ) #.dt.date https://pandas.pydata.org/docs/reference/api/pandas.Series.dt.date.html"
      ],
      "metadata": {
        "id": "8Xn_AmM-dL2C"
      },
      "execution_count": 21,
      "outputs": []
    },
    {
      "cell_type": "code",
      "source": [
        "print(df.dtypes)\n",
        "print(df.head)\n",
        "print(df)"
      ],
      "metadata": {
        "id": "SXq8tnUXuyAp"
      },
      "execution_count": null,
      "outputs": []
    },
    {
      "cell_type": "markdown",
      "source": [
        "## Meta-función"
      ],
      "metadata": {
        "id": "Bt2p4gGLcsva"
      }
    },
    {
      "cell_type": "code",
      "source": [
        "def persistent(serie):\n",
        "    return(serie[len(serie)-1])"
      ],
      "metadata": {
        "id": "qy00ObHKgeyC"
      },
      "execution_count": 41,
      "outputs": []
    },
    {
      "cell_type": "code",
      "source": [
        "serie = list(range(100))\n",
        "print(serie)"
      ],
      "metadata": {
        "colab": {
          "base_uri": "https://localhost:8080/"
        },
        "id": "iOJ9pmphcnqV",
        "outputId": "5c3bbb50-2f68-4ac1-a9dc-00c00039d84a"
      },
      "execution_count": 42,
      "outputs": [
        {
          "output_type": "stream",
          "name": "stdout",
          "text": [
            "[0, 1, 2, 3, 4, 5, 6, 7, 8, 9, 10, 11, 12, 13, 14, 15, 16, 17, 18, 19, 20, 21, 22, 23, 24, 25, 26, 27, 28, 29, 30, 31, 32, 33, 34, 35, 36, 37, 38, 39, 40, 41, 42, 43, 44, 45, 46, 47, 48, 49, 50, 51, 52, 53, 54, 55, 56, 57, 58, 59, 60, 61, 62, 63, 64, 65, 66, 67, 68, 69, 70, 71, 72, 73, 74, 75, 76, 77, 78, 79, 80, 81, 82, 83, 84, 85, 86, 87, 88, 89, 90, 91, 92, 93, 94, 95, 96, 97, 98, 99]\n"
          ]
        }
      ]
    },
    {
      "cell_type": "code",
      "source": [
        "to   = 13 ## Inicio de la posición del periodo de entrenamiento\n",
        "tt   = 23 ## Inicio de la posición del pronóstico de prueba\n",
        "tf   = 33 ## Fin de la posición del pronóstico de prueba \n",
        "back = 10 ## Numero de periodos de historia\n",
        "j=0\n",
        "forecast=[]\n",
        "for i in range(tt,tf,1):\n",
        "    print(serie[to+j:tt+j])\n",
        "    forecast.append(persistent(serie[to+j:tt+j]))\n",
        "    j=j+1"
      ],
      "metadata": {
        "colab": {
          "base_uri": "https://localhost:8080/"
        },
        "id": "t8g7sCWvckrw",
        "outputId": "c96c423d-d15d-4f86-8f01-63911bb5fdbc"
      },
      "execution_count": 58,
      "outputs": [
        {
          "output_type": "stream",
          "name": "stdout",
          "text": [
            "[13, 14, 15, 16, 17, 18, 19, 20, 21, 22]\n",
            "[14, 15, 16, 17, 18, 19, 20, 21, 22, 23]\n",
            "[15, 16, 17, 18, 19, 20, 21, 22, 23, 24]\n",
            "[16, 17, 18, 19, 20, 21, 22, 23, 24, 25]\n",
            "[17, 18, 19, 20, 21, 22, 23, 24, 25, 26]\n",
            "[18, 19, 20, 21, 22, 23, 24, 25, 26, 27]\n",
            "[19, 20, 21, 22, 23, 24, 25, 26, 27, 28]\n",
            "[20, 21, 22, 23, 24, 25, 26, 27, 28, 29]\n",
            "[21, 22, 23, 24, 25, 26, 27, 28, 29, 30]\n",
            "[22, 23, 24, 25, 26, 27, 28, 29, 30, 31]\n"
          ]
        }
      ]
    },
    {
      "cell_type": "code",
      "source": [
        "test = serie[tt:tf]\n",
        "print(forecast)\n",
        "print(test)"
      ],
      "metadata": {
        "id": "fZHSFwckkZoJ",
        "outputId": "1004fbba-f638-4bf7-b5f4-89851719db39",
        "colab": {
          "base_uri": "https://localhost:8080/"
        }
      },
      "execution_count": 60,
      "outputs": [
        {
          "output_type": "stream",
          "name": "stdout",
          "text": [
            "[22, 23, 24, 25, 26, 27, 28, 29, 30, 31]\n",
            "[23, 24, 25, 26, 27, 28, 29, 30, 31, 32]\n"
          ]
        }
      ]
    }
  ]
}
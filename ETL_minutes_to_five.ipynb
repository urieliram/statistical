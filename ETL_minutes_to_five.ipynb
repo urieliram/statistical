{
  "nbformat": 4,
  "nbformat_minor": 0,
  "metadata": {
    "colab": {
      "name": "ETL_minutes_to_five.ipynb",
      "provenance": [],
      "authorship_tag": "ABX9TyPNzh/lImzrbt8iD9QZPx64",
      "include_colab_link": true
    },
    "kernelspec": {
      "name": "python3",
      "display_name": "Python 3"
    },
    "language_info": {
      "name": "python"
    }
  },
  "cells": [
    {
      "cell_type": "markdown",
      "metadata": {
        "id": "view-in-github",
        "colab_type": "text"
      },
      "source": [
        "<a href=\"https://colab.research.google.com/github/urieliram/statistical/blob/main/ETL_minutes_to_five.ipynb\" target=\"_parent\"><img src=\"https://colab.research.google.com/assets/colab-badge.svg\" alt=\"Open In Colab\"/></a>"
      ]
    },
    {
      "cell_type": "code",
      "source": [
        "import pandas as pd\n",
        "import numpy as np\n",
        "import statsmodels.tools.eval_measures as bias\n",
        "from   sklearn.metrics import mean_absolute_error,mean_squared_error,mean_absolute_percentage_error"
      ],
      "metadata": {
        "id": "DuC_OkW4nm78"
      },
      "execution_count": 105,
      "outputs": []
    },
    {
      "cell_type": "code",
      "source": [
        "#https://drive.google.com/drive/folders/1Gj3XK9kM-lE18uBMe3qrZOGEm8yAI8i9\n",
        "#https://www.codegrepper.com/code-examples/python/how+to+read+csv+file+from+google+drive+on+google+colab+\n",
        "path = 'https://drive.google.com/uc?export=download&id=' \n",
        "URL  = 'https://drive.google.com/file/d/1057_dPk6rIZgXVku8kmZjq3m8WQNkJZb/view?usp=sharing'\n",
        "#Date\tSERIE1\tSERIE2\tSERIE3\tSERIE4\tSERIE5\tSERIE6\tSERIE7\n",
        "\n",
        "df = pd.read_csv(path+URL.split('/')[-2],usecols=[0,1,2,3,4,5,6,7],names=['Date','SERIE1','SERIE2','SERIE3','SERIE4','SERIE5','SERIE6','SERIE7'],\n",
        "                 dtype={'Date':str,'SERIE1':float,'SERIE2':float,'SERIE3':float,'SERIE4':float,'SERIE5':float,'SERIE6':float,'SERIE7':float}) #names=['CLVUNI','TYPE','NODE'], usecols=[1,2,3,4,5,6,]\n",
        "df.dropna(inplace=True)"
      ],
      "metadata": {
        "id": "1e612CLOjx1J"
      },
      "execution_count": 69,
      "outputs": []
    },
    {
      "cell_type": "code",
      "source": [
        "df['Timestamp'] = pd.to_datetime(df['Date'],format= '%d-%m-%Y %H:%M' ) #.dt.date https://pandas.pydata.org/docs/reference/api/pandas.Series.dt.date.html"
      ],
      "metadata": {
        "id": "8Xn_AmM-dL2C"
      },
      "execution_count": 106,
      "outputs": []
    },
    {
      "cell_type": "code",
      "source": [
        "print(df.dtypes)\n",
        "print(df.head)\n",
        "print(df)"
      ],
      "metadata": {
        "id": "SXq8tnUXuyAp"
      },
      "execution_count": null,
      "outputs": []
    },
    {
      "cell_type": "code",
      "source": [
        "#df2=sample.resample('60Min', how=conversion, base=30)\n",
        "#df.resample('5T').sum() # https://dataindependent.com/pandas/pandas-resample-pd-df-resample/"
      ],
      "metadata": {
        "id": "OGs5KlnZrPg-"
      },
      "execution_count": 72,
      "outputs": []
    },
    {
      "cell_type": "markdown",
      "source": [
        "## Meta-función básica de un periodo"
      ],
      "metadata": {
        "id": "Bt2p4gGLcsva"
      }
    },
    {
      "cell_type": "code",
      "source": [
        "def persistent(serie):\n",
        "    return(serie[len(serie)-1])"
      ],
      "metadata": {
        "id": "qy00ObHKgeyC"
      },
      "execution_count": 108,
      "outputs": []
    },
    {
      "cell_type": "code",
      "source": [
        "serie = list(range(100))\n",
        "\n",
        "serie=df.SERIE1.tolist()\n",
        "#print(serie)"
      ],
      "metadata": {
        "id": "iOJ9pmphcnqV"
      },
      "execution_count": 109,
      "outputs": []
    },
    {
      "cell_type": "code",
      "source": [
        "to   = 230 ## Inicio de la posición del periodo de entrenamiento\n",
        "tt   = 2300 ## Inicio de la posición del pronóstico de prueba\n",
        "tf   = 3300 ## Fin de la posición del pronóstico de prueba \n",
        "j=0\n",
        "forecast=[]\n",
        "for i in range(tt,tf,1):\n",
        "    print(serie[to+j-1:tt+j])\n",
        "    forecast.append(persistent(serie[to+j:tt+j]))\n",
        "    j=j+1"
      ],
      "metadata": {
        "id": "t8g7sCWvckrw"
      },
      "execution_count": null,
      "outputs": []
    },
    {
      "cell_type": "code",
      "source": [
        "test = serie[tt:tf]\n",
        "print(forecast)\n",
        "print(test)"
      ],
      "metadata": {
        "id": "fZHSFwckkZoJ"
      },
      "execution_count": null,
      "outputs": []
    },
    {
      "cell_type": "code",
      "source": [
        "mae_p  = mean_absolute_error(test,forecast)\n",
        "mape_p = mean_absolute_percentage_error(test,forecast)\n",
        "biasb   = bias.bias(test,forecast)"
      ],
      "metadata": {
        "id": "TPZT-ey8tSY0"
      },
      "execution_count": 112,
      "outputs": []
    },
    {
      "cell_type": "code",
      "source": [
        "print('mae_p=',mae_p,'mape_p=',mape_p,'bias=',biasb)"
      ],
      "metadata": {
        "colab": {
          "base_uri": "https://localhost:8080/"
        },
        "id": "VPeaz2w2tvof",
        "outputId": "cfb0502d-019a-4f39-83c3-4f6a53c39235"
      },
      "execution_count": 113,
      "outputs": [
        {
          "output_type": "stream",
          "name": "stdout",
          "text": [
            "mae_p= 14.941254868 mape_p= 0.002788202054370281 bias= -0.83451123\n"
          ]
        }
      ]
    }
  ]
}
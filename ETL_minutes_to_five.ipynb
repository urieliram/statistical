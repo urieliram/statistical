{
  "nbformat": 4,
  "nbformat_minor": 0,
  "metadata": {
    "colab": {
      "name": "ETL_minutes_to_five.ipynb",
      "provenance": [],
      "authorship_tag": "ABX9TyNu9v184tHSLx5vocnnYVIG",
      "include_colab_link": true
    },
    "kernelspec": {
      "name": "python3",
      "display_name": "Python 3"
    },
    "language_info": {
      "name": "python"
    }
  },
  "cells": [
    {
      "cell_type": "markdown",
      "metadata": {
        "id": "view-in-github",
        "colab_type": "text"
      },
      "source": [
        "<a href=\"https://colab.research.google.com/github/urieliram/statistical/blob/main/ETL_minutes_to_five.ipynb\" target=\"_parent\"><img src=\"https://colab.research.google.com/assets/colab-badge.svg\" alt=\"Open In Colab\"/></a>"
      ]
    },
    {
      "cell_type": "code",
      "source": [
        "import pandas as pd\n",
        "import numpy as np\n",
        "from sklearn.metrics import mean_absolute_error,mean_squared_error,mean_absolute_percentage_error"
      ],
      "metadata": {
        "id": "DuC_OkW4nm78"
      },
      "execution_count": 68,
      "outputs": []
    },
    {
      "cell_type": "code",
      "source": [
        "#https://drive.google.com/drive/folders/1Gj3XK9kM-lE18uBMe3qrZOGEm8yAI8i9\n",
        "#https://www.codegrepper.com/code-examples/python/how+to+read+csv+file+from+google+drive+on+google+colab+\n",
        "path = 'https://drive.google.com/uc?export=download&id=' \n",
        "URL  = 'https://drive.google.com/file/d/1057_dPk6rIZgXVku8kmZjq3m8WQNkJZb/view?usp=sharing'\n",
        "#Date\tSERIE1\tSERIE2\tSERIE3\tSERIE4\tSERIE5\tSERIE6\tSERIE7\n",
        "\n",
        "df = pd.read_csv(path+URL.split('/')[-2],usecols=[0,1,2,3,4,5,6,7],names=['Date','SERIE1','SERIE2','SERIE3','SERIE4','SERIE5','SERIE6','SERIE7'],\n",
        "                 dtype={'Date':str,'SERIE1':float,'SERIE2':float,'SERIE3':float,'SERIE4':float,'SERIE5':float,'SERIE6':float,'SERIE7':float}) #names=['CLVUNI','TYPE','NODE'], usecols=[1,2,3,4,5,6,]\n",
        "df.dropna(inplace=True)"
      ],
      "metadata": {
        "id": "1e612CLOjx1J"
      },
      "execution_count": 69,
      "outputs": []
    },
    {
      "cell_type": "code",
      "source": [
        "df['Timestamp'] = pd.to_datetime(df['Date'],format= '%d-%m-%Y %H:%M' ) #.dt.date https://pandas.pydata.org/docs/reference/api/pandas.Series.dt.date.html"
      ],
      "metadata": {
        "id": "8Xn_AmM-dL2C"
      },
      "execution_count": 70,
      "outputs": []
    },
    {
      "cell_type": "code",
      "source": [
        "print(df.dtypes)\n",
        "print(df.head)\n",
        "print(df)"
      ],
      "metadata": {
        "colab": {
          "base_uri": "https://localhost:8080/"
        },
        "id": "SXq8tnUXuyAp",
        "outputId": "168d94fb-59ed-46c5-e395-23a2cf6bb97a"
      },
      "execution_count": 71,
      "outputs": [
        {
          "output_type": "stream",
          "name": "stdout",
          "text": [
            "Date                 object\n",
            "SERIE1              float64\n",
            "SERIE2              float64\n",
            "SERIE3              float64\n",
            "SERIE4              float64\n",
            "SERIE5              float64\n",
            "SERIE6              float64\n",
            "SERIE7              float64\n",
            "Timestamp    datetime64[ns]\n",
            "dtype: object\n",
            "<bound method NDFrame.head of                      Date       SERIE1       SERIE2       SERIE3       SERIE4  \\\n",
            "0        01-01-2010 00:00  5558.661133  4369.373047  4943.601074  1357.897827   \n",
            "1        01-01-2010 00:01  5552.933105  4359.655762  4932.601563  1358.277100   \n",
            "2        01-01-2010 00:02  5546.214355  4352.123047  4922.840332  1357.305786   \n",
            "3        01-01-2010 00:03  5543.996582  4349.669922  4920.733887  1353.400879   \n",
            "4        01-01-2010 00:04  5537.350586  4335.470703  4919.804688  1352.663696   \n",
            "...                   ...          ...          ...          ...          ...   \n",
            "1003188  28-11-2011 15:48  6880.122559  4286.315918  7158.373047  1822.334351   \n",
            "1003189  28-11-2011 15:49  6876.536133  4254.998535  7204.719238  1825.447510   \n",
            "1003190  28-11-2011 15:50  6892.931641  4241.349609  7184.632324  1824.813354   \n",
            "1003191  28-11-2011 15:51  6866.380859  4296.240723  7208.329590  1825.072144   \n",
            "1003192  28-11-2011 15:52  6903.977051  4272.279297  7179.304199  1827.664063   \n",
            "\n",
            "              SERIE5       SERIE6      SERIE7           Timestamp  \n",
            "0        1700.190308  3399.208496  923.603027 2010-01-01 00:00:00  \n",
            "1        1697.078613  3395.637207  922.437500 2010-01-01 00:01:00  \n",
            "2        1693.631470  3393.930664  921.617676 2010-01-01 00:02:00  \n",
            "3        1698.514771  3397.180176  919.187134 2010-01-01 00:03:00  \n",
            "4        1698.589966  3398.146973  918.067688 2010-01-01 00:04:00  \n",
            "...              ...          ...         ...                 ...  \n",
            "1003188  2312.779297  5218.218750  956.627991 2011-11-28 15:48:00  \n",
            "1003189  2301.016846  5191.893555  950.841797 2011-11-28 15:49:00  \n",
            "1003190  2315.475342  5195.858398  956.338318 2011-11-28 15:50:00  \n",
            "1003191  2303.414551  5217.104980  954.511169 2011-11-28 15:51:00  \n",
            "1003192  2303.130371  5238.315918  954.823120 2011-11-28 15:52:00  \n",
            "\n",
            "[1001753 rows x 9 columns]>\n",
            "                     Date       SERIE1       SERIE2       SERIE3       SERIE4  \\\n",
            "0        01-01-2010 00:00  5558.661133  4369.373047  4943.601074  1357.897827   \n",
            "1        01-01-2010 00:01  5552.933105  4359.655762  4932.601563  1358.277100   \n",
            "2        01-01-2010 00:02  5546.214355  4352.123047  4922.840332  1357.305786   \n",
            "3        01-01-2010 00:03  5543.996582  4349.669922  4920.733887  1353.400879   \n",
            "4        01-01-2010 00:04  5537.350586  4335.470703  4919.804688  1352.663696   \n",
            "...                   ...          ...          ...          ...          ...   \n",
            "1003188  28-11-2011 15:48  6880.122559  4286.315918  7158.373047  1822.334351   \n",
            "1003189  28-11-2011 15:49  6876.536133  4254.998535  7204.719238  1825.447510   \n",
            "1003190  28-11-2011 15:50  6892.931641  4241.349609  7184.632324  1824.813354   \n",
            "1003191  28-11-2011 15:51  6866.380859  4296.240723  7208.329590  1825.072144   \n",
            "1003192  28-11-2011 15:52  6903.977051  4272.279297  7179.304199  1827.664063   \n",
            "\n",
            "              SERIE5       SERIE6      SERIE7           Timestamp  \n",
            "0        1700.190308  3399.208496  923.603027 2010-01-01 00:00:00  \n",
            "1        1697.078613  3395.637207  922.437500 2010-01-01 00:01:00  \n",
            "2        1693.631470  3393.930664  921.617676 2010-01-01 00:02:00  \n",
            "3        1698.514771  3397.180176  919.187134 2010-01-01 00:03:00  \n",
            "4        1698.589966  3398.146973  918.067688 2010-01-01 00:04:00  \n",
            "...              ...          ...         ...                 ...  \n",
            "1003188  2312.779297  5218.218750  956.627991 2011-11-28 15:48:00  \n",
            "1003189  2301.016846  5191.893555  950.841797 2011-11-28 15:49:00  \n",
            "1003190  2315.475342  5195.858398  956.338318 2011-11-28 15:50:00  \n",
            "1003191  2303.414551  5217.104980  954.511169 2011-11-28 15:51:00  \n",
            "1003192  2303.130371  5238.315918  954.823120 2011-11-28 15:52:00  \n",
            "\n",
            "[1001753 rows x 9 columns]\n"
          ]
        }
      ]
    },
    {
      "cell_type": "code",
      "source": [
        "#df2=sample.resample('60Min', how=conversion, base=30)\n",
        "#df.resample('5T').sum() # https://dataindependent.com/pandas/pandas-resample-pd-df-resample/"
      ],
      "metadata": {
        "id": "OGs5KlnZrPg-"
      },
      "execution_count": 72,
      "outputs": []
    },
    {
      "cell_type": "markdown",
      "source": [
        "## Meta-función"
      ],
      "metadata": {
        "id": "Bt2p4gGLcsva"
      }
    },
    {
      "cell_type": "code",
      "source": [
        "def persistent(serie):\n",
        "    return(serie[len(serie)-1])"
      ],
      "metadata": {
        "id": "qy00ObHKgeyC"
      },
      "execution_count": 73,
      "outputs": []
    },
    {
      "cell_type": "code",
      "source": [
        "serie = list(range(100))\n",
        "print(serie)"
      ],
      "metadata": {
        "colab": {
          "base_uri": "https://localhost:8080/"
        },
        "id": "iOJ9pmphcnqV",
        "outputId": "cd67a735-1984-4cdc-e2c9-e0f4ee355df5"
      },
      "execution_count": 74,
      "outputs": [
        {
          "output_type": "stream",
          "name": "stdout",
          "text": [
            "[0, 1, 2, 3, 4, 5, 6, 7, 8, 9, 10, 11, 12, 13, 14, 15, 16, 17, 18, 19, 20, 21, 22, 23, 24, 25, 26, 27, 28, 29, 30, 31, 32, 33, 34, 35, 36, 37, 38, 39, 40, 41, 42, 43, 44, 45, 46, 47, 48, 49, 50, 51, 52, 53, 54, 55, 56, 57, 58, 59, 60, 61, 62, 63, 64, 65, 66, 67, 68, 69, 70, 71, 72, 73, 74, 75, 76, 77, 78, 79, 80, 81, 82, 83, 84, 85, 86, 87, 88, 89, 90, 91, 92, 93, 94, 95, 96, 97, 98, 99]\n"
          ]
        }
      ]
    },
    {
      "cell_type": "code",
      "source": [
        "to   = 13 ## Inicio de la posición del periodo de entrenamiento\n",
        "tt   = 23 ## Inicio de la posición del pronóstico de prueba\n",
        "tf   = 33 ## Fin de la posición del pronóstico de prueba \n",
        "back = 10 ## Numero de periodos de historia\n",
        "j=0\n",
        "forecast=[]\n",
        "for i in range(tt,tf,1):\n",
        "    print(serie[to+j-1:tt+j])\n",
        "    forecast.append(persistent(serie[to+j:tt+j]))\n",
        "    j=j+1"
      ],
      "metadata": {
        "colab": {
          "base_uri": "https://localhost:8080/"
        },
        "id": "t8g7sCWvckrw",
        "outputId": "03e966d3-c81f-49b9-e7c8-170834459f8b"
      },
      "execution_count": 75,
      "outputs": [
        {
          "output_type": "stream",
          "name": "stdout",
          "text": [
            "[12, 13, 14, 15, 16, 17, 18, 19, 20, 21, 22]\n",
            "[13, 14, 15, 16, 17, 18, 19, 20, 21, 22, 23]\n",
            "[14, 15, 16, 17, 18, 19, 20, 21, 22, 23, 24]\n",
            "[15, 16, 17, 18, 19, 20, 21, 22, 23, 24, 25]\n",
            "[16, 17, 18, 19, 20, 21, 22, 23, 24, 25, 26]\n",
            "[17, 18, 19, 20, 21, 22, 23, 24, 25, 26, 27]\n",
            "[18, 19, 20, 21, 22, 23, 24, 25, 26, 27, 28]\n",
            "[19, 20, 21, 22, 23, 24, 25, 26, 27, 28, 29]\n",
            "[20, 21, 22, 23, 24, 25, 26, 27, 28, 29, 30]\n",
            "[21, 22, 23, 24, 25, 26, 27, 28, 29, 30, 31]\n"
          ]
        }
      ]
    },
    {
      "cell_type": "code",
      "source": [
        "test = serie[tt:tf]\n",
        "print(forecast)\n",
        "print(test)"
      ],
      "metadata": {
        "colab": {
          "base_uri": "https://localhost:8080/"
        },
        "id": "fZHSFwckkZoJ",
        "outputId": "3c263398-5bcc-45e0-cc6a-9e121cbb58f4"
      },
      "execution_count": 76,
      "outputs": [
        {
          "output_type": "stream",
          "name": "stdout",
          "text": [
            "[22, 23, 24, 25, 26, 27, 28, 29, 30, 31]\n",
            "[23, 24, 25, 26, 27, 28, 29, 30, 31, 32]\n"
          ]
        }
      ]
    },
    {
      "cell_type": "code",
      "source": [
        "mae_p = mean_absolute_error(test,forecast)\n",
        "mape_p = mean_absolute_percentage_error(test,forecast) "
      ],
      "metadata": {
        "id": "TPZT-ey8tSY0"
      },
      "execution_count": 78,
      "outputs": []
    },
    {
      "cell_type": "code",
      "source": [
        "mae_p\n",
        "mape_p"
      ],
      "metadata": {
        "id": "VPeaz2w2tvof",
        "outputId": "08496769-b152-436d-d4d7-aa85e8f7d800",
        "colab": {
          "base_uri": "https://localhost:8080/"
        }
      },
      "execution_count": 80,
      "outputs": [
        {
          "output_type": "execute_result",
          "data": {
            "text/plain": [
              "0.036768194521924515"
            ]
          },
          "metadata": {},
          "execution_count": 80
        }
      ]
    }
  ]
}
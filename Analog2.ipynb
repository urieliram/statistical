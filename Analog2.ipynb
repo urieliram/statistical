{
  "nbformat": 4,
  "nbformat_minor": 0,
  "metadata": {
    "colab": {
      "name": "Analog.ipynb",
      "provenance": [],
      "include_colab_link": true
    },
    "kernelspec": {
      "name": "python3",
      "display_name": "Python 3"
    },
    "language_info": {
      "name": "python"
    }
  },
  "cells": [
    {
      "cell_type": "markdown",
      "metadata": {
        "id": "view-in-github",
        "colab_type": "text"
      },
      "source": [
        "<a href=\"https://colab.research.google.com/github/urieliram/statistical/blob/main/Analog2.ipynb\" target=\"_parent\"><img src=\"https://colab.research.google.com/assets/colab-badge.svg\" alt=\"Open In Colab\"/></a>"
      ]
    },
    {
      "cell_type": "code",
      "execution_count": 46,
      "metadata": {
        "id": "JboE4Y4YndQq",
        "colab": {
          "base_uri": "https://localhost:8080/"
        },
        "outputId": "9fd3584b-0ccc-4c4f-fdfc-fc18ec984776"
      },
      "outputs": [
        {
          "output_type": "stream",
          "name": "stdout",
          "text": [
            "Looking in indexes: https://pypi.org/simple, https://us-python.pkg.dev/colab-wheels/public/simple/\n",
            "Requirement already satisfied: dtw-python in /usr/local/lib/python3.7/dist-packages (1.1.12)\n",
            "Requirement already satisfied: scipy>=1.1 in /usr/local/lib/python3.7/dist-packages (from dtw-python) (1.4.1)\n",
            "Requirement already satisfied: numpy>=1.19 in /usr/local/lib/python3.7/dist-packages (from dtw-python) (1.21.6)\n"
          ]
        }
      ],
      "source": [
        "pip install dtw-python"
      ]
    },
    {
      "cell_type": "code",
      "source": [
        "pip install dtreeviz"
      ],
      "metadata": {
        "id": "BNS7utNCMGwZ",
        "colab": {
          "base_uri": "https://localhost:8080/"
        },
        "outputId": "06952208-7efa-4c74-b8aa-1eff15abebb2"
      },
      "execution_count": 47,
      "outputs": [
        {
          "output_type": "stream",
          "name": "stdout",
          "text": [
            "Looking in indexes: https://pypi.org/simple, https://us-python.pkg.dev/colab-wheels/public/simple/\n",
            "Requirement already satisfied: dtreeviz in /usr/local/lib/python3.7/dist-packages (1.3.6)\n",
            "Requirement already satisfied: scikit-learn in /usr/local/lib/python3.7/dist-packages (from dtreeviz) (1.0.2)\n",
            "Requirement already satisfied: matplotlib in /usr/local/lib/python3.7/dist-packages (from dtreeviz) (3.2.2)\n",
            "Requirement already satisfied: numpy in /usr/local/lib/python3.7/dist-packages (from dtreeviz) (1.21.6)\n",
            "Requirement already satisfied: graphviz>=0.9 in /usr/local/lib/python3.7/dist-packages (from dtreeviz) (0.10.1)\n",
            "Requirement already satisfied: pandas in /usr/local/lib/python3.7/dist-packages (from dtreeviz) (1.3.5)\n",
            "Requirement already satisfied: pytest in /usr/local/lib/python3.7/dist-packages (from dtreeviz) (3.6.4)\n",
            "Requirement already satisfied: colour in /usr/local/lib/python3.7/dist-packages (from dtreeviz) (0.1.5)\n",
            "Requirement already satisfied: kiwisolver>=1.0.1 in /usr/local/lib/python3.7/dist-packages (from matplotlib->dtreeviz) (1.4.2)\n",
            "Requirement already satisfied: cycler>=0.10 in /usr/local/lib/python3.7/dist-packages (from matplotlib->dtreeviz) (0.11.0)\n",
            "Requirement already satisfied: pyparsing!=2.0.4,!=2.1.2,!=2.1.6,>=2.0.1 in /usr/local/lib/python3.7/dist-packages (from matplotlib->dtreeviz) (3.0.9)\n",
            "Requirement already satisfied: python-dateutil>=2.1 in /usr/local/lib/python3.7/dist-packages (from matplotlib->dtreeviz) (2.8.2)\n",
            "Requirement already satisfied: typing-extensions in /usr/local/lib/python3.7/dist-packages (from kiwisolver>=1.0.1->matplotlib->dtreeviz) (4.2.0)\n",
            "Requirement already satisfied: six>=1.5 in /usr/local/lib/python3.7/dist-packages (from python-dateutil>=2.1->matplotlib->dtreeviz) (1.15.0)\n",
            "Requirement already satisfied: pytz>=2017.3 in /usr/local/lib/python3.7/dist-packages (from pandas->dtreeviz) (2022.1)\n",
            "Requirement already satisfied: attrs>=17.4.0 in /usr/local/lib/python3.7/dist-packages (from pytest->dtreeviz) (21.4.0)\n",
            "Requirement already satisfied: atomicwrites>=1.0 in /usr/local/lib/python3.7/dist-packages (from pytest->dtreeviz) (1.4.0)\n",
            "Requirement already satisfied: py>=1.5.0 in /usr/local/lib/python3.7/dist-packages (from pytest->dtreeviz) (1.11.0)\n",
            "Requirement already satisfied: pluggy<0.8,>=0.5 in /usr/local/lib/python3.7/dist-packages (from pytest->dtreeviz) (0.7.1)\n",
            "Requirement already satisfied: more-itertools>=4.0.0 in /usr/local/lib/python3.7/dist-packages (from pytest->dtreeviz) (8.13.0)\n",
            "Requirement already satisfied: setuptools in /usr/local/lib/python3.7/dist-packages (from pytest->dtreeviz) (57.4.0)\n",
            "Requirement already satisfied: joblib>=0.11 in /usr/local/lib/python3.7/dist-packages (from scikit-learn->dtreeviz) (1.1.0)\n",
            "Requirement already satisfied: threadpoolctl>=2.0.0 in /usr/local/lib/python3.7/dist-packages (from scikit-learn->dtreeviz) (3.1.0)\n",
            "Requirement already satisfied: scipy>=1.1.0 in /usr/local/lib/python3.7/dist-packages (from scikit-learn->dtreeviz) (1.4.1)\n"
          ]
        }
      ]
    },
    {
      "cell_type": "code",
      "source": [
        "pip install statsmodels==0.13.1"
      ],
      "metadata": {
        "colab": {
          "base_uri": "https://localhost:8080/"
        },
        "id": "PxgSsq_A0f4b",
        "outputId": "a1b2ca3b-e71b-4f0f-8346-a1b508eb54c4"
      },
      "execution_count": 48,
      "outputs": [
        {
          "output_type": "stream",
          "name": "stdout",
          "text": [
            "Looking in indexes: https://pypi.org/simple, https://us-python.pkg.dev/colab-wheels/public/simple/\n",
            "Requirement already satisfied: statsmodels==0.13.1 in /usr/local/lib/python3.7/dist-packages (0.13.1)\n",
            "Requirement already satisfied: scipy>=1.3 in /usr/local/lib/python3.7/dist-packages (from statsmodels==0.13.1) (1.4.1)\n",
            "Requirement already satisfied: patsy>=0.5.2 in /usr/local/lib/python3.7/dist-packages (from statsmodels==0.13.1) (0.5.2)\n",
            "Requirement already satisfied: numpy>=1.17 in /usr/local/lib/python3.7/dist-packages (from statsmodels==0.13.1) (1.21.6)\n",
            "Requirement already satisfied: pandas>=0.25 in /usr/local/lib/python3.7/dist-packages (from statsmodels==0.13.1) (1.3.5)\n",
            "Requirement already satisfied: pytz>=2017.3 in /usr/local/lib/python3.7/dist-packages (from pandas>=0.25->statsmodels==0.13.1) (2022.1)\n",
            "Requirement already satisfied: python-dateutil>=2.7.3 in /usr/local/lib/python3.7/dist-packages (from pandas>=0.25->statsmodels==0.13.1) (2.8.2)\n",
            "Requirement already satisfied: six in /usr/local/lib/python3.7/dist-packages (from patsy>=0.5.2->statsmodels==0.13.1) (1.15.0)\n"
          ]
        }
      ]
    },
    {
      "cell_type": "code",
      "source": [
        "import time\n",
        "import timeit\n",
        "import pandas as pd\n",
        "import numpy as np\n",
        "import matplotlib.pyplot as plt\n",
        "import seaborn as sns\n",
        "import math\n",
        "import statsmodels.api as sm\n",
        "from statsmodels.graphics.tsaplots import plot_acf,plot_pacf\n",
        "from statsmodels.tsa.arima_model import ARIMA\n",
        "from sklearn.preprocessing import StandardScaler\n",
        "from sklearn.model_selection import train_test_split, GridSearchCV\n",
        "from sklearn.cluster import MiniBatchKMeans, KMeans\n",
        "from sklearn.neighbors import NearestNeighbors, KNeighborsClassifier\n",
        "from sklearn.linear_model import LinearRegression, RidgeCV, LassoCV, ElasticNetCV, LarsCV, Lasso, Ridge, BayesianRidge, LinearRegression\n",
        "from sklearn.metrics import mean_absolute_error,mean_squared_error,mean_absolute_percentage_error\n",
        "from sklearn.metrics.pairwise import pairwise_distances_argmin\n",
        "from sklearn.ensemble import RandomForestRegressor, GradientBoostingRegressor, VotingRegressor, AdaBoostRegressor, BaggingRegressor\n",
        "from sklearn.cross_decomposition import PLSRegression\n",
        "from sklearn.decomposition import PCA\n",
        "from sklearn.pipeline import make_pipeline\n",
        "from math import sqrt\n",
        "from dtw import *\n",
        "from scipy import stats\n",
        "import statsmodels.tools.eval_measures as bias\n",
        "from statsmodels.tsa.ar_model import AutoReg\n",
        "%matplotlib inline\n",
        "\n",
        "sns.set_theme(style=\"white\")"
      ],
      "metadata": {
        "id": "DuC_OkW4nm78"
      },
      "execution_count": 49,
      "outputs": []
    },
    {
      "cell_type": "code",
      "source": [
        "#https://drive.google.com/drive/folders/1Gj3XK9kM-lE18uBMe3qrZOGEm8yAI8i9\n",
        "#https://www.codegrepper.com/code-examples/python/how+to+read+csv+file+from+google+drive+on+google+colab+\n",
        "path        = 'https://drive.google.com/uc?export=download&id=' \n",
        "URL_Demanda = 'https://drive.google.com/file/d/1xcpXDTE7H6EBMLOkic5lq-lzSwiLG2ZS/view?usp=sharing'\n",
        "\n",
        "df_Demanda  = pd.read_csv(path + URL_Demanda .split('/')[-2], usecols=[0] ) #names=['CLVUNI','TYPE','NODE'], usecols=[1,2,3,4,5,6,], 1,2,3,4,5,6,7,8,9,10,11,12,13,15,\n",
        "df_Demanda.dropna(inplace=True)\n",
        "serie = df_Demanda.to_numpy()\n",
        "serie = StandardScaler().fit_transform(serie)\n",
        "serie = serie.ravel()  ## Con esto quitamos el bracket o corchete en cada uno de los elementos del arreglo"
      ],
      "metadata": {
        "id": "7RW90yl-nu87"
      },
      "execution_count": 50,
      "outputs": []
    },
    {
      "cell_type": "code",
      "source": [
        "def trunc(values, decs=0):\n",
        "    return np.trunc(values*10**decs)/(10**decs)"
      ],
      "metadata": {
        "id": "EcNqmPCJP_yS"
      },
      "execution_count": 51,
      "outputs": []
    },
    {
      "cell_type": "code",
      "source": [
        "CYAN = '#76ced6' ; LILA = '#777bd4'; VERDE='#17cb49'; NARA='#ff8000'; AZUL='#168fff'; OTROAZUL = \"b-\"; ROJO= \"r-\"; MAGE=\"FF00FF\";\n",
        "def print_serie2(serie_,prototipo_,title_,ytitle_,xtitle_,sizex_=8,sizey_=5,namefile_='fig_t16_serie.png'):\n",
        "    fig, ax1 = plt.subplots(figsize=(sizex_,sizey_))\n",
        "    plt.title(title_,fontsize='x-large',color=NARA)\n",
        "    ax1.set_xlabel(xtitle_, color=NARA, fontsize='large')\n",
        "    ax1.set_ylabel(ytitle_, color=NARA, fontsize='large')\n",
        "    plt.tick_params(colors = NARA, which='both')\n",
        "    ax1.spines['bottom'].set_color(NARA)\n",
        "    ax1.spines['top'   ].set_color(NARA) \n",
        "    ax1.spines['right' ].set_color(NARA)\n",
        "    ax1.spines['left'  ].set_color(NARA)\n",
        "    if len(prototipo_) != 0: \n",
        "        plt.plot(prototipo_,alpha=0.6, linestyle='dashed', color='red', linewidth=3)\n",
        "    for p in serie_:\n",
        "        plt.plot(p,alpha=0.3, linewidth=2)    \n",
        "    plt.savefig(namefile_, transparent=True)         \n",
        "    plt.show()"
      ],
      "metadata": {
        "id": "9cnF4RJ6no8V"
      },
      "execution_count": 52,
      "outputs": []
    },
    {
      "cell_type": "code",
      "source": [
        "## Preparamos la información para graficar la importancia y las posiciones en Random Forest Regressor\n",
        "def print_importances(model_,labels_,namefile_):\n",
        "    i=0\n",
        "    labels = [str(x) for x in labels_]\n",
        "    labels_importances = []\n",
        "    for feature in model_.feature_importances_:\n",
        "        labels_importances.append((feature,labels[i]))\n",
        "        i=i+1   \n",
        "    labels_importances.sort(key=lambda tup: tup[0], reverse=False)\n",
        "    importances = []\n",
        "    labels      = []\n",
        "    for tup in labels_importances:\n",
        "        importances.append(tup[0])\n",
        "        labels.append(tup[1])\n",
        "    fig, ax = plt.subplots()\n",
        "    y_pos = np.arange(len(importances))\n",
        "    ax.set_yticks(ticks=y_pos)\n",
        "    ax.barh(labels, importances, align='center',color=CYAN)\n",
        "    ax.invert_yaxis()\n",
        "    ax.set_xlabel('Importancia', color=NARA, fontsize='large')\n",
        "    ax.set_ylabel('Variable', color=NARA, fontsize='large')\n",
        "    ax.set_title( 'Importancia de las variables del bosque aleatorio', color=NARA, fontsize='large')    \n",
        "    plt.tick_params(colors = NARA, which='both')\n",
        "    ax.spines['bottom'].set_color(NARA)\n",
        "    ax.spines['top'   ].set_color(NARA) \n",
        "    ax.spines['right' ].set_color(NARA)\n",
        "    ax.spines['left'  ].set_color(NARA)\n",
        "    plt.savefig(namefile_, transparent=True)   \n",
        "    plt.show()"
      ],
      "metadata": {
        "id": "Ofhg0JCdoR-v"
      },
      "execution_count": 53,
      "outputs": []
    },
    {
      "cell_type": "code",
      "source": [
        "def OLSstep(X, Y, X_2, pi_step_=0.001,verbose_=False):\n",
        "    model   = sm.OLS(Y, X)\n",
        "    results = model.fit()\n",
        "    prediction_Y2 = results.predict(X_2)\n",
        "\n",
        "    ## Ordenamos los valores 'pi' y se selecciona el más grande.\n",
        "    i = 0\n",
        "    pvalues = []\n",
        "    for pi in results.pvalues:\n",
        "        pvalues.append((i,pi))\n",
        "        i = i + 1\n",
        "    pvalues.sort(key=lambda tup: tup[1], reverse=True) ## Ordenamos por 'pi'\n",
        "    (i, pi) = pvalues[0]  \n",
        "\n",
        "    while pi > pi:\n",
        "        X   = sm.add_constant(X)\n",
        "        X_2 = sm.add_constant(X_2)   \n",
        "        if verbose_==True:\n",
        "            print('Retiramos regresor ---> X' + str(i))\n",
        "        X   = np.delete(arr=X,   obj=i+0, axis=1)\n",
        "        X_2 = np.delete(arr=X_2, obj=i+0, axis=1)   \n",
        "        model   = sm.OLS(Y, X)\n",
        "        results = model.fit()\n",
        "\n",
        "        ## Ordenamos los valores 'pi' y se selecciona el más grande\n",
        "        i = 0\n",
        "        pvalues = []\n",
        "        for pi in results.pvalues:\n",
        "            pvalues.append((i,pi))\n",
        "            i = i + 1\n",
        "        pvalues.sort(key=lambda tup: tup[1], reverse=True) ## Ordenamos por 'pi'\n",
        "        (i, pi) = pvalues[0]\n",
        "        #prediction   = results.predict(X)   ## Ajuste\n",
        "        prediction_Y2 = results.predict(X_2) ## Pronóstico\n",
        "    if len(prediction_Y2) == 0:      \n",
        "        if verbose_==True:\n",
        "            print('>>> Warning, no variable was significant in the regression.')\n",
        "        model   = sm.OLS(Y, X)\n",
        "        results = model.fit()\n",
        "        prediction_Y2 = results.predict(X_2)\n",
        "        \n",
        "    if verbose_==True:\n",
        "        print(results.summary())\n",
        "    return prediction_Y2   "
      ],
      "metadata": {
        "id": "Ls5XHfg-e5Gr"
      },
      "execution_count": 54,
      "outputs": []
    },
    {
      "cell_type": "code",
      "source": [
        "def RF(X, Y, X_2,labels_,typedist_,verbose_=False):\n",
        "    model         = RandomForestRegressor(random_state=42)\n",
        "    results       = model.fit(X, Y)\n",
        "    prediction_Y2 = results.predict(X_2)\n",
        "    if verbose_==True:\n",
        "        print_importances(model_=model,labels_=labels_,namefile_='fig_t16_importance_'+typedist_+'_'+'RF')\n",
        "        print('Parámetros utilizados RF')\n",
        "        print(\"bootstrap:         {}\".format(model.bootstrap))\n",
        "        print(\"n_estimators:      {}\".format(model.n_estimators))\n",
        "        print(\"max_features:      {}\".format(model.max_features))\n",
        "        print(\"max_depth:         {}\".format(model.max_depth))\n",
        "        print(\"min_samples_leaf:  {}\".format(model.min_samples_leaf))\n",
        "        print(\"min_samples_split: {}\".format(model.min_samples_split))\n",
        "    return prediction_Y2   "
      ],
      "metadata": {
        "id": "V7yMHMCWkvqS"
      },
      "execution_count": 55,
      "outputs": []
    },
    {
      "cell_type": "code",
      "source": [
        "def AutoRF(X, Y, X_2,labels_,typedist_,verbose_=False):\n",
        "## https://towardsdatascience.com/hyperparameter-tuning-the-random-forest-in-python-using-scikit-learn-28d2aa77dd74\n",
        "    #nestlist = []\n",
        "    #for i in range(10, 320, 50):\n",
        "    #    nestlist.append(i)\n",
        "    #param_grid = { \n",
        "    #'bootstrap': [True, False],\n",
        "    #'n_estimators': nestlist,\n",
        "    #'max_features': ['auto', 'sqrt', 'log2'],\n",
        "    #'max_depth' : [10, 20, 30, 40, 50, 60, 70, 80, 90, 100, None],\n",
        "    #'min_samples_leaf': [1, 2, 4],\n",
        "    #'min_samples_split': [2, 5, 10],}\n",
        "    nestlist = []\n",
        "    for i in range(10, 320, 50):\n",
        "        nestlist.append(i)\n",
        "    param_grid = { \n",
        "        'bootstrap': [True, False],\n",
        "        'n_estimators': nestlist,\n",
        "        'max_features': ['auto', 'sqrt',],\n",
        "        'max_depth' : [10, 20, None]}\n",
        "\n",
        "    model = RandomForestRegressor(random_state=42)\n",
        "    clf   = GridSearchCV(estimator=model, param_grid=param_grid, cv=5).fit(X, Y)\n",
        "    model         = clf.best_estimator_\n",
        "    results       = model.fit(X, Y)\n",
        "    prediction_Y2 = results.predict(X_2)\n",
        "\n",
        "    if verbose_==True:\n",
        "        print_importances(model_=model,labels_=labels_,namefile_='fig_t16_importance_'+typedist_+'_'+'AutoRF')\n",
        "        print('Parameters used')\n",
        "        print(\"bootstrap:         {}\".format(model.bootstrap))\n",
        "        print(\"n_estimators:      {}\".format(model.n_estimators))\n",
        "        print(\"max_features:      {}\".format(model.max_features))\n",
        "        print(\"max_depth:         {}\".format(model.max_depth))\n",
        "        print(\"min_samples_leaf:  {}\".format(model.min_samples_leaf))\n",
        "        print(\"min_samples_split: {}\".format(model.min_samples_split))        \n",
        "    return prediction_Y2   "
      ],
      "metadata": {
        "id": "Sh3JVQq6ln4P"
      },
      "execution_count": 56,
      "outputs": []
    },
    {
      "cell_type": "code",
      "source": [
        "def Boosting(X, Y, X_2,typedist_,verbose_=False):\n",
        "    model         = GradientBoostingRegressor(random_state=42,)\n",
        "    results       = model.fit(X, Y)\n",
        "    prediction_Y2 = results.predict(X_2)\n",
        "    return prediction_Y2 "
      ],
      "metadata": {
        "id": "D8tPs-3mU4dA"
      },
      "execution_count": 57,
      "outputs": []
    },
    {
      "cell_type": "code",
      "source": [
        "def Bagging(X, Y, X_2,typedist_,verbose_=False):\n",
        "    model         = BaggingRegressor(random_state=42,)\n",
        "    results       = model.fit(X, Y)\n",
        "    prediction_Y2 = results.predict(X_2)\n",
        "    return prediction_Y2   "
      ],
      "metadata": {
        "id": "n49EThjiXHCa"
      },
      "execution_count": 58,
      "outputs": []
    },
    {
      "cell_type": "code",
      "source": [
        "def AdaBoost(X, Y, X_2,typedist_,verbose_=False):\n",
        "    model         = AdaBoostRegressor(random_state=42,)\n",
        "    results       = model.fit(X, Y)\n",
        "    prediction_Y2 = results.predict(X_2)\n",
        "    return prediction_Y2 "
      ],
      "metadata": {
        "id": "XxzvQPysXiIC"
      },
      "execution_count": 59,
      "outputs": []
    },
    {
      "cell_type": "code",
      "source": [
        "def LinearReg(X, Y, X_2,typedist_,verbose_=False):\n",
        "    model         = LinearRegression()\n",
        "    results       = model.fit(X, Y)\n",
        "    prediction_Y2 = results.predict(X_2)\n",
        "    return prediction_Y2   "
      ],
      "metadata": {
        "id": "eWHrx7dVXYra"
      },
      "execution_count": 60,
      "outputs": []
    },
    {
      "cell_type": "code",
      "source": [
        "def BayesRidge(X, Y, X_2,typedist_,verbose_=False):\n",
        "    model         = BayesianRidge(compute_score=True)\n",
        "    results       = model.fit(X, Y)\n",
        "    prediction_Y2 = results.predict(X_2) \n",
        "    return prediction_Y2   "
      ],
      "metadata": {
        "id": "eBWFLGGLVLXR"
      },
      "execution_count": 61,
      "outputs": []
    },
    {
      "cell_type": "code",
      "source": [
        "def LassoReg(X, Y, X_2,typedist_,verbose_=True):\n",
        "    model         = Lasso(alpha=0.1)\n",
        "    results       = model.fit(X, Y)\n",
        "    prediction_Y2 = results.predict(X_2)\n",
        "    return prediction_Y2  "
      ],
      "metadata": {
        "id": "lNUZVyZvXvVu"
      },
      "execution_count": 62,
      "outputs": []
    },
    {
      "cell_type": "code",
      "source": [
        "def RidgeReg(X, Y, X_2,typedist_,verbose_=False):\n",
        "    model         = Ridge(alpha=0.1)\n",
        "    results       = model.fit(X, Y)\n",
        "    prediction_Y2 = results.predict(X_2)\n",
        "    return prediction_Y2   "
      ],
      "metadata": {
        "id": "H2ahc9j2VXLy"
      },
      "execution_count": 63,
      "outputs": []
    },
    {
      "cell_type": "code",
      "source": [
        "def PLS(X, Y, X_2,n_components,typedist_,verbose_=False):\n",
        "    model         = PLSRegression(n_components=n_components)\n",
        "    results       = model.fit(X, Y)\n",
        "    prediction_Y2 = results.predict(X_2)\n",
        "    return prediction_Y2"
      ],
      "metadata": {
        "id": "BpVkXFJXxViD"
      },
      "execution_count": 64,
      "outputs": []
    },
    {
      "cell_type": "code",
      "source": [
        "def PCR(X, Y, X_2,n_components,typedist_,verbose_=False):\n",
        "## https://scikit-learn.org/stable/auto_examples/cross_decomposition/plot_pcr_vs_pls.html\n",
        "    model         = make_pipeline(PCA(n_components=n_components), LinearRegression())\n",
        "    results       = model.fit(X, Y)\n",
        "    prediction_Y2 = results.predict(X_2)\n",
        "    return prediction_Y2   "
      ],
      "metadata": {
        "id": "PrmmGibK48oj"
      },
      "execution_count": 65,
      "outputs": []
    },
    {
      "cell_type": "code",
      "source": [
        "def VotingEnsemble(X, Y, X_2,verbose_=False):  \n",
        "    ## https://scikit-learn.org/stable/auto_examples/ensemble/plot_voting_regressor.html#sphx-glr-auto-examples-ensemble-plot-voting-regressor-py\n",
        "    gb  = GradientBoostingRegressor(random_state=42)\n",
        "    rf  = RandomForestRegressor(random_state=42)\n",
        "    br  = BaggingRegressor(random_state=42)\n",
        "    ab  = AdaBoostRegressor(random_state=42)\n",
        "    gb.fit(X, Y)\n",
        "    rf.fit(X, Y)\n",
        "    br.fit(X, Y)\n",
        "    ab.fit(X, Y)\n",
        "    voting = VotingRegressor([(\"gb\",gb), (\"rf\",rf), (\"br\",br), (\"ab\",ab)]) #\n",
        "    voting.fit(X, Y)\n",
        "    prediction_Y2 = voting.predict(X_2)    \n",
        "    if verbose_ == True:\n",
        "        predgb  = gb.predict(X_2)\n",
        "        predrf  = rf.predict(X_2)\n",
        "        predbr  = br.predict(X_2)  \n",
        "        predab  = ab.predict(X_2) \n",
        "        ## https://matplotlib.org/3.5.0/api/_as_gen/matplotlib.pyplot.plot.html Markers, Line styles ,Colors\n",
        "        fig, ax = plt.subplots(figsize=(19,10))\n",
        "        plt.plot(predgb,  \"md\" , label=\"GradientBoostingRegressor\") ## go- rs \n",
        "        plt.plot(predrf,  \"b^\" , label=\"RandomForestRegressor\")\n",
        "        plt.plot(predbr,  \"go-\", label=\"BaggingRegressor\")\n",
        "        plt.plot(predab,  \"kD\" , label=\"AdaBoostRegressor\")\n",
        "        plt.plot(prediction_Y2, \"r*\", ms=10, label=\"VotingEnsemble\")\n",
        "        plt.tick_params(axis=\"x\", which=\"both\", bottom=False, top=False, labelbottom=False)\n",
        "        plt.ylabel(\"demanda estandarizada\", color=NARA, fontsize='large')\n",
        "        plt.xlabel(\"training samples\", color=NARA, fontsize='large')\n",
        "        plt.legend(loc=\"best\")\n",
        "        plt.title(\"Pronósticos de ensambles y su promedio\", color=NARA, fontsize='large')\n",
        "        plt.tick_params(colors = NARA, which='both')\n",
        "        ax.spines['bottom'].set_color(NARA)\n",
        "        ax.spines['top'   ].set_color(NARA) \n",
        "        ax.spines['right' ].set_color(NARA)\n",
        "        ax.spines['left'  ].set_color(NARA)\n",
        "        plt.savefig(\"fig_t16_VotingEnsemble\", transparent=True) \n",
        "        plt.show()\n",
        "    return prediction_Y2   "
      ],
      "metadata": {
        "id": "UFQb6V2fYha7"
      },
      "execution_count": 66,
      "outputs": []
    },
    {
      "cell_type": "code",
      "source": [
        "def VotingLinear(X, Y, X_2,verbose_=False):  \n",
        "    ## https://scikit-learn.org/stable/auto_examples/ensemble/plot_voting_regressor.html#sphx-glr-auto-examples-ensemble-plot-voting-regressor-py\n",
        "    pl = PLSRegression(n_components=1)\n",
        "    lr = LinearRegression()\n",
        "    ri = Ridge(alpha=0.1)\n",
        "    la = Lasso(alpha=0.1)    \n",
        "    pc = make_pipeline(PCA(n_components=1), LinearRegression())\n",
        "    pl.fit(X, Y)\n",
        "    lr.fit(X, Y)\n",
        "    ri.fit(X, Y)\n",
        "    la.fit(X, Y)\n",
        "    pc.fit(X, Y)\n",
        "    voting = VotingRegressor([(\"lr\",lr),(\"ri\",ri),(\"la\",la),(\"pc\",pc)]) #,(\"pl\",pl)\n",
        "    voting.fit(X, Y)\n",
        "    prediction_Y2 = voting.predict(X_2)    \n",
        "    if verbose_ == True:\n",
        "        predpl = pl.predict(X_2)\n",
        "        predlr = lr.predict(X_2)\n",
        "        predri = ri.predict(X_2)\n",
        "        predla = la.predict(X_2)\n",
        "        predpc = pc.predict(X_2)\n",
        "        ## https://matplotlib.org/3.5.0/api/_as_gen/matplotlib.pyplot.plot.html Markers, Line styles ,Colors\n",
        "        fig, ax = plt.subplots(figsize=(17,9))\n",
        "        plt.plot(predpl,  \"md\" , label=\"PLSRegression\")\n",
        "        plt.plot(predlr,  \"b^\" , label=\"LinearRegression\")\n",
        "        plt.plot(predri,  \"go-\", label=\"Ridge\")\n",
        "        plt.plot(predla,  \"ys\" , label=\"Lasso\")\n",
        "        plt.plot(predpc,  \"cs\" , label=\"PCR\")\n",
        "        plt.plot(prediction_Y2, \"r*\", ms=10, label=\"VotingLinear\")\n",
        "        plt.tick_params(axis=\"x\", which=\"both\", bottom=False, top=False, labelbottom=False)\n",
        "        plt.ylabel(\"demanda estandarizada\", color=NARA, fontsize='large')\n",
        "        plt.xlabel(\"training samples\", color=NARA, fontsize='large')\n",
        "        plt.legend(loc=\"best\")\n",
        "        plt.title(\"Pronósticos lineales y su promedio\", color=NARA, fontsize='large')\n",
        "        plt.tick_params(colors = NARA, which='both')\n",
        "        ax.spines['bottom'].set_color(NARA)\n",
        "        ax.spines['top'   ].set_color(NARA) \n",
        "        ax.spines['right' ].set_color(NARA)\n",
        "        ax.spines['left'  ].set_color(NARA)\n",
        "        plt.savefig(\"fig_t16_VotingLinear\", transparent=True) \n",
        "        plt.show()\n",
        "    return prediction_Y2   "
      ],
      "metadata": {
        "id": "EDO3mPUv3wf5"
      },
      "execution_count": 67,
      "outputs": []
    },
    {
      "cell_type": "code",
      "source": [
        "## Calcula distancia euclidiana\n",
        "def euclidean(neig1, neig2):\n",
        "\t  distance = 0.0\n",
        "\t  for i in range(len(neig1)):\n",
        "\t\t    distance += (neig1[i] - neig2[i])**2\n",
        "\t  return sqrt(distance)"
      ],
      "metadata": {
        "id": "yY6yd0WJBr7f"
      },
      "execution_count": 68,
      "outputs": []
    },
    {
      "cell_type": "code",
      "source": [
        "def analogo_knn(serie,vsele,k=10,tol=0.8,n_components=3,typedist='pearson',typereg='OLS',verbose=False):    \n",
        "#    vsele      : Tamanio de la ventana de selección\n",
        "#    k          : Número de vecinos a buscar k\n",
        "#    tol        : Tolerancia de tamaño de ventanas para seleccion de vecinos\n",
        "#    typedist   : medida de distancia, 'euclidian' o 'pearson' o 'dtw' \n",
        "\n",
        "    t_o = time.time()\n",
        "    n = len(serie) ## longitud total de la serie\n",
        "\n",
        "    ## PASO 1: Selección de las ventanas de mayor correlación.\n",
        "\n",
        "    ## Calculamos la distancia entre todos los vecinos.\n",
        "    distances = []\n",
        "    Y = serie[n-vsele:n]           ## últimos datos\n",
        "    for i in range(n-2*vsele):                              \n",
        "        if  typedist == 'dtw':     ## dynamic time warping\n",
        "            dist = dtw(Y, serie[i:i+vsele]).distance  \n",
        "        elif typedist == 'euclidian':\n",
        "            dist = euclidean(Y,serie[i:i+vsele])\n",
        "        else:\n",
        "            dist = np.corrcoef(Y,serie[i:i+vsele])[1,0]\n",
        "        if dist > 0:\n",
        "            distances.append((i, dist))\n",
        "        \n",
        "    ## Calculamos el vecindario por distancia de menor a mayor y se guardan las posiciones.\n",
        "    if typedist == 'pearson':\n",
        "        ## En caso de pearson se ordena al revés, nos interesan los mayor correlación.\n",
        "        distances.sort(key=lambda tup: tup[1], reverse=True)\n",
        "    else:\n",
        "        ## En caso de pearson se ordena al revés, nos interesan los de menor distancia.\n",
        "        distances.sort(key=lambda tup: tup[1], reverse=False)\n",
        "\n",
        "    neighbors  = []\n",
        "    neighbors2 = []\n",
        "    positions  = []\n",
        "\n",
        "    ## Calculamos los k vecinos mas cercanos y guardamos las posiciones.\n",
        "    i = 0\n",
        "    for pos, dis in distances:\n",
        "        if i==0:      \n",
        "            positions.append(pos)   \n",
        "            neighbors.append(serie[pos:pos+vsele])\n",
        "            neighbors2.append(serie[pos+vsele:pos+2*vsele])  \n",
        "        else:\n",
        "            bandera = True\n",
        "            for p in positions:\n",
        "                 ## si ya teniamos una posición en la lista que pase la tolerancia, ya no la guardamos \n",
        "                if (abs(pos - p) < tol*vsele):\n",
        "                    bandera = False\n",
        "                    i = i - 1\n",
        "                    break\n",
        "            if bandera == True:\n",
        "                ## Guarda nuevo vecino\n",
        "                positions.append(pos)   \n",
        "                neighbors.append(serie[pos:pos+vsele])\n",
        "                neighbors2.append(serie[pos+vsele:pos+2*vsele])  \n",
        "                bandera = False\n",
        "        i = i + 1\n",
        "        if i == k:\n",
        "            break\n",
        "    if verbose==True:\n",
        "        print('positions KNN:', positions) ## posición de los k vecinos mas cercanos\n",
        "\n",
        "    neighbors  = np.array(neighbors)  \n",
        "    neighbors2 = np.array(neighbors2)    \n",
        "    vacia = []\n",
        "    if verbose==True:\n",
        "        print_serie2(neighbors,Y,'Selección con KNN:'+typedist,'demanda','time',8,5,'fig_t16_X_'+typedist+'_'+typereg)\n",
        "\n",
        "    t_sel = time.time() - t_o\n",
        "\n",
        "    ## PASO 2: Regresión entre los vecinos mas cercanos 'X' y la última ventana 'Y'\n",
        "\n",
        "    ## Definimos nuestros regresores   \n",
        "    X   = (neighbors.T ).tolist()\n",
        "    X_2 = (neighbors2.T).tolist()\n",
        "    Y   = (Y).tolist()\n",
        "    prediction_Y2 = []\n",
        "\n",
        "    ## -- Random forest regression --\n",
        "    if typereg == 'RF':\n",
        "        prediction_Y2 = RF(X,Y,X_2,labels_=positions,typedist_=typedist,verbose_=verbose)\n",
        "\n",
        "    ## -- OLS with Stepwise --\n",
        "    if typereg == 'OLSstep':\n",
        "        prediction_Y2 = OLSstep(X,Y,X_2, pi_step_=0.001,verbose_=verbose)\n",
        "\n",
        "    ## -- Gradiant boosting regression --\n",
        "    if typereg == 'Boosting':\n",
        "        prediction_Y2 = Boosting(X, Y, X_2,typedist_=typedist,verbose_=verbose)   \n",
        "\n",
        "    ## -- Bagging regression --\n",
        "    if typereg == 'Bagging':\n",
        "        prediction_Y2 = Bagging(X, Y, X_2,typedist_=typedist,verbose_=verbose)   \n",
        "\n",
        "    ## -- Linear regression --\n",
        "    if typereg == 'LinearReg':\n",
        "        prediction_Y2 = LinearReg(X, Y, X_2,typedist_=typedist,verbose_=verbose)   \n",
        "\n",
        "    ## -- Ada boosting --\n",
        "    if typereg == 'AdaBoost':\n",
        "        prediction_Y2 = AdaBoost(X, Y, X_2,typedist_=typedist,verbose_=verbose)  \n",
        "\n",
        "    ## -- Bayesian Ridge --\n",
        "    if typereg == 'BayesRidge':\n",
        "        prediction_Y2 = BayesRidge(X, Y, X_2,typedist_=typedist,verbose_=verbose)  \n",
        "\n",
        "    ## -- Lasso regression --\n",
        "    if typereg == 'LassoReg':\n",
        "        prediction_Y2 = LassoReg(X, Y, X_2,typedist_=typedist,verbose_=verbose)   \n",
        "\n",
        "    ## -- Ridge regression --\n",
        "    if typereg == 'RidgeReg':\n",
        "        prediction_Y2 = RidgeReg(X, Y, X_2,typedist_=typedist,verbose_=verbose)\n",
        "\n",
        "    ## -- PLS Regression --\n",
        "    if typereg == 'PLS':\n",
        "        prediction_Y2 = PLS(X, Y, X_2,n_components=n_components,typedist_=typedist,verbose_=verbose)\n",
        "\n",
        "    ## -- PCA Regression --\n",
        "    if typereg == 'PCR':\n",
        "        prediction_Y2 = PCR(X, Y, X_2,n_components=n_components,typedist_=typedist,verbose_=verbose)\n",
        "\n",
        "    ## -- Voting regression with ensemble models -- \n",
        "    if typereg == 'VotingEnsemble':\n",
        "        prediction_Y2 = VotingEnsemble(X,Y,X_2,verbose_=verbose)\n",
        "\n",
        "    ## -- Voting regression with linear model -- \n",
        "    if typereg == 'VotingLinear':\n",
        "        prediction_Y2 = VotingLinear(X,Y,X_2,verbose_=verbose)\n",
        "        \n",
        "    ## -- Random forrest regression with GridSearchCV--\n",
        "    if typereg == 'AutoRF':\n",
        "        prediction_Y2 = AutoRF(X, Y, X_2,labels_=positions,typedist_=typedist,verbose_=verbose)        \n",
        "\n",
        "    if verbose==True:\n",
        "        print_serie2(neighbors2,prediction_Y2, 'Pronóstico - ' + typedist+' - ' + typereg ,'Demanda','Tiempo',8,5,'fig_t16_Y2_'+typedist+'_'+typereg)\n",
        "\n",
        "    t_reg = time.time() - t_sel - t_o\n",
        "    #if typedist=='pearson':\n",
        "    #  t_sel =2.2038\n",
        "    #if typedist=='euclidian':\n",
        "    #  t_sel =23.4583\n",
        "\n",
        "\n",
        "    ## Dibujamos un ejemplo de espacio análogo\n",
        "    if False:\n",
        "        fig, ax = plt.subplots()\n",
        "        ax.legend(['First line', 'Second line'])\n",
        "        serie1=serie[positions[0]:positions[0]+2*vsele]\n",
        "        serie2=serie[positions[1]:positions[1]+2*vsele]\n",
        "        serie3=serie[positions[2]:positions[2]+2*vsele]\n",
        "        serie4=serie[positions[3]:positions[3]+2*vsele]\n",
        "        serie5=serie[positions[4]:positions[4]+2*vsele]\n",
        "        serie6=serie[positions[5]:positions[5]+2*vsele]\n",
        "        ax.plot(serie1, label='X$_1$')\n",
        "        ax.plot(serie2, label='X$_2$')\n",
        "        ax.plot(serie3, label='X$_3$')\n",
        "        ax.plot(serie4, label='X$_4$')\n",
        "        ax.plot(serie5, label='X$_5$')\n",
        "        ax.plot(serie6,label='X$_6$')\n",
        "        ax.plot(Y,label='Y', linewidth=3, color='r')   \n",
        "        c = np.concatenate((Y,prediction_Y2), axis=0)   \n",
        "        ax.plot(c, label='$Y\\'$', linewidth=3, color='r',linestyle='--')      \n",
        "        plt.legend()\n",
        "        plt.axvline(x = vsele,linestyle='-.') # '-', '--', '-.', ':',\n",
        "        ax.set(xlabel='time (5 min)', ylabel='demand (MW)') #title='High correlation windows'\n",
        "        ax.grid()\n",
        "        fig.savefig(\"test.png\")\n",
        "        plt.show()\n",
        "\n",
        "    return prediction_Y2, t_sel, t_reg"
      ],
      "metadata": {
        "id": "yz9CDOHQnx0j"
      },
      "execution_count": 69,
      "outputs": []
    },
    {
      "cell_type": "markdown",
      "source": [
        "---\n",
        "## Pruebas unitarias del método análogo\n",
        "\n"
      ],
      "metadata": {
        "id": "UUWwvdYNRGyN"
      }
    },
    {
      "cell_type": "code",
      "source": [
        "## Controla las pruebas unitarias al modelo análogo\n",
        "unit_test =False"
      ],
      "metadata": {
        "id": "-cncnslXLCVb"
      },
      "execution_count": 70,
      "outputs": []
    },
    {
      "cell_type": "code",
      "source": [
        "## ... (time serie) ... window.window.window.window.window.window.window.window.window.window.window.\n",
        "##                                           |                                               |       |\n",
        "##                                           |                                               |       |\n",
        "##                                           |<------------------ vsele -------------------->|<vpred>|\n",
        "##                                                       (selection and regression)        (prediction)\n",
        "##                                                                                                 \n",
        "##|<---------------------------------------- train ----------------------------------------->| <test>|\n",
        "\n",
        "## Parámetros del método Análogo\n",
        "if unit_test:\n",
        "    periods       = 288       ## Número de periodos en una ventana\n",
        "    periods_sele  = 1         ## Número de ventanas de selección\n",
        "    periods_pred  = 1         ## Número de ventanas de pronóstico\n",
        "\n",
        "    vsele = periods * periods_sele ## Número de periodos para selección\n",
        "    vpred = periods * periods_pred ## Número de periodos para pronóstico\n",
        "\n",
        "    k   = 6   ## k:   número de vecinos mas cercanos\n",
        "    tol = 0.8 ## tol: porcentaje de tolerancia de cercania entre ventanas\n",
        "\n",
        "    ## Dibujamos la ventana de histórico y los datos de prueba  \n",
        "    series = []; vacia = []; n = 2\n",
        "    series.append(serie[len(serie)-n*vsele : len(serie)-vsele+vpred])\n",
        "    series.append(serie[len(serie)-n*vsele : len(serie)-vsele])\n",
        "    print_serie2(serie_=series,prototipo_=vacia , title_='Serie de demanda eléctrica', ytitle_='Demanda (estandarizada)',xtitle_='Tiempo', sizex_=20, sizey_=6, namefile_='fig_t15_demanda')\n",
        "\n",
        "    ## Definimos la ventana de prueba y entrenamiento\n",
        "    X_train = serie[0 : len(serie) - vpred]\n",
        "    y_test  = serie[len(serie) - vpred : len(serie)]\n",
        "\n",
        "    ## Guardamos todos los resultados aquí\n",
        "    dferror = pd.DataFrame(columns=['distance','regression','MAE','MAPE','timesel','timereg'])\n",
        "\n",
        "    ## Bandera que activa todos los pronósticos\n",
        "    debug  = 0\n",
        "    active = 0"
      ],
      "metadata": {
        "id": "WapmM09KUQBE"
      },
      "execution_count": 71,
      "outputs": []
    },
    {
      "cell_type": "code",
      "source": [
        "if unit_test:\n",
        "  distances = ['pearson', 'euclidian']\n",
        "  methods = ['RF', 'OLSstep', 'Boosting', 'Bagging', 'LinearReg', 'AdaBoost', 'LassoReg', 'RidgeReg', 'PLS', 'PCR', 'VotingEnsemble', 'VotingLinear'] # AutoRF, 'BayesRidge'\n",
        "  preds = []\n",
        "  for d in distances:\n",
        "    for m in methods:\n",
        "      pred_, t_sel_, t_reg_ = analogo_knn(X_train, vsele=vsele, k=k, tol=tol, typedist=d, typereg=m, verbose=False)\n",
        "      preds.append({\n",
        "          'distance' : d,\n",
        "          'method'   : m,\n",
        "          'y_cap'    : pred_\n",
        "      })\n",
        "      mae_  = mean_absolute_error(y_test, pred_[0:vpred])\n",
        "      mape_ = mean_absolute_percentage_error(y_test,pred_[0:vpred])\n",
        "      dferror.loc[dferror.shape[0]] = [d, m, mae_, mape_,t_sel_,t_reg_]\n",
        "  preds = pd.DataFrame(preds)\n",
        "  \n",
        "  display(dferror.head())\n",
        "  display(preds.head())\n",
        "  dferror[\"time\"]         = dferror[\"timereg\"] + dferror[\"timesel\"]\n",
        "  dferror[\"invtime\"]      = 1 / ( dferror[\"timereg\"] + dferror[\"timesel\"])\n",
        "  dferror[\"invtime/MAPE\"] = dferror[\"invtime\"] / dferror[\"MAPE\"]\n",
        "  dferror[\"invtime/MAE\"]  = dferror[\"invtime\"] / dferror[\"MAE\"]\n",
        "  dferror.sort_values(\"invtime/MAE\",ascending=False)\n",
        "  dferror.sort_values(\"invtime/MAPE\",ascending=False)\n",
        "  dferror.sort_values(\"MAPE\",ascending=True)\n",
        "  dferror.head()"
      ],
      "metadata": {
        "id": "NvfOAP9itrtE"
      },
      "execution_count": 72,
      "outputs": []
    },
    {
      "cell_type": "code",
      "source": [
        "if unit_test:  \n",
        "  sel1 = ['R', 'Boosting', 'Bagging', 'AdaBoost', 'VotingEnsemble']\n",
        "  sel2 = ['OLSstep', 'LassoReg', 'RidgeReg', 'PLS', 'PCR', 'VotingLinear']\n",
        "\n",
        "  # cmap para colores distintos para cada distancia-método\n",
        "\n",
        "  for d in distances:\n",
        "    plt.figure(figsize=(25,8))\n",
        "    plt.plot(y_test, '.', label= '$Y_{\\\\beta+2}$')\n",
        "    for r in preds.iterrows():\n",
        "      values = r[1]\n",
        "      if values.distance == d and values.method in sel1:\n",
        "        plt.plot(values.y_cap, label = 'Y_{' + values.distance + ',' + values.method + '}')\n",
        "    plt.legend()\n",
        "    plt.show()\n",
        "\n",
        "  for d in distances:\n",
        "    plt.figure(figsize=(25,8))\n",
        "    plt.plot(y_test, '.', label= '$Y_{\\\\beta+2}$')\n",
        "    for r in preds.iterrows():\n",
        "      values = r[1]\n",
        "      if values.distance == d and values.method in sel2:\n",
        "        plt.plot(values.y_cap, label = '$Y_{' + values.distance + ',' + values.method + '}$')\n",
        "    plt.legend()\n",
        "    plt.show()"
      ],
      "metadata": {
        "id": "L8wmhXZC1rnG"
      },
      "execution_count": 73,
      "outputs": []
    },
    {
      "cell_type": "markdown",
      "source": [
        "# ETL 5 minutes"
      ],
      "metadata": {
        "id": "eyRgIpSPswGc"
      }
    },
    {
      "cell_type": "code",
      "source": [
        "#https://drive.google.com/drive/folders/1Gj3XK9kM-lE18uBMe3qrZOGEm8yAI8i9\n",
        "#https://www.codegrepper.com/code-examples/python/how+to+read+csv+file+from+google+drive+on+google+colab+\n",
        "path = 'https://drive.google.com/uc?export=download&id=' \n",
        "URL  = 'https://drive.google.com/file/d/1057_dPk6rIZgXVku8kmZjq3m8WQNkJZb/view?usp=sharing'\n",
        "df = pd.read_csv(path+URL.split('/')[-2],usecols=[0,1,2,3,4,5,6,7],names=['Date','SERIE1','SERIE2','SERIE3','SERIE4','SERIE5','SERIE6','SERIE7'],\n",
        "                 dtype={'Date':str,'SERIE1':float,'SERIE2':float,'SERIE3':float,'SERIE4':float,'SERIE5':float,'SERIE6':float,'SERIE7':float}) #names=['CLVUNI','TYPE','NODE'], usecols=[1,2,3,4,5,6,]\n",
        "df.dropna(inplace=True)"
      ],
      "metadata": {
        "id": "1e612CLOjx1J"
      },
      "execution_count": 74,
      "outputs": []
    },
    {
      "cell_type": "code",
      "source": [
        "df['Date'] = pd.to_datetime(df['Date'],format= '%d-%m-%Y %H:%M' ) #.dt.date https://pandas.pydata.org/docs/reference/api/pandas.Series.dt.date.html\n",
        "df = df.set_index('Date')"
      ],
      "metadata": {
        "id": "8Xn_AmM-dL2C"
      },
      "execution_count": 75,
      "outputs": []
    },
    {
      "cell_type": "code",
      "source": [
        "df.head()"
      ],
      "metadata": {
        "id": "SXq8tnUXuyAp",
        "colab": {
          "base_uri": "https://localhost:8080/",
          "height": 238
        },
        "outputId": "ebf880dc-9387-46c0-9b52-92eb358330ca"
      },
      "execution_count": 76,
      "outputs": [
        {
          "output_type": "execute_result",
          "data": {
            "text/plain": [
              "                          SERIE1       SERIE2       SERIE3       SERIE4  \\\n",
              "Date                                                                      \n",
              "2010-01-01 00:00:00  5558.661133  4369.373047  4943.601074  1357.897827   \n",
              "2010-01-01 00:01:00  5552.933105  4359.655762  4932.601563  1358.277100   \n",
              "2010-01-01 00:02:00  5546.214355  4352.123047  4922.840332  1357.305786   \n",
              "2010-01-01 00:03:00  5543.996582  4349.669922  4920.733887  1353.400879   \n",
              "2010-01-01 00:04:00  5537.350586  4335.470703  4919.804688  1352.663696   \n",
              "\n",
              "                          SERIE5       SERIE6      SERIE7  \n",
              "Date                                                       \n",
              "2010-01-01 00:00:00  1700.190308  3399.208496  923.603027  \n",
              "2010-01-01 00:01:00  1697.078613  3395.637207  922.437500  \n",
              "2010-01-01 00:02:00  1693.631470  3393.930664  921.617676  \n",
              "2010-01-01 00:03:00  1698.514771  3397.180176  919.187134  \n",
              "2010-01-01 00:04:00  1698.589966  3398.146973  918.067688  "
            ],
            "text/html": [
              "\n",
              "  <div id=\"df-516ab771-0216-4f54-b9b3-357fec706a21\">\n",
              "    <div class=\"colab-df-container\">\n",
              "      <div>\n",
              "<style scoped>\n",
              "    .dataframe tbody tr th:only-of-type {\n",
              "        vertical-align: middle;\n",
              "    }\n",
              "\n",
              "    .dataframe tbody tr th {\n",
              "        vertical-align: top;\n",
              "    }\n",
              "\n",
              "    .dataframe thead th {\n",
              "        text-align: right;\n",
              "    }\n",
              "</style>\n",
              "<table border=\"1\" class=\"dataframe\">\n",
              "  <thead>\n",
              "    <tr style=\"text-align: right;\">\n",
              "      <th></th>\n",
              "      <th>SERIE1</th>\n",
              "      <th>SERIE2</th>\n",
              "      <th>SERIE3</th>\n",
              "      <th>SERIE4</th>\n",
              "      <th>SERIE5</th>\n",
              "      <th>SERIE6</th>\n",
              "      <th>SERIE7</th>\n",
              "    </tr>\n",
              "    <tr>\n",
              "      <th>Date</th>\n",
              "      <th></th>\n",
              "      <th></th>\n",
              "      <th></th>\n",
              "      <th></th>\n",
              "      <th></th>\n",
              "      <th></th>\n",
              "      <th></th>\n",
              "    </tr>\n",
              "  </thead>\n",
              "  <tbody>\n",
              "    <tr>\n",
              "      <th>2010-01-01 00:00:00</th>\n",
              "      <td>5558.661133</td>\n",
              "      <td>4369.373047</td>\n",
              "      <td>4943.601074</td>\n",
              "      <td>1357.897827</td>\n",
              "      <td>1700.190308</td>\n",
              "      <td>3399.208496</td>\n",
              "      <td>923.603027</td>\n",
              "    </tr>\n",
              "    <tr>\n",
              "      <th>2010-01-01 00:01:00</th>\n",
              "      <td>5552.933105</td>\n",
              "      <td>4359.655762</td>\n",
              "      <td>4932.601563</td>\n",
              "      <td>1358.277100</td>\n",
              "      <td>1697.078613</td>\n",
              "      <td>3395.637207</td>\n",
              "      <td>922.437500</td>\n",
              "    </tr>\n",
              "    <tr>\n",
              "      <th>2010-01-01 00:02:00</th>\n",
              "      <td>5546.214355</td>\n",
              "      <td>4352.123047</td>\n",
              "      <td>4922.840332</td>\n",
              "      <td>1357.305786</td>\n",
              "      <td>1693.631470</td>\n",
              "      <td>3393.930664</td>\n",
              "      <td>921.617676</td>\n",
              "    </tr>\n",
              "    <tr>\n",
              "      <th>2010-01-01 00:03:00</th>\n",
              "      <td>5543.996582</td>\n",
              "      <td>4349.669922</td>\n",
              "      <td>4920.733887</td>\n",
              "      <td>1353.400879</td>\n",
              "      <td>1698.514771</td>\n",
              "      <td>3397.180176</td>\n",
              "      <td>919.187134</td>\n",
              "    </tr>\n",
              "    <tr>\n",
              "      <th>2010-01-01 00:04:00</th>\n",
              "      <td>5537.350586</td>\n",
              "      <td>4335.470703</td>\n",
              "      <td>4919.804688</td>\n",
              "      <td>1352.663696</td>\n",
              "      <td>1698.589966</td>\n",
              "      <td>3398.146973</td>\n",
              "      <td>918.067688</td>\n",
              "    </tr>\n",
              "  </tbody>\n",
              "</table>\n",
              "</div>\n",
              "      <button class=\"colab-df-convert\" onclick=\"convertToInteractive('df-516ab771-0216-4f54-b9b3-357fec706a21')\"\n",
              "              title=\"Convert this dataframe to an interactive table.\"\n",
              "              style=\"display:none;\">\n",
              "        \n",
              "  <svg xmlns=\"http://www.w3.org/2000/svg\" height=\"24px\"viewBox=\"0 0 24 24\"\n",
              "       width=\"24px\">\n",
              "    <path d=\"M0 0h24v24H0V0z\" fill=\"none\"/>\n",
              "    <path d=\"M18.56 5.44l.94 2.06.94-2.06 2.06-.94-2.06-.94-.94-2.06-.94 2.06-2.06.94zm-11 1L8.5 8.5l.94-2.06 2.06-.94-2.06-.94L8.5 2.5l-.94 2.06-2.06.94zm10 10l.94 2.06.94-2.06 2.06-.94-2.06-.94-.94-2.06-.94 2.06-2.06.94z\"/><path d=\"M17.41 7.96l-1.37-1.37c-.4-.4-.92-.59-1.43-.59-.52 0-1.04.2-1.43.59L10.3 9.45l-7.72 7.72c-.78.78-.78 2.05 0 2.83L4 21.41c.39.39.9.59 1.41.59.51 0 1.02-.2 1.41-.59l7.78-7.78 2.81-2.81c.8-.78.8-2.07 0-2.86zM5.41 20L4 18.59l7.72-7.72 1.47 1.35L5.41 20z\"/>\n",
              "  </svg>\n",
              "      </button>\n",
              "      \n",
              "  <style>\n",
              "    .colab-df-container {\n",
              "      display:flex;\n",
              "      flex-wrap:wrap;\n",
              "      gap: 12px;\n",
              "    }\n",
              "\n",
              "    .colab-df-convert {\n",
              "      background-color: #E8F0FE;\n",
              "      border: none;\n",
              "      border-radius: 50%;\n",
              "      cursor: pointer;\n",
              "      display: none;\n",
              "      fill: #1967D2;\n",
              "      height: 32px;\n",
              "      padding: 0 0 0 0;\n",
              "      width: 32px;\n",
              "    }\n",
              "\n",
              "    .colab-df-convert:hover {\n",
              "      background-color: #E2EBFA;\n",
              "      box-shadow: 0px 1px 2px rgba(60, 64, 67, 0.3), 0px 1px 3px 1px rgba(60, 64, 67, 0.15);\n",
              "      fill: #174EA6;\n",
              "    }\n",
              "\n",
              "    [theme=dark] .colab-df-convert {\n",
              "      background-color: #3B4455;\n",
              "      fill: #D2E3FC;\n",
              "    }\n",
              "\n",
              "    [theme=dark] .colab-df-convert:hover {\n",
              "      background-color: #434B5C;\n",
              "      box-shadow: 0px 1px 3px 1px rgba(0, 0, 0, 0.15);\n",
              "      filter: drop-shadow(0px 1px 2px rgba(0, 0, 0, 0.3));\n",
              "      fill: #FFFFFF;\n",
              "    }\n",
              "  </style>\n",
              "\n",
              "      <script>\n",
              "        const buttonEl =\n",
              "          document.querySelector('#df-516ab771-0216-4f54-b9b3-357fec706a21 button.colab-df-convert');\n",
              "        buttonEl.style.display =\n",
              "          google.colab.kernel.accessAllowed ? 'block' : 'none';\n",
              "\n",
              "        async function convertToInteractive(key) {\n",
              "          const element = document.querySelector('#df-516ab771-0216-4f54-b9b3-357fec706a21');\n",
              "          const dataTable =\n",
              "            await google.colab.kernel.invokeFunction('convertToInteractive',\n",
              "                                                     [key], {});\n",
              "          if (!dataTable) return;\n",
              "\n",
              "          const docLinkHtml = 'Like what you see? Visit the ' +\n",
              "            '<a target=\"_blank\" href=https://colab.research.google.com/notebooks/data_table.ipynb>data table notebook</a>'\n",
              "            + ' to learn more about interactive tables.';\n",
              "          element.innerHTML = '';\n",
              "          dataTable['output_type'] = 'display_data';\n",
              "          await google.colab.output.renderOutput(dataTable, element);\n",
              "          const docLink = document.createElement('div');\n",
              "          docLink.innerHTML = docLinkHtml;\n",
              "          element.appendChild(docLink);\n",
              "        }\n",
              "      </script>\n",
              "    </div>\n",
              "  </div>\n",
              "  "
            ]
          },
          "metadata": {},
          "execution_count": 76
        }
      ]
    },
    {
      "cell_type": "code",
      "source": [
        "df_5 = df.resample('5T').mean()\n",
        "df_5.head()"
      ],
      "metadata": {
        "id": "OGs5KlnZrPg-",
        "colab": {
          "base_uri": "https://localhost:8080/",
          "height": 238
        },
        "outputId": "6caf9603-7d06-46ab-febe-dc42af9a744b"
      },
      "execution_count": 77,
      "outputs": [
        {
          "output_type": "execute_result",
          "data": {
            "text/plain": [
              "                          SERIE1       SERIE2       SERIE3       SERIE4  \\\n",
              "Date                                                                      \n",
              "2010-01-01 00:00:00  5547.831152  4353.258496  4927.916309  1355.909058   \n",
              "2010-01-01 00:05:00  5535.618164  4348.893457  4916.344433  1353.716626   \n",
              "2010-01-01 00:10:00  5529.010351  4331.776856  4897.709473  1346.924121   \n",
              "2010-01-01 00:15:00  5514.982032  4330.051758  4879.650098  1346.241382   \n",
              "2010-01-01 00:20:00  5472.567285  4314.503906  4863.172266  1334.846802   \n",
              "\n",
              "                          SERIE5       SERIE6      SERIE7  \n",
              "Date                                                       \n",
              "2010-01-01 00:00:00  1697.601026  3396.820703  920.982605  \n",
              "2010-01-01 00:05:00  1699.889233  3397.829590  918.181799  \n",
              "2010-01-01 00:10:00  1697.138647  3424.317334  916.371033  \n",
              "2010-01-01 00:15:00  1705.324194  3421.112500  916.161291  \n",
              "2010-01-01 00:20:00  1674.401562  3409.312451  914.513721  "
            ],
            "text/html": [
              "\n",
              "  <div id=\"df-35d87988-17b5-4abf-8b30-bd78f5e835ae\">\n",
              "    <div class=\"colab-df-container\">\n",
              "      <div>\n",
              "<style scoped>\n",
              "    .dataframe tbody tr th:only-of-type {\n",
              "        vertical-align: middle;\n",
              "    }\n",
              "\n",
              "    .dataframe tbody tr th {\n",
              "        vertical-align: top;\n",
              "    }\n",
              "\n",
              "    .dataframe thead th {\n",
              "        text-align: right;\n",
              "    }\n",
              "</style>\n",
              "<table border=\"1\" class=\"dataframe\">\n",
              "  <thead>\n",
              "    <tr style=\"text-align: right;\">\n",
              "      <th></th>\n",
              "      <th>SERIE1</th>\n",
              "      <th>SERIE2</th>\n",
              "      <th>SERIE3</th>\n",
              "      <th>SERIE4</th>\n",
              "      <th>SERIE5</th>\n",
              "      <th>SERIE6</th>\n",
              "      <th>SERIE7</th>\n",
              "    </tr>\n",
              "    <tr>\n",
              "      <th>Date</th>\n",
              "      <th></th>\n",
              "      <th></th>\n",
              "      <th></th>\n",
              "      <th></th>\n",
              "      <th></th>\n",
              "      <th></th>\n",
              "      <th></th>\n",
              "    </tr>\n",
              "  </thead>\n",
              "  <tbody>\n",
              "    <tr>\n",
              "      <th>2010-01-01 00:00:00</th>\n",
              "      <td>5547.831152</td>\n",
              "      <td>4353.258496</td>\n",
              "      <td>4927.916309</td>\n",
              "      <td>1355.909058</td>\n",
              "      <td>1697.601026</td>\n",
              "      <td>3396.820703</td>\n",
              "      <td>920.982605</td>\n",
              "    </tr>\n",
              "    <tr>\n",
              "      <th>2010-01-01 00:05:00</th>\n",
              "      <td>5535.618164</td>\n",
              "      <td>4348.893457</td>\n",
              "      <td>4916.344433</td>\n",
              "      <td>1353.716626</td>\n",
              "      <td>1699.889233</td>\n",
              "      <td>3397.829590</td>\n",
              "      <td>918.181799</td>\n",
              "    </tr>\n",
              "    <tr>\n",
              "      <th>2010-01-01 00:10:00</th>\n",
              "      <td>5529.010351</td>\n",
              "      <td>4331.776856</td>\n",
              "      <td>4897.709473</td>\n",
              "      <td>1346.924121</td>\n",
              "      <td>1697.138647</td>\n",
              "      <td>3424.317334</td>\n",
              "      <td>916.371033</td>\n",
              "    </tr>\n",
              "    <tr>\n",
              "      <th>2010-01-01 00:15:00</th>\n",
              "      <td>5514.982032</td>\n",
              "      <td>4330.051758</td>\n",
              "      <td>4879.650098</td>\n",
              "      <td>1346.241382</td>\n",
              "      <td>1705.324194</td>\n",
              "      <td>3421.112500</td>\n",
              "      <td>916.161291</td>\n",
              "    </tr>\n",
              "    <tr>\n",
              "      <th>2010-01-01 00:20:00</th>\n",
              "      <td>5472.567285</td>\n",
              "      <td>4314.503906</td>\n",
              "      <td>4863.172266</td>\n",
              "      <td>1334.846802</td>\n",
              "      <td>1674.401562</td>\n",
              "      <td>3409.312451</td>\n",
              "      <td>914.513721</td>\n",
              "    </tr>\n",
              "  </tbody>\n",
              "</table>\n",
              "</div>\n",
              "      <button class=\"colab-df-convert\" onclick=\"convertToInteractive('df-35d87988-17b5-4abf-8b30-bd78f5e835ae')\"\n",
              "              title=\"Convert this dataframe to an interactive table.\"\n",
              "              style=\"display:none;\">\n",
              "        \n",
              "  <svg xmlns=\"http://www.w3.org/2000/svg\" height=\"24px\"viewBox=\"0 0 24 24\"\n",
              "       width=\"24px\">\n",
              "    <path d=\"M0 0h24v24H0V0z\" fill=\"none\"/>\n",
              "    <path d=\"M18.56 5.44l.94 2.06.94-2.06 2.06-.94-2.06-.94-.94-2.06-.94 2.06-2.06.94zm-11 1L8.5 8.5l.94-2.06 2.06-.94-2.06-.94L8.5 2.5l-.94 2.06-2.06.94zm10 10l.94 2.06.94-2.06 2.06-.94-2.06-.94-.94-2.06-.94 2.06-2.06.94z\"/><path d=\"M17.41 7.96l-1.37-1.37c-.4-.4-.92-.59-1.43-.59-.52 0-1.04.2-1.43.59L10.3 9.45l-7.72 7.72c-.78.78-.78 2.05 0 2.83L4 21.41c.39.39.9.59 1.41.59.51 0 1.02-.2 1.41-.59l7.78-7.78 2.81-2.81c.8-.78.8-2.07 0-2.86zM5.41 20L4 18.59l7.72-7.72 1.47 1.35L5.41 20z\"/>\n",
              "  </svg>\n",
              "      </button>\n",
              "      \n",
              "  <style>\n",
              "    .colab-df-container {\n",
              "      display:flex;\n",
              "      flex-wrap:wrap;\n",
              "      gap: 12px;\n",
              "    }\n",
              "\n",
              "    .colab-df-convert {\n",
              "      background-color: #E8F0FE;\n",
              "      border: none;\n",
              "      border-radius: 50%;\n",
              "      cursor: pointer;\n",
              "      display: none;\n",
              "      fill: #1967D2;\n",
              "      height: 32px;\n",
              "      padding: 0 0 0 0;\n",
              "      width: 32px;\n",
              "    }\n",
              "\n",
              "    .colab-df-convert:hover {\n",
              "      background-color: #E2EBFA;\n",
              "      box-shadow: 0px 1px 2px rgba(60, 64, 67, 0.3), 0px 1px 3px 1px rgba(60, 64, 67, 0.15);\n",
              "      fill: #174EA6;\n",
              "    }\n",
              "\n",
              "    [theme=dark] .colab-df-convert {\n",
              "      background-color: #3B4455;\n",
              "      fill: #D2E3FC;\n",
              "    }\n",
              "\n",
              "    [theme=dark] .colab-df-convert:hover {\n",
              "      background-color: #434B5C;\n",
              "      box-shadow: 0px 1px 3px 1px rgba(0, 0, 0, 0.15);\n",
              "      filter: drop-shadow(0px 1px 2px rgba(0, 0, 0, 0.3));\n",
              "      fill: #FFFFFF;\n",
              "    }\n",
              "  </style>\n",
              "\n",
              "      <script>\n",
              "        const buttonEl =\n",
              "          document.querySelector('#df-35d87988-17b5-4abf-8b30-bd78f5e835ae button.colab-df-convert');\n",
              "        buttonEl.style.display =\n",
              "          google.colab.kernel.accessAllowed ? 'block' : 'none';\n",
              "\n",
              "        async function convertToInteractive(key) {\n",
              "          const element = document.querySelector('#df-35d87988-17b5-4abf-8b30-bd78f5e835ae');\n",
              "          const dataTable =\n",
              "            await google.colab.kernel.invokeFunction('convertToInteractive',\n",
              "                                                     [key], {});\n",
              "          if (!dataTable) return;\n",
              "\n",
              "          const docLinkHtml = 'Like what you see? Visit the ' +\n",
              "            '<a target=\"_blank\" href=https://colab.research.google.com/notebooks/data_table.ipynb>data table notebook</a>'\n",
              "            + ' to learn more about interactive tables.';\n",
              "          element.innerHTML = '';\n",
              "          dataTable['output_type'] = 'display_data';\n",
              "          await google.colab.output.renderOutput(dataTable, element);\n",
              "          const docLink = document.createElement('div');\n",
              "          docLink.innerHTML = docLinkHtml;\n",
              "          element.appendChild(docLink);\n",
              "        }\n",
              "      </script>\n",
              "    </div>\n",
              "  </div>\n",
              "  "
            ]
          },
          "metadata": {},
          "execution_count": 77
        }
      ]
    },
    {
      "cell_type": "code",
      "source": [
        "## Se imprimen las series de tiempo\n",
        "\n",
        "fig, ax = plt.subplots()\n",
        "ax.plot(df_5.SERIE4, label='SERIE4')\n",
        "ax.set(xlabel='time (5 min)', ylabel='demand (MW)') #title='Real vs Forecasting'\n",
        "ax.grid()         \n",
        "plt.legend()\n",
        "plt.xticks(rotation=90)\n",
        "fig.savefig(\"series.pdf\")\n",
        "plt.show()\n",
        "\n",
        "fig, axs = plt.subplots(2, 2,figsize=(8, 5))\n",
        "axs[0, 0].plot(df_5.SERIE1, label='Serie 1')\n",
        "axs[0, 0].set(ylabel='demand (MW)') \n",
        "axs[0, 0].legend(loc=\"upper right\")\n",
        "axs[0, 1].plot(df_5.SERIE2, label='Serie 2')\n",
        "axs[0, 1].plot(df_5.SERIE4, label='Serie 4')\n",
        "axs[0, 1].legend(loc=\"upper right\")\n",
        "axs[1, 0].plot(df_5.SERIE3, label='Serie 3')\n",
        "axs[1, 0].plot(df_5.SERIE5, label='Serie 5')\n",
        "axs[1, 0].set(ylabel='demand (MW)')\n",
        "axs[1, 0].legend(loc=\"upper right\")\n",
        "axs[1, 1].plot(df_5.SERIE6, label='Serie 6')\n",
        "axs[1, 1].plot(df_5.SERIE7, label='Serie 7')\n",
        "axs[1, 1].legend(loc=\"upper right\")\n",
        "axs[1, 1].tick_params(axis=\"x\",labelsize=12,rotation=90) \n",
        "axs[0, 1].tick_params(axis=\"x\",labelsize=12,rotation=90) \n",
        "axs[1, 1].tick_params(axis=\"x\",labelsize=12,rotation=90) \n",
        "axs[0, 0].tick_params(axis=\"x\",labelsize=12,rotation=90) \n",
        "plt.sca(axs[1, 0])\n",
        "plt.xticks(rotation=90,size=11)\n",
        "plt.sca(axs[1, 1])\n",
        "plt.xticks(rotation=90,size=11)\n",
        "\n",
        "#for ax in axs.flat:\n",
        "#    ax.set(xlabel='x-label', ylabel='y-label')\n",
        "\n",
        "fig.tight_layout()\n",
        "for ax in axs.flat:\n",
        "    ax.label_outer()\n",
        "#for ax in axs.flat:\n",
        "#    ax.set_xticklabels([])\n",
        "#    ax.set_yticklabels([])\n",
        "\n",
        "plt.subplots_adjust(wspace=0, hspace=0)\n",
        "\n",
        "fig.savefig(\"series.pdf\")   \n",
        "plt.show()"
      ],
      "metadata": {
        "colab": {
          "base_uri": "https://localhost:8080/",
          "height": 669
        },
        "id": "3uAhJi9GGqcc",
        "outputId": "dbdf11ad-5be6-4f57-e1f7-14a55e67cf65"
      },
      "execution_count": 78,
      "outputs": [
        {
          "output_type": "display_data",
          "data": {
            "text/plain": [
              "<Figure size 432x288 with 1 Axes>"
            ],
            "image/png": "[encoded data removed]"
          },
          "metadata": {}
        },
        {
          "output_type": "display_data",
          "data": {
            "text/plain": [
              "<Figure size 576x360 with 4 Axes>"
            ],
            "image/png": "[encoded data removed]"
          },
          "metadata": {}
        }
      ]
    },
    {
      "cell_type": "markdown",
      "source": [
        "# Un pronóstico persistente multiperiodo"
      ],
      "metadata": {
        "id": "zAb715eJZfTP"
      }
    },
    {
      "cell_type": "code",
      "source": [
        "#from numpy.lib.function_base import append\n",
        "def persistent(serie,n=1):\n",
        "    out=[]\n",
        "    for i in range(n):        \n",
        "        out.append(serie[len(serie)-1])\n",
        "    return(out)"
      ],
      "metadata": {
        "id": "qy00ObHKgeyC"
      },
      "execution_count": 79,
      "outputs": []
    },
    {
      "cell_type": "markdown",
      "source": [
        "# Preparamos cross-validation para pruebas\n",
        "\n",
        "Usaremos la metodología propuesta por Rob Hydman [cross-validation in time series](https://robjhyndman.com/hyndsight/tscv/#:~:text=Time%20series%20cross%2Dvalidation,used%20in%20constructing%20the%20forecast.\n",
        ")\n"
      ],
      "metadata": {
        "id": "HzBO6YghZoin"
      }
    },
    {
      "cell_type": "code",
      "source": [
        "## https://robjhyndman.com/hyndsight/tscv/#:~:text=Time%20series%20cross%2Dvalidation,used%20in%20constructing%20the%20forecast.\n",
        "## ... year 2000                                                                                                    year 2001\n",
        "## ... january···february···march···april···may···june···july···august···september···october···november···december···january···february···march···april···may···june···july···august···september···october···november\n",
        "##    |                                   |      |\n",
        "##    |<------------- train ------------->|<test>|\n",
        "##    |<-january·february···march···april->|<may>|\n",
        "##            |<-february···march···april···may->|<june>|\n",
        "##                      |<- march···april···may···june ->|<-july->|\n",
        "##                              |<- april···may···june···july->|<-august->|\n",
        "##                                     |<-- may···june···july···august->|<-september->|\n",
        "##                                             |<-june···july···august···september->|<-october->|\n",
        "##                                                    |<-july···august···september···october->|<-november->|\n",
        "##                                                           |<-august···september···october···november->|<-december->| ...\n",
        "\n",
        "## Extraemos la primera serie\n",
        "serie = df_5.SERIE1.tolist()\n",
        "equi  = int(len(serie)/23)\n",
        "\n",
        "## positions_test: guarga las posiciones tt y tf de cada k-folds\n",
        "start = 4 * equi\n",
        "positions_test = []\n",
        "for i in range(start,len(serie)-equi,equi):\n",
        "    positions_test.append((i-start,i,i+equi))\n",
        "print(positions_test)\n",
        "\n",
        "## Extraer las posiciones del inicio de los meses de la serie\n",
        "#for i in df_5['Data']:\n",
        "#    positions_test.append(i)\n",
        "#t_0=[0,]"
      ],
      "metadata": {
        "id": "iOJ9pmphcnqV",
        "colab": {
          "base_uri": "https://localhost:8080/"
        },
        "outputId": "5dc91291-7932-4f4a-a9df-5f4740382046"
      },
      "execution_count": 80,
      "outputs": [
        {
          "output_type": "stream",
          "name": "stdout",
          "text": [
            "[(0, 34892, 43615), (8723, 43615, 52338), (17446, 52338, 61061), (26169, 61061, 69784), (34892, 69784, 78507), (43615, 78507, 87230), (52338, 87230, 95953), (61061, 95953, 104676), (69784, 104676, 113399), (78507, 113399, 122122), (87230, 122122, 130845), (95953, 130845, 139568), (104676, 139568, 148291), (113399, 148291, 157014), (122122, 157014, 165737), (130845, 165737, 174460), (139568, 174460, 183183), (148291, 183183, 191906), (157014, 191906, 200629)]\n"
          ]
        }
      ]
    },
    {
      "cell_type": "markdown",
      "source": [
        "# Meta-función básica de pronóstico de un periodo (persistente)\n",
        "\n"
      ],
      "metadata": {
        "id": "Bt2p4gGLcsva"
      }
    },
    {
      "cell_type": "code",
      "source": [
        "# >>> provisional para pruebas internas (comentar)\n",
        "#positions_test= [(0, 34892, 34892)]\n",
        "positions_test= [(0, 34892, 34992), (8723, 43615, 43715), (17446, 52338, 52438)]\n",
        "positions_test= [(0, 34892, 43615), (8723, 43615, 52338), (17446, 52338, 61061)]\n",
        "positions_test= [(0, 34892, 35892)]"
      ],
      "metadata": {
        "id": "oFyvL1qYjah9"
      },
      "execution_count": 81,
      "outputs": []
    },
    {
      "cell_type": "code",
      "source": [
        "## ... time serie·time-serie·time-serie·time-serie·time-serie·time-serie·time-serie·time-serie·time-serie·time-serie·time-serie ...\n",
        "##                |                                               |           |       |\n",
        "##                |                                               |<---n_p--->|       |\n",
        "##                |<------------------ train -------------------->|<-------test------>|\n",
        "##                to                                              tt                 tf \n",
        "\n",
        "n_p = 1  ## Numero de periodos de pronóstico por paso\n",
        "\n",
        "forecast_ = []\n",
        "time_     = []\n",
        "for to,tt,tf in positions_test:\n",
        "    j=0\n",
        "    for i in range(tt,tf,n_p):\n",
        "        t_o = time.time()\n",
        "        forecast_=forecast_+persistent(serie[to+j:tt+j],n_p)\n",
        "        time_.append(time.time() - t_o)\n",
        "        j=j+n_p"
      ],
      "metadata": {
        "id": "t8g7sCWvckrw"
      },
      "execution_count": 82,
      "outputs": []
    },
    {
      "cell_type": "code",
      "source": [
        "test_ = []\n",
        "for to,tt,tf in positions_test:\n",
        "      test_ = test_+serie[tt:tf]\n",
        "print(len(forecast_))\n",
        "print(len(test_))"
      ],
      "metadata": {
        "colab": {
          "base_uri": "https://localhost:8080/"
        },
        "id": "fZHSFwckkZoJ",
        "outputId": "0974c13b-9f22-4f72-e1ae-76078c444d8f"
      },
      "execution_count": 83,
      "outputs": [
        {
          "output_type": "stream",
          "name": "stdout",
          "text": [
            "1000\n",
            "1000\n"
          ]
        }
      ]
    },
    {
      "cell_type": "code",
      "source": [
        "mae_p  = mean_absolute_error(test_,forecast_)\n",
        "mape_p = mean_absolute_percentage_error(test_,forecast_)\n",
        "bias_p = bias.bias(test_,forecast_)\n",
        "print('mae_p=',mae_p,'mape_p=',mape_p,'bias=',bias_p)"
      ],
      "metadata": {
        "id": "TPZT-ey8tSY0",
        "colab": {
          "base_uri": "https://localhost:8080/"
        },
        "outputId": "6080c87c-dc9a-4aca-937b-994df9a5e1ce"
      },
      "execution_count": 84,
      "outputs": [
        {
          "output_type": "stream",
          "name": "stdout",
          "text": [
            "mae_p= 28.467311334600005 mape_p= 0.004691733296842512 bias= 2.7098933594\n"
          ]
        }
      ]
    },
    {
      "cell_type": "markdown",
      "source": [
        "# Meta-función básica de n periodos (persistente)\n",
        "Se usan 30 periodos equivalentes a dos horas y media en intervalos de cinco minutos\n"
      ],
      "metadata": {
        "id": "h1KDNauA1VZm"
      }
    },
    {
      "cell_type": "code",
      "source": [
        "n_p = 30 ## Numero de periodos por salto\n",
        "forecast2_ = []\n",
        "time2_     = []\n",
        "for to,tt,tf in positions_test:\n",
        "    j=0\n",
        "    for i in range(tt,tf,n_p):\n",
        "        t_o = time.time()\n",
        "        forecast2_=forecast2_+persistent(serie[to+j:tt+j],n_p)\n",
        "        time2_.append(time.time() - t_o)\n",
        "        j=j+n_p\n",
        "    modu=(tf-tt)%n_p\n",
        "    if modu > 0:\n",
        "        forecast2_=forecast2_[0:(+modu-n_p)]\n",
        "            "
      ],
      "metadata": {
        "id": "hnnxqwMS1aet"
      },
      "execution_count": 85,
      "outputs": []
    },
    {
      "cell_type": "code",
      "source": [
        "print(len(forecast2_))\n",
        "print(len(test_))"
      ],
      "metadata": {
        "id": "mqavnWO32Hqz",
        "outputId": "ef8b68d6-c696-4797-815f-65b76862240c",
        "colab": {
          "base_uri": "https://localhost:8080/"
        }
      },
      "execution_count": 86,
      "outputs": [
        {
          "output_type": "stream",
          "name": "stdout",
          "text": [
            "1000\n",
            "1000\n"
          ]
        }
      ]
    },
    {
      "cell_type": "markdown",
      "source": [
        "## Gráficas"
      ],
      "metadata": {
        "id": "uiI_jXjy2Hfn"
      }
    },
    {
      "cell_type": "code",
      "source": [
        "fig, ax = plt.subplots()\n",
        "ax.plot(test_[0:35892])\n",
        "ax.plot(forecast_[0:35892])\n",
        "ax.plot(forecast2_[0:35892])\n",
        "ax.set(xlabel='time (5 min)', ylabel='demand (MW)')\n",
        "ax.grid()\n",
        "fig.savefig(\"test.pdf\")\n",
        "plt.show()"
      ],
      "metadata": {
        "id": "-GjtRaP845e2",
        "outputId": "a3db70de-30d3-4a8c-ec07-868ac3d161c0",
        "colab": {
          "base_uri": "https://localhost:8080/",
          "height": 285
        }
      },
      "execution_count": 102,
      "outputs": [
        {
          "output_type": "display_data",
          "data": {
            "text/plain": [
              "<Figure size 432x288 with 1 Axes>"
            ],
            "image/png": "[encoded data removed]"
          },
          "metadata": {}
        }
      ]
    },
    {
      "cell_type": "code",
      "source": [
        "mae_mp  = mean_absolute_error(test_,forecast2_)\n",
        "mape_mp = mean_absolute_percentage_error(test_,forecast2_)\n",
        "bias_mp  = bias.bias(test_,forecast2_)\n",
        "print('mae_mp=',mae_mp,'mape_mp=',mape_mp,'bias=',bias_mp)"
      ],
      "metadata": {
        "colab": {
          "base_uri": "https://localhost:8080/"
        },
        "id": "0jtzx-yvkeE1",
        "outputId": "d53431d3-e2e0-4884-f20b-c96e4eecac58"
      },
      "execution_count": 88,
      "outputs": [
        {
          "output_type": "stream",
          "name": "stdout",
          "text": [
            "mae_mp= 298.6442833156 mape_mp= 0.04979776939039199 bias= 42.70800693640008\n"
          ]
        }
      ]
    },
    {
      "cell_type": "markdown",
      "source": [
        "# Meta-función básica de pronóstico de un periodo (análogo)\n",
        "\n"
      ],
      "metadata": {
        "id": "plmnZ0dhaizG"
      }
    },
    {
      "cell_type": "code",
      "source": [
        "## ... time serie·time-serie·time-serie·time-serie·time-serie·time-serie·time-serie·time-serie·time-serie·time-serie·time-serie ...\n",
        "##                |                                               |           |       |\n",
        "##                |                                               |<---n_p--->|       |\n",
        "##                |<------------------ train -------------------->|<-------test------>|\n",
        "##                to                                              tt                 tf \n",
        "\n",
        "n_p = 1   ## Numero de periodos por salto\n",
        "forecast3_ = []\n",
        "forecast4_ = []\n",
        "time3_     = []\n",
        "n=0\n",
        "for to,tt,tf in positions_test:\n",
        "    j=0\n",
        "    nn=n\n",
        "    for i in range(tt,tf,n_p):\n",
        "        t_o = time.time()\n",
        "        ## Parámetros del método Análogo\n",
        "        vsele = 288 ## Número de periodos en una ventana\n",
        "        k     = 6   ## k:   número de vecinos mas cercanos\n",
        "        tol   = 0.8 ## tol: porcentaje de tolerancia de cercania entre vecinos\n",
        "        d = 'pearson'\n",
        "        m = 'OLSstep'\n",
        "        X_train = numpy.array(serie[to+j:tt+j])\n",
        "        pred_, t_sel_, t_reg_ = analogo_knn(X_train, vsele=vsele, k=k, tol=tol, typedist=d, typereg=m, verbose=False)\n",
        "        forecast3_ = forecast3_ + [pred_[0]]\n",
        "        if j >= 20 :\n",
        "            array1 = np.array(forecast3_[nn:-n_p])\n",
        "            array2 = np.array(serie[tt:tt+j])\n",
        "            epsilon = np.subtract(array1,array2)\n",
        "            ar = AutoReg(epsilon, lags=1).fit()           \n",
        "            delta = ar.forecast(1)\n",
        "            forecast4_ = forecast4_ + [pred_[0]- delta]\n",
        "        else:\n",
        "            forecast4_ = forecast3_\n",
        "        time3_.append(time.time() - t_o)\n",
        "        j=j+n_p\n",
        "        n=n+1\n",
        "    modu=(tf-tt)%n_p\n",
        "    if modu > 0:\n",
        "        forecast3_=forecast3_[0:(+modu-n_p)]\n",
        "        forecast4_=forecast4_[0:(+modu-n_p)]\n",
        "            "
      ],
      "metadata": {
        "id": "GkwIye0OaizG"
      },
      "execution_count": 89,
      "outputs": []
    },
    {
      "cell_type": "code",
      "source": [
        "print(len(forecast3_))\n",
        "print(len(forecast4_))"
      ],
      "metadata": {
        "colab": {
          "base_uri": "https://localhost:8080/"
        },
        "id": "b89AAnheHtKY",
        "outputId": "1c9e64cc-6c18-459f-9b8a-949fd1f6e744"
      },
      "execution_count": 90,
      "outputs": [
        {
          "output_type": "stream",
          "name": "stdout",
          "text": [
            "1000\n",
            "1000\n"
          ]
        }
      ]
    },
    {
      "cell_type": "code",
      "source": [
        "## Dibujamos un ejemplo de espacio análogo\n",
        "if False:\n",
        "    if False:\n",
        "        fig, ax = plt.subplots()\n",
        "        ax.legend(['First line', 'Second line'])\n",
        "        serie1=serie[positions[0]:positions[0]+2*vsele]\n",
        "        serie2=serie[positions[1]:positions[1]+2*vsele]\n",
        "        serie3=serie[positions[2]:positions[2]+2*vsele]\n",
        "        serie4=serie[positions[3]:positions[3]+2*vsele]\n",
        "        serie5=serie[positions[4]:positions[4]+2*vsele]\n",
        "        serie6=serie[positions[5]:positions[5]+2*vsele]\n",
        "        ax.plot(serie1, label='X$_1$')\n",
        "        ax.plot(serie2, label='X$_2$')\n",
        "        ax.plot(serie3, label='X$_3$')\n",
        "        ax.plot(serie4, label='X$_4$')\n",
        "        ax.plot(serie5, label='X$_5$')\n",
        "        ax.plot(serie6,label='X$_6$')\n",
        "        ax.plot(Y,label='Y', linewidth=3, color='r')   \n",
        "        c = np.concatenate((Y,prediction_Y2), axis=0)   \n",
        "        ax.plot(c, label='$Y\\'$', linewidth=3, color='r',linestyle='--')      \n",
        "        plt.legend()\n",
        "        plt.axvline(x = vsele,linestyle='-.') # '-', '--', '-.', ':',\n",
        "        ax.set(xlabel='time (5 min)', ylabel='demand (MW)') #title='High correlation windows'\n",
        "        ax.grid()\n",
        "        fig.savefig(\"test.png\")\n",
        "        plt.show()"
      ],
      "metadata": {
        "id": "tB-ryr_WzR9s"
      },
      "execution_count": 108,
      "outputs": []
    },
    {
      "cell_type": "code",
      "source": [
        "fig, ax = plt.subplots(figsize=(9,6))\n",
        "ax.plot(test_)\n",
        "ax.plot(forecast_ , label='Persistence')\n",
        "ax.plot(forecast3_, label='An Pearson+OLS')\n",
        "ax.plot(forecast4_, label='AnMA Pearson+OLS')\n",
        "\n",
        "ax.set(xlabel='time (5 min)', ylabel='demand (MW)')\n",
        "ax.grid()\n",
        "plt.legend()\n",
        "fig.savefig(\"test2.pdf\")\n",
        "plt.show()\n"
      ],
      "metadata": {
        "outputId": "dd9c36ca-1b5a-4232-c7d7-4946a3f8b225",
        "colab": {
          "base_uri": "https://localhost:8080/",
          "height": 449
        },
        "id": "I-xBdxtpqPWI"
      },
      "execution_count": 113,
      "outputs": [
        {
          "output_type": "stream",
          "name": "stderr",
          "text": [
            "/usr/local/lib/python3.7/dist-packages/numpy/core/shape_base.py:65: VisibleDeprecationWarning: Creating an ndarray from ragged nested sequences (which is a list-or-tuple of lists-or-tuples-or ndarrays with different lengths or shapes) is deprecated. If you meant to do this, you must specify 'dtype=object' when creating the ndarray.\n",
            "  ary = asanyarray(ary)\n"
          ]
        },
        {
          "output_type": "display_data",
          "data": {
            "text/plain": [
              "<Figure size 648x432 with 1 Axes>"
            ],
            "image/png": "[encoded data removed]"
          },
          "metadata": {}
        }
      ]
    },
    {
      "cell_type": "code",
      "source": [
        "mae_p  = mean_absolute_error(test_[500:1000],forecast_[500:1000])\n",
        "mape_p = mean_absolute_percentage_error(test_[500:1000],forecast_[500:1000])\n",
        "bias_p = bias.bias(test_[500:1000],forecast_[500:1000])\n",
        "print('mae_p=',mae_p,'mape_p=',mape_p,'bias=',bias_p)"
      ],
      "metadata": {
        "colab": {
          "base_uri": "https://localhost:8080/"
        },
        "id": "q_L6tT-tfLKr",
        "outputId": "7da168d3-1dfd-4efd-b2ec-bd64e7982698"
      },
      "execution_count": 118,
      "outputs": [
        {
          "output_type": "stream",
          "name": "stdout",
          "text": [
            "mae_p= 30.33824044239998 mape_p= 0.00478666342384267 bias= -1.8666705079999992\n"
          ]
        }
      ]
    },
    {
      "cell_type": "code",
      "source": [
        "mae_a  = mean_absolute_error(test_[500:1000],forecast3_[500:1000])\n",
        "mape_a = mean_absolute_percentage_error(test_[500:1000],forecast3_[500:1000])\n",
        "bias_a  = bias.bias(test_[500:1000],forecast3_[500:1000])\n",
        "print('mae_a=',mae_a,'mape_a=',mape_a,'bias_a=',bias_a)"
      ],
      "metadata": {
        "colab": {
          "base_uri": "https://localhost:8080/"
        },
        "outputId": "5cb9b29f-1a44-43c7-8fc7-fca275a89490",
        "id": "24ulU9rKlYb5"
      },
      "execution_count": 119,
      "outputs": [
        {
          "output_type": "stream",
          "name": "stdout",
          "text": [
            "mae_a= 65.90024011412905 mape_a= 0.01072126993187304 bias_a= -0.00633356860488675\n"
          ]
        }
      ]
    },
    {
      "cell_type": "code",
      "source": [
        "mae_ma  = mean_absolute_error(test_[500:1000],forecast4_[500:1000])\n",
        "mape_ma = mean_absolute_percentage_error(test_[500:1000],forecast4_[500:1000])\n",
        "bias_ma  = bias.bias(test_[500:1000],forecast4_[500:1000])\n",
        "print('mae_ma=',mae_ma,'mape_ma=',mape_ma,'bias_ma=',bias_ma)"
      ],
      "metadata": {
        "colab": {
          "base_uri": "https://localhost:8080/"
        },
        "id": "67W4rxQzPfxn",
        "outputId": "9c9153a9-1c7a-461a-955f-42a537dee5f1"
      },
      "execution_count": 121,
      "outputs": [
        {
          "output_type": "stream",
          "name": "stdout",
          "text": [
            "mae_ma= 23.57973009539216 mape_ma= 0.0037776624934251885 bias_ma= [ 1530.52436199  1501.58627619  1418.95004579  1399.20444039\n",
            "  1379.65297559  1360.09701859  1264.17543619  1222.49701839\n",
            "  1192.84516299  1159.81947939  1122.67279979  1098.99789739\n",
            "  1047.66088559  1014.65863939   937.63442079   898.91459659\n",
            "   856.22514339   795.67602219   732.63080739   673.55043659\n",
            "   562.10688159   465.30805339   414.71235039   327.26215499\n",
            "   247.79565119   184.15209659   115.35326819    28.67660819\n",
            "   -40.62085281  -102.55884081  -198.38657541  -334.74673141\n",
            "  -397.86645821  -501.79604801  -563.03921201  -639.71938801\n",
            "  -722.90444661  -789.75044261  -813.77192701  -873.79223961\n",
            "  -949.07055961 -1011.49888001 -1046.55034521 -1080.62524741\n",
            " -1094.92446601 -1133.11977841 -1166.52055981 -1182.13149721\n",
            " -1231.60493481 -1250.74985661 -1249.87827461 -1252.43667301\n",
            " -1267.88296201 -1295.31362621 -1278.68579421 -1257.56518881\n",
            " -1267.59477821 -1306.03013041 -1266.88266921 -1250.98774701\n",
            " -1276.25679021 -1288.27759101 -1294.21196581 -1294.70708321\n",
            " -1310.72446601 -1302.26880181 -1316.91284521 -1325.75942701\n",
            " -1325.94116541 -1317.22954421 -1327.94272741 -1344.40395841\n",
            " -1344.64487601 -1353.48696601 -1340.81958321 -1342.84087221\n",
            " -1357.65239541 -1354.71753241 -1361.29077461 -1359.02807921\n",
            " -1349.36372381 -1329.10141921 -1343.47612621 -1334.17993501\n",
            " -1327.50591121 -1346.42612621 -1327.46108721 -1304.44321601\n",
            " -1312.45561821 -1304.07876281 -1288.52348941 -1274.28432941\n",
            " -1233.97153621 -1224.24536441 -1180.48862621 -1167.15366541\n",
            " -1154.63784501 -1127.88237621 -1077.41899721 -1049.32505201\n",
            " -1034.40063801 -1014.51470041  -994.11763001  -994.69165361\n",
            "  -937.03930981  -839.81167301  -770.87983721  -721.56597001\n",
            "  -663.66958321  -624.61255201  -550.66763021  -498.15278641\n",
            "  -446.29321601  -409.09653621  -379.44565761  -440.75405601\n",
            "  -458.37407521  -411.80317701  -376.98813801  -375.42485661\n",
            "  -353.46167321  -308.52915361  -285.07378221  -290.14966141\n",
            "  -255.87065741  -211.92114601  -216.89223961  -184.54966141\n",
            "  -145.57768861   -85.51704441   -60.62837221    -2.65347001\n",
            "    45.33949859    40.68539719    41.48578779    69.80082679\n",
            "    92.31606139    83.62670559   100.12485019   103.12377639\n",
            "   157.20844419   213.68354179   232.76996759   223.99027999\n",
            "   226.68744799   246.92201839   314.28383499   336.69828779\n",
            "   335.92787759   375.39565119   391.98276039   412.26225259\n",
            "   384.42631519   395.73119799   417.89233079   457.27035819\n",
            "   478.61703799   493.47787799   510.07240899   522.61850259\n",
            "   553.73666659   576.54623699   555.97699879   546.26342439\n",
            "   544.83061199   577.22836599   582.55824879   586.57856119\n",
            "   607.55619799   592.24203799   569.30131499   593.87485039\n",
            "   603.35580739   611.87055359   614.40180359   617.56371759\n",
            "   608.20922539   621.36967459   654.72699859   662.63578779\n",
            "   682.33305359   660.27309259   667.75658879   672.46430359\n",
            "   712.78988939   669.46469419   659.38520179   657.81342459\n",
            "   640.12201819   640.44506519   666.38705739   665.73735059\n",
            "   645.11615879   671.51244819   678.86957699   659.20151059\n",
            "   667.27602219   665.68803399   642.53881539   618.43725259\n",
            "   627.47211599   642.35014319   630.48969419   620.93334639\n",
            "   626.97533859   641.26527999   657.66625659   650.15444039\n",
            "   636.49486979   607.15854179   604.15981119   606.23559279\n",
            "   596.76899099   572.66567079   607.86137379   600.44652979\n",
            "   619.00932299   620.80287779   635.63422539   639.26781919\n",
            "   654.41654959   651.26498719   642.04809259   627.34721339\n",
            "   584.10443999   595.91742839   623.07504579   620.27123719\n",
            "   637.66078779   615.62514319   625.99477219   624.69369819\n",
            "   625.85610039   593.94067059   573.35131519   551.88119779\n",
            "   559.35053399   551.27963559   537.56274119   543.63041679\n",
            "   521.13686199   523.22192059   490.57338539   497.99301459\n",
            "   492.83656899   510.89838559   489.35219419   466.15844419\n",
            "   441.46879559   424.29682299   427.35024119   426.86410819\n",
            "   450.37992859   409.85492839   397.76039739   387.24027999\n",
            "   412.53705739   413.64623679   382.88754559   355.23764359\n",
            "   366.33354199   365.32592459   366.42865899   378.51264339\n",
            "   349.86791679   395.41137379   431.10238959   450.11772159\n",
            "   507.13979199   563.29360039   577.58686199   668.97553419\n",
            "   734.65727239   815.19242839   955.59828779  1138.85151059\n",
            "  1300.37699879  1432.96205719  1488.33070959  1581.94262379\n",
            "  1618.98315139  1646.04555339  1663.90854179  1679.56020199\n",
            "  1608.37348319  1619.31391299  1623.17641299  1565.94340499\n",
            "  1548.64740899  1568.80111999  1503.34760419  1468.57563159\n",
            "  1472.06156919  1443.64076859  1383.47992839  1340.19975239\n",
            "  1305.91039719  1276.07963559  1223.42338539  1203.93940099\n",
            "  1157.29672559  1123.72319039  1051.11000639   988.46195959\n",
            "   946.88578799   866.39008459   802.00844399   730.28227219\n",
            "   633.59584659   488.51274099   389.98344419   349.40824859\n",
            "   274.12953779   234.16723299   148.28188179    87.62514319\n",
            "    42.68266299   -55.93432921  -162.36411461  -237.89780601\n",
            "  -277.20893861  -377.10737621  -463.10845041  -527.58999341\n",
            "  -574.76997401  -576.92856781  -586.83120421  -625.88950501\n",
            "  -682.59097001  -751.18716121  -789.04292301  -850.38413381\n",
            "  -900.70971981  -926.99243481  -921.28716121  -945.68589181\n",
            "  -993.52427081 -1039.97983701 -1067.13091121 -1111.53852841\n",
            " -1095.67036441 -1109.63735661 -1138.23882181 -1122.77485661\n",
            " -1118.91870461 -1140.81470041 -1149.59302061 -1185.97261041\n",
            " -1191.82925101 -1193.25845041 -1224.79223941 -1220.81782541\n",
            " -1233.10376261 -1248.74477881 -1259.17231741 -1256.21255181\n",
            " -1256.63335281 -1281.19507161 -1277.27817701 -1274.81870421\n",
            " -1253.69087221 -1234.68511061 -1239.09292321 -1240.88374321\n",
            " -1248.82446601 -1251.33657541 -1286.32202461 -1273.26323561\n",
            " -1264.19780581 -1228.39966141 -1228.86548161 -1221.46313801\n",
            " -1245.10845041 -1224.16743481 -1209.57886041 -1231.11743481\n",
            " -1211.14165361 -1191.90932941 -1189.55874341 -1170.32495421\n",
            " -1169.39184881 -1140.73110661 -1094.84858701 -1054.22026681\n",
            " -1004.45190721 -1004.65679021  -977.70093101  -979.57827481\n",
            "  -909.47407541  -884.03149721  -861.62241521  -855.38403641\n",
            "  -917.34604801  -893.73833301  -833.96997381  -746.56587221\n",
            "  -665.44780601  -623.79302061  -556.51391901  -505.96196581\n",
            "  -500.66509101  -449.71050121  -444.43413421  -502.63130201\n",
            "  -576.44575521  -572.26186841  -550.13188801  -518.87690721\n",
            "  -505.88755201  -441.59702461  -464.37192701  -414.67016901\n",
            "  -424.44722001  -379.91059881  -350.71470061  -324.25180961\n",
            "  -260.03305961  -192.10620441  -161.78677081  -177.65737601\n",
            "  -148.88471961   -73.22427081   -32.16929021   -83.79419261\n",
            "   -49.55464161   -39.09497361   -34.17749341    -7.84780581\n",
            "    46.85014319    72.51361999   113.74985059   181.63266279\n",
            "   217.26518239   254.60776059   264.16235059   281.07006499\n",
            "   315.64750659   340.73070999   377.82358079   372.88539719\n",
            "   402.42758479   343.80580739   372.42953779   405.89916699\n",
            "   419.96127639   452.43266319   470.46049479   471.16752619\n",
            "   498.83178419   491.09301439   532.64985059   556.62543619\n",
            "   603.13168619   625.63520199   642.88227219   639.63979179\n",
            "   667.59701839   669.12289719   652.31420579   663.56371739\n",
            "   691.64662739   707.43217459   711.89838559   675.23637359\n",
            "   681.73334639   703.40444019   713.00307299   694.17455739\n",
            "   700.85375679   686.67992859   661.98403019   669.50551439\n",
            "   678.64750659   692.10063179   710.28988959   683.36840499\n",
            "   648.43793639   622.57348299   680.34721379   683.57533879\n",
            "   710.89662779   689.83139339   696.48373699   646.50717459\n",
            "   633.39955759   649.26928399   655.53158859   672.45365899\n",
            "   629.11635419   626.67836619   654.31947919   609.95893239\n",
            "   637.66000679   635.93754559   646.68774099   669.65893239\n",
            "   622.66586599   614.21410799   593.19994799   578.65502619]\n"
          ]
        }
      ]
    }
  ]
}
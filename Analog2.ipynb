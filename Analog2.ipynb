{
  "nbformat": 4,
  "nbformat_minor": 0,
  "metadata": {
    "colab": {
      "name": "Analog.ipynb",
      "provenance": [],
      "toc_visible": true,
      "include_colab_link": true
    },
    "kernelspec": {
      "name": "python3",
      "display_name": "Python 3"
    },
    "language_info": {
      "name": "python"
    }
  },
  "cells": [
    {
      "cell_type": "markdown",
      "metadata": {
        "id": "view-in-github",
        "colab_type": "text"
      },
      "source": [
        "<a href=\"https://colab.research.google.com/github/urieliram/statistical/blob/main/Analog2.ipynb\" target=\"_parent\"><img src=\"https://colab.research.google.com/assets/colab-badge.svg\" alt=\"Open In Colab\"/></a>"
      ]
    },
    {
      "cell_type": "code",
      "execution_count": 1,
      "metadata": {
        "id": "JboE4Y4YndQq",
        "colab": {
          "base_uri": "https://localhost:8080/"
        },
        "outputId": "fc619bb0-d7c2-42a1-d92d-4955ba6d8cdb"
      },
      "outputs": [
        {
          "output_type": "stream",
          "name": "stdout",
          "text": [
            "Looking in indexes: https://pypi.org/simple, https://us-python.pkg.dev/colab-wheels/public/simple/\n",
            "Collecting dtw-python\n",
            "  Downloading dtw_python-1.1.12-cp37-cp37m-manylinux2010_x86_64.whl (580 kB)\n",
            "\u001b[K     |████████████████████████████████| 580 kB 18.3 MB/s \n",
            "\u001b[?25hRequirement already satisfied: scipy>=1.1 in /usr/local/lib/python3.7/dist-packages (from dtw-python) (1.4.1)\n",
            "Requirement already satisfied: numpy>=1.19 in /usr/local/lib/python3.7/dist-packages (from dtw-python) (1.21.6)\n",
            "Installing collected packages: dtw-python\n",
            "Successfully installed dtw-python-1.1.12\n"
          ]
        }
      ],
      "source": [
        "pip install dtw-python"
      ]
    },
    {
      "cell_type": "code",
      "source": [
        "pip install dtreeviz"
      ],
      "metadata": {
        "id": "BNS7utNCMGwZ",
        "colab": {
          "base_uri": "https://localhost:8080/"
        },
        "outputId": "71ecaf4a-fa8e-456f-e12e-75702cbebd37"
      },
      "execution_count": 2,
      "outputs": [
        {
          "output_type": "stream",
          "name": "stdout",
          "text": [
            "Looking in indexes: https://pypi.org/simple, https://us-python.pkg.dev/colab-wheels/public/simple/\n",
            "Collecting dtreeviz\n",
            "  Downloading dtreeviz-1.3.6.tar.gz (61 kB)\n",
            "\u001b[K     |████████████████████████████████| 61 kB 180 kB/s \n",
            "\u001b[?25hRequirement already satisfied: graphviz>=0.9 in /usr/local/lib/python3.7/dist-packages (from dtreeviz) (0.10.1)\n",
            "Requirement already satisfied: pandas in /usr/local/lib/python3.7/dist-packages (from dtreeviz) (1.3.5)\n",
            "Requirement already satisfied: numpy in /usr/local/lib/python3.7/dist-packages (from dtreeviz) (1.21.6)\n",
            "Requirement already satisfied: scikit-learn in /usr/local/lib/python3.7/dist-packages (from dtreeviz) (1.0.2)\n",
            "Requirement already satisfied: matplotlib in /usr/local/lib/python3.7/dist-packages (from dtreeviz) (3.2.2)\n",
            "Collecting colour\n",
            "  Downloading colour-0.1.5-py2.py3-none-any.whl (23 kB)\n",
            "Requirement already satisfied: pytest in /usr/local/lib/python3.7/dist-packages (from dtreeviz) (3.6.4)\n",
            "Requirement already satisfied: python-dateutil>=2.1 in /usr/local/lib/python3.7/dist-packages (from matplotlib->dtreeviz) (2.8.2)\n",
            "Requirement already satisfied: cycler>=0.10 in /usr/local/lib/python3.7/dist-packages (from matplotlib->dtreeviz) (0.11.0)\n",
            "Requirement already satisfied: pyparsing!=2.0.4,!=2.1.2,!=2.1.6,>=2.0.1 in /usr/local/lib/python3.7/dist-packages (from matplotlib->dtreeviz) (3.0.9)\n",
            "Requirement already satisfied: kiwisolver>=1.0.1 in /usr/local/lib/python3.7/dist-packages (from matplotlib->dtreeviz) (1.4.2)\n",
            "Requirement already satisfied: typing-extensions in /usr/local/lib/python3.7/dist-packages (from kiwisolver>=1.0.1->matplotlib->dtreeviz) (4.2.0)\n",
            "Requirement already satisfied: six>=1.5 in /usr/local/lib/python3.7/dist-packages (from python-dateutil>=2.1->matplotlib->dtreeviz) (1.15.0)\n",
            "Requirement already satisfied: pytz>=2017.3 in /usr/local/lib/python3.7/dist-packages (from pandas->dtreeviz) (2022.1)\n",
            "Requirement already satisfied: more-itertools>=4.0.0 in /usr/local/lib/python3.7/dist-packages (from pytest->dtreeviz) (8.13.0)\n",
            "Requirement already satisfied: setuptools in /usr/local/lib/python3.7/dist-packages (from pytest->dtreeviz) (57.4.0)\n",
            "Requirement already satisfied: pluggy<0.8,>=0.5 in /usr/local/lib/python3.7/dist-packages (from pytest->dtreeviz) (0.7.1)\n",
            "Requirement already satisfied: atomicwrites>=1.0 in /usr/local/lib/python3.7/dist-packages (from pytest->dtreeviz) (1.4.0)\n",
            "Requirement already satisfied: attrs>=17.4.0 in /usr/local/lib/python3.7/dist-packages (from pytest->dtreeviz) (21.4.0)\n",
            "Requirement already satisfied: py>=1.5.0 in /usr/local/lib/python3.7/dist-packages (from pytest->dtreeviz) (1.11.0)\n",
            "Requirement already satisfied: joblib>=0.11 in /usr/local/lib/python3.7/dist-packages (from scikit-learn->dtreeviz) (1.1.0)\n",
            "Requirement already satisfied: scipy>=1.1.0 in /usr/local/lib/python3.7/dist-packages (from scikit-learn->dtreeviz) (1.4.1)\n",
            "Requirement already satisfied: threadpoolctl>=2.0.0 in /usr/local/lib/python3.7/dist-packages (from scikit-learn->dtreeviz) (3.1.0)\n",
            "Building wheels for collected packages: dtreeviz\n",
            "  Building wheel for dtreeviz (setup.py) ... \u001b[?25l\u001b[?25hdone\n",
            "  Created wheel for dtreeviz: filename=dtreeviz-1.3.6-py3-none-any.whl size=67326 sha256=98df07525c1c4be717d5979f552c7a7f4b177e2a1d598d6d3ff5533a7bcdf593\n",
            "  Stored in directory: /root/.cache/pip/wheels/33/76/fe/99227ff871766e7284bb88d3d28e2f4886b8ec04d669033478\n",
            "Successfully built dtreeviz\n",
            "Installing collected packages: colour, dtreeviz\n",
            "Successfully installed colour-0.1.5 dtreeviz-1.3.6\n"
          ]
        }
      ]
    },
    {
      "cell_type": "code",
      "source": [
        "import time\n",
        "import timeit\n",
        "import pandas as pd\n",
        "import numpy as np\n",
        "import matplotlib.pyplot as plt\n",
        "import seaborn as sns\n",
        "import math\n",
        "import statsmodels.api as sm\n",
        "from statsmodels.graphics.tsaplots import plot_acf,plot_pacf\n",
        "from statsmodels.tsa.arima_model import ARIMA\n",
        "from sklearn.preprocessing import StandardScaler\n",
        "from sklearn.model_selection import train_test_split, GridSearchCV\n",
        "from sklearn.cluster import MiniBatchKMeans, KMeans\n",
        "from sklearn.neighbors import NearestNeighbors, KNeighborsClassifier\n",
        "from sklearn.linear_model import LinearRegression, RidgeCV, LassoCV, ElasticNetCV, LarsCV, Lasso, Ridge, BayesianRidge, LinearRegression\n",
        "from sklearn.metrics import mean_absolute_error,mean_squared_error,mean_absolute_percentage_error\n",
        "from sklearn.metrics.pairwise import pairwise_distances_argmin\n",
        "from sklearn.ensemble import RandomForestRegressor, GradientBoostingRegressor, VotingRegressor, AdaBoostRegressor, BaggingRegressor\n",
        "from sklearn.cross_decomposition import PLSRegression\n",
        "from sklearn.decomposition import PCA\n",
        "from sklearn.pipeline import make_pipeline\n",
        "from math import sqrt\n",
        "from dtw import *\n",
        "from scipy import stats\n",
        "import statsmodels.tools.eval_measures as bias\n",
        "%matplotlib inline\n",
        "\n",
        "sns.set_theme(style=\"white\")"
      ],
      "metadata": {
        "id": "DuC_OkW4nm78"
      },
      "execution_count": 39,
      "outputs": []
    },
    {
      "cell_type": "code",
      "source": [
        "#https://drive.google.com/drive/folders/1Gj3XK9kM-lE18uBMe3qrZOGEm8yAI8i9\n",
        "#https://www.codegrepper.com/code-examples/python/how+to+read+csv+file+from+google+drive+on+google+colab+\n",
        "path        = 'https://drive.google.com/uc?export=download&id=' \n",
        "URL_Demanda = 'https://drive.google.com/file/d/1xcpXDTE7H6EBMLOkic5lq-lzSwiLG2ZS/view?usp=sharing'\n",
        "\n",
        "df_Demanda  = pd.read_csv(path + URL_Demanda .split('/')[-2], usecols=[0] ) #names=['CLVUNI','TYPE','NODE'], usecols=[1,2,3,4,5,6,], 1,2,3,4,5,6,7,8,9,10,11,12,13,15,\n",
        "df_Demanda.dropna(inplace=True)\n",
        "serie = df_Demanda.to_numpy()\n",
        "serie = StandardScaler().fit_transform(serie)\n",
        "serie = serie.ravel()  ## Con esto quitamos el bracket o corchete en cada uno de los elementos del arreglo"
      ],
      "metadata": {
        "id": "7RW90yl-nu87"
      },
      "execution_count": 4,
      "outputs": []
    },
    {
      "cell_type": "code",
      "source": [
        "def trunc(values, decs=0):\n",
        "    return np.trunc(values*10**decs)/(10**decs)"
      ],
      "metadata": {
        "id": "EcNqmPCJP_yS"
      },
      "execution_count": 5,
      "outputs": []
    },
    {
      "cell_type": "code",
      "source": [
        "CYAN = '#76ced6' ; LILA = '#777bd4'; VERDE='#17cb49'; NARA='#ff8000'; AZUL='#168fff'; OTROAZUL = \"b-\"; ROJO= \"r-\"; MAGE=\"FF00FF\";\n",
        "def print_serie2(serie_,prototipo_,title_,ytitle_,xtitle_,sizex_=8,sizey_=5,namefile_='fig_t16_serie.png'):\n",
        "    fig, ax1 = plt.subplots(figsize=(sizex_,sizey_))\n",
        "    plt.title(title_,fontsize='x-large',color=NARA)\n",
        "    ax1.set_xlabel(xtitle_, color=NARA, fontsize='large')\n",
        "    ax1.set_ylabel(ytitle_, color=NARA, fontsize='large')\n",
        "    plt.tick_params(colors = NARA, which='both')\n",
        "    ax1.spines['bottom'].set_color(NARA)\n",
        "    ax1.spines['top'   ].set_color(NARA) \n",
        "    ax1.spines['right' ].set_color(NARA)\n",
        "    ax1.spines['left'  ].set_color(NARA)\n",
        "    if len(prototipo_) != 0: \n",
        "        plt.plot(prototipo_,alpha=0.6, linestyle='dashed', color='red', linewidth=3)\n",
        "    for p in serie_:\n",
        "        plt.plot(p,alpha=0.3, linewidth=2)    \n",
        "    plt.savefig(namefile_, transparent=True)         \n",
        "    plt.show()"
      ],
      "metadata": {
        "id": "9cnF4RJ6no8V"
      },
      "execution_count": 6,
      "outputs": []
    },
    {
      "cell_type": "code",
      "source": [
        "## Preparamos la información para graficar la importancia y las posiciones en Random Forest Regressor\n",
        "def print_importances(model_,labels_,namefile_):\n",
        "    i=0\n",
        "    labels = [str(x) for x in labels_]\n",
        "    labels_importances = []\n",
        "    for feature in model_.feature_importances_:\n",
        "        labels_importances.append((feature,labels[i]))\n",
        "        i=i+1   \n",
        "    labels_importances.sort(key=lambda tup: tup[0], reverse=False)\n",
        "    importances = []\n",
        "    labels      = []\n",
        "    for tup in labels_importances:\n",
        "        importances.append(tup[0])\n",
        "        labels.append(tup[1])\n",
        "    fig, ax = plt.subplots()\n",
        "    y_pos = np.arange(len(importances))\n",
        "    ax.set_yticks(ticks=y_pos)\n",
        "    ax.barh(labels, importances, align='center',color=CYAN)\n",
        "    ax.invert_yaxis()\n",
        "    ax.set_xlabel('Importancia', color=NARA, fontsize='large')\n",
        "    ax.set_ylabel('Variable', color=NARA, fontsize='large')\n",
        "    ax.set_title( 'Importancia de las variables del bosque aleatorio', color=NARA, fontsize='large')    \n",
        "    plt.tick_params(colors = NARA, which='both')\n",
        "    ax.spines['bottom'].set_color(NARA)\n",
        "    ax.spines['top'   ].set_color(NARA) \n",
        "    ax.spines['right' ].set_color(NARA)\n",
        "    ax.spines['left'  ].set_color(NARA)\n",
        "    plt.savefig(namefile_, transparent=True)   \n",
        "    plt.show()"
      ],
      "metadata": {
        "id": "Ofhg0JCdoR-v"
      },
      "execution_count": 7,
      "outputs": []
    },
    {
      "cell_type": "code",
      "source": [
        "def OLSstep(X, Y, X_2, pi_step_=0.001,verbose_=False):\n",
        "    model   = sm.OLS(Y, X)\n",
        "    results = model.fit()\n",
        "    prediction_Y2 = results.predict(X_2)\n",
        "\n",
        "    ## Ordenamos los valores 'pi' y se selecciona el más grande.\n",
        "    i = 0\n",
        "    pvalues = []\n",
        "    for pi in results.pvalues:\n",
        "        pvalues.append((i,pi))\n",
        "        i = i + 1\n",
        "    pvalues.sort(key=lambda tup: tup[1], reverse=True) ## Ordenamos por 'pi'\n",
        "    (i, pi) = pvalues[0]  \n",
        "\n",
        "    while pi > pi:\n",
        "        X   = sm.add_constant(X)\n",
        "        X_2 = sm.add_constant(X_2)   \n",
        "        if verbose_==True:\n",
        "            print('Retiramos regresor ---> X' + str(i))\n",
        "        X   = np.delete(arr=X,   obj=i+0, axis=1)\n",
        "        X_2 = np.delete(arr=X_2, obj=i+0, axis=1)   \n",
        "        model   = sm.OLS(Y, X)\n",
        "        results = model.fit()\n",
        "\n",
        "        ## Ordenamos los valores 'pi' y se selecciona el más grande\n",
        "        i = 0\n",
        "        pvalues = []\n",
        "        for pi in results.pvalues:\n",
        "            pvalues.append((i,pi))\n",
        "            i = i + 1\n",
        "        pvalues.sort(key=lambda tup: tup[1], reverse=True) ## Ordenamos por 'pi'\n",
        "        (i, pi) = pvalues[0]\n",
        "        #prediction   = results.predict(X)   ## Ajuste\n",
        "        prediction_Y2 = results.predict(X_2) ## Pronóstico\n",
        "    if len(prediction_Y2) == 0:      \n",
        "        if verbose_==True:\n",
        "            print('>>> Warning, no variable was significant in the regression.')\n",
        "        model   = sm.OLS(Y, X)\n",
        "        results = model.fit()\n",
        "        prediction_Y2 = results.predict(X_2)\n",
        "        \n",
        "    if verbose_==True:\n",
        "        print(results.summary())\n",
        "    return prediction_Y2   "
      ],
      "metadata": {
        "id": "Ls5XHfg-e5Gr"
      },
      "execution_count": 8,
      "outputs": []
    },
    {
      "cell_type": "code",
      "source": [
        "def RF(X, Y, X_2,labels_,typedist_,verbose_=False):\n",
        "    model         = RandomForestRegressor(random_state=42)\n",
        "    results       = model.fit(X, Y)\n",
        "    prediction_Y2 = results.predict(X_2)\n",
        "    if verbose_==True:\n",
        "        print_importances(model_=model,labels_=labels_,namefile_='fig_t16_importance_'+typedist_+'_'+'RF')\n",
        "        print('Parámetros utilizados RF')\n",
        "        print(\"bootstrap:         {}\".format(model.bootstrap))\n",
        "        print(\"n_estimators:      {}\".format(model.n_estimators))\n",
        "        print(\"max_features:      {}\".format(model.max_features))\n",
        "        print(\"max_depth:         {}\".format(model.max_depth))\n",
        "        print(\"min_samples_leaf:  {}\".format(model.min_samples_leaf))\n",
        "        print(\"min_samples_split: {}\".format(model.min_samples_split))\n",
        "    return prediction_Y2   "
      ],
      "metadata": {
        "id": "V7yMHMCWkvqS"
      },
      "execution_count": 9,
      "outputs": []
    },
    {
      "cell_type": "code",
      "source": [
        "def AutoRF(X, Y, X_2,labels_,typedist_,verbose_=False):\n",
        "## https://towardsdatascience.com/hyperparameter-tuning-the-random-forest-in-python-using-scikit-learn-28d2aa77dd74\n",
        "    #nestlist = []\n",
        "    #for i in range(10, 320, 50):\n",
        "    #    nestlist.append(i)\n",
        "    #param_grid = { \n",
        "    #'bootstrap': [True, False],\n",
        "    #'n_estimators': nestlist,\n",
        "    #'max_features': ['auto', 'sqrt', 'log2'],\n",
        "    #'max_depth' : [10, 20, 30, 40, 50, 60, 70, 80, 90, 100, None],\n",
        "    #'min_samples_leaf': [1, 2, 4],\n",
        "    #'min_samples_split': [2, 5, 10],}\n",
        "    nestlist = []\n",
        "    for i in range(10, 320, 50):\n",
        "        nestlist.append(i)\n",
        "    param_grid = { \n",
        "        'bootstrap': [True, False],\n",
        "        'n_estimators': nestlist,\n",
        "        'max_features': ['auto', 'sqrt',],\n",
        "        'max_depth' : [10, 20, None]}\n",
        "\n",
        "    model = RandomForestRegressor(random_state=42)\n",
        "    clf   = GridSearchCV(estimator=model, param_grid=param_grid, cv=5).fit(X, Y)\n",
        "    model         = clf.best_estimator_\n",
        "    results       = model.fit(X, Y)\n",
        "    prediction_Y2 = results.predict(X_2)\n",
        "\n",
        "    if verbose_==True:\n",
        "        print_importances(model_=model,labels_=labels_,namefile_='fig_t16_importance_'+typedist_+'_'+'AutoRF')\n",
        "        print('Parameters used')\n",
        "        print(\"bootstrap:         {}\".format(model.bootstrap))\n",
        "        print(\"n_estimators:      {}\".format(model.n_estimators))\n",
        "        print(\"max_features:      {}\".format(model.max_features))\n",
        "        print(\"max_depth:         {}\".format(model.max_depth))\n",
        "        print(\"min_samples_leaf:  {}\".format(model.min_samples_leaf))\n",
        "        print(\"min_samples_split: {}\".format(model.min_samples_split))        \n",
        "    return prediction_Y2   "
      ],
      "metadata": {
        "id": "Sh3JVQq6ln4P"
      },
      "execution_count": 10,
      "outputs": []
    },
    {
      "cell_type": "code",
      "source": [
        "def Boosting(X, Y, X_2,typedist_,verbose_=False):\n",
        "    model         = GradientBoostingRegressor(random_state=42,)\n",
        "    results       = model.fit(X, Y)\n",
        "    prediction_Y2 = results.predict(X_2)\n",
        "    return prediction_Y2 "
      ],
      "metadata": {
        "id": "D8tPs-3mU4dA"
      },
      "execution_count": 11,
      "outputs": []
    },
    {
      "cell_type": "code",
      "source": [
        "def Bagging(X, Y, X_2,typedist_,verbose_=False):\n",
        "    model         = BaggingRegressor(random_state=42,)\n",
        "    results       = model.fit(X, Y)\n",
        "    prediction_Y2 = results.predict(X_2)\n",
        "    return prediction_Y2   "
      ],
      "metadata": {
        "id": "n49EThjiXHCa"
      },
      "execution_count": 12,
      "outputs": []
    },
    {
      "cell_type": "code",
      "source": [
        "def AdaBoost(X, Y, X_2,typedist_,verbose_=False):\n",
        "    model         = AdaBoostRegressor(random_state=42,)\n",
        "    results       = model.fit(X, Y)\n",
        "    prediction_Y2 = results.predict(X_2)\n",
        "    return prediction_Y2 "
      ],
      "metadata": {
        "id": "XxzvQPysXiIC"
      },
      "execution_count": 13,
      "outputs": []
    },
    {
      "cell_type": "code",
      "source": [
        "def LinearReg(X, Y, X_2,typedist_,verbose_=False):\n",
        "    model         = LinearRegression()\n",
        "    results       = model.fit(X, Y)\n",
        "    prediction_Y2 = results.predict(X_2)\n",
        "    return prediction_Y2   "
      ],
      "metadata": {
        "id": "eWHrx7dVXYra"
      },
      "execution_count": 14,
      "outputs": []
    },
    {
      "cell_type": "code",
      "source": [
        "def BayesRidge(X, Y, X_2,typedist_,verbose_=False):\n",
        "    model         = BayesianRidge(compute_score=True)\n",
        "    results       = model.fit(X, Y)\n",
        "    prediction_Y2 = results.predict(X_2) \n",
        "    return prediction_Y2   "
      ],
      "metadata": {
        "id": "eBWFLGGLVLXR"
      },
      "execution_count": 15,
      "outputs": []
    },
    {
      "cell_type": "code",
      "source": [
        "def LassoReg(X, Y, X_2,typedist_,verbose_=True):\n",
        "    model         = Lasso(alpha=0.1)\n",
        "    results       = model.fit(X, Y)\n",
        "    prediction_Y2 = results.predict(X_2)\n",
        "    return prediction_Y2  "
      ],
      "metadata": {
        "id": "lNUZVyZvXvVu"
      },
      "execution_count": 16,
      "outputs": []
    },
    {
      "cell_type": "code",
      "source": [
        "def RidgeReg(X, Y, X_2,typedist_,verbose_=False):\n",
        "    model         = Ridge(alpha=0.1)\n",
        "    results       = model.fit(X, Y)\n",
        "    prediction_Y2 = results.predict(X_2)\n",
        "    return prediction_Y2   "
      ],
      "metadata": {
        "id": "H2ahc9j2VXLy"
      },
      "execution_count": 17,
      "outputs": []
    },
    {
      "cell_type": "code",
      "source": [
        "def PLS(X, Y, X_2,n_components,typedist_,verbose_=False):\n",
        "    model         = PLSRegression(n_components=n_components)\n",
        "    results       = model.fit(X, Y)\n",
        "    prediction_Y2 = results.predict(X_2)\n",
        "    return prediction_Y2"
      ],
      "metadata": {
        "id": "BpVkXFJXxViD"
      },
      "execution_count": 18,
      "outputs": []
    },
    {
      "cell_type": "code",
      "source": [
        "def PCR(X, Y, X_2,n_components,typedist_,verbose_=False):\n",
        "## https://scikit-learn.org/stable/auto_examples/cross_decomposition/plot_pcr_vs_pls.html\n",
        "    model         = make_pipeline(PCA(n_components=n_components), LinearRegression())\n",
        "    results       = model.fit(X, Y)\n",
        "    prediction_Y2 = results.predict(X_2)\n",
        "    return prediction_Y2   "
      ],
      "metadata": {
        "id": "PrmmGibK48oj"
      },
      "execution_count": 19,
      "outputs": []
    },
    {
      "cell_type": "code",
      "source": [
        "def VotingEnsemble(X, Y, X_2,verbose_=False):  \n",
        "    ## https://scikit-learn.org/stable/auto_examples/ensemble/plot_voting_regressor.html#sphx-glr-auto-examples-ensemble-plot-voting-regressor-py\n",
        "    gb  = GradientBoostingRegressor(random_state=42)\n",
        "    rf  = RandomForestRegressor(random_state=42)\n",
        "    br  = BaggingRegressor(random_state=42)\n",
        "    ab  = AdaBoostRegressor(random_state=42)\n",
        "    gb.fit(X, Y)\n",
        "    rf.fit(X, Y)\n",
        "    br.fit(X, Y)\n",
        "    ab.fit(X, Y)\n",
        "    voting = VotingRegressor([(\"gb\",gb), (\"rf\",rf), (\"br\",br), (\"ab\",ab)]) #\n",
        "    voting.fit(X, Y)\n",
        "    prediction_Y2 = voting.predict(X_2)    \n",
        "    if verbose_ == True:\n",
        "        predgb  = gb.predict(X_2)\n",
        "        predrf  = rf.predict(X_2)\n",
        "        predbr  = br.predict(X_2)  \n",
        "        predab  = ab.predict(X_2) \n",
        "        ## https://matplotlib.org/3.5.0/api/_as_gen/matplotlib.pyplot.plot.html Markers, Line styles ,Colors\n",
        "        fig, ax = plt.subplots(figsize=(19,10))\n",
        "        plt.plot(predgb,  \"md\" , label=\"GradientBoostingRegressor\") ## go- rs \n",
        "        plt.plot(predrf,  \"b^\" , label=\"RandomForestRegressor\")\n",
        "        plt.plot(predbr,  \"go-\", label=\"BaggingRegressor\")\n",
        "        plt.plot(predab,  \"kD\" , label=\"AdaBoostRegressor\")\n",
        "        plt.plot(prediction_Y2, \"r*\", ms=10, label=\"VotingEnsemble\")\n",
        "        plt.tick_params(axis=\"x\", which=\"both\", bottom=False, top=False, labelbottom=False)\n",
        "        plt.ylabel(\"demanda estandarizada\", color=NARA, fontsize='large')\n",
        "        plt.xlabel(\"training samples\", color=NARA, fontsize='large')\n",
        "        plt.legend(loc=\"best\")\n",
        "        plt.title(\"Pronósticos de ensambles y su promedio\", color=NARA, fontsize='large')\n",
        "        plt.tick_params(colors = NARA, which='both')\n",
        "        ax.spines['bottom'].set_color(NARA)\n",
        "        ax.spines['top'   ].set_color(NARA) \n",
        "        ax.spines['right' ].set_color(NARA)\n",
        "        ax.spines['left'  ].set_color(NARA)\n",
        "        plt.savefig(\"fig_t16_VotingEnsemble\", transparent=True) \n",
        "        plt.show()\n",
        "    return prediction_Y2   "
      ],
      "metadata": {
        "id": "UFQb6V2fYha7"
      },
      "execution_count": 20,
      "outputs": []
    },
    {
      "cell_type": "code",
      "source": [
        "def VotingLinear(X, Y, X_2,verbose_=False):  \n",
        "    ## https://scikit-learn.org/stable/auto_examples/ensemble/plot_voting_regressor.html#sphx-glr-auto-examples-ensemble-plot-voting-regressor-py\n",
        "    pl = PLSRegression(n_components=1)\n",
        "    lr = LinearRegression()\n",
        "    ri = Ridge(alpha=0.1)\n",
        "    la = Lasso(alpha=0.1)    \n",
        "    pc = make_pipeline(PCA(n_components=1), LinearRegression())\n",
        "    pl.fit(X, Y)\n",
        "    lr.fit(X, Y)\n",
        "    ri.fit(X, Y)\n",
        "    la.fit(X, Y)\n",
        "    pc.fit(X, Y)\n",
        "    voting = VotingRegressor([(\"lr\",lr),(\"ri\",ri),(\"la\",la),(\"pc\",pc)]) #,(\"pl\",pl)\n",
        "    voting.fit(X, Y)\n",
        "    prediction_Y2 = voting.predict(X_2)    \n",
        "    if verbose_ == True:\n",
        "        predpl = pl.predict(X_2)\n",
        "        predlr = lr.predict(X_2)\n",
        "        predri = ri.predict(X_2)\n",
        "        predla = la.predict(X_2)\n",
        "        predpc = pc.predict(X_2)\n",
        "        ## https://matplotlib.org/3.5.0/api/_as_gen/matplotlib.pyplot.plot.html Markers, Line styles ,Colors\n",
        "        fig, ax = plt.subplots(figsize=(17,9))\n",
        "        plt.plot(predpl,  \"md\" , label=\"PLSRegression\")\n",
        "        plt.plot(predlr,  \"b^\" , label=\"LinearRegression\")\n",
        "        plt.plot(predri,  \"go-\", label=\"Ridge\")\n",
        "        plt.plot(predla,  \"ys\" , label=\"Lasso\")\n",
        "        plt.plot(predpc,  \"cs\" , label=\"PCR\")\n",
        "        plt.plot(prediction_Y2, \"r*\", ms=10, label=\"VotingLinear\")\n",
        "        plt.tick_params(axis=\"x\", which=\"both\", bottom=False, top=False, labelbottom=False)\n",
        "        plt.ylabel(\"demanda estandarizada\", color=NARA, fontsize='large')\n",
        "        plt.xlabel(\"training samples\", color=NARA, fontsize='large')\n",
        "        plt.legend(loc=\"best\")\n",
        "        plt.title(\"Pronósticos lineales y su promedio\", color=NARA, fontsize='large')\n",
        "        plt.tick_params(colors = NARA, which='both')\n",
        "        ax.spines['bottom'].set_color(NARA)\n",
        "        ax.spines['top'   ].set_color(NARA) \n",
        "        ax.spines['right' ].set_color(NARA)\n",
        "        ax.spines['left'  ].set_color(NARA)\n",
        "        plt.savefig(\"fig_t16_VotingLinear\", transparent=True) \n",
        "        plt.show()\n",
        "    return prediction_Y2   "
      ],
      "metadata": {
        "id": "EDO3mPUv3wf5"
      },
      "execution_count": 21,
      "outputs": []
    },
    {
      "cell_type": "code",
      "source": [
        "## Calcula distancia euclidiana\n",
        "def euclidean(neig1, neig2):\n",
        "\t  distance = 0.0\n",
        "\t  for i in range(len(neig1)):\n",
        "\t\t    distance += (neig1[i] - neig2[i])**2\n",
        "\t  return sqrt(distance)"
      ],
      "metadata": {
        "id": "yY6yd0WJBr7f"
      },
      "execution_count": 22,
      "outputs": []
    },
    {
      "cell_type": "code",
      "source": [
        "def analogo_knn(serie,vsele,k=10,tol=0.8,n_components=3,typedist='pearson',typereg='OLS',verbose=False):    \n",
        "#    vsele      : Tamanio de la ventana de selección\n",
        "#    k          : Número de vecinos a buscar k\n",
        "#    tol        : Tolerancia de tamaño de ventanas para seleccion de vecinos\n",
        "#    typedist   : medida de distancia, 'euclidian' o 'pearson' o 'dtw' \n",
        "\n",
        "    t_o = time.time()\n",
        "    n = len(serie) ## longitud total de la serie\n",
        "\n",
        "    ## PASO 1: Selección de las ventanas de mayor correlación.\n",
        "\n",
        "    ## Calculamos la distancia entre todos los vecinos.\n",
        "    distances = []\n",
        "    Y = serie[n-vsele:n]           ## últimos datos\n",
        "    for i in range(n-2*vsele):                              \n",
        "        if  typedist == 'dtw':     ## dynamic time warping\n",
        "            dist = dtw(Y, serie[i:i+vsele]).distance  \n",
        "        elif typedist == 'euclidian':\n",
        "            dist = euclidean(Y,serie[i:i+vsele])\n",
        "        else:\n",
        "            dist = np.corrcoef(Y,serie[i:i+vsele])[1,0]\n",
        "        if dist > 0:\n",
        "            distances.append((i, dist))\n",
        "        \n",
        "    ## Calculamos el vecindario por distancia de menor a mayor y se guardan las posiciones.\n",
        "    if typedist == 'pearson':\n",
        "        ## En caso de pearson se ordena al revés, nos interesan los mayor correlación.\n",
        "        distances.sort(key=lambda tup: tup[1], reverse=True)\n",
        "    else:\n",
        "        ## En caso de pearson se ordena al revés, nos interesan los de menor distancia.\n",
        "        distances.sort(key=lambda tup: tup[1], reverse=False)\n",
        "\n",
        "    neighbors  = []\n",
        "    neighbors2 = []\n",
        "    positions  = []\n",
        "\n",
        "    ## Calculamos los k vecinos mas cercanos y guardamos las posiciones.\n",
        "    i = 0\n",
        "    for pos, dis in distances:\n",
        "        if i==0:      \n",
        "            positions.append(pos)   \n",
        "            neighbors.append(serie[pos:pos+vsele])\n",
        "            neighbors2.append(serie[pos+vsele:pos+2*vsele])  \n",
        "        else:\n",
        "            bandera = True\n",
        "            for p in positions:\n",
        "                 ## si ya teniamos una posición en la lista que pase la tolerancia, ya no la guardamos \n",
        "                if (abs(pos - p) < tol*vsele):\n",
        "                    bandera = False\n",
        "                    i = i - 1\n",
        "                    break\n",
        "            if bandera == True:\n",
        "                ## Guarda nuevo vecino\n",
        "                positions.append(pos)   \n",
        "                neighbors.append(serie[pos:pos+vsele])\n",
        "                neighbors2.append(serie[pos+vsele:pos+2*vsele])  \n",
        "                bandera = False\n",
        "        i = i + 1\n",
        "        if i == k:\n",
        "            break\n",
        "    if verbose==True:\n",
        "        print('positions KNN:', positions) ## posición de los k vecinos mas cercanos\n",
        "\n",
        "    neighbors  = np.array(neighbors)  \n",
        "    neighbors2 = np.array(neighbors2)    \n",
        "    vacia = []\n",
        "    if verbose==True:\n",
        "        print_serie2(neighbors,Y,'Selección con KNN:'+typedist,'demanda','time',8,5,'fig_t16_X_'+typedist+'_'+typereg)\n",
        "\n",
        "    t_sel = time.time() - t_o\n",
        "\n",
        "    ## PASO 2: Regresión entre los vecinos mas cercanos 'X' y la última ventana 'Y'\n",
        "\n",
        "    ## Definimos nuestros regresores   \n",
        "    X   = (neighbors.T).tolist()\n",
        "    X_2 = (neighbors2.T).tolist()\n",
        "    Y   = (Y).tolist()\n",
        "    prediction_Y2 = []\n",
        "\n",
        "    ## -- Random forest regression --\n",
        "    if typereg == 'RF':\n",
        "        prediction_Y2 = RF(X,Y,X_2,labels_=positions,typedist_=typedist,verbose_=verbose)\n",
        "\n",
        "    ## -- OLS with Stepwise --\n",
        "    if typereg == 'OLSstep':\n",
        "        prediction_Y2 = OLSstep(X,Y,X_2, pi_step_=0.001,verbose_=verbose)\n",
        "\n",
        "    ## -- Gradiant boosting regression --\n",
        "    if typereg == 'Boosting':\n",
        "        prediction_Y2 = Boosting(X, Y, X_2,typedist_=typedist,verbose_=verbose)   \n",
        "\n",
        "    ## -- Bagging regression --\n",
        "    if typereg == 'Bagging':\n",
        "        prediction_Y2 = Bagging(X, Y, X_2,typedist_=typedist,verbose_=verbose)   \n",
        "\n",
        "    ## -- Linear regression --\n",
        "    if typereg == 'LinearReg':\n",
        "        prediction_Y2 = LinearReg(X, Y, X_2,typedist_=typedist,verbose_=verbose)   \n",
        "\n",
        "    ## -- Ada boosting --\n",
        "    if typereg == 'AdaBoost':\n",
        "        prediction_Y2 = AdaBoost(X, Y, X_2,typedist_=typedist,verbose_=verbose)  \n",
        "\n",
        "    ## -- Bayesian Ridge --\n",
        "    if typereg == 'BayesRidge':\n",
        "        prediction_Y2 = BayesRidge(X, Y, X_2,typedist_=typedist,verbose_=verbose)  \n",
        "\n",
        "    ## -- Lasso regression --\n",
        "    if typereg == 'LassoReg':\n",
        "        prediction_Y2 = LassoReg(X, Y, X_2,typedist_=typedist,verbose_=verbose)   \n",
        "\n",
        "    ## -- Ridge regression --\n",
        "    if typereg == 'RidgeReg':\n",
        "        prediction_Y2 = RidgeReg(X, Y, X_2,typedist_=typedist,verbose_=verbose)\n",
        "\n",
        "    ## -- PLS Regression --\n",
        "    if typereg == 'PLS':\n",
        "        prediction_Y2 = PLS(X, Y, X_2,n_components=n_components,typedist_=typedist,verbose_=verbose)\n",
        "\n",
        "    ## -- PCA Regression --\n",
        "    if typereg == 'PCR':\n",
        "        prediction_Y2 = PCR(X, Y, X_2,n_components=n_components,typedist_=typedist,verbose_=verbose)\n",
        "\n",
        "    ## -- Voting regression with ensemble models -- \n",
        "    if typereg == 'VotingEnsemble':\n",
        "        prediction_Y2 = VotingEnsemble(X,Y,X_2,verbose_=verbose)\n",
        "\n",
        "    ## -- Voting regression with linear model -- \n",
        "    if typereg == 'VotingLinear':\n",
        "        prediction_Y2 = VotingLinear(X,Y,X_2,verbose_=verbose)\n",
        "        \n",
        "    ## -- Random forrest regression with GridSearchCV--\n",
        "    if typereg == 'AutoRF':\n",
        "        prediction_Y2 = AutoRF(X, Y, X_2,labels_=positions,typedist_=typedist,verbose_=verbose)        \n",
        "\n",
        "    if verbose==True:\n",
        "        print_serie2(neighbors2,prediction_Y2, 'Pronóstico - ' + typedist+' - ' + typereg ,'Demanda','Tiempo',8,5,'fig_t16_Y2_'+typedist+'_'+typereg)\n",
        "\n",
        "    t_reg = time.time() - t_sel - t_o\n",
        "    if typedist=='pearson':\n",
        "      t_sel =2.2038\n",
        "    if typedist=='euclidian':\n",
        "      t_sel =23.4583\n",
        "\n",
        "    return prediction_Y2, t_sel, t_reg"
      ],
      "metadata": {
        "id": "yz9CDOHQnx0j"
      },
      "execution_count": 23,
      "outputs": []
    },
    {
      "cell_type": "code",
      "source": [
        "## ... (time serie) ... window.window.window.window.window.window.window.window.window.window.window.\n",
        "##                                           |                                               |       |\n",
        "##                                           |                                               |       |\n",
        "##                                           |<------------------ vsele -------------------->|<vpred>|\n",
        "##                                                       (selection and regression)        (prediction)\n",
        "##                                                                                                 \n",
        "##|<---------------------------------------- train ----------------------------------------->| <test>|\n",
        "\n",
        "## Parámetros del método Análogo\n",
        "periods       = 288       ## Número de periodos en una ventana\n",
        "periods_sele  = 7         ## Número de ventanas de selección\n",
        "periods_pred  = 6         ## Número de ventanas de pronóstico\n",
        "\n",
        "vsele = periods * periods_sele ## Número de periodos para selección\n",
        "vpred = periods * periods_pred ## Número de periodos para pronóstico\n",
        "\n",
        "k   = 6   ## k:   número de vecinos mas cercanos\n",
        "tol = 0.8 ## tol: porcentaje de tolerancia de cercania entre ventanas\n",
        "\n",
        "## Dibujamos la ventana de histórico y los datos de prueba  \n",
        "series = []; vacia = []; n = 2\n",
        "series.append(serie[len(serie)-n*vsele : len(serie)-vsele+vpred])\n",
        "series.append(serie[len(serie)-n*vsele : len(serie)-vsele])\n",
        "print_serie2(serie_=series,prototipo_=vacia , title_='Serie de demanda eléctrica', ytitle_='Demanda (estandarizada)',xtitle_='Tiempo', sizex_=20, sizey_=6, namefile_='fig_t15_demanda')\n",
        "\n",
        "## Definimos la ventana de prueba y entrenamiento\n",
        "X_train = serie[0 : len(serie) - vpred]\n",
        "y_test  = serie[len(serie) - vpred : len(serie)]\n",
        "\n",
        "## Guardamos todos los resultados aquí\n",
        "dferror = pd.DataFrame(columns=['distance','regression','MAE','MAPE','timesel','timereg'])\n",
        "\n",
        "## Bandera que activa todos los pronósticos\n",
        "debug  = 0\n",
        "active = 0"
      ],
      "metadata": {
        "id": "WapmM09KUQBE",
        "colab": {
          "base_uri": "https://localhost:8080/",
          "height": 415
        },
        "outputId": "9c616af4-b5bb-4230-da8e-d98b740d8f4c"
      },
      "execution_count": 24,
      "outputs": [
        {
          "output_type": "display_data",
          "data": {
            "text/plain": [
              "<Figure size 1440x432 with 1 Axes>"
            ],
            "image/png": "[encoded data removed]"
          },
          "metadata": {}
        }
      ]
    },
    {
      "cell_type": "code",
      "source": [
        "distances = ['pearson', 'euclidian']\n",
        "methods = ['RF', 'OLSstep', 'Boosting', 'Bagging', 'LinearReg', 'AdaBoost', 'LassoReg', 'RidgeReg', 'PLS', 'PCR', 'VotingEnsemble', 'VotingLinear'] # AutoRF, 'BayesRidge'\n",
        "preds = []\n",
        "for d in distances:\n",
        "  for m in methods:\n",
        "    pred_, t_sel_, t_reg_ = analogo_knn(X_train, vsele=vsele, k=k, tol=tol, typedist=d, typereg=m, verbose=False)\n",
        "    preds.append({\n",
        "        'distance' : d,\n",
        "        'method' : m,\n",
        "        'y_cap' : pred_\n",
        "    })\n",
        "    mae_  = mean_absolute_error(y_test, pred_[0:vpred])\n",
        "    mape_ = mean_absolute_percentage_error(y_test,pred_[0:vpred])\n",
        "    dferror.loc[dferror.shape[0]] = [d, m, mae_, mape_,t_sel_,t_reg_]\n",
        "preds = pd.DataFrame(preds)"
      ],
      "metadata": {
        "id": "NvfOAP9itrtE"
      },
      "execution_count": 25,
      "outputs": []
    },
    {
      "cell_type": "code",
      "source": [
        "display(dferror.head())\n",
        "display(preds.head())"
      ],
      "metadata": {
        "id": "iDpjPK_j7lxr",
        "outputId": "6c64db6b-24b7-4f4e-e880-0acead39ceb7",
        "colab": {
          "base_uri": "https://localhost:8080/",
          "height": 395
        }
      },
      "execution_count": 26,
      "outputs": [
        {
          "output_type": "display_data",
          "data": {
            "text/plain": [
              "  distance regression       MAE      MAPE  timesel   timereg\n",
              "0  pearson         RF  0.607161  2.995270   2.2038  1.887793\n",
              "1  pearson    OLSstep  0.566529  4.664495   2.2038  0.038972\n",
              "2  pearson   Boosting  0.650646  4.545101   2.2038  1.338296\n",
              "3  pearson    Bagging  0.623723  4.324531   2.2038  0.165844\n",
              "4  pearson  LinearReg  0.709961  5.086081   2.2038  0.046824"
            ],
            "text/html": [
              "\n",
              "  <div id=\"df-6ed53bc0-6a8c-4604-bddc-79637445f59c\">\n",
              "    <div class=\"colab-df-container\">\n",
              "      <div>\n",
              "<style scoped>\n",
              "    .dataframe tbody tr th:only-of-type {\n",
              "        vertical-align: middle;\n",
              "    }\n",
              "\n",
              "    .dataframe tbody tr th {\n",
              "        vertical-align: top;\n",
              "    }\n",
              "\n",
              "    .dataframe thead th {\n",
              "        text-align: right;\n",
              "    }\n",
              "</style>\n",
              "<table border=\"1\" class=\"dataframe\">\n",
              "  <thead>\n",
              "    <tr style=\"text-align: right;\">\n",
              "      <th></th>\n",
              "      <th>distance</th>\n",
              "      <th>regression</th>\n",
              "      <th>MAE</th>\n",
              "      <th>MAPE</th>\n",
              "      <th>timesel</th>\n",
              "      <th>timereg</th>\n",
              "    </tr>\n",
              "  </thead>\n",
              "  <tbody>\n",
              "    <tr>\n",
              "      <th>0</th>\n",
              "      <td>pearson</td>\n",
              "      <td>RF</td>\n",
              "      <td>0.607161</td>\n",
              "      <td>2.995270</td>\n",
              "      <td>2.2038</td>\n",
              "      <td>1.887793</td>\n",
              "    </tr>\n",
              "    <tr>\n",
              "      <th>1</th>\n",
              "      <td>pearson</td>\n",
              "      <td>OLSstep</td>\n",
              "      <td>0.566529</td>\n",
              "      <td>4.664495</td>\n",
              "      <td>2.2038</td>\n",
              "      <td>0.038972</td>\n",
              "    </tr>\n",
              "    <tr>\n",
              "      <th>2</th>\n",
              "      <td>pearson</td>\n",
              "      <td>Boosting</td>\n",
              "      <td>0.650646</td>\n",
              "      <td>4.545101</td>\n",
              "      <td>2.2038</td>\n",
              "      <td>1.338296</td>\n",
              "    </tr>\n",
              "    <tr>\n",
              "      <th>3</th>\n",
              "      <td>pearson</td>\n",
              "      <td>Bagging</td>\n",
              "      <td>0.623723</td>\n",
              "      <td>4.324531</td>\n",
              "      <td>2.2038</td>\n",
              "      <td>0.165844</td>\n",
              "    </tr>\n",
              "    <tr>\n",
              "      <th>4</th>\n",
              "      <td>pearson</td>\n",
              "      <td>LinearReg</td>\n",
              "      <td>0.709961</td>\n",
              "      <td>5.086081</td>\n",
              "      <td>2.2038</td>\n",
              "      <td>0.046824</td>\n",
              "    </tr>\n",
              "  </tbody>\n",
              "</table>\n",
              "</div>\n",
              "      <button class=\"colab-df-convert\" onclick=\"convertToInteractive('df-6ed53bc0-6a8c-4604-bddc-79637445f59c')\"\n",
              "              title=\"Convert this dataframe to an interactive table.\"\n",
              "              style=\"display:none;\">\n",
              "        \n",
              "  <svg xmlns=\"http://www.w3.org/2000/svg\" height=\"24px\"viewBox=\"0 0 24 24\"\n",
              "       width=\"24px\">\n",
              "    <path d=\"M0 0h24v24H0V0z\" fill=\"none\"/>\n",
              "    <path d=\"M18.56 5.44l.94 2.06.94-2.06 2.06-.94-2.06-.94-.94-2.06-.94 2.06-2.06.94zm-11 1L8.5 8.5l.94-2.06 2.06-.94-2.06-.94L8.5 2.5l-.94 2.06-2.06.94zm10 10l.94 2.06.94-2.06 2.06-.94-2.06-.94-.94-2.06-.94 2.06-2.06.94z\"/><path d=\"M17.41 7.96l-1.37-1.37c-.4-.4-.92-.59-1.43-.59-.52 0-1.04.2-1.43.59L10.3 9.45l-7.72 7.72c-.78.78-.78 2.05 0 2.83L4 21.41c.39.39.9.59 1.41.59.51 0 1.02-.2 1.41-.59l7.78-7.78 2.81-2.81c.8-.78.8-2.07 0-2.86zM5.41 20L4 18.59l7.72-7.72 1.47 1.35L5.41 20z\"/>\n",
              "  </svg>\n",
              "      </button>\n",
              "      \n",
              "  <style>\n",
              "    .colab-df-container {\n",
              "      display:flex;\n",
              "      flex-wrap:wrap;\n",
              "      gap: 12px;\n",
              "    }\n",
              "\n",
              "    .colab-df-convert {\n",
              "      background-color: #E8F0FE;\n",
              "      border: none;\n",
              "      border-radius: 50%;\n",
              "      cursor: pointer;\n",
              "      display: none;\n",
              "      fill: #1967D2;\n",
              "      height: 32px;\n",
              "      padding: 0 0 0 0;\n",
              "      width: 32px;\n",
              "    }\n",
              "\n",
              "    .colab-df-convert:hover {\n",
              "      background-color: #E2EBFA;\n",
              "      box-shadow: 0px 1px 2px rgba(60, 64, 67, 0.3), 0px 1px 3px 1px rgba(60, 64, 67, 0.15);\n",
              "      fill: #174EA6;\n",
              "    }\n",
              "\n",
              "    [theme=dark] .colab-df-convert {\n",
              "      background-color: #3B4455;\n",
              "      fill: #D2E3FC;\n",
              "    }\n",
              "\n",
              "    [theme=dark] .colab-df-convert:hover {\n",
              "      background-color: #434B5C;\n",
              "      box-shadow: 0px 1px 3px 1px rgba(0, 0, 0, 0.15);\n",
              "      filter: drop-shadow(0px 1px 2px rgba(0, 0, 0, 0.3));\n",
              "      fill: #FFFFFF;\n",
              "    }\n",
              "  </style>\n",
              "\n",
              "      <script>\n",
              "        const buttonEl =\n",
              "          document.querySelector('#df-6ed53bc0-6a8c-4604-bddc-79637445f59c button.colab-df-convert');\n",
              "        buttonEl.style.display =\n",
              "          google.colab.kernel.accessAllowed ? 'block' : 'none';\n",
              "\n",
              "        async function convertToInteractive(key) {\n",
              "          const element = document.querySelector('#df-6ed53bc0-6a8c-4604-bddc-79637445f59c');\n",
              "          const dataTable =\n",
              "            await google.colab.kernel.invokeFunction('convertToInteractive',\n",
              "                                                     [key], {});\n",
              "          if (!dataTable) return;\n",
              "\n",
              "          const docLinkHtml = 'Like what you see? Visit the ' +\n",
              "            '<a target=\"_blank\" href=https://colab.research.google.com/notebooks/data_table.ipynb>data table notebook</a>'\n",
              "            + ' to learn more about interactive tables.';\n",
              "          element.innerHTML = '';\n",
              "          dataTable['output_type'] = 'display_data';\n",
              "          await google.colab.output.renderOutput(dataTable, element);\n",
              "          const docLink = document.createElement('div');\n",
              "          docLink.innerHTML = docLinkHtml;\n",
              "          element.appendChild(docLink);\n",
              "        }\n",
              "      </script>\n",
              "    </div>\n",
              "  </div>\n",
              "  "
            ]
          },
          "metadata": {}
        },
        {
          "output_type": "display_data",
          "data": {
            "text/plain": [
              "  distance     method                                              y_cap\n",
              "0  pearson         RF  [0.7198790130142813, 0.7850893354576197, 0.794...\n",
              "1  pearson    OLSstep  [1.0329320055067173, 1.0364155104015234, 1.033...\n",
              "2  pearson   Boosting  [0.8438952850420077, 0.8898122375832502, 0.948...\n",
              "3  pearson    Bagging  [0.6543726077235097, 0.8039340693718053, 0.792...\n",
              "4  pearson  LinearReg  [1.0031858464638397, 1.0057258610100523, 0.999..."
            ],
            "text/html": [
              "\n",
              "  <div id=\"df-3f24172c-f3b8-429a-9d94-1f5238e40a6a\">\n",
              "    <div class=\"colab-df-container\">\n",
              "      <div>\n",
              "<style scoped>\n",
              "    .dataframe tbody tr th:only-of-type {\n",
              "        vertical-align: middle;\n",
              "    }\n",
              "\n",
              "    .dataframe tbody tr th {\n",
              "        vertical-align: top;\n",
              "    }\n",
              "\n",
              "    .dataframe thead th {\n",
              "        text-align: right;\n",
              "    }\n",
              "</style>\n",
              "<table border=\"1\" class=\"dataframe\">\n",
              "  <thead>\n",
              "    <tr style=\"text-align: right;\">\n",
              "      <th></th>\n",
              "      <th>distance</th>\n",
              "      <th>method</th>\n",
              "      <th>y_cap</th>\n",
              "    </tr>\n",
              "  </thead>\n",
              "  <tbody>\n",
              "    <tr>\n",
              "      <th>0</th>\n",
              "      <td>pearson</td>\n",
              "      <td>RF</td>\n",
              "      <td>[0.7198790130142813, 0.7850893354576197, 0.794...</td>\n",
              "    </tr>\n",
              "    <tr>\n",
              "      <th>1</th>\n",
              "      <td>pearson</td>\n",
              "      <td>OLSstep</td>\n",
              "      <td>[1.0329320055067173, 1.0364155104015234, 1.033...</td>\n",
              "    </tr>\n",
              "    <tr>\n",
              "      <th>2</th>\n",
              "      <td>pearson</td>\n",
              "      <td>Boosting</td>\n",
              "      <td>[0.8438952850420077, 0.8898122375832502, 0.948...</td>\n",
              "    </tr>\n",
              "    <tr>\n",
              "      <th>3</th>\n",
              "      <td>pearson</td>\n",
              "      <td>Bagging</td>\n",
              "      <td>[0.6543726077235097, 0.8039340693718053, 0.792...</td>\n",
              "    </tr>\n",
              "    <tr>\n",
              "      <th>4</th>\n",
              "      <td>pearson</td>\n",
              "      <td>LinearReg</td>\n",
              "      <td>[1.0031858464638397, 1.0057258610100523, 0.999...</td>\n",
              "    </tr>\n",
              "  </tbody>\n",
              "</table>\n",
              "</div>\n",
              "      <button class=\"colab-df-convert\" onclick=\"convertToInteractive('df-3f24172c-f3b8-429a-9d94-1f5238e40a6a')\"\n",
              "              title=\"Convert this dataframe to an interactive table.\"\n",
              "              style=\"display:none;\">\n",
              "        \n",
              "  <svg xmlns=\"http://www.w3.org/2000/svg\" height=\"24px\"viewBox=\"0 0 24 24\"\n",
              "       width=\"24px\">\n",
              "    <path d=\"M0 0h24v24H0V0z\" fill=\"none\"/>\n",
              "    <path d=\"M18.56 5.44l.94 2.06.94-2.06 2.06-.94-2.06-.94-.94-2.06-.94 2.06-2.06.94zm-11 1L8.5 8.5l.94-2.06 2.06-.94-2.06-.94L8.5 2.5l-.94 2.06-2.06.94zm10 10l.94 2.06.94-2.06 2.06-.94-2.06-.94-.94-2.06-.94 2.06-2.06.94z\"/><path d=\"M17.41 7.96l-1.37-1.37c-.4-.4-.92-.59-1.43-.59-.52 0-1.04.2-1.43.59L10.3 9.45l-7.72 7.72c-.78.78-.78 2.05 0 2.83L4 21.41c.39.39.9.59 1.41.59.51 0 1.02-.2 1.41-.59l7.78-7.78 2.81-2.81c.8-.78.8-2.07 0-2.86zM5.41 20L4 18.59l7.72-7.72 1.47 1.35L5.41 20z\"/>\n",
              "  </svg>\n",
              "      </button>\n",
              "      \n",
              "  <style>\n",
              "    .colab-df-container {\n",
              "      display:flex;\n",
              "      flex-wrap:wrap;\n",
              "      gap: 12px;\n",
              "    }\n",
              "\n",
              "    .colab-df-convert {\n",
              "      background-color: #E8F0FE;\n",
              "      border: none;\n",
              "      border-radius: 50%;\n",
              "      cursor: pointer;\n",
              "      display: none;\n",
              "      fill: #1967D2;\n",
              "      height: 32px;\n",
              "      padding: 0 0 0 0;\n",
              "      width: 32px;\n",
              "    }\n",
              "\n",
              "    .colab-df-convert:hover {\n",
              "      background-color: #E2EBFA;\n",
              "      box-shadow: 0px 1px 2px rgba(60, 64, 67, 0.3), 0px 1px 3px 1px rgba(60, 64, 67, 0.15);\n",
              "      fill: #174EA6;\n",
              "    }\n",
              "\n",
              "    [theme=dark] .colab-df-convert {\n",
              "      background-color: #3B4455;\n",
              "      fill: #D2E3FC;\n",
              "    }\n",
              "\n",
              "    [theme=dark] .colab-df-convert:hover {\n",
              "      background-color: #434B5C;\n",
              "      box-shadow: 0px 1px 3px 1px rgba(0, 0, 0, 0.15);\n",
              "      filter: drop-shadow(0px 1px 2px rgba(0, 0, 0, 0.3));\n",
              "      fill: #FFFFFF;\n",
              "    }\n",
              "  </style>\n",
              "\n",
              "      <script>\n",
              "        const buttonEl =\n",
              "          document.querySelector('#df-3f24172c-f3b8-429a-9d94-1f5238e40a6a button.colab-df-convert');\n",
              "        buttonEl.style.display =\n",
              "          google.colab.kernel.accessAllowed ? 'block' : 'none';\n",
              "\n",
              "        async function convertToInteractive(key) {\n",
              "          const element = document.querySelector('#df-3f24172c-f3b8-429a-9d94-1f5238e40a6a');\n",
              "          const dataTable =\n",
              "            await google.colab.kernel.invokeFunction('convertToInteractive',\n",
              "                                                     [key], {});\n",
              "          if (!dataTable) return;\n",
              "\n",
              "          const docLinkHtml = 'Like what you see? Visit the ' +\n",
              "            '<a target=\"_blank\" href=https://colab.research.google.com/notebooks/data_table.ipynb>data table notebook</a>'\n",
              "            + ' to learn more about interactive tables.';\n",
              "          element.innerHTML = '';\n",
              "          dataTable['output_type'] = 'display_data';\n",
              "          await google.colab.output.renderOutput(dataTable, element);\n",
              "          const docLink = document.createElement('div');\n",
              "          docLink.innerHTML = docLinkHtml;\n",
              "          element.appendChild(docLink);\n",
              "        }\n",
              "      </script>\n",
              "    </div>\n",
              "  </div>\n",
              "  "
            ]
          },
          "metadata": {}
        }
      ]
    },
    {
      "cell_type": "code",
      "source": [
        "dferror[\"time\"]         = dferror[\"timereg\"] + dferror[\"timesel\"]\n",
        "dferror[\"invtime\"]      = 1 / ( dferror[\"timereg\"] + dferror[\"timesel\"])\n",
        "dferror[\"invtime/MAPE\"] = dferror[\"invtime\"] / dferror[\"MAPE\"]\n",
        "dferror[\"invtime/MAE\"]  = dferror[\"invtime\"] / dferror[\"MAE\"]\n",
        "dferror.sort_values(\"invtime/MAE\",ascending=False)\n",
        "dferror.sort_values(\"invtime/MAPE\",ascending=False)\n",
        "dferror.sort_values(\"MAPE\",ascending=True)\n",
        "dferror.head()"
      ],
      "metadata": {
        "colab": {
          "base_uri": "https://localhost:8080/",
          "height": 206
        },
        "id": "L1wOrReQ0FIE",
        "outputId": "370e834f-0898-4a8b-fc45-f45ae27efd82"
      },
      "execution_count": 27,
      "outputs": [
        {
          "output_type": "execute_result",
          "data": {
            "text/plain": [
              "  distance regression       MAE      MAPE  timesel   timereg      time  \\\n",
              "0  pearson         RF  0.607161  2.995270   2.2038  1.887793  4.091593   \n",
              "1  pearson    OLSstep  0.566529  4.664495   2.2038  0.038972  2.242772   \n",
              "2  pearson   Boosting  0.650646  4.545101   2.2038  1.338296  3.542096   \n",
              "3  pearson    Bagging  0.623723  4.324531   2.2038  0.165844  2.369644   \n",
              "4  pearson  LinearReg  0.709961  5.086081   2.2038  0.046824  2.250624   \n",
              "\n",
              "    invtime  invtime/MAPE  invtime/MAE  \n",
              "0  0.244404      0.081597     0.402535  \n",
              "1  0.445877      0.095589     0.787033  \n",
              "2  0.282319      0.062115     0.433905  \n",
              "3  0.422004      0.097584     0.676589  \n",
              "4  0.444321      0.087360     0.625839  "
            ],
            "text/html": [
              "\n",
              "  <div id=\"df-6619e6bf-76c2-42e8-8ecd-b90c752b8d32\">\n",
              "    <div class=\"colab-df-container\">\n",
              "      <div>\n",
              "<style scoped>\n",
              "    .dataframe tbody tr th:only-of-type {\n",
              "        vertical-align: middle;\n",
              "    }\n",
              "\n",
              "    .dataframe tbody tr th {\n",
              "        vertical-align: top;\n",
              "    }\n",
              "\n",
              "    .dataframe thead th {\n",
              "        text-align: right;\n",
              "    }\n",
              "</style>\n",
              "<table border=\"1\" class=\"dataframe\">\n",
              "  <thead>\n",
              "    <tr style=\"text-align: right;\">\n",
              "      <th></th>\n",
              "      <th>distance</th>\n",
              "      <th>regression</th>\n",
              "      <th>MAE</th>\n",
              "      <th>MAPE</th>\n",
              "      <th>timesel</th>\n",
              "      <th>timereg</th>\n",
              "      <th>time</th>\n",
              "      <th>invtime</th>\n",
              "      <th>invtime/MAPE</th>\n",
              "      <th>invtime/MAE</th>\n",
              "    </tr>\n",
              "  </thead>\n",
              "  <tbody>\n",
              "    <tr>\n",
              "      <th>0</th>\n",
              "      <td>pearson</td>\n",
              "      <td>RF</td>\n",
              "      <td>0.607161</td>\n",
              "      <td>2.995270</td>\n",
              "      <td>2.2038</td>\n",
              "      <td>1.887793</td>\n",
              "      <td>4.091593</td>\n",
              "      <td>0.244404</td>\n",
              "      <td>0.081597</td>\n",
              "      <td>0.402535</td>\n",
              "    </tr>\n",
              "    <tr>\n",
              "      <th>1</th>\n",
              "      <td>pearson</td>\n",
              "      <td>OLSstep</td>\n",
              "      <td>0.566529</td>\n",
              "      <td>4.664495</td>\n",
              "      <td>2.2038</td>\n",
              "      <td>0.038972</td>\n",
              "      <td>2.242772</td>\n",
              "      <td>0.445877</td>\n",
              "      <td>0.095589</td>\n",
              "      <td>0.787033</td>\n",
              "    </tr>\n",
              "    <tr>\n",
              "      <th>2</th>\n",
              "      <td>pearson</td>\n",
              "      <td>Boosting</td>\n",
              "      <td>0.650646</td>\n",
              "      <td>4.545101</td>\n",
              "      <td>2.2038</td>\n",
              "      <td>1.338296</td>\n",
              "      <td>3.542096</td>\n",
              "      <td>0.282319</td>\n",
              "      <td>0.062115</td>\n",
              "      <td>0.433905</td>\n",
              "    </tr>\n",
              "    <tr>\n",
              "      <th>3</th>\n",
              "      <td>pearson</td>\n",
              "      <td>Bagging</td>\n",
              "      <td>0.623723</td>\n",
              "      <td>4.324531</td>\n",
              "      <td>2.2038</td>\n",
              "      <td>0.165844</td>\n",
              "      <td>2.369644</td>\n",
              "      <td>0.422004</td>\n",
              "      <td>0.097584</td>\n",
              "      <td>0.676589</td>\n",
              "    </tr>\n",
              "    <tr>\n",
              "      <th>4</th>\n",
              "      <td>pearson</td>\n",
              "      <td>LinearReg</td>\n",
              "      <td>0.709961</td>\n",
              "      <td>5.086081</td>\n",
              "      <td>2.2038</td>\n",
              "      <td>0.046824</td>\n",
              "      <td>2.250624</td>\n",
              "      <td>0.444321</td>\n",
              "      <td>0.087360</td>\n",
              "      <td>0.625839</td>\n",
              "    </tr>\n",
              "  </tbody>\n",
              "</table>\n",
              "</div>\n",
              "      <button class=\"colab-df-convert\" onclick=\"convertToInteractive('df-6619e6bf-76c2-42e8-8ecd-b90c752b8d32')\"\n",
              "              title=\"Convert this dataframe to an interactive table.\"\n",
              "              style=\"display:none;\">\n",
              "        \n",
              "  <svg xmlns=\"http://www.w3.org/2000/svg\" height=\"24px\"viewBox=\"0 0 24 24\"\n",
              "       width=\"24px\">\n",
              "    <path d=\"M0 0h24v24H0V0z\" fill=\"none\"/>\n",
              "    <path d=\"M18.56 5.44l.94 2.06.94-2.06 2.06-.94-2.06-.94-.94-2.06-.94 2.06-2.06.94zm-11 1L8.5 8.5l.94-2.06 2.06-.94-2.06-.94L8.5 2.5l-.94 2.06-2.06.94zm10 10l.94 2.06.94-2.06 2.06-.94-2.06-.94-.94-2.06-.94 2.06-2.06.94z\"/><path d=\"M17.41 7.96l-1.37-1.37c-.4-.4-.92-.59-1.43-.59-.52 0-1.04.2-1.43.59L10.3 9.45l-7.72 7.72c-.78.78-.78 2.05 0 2.83L4 21.41c.39.39.9.59 1.41.59.51 0 1.02-.2 1.41-.59l7.78-7.78 2.81-2.81c.8-.78.8-2.07 0-2.86zM5.41 20L4 18.59l7.72-7.72 1.47 1.35L5.41 20z\"/>\n",
              "  </svg>\n",
              "      </button>\n",
              "      \n",
              "  <style>\n",
              "    .colab-df-container {\n",
              "      display:flex;\n",
              "      flex-wrap:wrap;\n",
              "      gap: 12px;\n",
              "    }\n",
              "\n",
              "    .colab-df-convert {\n",
              "      background-color: #E8F0FE;\n",
              "      border: none;\n",
              "      border-radius: 50%;\n",
              "      cursor: pointer;\n",
              "      display: none;\n",
              "      fill: #1967D2;\n",
              "      height: 32px;\n",
              "      padding: 0 0 0 0;\n",
              "      width: 32px;\n",
              "    }\n",
              "\n",
              "    .colab-df-convert:hover {\n",
              "      background-color: #E2EBFA;\n",
              "      box-shadow: 0px 1px 2px rgba(60, 64, 67, 0.3), 0px 1px 3px 1px rgba(60, 64, 67, 0.15);\n",
              "      fill: #174EA6;\n",
              "    }\n",
              "\n",
              "    [theme=dark] .colab-df-convert {\n",
              "      background-color: #3B4455;\n",
              "      fill: #D2E3FC;\n",
              "    }\n",
              "\n",
              "    [theme=dark] .colab-df-convert:hover {\n",
              "      background-color: #434B5C;\n",
              "      box-shadow: 0px 1px 3px 1px rgba(0, 0, 0, 0.15);\n",
              "      filter: drop-shadow(0px 1px 2px rgba(0, 0, 0, 0.3));\n",
              "      fill: #FFFFFF;\n",
              "    }\n",
              "  </style>\n",
              "\n",
              "      <script>\n",
              "        const buttonEl =\n",
              "          document.querySelector('#df-6619e6bf-76c2-42e8-8ecd-b90c752b8d32 button.colab-df-convert');\n",
              "        buttonEl.style.display =\n",
              "          google.colab.kernel.accessAllowed ? 'block' : 'none';\n",
              "\n",
              "        async function convertToInteractive(key) {\n",
              "          const element = document.querySelector('#df-6619e6bf-76c2-42e8-8ecd-b90c752b8d32');\n",
              "          const dataTable =\n",
              "            await google.colab.kernel.invokeFunction('convertToInteractive',\n",
              "                                                     [key], {});\n",
              "          if (!dataTable) return;\n",
              "\n",
              "          const docLinkHtml = 'Like what you see? Visit the ' +\n",
              "            '<a target=\"_blank\" href=https://colab.research.google.com/notebooks/data_table.ipynb>data table notebook</a>'\n",
              "            + ' to learn more about interactive tables.';\n",
              "          element.innerHTML = '';\n",
              "          dataTable['output_type'] = 'display_data';\n",
              "          await google.colab.output.renderOutput(dataTable, element);\n",
              "          const docLink = document.createElement('div');\n",
              "          docLink.innerHTML = docLinkHtml;\n",
              "          element.appendChild(docLink);\n",
              "        }\n",
              "      </script>\n",
              "    </div>\n",
              "  </div>\n",
              "  "
            ]
          },
          "metadata": {},
          "execution_count": 27
        }
      ]
    },
    {
      "cell_type": "markdown",
      "source": [
        "---\n",
        "## Comparamos graficamente los resultados\n",
        "Se realizan las pruebas unitarias al método análogo"
      ],
      "metadata": {
        "id": "UUWwvdYNRGyN"
      }
    },
    {
      "cell_type": "code",
      "source": [
        "sel1 = ['R', 'Boosting', 'Bagging', 'AdaBoost', 'VotingEnsemble']\n",
        "sel2 = ['OLSstep', 'LassoReg', 'RidgeReg', 'PLS', 'PCR', 'VotingLinear']\n",
        "\n",
        "# cmap para colores distintos para cada distancia-método\n",
        "\n",
        "for d in distances:\n",
        "  plt.figure(figsize=(25,8))\n",
        "  plt.plot(y_test, '.', label= '$Y_{\\\\beta+2}$')\n",
        "  for r in preds.iterrows():\n",
        "    values = r[1]\n",
        "    if values.distance == d and values.method in sel1:\n",
        "      plt.plot(values.y_cap, label = 'Y_{' + values.distance + ',' + values.method + '}')\n",
        "  plt.legend()\n",
        "  plt.show()\n",
        "\n",
        "for d in distances:\n",
        "  plt.figure(figsize=(25,8))\n",
        "  plt.plot(y_test, '.', label= '$Y_{\\\\beta+2}$')\n",
        "  for r in preds.iterrows():\n",
        "    values = r[1]\n",
        "    if values.distance == d and values.method in sel2:\n",
        "      plt.plot(values.y_cap, label = '$Y_{' + values.distance + ',' + values.method + '}$')\n",
        "  plt.legend()\n",
        "  plt.show()"
      ],
      "metadata": {
        "id": "L8wmhXZC1rnG"
      },
      "execution_count": null,
      "outputs": []
    },
    {
      "cell_type": "markdown",
      "source": [
        "# ETL 5 minutes"
      ],
      "metadata": {
        "id": "eyRgIpSPswGc"
      }
    },
    {
      "cell_type": "code",
      "source": [
        "#https://drive.google.com/drive/folders/1Gj3XK9kM-lE18uBMe3qrZOGEm8yAI8i9\n",
        "#https://www.codegrepper.com/code-examples/python/how+to+read+csv+file+from+google+drive+on+google+colab+\n",
        "path = 'https://drive.google.com/uc?export=download&id=' \n",
        "URL  = 'https://drive.google.com/file/d/1057_dPk6rIZgXVku8kmZjq3m8WQNkJZb/view?usp=sharing'\n",
        "df = pd.read_csv(path+URL.split('/')[-2],usecols=[0,1,2,3,4,5,6,7],names=['Date','SERIE1','SERIE2','SERIE3','SERIE4','SERIE5','SERIE6','SERIE7'],\n",
        "                 dtype={'Date':str,'SERIE1':float,'SERIE2':float,'SERIE3':float,'SERIE4':float,'SERIE5':float,'SERIE6':float,'SERIE7':float}) #names=['CLVUNI','TYPE','NODE'], usecols=[1,2,3,4,5,6,]\n",
        "df.dropna(inplace=True)"
      ],
      "metadata": {
        "id": "1e612CLOjx1J"
      },
      "execution_count": 29,
      "outputs": []
    },
    {
      "cell_type": "code",
      "source": [
        "df['Date'] = pd.to_datetime(df['Date'],format= '%d-%m-%Y %H:%M' ) #.dt.date https://pandas.pydata.org/docs/reference/api/pandas.Series.dt.date.html\n",
        "df = df.set_index('Date')"
      ],
      "metadata": {
        "id": "8Xn_AmM-dL2C"
      },
      "execution_count": 30,
      "outputs": []
    },
    {
      "cell_type": "code",
      "source": [
        "print(df.dtypes)\n",
        "df.head()"
      ],
      "metadata": {
        "id": "SXq8tnUXuyAp"
      },
      "execution_count": null,
      "outputs": []
    },
    {
      "cell_type": "code",
      "source": [
        "df_5 = df.resample('5T').mean()\n",
        "df_5"
      ],
      "metadata": {
        "id": "OGs5KlnZrPg-",
        "colab": {
          "base_uri": "https://localhost:8080/",
          "height": 455
        },
        "outputId": "a44ddabd-8904-4c42-d9f9-9e9bf4892a57"
      },
      "execution_count": 64,
      "outputs": [
        {
          "output_type": "execute_result",
          "data": {
            "text/plain": [
              "                          SERIE1       SERIE2       SERIE3       SERIE4  \\\n",
              "Date                                                                      \n",
              "2010-01-01 00:00:00  5547.831152  4353.258496  4927.916309  1355.909058   \n",
              "2010-01-01 00:05:00  5535.618164  4348.893457  4916.344433  1353.716626   \n",
              "2010-01-01 00:10:00  5529.010351  4331.776856  4897.709473  1346.924121   \n",
              "2010-01-01 00:15:00  5514.982032  4330.051758  4879.650098  1346.241382   \n",
              "2010-01-01 00:20:00  5472.567285  4314.503906  4863.172266  1334.846802   \n",
              "...                          ...          ...          ...          ...   \n",
              "2011-11-28 15:30:00  6916.361426  4241.870117  7270.933594  1824.311914   \n",
              "2011-11-28 15:35:00  6941.604590  4253.162695  7272.508496  1832.722339   \n",
              "2011-11-28 15:40:00  6933.826563  4296.798828  7311.898926  1830.256812   \n",
              "2011-11-28 15:45:00  6880.465039  4262.732910  7261.659961  1824.559302   \n",
              "2011-11-28 15:50:00  6887.763184  4269.956543  7190.755371  1825.849854   \n",
              "\n",
              "                          SERIE5       SERIE6      SERIE7  \n",
              "Date                                                       \n",
              "2010-01-01 00:00:00  1697.601026  3396.820703  920.982605  \n",
              "2010-01-01 00:05:00  1699.889233  3397.829590  918.181799  \n",
              "2010-01-01 00:10:00  1697.138647  3424.317334  916.371033  \n",
              "2010-01-01 00:15:00  1705.324194  3421.112500  916.161291  \n",
              "2010-01-01 00:20:00  1674.401562  3409.312451  914.513721  \n",
              "...                          ...          ...         ...  \n",
              "2011-11-28 15:30:00  2311.547217  5288.130664  955.705334  \n",
              "2011-11-28 15:35:00  2312.832226  5281.228809  956.742383  \n",
              "2011-11-28 15:40:00  2313.490430  5273.272754  956.432874  \n",
              "2011-11-28 15:45:00  2309.632862  5214.911328  953.882922  \n",
              "2011-11-28 15:50:00  2307.340088  5217.093099  955.224202  \n",
              "\n",
              "[200639 rows x 7 columns]"
            ],
            "text/html": [
              "\n",
              "  <div id=\"df-284ea5b7-9e9e-4b51-bcfa-cecfad47fb4b\">\n",
              "    <div class=\"colab-df-container\">\n",
              "      <div>\n",
              "<style scoped>\n",
              "    .dataframe tbody tr th:only-of-type {\n",
              "        vertical-align: middle;\n",
              "    }\n",
              "\n",
              "    .dataframe tbody tr th {\n",
              "        vertical-align: top;\n",
              "    }\n",
              "\n",
              "    .dataframe thead th {\n",
              "        text-align: right;\n",
              "    }\n",
              "</style>\n",
              "<table border=\"1\" class=\"dataframe\">\n",
              "  <thead>\n",
              "    <tr style=\"text-align: right;\">\n",
              "      <th></th>\n",
              "      <th>SERIE1</th>\n",
              "      <th>SERIE2</th>\n",
              "      <th>SERIE3</th>\n",
              "      <th>SERIE4</th>\n",
              "      <th>SERIE5</th>\n",
              "      <th>SERIE6</th>\n",
              "      <th>SERIE7</th>\n",
              "    </tr>\n",
              "    <tr>\n",
              "      <th>Date</th>\n",
              "      <th></th>\n",
              "      <th></th>\n",
              "      <th></th>\n",
              "      <th></th>\n",
              "      <th></th>\n",
              "      <th></th>\n",
              "      <th></th>\n",
              "    </tr>\n",
              "  </thead>\n",
              "  <tbody>\n",
              "    <tr>\n",
              "      <th>2010-01-01 00:00:00</th>\n",
              "      <td>5547.831152</td>\n",
              "      <td>4353.258496</td>\n",
              "      <td>4927.916309</td>\n",
              "      <td>1355.909058</td>\n",
              "      <td>1697.601026</td>\n",
              "      <td>3396.820703</td>\n",
              "      <td>920.982605</td>\n",
              "    </tr>\n",
              "    <tr>\n",
              "      <th>2010-01-01 00:05:00</th>\n",
              "      <td>5535.618164</td>\n",
              "      <td>4348.893457</td>\n",
              "      <td>4916.344433</td>\n",
              "      <td>1353.716626</td>\n",
              "      <td>1699.889233</td>\n",
              "      <td>3397.829590</td>\n",
              "      <td>918.181799</td>\n",
              "    </tr>\n",
              "    <tr>\n",
              "      <th>2010-01-01 00:10:00</th>\n",
              "      <td>5529.010351</td>\n",
              "      <td>4331.776856</td>\n",
              "      <td>4897.709473</td>\n",
              "      <td>1346.924121</td>\n",
              "      <td>1697.138647</td>\n",
              "      <td>3424.317334</td>\n",
              "      <td>916.371033</td>\n",
              "    </tr>\n",
              "    <tr>\n",
              "      <th>2010-01-01 00:15:00</th>\n",
              "      <td>5514.982032</td>\n",
              "      <td>4330.051758</td>\n",
              "      <td>4879.650098</td>\n",
              "      <td>1346.241382</td>\n",
              "      <td>1705.324194</td>\n",
              "      <td>3421.112500</td>\n",
              "      <td>916.161291</td>\n",
              "    </tr>\n",
              "    <tr>\n",
              "      <th>2010-01-01 00:20:00</th>\n",
              "      <td>5472.567285</td>\n",
              "      <td>4314.503906</td>\n",
              "      <td>4863.172266</td>\n",
              "      <td>1334.846802</td>\n",
              "      <td>1674.401562</td>\n",
              "      <td>3409.312451</td>\n",
              "      <td>914.513721</td>\n",
              "    </tr>\n",
              "    <tr>\n",
              "      <th>...</th>\n",
              "      <td>...</td>\n",
              "      <td>...</td>\n",
              "      <td>...</td>\n",
              "      <td>...</td>\n",
              "      <td>...</td>\n",
              "      <td>...</td>\n",
              "      <td>...</td>\n",
              "    </tr>\n",
              "    <tr>\n",
              "      <th>2011-11-28 15:30:00</th>\n",
              "      <td>6916.361426</td>\n",
              "      <td>4241.870117</td>\n",
              "      <td>7270.933594</td>\n",
              "      <td>1824.311914</td>\n",
              "      <td>2311.547217</td>\n",
              "      <td>5288.130664</td>\n",
              "      <td>955.705334</td>\n",
              "    </tr>\n",
              "    <tr>\n",
              "      <th>2011-11-28 15:35:00</th>\n",
              "      <td>6941.604590</td>\n",
              "      <td>4253.162695</td>\n",
              "      <td>7272.508496</td>\n",
              "      <td>1832.722339</td>\n",
              "      <td>2312.832226</td>\n",
              "      <td>5281.228809</td>\n",
              "      <td>956.742383</td>\n",
              "    </tr>\n",
              "    <tr>\n",
              "      <th>2011-11-28 15:40:00</th>\n",
              "      <td>6933.826563</td>\n",
              "      <td>4296.798828</td>\n",
              "      <td>7311.898926</td>\n",
              "      <td>1830.256812</td>\n",
              "      <td>2313.490430</td>\n",
              "      <td>5273.272754</td>\n",
              "      <td>956.432874</td>\n",
              "    </tr>\n",
              "    <tr>\n",
              "      <th>2011-11-28 15:45:00</th>\n",
              "      <td>6880.465039</td>\n",
              "      <td>4262.732910</td>\n",
              "      <td>7261.659961</td>\n",
              "      <td>1824.559302</td>\n",
              "      <td>2309.632862</td>\n",
              "      <td>5214.911328</td>\n",
              "      <td>953.882922</td>\n",
              "    </tr>\n",
              "    <tr>\n",
              "      <th>2011-11-28 15:50:00</th>\n",
              "      <td>6887.763184</td>\n",
              "      <td>4269.956543</td>\n",
              "      <td>7190.755371</td>\n",
              "      <td>1825.849854</td>\n",
              "      <td>2307.340088</td>\n",
              "      <td>5217.093099</td>\n",
              "      <td>955.224202</td>\n",
              "    </tr>\n",
              "  </tbody>\n",
              "</table>\n",
              "<p>200639 rows × 7 columns</p>\n",
              "</div>\n",
              "      <button class=\"colab-df-convert\" onclick=\"convertToInteractive('df-284ea5b7-9e9e-4b51-bcfa-cecfad47fb4b')\"\n",
              "              title=\"Convert this dataframe to an interactive table.\"\n",
              "              style=\"display:none;\">\n",
              "        \n",
              "  <svg xmlns=\"http://www.w3.org/2000/svg\" height=\"24px\"viewBox=\"0 0 24 24\"\n",
              "       width=\"24px\">\n",
              "    <path d=\"M0 0h24v24H0V0z\" fill=\"none\"/>\n",
              "    <path d=\"M18.56 5.44l.94 2.06.94-2.06 2.06-.94-2.06-.94-.94-2.06-.94 2.06-2.06.94zm-11 1L8.5 8.5l.94-2.06 2.06-.94-2.06-.94L8.5 2.5l-.94 2.06-2.06.94zm10 10l.94 2.06.94-2.06 2.06-.94-2.06-.94-.94-2.06-.94 2.06-2.06.94z\"/><path d=\"M17.41 7.96l-1.37-1.37c-.4-.4-.92-.59-1.43-.59-.52 0-1.04.2-1.43.59L10.3 9.45l-7.72 7.72c-.78.78-.78 2.05 0 2.83L4 21.41c.39.39.9.59 1.41.59.51 0 1.02-.2 1.41-.59l7.78-7.78 2.81-2.81c.8-.78.8-2.07 0-2.86zM5.41 20L4 18.59l7.72-7.72 1.47 1.35L5.41 20z\"/>\n",
              "  </svg>\n",
              "      </button>\n",
              "      \n",
              "  <style>\n",
              "    .colab-df-container {\n",
              "      display:flex;\n",
              "      flex-wrap:wrap;\n",
              "      gap: 12px;\n",
              "    }\n",
              "\n",
              "    .colab-df-convert {\n",
              "      background-color: #E8F0FE;\n",
              "      border: none;\n",
              "      border-radius: 50%;\n",
              "      cursor: pointer;\n",
              "      display: none;\n",
              "      fill: #1967D2;\n",
              "      height: 32px;\n",
              "      padding: 0 0 0 0;\n",
              "      width: 32px;\n",
              "    }\n",
              "\n",
              "    .colab-df-convert:hover {\n",
              "      background-color: #E2EBFA;\n",
              "      box-shadow: 0px 1px 2px rgba(60, 64, 67, 0.3), 0px 1px 3px 1px rgba(60, 64, 67, 0.15);\n",
              "      fill: #174EA6;\n",
              "    }\n",
              "\n",
              "    [theme=dark] .colab-df-convert {\n",
              "      background-color: #3B4455;\n",
              "      fill: #D2E3FC;\n",
              "    }\n",
              "\n",
              "    [theme=dark] .colab-df-convert:hover {\n",
              "      background-color: #434B5C;\n",
              "      box-shadow: 0px 1px 3px 1px rgba(0, 0, 0, 0.15);\n",
              "      filter: drop-shadow(0px 1px 2px rgba(0, 0, 0, 0.3));\n",
              "      fill: #FFFFFF;\n",
              "    }\n",
              "  </style>\n",
              "\n",
              "      <script>\n",
              "        const buttonEl =\n",
              "          document.querySelector('#df-284ea5b7-9e9e-4b51-bcfa-cecfad47fb4b button.colab-df-convert');\n",
              "        buttonEl.style.display =\n",
              "          google.colab.kernel.accessAllowed ? 'block' : 'none';\n",
              "\n",
              "        async function convertToInteractive(key) {\n",
              "          const element = document.querySelector('#df-284ea5b7-9e9e-4b51-bcfa-cecfad47fb4b');\n",
              "          const dataTable =\n",
              "            await google.colab.kernel.invokeFunction('convertToInteractive',\n",
              "                                                     [key], {});\n",
              "          if (!dataTable) return;\n",
              "\n",
              "          const docLinkHtml = 'Like what you see? Visit the ' +\n",
              "            '<a target=\"_blank\" href=https://colab.research.google.com/notebooks/data_table.ipynb>data table notebook</a>'\n",
              "            + ' to learn more about interactive tables.';\n",
              "          element.innerHTML = '';\n",
              "          dataTable['output_type'] = 'display_data';\n",
              "          await google.colab.output.renderOutput(dataTable, element);\n",
              "          const docLink = document.createElement('div');\n",
              "          docLink.innerHTML = docLinkHtml;\n",
              "          element.appendChild(docLink);\n",
              "        }\n",
              "      </script>\n",
              "    </div>\n",
              "  </div>\n",
              "  "
            ]
          },
          "metadata": {},
          "execution_count": 64
        }
      ]
    },
    {
      "cell_type": "markdown",
      "source": [
        "# Un pronóstico persistente multiperiodo"
      ],
      "metadata": {
        "id": "zAb715eJZfTP"
      }
    },
    {
      "cell_type": "code",
      "source": [
        "#from numpy.lib.function_base import append\n",
        "def persistent(serie,n=1):\n",
        "    out=[]\n",
        "    for i in range(n):        \n",
        "        out.append(serie[len(serie)-1])\n",
        "    return(out)"
      ],
      "metadata": {
        "id": "qy00ObHKgeyC"
      },
      "execution_count": 33,
      "outputs": []
    },
    {
      "cell_type": "markdown",
      "source": [
        "# Preparamos cross-validation para pruebas\n",
        "\n",
        "Usaremos la metodología propuesta por Rob Hydman [cross-validation in time series](https://robjhyndman.com/hyndsight/tscv/#:~:text=Time%20series%20cross%2Dvalidation,used%20in%20constructing%20the%20forecast.\n",
        ")\n"
      ],
      "metadata": {
        "id": "HzBO6YghZoin"
      }
    },
    {
      "cell_type": "code",
      "source": [
        "## https://robjhyndman.com/hyndsight/tscv/#:~:text=Time%20series%20cross%2Dvalidation,used%20in%20constructing%20the%20forecast.\n",
        "## ... year 2000                                                                                                    year 2001\n",
        "## ... january···february···march···april···may···june···july···august···september···october···november···december···january···february···march···april···may···june···july···august···september···october···november\n",
        "##    |                                   |      |\n",
        "##    |<------------- train ------------->|<test>|\n",
        "##    |<-january·february···march···april->|<may>|\n",
        "##            |<-february···march···april···may->|<june>|\n",
        "##                      |<- march···april···may···june ->|<-july->|\n",
        "##                              |<- april···may···june···july->|<-august->|\n",
        "##                                     |<-- may···june···july···august->|<-september->|\n",
        "##                                             |<-june···july···august···september->|<-october->|\n",
        "##                                                    |<-july···august···september···october->|<-november->|\n",
        "##                                                           |<-august···september···october···november->|<-december->| ...\n",
        "\n",
        "\n",
        "## Extraemos la primera serie\n",
        "serie = df.SERIE1.tolist()\n",
        "equi  = int(len(serie)/23)\n",
        "\n",
        "## positions_test: guarga las posiciones tt y tf de cada k-folds\n",
        "start = 4 * equi\n",
        "positions_test = []\n",
        "for i in range(start,len(serie)-equi,equi):\n",
        "    positions_test.append((i,i+equi))\n",
        "print(positions_test)\n",
        "print(len(serie))\n",
        "\n",
        "## Extraer las posiciones del inicio de los meses de la serie\n",
        "#for i in df_5['Data']:\n",
        "#    positions_test.append(i)\n",
        "#t_0=[0,]"
      ],
      "metadata": {
        "id": "iOJ9pmphcnqV",
        "colab": {
          "base_uri": "https://localhost:8080/"
        },
        "outputId": "f4c4bd06-6c69-4ded-d44b-4490baa28791"
      },
      "execution_count": 101,
      "outputs": [
        {
          "output_type": "stream",
          "name": "stdout",
          "text": [
            "[(174468, 218085), (218085, 261702), (261702, 305319), (305319, 348936), (348936, 392553), (392553, 436170), (436170, 479787), (479787, 523404), (523404, 567021), (567021, 610638), (610638, 654255), (654255, 697872), (697872, 741489), (741489, 785106), (785106, 828723), (828723, 872340), (872340, 915957), (915957, 959574), (959574, 1003191)]\n",
            "1003193\n"
          ]
        }
      ]
    },
    {
      "cell_type": "markdown",
      "source": [
        "# Meta-función básica de pronóstico de un periodo (persistente)\n",
        "\n"
      ],
      "metadata": {
        "id": "Bt2p4gGLcsva"
      }
    },
    {
      "cell_type": "code",
      "source": [
        "# >>> provisional para pruebas internas (comentar)\n",
        "positions_test= [(174468, 175468), (218085, 219085), (261702, 262702)]\n"
      ],
      "metadata": {
        "id": "oFyvL1qYjah9"
      },
      "execution_count": 151,
      "outputs": []
    },
    {
      "cell_type": "code",
      "source": [
        "## ... time serie·time-serie·time-serie·time-serie·time-serie·time-serie·time-serie·time-serie·time-serie·time-serie·time-serie ...\n",
        "##                |                                               |          |       |\n",
        "##                |                                               |<---np--->|       |\n",
        "##                |<------------------ train -------------------->|<------test------>|\n",
        "##                to                                              tt                 tf \n",
        "\n",
        "to  = 0  ## Inicio de la posición del periodo de entrenamiento\n",
        "tt  = 13 ## Inicio de la posición del pronóstico de prueba\n",
        "tf  = 25 ## Fin de la posición del pronóstico de prueba \n",
        "np  = 1  ## Numero de periodos por salto\n",
        "\n",
        "forecast_ =[]\n",
        "time_     =[]\n",
        "for tt,tf in positions_test:\n",
        "    j=0\n",
        "    for i in range(tt,tf,np):\n",
        "        t_o = time.time()\n",
        "        forecast_=forecast_+persistent(serie[to+j:tt+j],np)\n",
        "        time_.append(time.time() - t_o)\n",
        "        j=j+np"
      ],
      "metadata": {
        "id": "t8g7sCWvckrw"
      },
      "execution_count": 152,
      "outputs": []
    },
    {
      "cell_type": "code",
      "source": [
        "test_=[]\n",
        "for tt,tf in positions_test:\n",
        "      print(tt,tf)\n",
        "      test_ = test_+serie[tt:tf]\n",
        "print(forecast_)\n",
        "print(test_)"
      ],
      "metadata": {
        "colab": {
          "base_uri": "https://localhost:8080/"
        },
        "id": "fZHSFwckkZoJ",
        "outputId": "41d2a7d7-4805-489d-90bd-5b3d093ea62c"
      },
      "execution_count": 153,
      "outputs": [
        {
          "output_type": "stream",
          "name": "stdout",
          "text": [
            "174468 175468\n",
            "218085 219085\n",
            "261702 262702\n",
            "[4204.197754, 4207.35791, 4216.11084, 4215.395508, 4219.109863, 4206.049805, 4178.719238, 4191.460938, 4197.625488, 4203.156738, 4197.602051, 4196.364746, 4201.370605, 4222.584473, 4186.108398, 4196.169434, 4203.213867, 4212.039551, 4196.695313, 4187.022461, 4194.221191, 4211.462402, 4195.547852, 4201.975586, 4206.93457, 4199.533691, 4209.392578, 4203.991699, 4212.006348, 4228.041504, 4205.280762, 4223.822266, 4221.668945, 4210.18457, 4230.5625, 4227.772949, 4217.800293, 4211.121094, 4209.044434, 4208.580078, 4213.471191, 4219.703613, 4226.148438, 4234.069824, 4224.689453, 4240.581055, 4236.561523, 4238.361328, 4239.679688, 4244.086914, 4256.416016, 4261.603027, 4261.668457, 4249.989746, 4254.170898, 4241.758789, 4255.403809, 4259.746582, 4243.85498, 4245.771973, 4259.503906, 4268.962891, 4275.388184, 4250.658203, 4262.523438, 4275.270996, 4268.481934, 4261.787598, 4237.849609, 4236.976074, 4253.837891, 4258.691895, 4260.73877, 4296.725586, 4302.359375, 4296.003418, 4298.339355, 4283.602051, 4286.610352, 4309.913574, 4331.964355, 4323.773438, 4329.814453, 4341.097656, 4341.411621, 4341.533691, 4352.203125, 4339.76709, 4343.231934, 4331.013672, 4340.046387, 4352.647949, 4367.114746, 4393.856445, 4398.939941, 4408.1875, 4385.235352, 4387.204102, 4399.770996, 4403.445801, 4406.878418, 4431.486328, 4432.768066, 4430.189453, 4429.677734, 4458.892578, 4442.674805, 4433.078613, 4450.387207, 4459.433105, 4460.916016, 4453.090332, 4483.633789, 4459.666992, 4439.961914, 4456.404297, 4447.248047, 4463.32666, 4477.393555, 4478.495117, 4476.428223, 4485.64209, 4488.669922, 4498.938477, 4496.48584, 4504.472168, 4513.290039, 4497.365234, 4509.536621, 4483.311523, 4488.716309, 4450.251953, 4454.81543, 4425.023438, 4411.046387, 4397.236328, 4366.820313, 4366.868164, 4375.888184, 4343.311523, 4356.175781, 4376.463379, 4385.914551, 4378.562988, 4364.901855, 4388.717285, 4373.089844, 4369.537109, 4375.095215, 4359.419434, 4363.533691, 4366.265137, 4369.214844, 4370.345215, 4410.125977, 4377.556152, 4416.514648, 4413.394531, 4397.878906, 4390.100586, 4381.590332, 4439.229492, 4392.99707, 4426.624023, 4407.58252, 4418.563477, 4418.577637, 4432.307129, 4424.325684, 4431.048828, 4461.746582, 4417.746582, 4450.234863, 4434.748535, 4438.709961, 4422.484375, 4439.189941, 4452.185547, 4468.133301, 4442.833496, 4466.676758, 4475.743164, 4519.505371, 4469.697754, 4496.077148, 4491.15918, 4485.835449, 4492.549316, 4499.756348, 4522.033203, 4514.435547, 4511.870605, 4522.14209, 4531.708008, 4538.844727, 4545.432617, 4531.431152, 4548.831543, 4544.129883, 4543.649414, 4557.436035, 4532.026855, 4557.161133, 4540.683105, 4565.293945, 4563.608398, 4584.164063, 4588.557617, 4603.056641, 4630.293945, 4610.01123, 4640.141113, 4641.031738, 4640.524414, 4670.31543, 4638.266602, 4677.079102, 4652.836914, 4661.620117, 4667.335449, 4663.011719, 4673.42041, 4663.262207, 4665.075195, 4687.839355, 4706.342773, 4682.275879, 4697.07959, 4658.594727, 4714.794434, 4713.694336, 4775.696289, 4750.224121, 4752.94043, 4769.602051, 4736.691406, 4742.311035, 4728.995605, 4740.608398, 4729.078125, 4725.722168, 4740.271973, 4724.534668, 4771.65332, 4801.128906, 4768.706543, 4768.558594, 4786.56543, 4792.623047, 4814.770508, 4776.812012, 4772.942871, 4784.902344, 4761.609863, 4831.148438, 4789.840332, 4801.992188, 4804.019043, 4812.019043, 4824.180176, 4826.361816, 4822.506836, 4848.13916, 4856.760742, 4861.69043, 4842.306641, 4863.143066, 4859.747559, 4893.199219, 4881.854004, 4866.509277, 4870.554688, 4893.708496, 4900.53125, 4903.418945, 4893.224121, 4930.036621, 4914.897461, 4912.327637, 4940.518066, 4921.941406, 4948.613281, 4933.547363, 4974.310059, 5012.690918, 4980.145508, 4980.054199, 5021.416992, 4966.77832, 4978.30957, 5007.679688, 4981.048828, 5003.519531, 5011.458496, 5021.949707, 5027.883789, 5009.574219, 5072.07666, 5070.875977, 5044.542969, 5035.967285, 5068.711914, 5082.862305, 5036.361328, 5054.112793, 5071.290039, 5070.484863, 5035.959473, 5068.712891, 5079.416016, 5093.722168, 5058.009766, 5066.312012, 5074.39209, 5074.325195, 5097.999512, 5103.574707, 5084.450195, 5089.344238, 5106.862793, 5104.757324, 5106.45459, 5103.892578, 5089.762695, 5109.069824, 5099.484863, 5146.907227, 5119.645996, 5099.070801, 5099.511719, 5139.735352, 5162.389648, 5142.95459, 5180.649902, 5153.085938, 5166.522461, 5166.967773, 5148.339844, 5178.507813, 5126.146484, 5151.447754, 5173.884766, 5175.589844, 5158.960449, 5168.782227, 5134.039551, 5171.414063, 5175.016602, 5175.701172, 5192.912109, 5196.936523, 5193.939453, 5195.185059, 5170.886719, 5190.417969, 5185.539551, 5190.519043, 5194.80957, 5164.215332, 5201.346191, 5207.737305, 5214.37207, 5193.73877, 5211.019043, 5206.243652, 5206.262695, 5178.669434, 5210.509766, 5235.105957, 5231.689941, 5212.867676, 5243.445313, 5244.682129, 5259.533691, 5238.333984, 5258.585938, 5244.671875, 5251.818359, 5230.95166, 5239.415039, 5232.032227, 5235.147461, 5243.806641, 5230.549316, 5240.791016, 5228.185547, 5264.788086, 5256.361328, 5273.541992, 5242.010742, 5268.875977, 5263.410645, 5269.22998, 5278.419922, 5260.797363, 5280.194336, 5279.991699, 5270.001953, 5277.932129, 5330.171387, 5255.993652, 5300.66748, 5295.962402, 5270.733887, 5277.338379, 5285.054688, 5295.330566, 5296.164551, 5281.541504, 5322.331543, 5286.565918, 5291.782227, 5293.292969, 5313.135254, 5295.473633, 5285.266113, 5276.212402, 5277.320313, 5286.665527, 5314.3125, 5323.083008, 5311.893555, 5331.616211, 5316.829102, 5329.634766, 5306.666016, 5316.870117, 5319.374512, 5299.359375, 5316.490234, 5300.391113, 5302.793457, 5350.788574, 5308.125977, 5323.580078, 5305.98291, 5318.583496, 5316.283691, 5324.571289, 5302.404785, 5304.949707, 5277.603027, 5317.358887, 5306.833008, 5310.914551, 5327.600098, 5347.202637, 5332.61084, 5301.772461, 5327.006348, 5312.40625, 5312.479004, 5343.726563, 5325.132813, 5309.711426, 5331.055176, 5298.802734, 5319.487305, 5303.160645, 5307.872559, 5323.529785, 5307.771973, 5317.435059, 5342.387695, 5326.381836, 5338.573242, 5290.707031, 5342.088379, 5295.836914, 5315.93457, 5331.806152, 5347.339844, 5347.669434, 5323.370605, 5333.896973, 5304.237305, 5315.943848, 5314.19043, 5343.36377, 5316.799316, 5355.000488, 5323.412598, 5349.363281, 5336.045898, 5318.879395, 5349.29541, 5330.329102, 5334.798828, 5316.322266, 5314.300781, 5308.376465, 5324.734863, 5296.769531, 5329.475098, 5324.505859, 5347.591309, 5355.237305, 5326.375488, 5357.635254, 5305.925781, 5310.366699, 5351.814453, 5303.925781, 5315.980469, 5342.302246, 5322.976563, 5326.276367, 5332.859863, 5305.925293, 5332.248535, 5311.663086, 5371.86084, 5324.556152, 5320.262207, 5326.500488, 5293.151855, 5331.645508, 5298.013672, 5300.989746, 5355.470703, 5299.207031, 5323.084473, 5353.477539, 5286.230957, 5310.85498, 5350.483398, 5354.818359, 5347.154785, 5337.410645, 5312.646973, 5332.568848, 5345.169434, 5316.466309, 5348.405762, 5302.709961, 5316.976563, 5335.128906, 5341.189453, 5319.638672, 5373.375488, 5364.35791, 5328.655273, 5346.648438, 5336.409668, 5331.412109, 5326.631348, 5312.625, 5308.256348, 5326.709961, 5317.592773, 5336.648926, 5359.550781, 5296.044434, 5333.157227, 5342.443848, 5363.106934, 5339.168457, 5325.767578, 5294.754883, 5322.375488, 5334.195801, 5320.643066, 5323.472656, 5339.803223, 5288.203613, 5308.71875, 5334.53418, 5327.811523, 5362.976074, 5326.128418, 5346.15625, 5337.001953, 5316.067383, 5354.71582, 5333.269043, 5324.661133, 5306.56543, 5311.203613, 5316.994629, 5323.010254, 5311.355957, 5331.886719, 5331.269043, 5317.998535, 5316.649414, 5317.683105, 5340.094727, 5330.665039, 5339.736816, 5337.723633, 5337.856445, 5336.319824, 5321.947754, 5345.629395, 5349.160156, 5336.246582, 5336.600586, 5353.070801, 5335.165039, 5345.585938, 5322.147461, 5330.416016, 5313.675293, 5302.632813, 5314.623047, 5316.947754, 5311.057617, 5353.206055, 5324.230469, 5346.895508, 5348.971191, 5352.762695, 5322.791016, 5308.414551, 5320.73291, 5293.022949, 5306.162109, 5278.065918, 5279.645996, 5294.5625, 5271.311035, 5312.499023, 5281.801758, 5317.453613, 5296.570801, 5288.947754, 5285.779297, 5283.863281, 5317.430664, 5304.276855, 5295.483887, 5273.90625, 5295.097168, 5300.024902, 5258.045898, 5281.51123, 5293.799316, 5253.004883, 5279.508301, 5275.04834, 5279.737305, 5294.556152, 5288.130371, 5307.296875, 5304.240723, 5287.016602, 5277.782227, 5302.322266, 5297.629395, 5284.668945, 5287.689453, 5288.714355, 5271.842285, 5285.341309, 5282.614746, 5296.159668, 5286.631836, 5293.565918, 5317.545898, 5269.82666, 5279.40918, 5285.936035, 5310.369141, 5269.984863, 5285.236816, 5266.905762, 5304.271973, 5287.565918, 5291.256836, 5263.55957, 5281.319824, 5276.799805, 5276.753418, 5280.955078, 5283.677246, 5258.652832, 5256.768555, 5277.217285, 5261.413574, 5263.221191, 5278.38623, 5280.363281, 5289.730469, 5272.313965, 5267.713867, 5286.538574, 5282.375977, 5266.616699, 5271.560059, 5245.062988, 5304.031738, 5257.855957, 5245.950195, 5238.349609, 5234.315918, 5290.240723, 5277.552246, 5260.989258, 5269.388184, 5276.596191, 5302.255859, 5268.802246, 5237.407227, 5274.467285, 5260.729492, 5253.851563, 5278.581055, 5277.434082, 5253.029297, 5257.015137, 5224.842773, 5260.476563, 5228.769043, 5246.98584, 5232.145996, 5225.179688, 5254.751953, 5245.391602, 5313.734375, 5276.978516, 5250.422363, 5277.429199, 5290.995605, 5293.608398, 5277.386719, 5252.734375, 5258.56543, 5251.25293, 5246.146973, 5268.251953, 5238.45459, 5215.294434, 5235.922852, 5220.662598, 5224.637207, 5253.665527, 5230.259277, 5243.058105, 5268.645508, 5287.806152, 5259.856445, 5272.291016, 5265.124023, 5263.149414, 5280.279785, 5276.353516, 5259.202637, 5272.759766, 5264.612793, 5261.445313, 5306.40332, 5274.402344, 5301.79248, 5295.331055, 5284.935059, 5266.252441, 5265.876953, 5283.765137, 5281.576172, 5276.783203, 5264.999512, 5264.815918, 5259.313477, 5291.986816, 5286.67041, 5264.086426, 5314.850586, 5273.205566, 5294.855469, 5297.94043, 5283.98877, 5301.077148, 5306.84375, 5310.456055, 5299.20459, 5283.543945, 5278.415039, 5294.01709, 5268.807129, 5317.419434, 5308.090332, 5263.978516, 5290.554199, 5265.952148, 5287.324707, 5289.95166, 5285.595215, 5290.586914, 5290.063965, 5297.126465, 5257.566895, 5278.139648, 5309.275391, 5289.452148, 5283.300781, 5272.300293, 5318.29248, 5297.999512, 5292.645508, 5310.775879, 5296.657227, 5284.285156, 5311.063477, 5272.178223, 5277.008789, 5282.03125, 5286.923828, 5304.021484, 5323.905762, 5313.457031, 5333.769531, 5320.530762, 5298.883301, 5342.677734, 5302.753906, 5328.05127, 5335.078125, 5316.51123, 5321.376465, 5337.136719, 5307.208496, 5329.594238, 5335.28125, 5325.373047, 5328.941895, 5345.416016, 5330.42041, 5341.282227, 5304.383789, 5309.701172, 5281.289551, 5294.51123, 5317.97998, 5331.134766, 5318.289063, 5371.228516, 5363.076172, 5338.925293, 5332.619141, 5339.959961, 5308.04541, 5361.911621, 5363.021484, 5360.838379, 5352.701172, 5370.109863, 5373.918457, 5373.20459, 5335.217773, 5341.762695, 5321.985352, 5331.467773, 5394.216309, 5356.458008, 5381.859863, 5347.165039, 5355.044922, 5330.091309, 5374.450684, 5389.942383, 5373.361816, 5385.058594, 5388.365234, 5372.802734, 5360.772461, 5416.349121, 5410.429688, 5421.347656, 5408.367188, 5402.083984, 5425.893066, 5411.011719, 5425.777832, 5405.764648, 5434.733398, 5433.53418, 5435.165039, 5433.130371, 5465.818848, 5445.636719, 5454.710938, 5481.713379, 5458.222656, 5487.081055, 5472.515137, 5499.016602, 5509.44873, 5499.084473, 5526.202148, 5517.74707, 5520.389648, 5571.633789, 5599.893555, 5564.900879, 5590.132813, 5599.399414, 5600.382813, 5622.473633, 5672.589355, 5649.93457, 5643.066895, 5662.142578, 5683.831055, 5703.021484, 5722.818848, 5723.704102, 5794.185547, 5784.610352, 5804.027832, 5772.849121, 5816.698242, 5827.681641, 5807.625, 5864.763672, 5885.519043, 5931.642578, 5917.060547, 5940.760742, 5968.368164, 5958.721191, 6035.472656, 6012.112305, 6061.161621, 6059.855469, 6076.796875, 6147.516602, 6175.887695, 6223.152344, 6240.399902, 6302.315918, 6338.723633, 6451.75, 6490.357422, 6513.101074, 6553.20752, 6595.631348, 6584.598633, 6582.735352, 6583.369141, 6622.813965, 6631.925293, 6643.881836, 6689.981934, 6695.632324, 6731.67041, 6738.139648, 6763.813965, 6741.085938, 6751.344727, 6811.022949, 6800.565918, 6819.697266, 6817.869629, 6838.574707, 6807.001465, 6845.583984, 6828.304199, 6868.538574, 6869.934082, 6914.30127, 6905.231445, 6927.755371, 6919.668457, 6918.843262, 6925.48877, 6915.154297, 6934.27002, 6961.066895, 6980.740234, 6947.98291, 6973.063965, 6967.126465, 6986.170898, 6973.043945, 6952.657715, 6982.283691, 6979.979004, 6950.232422, 6972.290039, 6992.870117, 6943.514648, 6937.071289, 6986.206543, 6971.374512, 6967.17334, 6947.119629, 7011.062988, 6968.106934, 6976.300781, 7045.364746, 6951.009766, 6966.793457, 7015.097656, 6984.802246, 7021.427734, 6958.177246, 6994.775879, 6954.145996, 6944.734375, 7000.602539, 6958.025391, 6948.470703, 6991.967285, 6947.335938, 6950.875, 6974.914063, 6971.526367, 6953.162598, 6984.845215, 6987.253418, 6961.181152, 6994.476563, 6975.372559, 6984.199707, 6960.16748, 6980.833984, 6921.700195, 6937.973633, 6960.150391, 6961.796875, 6944.512207, 6940.721191, 6945.476074, 6988.072266, 6994.510742, 6994.133301, 6998.313477, 7004.037598, 6985.492676, 6972.192871, 6959.612793, 6956.54541, 6962.003906, 6976.174316, 6951.047363, 6944.359863, 6955.839844, 6977.875977, 6976.946777, 6942.867676, 6934.231445, 6990.552734, 6945.47168, 6950.605957, 6930.67334, 6951.27002, 6941.720215, 6953.680176, 6962.441406, 6980.756836, 6956.265625, 6963.350098, 6970.847168, 6993.644043, 7022.090332, 6993.960938, 6984.119141, 7002.175781, 6991.475098, 6993.374512, 6957.632813, 6984.988281, 6998.896484, 6992.07959, 6984.699219, 6958.072266, 6944.245117, 6983.375488, 6947.072754, 6976.237793, 6950.023926, 6971.24707, 6958.342285, 6974.78125, 6939.930176, 6973.827637, 6998.155762, 6917.702637, 6943.538086, 6974.067383, 6936.484375, 6976.151855, 6972.980469, 6928.160645, 6914.751465, 6944.694336, 6928.868164, 6927.683105, 6934.987793, 6990.705078, 6922.827637, 6944.696777, 6957.083984, 6945.790527, 6930.226563, 6949.703125, 6963.45166, 6917.655273, 6951.450195, 6958.053711, 6908.140625, 6915.149414, 6923.020508, 6925.109375, 6915.037109, 6938.557129, 6919.716797, 6935.566895, 6912.805176, 6900.212891, 6913.53418, 6873.444824, 6919.125488, 6906.726074, 6958.98877, 6916.649414, 6922.523926, 6937.781738, 6906.34082, 6908.839844, 6921.383789, 6957.509766, 6955.121094, 6931.719238, 6925.788574, 6958.213379, 6948.227539, 6919.040527, 6902.839355, 6948.142578, 6931.256348, 6936.37207, 6921.743164, 6916.333984, 6908.488281, 6889.847168, 6880.060059, 6878.703125, 6868.485352, 6858.923828, 6887.23291, 6867.917969, 6894.561523, 6863.476074, 6899.418945, 6884.722656, 6861.830566, 6913.778809, 6903.726074, 6889.893066, 6899.112793, 6905.213867, 6916.56543, 6918.362305, 6942.943359, 6928.425781, 6929.227539, 6910.603516, 6952.786133, 6952.523438, 6928.748535, 6932.169922, 6944.898438, 6928.664551, 6950.104492, 6978.068848, 6972.953125, 6952.375977, 6937.88916, 6903.1875, 6922.356445, 6934.898926, 6956.505371, 6895.938477, 6969.494141, 6955.674805, 6961.05957, 6933.627441, 6958.099121, 6943.829102, 6953.52832, 6959.526855, 6943.122559, 6983.048828, 6949.723145, 6943.956543, 6959.599609, 6907.324707, 6942.20459, 6904.584961, 6903.100098, 6947.953125, 6939.036133, 6906.158203, 6898.316406, 6941.681641, 6955.836426, 6925.464355, 6926.603516, 6927.199219, 6941.216797, 6947.875488, 6948.673828, 6981.172363, 6963.299316, 6985.290039, 6954.823242, 6977.724121, 6995.922363, 6961.836914, 7021.762207, 6985.987305, 7003.740234, 7020.019531, 7020.411621, 6965.374512, 7023.741699, 7006.69043, 6999.997559, 6992.743164, 6998.868652, 7026.019531, 7063.212402, 7031.322754, 7056.540527, 7066.701172, 7043.675781, 7059.455078, 7054.635254, 7050.696777, 7028.624512, 7039.277344, 7028.942383, 7030.843262, 7058.799805, 7047.308594, 7047.933594, 7035.344238, 6996.429199, 7020.553223, 7011.950195, 7019.729004, 7030.544434, 7050.87793, 7023.970703, 7021.98584, 7003.91748, 7045.756836, 7043.925293, 7017.373047, 7035.974609, 7025.267578, 7021.049316, 7025.379395, 7015.018555, 7009.816406, 6978.024414, 7023.40332, 7007.848633, 7050.554199, 6989.616699, 7040.873047, 7023.547363, 7041.93457, 7042.730957, 7037.152832, 7025.464355, 7024.568359, 7028.533691, 7052.020508, 7026.015137, 7014.135742, 7020.961426, 7001.062012, 7012.805664, 6978.637695, 7001.091309, 6984.743652, 7010.032227, 6997.278809, 7014.98877, 7018.92041, 6980.163574, 6975.428223, 7033.026855, 6968.166504, 6981.010742, 6960.228027, 6948.415039, 6985.663574, 6983.720215, 6963.678711, 6966.069336, 6973.789063, 6983.743652, 6941.885254, 6948.503906, 6947.247559, 6921.333496, 6931.508301, 6951.59375, 6973.150391, 6957.80957, 6940.412598, 6962.72998, 6959.083984, 6980.135254, 6970.542969, 6899.360352, 6951.631348, 6948.756348, 6939.662109, 6969.627441, 6940.925293, 6961.326172, 6948.361328, 6931.74707, 6939.552734, 6915.316895, 6938.918457, 6962.012695, 6891.089355, 6906.632813, 6922.84375, 6937.154785, 6970.066406, 6940.490234, 6938.094238, 6969.049805, 6934.848145, 6967.837402, 6939.519043, 6973.601074, 6931.112305, 6954.77832, 6954.430176, 6956.769043, 6952.035645, 6920.605957, 6930.22168, 6939.780762, 6974.729004, 6896.365723, 6955.529785, 6934.377441, 6919.608398, 6946.664063, 6930.86084, 6941.912598, 6872.010742, 6921.109375, 6947.949219, 6922.677246, 6900.765625, 6909.508301, 6909.734375, 6889.12793, 6881.317383, 6925.875488, 6899.131348, 6910.810059, 6893.116699, 6932.155273, 6882.899414, 6926.103027, 6892.328613, 6923.467285, 6934.862793, 6937.75, 6895.036133, 6902.36084, 6887.171875, 6919.999512, 6866.260254, 6886.929688, 6863.06543, 6830.73877, 6841.582031, 6849.810547, 6823.701172, 6825.803711, 6800.802246, 6792.245117, 6760.152832, 6813.355469, 6741.091797, 6796.213867, 6751.757813, 6791.243164, 6765.575195, 6767.893066, 6764.128418, 6801.588867, 6769.91748, 6817.012695, 6798.460938, 6763.248535, 6734.365234, 6780.106445, 6789.25293, 6767.084473, 6783.818359, 6756.457031, 6772.208496, 6751.723145, 6739.63623, 6771.344238, 6776.753418, 6764.714355, 6761.589355, 6748.414551, 6723.11084, 6732.672852, 6731.805176, 6761.75, 6728.150391, 6715.460938, 6746.281738, 6755.359863, 6757.157227, 6721.29541, 6706.271973, 6760.158203, 6732.04834, 6744.510742, 6752.746582, 6685.891602, 6734.125, 6713.743164, 6744.838867, 6738.484863, 6749.503906, 6705.345215, 6714.296875, 6702.01416, 6715.693359, 6709.990234, 6699.926758, 6737.756836, 6746.951172, 6746.47998, 6700.894043, 6712.179199, 6710.060059, 6733.696777, 6721.191406, 6768.693848, 6734.695313, 6721.712891, 6733.911133, 6735.18457, 6743.118652, 6760.905762, 6739.413086, 6806.674316, 6814.757813, 6756.441895, 6806.202148, 6771.558594, 6808.224609, 6815.688965, 6810.911133, 6819.984375, 6802.207031, 6802.451172, 6822.492676, 6833.785156, 6805.41748, 6832.900391, 6798.187012, 6857.456543, 6835.54248, 6851.177246, 6850.827148, 6861.633301, 6871.144043, 6855.009277, 6850.952637, 6849.549805, 6904.402832, 6881.757324, 6886.262207, 6862.458984, 6906.490723, 6893.867676, 6844.268555, 6894.207031, 6906.30127, 6904.48584, 6927.724121, 6896.859863, 6925.945313, 6914.95752, 6942.816406, 6969.478516, 6964.297363, 7016.745605, 6999.064941, 7014.114746, 7010.013184, 7065.806641, 7096.922363, 7129.033691, 7143.507813, 7130.777344, 7165.148926, 7155.51709, 7193.208496, 7202.402832, 7191.950195, 7215.899414, 7256.975586, 7285.532227, 7250.475586, 7298.44043, 7304.765137, 7343.918945, 7437.138184, 7450.953613, 7466.148926, 7503.471191, 7554.452637, 7629.360352, 7661.506348, 7699.882324, 7710.79834, 7766.131836, 7796.170898, 7802.441406, 7817.407715, 7860.276855, 7850.678711, 7901.619629, 7896.894531, 7951.716309, 7966.273926, 7947.197266, 7997.385254, 8006.124023, 7996.929688, 8019.773926, 8046.068359, 8079.717773, 8107.629395, 8102.07959, 8097.111816, 8126.027832, 8105.873535, 8164.052246, 8148.706543, 8164.673828, 8129.663574, 8168.820313, 8163.695313, 8155.694824, 8191.424805, 8192.40625, 8174.049805, 8151.190918, 8140.973633, 8138.606934, 8130.414551, 8148.788574, 8134.220703, 8137.869141, 8151.229492, 8141.033691, 8113.045898, 8123.596191, 8092.51709, 8121.187012, 8098.142578, 8114.139648, 8080.960449, 8080.728027, 8078.239746, 8052.640625, 8081.547363, 8079.595703, 8114.51416, 8088.520508, 8115.644043, 8104.244629, 8094.794434, 8128.032227, 8080.368164, 8064.540527, 8043.248047, 8060.591797, 8022.324219, 7987.332031, 8002.279297, 7971.47168, 7963.855957, 7984.01416, 7988.304199, 7943.515625, 7976.458008, 7998.547852, 7958.841309, 7962.70459, 7959.717285, 7965.275879, 7968.02832, 7916.066895, 7884.810059, 7875.588379, 7874.698242, 7880.208008, 7839.455566, 7864.591797, 7866.435059, 7848.407715, 7849.342773, 7835.429688, 7844.885254, 7815.731445, 7793.289551, 7758.765137, 7746.567871, 7777.377441, 7710.855957, 7719.358398, 7718.13623, 7726.709473, 7685.964355, 7688.725098, 7664.571777, 7680.512207, 7678.640625, 7656.129395, 7652.833008, 7668.317871, 7616.628906, 7630.685059, 7613.716309, 7609.116211, 7555.152832, 7607.731445, 7573.116699, 7588.418457, 7535.360352, 7534.133301, 7543.947754, 7517.855957, 7483.319336, 7474.495605, 7454.376953, 7395.793945, 7383.991699, 7415.279785, 7394.134766, 7386.15332, 7417.332031, 7383.45459, 7374.083984, 7380.290039, 7352.119629, 7316.786621, 7308.461426, 7297.251465, 7286.71582, 7258.155273, 7250.674805, 7242.347656, 7215.358887, 7205.454102, 7181.704102, 7189.217773, 7127.412598, 7140.383301, 7108.150879, 7105.20752, 7040.210449, 7060.983398, 7030.591797, 7022.229492, 7007.410645, 6992.137207, 6961.726074, 6940.491699, 6916.281738, 6928.643555, 6909.667969, 6891.437012, 6843.553711, 6837.644531, 6828.94043, 6825.468262, 6802.955078, 6786.316895, 6745.537109, 6719.376465, 6699.256348, 6685.174805, 6660.01123, 6654.409668, 6626.311035, 6609.768066, 6593.474609, 6593.35498, 6557.363281, 6566.782715, 6564.520996, 6547.824219, 6508.861816, 6499.62207, 6492.715332, 6448.955566, 6432.305664, 6422.887207, 6410.763184, 6391.094727, 6380.891602, 6346.808594, 6323.616211, 6339.43457, 6320.931641, 6304.349121, 6312.444824, 6326.907715, 6288.765137, 6264.540039, 6256.702637, 6253.540527, 6247.178711, 6233.710938, 6238.283691, 6213.563477, 6145.080078, 6119.082031, 6107.080566, 6107.342285, 6085.084961, 6090.553223, 6033.949219, 6032.244629, 6029.556641, 6004.837891, 6021.974121, 5996.070801, 5988.578125, 5989.12793, 5963.629883, 5958.266602, 5938.36377, 5902.062012, 5878.742188, 5890.34668, 5859.179688, 5828.486328, 5844.986816, 5836.912109, 5832.73584, 5797.88623, 5803.60498, 5774.868652, 5780.015137, 5766.89209, 5747.025391, 5730.677734, 5692.098633, 5700.489258, 5691.454102, 5673.30957, 5643.112793, 5633.373047, 5628.226563, 5655.031738, 5630.847168, 5626.584961, 5602.365723, 5592.900391, 5584.689941, 5563.406738, 5552.025391, 5546.366699, 5526.618652, 5517.487793, 5570.933105, 5610.111328, 5560.950684, 5519.067383, 5499.807617, 5487.977539, 5469.04541, 5486.648438, 5484.741699, 5529.340332, 5524.667969, 5499.290527, 5495.36377, 5475.268555, 5466.874512, 5454.306152, 5455.433594, 5455.609863, 5478.633789, 5464.739746, 5477.058594, 5446.394531, 5422.578613, 5430.989746, 5429.696289, 5427.312988, 5413.107422, 5417.36377, 5410.050781, 5394.009766, 5439.058594, 5414.441406, 5390.556641, 5369.063477, 5352.126465, 5349.90918, 5362.765137, 5371.024414, 5355.23584, 5349.978027, 5355.183105, 5368.057617, 5332.004883, 5376.938965, 5331.352051, 5323.76416, 5304.06543, 5299.576172, 5303.94873, 5266.602051, 5297.919434, 5294.951172, 5306.493652, 5312.327637, 5293.490723, 5284.427734, 5273.853516, 5252.377441, 5261.040527, 5224.847168, 5228.336426, 5227.489746, 5214.36084, 5232.141113, 5210.643555, 5248.082031, 5248.818359, 5247.652832, 5235.289063, 5198.480469, 5201.442871, 5198.722656, 5188.391113, 5203.859863, 5204.805664, 5195.320313, 5185.341797, 5194.753418, 5180.898926, 5168.187012, 5172.539063, 5188.383301, 5156.62207, 5168.273438, 5171.569336, 5173.859375, 5166.980957, 5185.472656, 5153.221191, 5162.368652, 5166.986816, 5169.38916, 5155.101563, 5146.746582, 5144.549805, 5128.717773, 5144.714844, 5128.443848, 5113.534668, 5091.007813, 5097.523926, 5105.071777, 5096.117676, 5089.691895, 5081.053223, 5086.630371, 5091.885254, 5074.206055, 5087.371582, 5090.821289, 5109.039551, 5088.515625, 5122.217773, 5073.610352, 5091.075195, 5089.163086, 5109.288086, 5091.970703, 5091.962402, 5104.191406, 5095.16748, 5107.286621, 5108.092285, 5084.018066, 5087.574707, 5088.803711, 5091.505859, 5024.453125, 5048.958496, 5061.505371, 5041.298828, 5046.265137, 5026.677246, 5023.325684, 5026.38623, 5073.884277, 5074.557129, 5060.737305, 5063.681152, 5055.453125, 5061.007324, 5061.033691, 5069.777832, 5072.827148, 5058.928711, 5040.558105, 5038.078613, 5064.792969, 5035.847168, 5050.608887, 5059.271484, 5044.913574, 5054.62793, 5048.005371, 5051.591309, 5064.660645, 5056.205566, 5057.558594, 5026.050781, 5055.228516, 5033.492676, 5037.59668, 5030.475586, 5045.401855, 5053.079102, 5045.035645, 5043.129883, 5037.410645, 5019.853027, 5009.364746, 5012.602539, 5026.472656, 5016.199707, 5028.213379, 5004.520508, 4995.289063, 5003.586914, 5013.697266, 5004.811523, 5004.940918, 5004.723633, 5017.487793, 4995.809082, 5017.270508, 5013.836914, 5002.759277, 5011.052734, 4985.306152, 4981.685547, 5002.325195, 5002.371582, 5001.881348, 4987.355469, 4997.632813, 4977.26416, 4976.664551, 5016.01123, 5029.222656, 5024.937012, 5030.779785, 5026.033203, 5012.714355, 5026.222656, 5044.574219, 5050.187012, 5024.445801, 5028.824707, 5025.845703, 5047.183594, 5043.074707, 5054.985352, 5046.316406, 5062.77832, 5054.085938, 5080.006348, 5072.451172, 5081.24707, 5085.04248, 5086.027344, 5079.849609, 5064.45752, 6935.627441, 6963.533691, 6921.250977, 6975.083008, 6936.219238, 6913.58252, 6905.405762, 6944.510254, 6961.000488, 6955.494629, 6971.598145, 6946.180176, 6947.443359, 6935.911621, 6918.36084, 6929.006348, 6920.986328, 6905.404785, 6883.42627, 6922.859863, 6895.661133, 6896.462402, 6857.813477, 6812.030273, 6819.520508, 6798.216797, 6818.739746, 6794.277832, 6817.807129, 6811.271973, 6829.213379, 6842.955566, 6855.70752, 6830.129395, 6798.967285, 6790.998535, 6798.031738, 6787.386719, 6808.73291, 6761.701172, 6827.919434, 6797.79834, 6849.094727, 7015.980469, 7029.347168, 7001.35791, 7029.015625, 7012.037109, 7045.811523, 7066.678223, 7036.458008, 7029.65332, 7067.569336, 7076.693848, 7086.972168, 7047.460449, 7074.632813, 7101.858887, 7075.689941, 7084.496094, 7088.437988, 7084.508789, 7109.51123, 7092.007324, 7117.165039, 7104.54834, 7152.771973, 7093.647949, 7128.883789, 7126.599121, 7151.673828, 7128.949707, 7147.957031, 7144.297852, 7146.749512, 7147.59082, 7145.772461, 7181.145508, 7168.524414, 7176.364746, 7178.000488, 7165.858887, 7164.131836, 7236.431152, 7226.460938, 7204.141113, 7261.228516, 7247.175293, 7321.506836, 7265.382324, 7302.001953, 7316.927734, 7351.349609, 7375.965332, 7389.108398, 7457.840332, 7493.822754, 7512.14502, 7536.871582, 7533.800293, 7622.10498, 7627.994141, 7676.73584, 7652.759766, 7712.166504, 7727.820313, 7765.553711, 7772.442871, 7819.429199, 7843.188477, 7846.790039, 7837.79541, 7900.914551, 7907.714355, 7928.466309, 7948.443848, 7963.272461, 7930.110352, 7952.617188, 7970.84668, 7972.823242, 7987.010254, 8030.849121, 8012.762695, 8027.581055, 8006.253418, 8027.755859, 7996.613281, 8021.839844, 8040.086914, 8067.05957, 8062.806641, 8099.569824, 8085.783691, 8059.635254, 8082.49707, 8064.452148, 8073.427734, 8110.504883, 8067.09375, 8090.73584, 8084.318848, 8095.179199, 8100.34668, 8103.799316, 8118.666016, 8085.270996, 8150.728516, 8132.56543, 8106.105957, 8127.222656, 8094.818848, 8085.819824, 8104.857422, 8065.838867, 8049.132813, 8053.650879, 8036.694824, 8025.672852, 8056.510254, 8026.528809, 8045.525391, 8038.384766, 8053.620605, 8043.59375, 8028.310059, 8077.797363, 8017.255371, 8026.282227, 8043.083984, 7999.400391, 8009.635742, 8022.869141, 7989.238281, 7980.50293, 7985.494141, 7962.597656, 7940.351563, 7948.210449, 7985.119629, 7943.416504, 7923.76709, 7909.799316, 7908.258301, 7867.368652, 7893.40918, 7921.63916, 7888.286133, 7875.294922, 7837.070801, 7866.231445, 7864.024414, 7829.078613, 7816.026855, 7795.118164, 7831.500488, 7804.543945, 7759.504395, 7754.570801, 7777.02002, 7754.783203, 7726.623535, 7723.753906, 7727.413086, 7730.236816, 7720.625, 7732.200684, 7704.703613, 7680.982422, 7652.114746, 7687.999512, 7686.705078, 7670.240234, 7671.95166, 7702.506348, 7696.261719, 7662.029297, 7655.791992, 7655.954102, 7670.309082, 7633.259766, 7659.064941, 7611.953613, 7586.942871, 7559.431641, 7597.230469, 7548.63916, 7546.978516, 7533.674805, 7529.53418, 7535.90918, 7497.330078, 7524.426758, 7493.549805, 7467.862305, 7476.106934, 7432.312988, 7446.058594, 7432.600586, 7392.979004, 7389.966309, 7392.393066, 7369.843262, 7334.137695, 7292.70166, 7296.424805, 7261.727539, 7257.69043, 7234.349609, 7234.199219, 7190.214355, 7183.566406, 7194.195801, 7156.753906, 7147.089355, 7146.379395, 7094.032715, 7074.88916, 7060.644531, 7048.791992, 6984.412109, 6964.970215, 6967.59375, 6937.628418, 6941.72168, 6933.577148, 6902.151855, 6870.680176, 6832.115723, 6806.861328, 6852.516113, 6837.972656, 6814.228516, 6794.831543, 6797.463379, 6756.817383, 6787.756348, 6732.300781, 6729.829102, 6688.768066, 6659.379883, 6661.091309, 6642.648926, 6644.96875, 6597.831543, 6572.896484, 6560.302734, 6550.379883, 6502.261719, 6504.700195, 6482.475098, 6453.018555, 6435.944336, 6421.013672, 6403.0625, 6399.893555, 6351.13916, 6310.800293, 6338.138184, 6316.128906, 6316.482422, 6296.554199, 6274.023438, 6233.126465, 6241.811035, 6204.832031, 6227.967773, 6200.43457, 6198.466797, 6168.652832, 6145.503418, 6159.966797, 6119.730469, 6107.955078, 6073.964355, 6048.392578, 6061.885254, 6022.704102, 5997.637695, 6002.290039, 5973.498047, 5973.36377, 5936.834961, 5936.440918, 5904.46582, 5897.479492, 5890.149414, 5876.775879, 5831.85791, 5830.107422, 5865.025391, 5834.879883, 5810.587402, 5806.331055, 5789.295898, 5769.54541, 5765.821777, 5736.169922, 5739.72998, 5718.350586, 5701.510254, 5689.959473, 5688.589355, 5682.818359, 5660.970215, 5654.152344, 5643.897461, 5657.771973, 5654.455078, 5645.784668, 5641.118652, 5626.37793, 5619.211426, 5589.400391, 5609.222656, 5601.790527, 5571.894043, 5560.69873, 5559.282715, 5547.785156, 5508.089355, 5491.524902, 5491.712402, 5515.90918, 5519.575684, 5482.510742, 5479.443359, 5457.845703, 5427.504883, 5429.095703, 5406.645508, 5395.739746, 5375.163574, 5413.286133, 5410.745605, 5391.608398, 5391.294922, 5366.381836, 5352.615723, 5365.500977, 5370.307129, 5358.292969, 5339.887207, 5342.579102, 5329.557617, 5324.478027, 5315.62207, 5320.422852, 5270.374023, 5267.506348, 5281.483398, 5293.944336, 5276.615723, 5283.835938, 5272.114258, 5267.635254, 5253.992188, 5232.458008, 5242.249512, 5257.395508, 5232.272949, 5235.201172, 5253.183105, 5239.671387, 5236.845703, 5219.654297, 5222.500977, 5193.223633, 5212.493164, 5204.85498, 5207.347168, 5197.0625, 5166.26123, 5164.367676, 5181.853516, 5152.632813, 5154.247559, 5169.781738, 5125.672363, 5124.269531, 5115.986816, 5117.853027, 5105.861328, 5118.595215, 5130.850098, 5134.214355, 5141.480469, 5129.737305, 5132.88916, 5121.875, 5122.991211, 5117.024414, 5108.879395, 5110.327148, 5110.768555, 5114.08252, 5115.208496, 5108.402344, 5117.231934, 5099.031738, 5050.773926, 5039.433594, 5041.766602, 5079.112305, 5075.107422, 5055.327637, 5074.642578, 5067.997559, 5071.681152, 5053.527344, 5048.881348, 5049.633301, 5052.182617, 5034.961426, 5035.819824, 5044.892578, 5058.085938, 5051.864746, 5044.385742, 5039.783203, 5019.661133, 5005.481445, 5031.28125, 5022.860352, 5025.638672, 4983.09668, 4997.351074, 4983.449219, 5011.844238, 4987.911621, 4994.155762, 4998.503418, 4988.503906, 4981.396973, 4971.598145, 4976.691895, 5003.720703, 5003.487305, 5004.366699, 4991.904297, 4994.827637, 5008.169922, 4999.930664, 5012.125488, 5002.196777, 5015.895508, 5024.088867, 5017.874512, 5009.666504, 4997.245117, 5011.875488, 5008.140137, 4981.529297, 4959.39502, 4997.008301, 5004.333008, 4995.533691, 4983.932129, 5001.385254, 4996.605469, 4994.218262, 4996.424316, 4988.755371, 5003.875977, 5000.078613, 4978.967285, 4986.928223, 4982.967773, 4965.04834, 4961.28125, 4984.66748, 4986.82666, 4984.126953, 4982.397949, 4976.894531, 4983.922363, 4940.688477, 4959.013672, 4971.335938, 4973.363281, 4954.277832, 4938.00293, 4972.266602, 4950.628418, 4947.712402, 4931.857422, 4931.689453, 4916.595215, 4910.496582, 4920.059082, 4960.80957, 4959.092285, 4974.818359, 4956.782715, 4970.961426, 4963.813477, 4980.136719, 4954.564453, 4957.058594, 4973.5, 4961.416992, 4976.414551, 4963.387207, 4968.361328, 4971.211914, 4947.969727, 4934.908203, 4945.707031, 4967.850098, 4947.063477, 4974.520508, 4981.52832, 4999.320313, 4970.966309, 4952.415039, 4959.917969, 4966.316406, 4989.699219, 4980.352539, 4959.6875, 4964.89209, 4952.837891, 4972.039063, 4977.161621, 4972.105957, 4965.177734, 4964.536621, 4988.236328, 4988.62793, 4980.483398, 4956.972656, 4988.361328, 4953.22998, 4952.549316, 4946.209961, 4953.844238, 4952.130371, 4957.498535, 4954.703125, 4953.089355, 4942.843262, 4948.694336, 4950.429199, 4947.942871, 4950.728027, 4945.142578, 4946.571289, 4955.776855, 4963.290527, 4964.945313, 4978.293945, 4974.414551, 4971.955078, 4975.971191, 4992.239746, 4982.756348, 4984.077148, 5027.369141, 5024.786133, 5014.371094, 5015.133789, 5015.436523, 5028.573242, 5039.728027, 5050.041016, 5053.458008, 5069.935059, 5068.672852, 5065.700195, 5058.22998, 5039.005859, 5058.037109, 5058.364258, 5049.121094, 5041.445801, 5042.271484, 5066.489258, 5064.187988, 5129.193848, 5112.8125, 5118.623535, 5116.486328, 5136.722656, 5125.164551, 5131.860352, 5128.88623, 5146.723633, 5172.486816, 5157.64209, 5184.997559, 5182.820801, 5185.291992, 5204.955078, 5202.013672, 5215.496094, 5216.896484, 5252.333984, 5241.377441, 5250.027344, 5255.804688, 5274.532715, 5241.660156, 5227.962402, 5212.916016, 5232.125488, 5226.781738, 5245.459473, 5262.168945, 5258.755371, 5247.217285, 5261.501465, 5267.373047, 5255.240723, 5259.179199, 5265.350586, 5304.459473, 5341.744141, 5350.088379, 5349.560547, 5378.542969, 5405.088379, 5365.425781, 5403.909668, 5412.438477, 5443.964844, 5459.535156, 5427.050293, 5455.327148, 5439.985352, 5424.949707, 5451.396973, 5492.009277, 5474.043945, 5507.490234, 5493.225586, 5538.766602, 5548.280762, 5568.504395, 5571.532715, 5599.309082, 5605.788086, 5619.593262, 5609.696777, 5636.95752, 5674.015625, 5670.269043, 5733.102539, 5729.42334, 5725.435547, 5730.018066, 5796.863281, 5792.975098, 5788.102051, 5794.731934, 5827.108398, 5836.411621, 5807.850586, 5850.628906, 5858.097168, 5865.364258, 5876.114746, 5875.43457, 5888.428223, 5866.71875, 5929.816406, 5950.891113, 5963.128418, 5983.793457, 5969.563477, 5987.356934, 5992.018066, 6008.030762, 6032.094727, 6066.712891, 6090.550781, 6097.217773, 6115.071289, 6154.243164, 6193.775391, 6149.76709, 6146.72998, 6195.946777, 6219.532227, 6217.706055, 6211.104492, 6282.202148, 6255.19043, 6200.552734, 6227.692383, 6205.515625, 6236.766602, 6288.403809, 6255.433105, 6254.759277, 6244.472656, 6214.262695, 6235.967773, 6227.339355, 6229.348145, 6207.870117, 6221.398438, 6240.837891, 6219.808594, 6198.103027, 6199.635742, 6192.59082, 6230.791016, 6228.866211, 6229.217285, 6237.114746, 6235.075195, 6270.237793, 6259.146484, 6258.688477, 6288.633789, 6303.217773, 6237.458984, 6277.006348, 6243.604492, 6307.946289, 6254.324707, 6243.155762, 6252.690918, 6271.009766, 6263.326172, 6256.416016, 6269.231445, 6331.709473, 6348.484375, 6349.358398, 6324.808105, 6362.254395, 6367.728516, 6388.583984, 6382.147461, 6384.948242, 6360.275391, 6346.90918, 6348.057129, 6393.76709, 6341.240234, 6331.165039, 6329.583984, 6355.885742, 6356.020996, 6374.374512, 6324.306641, 6297.643555, 6349.973145, 6363.821289, 6354.518066, 6349.465332, 6380.25, 6403.15332, 6378.026855, 6417.740234, 6354.116211, 6398.751953, 6402.549316, 6412.123535, 6433.464844, 6389.97998, 6424.754395, 6414.732422, 6392.997559, 6449.773926, 6438.35498, 6398.102051, 6424.613281, 6475.48291, 6416.556641, 6425.751465, 6427.34082, 6471.039063, 6469.834961, 6507.820313, 6458.250977, 6479.985352, 6535.916504, 6515.866699, 6530.456055, 6567.743164, 6556.291504, 6588.182617, 6565.338379, 6562.335938, 6539.263672, 6538.766113, 6568.320801, 6573.269531, 6569.984375, 6512.066406, 6558.220215, 6548.454102, 6595.274902, 6610.600098, 6594.17041, 6643.638672, 6607.785645, 6614.202148, 6608.618652, 6640.839355, 6645.400391, 6672.194336, 6650.266113, 6673.675781, 6636.921875, 6710.378906, 6647.979492, 6697.180664, 6691.400879, 6725.129883, 6770.445313, 6688.733887, 6712.954102, 6722.51416, 6734.833984, 6757.600098, 6743.365234, 6732.029785, 6718.67627, 6695.748047, 6715.036133, 6736.206055, 6761.420898, 6725.444336, 6766.836426, 6738.827148, 6790.5, 6786.425293, 6797.973633, 6830.958008, 6825.82959, 6791.008301, 6802.681152, 6794.587402, 6865.365234, 6864.752441, 6868.408691, 6850.391113, 6894.553711, 6872.376465, 6853.055176, 6855.136719, 6881.362305, 6865.633789, 6888.981934, 6923.773926, 6948.717773, 6930.934082, 6919.772461, 6931.588867, 6904.902832, 6946.858398, 6906.57373, 6938.549316, 6934.847656, 6935.113281, 6970.20166, 6956.239258, 6988.719727, 6952.24707, 6914.526855, 6975.436523, 6951.109863, 6988.313965, 6980.268555, 6961.67041, 6963.237305, 6941.258789, 6912.82373, 6949.427734, 6914.558594, 6940.872559, 6953.836914, 6974.214844, 6940.468262, 6962.045898, 6964.741211, 6974.792969, 6984.626953, 6960.181152, 6941.772949, 6968.84668, 6969.408691, 7007.266602, 7009.336426, 6980.207031, 7025.104492, 7023.696777, 7029.18457, 7032.480469, 7004.279297, 7015.292969, 7013.405762, 7021.648926, 7011.018555, 6986.926758, 6967.442383, 7000.395996, 7034.132324, 7071.63916, 7056.477051, 7069.144531, 7048.108398, 7026.757324, 7025.945313, 7005.990723, 7042.26416, 7052.068848, 7013.022461, 7037.683594, 7046.592773, 7016.127441, 7036.814453, 7012.567383, 7018.008301, 7037.400879, 7001.190918, 7034.325195, 7044.303223, 7050.485352, 7066.205566, 7078.788574, 6988.834961, 6975.38916, 7022.356445, 7041.219238, 6983.971191, 6995.942871, 7025.41748, 7007.804688, 7006.237305, 7028.081543, 6999.606934, 7010.276367, 7088.48584, 7073.358887, 7086.416992, 7062.260742, 7083.408691, 7051.283203, 7089.970215, 7065.655762, 7028.61377, 7066.100586, 7087.12207, 7076.796875, 7105.432617, 7103.87793, 7100.27002, 7078.195801, 7084.872559, 7097.256348, 7079.417969, 7118.063965, 7069.087402, 7100.994629, 7115.395508, 7113.543945]\n",
            "[4207.35791, 4216.11084, 4215.395508, 4219.109863, 4206.049805, 4178.719238, 4191.460938, 4197.625488, 4203.156738, 4197.602051, 4196.364746, 4201.370605, 4222.584473, 4186.108398, 4196.169434, 4203.213867, 4212.039551, 4196.695313, 4187.022461, 4194.221191, 4211.462402, 4195.547852, 4201.975586, 4206.93457, 4199.533691, 4209.392578, 4203.991699, 4212.006348, 4228.041504, 4205.280762, 4223.822266, 4221.668945, 4210.18457, 4230.5625, 4227.772949, 4217.800293, 4211.121094, 4209.044434, 4208.580078, 4213.471191, 4219.703613, 4226.148438, 4234.069824, 4224.689453, 4240.581055, 4236.561523, 4238.361328, 4239.679688, 4244.086914, 4256.416016, 4261.603027, 4261.668457, 4249.989746, 4254.170898, 4241.758789, 4255.403809, 4259.746582, 4243.85498, 4245.771973, 4259.503906, 4268.962891, 4275.388184, 4250.658203, 4262.523438, 4275.270996, 4268.481934, 4261.787598, 4237.849609, 4236.976074, 4253.837891, 4258.691895, 4260.73877, 4296.725586, 4302.359375, 4296.003418, 4298.339355, 4283.602051, 4286.610352, 4309.913574, 4331.964355, 4323.773438, 4329.814453, 4341.097656, 4341.411621, 4341.533691, 4352.203125, 4339.76709, 4343.231934, 4331.013672, 4340.046387, 4352.647949, 4367.114746, 4393.856445, 4398.939941, 4408.1875, 4385.235352, 4387.204102, 4399.770996, 4403.445801, 4406.878418, 4431.486328, 4432.768066, 4430.189453, 4429.677734, 4458.892578, 4442.674805, 4433.078613, 4450.387207, 4459.433105, 4460.916016, 4453.090332, 4483.633789, 4459.666992, 4439.961914, 4456.404297, 4447.248047, 4463.32666, 4477.393555, 4478.495117, 4476.428223, 4485.64209, 4488.669922, 4498.938477, 4496.48584, 4504.472168, 4513.290039, 4497.365234, 4509.536621, 4483.311523, 4488.716309, 4450.251953, 4454.81543, 4425.023438, 4411.046387, 4397.236328, 4366.820313, 4366.868164, 4375.888184, 4343.311523, 4356.175781, 4376.463379, 4385.914551, 4378.562988, 4364.901855, 4388.717285, 4373.089844, 4369.537109, 4375.095215, 4359.419434, 4363.533691, 4366.265137, 4369.214844, 4370.345215, 4410.125977, 4377.556152, 4416.514648, 4413.394531, 4397.878906, 4390.100586, 4381.590332, 4439.229492, 4392.99707, 4426.624023, 4407.58252, 4418.563477, 4418.577637, 4432.307129, 4424.325684, 4431.048828, 4461.746582, 4417.746582, 4450.234863, 4434.748535, 4438.709961, 4422.484375, 4439.189941, 4452.185547, 4468.133301, 4442.833496, 4466.676758, 4475.743164, 4519.505371, 4469.697754, 4496.077148, 4491.15918, 4485.835449, 4492.549316, 4499.756348, 4522.033203, 4514.435547, 4511.870605, 4522.14209, 4531.708008, 4538.844727, 4545.432617, 4531.431152, 4548.831543, 4544.129883, 4543.649414, 4557.436035, 4532.026855, 4557.161133, 4540.683105, 4565.293945, 4563.608398, 4584.164063, 4588.557617, 4603.056641, 4630.293945, 4610.01123, 4640.141113, 4641.031738, 4640.524414, 4670.31543, 4638.266602, 4677.079102, 4652.836914, 4661.620117, 4667.335449, 4663.011719, 4673.42041, 4663.262207, 4665.075195, 4687.839355, 4706.342773, 4682.275879, 4697.07959, 4658.594727, 4714.794434, 4713.694336, 4775.696289, 4750.224121, 4752.94043, 4769.602051, 4736.691406, 4742.311035, 4728.995605, 4740.608398, 4729.078125, 4725.722168, 4740.271973, 4724.534668, 4771.65332, 4801.128906, 4768.706543, 4768.558594, 4786.56543, 4792.623047, 4814.770508, 4776.812012, 4772.942871, 4784.902344, 4761.609863, 4831.148438, 4789.840332, 4801.992188, 4804.019043, 4812.019043, 4824.180176, 4826.361816, 4822.506836, 4848.13916, 4856.760742, 4861.69043, 4842.306641, 4863.143066, 4859.747559, 4893.199219, 4881.854004, 4866.509277, 4870.554688, 4893.708496, 4900.53125, 4903.418945, 4893.224121, 4930.036621, 4914.897461, 4912.327637, 4940.518066, 4921.941406, 4948.613281, 4933.547363, 4974.310059, 5012.690918, 4980.145508, 4980.054199, 5021.416992, 4966.77832, 4978.30957, 5007.679688, 4981.048828, 5003.519531, 5011.458496, 5021.949707, 5027.883789, 5009.574219, 5072.07666, 5070.875977, 5044.542969, 5035.967285, 5068.711914, 5082.862305, 5036.361328, 5054.112793, 5071.290039, 5070.484863, 5035.959473, 5068.712891, 5079.416016, 5093.722168, 5058.009766, 5066.312012, 5074.39209, 5074.325195, 5097.999512, 5103.574707, 5084.450195, 5089.344238, 5106.862793, 5104.757324, 5106.45459, 5103.892578, 5089.762695, 5109.069824, 5099.484863, 5146.907227, 5119.645996, 5099.070801, 5099.511719, 5139.735352, 5162.389648, 5142.95459, 5180.649902, 5153.085938, 5166.522461, 5166.967773, 5148.339844, 5178.507813, 5126.146484, 5151.447754, 5173.884766, 5175.589844, 5158.960449, 5168.782227, 5134.039551, 5171.414063, 5175.016602, 5175.701172, 5192.912109, 5196.936523, 5193.939453, 5195.185059, 5170.886719, 5190.417969, 5185.539551, 5190.519043, 5194.80957, 5164.215332, 5201.346191, 5207.737305, 5214.37207, 5193.73877, 5211.019043, 5206.243652, 5206.262695, 5178.669434, 5210.509766, 5235.105957, 5231.689941, 5212.867676, 5243.445313, 5244.682129, 5259.533691, 5238.333984, 5258.585938, 5244.671875, 5251.818359, 5230.95166, 5239.415039, 5232.032227, 5235.147461, 5243.806641, 5230.549316, 5240.791016, 5228.185547, 5264.788086, 5256.361328, 5273.541992, 5242.010742, 5268.875977, 5263.410645, 5269.22998, 5278.419922, 5260.797363, 5280.194336, 5279.991699, 5270.001953, 5277.932129, 5330.171387, 5255.993652, 5300.66748, 5295.962402, 5270.733887, 5277.338379, 5285.054688, 5295.330566, 5296.164551, 5281.541504, 5322.331543, 5286.565918, 5291.782227, 5293.292969, 5313.135254, 5295.473633, 5285.266113, 5276.212402, 5277.320313, 5286.665527, 5314.3125, 5323.083008, 5311.893555, 5331.616211, 5316.829102, 5329.634766, 5306.666016, 5316.870117, 5319.374512, 5299.359375, 5316.490234, 5300.391113, 5302.793457, 5350.788574, 5308.125977, 5323.580078, 5305.98291, 5318.583496, 5316.283691, 5324.571289, 5302.404785, 5304.949707, 5277.603027, 5317.358887, 5306.833008, 5310.914551, 5327.600098, 5347.202637, 5332.61084, 5301.772461, 5327.006348, 5312.40625, 5312.479004, 5343.726563, 5325.132813, 5309.711426, 5331.055176, 5298.802734, 5319.487305, 5303.160645, 5307.872559, 5323.529785, 5307.771973, 5317.435059, 5342.387695, 5326.381836, 5338.573242, 5290.707031, 5342.088379, 5295.836914, 5315.93457, 5331.806152, 5347.339844, 5347.669434, 5323.370605, 5333.896973, 5304.237305, 5315.943848, 5314.19043, 5343.36377, 5316.799316, 5355.000488, 5323.412598, 5349.363281, 5336.045898, 5318.879395, 5349.29541, 5330.329102, 5334.798828, 5316.322266, 5314.300781, 5308.376465, 5324.734863, 5296.769531, 5329.475098, 5324.505859, 5347.591309, 5355.237305, 5326.375488, 5357.635254, 5305.925781, 5310.366699, 5351.814453, 5303.925781, 5315.980469, 5342.302246, 5322.976563, 5326.276367, 5332.859863, 5305.925293, 5332.248535, 5311.663086, 5371.86084, 5324.556152, 5320.262207, 5326.500488, 5293.151855, 5331.645508, 5298.013672, 5300.989746, 5355.470703, 5299.207031, 5323.084473, 5353.477539, 5286.230957, 5310.85498, 5350.483398, 5354.818359, 5347.154785, 5337.410645, 5312.646973, 5332.568848, 5345.169434, 5316.466309, 5348.405762, 5302.709961, 5316.976563, 5335.128906, 5341.189453, 5319.638672, 5373.375488, 5364.35791, 5328.655273, 5346.648438, 5336.409668, 5331.412109, 5326.631348, 5312.625, 5308.256348, 5326.709961, 5317.592773, 5336.648926, 5359.550781, 5296.044434, 5333.157227, 5342.443848, 5363.106934, 5339.168457, 5325.767578, 5294.754883, 5322.375488, 5334.195801, 5320.643066, 5323.472656, 5339.803223, 5288.203613, 5308.71875, 5334.53418, 5327.811523, 5362.976074, 5326.128418, 5346.15625, 5337.001953, 5316.067383, 5354.71582, 5333.269043, 5324.661133, 5306.56543, 5311.203613, 5316.994629, 5323.010254, 5311.355957, 5331.886719, 5331.269043, 5317.998535, 5316.649414, 5317.683105, 5340.094727, 5330.665039, 5339.736816, 5337.723633, 5337.856445, 5336.319824, 5321.947754, 5345.629395, 5349.160156, 5336.246582, 5336.600586, 5353.070801, 5335.165039, 5345.585938, 5322.147461, 5330.416016, 5313.675293, 5302.632813, 5314.623047, 5316.947754, 5311.057617, 5353.206055, 5324.230469, 5346.895508, 5348.971191, 5352.762695, 5322.791016, 5308.414551, 5320.73291, 5293.022949, 5306.162109, 5278.065918, 5279.645996, 5294.5625, 5271.311035, 5312.499023, 5281.801758, 5317.453613, 5296.570801, 5288.947754, 5285.779297, 5283.863281, 5317.430664, 5304.276855, 5295.483887, 5273.90625, 5295.097168, 5300.024902, 5258.045898, 5281.51123, 5293.799316, 5253.004883, 5279.508301, 5275.04834, 5279.737305, 5294.556152, 5288.130371, 5307.296875, 5304.240723, 5287.016602, 5277.782227, 5302.322266, 5297.629395, 5284.668945, 5287.689453, 5288.714355, 5271.842285, 5285.341309, 5282.614746, 5296.159668, 5286.631836, 5293.565918, 5317.545898, 5269.82666, 5279.40918, 5285.936035, 5310.369141, 5269.984863, 5285.236816, 5266.905762, 5304.271973, 5287.565918, 5291.256836, 5263.55957, 5281.319824, 5276.799805, 5276.753418, 5280.955078, 5283.677246, 5258.652832, 5256.768555, 5277.217285, 5261.413574, 5263.221191, 5278.38623, 5280.363281, 5289.730469, 5272.313965, 5267.713867, 5286.538574, 5282.375977, 5266.616699, 5271.560059, 5245.062988, 5304.031738, 5257.855957, 5245.950195, 5238.349609, 5234.315918, 5290.240723, 5277.552246, 5260.989258, 5269.388184, 5276.596191, 5302.255859, 5268.802246, 5237.407227, 5274.467285, 5260.729492, 5253.851563, 5278.581055, 5277.434082, 5253.029297, 5257.015137, 5224.842773, 5260.476563, 5228.769043, 5246.98584, 5232.145996, 5225.179688, 5254.751953, 5245.391602, 5313.734375, 5276.978516, 5250.422363, 5277.429199, 5290.995605, 5293.608398, 5277.386719, 5252.734375, 5258.56543, 5251.25293, 5246.146973, 5268.251953, 5238.45459, 5215.294434, 5235.922852, 5220.662598, 5224.637207, 5253.665527, 5230.259277, 5243.058105, 5268.645508, 5287.806152, 5259.856445, 5272.291016, 5265.124023, 5263.149414, 5280.279785, 5276.353516, 5259.202637, 5272.759766, 5264.612793, 5261.445313, 5306.40332, 5274.402344, 5301.79248, 5295.331055, 5284.935059, 5266.252441, 5265.876953, 5283.765137, 5281.576172, 5276.783203, 5264.999512, 5264.815918, 5259.313477, 5291.986816, 5286.67041, 5264.086426, 5314.850586, 5273.205566, 5294.855469, 5297.94043, 5283.98877, 5301.077148, 5306.84375, 5310.456055, 5299.20459, 5283.543945, 5278.415039, 5294.01709, 5268.807129, 5317.419434, 5308.090332, 5263.978516, 5290.554199, 5265.952148, 5287.324707, 5289.95166, 5285.595215, 5290.586914, 5290.063965, 5297.126465, 5257.566895, 5278.139648, 5309.275391, 5289.452148, 5283.300781, 5272.300293, 5318.29248, 5297.999512, 5292.645508, 5310.775879, 5296.657227, 5284.285156, 5311.063477, 5272.178223, 5277.008789, 5282.03125, 5286.923828, 5304.021484, 5323.905762, 5313.457031, 5333.769531, 5320.530762, 5298.883301, 5342.677734, 5302.753906, 5328.05127, 5335.078125, 5316.51123, 5321.376465, 5337.136719, 5307.208496, 5329.594238, 5335.28125, 5325.373047, 5328.941895, 5345.416016, 5330.42041, 5341.282227, 5304.383789, 5309.701172, 5281.289551, 5294.51123, 5317.97998, 5331.134766, 5318.289063, 5371.228516, 5363.076172, 5338.925293, 5332.619141, 5339.959961, 5308.04541, 5361.911621, 5363.021484, 5360.838379, 5352.701172, 5370.109863, 5373.918457, 5373.20459, 5335.217773, 5341.762695, 5321.985352, 5331.467773, 5394.216309, 5356.458008, 5381.859863, 5347.165039, 5355.044922, 5330.091309, 5374.450684, 5389.942383, 5373.361816, 5385.058594, 5388.365234, 5372.802734, 5360.772461, 5416.349121, 5410.429688, 5421.347656, 5408.367188, 5402.083984, 5425.893066, 5411.011719, 5425.777832, 5405.764648, 5434.733398, 5433.53418, 5435.165039, 5433.130371, 5465.818848, 5445.636719, 5454.710938, 5481.713379, 5458.222656, 5487.081055, 5472.515137, 5499.016602, 5509.44873, 5499.084473, 5526.202148, 5517.74707, 5520.389648, 5571.633789, 5599.893555, 5564.900879, 5590.132813, 5599.399414, 5600.382813, 5622.473633, 5672.589355, 5649.93457, 5643.066895, 5662.142578, 5683.831055, 5703.021484, 5722.818848, 5723.704102, 5794.185547, 5784.610352, 5804.027832, 5772.849121, 5816.698242, 5827.681641, 5807.625, 5864.763672, 5885.519043, 5931.642578, 5917.060547, 5940.760742, 5968.368164, 5958.721191, 6035.472656, 6012.112305, 6061.161621, 6059.855469, 6076.796875, 6147.516602, 6175.887695, 6223.152344, 6240.399902, 6302.315918, 6338.723633, 6451.75, 6490.357422, 6513.101074, 6553.20752, 6595.631348, 6584.598633, 6582.735352, 6583.369141, 6622.813965, 6631.925293, 6643.881836, 6689.981934, 6695.632324, 6731.67041, 6738.139648, 6763.813965, 6741.085938, 6751.344727, 6811.022949, 6800.565918, 6819.697266, 6817.869629, 6838.574707, 6807.001465, 6845.583984, 6828.304199, 6868.538574, 6869.934082, 6914.30127, 6905.231445, 6927.755371, 6919.668457, 6918.843262, 6925.48877, 6915.154297, 6934.27002, 6961.066895, 6980.740234, 6947.98291, 6973.063965, 6967.126465, 6986.170898, 6973.043945, 6952.657715, 6982.283691, 6979.979004, 6950.232422, 6972.290039, 6992.870117, 6943.514648, 6937.071289, 6986.206543, 6971.374512, 6967.17334, 6947.119629, 7011.062988, 6968.106934, 6976.300781, 7045.364746, 6951.009766, 6966.793457, 7015.097656, 6984.802246, 7021.427734, 6958.177246, 6994.775879, 6954.145996, 6944.734375, 7000.602539, 6966.103027, 6948.470703, 6991.967285, 6947.335938, 6950.875, 6974.914063, 6971.526367, 6953.162598, 6984.845215, 6987.253418, 6961.181152, 6994.476563, 6975.372559, 6984.199707, 6960.16748, 6980.833984, 6921.700195, 6937.973633, 6960.150391, 6961.796875, 6944.512207, 6940.721191, 6945.476074, 6988.072266, 6994.510742, 6994.133301, 6998.313477, 7004.037598, 6985.492676, 6972.192871, 6959.612793, 6956.54541, 6962.003906, 6976.174316, 6951.047363, 6944.359863, 6955.839844, 6977.875977, 6976.946777, 6942.867676, 6934.231445, 6990.552734, 6945.47168, 6950.605957, 6930.67334, 6951.27002, 6941.720215, 6953.680176, 6962.441406, 6980.756836, 6956.265625, 6963.350098, 6970.847168, 6993.644043, 7022.090332, 6993.960938, 6984.119141, 7002.175781, 6991.475098, 6993.374512, 6957.632813, 6984.988281, 6998.896484, 6992.07959, 6984.699219, 6958.072266, 6944.245117, 6983.375488, 6947.072754, 6976.237793, 6950.023926, 6971.24707, 6958.342285, 6974.78125, 6939.930176, 6973.827637, 6998.155762, 6917.702637, 6943.538086, 6974.067383, 6936.484375, 6976.151855, 6972.980469, 6928.160645, 6914.751465, 6944.694336, 6928.868164, 6927.683105, 6934.987793, 6990.705078, 6922.827637, 6944.696777, 6957.083984, 6945.790527, 6930.226563, 6949.703125, 6963.45166, 6917.655273, 6951.450195, 6958.053711, 6908.140625, 6915.149414, 6923.020508, 6925.109375, 6915.037109, 6938.557129, 6919.716797, 6935.566895, 6912.805176, 6900.212891, 6913.53418, 6873.444824, 6919.125488, 6906.726074, 6958.98877, 6916.649414, 6922.523926, 6937.781738, 6906.34082, 6908.839844, 6921.383789, 6957.509766, 6955.121094, 6931.719238, 6925.788574, 6958.213379, 6948.227539, 6919.040527, 6902.839355, 6948.142578, 6931.256348, 6936.37207, 6921.743164, 6916.333984, 6908.488281, 6889.847168, 6880.060059, 6878.703125, 6868.485352, 6858.923828, 6887.23291, 6867.917969, 6894.561523, 6863.476074, 6899.418945, 6884.722656, 6861.830566, 6913.778809, 6903.726074, 6889.893066, 6899.112793, 6905.213867, 6916.56543, 6918.362305, 6942.943359, 6928.425781, 6929.227539, 6910.603516, 6952.786133, 6952.523438, 6928.748535, 6932.169922, 6944.898438, 6928.664551, 6950.104492, 6978.068848, 6972.953125, 6952.375977, 6937.88916, 6903.1875, 6922.356445, 6934.898926, 6956.505371, 6895.938477, 6969.494141, 6955.674805, 6961.05957, 6933.627441, 6958.099121, 6943.829102, 6953.52832, 6959.526855, 6943.122559, 6983.048828, 6949.723145, 6943.956543, 6959.599609, 6907.324707, 6942.20459, 6904.584961, 6903.100098, 6947.953125, 6939.036133, 6906.158203, 6898.316406, 6941.681641, 6955.836426, 6925.464355, 6926.603516, 6927.199219, 6941.216797, 6947.875488, 6948.673828, 6981.172363, 6963.299316, 6985.290039, 6954.823242, 6977.724121, 6995.922363, 6961.836914, 7021.762207, 6985.987305, 7003.740234, 7020.019531, 7020.411621, 6965.374512, 7023.741699, 7006.69043, 6999.997559, 6992.743164, 6998.868652, 7026.019531, 7063.212402, 7031.322754, 7056.540527, 7066.701172, 7043.675781, 7059.455078, 7054.635254, 7050.696777, 7028.624512, 7039.277344, 7028.942383, 7030.843262, 7058.799805, 7047.308594, 7047.933594, 7035.344238, 6996.429199, 7020.553223, 7011.950195, 7019.729004, 7030.544434, 7050.87793, 7023.970703, 7021.98584, 7003.91748, 7045.756836, 7043.925293, 7017.373047, 7035.974609, 7025.267578, 7021.049316, 7025.379395, 7015.018555, 7009.816406, 6978.024414, 7023.40332, 7007.848633, 7050.554199, 6989.616699, 7040.873047, 7023.547363, 7041.93457, 7042.730957, 7037.152832, 7025.464355, 7024.568359, 7028.533691, 7052.020508, 7026.015137, 7014.135742, 7020.961426, 7001.062012, 7012.805664, 6978.637695, 7001.091309, 6984.743652, 7010.032227, 6997.278809, 7014.98877, 7018.92041, 6980.163574, 6975.428223, 7033.026855, 6968.166504, 6981.010742, 6960.228027, 6948.415039, 6985.663574, 6983.720215, 6963.678711, 6966.069336, 6973.789063, 6983.743652, 6941.885254, 6948.503906, 6947.247559, 6921.333496, 6931.508301, 6951.59375, 6973.150391, 6957.80957, 6940.412598, 6962.72998, 6959.083984, 6980.135254, 6970.542969, 6899.360352, 6951.631348, 6948.756348, 6939.662109, 6969.627441, 6940.925293, 6961.326172, 6948.361328, 6931.74707, 6939.552734, 6915.316895, 6938.918457, 6962.012695, 6891.089355, 6906.632813, 6922.84375, 6937.154785, 6970.066406, 6940.490234, 6938.094238, 6969.049805, 6934.848145, 6967.837402, 6939.519043, 6973.601074, 6931.112305, 6954.77832, 6954.430176, 6956.769043, 6952.035645, 6920.605957, 6930.22168, 6939.780762, 6974.729004, 6896.365723, 6955.529785, 6934.377441, 6919.608398, 6946.664063, 6930.86084, 6941.912598, 6872.010742, 6921.109375, 6947.949219, 6922.677246, 6900.765625, 6909.508301, 6909.734375, 6889.12793, 6881.317383, 6925.875488, 6899.131348, 6910.810059, 6893.116699, 6932.155273, 6882.899414, 6926.103027, 6892.328613, 6923.467285, 6934.862793, 6937.75, 6895.036133, 6902.36084, 6887.171875, 6919.999512, 6866.260254, 6886.929688, 6863.06543, 6830.73877, 6841.582031, 6849.810547, 6823.701172, 6825.803711, 6800.802246, 6792.245117, 6760.152832, 6813.355469, 6741.091797, 6796.213867, 6751.757813, 6791.243164, 6765.575195, 6767.893066, 6764.128418, 6801.588867, 6769.91748, 6817.012695, 6798.460938, 6763.248535, 6734.365234, 6780.106445, 6789.25293, 6767.084473, 6783.818359, 6756.457031, 6772.208496, 6751.723145, 6739.63623, 6771.344238, 6776.753418, 6764.714355, 6761.589355, 6748.414551, 6723.11084, 6732.672852, 6731.805176, 6761.75, 6728.150391, 6715.460938, 6746.281738, 6755.359863, 6757.157227, 6721.29541, 6706.271973, 6760.158203, 6732.04834, 6744.510742, 6752.746582, 6685.891602, 6734.125, 6713.743164, 6744.838867, 6738.484863, 6749.503906, 6705.345215, 6714.296875, 6702.01416, 6715.693359, 6709.990234, 6699.926758, 6737.756836, 6746.951172, 6746.47998, 6700.894043, 6712.179199, 6710.060059, 6733.696777, 6721.191406, 6768.693848, 6734.695313, 6721.712891, 6733.911133, 6735.18457, 6743.118652, 6760.905762, 6739.413086, 6806.674316, 6814.757813, 6756.441895, 6806.202148, 6771.558594, 6808.224609, 6815.688965, 6810.911133, 6819.984375, 6802.207031, 6802.451172, 6822.492676, 6833.785156, 6805.41748, 6832.900391, 6798.187012, 6857.456543, 6835.54248, 6851.177246, 6850.827148, 6861.633301, 6871.144043, 6855.009277, 6850.952637, 6849.549805, 6904.402832, 6881.757324, 6886.262207, 6862.458984, 6906.490723, 6893.867676, 6844.268555, 6894.207031, 6906.30127, 6904.48584, 6927.724121, 6896.859863, 6925.945313, 6914.95752, 6942.816406, 6969.478516, 6964.297363, 7016.745605, 6999.064941, 7014.114746, 7010.013184, 7065.806641, 7096.922363, 7129.033691, 7143.507813, 7130.777344, 7165.148926, 7155.51709, 7193.208496, 7202.402832, 7191.950195, 7215.899414, 7256.975586, 7285.532227, 7250.475586, 7298.44043, 7304.765137, 7343.918945, 7437.138184, 7450.953613, 7466.148926, 7503.471191, 7554.452637, 7629.360352, 7661.506348, 7699.882324, 7710.79834, 7766.131836, 7796.170898, 7802.441406, 7817.407715, 7860.276855, 7850.678711, 7901.619629, 7896.894531, 7951.716309, 7966.273926, 7947.197266, 7997.385254, 8006.124023, 7996.929688, 8019.773926, 8046.068359, 8079.717773, 8107.629395, 8102.07959, 8097.111816, 8126.027832, 8105.873535, 8164.052246, 8148.706543, 8164.673828, 8129.663574, 8168.820313, 8163.695313, 8155.694824, 8191.424805, 8192.40625, 8174.049805, 8151.190918, 8140.973633, 8138.606934, 8130.414551, 8148.788574, 8134.220703, 8137.869141, 8151.229492, 8141.033691, 8113.045898, 8123.596191, 8092.51709, 8121.187012, 8098.142578, 8114.139648, 8080.960449, 8080.728027, 8078.239746, 8052.640625, 8081.547363, 8079.595703, 8114.51416, 8088.520508, 8115.644043, 8104.244629, 8094.794434, 8128.032227, 8080.368164, 8064.540527, 8043.248047, 8060.591797, 8022.324219, 7987.332031, 8002.279297, 7971.47168, 7963.855957, 7984.01416, 7988.304199, 7943.515625, 7976.458008, 7998.547852, 7958.841309, 7962.70459, 7959.717285, 7965.275879, 7968.02832, 7916.066895, 7884.810059, 7875.588379, 7874.698242, 7880.208008, 7839.455566, 7864.591797, 7866.435059, 7848.407715, 7849.342773, 7835.429688, 7844.885254, 7815.731445, 7793.289551, 7758.765137, 7746.567871, 7777.377441, 7710.855957, 7719.358398, 7718.13623, 7726.709473, 7685.964355, 7688.725098, 7664.571777, 7680.512207, 7678.640625, 7656.129395, 7652.833008, 7668.317871, 7616.628906, 7630.685059, 7613.716309, 7609.116211, 7555.152832, 7607.731445, 7573.116699, 7588.418457, 7535.360352, 7534.133301, 7543.947754, 7517.855957, 7483.319336, 7474.495605, 7454.376953, 7395.793945, 7383.991699, 7415.279785, 7394.134766, 7386.15332, 7417.332031, 7383.45459, 7374.083984, 7380.290039, 7352.119629, 7316.786621, 7308.461426, 7297.251465, 7286.71582, 7258.155273, 7250.674805, 7242.347656, 7215.358887, 7205.454102, 7181.704102, 7189.217773, 7127.412598, 7140.383301, 7108.150879, 7105.20752, 7040.210449, 7060.983398, 7030.591797, 7022.229492, 7007.410645, 6992.137207, 6961.726074, 6940.491699, 6916.281738, 6928.643555, 6909.667969, 6891.437012, 6843.553711, 6837.644531, 6828.94043, 6825.468262, 6802.955078, 6786.316895, 6745.537109, 6719.376465, 6699.256348, 6685.174805, 6660.01123, 6654.409668, 6626.311035, 6609.768066, 6593.474609, 6593.35498, 6557.363281, 6566.782715, 6564.520996, 6547.824219, 6508.861816, 6499.62207, 6492.715332, 6448.955566, 6432.305664, 6422.887207, 6410.763184, 6391.094727, 6380.891602, 6346.808594, 6323.616211, 6339.43457, 6320.931641, 6304.349121, 6312.444824, 6326.907715, 6288.765137, 6264.540039, 6256.702637, 6253.540527, 6247.178711, 6233.710938, 6238.283691, 6213.563477, 6145.080078, 6119.082031, 6107.080566, 6107.342285, 6085.084961, 6090.553223, 6033.949219, 6032.244629, 6029.556641, 6004.837891, 6021.974121, 5996.070801, 5988.578125, 5989.12793, 5963.629883, 5958.266602, 5938.36377, 5902.062012, 5878.742188, 5890.34668, 5859.179688, 5828.486328, 5844.986816, 5836.912109, 5832.73584, 5797.88623, 5803.60498, 5774.868652, 5780.015137, 5766.89209, 5747.025391, 5730.677734, 5692.098633, 5700.489258, 5691.454102, 5673.30957, 5643.112793, 5633.373047, 5628.226563, 5655.031738, 5630.847168, 5626.584961, 5602.365723, 5592.900391, 5584.689941, 5563.406738, 5552.025391, 5546.366699, 5526.618652, 5517.487793, 5570.933105, 5610.111328, 5560.950684, 5519.067383, 5499.807617, 5487.977539, 5469.04541, 5486.648438, 5484.741699, 5529.340332, 5524.667969, 5499.290527, 5495.36377, 5475.268555, 5466.874512, 5454.306152, 5455.433594, 5455.609863, 5478.633789, 5464.739746, 5477.058594, 5446.394531, 5422.578613, 5430.989746, 5429.696289, 5427.312988, 5413.107422, 5417.36377, 5410.050781, 5394.009766, 5439.058594, 5414.441406, 5390.556641, 5369.063477, 5352.126465, 5349.90918, 5362.765137, 5371.024414, 5355.23584, 5349.978027, 5355.183105, 5368.057617, 5332.004883, 5376.938965, 5331.352051, 5323.76416, 5304.06543, 5299.576172, 5303.94873, 5266.602051, 5297.919434, 5294.951172, 5306.493652, 5312.327637, 5293.490723, 5284.427734, 5273.853516, 5252.377441, 5261.040527, 5224.847168, 5228.336426, 5227.489746, 5214.36084, 5232.141113, 5210.643555, 5248.082031, 5248.818359, 5247.652832, 5235.289063, 5198.480469, 5201.442871, 5198.722656, 5188.391113, 5203.859863, 5204.805664, 5195.320313, 5185.341797, 5194.753418, 5180.898926, 5168.187012, 5172.539063, 5188.383301, 5156.62207, 5168.273438, 5171.569336, 5173.859375, 5166.980957, 5185.472656, 5153.221191, 5162.368652, 5166.986816, 5169.38916, 5155.101563, 5146.746582, 5144.549805, 5128.717773, 5144.714844, 5128.443848, 5113.534668, 5091.007813, 5097.523926, 5105.071777, 5096.117676, 5089.691895, 5081.053223, 5086.630371, 5091.885254, 5074.206055, 5087.371582, 5090.821289, 5109.039551, 5088.515625, 5122.217773, 5073.610352, 5091.075195, 5089.163086, 5109.288086, 5091.970703, 5091.962402, 5104.191406, 5095.16748, 5107.286621, 5108.092285, 5084.018066, 5087.574707, 5088.803711, 5091.505859, 5024.453125, 5048.958496, 5061.505371, 5041.298828, 5046.265137, 5026.677246, 5023.325684, 5026.38623, 5073.884277, 5074.557129, 5060.737305, 5063.681152, 5055.453125, 5061.007324, 5061.033691, 5069.777832, 5072.827148, 5058.928711, 5040.558105, 5038.078613, 5064.792969, 5035.847168, 5050.608887, 5059.271484, 5044.913574, 5054.62793, 5048.005371, 5051.591309, 5064.660645, 5056.205566, 5057.558594, 5026.050781, 5055.228516, 5033.492676, 5037.59668, 5030.475586, 5045.401855, 5053.079102, 5045.035645, 5043.129883, 5037.410645, 5019.853027, 5009.364746, 5012.602539, 5026.472656, 5016.199707, 5028.213379, 5004.520508, 4995.289063, 5003.586914, 5013.697266, 5004.811523, 5004.940918, 5004.723633, 5017.487793, 4995.809082, 5017.270508, 5013.836914, 5002.759277, 5011.052734, 4985.306152, 4981.685547, 5002.325195, 5002.371582, 5001.881348, 4987.355469, 4997.632813, 4977.26416, 4976.664551, 5016.01123, 5029.222656, 5024.937012, 5030.779785, 5026.033203, 5012.714355, 5026.222656, 5044.574219, 5050.187012, 5024.445801, 5028.824707, 5025.845703, 5047.183594, 5043.074707, 5054.985352, 5046.316406, 5062.77832, 5054.085938, 5080.006348, 5072.451172, 5081.24707, 5085.04248, 5086.027344, 5079.849609, 5064.45752, 5061.160156, 6963.533691, 6921.250977, 6975.083008, 6936.219238, 6913.58252, 6905.405762, 6944.510254, 6961.000488, 6955.494629, 6971.598145, 6946.180176, 6947.443359, 6935.911621, 6918.36084, 6929.006348, 6920.986328, 6905.404785, 6883.42627, 6922.859863, 6895.661133, 6896.462402, 6857.813477, 6812.030273, 6819.520508, 6798.216797, 6818.739746, 6794.277832, 6817.807129, 6811.271973, 6829.213379, 6842.955566, 6855.70752, 6830.129395, 6798.967285, 6790.998535, 6798.031738, 6787.386719, 6808.73291, 6761.701172, 6827.919434, 6797.79834, 6849.094727, 7015.980469, 7029.347168, 7001.35791, 7029.015625, 7012.037109, 7045.811523, 7066.678223, 7036.458008, 7029.65332, 7067.569336, 7076.693848, 7086.972168, 7047.460449, 7074.632813, 7101.858887, 7075.689941, 7084.496094, 7088.437988, 7084.508789, 7109.51123, 7092.007324, 7117.165039, 7104.54834, 7152.771973, 7093.647949, 7128.883789, 7126.599121, 7151.673828, 7128.949707, 7147.957031, 7144.297852, 7146.749512, 7147.59082, 7145.772461, 7181.145508, 7168.524414, 7176.364746, 7178.000488, 7165.858887, 7164.131836, 7236.431152, 7226.460938, 7204.141113, 7261.228516, 7247.175293, 7321.506836, 7265.382324, 7302.001953, 7316.927734, 7351.349609, 7375.965332, 7389.108398, 7457.840332, 7493.822754, 7512.14502, 7536.871582, 7533.800293, 7622.10498, 7627.994141, 7676.73584, 7652.759766, 7712.166504, 7727.820313, 7765.553711, 7772.442871, 7819.429199, 7843.188477, 7846.790039, 7837.79541, 7900.914551, 7907.714355, 7928.466309, 7948.443848, 7963.272461, 7930.110352, 7952.617188, 7970.84668, 7972.823242, 7987.010254, 8030.849121, 8012.762695, 8027.581055, 8006.253418, 8027.755859, 7996.613281, 8021.839844, 8040.086914, 8067.05957, 8062.806641, 8099.569824, 8085.783691, 8059.635254, 8082.49707, 8064.452148, 8073.427734, 8110.504883, 8067.09375, 8090.73584, 8084.318848, 8095.179199, 8100.34668, 8103.799316, 8118.666016, 8085.270996, 8150.728516, 8132.56543, 8106.105957, 8127.222656, 8094.818848, 8085.819824, 8104.857422, 8065.838867, 8049.132813, 8053.650879, 8036.694824, 8025.672852, 8056.510254, 8026.528809, 8045.525391, 8038.384766, 8053.620605, 8043.59375, 8028.310059, 8077.797363, 8017.255371, 8026.282227, 8043.083984, 7999.400391, 8009.635742, 8022.869141, 7989.238281, 7980.50293, 7985.494141, 7962.597656, 7940.351563, 7948.210449, 7985.119629, 7943.416504, 7923.76709, 7909.799316, 7908.258301, 7867.368652, 7893.40918, 7921.63916, 7888.286133, 7875.294922, 7837.070801, 7866.231445, 7864.024414, 7829.078613, 7816.026855, 7795.118164, 7831.500488, 7804.543945, 7759.504395, 7754.570801, 7777.02002, 7754.783203, 7726.623535, 7723.753906, 7727.413086, 7730.236816, 7720.625, 7732.200684, 7704.703613, 7680.982422, 7652.114746, 7687.999512, 7686.705078, 7670.240234, 7671.95166, 7702.506348, 7696.261719, 7662.029297, 7655.791992, 7655.954102, 7670.309082, 7633.259766, 7659.064941, 7611.953613, 7586.942871, 7559.431641, 7597.230469, 7548.63916, 7546.978516, 7533.674805, 7529.53418, 7535.90918, 7497.330078, 7524.426758, 7493.549805, 7467.862305, 7476.106934, 7432.312988, 7446.058594, 7432.600586, 7392.979004, 7389.966309, 7392.393066, 7369.843262, 7334.137695, 7292.70166, 7296.424805, 7261.727539, 7257.69043, 7234.349609, 7234.199219, 7190.214355, 7183.566406, 7194.195801, 7156.753906, 7147.089355, 7146.379395, 7094.032715, 7074.88916, 7060.644531, 7048.791992, 6984.412109, 6964.970215, 6967.59375, 6937.628418, 6941.72168, 6933.577148, 6902.151855, 6870.680176, 6832.115723, 6806.861328, 6852.516113, 6837.972656, 6814.228516, 6794.831543, 6797.463379, 6756.817383, 6787.756348, 6732.300781, 6729.829102, 6688.768066, 6659.379883, 6661.091309, 6642.648926, 6644.96875, 6597.831543, 6572.896484, 6560.302734, 6550.379883, 6502.261719, 6504.700195, 6482.475098, 6453.018555, 6435.944336, 6421.013672, 6403.0625, 6399.893555, 6351.13916, 6310.800293, 6338.138184, 6316.128906, 6316.482422, 6296.554199, 6274.023438, 6233.126465, 6241.811035, 6204.832031, 6227.967773, 6200.43457, 6198.466797, 6168.652832, 6145.503418, 6159.966797, 6119.730469, 6107.955078, 6073.964355, 6048.392578, 6061.885254, 6022.704102, 5997.637695, 6002.290039, 5973.498047, 5973.36377, 5936.834961, 5936.440918, 5904.46582, 5897.479492, 5890.149414, 5876.775879, 5831.85791, 5830.107422, 5865.025391, 5834.879883, 5810.587402, 5806.331055, 5789.295898, 5769.54541, 5765.821777, 5736.169922, 5739.72998, 5718.350586, 5701.510254, 5689.959473, 5688.589355, 5682.818359, 5660.970215, 5654.152344, 5643.897461, 5657.771973, 5654.455078, 5645.784668, 5641.118652, 5626.37793, 5619.211426, 5589.400391, 5609.222656, 5601.790527, 5571.894043, 5560.69873, 5559.282715, 5547.785156, 5508.089355, 5491.524902, 5491.712402, 5515.90918, 5519.575684, 5482.510742, 5479.443359, 5457.845703, 5427.504883, 5429.095703, 5406.645508, 5395.739746, 5375.163574, 5413.286133, 5410.745605, 5391.608398, 5391.294922, 5366.381836, 5352.615723, 5365.500977, 5370.307129, 5358.292969, 5339.887207, 5342.579102, 5329.557617, 5324.478027, 5315.62207, 5320.422852, 5270.374023, 5267.506348, 5281.483398, 5293.944336, 5276.615723, 5283.835938, 5272.114258, 5267.635254, 5253.992188, 5232.458008, 5242.249512, 5257.395508, 5232.272949, 5235.201172, 5253.183105, 5239.671387, 5236.845703, 5219.654297, 5222.500977, 5193.223633, 5212.493164, 5204.85498, 5207.347168, 5197.0625, 5166.26123, 5164.367676, 5181.853516, 5152.632813, 5154.247559, 5169.781738, 5125.672363, 5124.269531, 5115.986816, 5117.853027, 5105.861328, 5118.595215, 5130.850098, 5134.214355, 5141.480469, 5129.737305, 5132.88916, 5121.875, 5122.991211, 5117.024414, 5108.879395, 5110.327148, 5110.768555, 5114.08252, 5115.208496, 5108.402344, 5117.231934, 5099.031738, 5050.773926, 5039.433594, 5041.766602, 5079.112305, 5075.107422, 5055.327637, 5074.642578, 5067.997559, 5071.681152, 5053.527344, 5048.881348, 5049.633301, 5052.182617, 5034.961426, 5035.819824, 5044.892578, 5058.085938, 5051.864746, 5044.385742, 5039.783203, 5019.661133, 5005.481445, 5031.28125, 5022.860352, 5025.638672, 4983.09668, 4997.351074, 4983.449219, 5011.844238, 4987.911621, 4994.155762, 4998.503418, 4988.503906, 4981.396973, 4971.598145, 4976.691895, 5003.720703, 5003.487305, 5004.366699, 4991.904297, 4994.827637, 5008.169922, 4999.930664, 5012.125488, 5002.196777, 5015.895508, 5024.088867, 5017.874512, 5009.666504, 4997.245117, 5011.875488, 5008.140137, 4981.529297, 4959.39502, 4997.008301, 5004.333008, 4995.533691, 4983.932129, 5001.385254, 4996.605469, 4994.218262, 4996.424316, 4988.755371, 5003.875977, 5000.078613, 4978.967285, 4986.928223, 4982.967773, 4965.04834, 4961.28125, 4984.66748, 4986.82666, 4984.126953, 4982.397949, 4976.894531, 4983.922363, 4940.688477, 4959.013672, 4971.335938, 4973.363281, 4954.277832, 4938.00293, 4972.266602, 4950.628418, 4947.712402, 4931.857422, 4931.689453, 4916.595215, 4910.496582, 4920.059082, 4960.80957, 4959.092285, 4974.818359, 4956.782715, 4970.961426, 4963.813477, 4980.136719, 4954.564453, 4957.058594, 4973.5, 4961.416992, 4976.414551, 4963.387207, 4968.361328, 4971.211914, 4947.969727, 4934.908203, 4945.707031, 4967.850098, 4947.063477, 4974.520508, 4981.52832, 4999.320313, 4970.966309, 4952.415039, 4959.917969, 4966.316406, 4989.699219, 4980.352539, 4959.6875, 4964.89209, 4952.837891, 4972.039063, 4977.161621, 4972.105957, 4965.177734, 4964.536621, 4988.236328, 4988.62793, 4980.483398, 4956.972656, 4988.361328, 4953.22998, 4952.549316, 4946.209961, 4953.844238, 4952.130371, 4957.498535, 4954.703125, 4953.089355, 4942.843262, 4948.694336, 4950.429199, 4947.942871, 4950.728027, 4945.142578, 4946.571289, 4955.776855, 4963.290527, 4964.945313, 4978.293945, 4974.414551, 4971.955078, 4975.971191, 4992.239746, 4982.756348, 4984.077148, 5027.369141, 5024.786133, 5014.371094, 5015.133789, 5015.436523, 5028.573242, 5039.728027, 5050.041016, 5053.458008, 5069.935059, 5068.672852, 5065.700195, 5058.22998, 5039.005859, 5058.037109, 5058.364258, 5049.121094, 5041.445801, 5042.271484, 5066.489258, 5064.187988, 5129.193848, 5112.8125, 5118.623535, 5116.486328, 5136.722656, 5125.164551, 5131.860352, 5128.88623, 5146.723633, 5172.486816, 5157.64209, 5184.997559, 5182.820801, 5185.291992, 5204.955078, 5202.013672, 5215.496094, 5216.896484, 5252.333984, 5241.377441, 5250.027344, 5255.804688, 5274.532715, 5241.660156, 5227.962402, 5212.916016, 5232.125488, 5226.781738, 5245.459473, 5262.168945, 5258.755371, 5247.217285, 5261.501465, 5267.373047, 5255.240723, 5259.179199, 5265.350586, 5304.459473, 5341.744141, 5350.088379, 5349.560547, 5378.542969, 5405.088379, 5365.425781, 5403.909668, 5412.438477, 5443.964844, 5459.535156, 5427.050293, 5455.327148, 5439.985352, 5424.949707, 5451.396973, 5492.009277, 5474.043945, 5507.490234, 5493.225586, 5538.766602, 5548.280762, 5568.504395, 5571.532715, 5599.309082, 5605.788086, 5619.593262, 5609.696777, 5636.95752, 5674.015625, 5670.269043, 5733.102539, 5729.42334, 5725.435547, 5730.018066, 5796.863281, 5792.975098, 5788.102051, 5794.731934, 5827.108398, 5836.411621, 5807.850586, 5850.628906, 5858.097168, 5865.364258, 5876.114746, 5875.43457, 5888.428223, 5866.71875, 5929.816406, 5950.891113, 5963.128418, 5983.793457, 5969.563477, 5987.356934, 5992.018066, 6008.030762, 6032.094727, 6066.712891, 6090.550781, 6097.217773, 6115.071289, 6154.243164, 6193.775391, 6149.76709, 6146.72998, 6195.946777, 6219.532227, 6217.706055, 6211.104492, 6282.202148, 6255.19043, 6200.552734, 6227.692383, 6205.515625, 6236.766602, 6288.403809, 6255.433105, 6254.759277, 6244.472656, 6214.262695, 6235.967773, 6227.339355, 6229.348145, 6207.870117, 6221.398438, 6240.837891, 6219.808594, 6198.103027, 6199.635742, 6192.59082, 6230.791016, 6228.866211, 6229.217285, 6237.114746, 6235.075195, 6270.237793, 6259.146484, 6258.688477, 6288.633789, 6303.217773, 6237.458984, 6277.006348, 6243.604492, 6307.946289, 6254.324707, 6243.155762, 6252.690918, 6271.009766, 6263.326172, 6256.416016, 6269.231445, 6331.709473, 6348.484375, 6349.358398, 6324.808105, 6362.254395, 6367.728516, 6388.583984, 6382.147461, 6384.948242, 6360.275391, 6346.90918, 6348.057129, 6393.76709, 6341.240234, 6331.165039, 6329.583984, 6355.885742, 6356.020996, 6374.374512, 6324.306641, 6297.643555, 6349.973145, 6363.821289, 6354.518066, 6349.465332, 6380.25, 6403.15332, 6378.026855, 6417.740234, 6354.116211, 6398.751953, 6402.549316, 6412.123535, 6433.464844, 6389.97998, 6424.754395, 6414.732422, 6392.997559, 6449.773926, 6438.35498, 6398.102051, 6424.613281, 6475.48291, 6416.556641, 6425.751465, 6427.34082, 6471.039063, 6469.834961, 6507.820313, 6458.250977, 6479.985352, 6535.916504, 6515.866699, 6530.456055, 6567.743164, 6556.291504, 6588.182617, 6565.338379, 6562.335938, 6539.263672, 6538.766113, 6568.320801, 6573.269531, 6569.984375, 6512.066406, 6558.220215, 6548.454102, 6595.274902, 6610.600098, 6594.17041, 6643.638672, 6607.785645, 6614.202148, 6608.618652, 6640.839355, 6645.400391, 6672.194336, 6650.266113, 6673.675781, 6636.921875, 6710.378906, 6647.979492, 6697.180664, 6691.400879, 6725.129883, 6770.445313, 6688.733887, 6712.954102, 6722.51416, 6734.833984, 6757.600098, 6743.365234, 6732.029785, 6718.67627, 6695.748047, 6715.036133, 6736.206055, 6761.420898, 6725.444336, 6766.836426, 6738.827148, 6790.5, 6786.425293, 6797.973633, 6830.958008, 6825.82959, 6791.008301, 6802.681152, 6794.587402, 6865.365234, 6864.752441, 6868.408691, 6850.391113, 6894.553711, 6872.376465, 6853.055176, 6855.136719, 6881.362305, 6865.633789, 6888.981934, 6923.773926, 6948.717773, 6930.934082, 6919.772461, 6931.588867, 6904.902832, 6946.858398, 6906.57373, 6938.549316, 6934.847656, 6935.113281, 6970.20166, 6956.239258, 6988.719727, 6952.24707, 6914.526855, 6975.436523, 6951.109863, 6988.313965, 6980.268555, 6961.67041, 6963.237305, 6941.258789, 6912.82373, 6949.427734, 6914.558594, 6940.872559, 6953.836914, 6974.214844, 6940.468262, 6962.045898, 6964.741211, 6974.792969, 6984.626953, 6960.181152, 6941.772949, 6968.84668, 6969.408691, 7007.266602, 7009.336426, 6980.207031, 7025.104492, 7023.696777, 7029.18457, 7032.480469, 7004.279297, 7015.292969, 7013.405762, 7021.648926, 7011.018555, 6986.926758, 6967.442383, 7000.395996, 7034.132324, 7071.63916, 7056.477051, 7069.144531, 7048.108398, 7026.757324, 7025.945313, 7005.990723, 7042.26416, 7052.068848, 7013.022461, 7037.683594, 7046.592773, 7016.127441, 7036.814453, 7012.567383, 7018.008301, 7037.400879, 7001.190918, 7034.325195, 7044.303223, 7050.485352, 7066.205566, 7078.788574, 6988.834961, 6975.38916, 7022.356445, 7041.219238, 6983.971191, 6995.942871, 7025.41748, 7007.804688, 7006.237305, 7028.081543, 6999.606934, 7010.276367, 7088.48584, 7073.358887, 7086.416992, 7062.260742, 7083.408691, 7051.283203, 7089.970215, 7065.655762, 7028.61377, 7066.100586, 7087.12207, 7076.796875, 7105.432617, 7103.87793, 7100.27002, 7078.195801, 7084.872559, 7097.256348, 7079.417969, 7118.063965, 7069.087402, 7100.994629, 7115.395508, 7113.543945, 7133.583008]\n"
          ]
        }
      ]
    },
    {
      "cell_type": "code",
      "source": [
        "mae_p  = mean_absolute_error(test_,forecast_)\n",
        "mape_p = mean_absolute_percentage_error(test_,forecast_)\n",
        "bias_p  = bias.bias(test_,forecast_)\n",
        "print('mae_p=',mae_p,'mape_p=',mape_p,'bias=',bias_p)"
      ],
      "metadata": {
        "id": "TPZT-ey8tSY0",
        "colab": {
          "base_uri": "https://localhost:8080/"
        },
        "outputId": "e8355359-4181-4bf2-a7db-ae384952905e"
      },
      "execution_count": 168,
      "outputs": [
        {
          "output_type": "stream",
          "name": "stdout",
          "text": [
            "mae_p= 19.261357907000008 mape_p= 0.0031826524808197115 bias= 0.35433186833333336\n"
          ]
        }
      ]
    },
    {
      "cell_type": "markdown",
      "source": [
        "# Meta-función básica de n periodos (persistente)\n",
        "Se usan 30 periodos equivalentes a dos horas y media en intervalos de cinco minutos\n"
      ],
      "metadata": {
        "id": "h1KDNauA1VZm"
      }
    },
    {
      "cell_type": "code",
      "source": [
        "to  = 0  ## Inicio de la posición del periodo de entrenamiento\n",
        "tt  = 13 ## Inicio de la posición del pronóstico de prueba\n",
        "tf  = 25 ## Fin de la posición del pronóstico de prueba \n",
        "np  = 30    ## Numero de periodos por salto\n",
        "forecast2_ =[]\n",
        "time2_     =[]\n",
        "for tt,tf in positions_test:\n",
        "    j=0\n",
        "    for i in range(tt,tf,np):\n",
        "        t_o = time.time()\n",
        "        forecast2_=forecast2_+persistent(serie[to+j:tt+j],np)\n",
        "        time2_.append(time.time() - t_o)\n",
        "        j=j+np"
      ],
      "metadata": {
        "id": "hnnxqwMS1aet"
      },
      "execution_count": 173,
      "outputs": []
    },
    {
      "cell_type": "code",
      "source": [
        "print(forecast2_)\n",
        "print(test_)"
      ],
      "metadata": {
        "id": "mqavnWO32Hqz",
        "outputId": "7a038539-8e21-4df5-da90-b56eea7da8fb",
        "colab": {
          "base_uri": "https://localhost:8080/"
        }
      },
      "execution_count": 165,
      "outputs": [
        {
          "output_type": "stream",
          "name": "stdout",
          "text": [
            "[4204.197754, 4204.197754, 4204.197754, 4204.197754, 4204.197754, 4204.197754, 4204.197754, 4204.197754, 4204.197754, 4204.197754, 4204.197754, 4204.197754, 4204.197754, 4204.197754, 4204.197754, 4204.197754, 4204.197754, 4204.197754, 4204.197754, 4204.197754, 4204.197754, 4204.197754, 4204.197754, 4204.197754, 4204.197754, 4204.197754, 4204.197754, 4204.197754, 4204.197754, 4204.197754, 4205.280762, 4205.280762, 4205.280762, 4205.280762, 4205.280762, 4205.280762, 4205.280762, 4205.280762, 4205.280762, 4205.280762, 4205.280762, 4205.280762, 4205.280762, 4205.280762, 4205.280762, 4205.280762, 4205.280762, 4205.280762, 4205.280762, 4205.280762, 4205.280762, 4205.280762, 4205.280762, 4205.280762, 4205.280762, 4205.280762, 4205.280762, 4205.280762, 4205.280762, 4205.280762, 4259.503906, 4259.503906, 4259.503906, 4259.503906, 4259.503906, 4259.503906, 4259.503906, 4259.503906, 4259.503906, 4259.503906, 4259.503906, 4259.503906, 4259.503906, 4259.503906, 4259.503906, 4259.503906, 4259.503906, 4259.503906, 4259.503906, 4259.503906, 4259.503906, 4259.503906, 4259.503906, 4259.503906, 4259.503906, 4259.503906, 4259.503906, 4259.503906, 4259.503906, 4259.503906, 4340.046387, 4340.046387, 4340.046387, 4340.046387, 4340.046387, 4340.046387, 4340.046387, 4340.046387, 4340.046387, 4340.046387, 4340.046387, 4340.046387, 4340.046387, 4340.046387, 4340.046387, 4340.046387, 4340.046387, 4340.046387, 4340.046387, 4340.046387, 4340.046387, 4340.046387, 4340.046387, 4340.046387, 4340.046387, 4340.046387, 4340.046387, 4340.046387, 4340.046387, 4340.046387, 4476.428223, 4476.428223, 4476.428223, 4476.428223, 4476.428223, 4476.428223, 4476.428223, 4476.428223, 4476.428223, 4476.428223, 4476.428223, 4476.428223, 4476.428223, 4476.428223, 4476.428223, 4476.428223, 4476.428223, 4476.428223, 4476.428223, 4476.428223, 4476.428223, 4476.428223, 4476.428223, 4476.428223, 4476.428223, 4476.428223, 4476.428223, 4476.428223, 4476.428223, 4476.428223, 4363.533691, 4363.533691, 4363.533691, 4363.533691, 4363.533691, 4363.533691, 4363.533691, 4363.533691, 4363.533691, 4363.533691, 4363.533691, 4363.533691, 4363.533691, 4363.533691, 4363.533691, 4363.533691, 4363.533691, 4363.533691, 4363.533691, 4363.533691, 4363.533691, 4363.533691, 4363.533691, 4363.533691, 4363.533691, 4363.533691, 4363.533691, 4363.533691, 4363.533691, 4363.533691, 4466.676758, 4466.676758, 4466.676758, 4466.676758, 4466.676758, 4466.676758, 4466.676758, 4466.676758, 4466.676758, 4466.676758, 4466.676758, 4466.676758, 4466.676758, 4466.676758, 4466.676758, 4466.676758, 4466.676758, 4466.676758, 4466.676758, 4466.676758, 4466.676758, 4466.676758, 4466.676758, 4466.676758, 4466.676758, 4466.676758, 4466.676758, 4466.676758, 4466.676758, 4466.676758, 4610.01123, 4610.01123, 4610.01123, 4610.01123, 4610.01123, 4610.01123, 4610.01123, 4610.01123, 4610.01123, 4610.01123, 4610.01123, 4610.01123, 4610.01123, 4610.01123, 4610.01123, 4610.01123, 4610.01123, 4610.01123, 4610.01123, 4610.01123, 4610.01123, 4610.01123, 4610.01123, 4610.01123, 4610.01123, 4610.01123, 4610.01123, 4610.01123, 4610.01123, 4610.01123, 4725.722168, 4725.722168, 4725.722168, 4725.722168, 4725.722168, 4725.722168, 4725.722168, 4725.722168, 4725.722168, 4725.722168, 4725.722168, 4725.722168, 4725.722168, 4725.722168, 4725.722168, 4725.722168, 4725.722168, 4725.722168, 4725.722168, 4725.722168, 4725.722168, 4725.722168, 4725.722168, 4725.722168, 4725.722168, 4725.722168, 4725.722168, 4725.722168, 4725.722168, 4725.722168, 4866.509277, 4866.509277, 4866.509277, 4866.509277, 4866.509277, 4866.509277, 4866.509277, 4866.509277, 4866.509277, 4866.509277, 4866.509277, 4866.509277, 4866.509277, 4866.509277, 4866.509277, 4866.509277, 4866.509277, 4866.509277, 4866.509277, 4866.509277, 4866.509277, 4866.509277, 4866.509277, 4866.509277, 4866.509277, 4866.509277, 4866.509277, 4866.509277, 4866.509277, 4866.509277, 5035.967285, 5035.967285, 5035.967285, 5035.967285, 5035.967285, 5035.967285, 5035.967285, 5035.967285, 5035.967285, 5035.967285, 5035.967285, 5035.967285, 5035.967285, 5035.967285, 5035.967285, 5035.967285, 5035.967285, 5035.967285, 5035.967285, 5035.967285, 5035.967285, 5035.967285, 5035.967285, 5035.967285, 5035.967285, 5035.967285, 5035.967285, 5035.967285, 5035.967285, 5035.967285, 5139.735352, 5139.735352, 5139.735352, 5139.735352, 5139.735352, 5139.735352, 5139.735352, 5139.735352, 5139.735352, 5139.735352, 5139.735352, 5139.735352, 5139.735352, 5139.735352, 5139.735352, 5139.735352, 5139.735352, 5139.735352, 5139.735352, 5139.735352, 5139.735352, 5139.735352, 5139.735352, 5139.735352, 5139.735352, 5139.735352, 5139.735352, 5139.735352, 5139.735352, 5139.735352, 5207.737305, 5207.737305, 5207.737305, 5207.737305, 5207.737305, 5207.737305, 5207.737305, 5207.737305, 5207.737305, 5207.737305, 5207.737305, 5207.737305, 5207.737305, 5207.737305, 5207.737305, 5207.737305, 5207.737305, 5207.737305, 5207.737305, 5207.737305, 5207.737305, 5207.737305, 5207.737305, 5207.737305, 5207.737305, 5207.737305, 5207.737305, 5207.737305, 5207.737305, 5207.737305, 5268.875977, 5268.875977, 5268.875977, 5268.875977, 5268.875977, 5268.875977, 5268.875977, 5268.875977, 5268.875977, 5268.875977, 5268.875977, 5268.875977, 5268.875977, 5268.875977, 5268.875977, 5268.875977, 5268.875977, 5268.875977, 5268.875977, 5268.875977, 5268.875977, 5268.875977, 5268.875977, 5268.875977, 5268.875977, 5268.875977, 5268.875977, 5268.875977, 5268.875977, 5268.875977, 5323.083008, 5323.083008, 5323.083008, 5323.083008, 5323.083008, 5323.083008, 5323.083008, 5323.083008, 5323.083008, 5323.083008, 5323.083008, 5323.083008, 5323.083008, 5323.083008, 5323.083008, 5323.083008, 5323.083008, 5323.083008, 5323.083008, 5323.083008, 5323.083008, 5323.083008, 5323.083008, 5323.083008, 5323.083008, 5323.083008, 5323.083008, 5323.083008, 5323.083008, 5323.083008, 5312.40625, 5312.40625, 5312.40625, 5312.40625, 5312.40625, 5312.40625, 5312.40625, 5312.40625, 5312.40625, 5312.40625, 5312.40625, 5312.40625, 5312.40625, 5312.40625, 5312.40625, 5312.40625, 5312.40625, 5312.40625, 5312.40625, 5312.40625, 5312.40625, 5312.40625, 5312.40625, 5312.40625, 5312.40625, 5312.40625, 5312.40625, 5312.40625, 5312.40625, 5312.40625, 5355.000488, 5355.000488, 5355.000488, 5355.000488, 5355.000488, 5355.000488, 5355.000488, 5355.000488, 5355.000488, 5355.000488, 5355.000488, 5355.000488, 5355.000488, 5355.000488, 5355.000488, 5355.000488, 5355.000488, 5355.000488, 5355.000488, 5355.000488, 5355.000488, 5355.000488, 5355.000488, 5355.000488, 5355.000488, 5355.000488, 5355.000488, 5355.000488, 5355.000488, 5355.000488, 5311.663086, 5311.663086, 5311.663086, 5311.663086, 5311.663086, 5311.663086, 5311.663086, 5311.663086, 5311.663086, 5311.663086, 5311.663086, 5311.663086, 5311.663086, 5311.663086, 5311.663086, 5311.663086, 5311.663086, 5311.663086, 5311.663086, 5311.663086, 5311.663086, 5311.663086, 5311.663086, 5311.663086, 5311.663086, 5311.663086, 5311.663086, 5311.663086, 5311.663086, 5311.663086, 5364.35791, 5364.35791, 5364.35791, 5364.35791, 5364.35791, 5364.35791, 5364.35791, 5364.35791, 5364.35791, 5364.35791, 5364.35791, 5364.35791, 5364.35791, 5364.35791, 5364.35791, 5364.35791, 5364.35791, 5364.35791, 5364.35791, 5364.35791, 5364.35791, 5364.35791, 5364.35791, 5364.35791, 5364.35791, 5364.35791, 5364.35791, 5364.35791, 5364.35791, 5364.35791, 5346.15625, 5346.15625, 5346.15625, 5346.15625, 5346.15625, 5346.15625, 5346.15625, 5346.15625, 5346.15625, 5346.15625, 5346.15625, 5346.15625, 5346.15625, 5346.15625, 5346.15625, 5346.15625, 5346.15625, 5346.15625, 5346.15625, 5346.15625, 5346.15625, 5346.15625, 5346.15625, 5346.15625, 5346.15625, 5346.15625, 5346.15625, 5346.15625, 5346.15625, 5346.15625, 5322.147461, 5322.147461, 5322.147461, 5322.147461, 5322.147461, 5322.147461, 5322.147461, 5322.147461, 5322.147461, 5322.147461, 5322.147461, 5322.147461, 5322.147461, 5322.147461, 5322.147461, 5322.147461, 5322.147461, 5322.147461, 5322.147461, 5322.147461, 5322.147461, 5322.147461, 5322.147461, 5322.147461, 5322.147461, 5322.147461, 5322.147461, 5322.147461, 5322.147461, 5322.147461, 5295.483887, 5295.483887, 5295.483887, 5295.483887, 5295.483887, 5295.483887, 5295.483887, 5295.483887, 5295.483887, 5295.483887, 5295.483887, 5295.483887, 5295.483887, 5295.483887, 5295.483887, 5295.483887, 5295.483887, 5295.483887, 5295.483887, 5295.483887, 5295.483887, 5295.483887, 5295.483887, 5295.483887, 5295.483887, 5295.483887, 5295.483887, 5295.483887, 5295.483887, 5295.483887, 5279.40918, 5279.40918, 5279.40918, 5279.40918, 5279.40918, 5279.40918, 5279.40918, 5279.40918, 5279.40918, 5279.40918, 5279.40918, 5279.40918, 5279.40918, 5279.40918, 5279.40918, 5279.40918, 5279.40918, 5279.40918, 5279.40918, 5279.40918, 5279.40918, 5279.40918, 5279.40918, 5279.40918, 5279.40918, 5279.40918, 5279.40918, 5279.40918, 5279.40918, 5279.40918, 5304.031738, 5304.031738, 5304.031738, 5304.031738, 5304.031738, 5304.031738, 5304.031738, 5304.031738, 5304.031738, 5304.031738, 5304.031738, 5304.031738, 5304.031738, 5304.031738, 5304.031738, 5304.031738, 5304.031738, 5304.031738, 5304.031738, 5304.031738, 5304.031738, 5304.031738, 5304.031738, 5304.031738, 5304.031738, 5304.031738, 5304.031738, 5304.031738, 5304.031738, 5304.031738, 5250.422363, 5250.422363, 5250.422363, 5250.422363, 5250.422363, 5250.422363, 5250.422363, 5250.422363, 5250.422363, 5250.422363, 5250.422363, 5250.422363, 5250.422363, 5250.422363, 5250.422363, 5250.422363, 5250.422363, 5250.422363, 5250.422363, 5250.422363, 5250.422363, 5250.422363, 5250.422363, 5250.422363, 5250.422363, 5250.422363, 5250.422363, 5250.422363, 5250.422363, 5250.422363, 5306.40332, 5306.40332, 5306.40332, 5306.40332, 5306.40332, 5306.40332, 5306.40332, 5306.40332, 5306.40332, 5306.40332, 5306.40332, 5306.40332, 5306.40332, 5306.40332, 5306.40332, 5306.40332, 5306.40332, 5306.40332, 5306.40332, 5306.40332, 5306.40332, 5306.40332, 5306.40332, 5306.40332, 5306.40332, 5306.40332, 5306.40332, 5306.40332, 5306.40332, 5306.40332, 5308.090332, 5308.090332, 5308.090332, 5308.090332, 5308.090332, 5308.090332, 5308.090332, 5308.090332, 5308.090332, 5308.090332, 5308.090332, 5308.090332, 5308.090332, 5308.090332, 5308.090332, 5308.090332, 5308.090332, 5308.090332, 5308.090332, 5308.090332, 5308.090332, 5308.090332, 5308.090332, 5308.090332, 5308.090332, 5308.090332, 5308.090332, 5308.090332, 5308.090332, 5308.090332, 5333.769531, 5333.769531, 5333.769531, 5333.769531, 5333.769531, 5333.769531, 5333.769531, 5333.769531, 5333.769531, 5333.769531, 5333.769531, 5333.769531, 5333.769531, 5333.769531, 5333.769531, 5333.769531, 5333.769531, 5333.769531, 5333.769531, 5333.769531, 5333.769531, 5333.769531, 5333.769531, 5333.769531, 5333.769531, 5333.769531, 5333.769531, 5333.769531, 5333.769531, 5333.769531, 5308.04541, 5308.04541, 5308.04541, 5308.04541, 5308.04541, 5308.04541, 5308.04541, 5308.04541, 5308.04541, 5308.04541, 5308.04541, 5308.04541, 5308.04541, 5308.04541, 5308.04541, 5308.04541, 5308.04541, 5308.04541, 5308.04541, 5308.04541, 5308.04541, 5308.04541, 5308.04541, 5308.04541, 5308.04541, 5308.04541, 5308.04541, 5308.04541, 5308.04541, 5308.04541, 5425.893066, 5425.893066, 5425.893066, 5425.893066, 5425.893066, 5425.893066, 5425.893066, 5425.893066, 5425.893066, 5425.893066, 5425.893066, 5425.893066, 5425.893066, 5425.893066, 5425.893066, 5425.893066, 5425.893066, 5425.893066, 5425.893066, 5425.893066, 5425.893066, 5425.893066, 5425.893066, 5425.893066, 5425.893066, 5425.893066, 5425.893066, 5425.893066, 5425.893066, 5425.893066, 5643.066895, 5643.066895, 5643.066895, 5643.066895, 5643.066895, 5643.066895, 5643.066895, 5643.066895, 5643.066895, 5643.066895, 5643.066895, 5643.066895, 5643.066895, 5643.066895, 5643.066895, 5643.066895, 5643.066895, 5643.066895, 5643.066895, 5643.066895, 5643.066895, 5643.066895, 5643.066895, 5643.066895, 5643.066895, 5643.066895, 5643.066895, 5643.066895, 5643.066895, 5643.066895, 6338.723633, 6338.723633, 6338.723633, 6338.723633, 6338.723633, 6338.723633, 6338.723633, 6338.723633, 6338.723633, 6338.723633, 6338.723633, 6338.723633, 6338.723633, 6338.723633, 6338.723633, 6338.723633, 6338.723633, 6338.723633, 6338.723633, 6338.723633, 6338.723633, 6338.723633, 6338.723633, 6338.723633, 6338.723633, 6338.723633, 6338.723633, 6338.723633, 6338.723633, 6338.723633, 6905.231445, 6905.231445, 6905.231445, 6905.231445, 6905.231445, 6905.231445, 6905.231445, 6905.231445, 6905.231445, 6905.231445, 6905.231445, 6905.231445, 6905.231445, 6905.231445, 6905.231445, 6905.231445, 6905.231445, 6905.231445, 6905.231445, 6905.231445, 6905.231445, 6905.231445, 6905.231445, 6905.231445, 6905.231445, 6905.231445, 6905.231445, 6905.231445, 6905.231445, 6905.231445, 6951.009766, 6951.009766, 6951.009766, 6951.009766, 6951.009766, 6951.009766, 6951.009766, 6951.009766, 6951.009766, 6951.009766, 6951.009766, 6951.009766, 6951.009766, 6951.009766, 6951.009766, 6951.009766, 6951.009766, 6951.009766, 6951.009766, 6951.009766, 6951.009766, 6951.009766, 6951.009766, 6951.009766, 6951.009766, 6951.009766, 6951.009766, 6951.009766, 6951.009766, 6951.009766, 6958.025391, 6958.025391, 6958.025391, 6958.025391, 6958.025391, 6958.025391, 6958.025391, 6958.025391, 6958.025391, 6958.025391, 6958.025391, 6958.025391, 6958.025391, 6958.025391, 6958.025391, 6958.025391, 6958.025391, 6958.025391, 6958.025391, 6958.025391, 6958.025391, 6958.025391, 6958.025391, 6958.025391, 6958.025391, 6958.025391, 6958.025391, 6958.025391, 6958.025391, 6958.025391, 6959.612793, 6959.612793, 6959.612793, 6959.612793, 6959.612793, 6959.612793, 6959.612793, 6959.612793, 6959.612793, 6959.612793, 6959.612793, 6959.612793, 6959.612793, 6959.612793, 6959.612793, 6959.612793, 6959.612793, 6959.612793, 6959.612793, 6959.612793, 6959.612793, 6959.612793, 6959.612793, 6959.612793, 6959.612793, 6959.612793, 6959.612793, 6959.612793, 6959.612793, 6959.612793, 6957.632813, 6957.632813, 6957.632813, 6957.632813, 6957.632813, 6957.632813, 6957.632813, 6957.632813, 6957.632813, 6957.632813, 6957.632813, 6957.632813, 6957.632813, 6957.632813, 6957.632813, 6957.632813, 6957.632813, 6957.632813, 6957.632813, 6957.632813, 6957.632813, 6957.632813, 6957.632813, 6957.632813, 6957.632813, 6957.632813, 6957.632813, 6957.632813, 6957.632813, 6957.632813, 6922.827637, 6922.827637, 6922.827637, 6922.827637, 6922.827637, 6922.827637, 6922.827637, 6922.827637, 6922.827637, 6922.827637, 6922.827637, 6922.827637, 6922.827637, 6922.827637, 6922.827637, 6922.827637, 6922.827637, 6922.827637, 6922.827637, 6922.827637, 6922.827637, 6922.827637, 6922.827637, 6922.827637, 6922.827637, 6922.827637, 6922.827637, 6922.827637, 6922.827637, 6922.827637, 6921.383789, 6921.383789, 6921.383789, 6921.383789, 6921.383789, 6921.383789, 6921.383789, 6921.383789, 6921.383789, 6921.383789, 6921.383789, 6921.383789, 6921.383789, 6921.383789, 6921.383789, 6921.383789, 6921.383789, 6921.383789, 6921.383789, 6921.383789, 6921.383789, 6921.383789, 6921.383789, 6921.383789, 6921.383789, 6921.383789, 6921.383789, 6921.383789, 6921.383789, 6921.383789, 6899.112793, 6899.112793, 6899.112793, 6899.112793, 6899.112793, 6899.112793, 6899.112793, 6899.112793, 6899.112793, 6899.112793, 6899.112793, 6899.112793, 6899.112793, 6899.112793, 6899.112793, 6899.112793, 6899.112793, 6899.112793, 6899.112793, 6899.112793, 6899.112793, 6899.112793, 6899.112793, 6899.112793, 6899.112793, 6899.112793, 6899.112793, 6899.112793, 6899.112793, 6899.112793, 6953.52832, 6953.52832, 6953.52832, 6953.52832, 6953.52832, 6953.52832, 6953.52832, 6953.52832, 6953.52832, 6953.52832, 6953.52832, 6953.52832, 6953.52832, 6953.52832, 6953.52832, 6953.52832, 6953.52832, 6953.52832, 6953.52832, 6953.52832, 6953.52832, 6953.52832, 6953.52832, 6953.52832, 6953.52832, 6953.52832, 6953.52832, 6953.52832, 6953.52832, 6953.52832, 7021.762207, 7021.762207, 7021.762207, 7021.762207, 7021.762207, 7021.762207, 7021.762207, 7021.762207, 7021.762207, 7021.762207, 7021.762207, 7021.762207, 7021.762207, 7021.762207, 7021.762207, 7021.762207, 7021.762207, 7021.762207, 7021.762207, 7021.762207, 7021.762207, 7021.762207, 7021.762207, 7021.762207, 7021.762207, 7021.762207, 7021.762207, 7021.762207, 7021.762207, 7021.762207, 7011.950195, 7011.950195, 7011.950195, 7011.950195, 7011.950195, 7011.950195, 7011.950195, 7011.950195, 7011.950195, 7011.950195, 7011.950195, 7011.950195, 7011.950195, 7011.950195, 7011.950195, 7011.950195, 7011.950195, 7011.950195, 7011.950195, 7011.950195, 7011.950195, 7011.950195, 7011.950195, 7011.950195, 7011.950195, 7011.950195, 7011.950195, 7011.950195, 7011.950195, 7011.950195, 7026.015137, 7026.015137, 7026.015137, 7026.015137, 7026.015137, 7026.015137, 7026.015137, 7026.015137, 7026.015137, 7026.015137, 7026.015137, 7026.015137, 7026.015137, 7026.015137, 7026.015137, 7026.015137, 7026.015137, 7026.015137, 7026.015137, 7026.015137, 7026.015137, 7026.015137, 7026.015137, 7026.015137, 7026.015137, 7026.015137, 7026.015137, 7026.015137, 7026.015137, 7026.015137, 6951.59375, 6951.59375, 6951.59375, 6951.59375, 6951.59375, 6951.59375, 6951.59375, 6951.59375, 6951.59375, 6951.59375, 6951.59375, 6951.59375, 6951.59375, 6951.59375, 6951.59375, 6951.59375, 6951.59375, 6951.59375, 6951.59375, 6951.59375, 6951.59375, 6951.59375, 6951.59375, 6951.59375, 6951.59375, 6951.59375, 6951.59375, 6951.59375, 6951.59375, 6951.59375, 6967.837402, 6967.837402, 6967.837402, 6967.837402, 6967.837402, 6967.837402, 6967.837402, 6967.837402, 6967.837402, 6967.837402, 6967.837402, 6967.837402, 6967.837402, 6967.837402, 6967.837402, 6967.837402, 6967.837402, 6967.837402, 6967.837402, 6967.837402, 6967.837402, 6967.837402, 6967.837402, 6967.837402, 6967.837402, 6967.837402, 6967.837402, 6967.837402, 6967.837402, 6967.837402, 6910.810059, 6910.810059, 6910.810059, 6910.810059, 6910.810059, 6910.810059, 6910.810059, 6910.810059, 6910.810059, 6910.810059, 6910.810059, 6910.810059, 6910.810059, 6910.810059, 6910.810059, 6910.810059, 6910.810059, 6910.810059, 6910.810059, 6910.810059, 6910.810059, 6910.810059, 6910.810059, 6910.810059, 6910.810059, 6910.810059, 6910.810059, 6910.810059, 6910.810059, 6910.810059, 6767.893066, 6767.893066, 6767.893066, 6767.893066, 6767.893066, 6767.893066, 6767.893066, 6767.893066, 6767.893066, 6767.893066, 6767.893066, 6767.893066, 6767.893066, 6767.893066, 6767.893066, 6767.893066, 6767.893066, 6767.893066, 6767.893066, 6767.893066, 6767.893066, 6767.893066, 6767.893066, 6767.893066, 6767.893066, 6767.893066, 6767.893066, 6767.893066, 6767.893066, 6767.893066, 6721.29541, 6721.29541, 6721.29541, 6721.29541, 6721.29541, 6721.29541, 6721.29541, 6721.29541, 6721.29541, 6721.29541, 6721.29541, 6721.29541, 6721.29541, 6721.29541, 6721.29541, 6721.29541, 6721.29541, 6721.29541, 6721.29541, 6721.29541, 6721.29541, 6721.29541, 6721.29541, 6721.29541, 6721.29541, 6721.29541, 6721.29541, 6721.29541, 6721.29541, 6721.29541, 6735.18457, 6735.18457, 6735.18457, 6735.18457, 6735.18457, 6735.18457, 6735.18457, 6735.18457, 6735.18457, 6735.18457, 6735.18457, 6735.18457, 6735.18457, 6735.18457, 6735.18457, 6735.18457, 6735.18457, 6735.18457, 6735.18457, 6735.18457, 6735.18457, 6735.18457, 6735.18457, 6735.18457, 6735.18457, 6735.18457, 6735.18457, 6735.18457, 6735.18457, 6735.18457, 6881.757324, 6881.757324, 6881.757324, 6881.757324, 6881.757324, 6881.757324, 6881.757324, 6881.757324, 6881.757324, 6881.757324, 6881.757324, 6881.757324, 6881.757324, 6881.757324, 6881.757324, 6881.757324, 6881.757324, 6881.757324, 6881.757324, 6881.757324, 6881.757324, 6881.757324, 6881.757324, 6881.757324, 6881.757324, 6881.757324, 6881.757324, 6881.757324, 6881.757324, 6881.757324, 7215.899414, 7215.899414, 7215.899414, 7215.899414, 7215.899414, 7215.899414, 7215.899414, 7215.899414, 7215.899414, 7215.899414, 7215.899414, 7215.899414, 7215.899414, 7215.899414, 7215.899414, 7215.899414, 7215.899414, 7215.899414, 7215.899414, 7215.899414, 7215.899414, 7215.899414, 7215.899414, 7215.899414, 7215.899414, 7215.899414, 7215.899414, 7215.899414, 7215.899414, 7215.899414, 8019.773926, 8019.773926, 8019.773926, 8019.773926, 8019.773926, 8019.773926, 8019.773926, 8019.773926, 8019.773926, 8019.773926, 8019.773926, 8019.773926, 8019.773926, 8019.773926, 8019.773926, 8019.773926, 8019.773926, 8019.773926, 8019.773926, 8019.773926, 8019.773926, 8019.773926, 8019.773926, 8019.773926, 8019.773926, 8019.773926, 8019.773926, 8019.773926, 8019.773926, 8019.773926, 8121.187012, 8121.187012, 8121.187012, 8121.187012, 8121.187012, 8121.187012, 8121.187012, 8121.187012, 8121.187012, 8121.187012, 8121.187012, 8121.187012, 8121.187012, 8121.187012, 8121.187012, 8121.187012, 8121.187012, 8121.187012, 8121.187012, 8121.187012, 8121.187012, 8121.187012, 8121.187012, 8121.187012, 8121.187012, 8121.187012, 8121.187012, 8121.187012, 8121.187012, 8121.187012, 7962.70459, 7962.70459, 7962.70459, 7962.70459, 7962.70459, 7962.70459, 7962.70459, 7962.70459, 7962.70459, 7962.70459, 7962.70459, 7962.70459, 7962.70459, 7962.70459, 7962.70459, 7962.70459, 7962.70459, 7962.70459, 7962.70459, 7962.70459, 7962.70459, 7962.70459, 7962.70459, 7962.70459, 7962.70459, 7962.70459, 7962.70459, 7962.70459, 7962.70459, 7962.70459, 7656.129395, 7656.129395, 7656.129395, 7656.129395, 7656.129395, 7656.129395, 7656.129395, 7656.129395, 7656.129395, 7656.129395, 7656.129395, 7656.129395, 7656.129395, 7656.129395, 7656.129395, 7656.129395, 7656.129395, 7656.129395, 7656.129395, 7656.129395, 7656.129395, 7656.129395, 7656.129395, 7656.129395, 7656.129395, 7656.129395, 7656.129395, 7656.129395, 7656.129395, 7656.129395, 7297.251465, 7297.251465, 7297.251465, 7297.251465, 7297.251465, 7297.251465, 7297.251465, 7297.251465, 7297.251465, 7297.251465, 7297.251465, 7297.251465, 7297.251465, 7297.251465, 7297.251465, 7297.251465, 7297.251465, 7297.251465, 7297.251465, 7297.251465, 7297.251465, 7297.251465, 7297.251465, 7297.251465, 7297.251465, 7297.251465, 7297.251465, 7297.251465, 7297.251465, 7297.251465, 6786.316895, 6786.316895, 6786.316895, 6786.316895, 6786.316895, 6786.316895, 6786.316895, 6786.316895, 6786.316895, 6786.316895, 6786.316895, 6786.316895, 6786.316895, 6786.316895, 6786.316895, 6786.316895, 6786.316895, 6786.316895, 6786.316895, 6786.316895, 6786.316895, 6786.316895, 6786.316895, 6786.316895, 6786.316895, 6786.316895, 6786.316895, 6786.316895, 6786.316895, 6786.316895, 6326.907715, 6326.907715, 6326.907715, 6326.907715, 6326.907715, 6326.907715, 6326.907715, 6326.907715, 6326.907715, 6326.907715, 6326.907715, 6326.907715, 6326.907715, 6326.907715, 6326.907715, 6326.907715, 6326.907715, 6326.907715, 6326.907715, 6326.907715, 6326.907715, 6326.907715, 6326.907715, 6326.907715, 6326.907715, 6326.907715, 6326.907715, 6326.907715, 6326.907715, 6326.907715, 5828.486328, 5828.486328, 5828.486328, 5828.486328, 5828.486328, 5828.486328, 5828.486328, 5828.486328, 5828.486328, 5828.486328, 5828.486328, 5828.486328, 5828.486328, 5828.486328, 5828.486328, 5828.486328, 5828.486328, 5828.486328, 5828.486328, 5828.486328, 5828.486328, 5828.486328, 5828.486328, 5828.486328, 5828.486328, 5828.486328, 5828.486328, 5828.486328, 5828.486328, 5828.486328, 5610.111328, 5610.111328, 5610.111328, 5610.111328, 5610.111328, 5610.111328, 5610.111328, 5610.111328, 5610.111328, 5610.111328, 5610.111328, 5610.111328, 5610.111328, 5610.111328, 5610.111328, 5610.111328, 5610.111328, 5610.111328, 5610.111328, 5610.111328, 5610.111328, 5610.111328, 5610.111328, 5610.111328, 5610.111328, 5610.111328, 5610.111328, 5610.111328, 5610.111328, 5610.111328, 5414.441406, 5414.441406, 5414.441406, 5414.441406, 5414.441406, 5414.441406, 5414.441406, 5414.441406, 5414.441406, 5414.441406, 5414.441406, 5414.441406, 5414.441406, 5414.441406, 5414.441406, 5414.441406, 5414.441406, 5414.441406, 5414.441406, 5414.441406, 5414.441406, 5414.441406, 5414.441406, 5414.441406, 5414.441406, 5414.441406, 5414.441406, 5414.441406, 5414.441406, 5414.441406, 5227.489746, 5227.489746, 5227.489746, 5227.489746, 5227.489746, 5227.489746, 5227.489746, 5227.489746, 5227.489746, 5227.489746, 5227.489746, 5227.489746, 5227.489746, 5227.489746, 5227.489746, 5227.489746, 5227.489746, 5227.489746, 5227.489746, 5227.489746, 5227.489746, 5227.489746, 5227.489746, 5227.489746, 5227.489746, 5227.489746, 5227.489746, 5227.489746, 5227.489746, 5227.489746, 5169.38916, 5169.38916, 5169.38916, 5169.38916, 5169.38916, 5169.38916, 5169.38916, 5169.38916, 5169.38916, 5169.38916, 5169.38916, 5169.38916, 5169.38916, 5169.38916, 5169.38916, 5169.38916, 5169.38916, 5169.38916, 5169.38916, 5169.38916, 5169.38916, 5169.38916, 5169.38916, 5169.38916, 5169.38916, 5169.38916, 5169.38916, 5169.38916, 5169.38916, 5169.38916, 5107.286621, 5107.286621, 5107.286621, 5107.286621, 5107.286621, 5107.286621, 5107.286621, 5107.286621, 5107.286621, 5107.286621, 5107.286621, 5107.286621, 5107.286621, 5107.286621, 5107.286621, 5107.286621, 5107.286621, 5107.286621, 5107.286621, 5107.286621, 5107.286621, 5107.286621, 5107.286621, 5107.286621, 5107.286621, 5107.286621, 5107.286621, 5107.286621, 5107.286621, 5107.286621, 5044.913574, 5044.913574, 5044.913574, 5044.913574, 5044.913574, 5044.913574, 5044.913574, 5044.913574, 5044.913574, 5044.913574, 5044.913574, 5044.913574, 5044.913574, 5044.913574, 5044.913574, 5044.913574, 5044.913574, 5044.913574, 5044.913574, 5044.913574, 5044.913574, 5044.913574, 5044.913574, 5044.913574, 5044.913574, 5044.913574, 5044.913574, 5044.913574, 5044.913574, 5044.913574, 5017.487793, 5017.487793, 5017.487793, 5017.487793, 5017.487793, 5017.487793, 5017.487793, 5017.487793, 5017.487793, 5017.487793, 5017.487793, 5017.487793, 5017.487793, 5017.487793, 5017.487793, 5017.487793, 5017.487793, 5017.487793, 5017.487793, 5017.487793, 5017.487793, 5017.487793, 5017.487793, 5017.487793, 5017.487793, 5017.487793, 5017.487793, 5017.487793, 5017.487793, 5017.487793, 5046.316406, 5046.316406, 5046.316406, 5046.316406, 5046.316406, 5046.316406, 5046.316406, 5046.316406, 5046.316406, 5046.316406, 5046.316406, 5046.316406, 5046.316406, 5046.316406, 5046.316406, 5046.316406, 5046.316406, 5046.316406, 5046.316406, 5046.316406, 5046.316406, 5046.316406, 5046.316406, 5046.316406, 5046.316406, 5046.316406, 5046.316406, 5046.316406, 5046.316406, 5046.316406, 6935.627441, 6935.627441, 6935.627441, 6935.627441, 6935.627441, 6935.627441, 6935.627441, 6935.627441, 6935.627441, 6935.627441, 6935.627441, 6935.627441, 6935.627441, 6935.627441, 6935.627441, 6935.627441, 6935.627441, 6935.627441, 6935.627441, 6935.627441, 6935.627441, 6935.627441, 6935.627441, 6935.627441, 6935.627441, 6935.627441, 6935.627441, 6935.627441, 6935.627441, 6935.627441, 6829.213379, 6829.213379, 6829.213379, 6829.213379, 6829.213379, 6829.213379, 6829.213379, 6829.213379, 6829.213379, 6829.213379, 6829.213379, 6829.213379, 6829.213379, 6829.213379, 6829.213379, 6829.213379, 6829.213379, 6829.213379, 6829.213379, 6829.213379, 6829.213379, 6829.213379, 6829.213379, 6829.213379, 6829.213379, 6829.213379, 6829.213379, 6829.213379, 6829.213379, 6829.213379, 7088.437988, 7088.437988, 7088.437988, 7088.437988, 7088.437988, 7088.437988, 7088.437988, 7088.437988, 7088.437988, 7088.437988, 7088.437988, 7088.437988, 7088.437988, 7088.437988, 7088.437988, 7088.437988, 7088.437988, 7088.437988, 7088.437988, 7088.437988, 7088.437988, 7088.437988, 7088.437988, 7088.437988, 7088.437988, 7088.437988, 7088.437988, 7088.437988, 7088.437988, 7088.437988, 7302.001953, 7302.001953, 7302.001953, 7302.001953, 7302.001953, 7302.001953, 7302.001953, 7302.001953, 7302.001953, 7302.001953, 7302.001953, 7302.001953, 7302.001953, 7302.001953, 7302.001953, 7302.001953, 7302.001953, 7302.001953, 7302.001953, 7302.001953, 7302.001953, 7302.001953, 7302.001953, 7302.001953, 7302.001953, 7302.001953, 7302.001953, 7302.001953, 7302.001953, 7302.001953, 7972.823242, 7972.823242, 7972.823242, 7972.823242, 7972.823242, 7972.823242, 7972.823242, 7972.823242, 7972.823242, 7972.823242, 7972.823242, 7972.823242, 7972.823242, 7972.823242, 7972.823242, 7972.823242, 7972.823242, 7972.823242, 7972.823242, 7972.823242, 7972.823242, 7972.823242, 7972.823242, 7972.823242, 7972.823242, 7972.823242, 7972.823242, 7972.823242, 7972.823242, 7972.823242, 8127.222656, 8127.222656, 8127.222656, 8127.222656, 8127.222656, 8127.222656, 8127.222656, 8127.222656, 8127.222656, 8127.222656, 8127.222656, 8127.222656, 8127.222656, 8127.222656, 8127.222656, 8127.222656, 8127.222656, 8127.222656, 8127.222656, 8127.222656, 8127.222656, 8127.222656, 8127.222656, 8127.222656, 8127.222656, 8127.222656, 8127.222656, 8127.222656, 8127.222656, 8127.222656, 7943.416504, 7943.416504, 7943.416504, 7943.416504, 7943.416504, 7943.416504, 7943.416504, 7943.416504, 7943.416504, 7943.416504, 7943.416504, 7943.416504, 7943.416504, 7943.416504, 7943.416504, 7943.416504, 7943.416504, 7943.416504, 7943.416504, 7943.416504, 7943.416504, 7943.416504, 7943.416504, 7943.416504, 7943.416504, 7943.416504, 7943.416504, 7943.416504, 7943.416504, 7943.416504, 7687.999512, 7687.999512, 7687.999512, 7687.999512, 7687.999512, 7687.999512, 7687.999512, 7687.999512, 7687.999512, 7687.999512, 7687.999512, 7687.999512, 7687.999512, 7687.999512, 7687.999512, 7687.999512, 7687.999512, 7687.999512, 7687.999512, 7687.999512, 7687.999512, 7687.999512, 7687.999512, 7687.999512, 7687.999512, 7687.999512, 7687.999512, 7687.999512, 7687.999512, 7687.999512, 7389.966309, 7389.966309, 7389.966309, 7389.966309, 7389.966309, 7389.966309, 7389.966309, 7389.966309, 7389.966309, 7389.966309, 7389.966309, 7389.966309, 7389.966309, 7389.966309, 7389.966309, 7389.966309, 7389.966309, 7389.966309, 7389.966309, 7389.966309, 7389.966309, 7389.966309, 7389.966309, 7389.966309, 7389.966309, 7389.966309, 7389.966309, 7389.966309, 7389.966309, 7389.966309, 6852.516113, 6852.516113, 6852.516113, 6852.516113, 6852.516113, 6852.516113, 6852.516113, 6852.516113, 6852.516113, 6852.516113, 6852.516113, 6852.516113, 6852.516113, 6852.516113, 6852.516113, 6852.516113, 6852.516113, 6852.516113, 6852.516113, 6852.516113, 6852.516113, 6852.516113, 6852.516113, 6852.516113, 6852.516113, 6852.516113, 6852.516113, 6852.516113, 6852.516113, 6852.516113, 6316.482422, 6316.482422, 6316.482422, 6316.482422, 6316.482422, 6316.482422, 6316.482422, 6316.482422, 6316.482422, 6316.482422, 6316.482422, 6316.482422, 6316.482422, 6316.482422, 6316.482422, 6316.482422, 6316.482422, 6316.482422, 6316.482422, 6316.482422, 6316.482422, 6316.482422, 6316.482422, 6316.482422, 6316.482422, 6316.482422, 6316.482422, 6316.482422, 6316.482422, 6316.482422, 5865.025391, 5865.025391, 5865.025391, 5865.025391, 5865.025391, 5865.025391, 5865.025391, 5865.025391, 5865.025391, 5865.025391, 5865.025391, 5865.025391, 5865.025391, 5865.025391, 5865.025391, 5865.025391, 5865.025391, 5865.025391, 5865.025391, 5865.025391, 5865.025391, 5865.025391, 5865.025391, 5865.025391, 5865.025391, 5865.025391, 5865.025391, 5865.025391, 5865.025391, 5865.025391, 5508.089355, 5508.089355, 5508.089355, 5508.089355, 5508.089355, 5508.089355, 5508.089355, 5508.089355, 5508.089355, 5508.089355, 5508.089355, 5508.089355, 5508.089355, 5508.089355, 5508.089355, 5508.089355, 5508.089355, 5508.089355, 5508.089355, 5508.089355, 5508.089355, 5508.089355, 5508.089355, 5508.089355, 5508.089355, 5508.089355, 5508.089355, 5508.089355, 5508.089355, 5508.089355, 5281.483398, 5281.483398, 5281.483398, 5281.483398, 5281.483398, 5281.483398, 5281.483398, 5281.483398, 5281.483398, 5281.483398, 5281.483398, 5281.483398, 5281.483398, 5281.483398, 5281.483398, 5281.483398, 5281.483398, 5281.483398, 5281.483398, 5281.483398, 5281.483398, 5281.483398, 5281.483398, 5281.483398, 5281.483398, 5281.483398, 5281.483398, 5281.483398, 5281.483398, 5281.483398, 5115.986816, 5115.986816, 5115.986816, 5115.986816, 5115.986816, 5115.986816, 5115.986816, 5115.986816, 5115.986816, 5115.986816, 5115.986816, 5115.986816, 5115.986816, 5115.986816, 5115.986816, 5115.986816, 5115.986816, 5115.986816, 5115.986816, 5115.986816, 5115.986816, 5115.986816, 5115.986816, 5115.986816, 5115.986816, 5115.986816, 5115.986816, 5115.986816, 5115.986816, 5115.986816, 5048.881348, 5048.881348, 5048.881348, 5048.881348, 5048.881348, 5048.881348, 5048.881348, 5048.881348, 5048.881348, 5048.881348, 5048.881348, 5048.881348, 5048.881348, 5048.881348, 5048.881348, 5048.881348, 5048.881348, 5048.881348, 5048.881348, 5048.881348, 5048.881348, 5048.881348, 5048.881348, 5048.881348, 5048.881348, 5048.881348, 5048.881348, 5048.881348, 5048.881348, 5048.881348, 4994.827637, 4994.827637, 4994.827637, 4994.827637, 4994.827637, 4994.827637, 4994.827637, 4994.827637, 4994.827637, 4994.827637, 4994.827637, 4994.827637, 4994.827637, 4994.827637, 4994.827637, 4994.827637, 4994.827637, 4994.827637, 4994.827637, 4994.827637, 4994.827637, 4994.827637, 4994.827637, 4994.827637, 4994.827637, 4994.827637, 4994.827637, 4994.827637, 4994.827637, 4994.827637, 4984.66748, 4984.66748, 4984.66748, 4984.66748, 4984.66748, 4984.66748, 4984.66748, 4984.66748, 4984.66748, 4984.66748, 4984.66748, 4984.66748, 4984.66748, 4984.66748, 4984.66748, 4984.66748, 4984.66748, 4984.66748, 4984.66748, 4984.66748, 4984.66748, 4984.66748, 4984.66748, 4984.66748, 4984.66748, 4984.66748, 4984.66748, 4984.66748, 4984.66748, 4984.66748, 4961.416992, 4961.416992, 4961.416992, 4961.416992, 4961.416992, 4961.416992, 4961.416992, 4961.416992, 4961.416992, 4961.416992, 4961.416992, 4961.416992, 4961.416992, 4961.416992, 4961.416992, 4961.416992, 4961.416992, 4961.416992, 4961.416992, 4961.416992, 4961.416992, 4961.416992, 4961.416992, 4961.416992, 4961.416992, 4961.416992, 4961.416992, 4961.416992, 4961.416992, 4961.416992, 4956.972656, 4956.972656, 4956.972656, 4956.972656, 4956.972656, 4956.972656, 4956.972656, 4956.972656, 4956.972656, 4956.972656, 4956.972656, 4956.972656, 4956.972656, 4956.972656, 4956.972656, 4956.972656, 4956.972656, 4956.972656, 4956.972656, 4956.972656, 4956.972656, 4956.972656, 4956.972656, 4956.972656, 4956.972656, 4956.972656, 4956.972656, 4956.972656, 4956.972656, 4956.972656, 5015.133789, 5015.133789, 5015.133789, 5015.133789, 5015.133789, 5015.133789, 5015.133789, 5015.133789, 5015.133789, 5015.133789, 5015.133789, 5015.133789, 5015.133789, 5015.133789, 5015.133789, 5015.133789, 5015.133789, 5015.133789, 5015.133789, 5015.133789, 5015.133789, 5015.133789, 5015.133789, 5015.133789, 5015.133789, 5015.133789, 5015.133789, 5015.133789, 5015.133789, 5015.133789, 5182.820801, 5182.820801, 5182.820801, 5182.820801, 5182.820801, 5182.820801, 5182.820801, 5182.820801, 5182.820801, 5182.820801, 5182.820801, 5182.820801, 5182.820801, 5182.820801, 5182.820801, 5182.820801, 5182.820801, 5182.820801, 5182.820801, 5182.820801, 5182.820801, 5182.820801, 5182.820801, 5182.820801, 5182.820801, 5182.820801, 5182.820801, 5182.820801, 5182.820801, 5182.820801, 5405.088379, 5405.088379, 5405.088379, 5405.088379, 5405.088379, 5405.088379, 5405.088379, 5405.088379, 5405.088379, 5405.088379, 5405.088379, 5405.088379, 5405.088379, 5405.088379, 5405.088379, 5405.088379, 5405.088379, 5405.088379, 5405.088379, 5405.088379, 5405.088379, 5405.088379, 5405.088379, 5405.088379, 5405.088379, 5405.088379, 5405.088379, 5405.088379, 5405.088379, 5405.088379, 5796.863281, 5796.863281, 5796.863281, 5796.863281, 5796.863281, 5796.863281, 5796.863281, 5796.863281, 5796.863281, 5796.863281, 5796.863281, 5796.863281, 5796.863281, 5796.863281, 5796.863281, 5796.863281, 5796.863281, 5796.863281, 5796.863281, 5796.863281, 5796.863281, 5796.863281, 5796.863281, 5796.863281, 5796.863281, 5796.863281, 5796.863281, 5796.863281, 5796.863281, 5796.863281, 6146.72998, 6146.72998, 6146.72998, 6146.72998, 6146.72998, 6146.72998, 6146.72998, 6146.72998, 6146.72998, 6146.72998, 6146.72998, 6146.72998, 6146.72998, 6146.72998, 6146.72998, 6146.72998, 6146.72998, 6146.72998, 6146.72998, 6146.72998, 6146.72998, 6146.72998, 6146.72998, 6146.72998, 6146.72998, 6146.72998, 6146.72998, 6146.72998, 6146.72998, 6146.72998, 6235.075195, 6235.075195, 6235.075195, 6235.075195, 6235.075195, 6235.075195, 6235.075195, 6235.075195, 6235.075195, 6235.075195, 6235.075195, 6235.075195, 6235.075195, 6235.075195, 6235.075195, 6235.075195, 6235.075195, 6235.075195, 6235.075195, 6235.075195, 6235.075195, 6235.075195, 6235.075195, 6235.075195, 6235.075195, 6235.075195, 6235.075195, 6235.075195, 6235.075195, 6235.075195, 6341.240234, 6341.240234, 6341.240234, 6341.240234, 6341.240234, 6341.240234, 6341.240234, 6341.240234, 6341.240234, 6341.240234, 6341.240234, 6341.240234, 6341.240234, 6341.240234, 6341.240234, 6341.240234, 6341.240234, 6341.240234, 6341.240234, 6341.240234, 6341.240234, 6341.240234, 6341.240234, 6341.240234, 6341.240234, 6341.240234, 6341.240234, 6341.240234, 6341.240234, 6341.240234, 6416.556641, 6416.556641, 6416.556641, 6416.556641, 6416.556641, 6416.556641, 6416.556641, 6416.556641, 6416.556641, 6416.556641, 6416.556641, 6416.556641, 6416.556641, 6416.556641, 6416.556641, 6416.556641, 6416.556641, 6416.556641, 6416.556641, 6416.556641, 6416.556641, 6416.556641, 6416.556641, 6416.556641, 6416.556641, 6416.556641, 6416.556641, 6416.556641, 6416.556641, 6416.556641, 6608.618652, 6608.618652, 6608.618652, 6608.618652, 6608.618652, 6608.618652, 6608.618652, 6608.618652, 6608.618652, 6608.618652, 6608.618652, 6608.618652, 6608.618652, 6608.618652, 6608.618652, 6608.618652, 6608.618652, 6608.618652, 6608.618652, 6608.618652, 6608.618652, 6608.618652, 6608.618652, 6608.618652, 6608.618652, 6608.618652, 6608.618652, 6608.618652, 6608.618652, 6608.618652, 6797.973633, 6797.973633, 6797.973633, 6797.973633, 6797.973633, 6797.973633, 6797.973633, 6797.973633, 6797.973633, 6797.973633, 6797.973633, 6797.973633, 6797.973633, 6797.973633, 6797.973633, 6797.973633, 6797.973633, 6797.973633, 6797.973633, 6797.973633, 6797.973633, 6797.973633, 6797.973633, 6797.973633, 6797.973633, 6797.973633, 6797.973633, 6797.973633, 6797.973633, 6797.973633, 6988.719727, 6988.719727, 6988.719727, 6988.719727, 6988.719727, 6988.719727, 6988.719727, 6988.719727, 6988.719727, 6988.719727, 6988.719727, 6988.719727, 6988.719727, 6988.719727, 6988.719727, 6988.719727, 6988.719727, 6988.719727, 6988.719727, 6988.719727, 6988.719727, 6988.719727, 6988.719727, 6988.719727, 6988.719727, 6988.719727, 6988.719727, 6988.719727, 6988.719727, 6988.719727, 7029.18457, 7029.18457, 7029.18457, 7029.18457, 7029.18457, 7029.18457, 7029.18457, 7029.18457, 7029.18457, 7029.18457, 7029.18457, 7029.18457, 7029.18457, 7029.18457, 7029.18457, 7029.18457, 7029.18457, 7029.18457, 7029.18457, 7029.18457, 7029.18457, 7029.18457, 7029.18457, 7029.18457, 7029.18457, 7029.18457, 7029.18457, 7029.18457, 7029.18457, 7029.18457, 7044.303223, 7044.303223, 7044.303223, 7044.303223, 7044.303223, 7044.303223, 7044.303223, 7044.303223, 7044.303223, 7044.303223, 7044.303223, 7044.303223, 7044.303223, 7044.303223, 7044.303223, 7044.303223, 7044.303223, 7044.303223, 7044.303223, 7044.303223, 7044.303223, 7044.303223, 7044.303223, 7044.303223, 7044.303223, 7044.303223, 7044.303223, 7044.303223, 7044.303223, 7044.303223, 7100.27002, 7100.27002, 7100.27002, 7100.27002, 7100.27002, 7100.27002, 7100.27002, 7100.27002, 7100.27002, 7100.27002, 7100.27002, 7100.27002, 7100.27002, 7100.27002, 7100.27002, 7100.27002, 7100.27002, 7100.27002, 7100.27002, 7100.27002, 7100.27002, 7100.27002, 7100.27002, 7100.27002, 7100.27002, 7100.27002, 7100.27002, 7100.27002, 7100.27002, 7100.27002]\n",
            "[4207.35791, 4216.11084, 4215.395508, 4219.109863, 4206.049805, 4178.719238, 4191.460938, 4197.625488, 4203.156738, 4197.602051, 4196.364746, 4201.370605, 4222.584473, 4186.108398, 4196.169434, 4203.213867, 4212.039551, 4196.695313, 4187.022461, 4194.221191, 4211.462402, 4195.547852, 4201.975586, 4206.93457, 4199.533691, 4209.392578, 4203.991699, 4212.006348, 4228.041504, 4205.280762, 4223.822266, 4221.668945, 4210.18457, 4230.5625, 4227.772949, 4217.800293, 4211.121094, 4209.044434, 4208.580078, 4213.471191, 4219.703613, 4226.148438, 4234.069824, 4224.689453, 4240.581055, 4236.561523, 4238.361328, 4239.679688, 4244.086914, 4256.416016, 4261.603027, 4261.668457, 4249.989746, 4254.170898, 4241.758789, 4255.403809, 4259.746582, 4243.85498, 4245.771973, 4259.503906, 4268.962891, 4275.388184, 4250.658203, 4262.523438, 4275.270996, 4268.481934, 4261.787598, 4237.849609, 4236.976074, 4253.837891, 4258.691895, 4260.73877, 4296.725586, 4302.359375, 4296.003418, 4298.339355, 4283.602051, 4286.610352, 4309.913574, 4331.964355, 4323.773438, 4329.814453, 4341.097656, 4341.411621, 4341.533691, 4352.203125, 4339.76709, 4343.231934, 4331.013672, 4340.046387, 4352.647949, 4367.114746, 4393.856445, 4398.939941, 4408.1875, 4385.235352, 4387.204102, 4399.770996, 4403.445801, 4406.878418, 4431.486328, 4432.768066, 4430.189453, 4429.677734, 4458.892578, 4442.674805, 4433.078613, 4450.387207, 4459.433105, 4460.916016, 4453.090332, 4483.633789, 4459.666992, 4439.961914, 4456.404297, 4447.248047, 4463.32666, 4477.393555, 4478.495117, 4476.428223, 4485.64209, 4488.669922, 4498.938477, 4496.48584, 4504.472168, 4513.290039, 4497.365234, 4509.536621, 4483.311523, 4488.716309, 4450.251953, 4454.81543, 4425.023438, 4411.046387, 4397.236328, 4366.820313, 4366.868164, 4375.888184, 4343.311523, 4356.175781, 4376.463379, 4385.914551, 4378.562988, 4364.901855, 4388.717285, 4373.089844, 4369.537109, 4375.095215, 4359.419434, 4363.533691, 4366.265137, 4369.214844, 4370.345215, 4410.125977, 4377.556152, 4416.514648, 4413.394531, 4397.878906, 4390.100586, 4381.590332, 4439.229492, 4392.99707, 4426.624023, 4407.58252, 4418.563477, 4418.577637, 4432.307129, 4424.325684, 4431.048828, 4461.746582, 4417.746582, 4450.234863, 4434.748535, 4438.709961, 4422.484375, 4439.189941, 4452.185547, 4468.133301, 4442.833496, 4466.676758, 4475.743164, 4519.505371, 4469.697754, 4496.077148, 4491.15918, 4485.835449, 4492.549316, 4499.756348, 4522.033203, 4514.435547, 4511.870605, 4522.14209, 4531.708008, 4538.844727, 4545.432617, 4531.431152, 4548.831543, 4544.129883, 4543.649414, 4557.436035, 4532.026855, 4557.161133, 4540.683105, 4565.293945, 4563.608398, 4584.164063, 4588.557617, 4603.056641, 4630.293945, 4610.01123, 4640.141113, 4641.031738, 4640.524414, 4670.31543, 4638.266602, 4677.079102, 4652.836914, 4661.620117, 4667.335449, 4663.011719, 4673.42041, 4663.262207, 4665.075195, 4687.839355, 4706.342773, 4682.275879, 4697.07959, 4658.594727, 4714.794434, 4713.694336, 4775.696289, 4750.224121, 4752.94043, 4769.602051, 4736.691406, 4742.311035, 4728.995605, 4740.608398, 4729.078125, 4725.722168, 4740.271973, 4724.534668, 4771.65332, 4801.128906, 4768.706543, 4768.558594, 4786.56543, 4792.623047, 4814.770508, 4776.812012, 4772.942871, 4784.902344, 4761.609863, 4831.148438, 4789.840332, 4801.992188, 4804.019043, 4812.019043, 4824.180176, 4826.361816, 4822.506836, 4848.13916, 4856.760742, 4861.69043, 4842.306641, 4863.143066, 4859.747559, 4893.199219, 4881.854004, 4866.509277, 4870.554688, 4893.708496, 4900.53125, 4903.418945, 4893.224121, 4930.036621, 4914.897461, 4912.327637, 4940.518066, 4921.941406, 4948.613281, 4933.547363, 4974.310059, 5012.690918, 4980.145508, 4980.054199, 5021.416992, 4966.77832, 4978.30957, 5007.679688, 4981.048828, 5003.519531, 5011.458496, 5021.949707, 5027.883789, 5009.574219, 5072.07666, 5070.875977, 5044.542969, 5035.967285, 5068.711914, 5082.862305, 5036.361328, 5054.112793, 5071.290039, 5070.484863, 5035.959473, 5068.712891, 5079.416016, 5093.722168, 5058.009766, 5066.312012, 5074.39209, 5074.325195, 5097.999512, 5103.574707, 5084.450195, 5089.344238, 5106.862793, 5104.757324, 5106.45459, 5103.892578, 5089.762695, 5109.069824, 5099.484863, 5146.907227, 5119.645996, 5099.070801, 5099.511719, 5139.735352, 5162.389648, 5142.95459, 5180.649902, 5153.085938, 5166.522461, 5166.967773, 5148.339844, 5178.507813, 5126.146484, 5151.447754, 5173.884766, 5175.589844, 5158.960449, 5168.782227, 5134.039551, 5171.414063, 5175.016602, 5175.701172, 5192.912109, 5196.936523, 5193.939453, 5195.185059, 5170.886719, 5190.417969, 5185.539551, 5190.519043, 5194.80957, 5164.215332, 5201.346191, 5207.737305, 5214.37207, 5193.73877, 5211.019043, 5206.243652, 5206.262695, 5178.669434, 5210.509766, 5235.105957, 5231.689941, 5212.867676, 5243.445313, 5244.682129, 5259.533691, 5238.333984, 5258.585938, 5244.671875, 5251.818359, 5230.95166, 5239.415039, 5232.032227, 5235.147461, 5243.806641, 5230.549316, 5240.791016, 5228.185547, 5264.788086, 5256.361328, 5273.541992, 5242.010742, 5268.875977, 5263.410645, 5269.22998, 5278.419922, 5260.797363, 5280.194336, 5279.991699, 5270.001953, 5277.932129, 5330.171387, 5255.993652, 5300.66748, 5295.962402, 5270.733887, 5277.338379, 5285.054688, 5295.330566, 5296.164551, 5281.541504, 5322.331543, 5286.565918, 5291.782227, 5293.292969, 5313.135254, 5295.473633, 5285.266113, 5276.212402, 5277.320313, 5286.665527, 5314.3125, 5323.083008, 5311.893555, 5331.616211, 5316.829102, 5329.634766, 5306.666016, 5316.870117, 5319.374512, 5299.359375, 5316.490234, 5300.391113, 5302.793457, 5350.788574, 5308.125977, 5323.580078, 5305.98291, 5318.583496, 5316.283691, 5324.571289, 5302.404785, 5304.949707, 5277.603027, 5317.358887, 5306.833008, 5310.914551, 5327.600098, 5347.202637, 5332.61084, 5301.772461, 5327.006348, 5312.40625, 5312.479004, 5343.726563, 5325.132813, 5309.711426, 5331.055176, 5298.802734, 5319.487305, 5303.160645, 5307.872559, 5323.529785, 5307.771973, 5317.435059, 5342.387695, 5326.381836, 5338.573242, 5290.707031, 5342.088379, 5295.836914, 5315.93457, 5331.806152, 5347.339844, 5347.669434, 5323.370605, 5333.896973, 5304.237305, 5315.943848, 5314.19043, 5343.36377, 5316.799316, 5355.000488, 5323.412598, 5349.363281, 5336.045898, 5318.879395, 5349.29541, 5330.329102, 5334.798828, 5316.322266, 5314.300781, 5308.376465, 5324.734863, 5296.769531, 5329.475098, 5324.505859, 5347.591309, 5355.237305, 5326.375488, 5357.635254, 5305.925781, 5310.366699, 5351.814453, 5303.925781, 5315.980469, 5342.302246, 5322.976563, 5326.276367, 5332.859863, 5305.925293, 5332.248535, 5311.663086, 5371.86084, 5324.556152, 5320.262207, 5326.500488, 5293.151855, 5331.645508, 5298.013672, 5300.989746, 5355.470703, 5299.207031, 5323.084473, 5353.477539, 5286.230957, 5310.85498, 5350.483398, 5354.818359, 5347.154785, 5337.410645, 5312.646973, 5332.568848, 5345.169434, 5316.466309, 5348.405762, 5302.709961, 5316.976563, 5335.128906, 5341.189453, 5319.638672, 5373.375488, 5364.35791, 5328.655273, 5346.648438, 5336.409668, 5331.412109, 5326.631348, 5312.625, 5308.256348, 5326.709961, 5317.592773, 5336.648926, 5359.550781, 5296.044434, 5333.157227, 5342.443848, 5363.106934, 5339.168457, 5325.767578, 5294.754883, 5322.375488, 5334.195801, 5320.643066, 5323.472656, 5339.803223, 5288.203613, 5308.71875, 5334.53418, 5327.811523, 5362.976074, 5326.128418, 5346.15625, 5337.001953, 5316.067383, 5354.71582, 5333.269043, 5324.661133, 5306.56543, 5311.203613, 5316.994629, 5323.010254, 5311.355957, 5331.886719, 5331.269043, 5317.998535, 5316.649414, 5317.683105, 5340.094727, 5330.665039, 5339.736816, 5337.723633, 5337.856445, 5336.319824, 5321.947754, 5345.629395, 5349.160156, 5336.246582, 5336.600586, 5353.070801, 5335.165039, 5345.585938, 5322.147461, 5330.416016, 5313.675293, 5302.632813, 5314.623047, 5316.947754, 5311.057617, 5353.206055, 5324.230469, 5346.895508, 5348.971191, 5352.762695, 5322.791016, 5308.414551, 5320.73291, 5293.022949, 5306.162109, 5278.065918, 5279.645996, 5294.5625, 5271.311035, 5312.499023, 5281.801758, 5317.453613, 5296.570801, 5288.947754, 5285.779297, 5283.863281, 5317.430664, 5304.276855, 5295.483887, 5273.90625, 5295.097168, 5300.024902, 5258.045898, 5281.51123, 5293.799316, 5253.004883, 5279.508301, 5275.04834, 5279.737305, 5294.556152, 5288.130371, 5307.296875, 5304.240723, 5287.016602, 5277.782227, 5302.322266, 5297.629395, 5284.668945, 5287.689453, 5288.714355, 5271.842285, 5285.341309, 5282.614746, 5296.159668, 5286.631836, 5293.565918, 5317.545898, 5269.82666, 5279.40918, 5285.936035, 5310.369141, 5269.984863, 5285.236816, 5266.905762, 5304.271973, 5287.565918, 5291.256836, 5263.55957, 5281.319824, 5276.799805, 5276.753418, 5280.955078, 5283.677246, 5258.652832, 5256.768555, 5277.217285, 5261.413574, 5263.221191, 5278.38623, 5280.363281, 5289.730469, 5272.313965, 5267.713867, 5286.538574, 5282.375977, 5266.616699, 5271.560059, 5245.062988, 5304.031738, 5257.855957, 5245.950195, 5238.349609, 5234.315918, 5290.240723, 5277.552246, 5260.989258, 5269.388184, 5276.596191, 5302.255859, 5268.802246, 5237.407227, 5274.467285, 5260.729492, 5253.851563, 5278.581055, 5277.434082, 5253.029297, 5257.015137, 5224.842773, 5260.476563, 5228.769043, 5246.98584, 5232.145996, 5225.179688, 5254.751953, 5245.391602, 5313.734375, 5276.978516, 5250.422363, 5277.429199, 5290.995605, 5293.608398, 5277.386719, 5252.734375, 5258.56543, 5251.25293, 5246.146973, 5268.251953, 5238.45459, 5215.294434, 5235.922852, 5220.662598, 5224.637207, 5253.665527, 5230.259277, 5243.058105, 5268.645508, 5287.806152, 5259.856445, 5272.291016, 5265.124023, 5263.149414, 5280.279785, 5276.353516, 5259.202637, 5272.759766, 5264.612793, 5261.445313, 5306.40332, 5274.402344, 5301.79248, 5295.331055, 5284.935059, 5266.252441, 5265.876953, 5283.765137, 5281.576172, 5276.783203, 5264.999512, 5264.815918, 5259.313477, 5291.986816, 5286.67041, 5264.086426, 5314.850586, 5273.205566, 5294.855469, 5297.94043, 5283.98877, 5301.077148, 5306.84375, 5310.456055, 5299.20459, 5283.543945, 5278.415039, 5294.01709, 5268.807129, 5317.419434, 5308.090332, 5263.978516, 5290.554199, 5265.952148, 5287.324707, 5289.95166, 5285.595215, 5290.586914, 5290.063965, 5297.126465, 5257.566895, 5278.139648, 5309.275391, 5289.452148, 5283.300781, 5272.300293, 5318.29248, 5297.999512, 5292.645508, 5310.775879, 5296.657227, 5284.285156, 5311.063477, 5272.178223, 5277.008789, 5282.03125, 5286.923828, 5304.021484, 5323.905762, 5313.457031, 5333.769531, 5320.530762, 5298.883301, 5342.677734, 5302.753906, 5328.05127, 5335.078125, 5316.51123, 5321.376465, 5337.136719, 5307.208496, 5329.594238, 5335.28125, 5325.373047, 5328.941895, 5345.416016, 5330.42041, 5341.282227, 5304.383789, 5309.701172, 5281.289551, 5294.51123, 5317.97998, 5331.134766, 5318.289063, 5371.228516, 5363.076172, 5338.925293, 5332.619141, 5339.959961, 5308.04541, 5361.911621, 5363.021484, 5360.838379, 5352.701172, 5370.109863, 5373.918457, 5373.20459, 5335.217773, 5341.762695, 5321.985352, 5331.467773, 5394.216309, 5356.458008, 5381.859863, 5347.165039, 5355.044922, 5330.091309, 5374.450684, 5389.942383, 5373.361816, 5385.058594, 5388.365234, 5372.802734, 5360.772461, 5416.349121, 5410.429688, 5421.347656, 5408.367188, 5402.083984, 5425.893066, 5411.011719, 5425.777832, 5405.764648, 5434.733398, 5433.53418, 5435.165039, 5433.130371, 5465.818848, 5445.636719, 5454.710938, 5481.713379, 5458.222656, 5487.081055, 5472.515137, 5499.016602, 5509.44873, 5499.084473, 5526.202148, 5517.74707, 5520.389648, 5571.633789, 5599.893555, 5564.900879, 5590.132813, 5599.399414, 5600.382813, 5622.473633, 5672.589355, 5649.93457, 5643.066895, 5662.142578, 5683.831055, 5703.021484, 5722.818848, 5723.704102, 5794.185547, 5784.610352, 5804.027832, 5772.849121, 5816.698242, 5827.681641, 5807.625, 5864.763672, 5885.519043, 5931.642578, 5917.060547, 5940.760742, 5968.368164, 5958.721191, 6035.472656, 6012.112305, 6061.161621, 6059.855469, 6076.796875, 6147.516602, 6175.887695, 6223.152344, 6240.399902, 6302.315918, 6338.723633, 6451.75, 6490.357422, 6513.101074, 6553.20752, 6595.631348, 6584.598633, 6582.735352, 6583.369141, 6622.813965, 6631.925293, 6643.881836, 6689.981934, 6695.632324, 6731.67041, 6738.139648, 6763.813965, 6741.085938, 6751.344727, 6811.022949, 6800.565918, 6819.697266, 6817.869629, 6838.574707, 6807.001465, 6845.583984, 6828.304199, 6868.538574, 6869.934082, 6914.30127, 6905.231445, 6927.755371, 6919.668457, 6918.843262, 6925.48877, 6915.154297, 6934.27002, 6961.066895, 6980.740234, 6947.98291, 6973.063965, 6967.126465, 6986.170898, 6973.043945, 6952.657715, 6982.283691, 6979.979004, 6950.232422, 6972.290039, 6992.870117, 6943.514648, 6937.071289, 6986.206543, 6971.374512, 6967.17334, 6947.119629, 7011.062988, 6968.106934, 6976.300781, 7045.364746, 6951.009766, 6966.793457, 7015.097656, 6984.802246, 7021.427734, 6958.177246, 6994.775879, 6954.145996, 6944.734375, 7000.602539, 6966.103027, 6948.470703, 6991.967285, 6947.335938, 6950.875, 6974.914063, 6971.526367, 6953.162598, 6984.845215, 6987.253418, 6961.181152, 6994.476563, 6975.372559, 6984.199707, 6960.16748, 6980.833984, 6921.700195, 6937.973633, 6960.150391, 6961.796875, 6944.512207, 6940.721191, 6945.476074, 6988.072266, 6994.510742, 6994.133301, 6998.313477, 7004.037598, 6985.492676, 6972.192871, 6959.612793, 6956.54541, 6962.003906, 6976.174316, 6951.047363, 6944.359863, 6955.839844, 6977.875977, 6976.946777, 6942.867676, 6934.231445, 6990.552734, 6945.47168, 6950.605957, 6930.67334, 6951.27002, 6941.720215, 6953.680176, 6962.441406, 6980.756836, 6956.265625, 6963.350098, 6970.847168, 6993.644043, 7022.090332, 6993.960938, 6984.119141, 7002.175781, 6991.475098, 6993.374512, 6957.632813, 6984.988281, 6998.896484, 6992.07959, 6984.699219, 6958.072266, 6944.245117, 6983.375488, 6947.072754, 6976.237793, 6950.023926, 6971.24707, 6958.342285, 6974.78125, 6939.930176, 6973.827637, 6998.155762, 6917.702637, 6943.538086, 6974.067383, 6936.484375, 6976.151855, 6972.980469, 6928.160645, 6914.751465, 6944.694336, 6928.868164, 6927.683105, 6934.987793, 6990.705078, 6922.827637, 6944.696777, 6957.083984, 6945.790527, 6930.226563, 6949.703125, 6963.45166, 6917.655273, 6951.450195, 6958.053711, 6908.140625, 6915.149414, 6923.020508, 6925.109375, 6915.037109, 6938.557129, 6919.716797, 6935.566895, 6912.805176, 6900.212891, 6913.53418, 6873.444824, 6919.125488, 6906.726074, 6958.98877, 6916.649414, 6922.523926, 6937.781738, 6906.34082, 6908.839844, 6921.383789, 6957.509766, 6955.121094, 6931.719238, 6925.788574, 6958.213379, 6948.227539, 6919.040527, 6902.839355, 6948.142578, 6931.256348, 6936.37207, 6921.743164, 6916.333984, 6908.488281, 6889.847168, 6880.060059, 6878.703125, 6868.485352, 6858.923828, 6887.23291, 6867.917969, 6894.561523, 6863.476074, 6899.418945, 6884.722656, 6861.830566, 6913.778809, 6903.726074, 6889.893066, 6899.112793, 6905.213867, 6916.56543, 6918.362305, 6942.943359, 6928.425781, 6929.227539, 6910.603516, 6952.786133, 6952.523438, 6928.748535, 6932.169922, 6944.898438, 6928.664551, 6950.104492, 6978.068848, 6972.953125, 6952.375977, 6937.88916, 6903.1875, 6922.356445, 6934.898926, 6956.505371, 6895.938477, 6969.494141, 6955.674805, 6961.05957, 6933.627441, 6958.099121, 6943.829102, 6953.52832, 6959.526855, 6943.122559, 6983.048828, 6949.723145, 6943.956543, 6959.599609, 6907.324707, 6942.20459, 6904.584961, 6903.100098, 6947.953125, 6939.036133, 6906.158203, 6898.316406, 6941.681641, 6955.836426, 6925.464355, 6926.603516, 6927.199219, 6941.216797, 6947.875488, 6948.673828, 6981.172363, 6963.299316, 6985.290039, 6954.823242, 6977.724121, 6995.922363, 6961.836914, 7021.762207, 6985.987305, 7003.740234, 7020.019531, 7020.411621, 6965.374512, 7023.741699, 7006.69043, 6999.997559, 6992.743164, 6998.868652, 7026.019531, 7063.212402, 7031.322754, 7056.540527, 7066.701172, 7043.675781, 7059.455078, 7054.635254, 7050.696777, 7028.624512, 7039.277344, 7028.942383, 7030.843262, 7058.799805, 7047.308594, 7047.933594, 7035.344238, 6996.429199, 7020.553223, 7011.950195, 7019.729004, 7030.544434, 7050.87793, 7023.970703, 7021.98584, 7003.91748, 7045.756836, 7043.925293, 7017.373047, 7035.974609, 7025.267578, 7021.049316, 7025.379395, 7015.018555, 7009.816406, 6978.024414, 7023.40332, 7007.848633, 7050.554199, 6989.616699, 7040.873047, 7023.547363, 7041.93457, 7042.730957, 7037.152832, 7025.464355, 7024.568359, 7028.533691, 7052.020508, 7026.015137, 7014.135742, 7020.961426, 7001.062012, 7012.805664, 6978.637695, 7001.091309, 6984.743652, 7010.032227, 6997.278809, 7014.98877, 7018.92041, 6980.163574, 6975.428223, 7033.026855, 6968.166504, 6981.010742, 6960.228027, 6948.415039, 6985.663574, 6983.720215, 6963.678711, 6966.069336, 6973.789063, 6983.743652, 6941.885254, 6948.503906, 6947.247559, 6921.333496, 6931.508301, 6951.59375, 6973.150391, 6957.80957, 6940.412598, 6962.72998, 6959.083984, 6980.135254, 6970.542969, 6899.360352, 6951.631348, 6948.756348, 6939.662109, 6969.627441, 6940.925293, 6961.326172, 6948.361328, 6931.74707, 6939.552734, 6915.316895, 6938.918457, 6962.012695, 6891.089355, 6906.632813, 6922.84375, 6937.154785, 6970.066406, 6940.490234, 6938.094238, 6969.049805, 6934.848145, 6967.837402, 6939.519043, 6973.601074, 6931.112305, 6954.77832, 6954.430176, 6956.769043, 6952.035645, 6920.605957, 6930.22168, 6939.780762, 6974.729004, 6896.365723, 6955.529785, 6934.377441, 6919.608398, 6946.664063, 6930.86084, 6941.912598, 6872.010742, 6921.109375, 6947.949219, 6922.677246, 6900.765625, 6909.508301, 6909.734375, 6889.12793, 6881.317383, 6925.875488, 6899.131348, 6910.810059, 6893.116699, 6932.155273, 6882.899414, 6926.103027, 6892.328613, 6923.467285, 6934.862793, 6937.75, 6895.036133, 6902.36084, 6887.171875, 6919.999512, 6866.260254, 6886.929688, 6863.06543, 6830.73877, 6841.582031, 6849.810547, 6823.701172, 6825.803711, 6800.802246, 6792.245117, 6760.152832, 6813.355469, 6741.091797, 6796.213867, 6751.757813, 6791.243164, 6765.575195, 6767.893066, 6764.128418, 6801.588867, 6769.91748, 6817.012695, 6798.460938, 6763.248535, 6734.365234, 6780.106445, 6789.25293, 6767.084473, 6783.818359, 6756.457031, 6772.208496, 6751.723145, 6739.63623, 6771.344238, 6776.753418, 6764.714355, 6761.589355, 6748.414551, 6723.11084, 6732.672852, 6731.805176, 6761.75, 6728.150391, 6715.460938, 6746.281738, 6755.359863, 6757.157227, 6721.29541, 6706.271973, 6760.158203, 6732.04834, 6744.510742, 6752.746582, 6685.891602, 6734.125, 6713.743164, 6744.838867, 6738.484863, 6749.503906, 6705.345215, 6714.296875, 6702.01416, 6715.693359, 6709.990234, 6699.926758, 6737.756836, 6746.951172, 6746.47998, 6700.894043, 6712.179199, 6710.060059, 6733.696777, 6721.191406, 6768.693848, 6734.695313, 6721.712891, 6733.911133, 6735.18457, 6743.118652, 6760.905762, 6739.413086, 6806.674316, 6814.757813, 6756.441895, 6806.202148, 6771.558594, 6808.224609, 6815.688965, 6810.911133, 6819.984375, 6802.207031, 6802.451172, 6822.492676, 6833.785156, 6805.41748, 6832.900391, 6798.187012, 6857.456543, 6835.54248, 6851.177246, 6850.827148, 6861.633301, 6871.144043, 6855.009277, 6850.952637, 6849.549805, 6904.402832, 6881.757324, 6886.262207, 6862.458984, 6906.490723, 6893.867676, 6844.268555, 6894.207031, 6906.30127, 6904.48584, 6927.724121, 6896.859863, 6925.945313, 6914.95752, 6942.816406, 6969.478516, 6964.297363, 7016.745605, 6999.064941, 7014.114746, 7010.013184, 7065.806641, 7096.922363, 7129.033691, 7143.507813, 7130.777344, 7165.148926, 7155.51709, 7193.208496, 7202.402832, 7191.950195, 7215.899414, 7256.975586, 7285.532227, 7250.475586, 7298.44043, 7304.765137, 7343.918945, 7437.138184, 7450.953613, 7466.148926, 7503.471191, 7554.452637, 7629.360352, 7661.506348, 7699.882324, 7710.79834, 7766.131836, 7796.170898, 7802.441406, 7817.407715, 7860.276855, 7850.678711, 7901.619629, 7896.894531, 7951.716309, 7966.273926, 7947.197266, 7997.385254, 8006.124023, 7996.929688, 8019.773926, 8046.068359, 8079.717773, 8107.629395, 8102.07959, 8097.111816, 8126.027832, 8105.873535, 8164.052246, 8148.706543, 8164.673828, 8129.663574, 8168.820313, 8163.695313, 8155.694824, 8191.424805, 8192.40625, 8174.049805, 8151.190918, 8140.973633, 8138.606934, 8130.414551, 8148.788574, 8134.220703, 8137.869141, 8151.229492, 8141.033691, 8113.045898, 8123.596191, 8092.51709, 8121.187012, 8098.142578, 8114.139648, 8080.960449, 8080.728027, 8078.239746, 8052.640625, 8081.547363, 8079.595703, 8114.51416, 8088.520508, 8115.644043, 8104.244629, 8094.794434, 8128.032227, 8080.368164, 8064.540527, 8043.248047, 8060.591797, 8022.324219, 7987.332031, 8002.279297, 7971.47168, 7963.855957, 7984.01416, 7988.304199, 7943.515625, 7976.458008, 7998.547852, 7958.841309, 7962.70459, 7959.717285, 7965.275879, 7968.02832, 7916.066895, 7884.810059, 7875.588379, 7874.698242, 7880.208008, 7839.455566, 7864.591797, 7866.435059, 7848.407715, 7849.342773, 7835.429688, 7844.885254, 7815.731445, 7793.289551, 7758.765137, 7746.567871, 7777.377441, 7710.855957, 7719.358398, 7718.13623, 7726.709473, 7685.964355, 7688.725098, 7664.571777, 7680.512207, 7678.640625, 7656.129395, 7652.833008, 7668.317871, 7616.628906, 7630.685059, 7613.716309, 7609.116211, 7555.152832, 7607.731445, 7573.116699, 7588.418457, 7535.360352, 7534.133301, 7543.947754, 7517.855957, 7483.319336, 7474.495605, 7454.376953, 7395.793945, 7383.991699, 7415.279785, 7394.134766, 7386.15332, 7417.332031, 7383.45459, 7374.083984, 7380.290039, 7352.119629, 7316.786621, 7308.461426, 7297.251465, 7286.71582, 7258.155273, 7250.674805, 7242.347656, 7215.358887, 7205.454102, 7181.704102, 7189.217773, 7127.412598, 7140.383301, 7108.150879, 7105.20752, 7040.210449, 7060.983398, 7030.591797, 7022.229492, 7007.410645, 6992.137207, 6961.726074, 6940.491699, 6916.281738, 6928.643555, 6909.667969, 6891.437012, 6843.553711, 6837.644531, 6828.94043, 6825.468262, 6802.955078, 6786.316895, 6745.537109, 6719.376465, 6699.256348, 6685.174805, 6660.01123, 6654.409668, 6626.311035, 6609.768066, 6593.474609, 6593.35498, 6557.363281, 6566.782715, 6564.520996, 6547.824219, 6508.861816, 6499.62207, 6492.715332, 6448.955566, 6432.305664, 6422.887207, 6410.763184, 6391.094727, 6380.891602, 6346.808594, 6323.616211, 6339.43457, 6320.931641, 6304.349121, 6312.444824, 6326.907715, 6288.765137, 6264.540039, 6256.702637, 6253.540527, 6247.178711, 6233.710938, 6238.283691, 6213.563477, 6145.080078, 6119.082031, 6107.080566, 6107.342285, 6085.084961, 6090.553223, 6033.949219, 6032.244629, 6029.556641, 6004.837891, 6021.974121, 5996.070801, 5988.578125, 5989.12793, 5963.629883, 5958.266602, 5938.36377, 5902.062012, 5878.742188, 5890.34668, 5859.179688, 5828.486328, 5844.986816, 5836.912109, 5832.73584, 5797.88623, 5803.60498, 5774.868652, 5780.015137, 5766.89209, 5747.025391, 5730.677734, 5692.098633, 5700.489258, 5691.454102, 5673.30957, 5643.112793, 5633.373047, 5628.226563, 5655.031738, 5630.847168, 5626.584961, 5602.365723, 5592.900391, 5584.689941, 5563.406738, 5552.025391, 5546.366699, 5526.618652, 5517.487793, 5570.933105, 5610.111328, 5560.950684, 5519.067383, 5499.807617, 5487.977539, 5469.04541, 5486.648438, 5484.741699, 5529.340332, 5524.667969, 5499.290527, 5495.36377, 5475.268555, 5466.874512, 5454.306152, 5455.433594, 5455.609863, 5478.633789, 5464.739746, 5477.058594, 5446.394531, 5422.578613, 5430.989746, 5429.696289, 5427.312988, 5413.107422, 5417.36377, 5410.050781, 5394.009766, 5439.058594, 5414.441406, 5390.556641, 5369.063477, 5352.126465, 5349.90918, 5362.765137, 5371.024414, 5355.23584, 5349.978027, 5355.183105, 5368.057617, 5332.004883, 5376.938965, 5331.352051, 5323.76416, 5304.06543, 5299.576172, 5303.94873, 5266.602051, 5297.919434, 5294.951172, 5306.493652, 5312.327637, 5293.490723, 5284.427734, 5273.853516, 5252.377441, 5261.040527, 5224.847168, 5228.336426, 5227.489746, 5214.36084, 5232.141113, 5210.643555, 5248.082031, 5248.818359, 5247.652832, 5235.289063, 5198.480469, 5201.442871, 5198.722656, 5188.391113, 5203.859863, 5204.805664, 5195.320313, 5185.341797, 5194.753418, 5180.898926, 5168.187012, 5172.539063, 5188.383301, 5156.62207, 5168.273438, 5171.569336, 5173.859375, 5166.980957, 5185.472656, 5153.221191, 5162.368652, 5166.986816, 5169.38916, 5155.101563, 5146.746582, 5144.549805, 5128.717773, 5144.714844, 5128.443848, 5113.534668, 5091.007813, 5097.523926, 5105.071777, 5096.117676, 5089.691895, 5081.053223, 5086.630371, 5091.885254, 5074.206055, 5087.371582, 5090.821289, 5109.039551, 5088.515625, 5122.217773, 5073.610352, 5091.075195, 5089.163086, 5109.288086, 5091.970703, 5091.962402, 5104.191406, 5095.16748, 5107.286621, 5108.092285, 5084.018066, 5087.574707, 5088.803711, 5091.505859, 5024.453125, 5048.958496, 5061.505371, 5041.298828, 5046.265137, 5026.677246, 5023.325684, 5026.38623, 5073.884277, 5074.557129, 5060.737305, 5063.681152, 5055.453125, 5061.007324, 5061.033691, 5069.777832, 5072.827148, 5058.928711, 5040.558105, 5038.078613, 5064.792969, 5035.847168, 5050.608887, 5059.271484, 5044.913574, 5054.62793, 5048.005371, 5051.591309, 5064.660645, 5056.205566, 5057.558594, 5026.050781, 5055.228516, 5033.492676, 5037.59668, 5030.475586, 5045.401855, 5053.079102, 5045.035645, 5043.129883, 5037.410645, 5019.853027, 5009.364746, 5012.602539, 5026.472656, 5016.199707, 5028.213379, 5004.520508, 4995.289063, 5003.586914, 5013.697266, 5004.811523, 5004.940918, 5004.723633, 5017.487793, 4995.809082, 5017.270508, 5013.836914, 5002.759277, 5011.052734, 4985.306152, 4981.685547, 5002.325195, 5002.371582, 5001.881348, 4987.355469, 4997.632813, 4977.26416, 4976.664551, 5016.01123, 5029.222656, 5024.937012, 5030.779785, 5026.033203, 5012.714355, 5026.222656, 5044.574219, 5050.187012, 5024.445801, 5028.824707, 5025.845703, 5047.183594, 5043.074707, 5054.985352, 5046.316406, 5062.77832, 5054.085938, 5080.006348, 5072.451172, 5081.24707, 5085.04248, 5086.027344, 5079.849609, 5064.45752, 5061.160156, 6963.533691, 6921.250977, 6975.083008, 6936.219238, 6913.58252, 6905.405762, 6944.510254, 6961.000488, 6955.494629, 6971.598145, 6946.180176, 6947.443359, 6935.911621, 6918.36084, 6929.006348, 6920.986328, 6905.404785, 6883.42627, 6922.859863, 6895.661133, 6896.462402, 6857.813477, 6812.030273, 6819.520508, 6798.216797, 6818.739746, 6794.277832, 6817.807129, 6811.271973, 6829.213379, 6842.955566, 6855.70752, 6830.129395, 6798.967285, 6790.998535, 6798.031738, 6787.386719, 6808.73291, 6761.701172, 6827.919434, 6797.79834, 6849.094727, 7015.980469, 7029.347168, 7001.35791, 7029.015625, 7012.037109, 7045.811523, 7066.678223, 7036.458008, 7029.65332, 7067.569336, 7076.693848, 7086.972168, 7047.460449, 7074.632813, 7101.858887, 7075.689941, 7084.496094, 7088.437988, 7084.508789, 7109.51123, 7092.007324, 7117.165039, 7104.54834, 7152.771973, 7093.647949, 7128.883789, 7126.599121, 7151.673828, 7128.949707, 7147.957031, 7144.297852, 7146.749512, 7147.59082, 7145.772461, 7181.145508, 7168.524414, 7176.364746, 7178.000488, 7165.858887, 7164.131836, 7236.431152, 7226.460938, 7204.141113, 7261.228516, 7247.175293, 7321.506836, 7265.382324, 7302.001953, 7316.927734, 7351.349609, 7375.965332, 7389.108398, 7457.840332, 7493.822754, 7512.14502, 7536.871582, 7533.800293, 7622.10498, 7627.994141, 7676.73584, 7652.759766, 7712.166504, 7727.820313, 7765.553711, 7772.442871, 7819.429199, 7843.188477, 7846.790039, 7837.79541, 7900.914551, 7907.714355, 7928.466309, 7948.443848, 7963.272461, 7930.110352, 7952.617188, 7970.84668, 7972.823242, 7987.010254, 8030.849121, 8012.762695, 8027.581055, 8006.253418, 8027.755859, 7996.613281, 8021.839844, 8040.086914, 8067.05957, 8062.806641, 8099.569824, 8085.783691, 8059.635254, 8082.49707, 8064.452148, 8073.427734, 8110.504883, 8067.09375, 8090.73584, 8084.318848, 8095.179199, 8100.34668, 8103.799316, 8118.666016, 8085.270996, 8150.728516, 8132.56543, 8106.105957, 8127.222656, 8094.818848, 8085.819824, 8104.857422, 8065.838867, 8049.132813, 8053.650879, 8036.694824, 8025.672852, 8056.510254, 8026.528809, 8045.525391, 8038.384766, 8053.620605, 8043.59375, 8028.310059, 8077.797363, 8017.255371, 8026.282227, 8043.083984, 7999.400391, 8009.635742, 8022.869141, 7989.238281, 7980.50293, 7985.494141, 7962.597656, 7940.351563, 7948.210449, 7985.119629, 7943.416504, 7923.76709, 7909.799316, 7908.258301, 7867.368652, 7893.40918, 7921.63916, 7888.286133, 7875.294922, 7837.070801, 7866.231445, 7864.024414, 7829.078613, 7816.026855, 7795.118164, 7831.500488, 7804.543945, 7759.504395, 7754.570801, 7777.02002, 7754.783203, 7726.623535, 7723.753906, 7727.413086, 7730.236816, 7720.625, 7732.200684, 7704.703613, 7680.982422, 7652.114746, 7687.999512, 7686.705078, 7670.240234, 7671.95166, 7702.506348, 7696.261719, 7662.029297, 7655.791992, 7655.954102, 7670.309082, 7633.259766, 7659.064941, 7611.953613, 7586.942871, 7559.431641, 7597.230469, 7548.63916, 7546.978516, 7533.674805, 7529.53418, 7535.90918, 7497.330078, 7524.426758, 7493.549805, 7467.862305, 7476.106934, 7432.312988, 7446.058594, 7432.600586, 7392.979004, 7389.966309, 7392.393066, 7369.843262, 7334.137695, 7292.70166, 7296.424805, 7261.727539, 7257.69043, 7234.349609, 7234.199219, 7190.214355, 7183.566406, 7194.195801, 7156.753906, 7147.089355, 7146.379395, 7094.032715, 7074.88916, 7060.644531, 7048.791992, 6984.412109, 6964.970215, 6967.59375, 6937.628418, 6941.72168, 6933.577148, 6902.151855, 6870.680176, 6832.115723, 6806.861328, 6852.516113, 6837.972656, 6814.228516, 6794.831543, 6797.463379, 6756.817383, 6787.756348, 6732.300781, 6729.829102, 6688.768066, 6659.379883, 6661.091309, 6642.648926, 6644.96875, 6597.831543, 6572.896484, 6560.302734, 6550.379883, 6502.261719, 6504.700195, 6482.475098, 6453.018555, 6435.944336, 6421.013672, 6403.0625, 6399.893555, 6351.13916, 6310.800293, 6338.138184, 6316.128906, 6316.482422, 6296.554199, 6274.023438, 6233.126465, 6241.811035, 6204.832031, 6227.967773, 6200.43457, 6198.466797, 6168.652832, 6145.503418, 6159.966797, 6119.730469, 6107.955078, 6073.964355, 6048.392578, 6061.885254, 6022.704102, 5997.637695, 6002.290039, 5973.498047, 5973.36377, 5936.834961, 5936.440918, 5904.46582, 5897.479492, 5890.149414, 5876.775879, 5831.85791, 5830.107422, 5865.025391, 5834.879883, 5810.587402, 5806.331055, 5789.295898, 5769.54541, 5765.821777, 5736.169922, 5739.72998, 5718.350586, 5701.510254, 5689.959473, 5688.589355, 5682.818359, 5660.970215, 5654.152344, 5643.897461, 5657.771973, 5654.455078, 5645.784668, 5641.118652, 5626.37793, 5619.211426, 5589.400391, 5609.222656, 5601.790527, 5571.894043, 5560.69873, 5559.282715, 5547.785156, 5508.089355, 5491.524902, 5491.712402, 5515.90918, 5519.575684, 5482.510742, 5479.443359, 5457.845703, 5427.504883, 5429.095703, 5406.645508, 5395.739746, 5375.163574, 5413.286133, 5410.745605, 5391.608398, 5391.294922, 5366.381836, 5352.615723, 5365.500977, 5370.307129, 5358.292969, 5339.887207, 5342.579102, 5329.557617, 5324.478027, 5315.62207, 5320.422852, 5270.374023, 5267.506348, 5281.483398, 5293.944336, 5276.615723, 5283.835938, 5272.114258, 5267.635254, 5253.992188, 5232.458008, 5242.249512, 5257.395508, 5232.272949, 5235.201172, 5253.183105, 5239.671387, 5236.845703, 5219.654297, 5222.500977, 5193.223633, 5212.493164, 5204.85498, 5207.347168, 5197.0625, 5166.26123, 5164.367676, 5181.853516, 5152.632813, 5154.247559, 5169.781738, 5125.672363, 5124.269531, 5115.986816, 5117.853027, 5105.861328, 5118.595215, 5130.850098, 5134.214355, 5141.480469, 5129.737305, 5132.88916, 5121.875, 5122.991211, 5117.024414, 5108.879395, 5110.327148, 5110.768555, 5114.08252, 5115.208496, 5108.402344, 5117.231934, 5099.031738, 5050.773926, 5039.433594, 5041.766602, 5079.112305, 5075.107422, 5055.327637, 5074.642578, 5067.997559, 5071.681152, 5053.527344, 5048.881348, 5049.633301, 5052.182617, 5034.961426, 5035.819824, 5044.892578, 5058.085938, 5051.864746, 5044.385742, 5039.783203, 5019.661133, 5005.481445, 5031.28125, 5022.860352, 5025.638672, 4983.09668, 4997.351074, 4983.449219, 5011.844238, 4987.911621, 4994.155762, 4998.503418, 4988.503906, 4981.396973, 4971.598145, 4976.691895, 5003.720703, 5003.487305, 5004.366699, 4991.904297, 4994.827637, 5008.169922, 4999.930664, 5012.125488, 5002.196777, 5015.895508, 5024.088867, 5017.874512, 5009.666504, 4997.245117, 5011.875488, 5008.140137, 4981.529297, 4959.39502, 4997.008301, 5004.333008, 4995.533691, 4983.932129, 5001.385254, 4996.605469, 4994.218262, 4996.424316, 4988.755371, 5003.875977, 5000.078613, 4978.967285, 4986.928223, 4982.967773, 4965.04834, 4961.28125, 4984.66748, 4986.82666, 4984.126953, 4982.397949, 4976.894531, 4983.922363, 4940.688477, 4959.013672, 4971.335938, 4973.363281, 4954.277832, 4938.00293, 4972.266602, 4950.628418, 4947.712402, 4931.857422, 4931.689453, 4916.595215, 4910.496582, 4920.059082, 4960.80957, 4959.092285, 4974.818359, 4956.782715, 4970.961426, 4963.813477, 4980.136719, 4954.564453, 4957.058594, 4973.5, 4961.416992, 4976.414551, 4963.387207, 4968.361328, 4971.211914, 4947.969727, 4934.908203, 4945.707031, 4967.850098, 4947.063477, 4974.520508, 4981.52832, 4999.320313, 4970.966309, 4952.415039, 4959.917969, 4966.316406, 4989.699219, 4980.352539, 4959.6875, 4964.89209, 4952.837891, 4972.039063, 4977.161621, 4972.105957, 4965.177734, 4964.536621, 4988.236328, 4988.62793, 4980.483398, 4956.972656, 4988.361328, 4953.22998, 4952.549316, 4946.209961, 4953.844238, 4952.130371, 4957.498535, 4954.703125, 4953.089355, 4942.843262, 4948.694336, 4950.429199, 4947.942871, 4950.728027, 4945.142578, 4946.571289, 4955.776855, 4963.290527, 4964.945313, 4978.293945, 4974.414551, 4971.955078, 4975.971191, 4992.239746, 4982.756348, 4984.077148, 5027.369141, 5024.786133, 5014.371094, 5015.133789, 5015.436523, 5028.573242, 5039.728027, 5050.041016, 5053.458008, 5069.935059, 5068.672852, 5065.700195, 5058.22998, 5039.005859, 5058.037109, 5058.364258, 5049.121094, 5041.445801, 5042.271484, 5066.489258, 5064.187988, 5129.193848, 5112.8125, 5118.623535, 5116.486328, 5136.722656, 5125.164551, 5131.860352, 5128.88623, 5146.723633, 5172.486816, 5157.64209, 5184.997559, 5182.820801, 5185.291992, 5204.955078, 5202.013672, 5215.496094, 5216.896484, 5252.333984, 5241.377441, 5250.027344, 5255.804688, 5274.532715, 5241.660156, 5227.962402, 5212.916016, 5232.125488, 5226.781738, 5245.459473, 5262.168945, 5258.755371, 5247.217285, 5261.501465, 5267.373047, 5255.240723, 5259.179199, 5265.350586, 5304.459473, 5341.744141, 5350.088379, 5349.560547, 5378.542969, 5405.088379, 5365.425781, 5403.909668, 5412.438477, 5443.964844, 5459.535156, 5427.050293, 5455.327148, 5439.985352, 5424.949707, 5451.396973, 5492.009277, 5474.043945, 5507.490234, 5493.225586, 5538.766602, 5548.280762, 5568.504395, 5571.532715, 5599.309082, 5605.788086, 5619.593262, 5609.696777, 5636.95752, 5674.015625, 5670.269043, 5733.102539, 5729.42334, 5725.435547, 5730.018066, 5796.863281, 5792.975098, 5788.102051, 5794.731934, 5827.108398, 5836.411621, 5807.850586, 5850.628906, 5858.097168, 5865.364258, 5876.114746, 5875.43457, 5888.428223, 5866.71875, 5929.816406, 5950.891113, 5963.128418, 5983.793457, 5969.563477, 5987.356934, 5992.018066, 6008.030762, 6032.094727, 6066.712891, 6090.550781, 6097.217773, 6115.071289, 6154.243164, 6193.775391, 6149.76709, 6146.72998, 6195.946777, 6219.532227, 6217.706055, 6211.104492, 6282.202148, 6255.19043, 6200.552734, 6227.692383, 6205.515625, 6236.766602, 6288.403809, 6255.433105, 6254.759277, 6244.472656, 6214.262695, 6235.967773, 6227.339355, 6229.348145, 6207.870117, 6221.398438, 6240.837891, 6219.808594, 6198.103027, 6199.635742, 6192.59082, 6230.791016, 6228.866211, 6229.217285, 6237.114746, 6235.075195, 6270.237793, 6259.146484, 6258.688477, 6288.633789, 6303.217773, 6237.458984, 6277.006348, 6243.604492, 6307.946289, 6254.324707, 6243.155762, 6252.690918, 6271.009766, 6263.326172, 6256.416016, 6269.231445, 6331.709473, 6348.484375, 6349.358398, 6324.808105, 6362.254395, 6367.728516, 6388.583984, 6382.147461, 6384.948242, 6360.275391, 6346.90918, 6348.057129, 6393.76709, 6341.240234, 6331.165039, 6329.583984, 6355.885742, 6356.020996, 6374.374512, 6324.306641, 6297.643555, 6349.973145, 6363.821289, 6354.518066, 6349.465332, 6380.25, 6403.15332, 6378.026855, 6417.740234, 6354.116211, 6398.751953, 6402.549316, 6412.123535, 6433.464844, 6389.97998, 6424.754395, 6414.732422, 6392.997559, 6449.773926, 6438.35498, 6398.102051, 6424.613281, 6475.48291, 6416.556641, 6425.751465, 6427.34082, 6471.039063, 6469.834961, 6507.820313, 6458.250977, 6479.985352, 6535.916504, 6515.866699, 6530.456055, 6567.743164, 6556.291504, 6588.182617, 6565.338379, 6562.335938, 6539.263672, 6538.766113, 6568.320801, 6573.269531, 6569.984375, 6512.066406, 6558.220215, 6548.454102, 6595.274902, 6610.600098, 6594.17041, 6643.638672, 6607.785645, 6614.202148, 6608.618652, 6640.839355, 6645.400391, 6672.194336, 6650.266113, 6673.675781, 6636.921875, 6710.378906, 6647.979492, 6697.180664, 6691.400879, 6725.129883, 6770.445313, 6688.733887, 6712.954102, 6722.51416, 6734.833984, 6757.600098, 6743.365234, 6732.029785, 6718.67627, 6695.748047, 6715.036133, 6736.206055, 6761.420898, 6725.444336, 6766.836426, 6738.827148, 6790.5, 6786.425293, 6797.973633, 6830.958008, 6825.82959, 6791.008301, 6802.681152, 6794.587402, 6865.365234, 6864.752441, 6868.408691, 6850.391113, 6894.553711, 6872.376465, 6853.055176, 6855.136719, 6881.362305, 6865.633789, 6888.981934, 6923.773926, 6948.717773, 6930.934082, 6919.772461, 6931.588867, 6904.902832, 6946.858398, 6906.57373, 6938.549316, 6934.847656, 6935.113281, 6970.20166, 6956.239258, 6988.719727, 6952.24707, 6914.526855, 6975.436523, 6951.109863, 6988.313965, 6980.268555, 6961.67041, 6963.237305, 6941.258789, 6912.82373, 6949.427734, 6914.558594, 6940.872559, 6953.836914, 6974.214844, 6940.468262, 6962.045898, 6964.741211, 6974.792969, 6984.626953, 6960.181152, 6941.772949, 6968.84668, 6969.408691, 7007.266602, 7009.336426, 6980.207031, 7025.104492, 7023.696777, 7029.18457, 7032.480469, 7004.279297, 7015.292969, 7013.405762, 7021.648926, 7011.018555, 6986.926758, 6967.442383, 7000.395996, 7034.132324, 7071.63916, 7056.477051, 7069.144531, 7048.108398, 7026.757324, 7025.945313, 7005.990723, 7042.26416, 7052.068848, 7013.022461, 7037.683594, 7046.592773, 7016.127441, 7036.814453, 7012.567383, 7018.008301, 7037.400879, 7001.190918, 7034.325195, 7044.303223, 7050.485352, 7066.205566, 7078.788574, 6988.834961, 6975.38916, 7022.356445, 7041.219238, 6983.971191, 6995.942871, 7025.41748, 7007.804688, 7006.237305, 7028.081543, 6999.606934, 7010.276367, 7088.48584, 7073.358887, 7086.416992, 7062.260742, 7083.408691, 7051.283203, 7089.970215, 7065.655762, 7028.61377, 7066.100586, 7087.12207, 7076.796875, 7105.432617, 7103.87793, 7100.27002, 7078.195801, 7084.872559, 7097.256348, 7079.417969, 7118.063965, 7069.087402, 7100.994629, 7115.395508, 7113.543945, 7133.583008]\n"
          ]
        }
      ]
    },
    {
      "cell_type": "markdown",
      "source": [
        "## Graficas"
      ],
      "metadata": {
        "id": "uiI_jXjy2Hfn"
      }
    },
    {
      "cell_type": "code",
      "source": [
        "fig, ax = plt.subplots()\n",
        "ax.plot(test_)\n",
        "ax.plot(forecast_)\n",
        "ax.plot(forecast2_)\n",
        "\n",
        "ax.set(xlabel='time (s)', ylabel='demand (MW)',\n",
        "       title='Real vs Forecasting')\n",
        "ax.grid()\n",
        "\n",
        "fig.savefig(\"test.png\")\n",
        "plt.show()\n"
      ],
      "metadata": {
        "id": "-GjtRaP845e2",
        "outputId": "89d3977a-4b9f-4335-9f6b-088a4a1ec94b",
        "colab": {
          "base_uri": "https://localhost:8080/",
          "height": 301
        }
      },
      "execution_count": 174,
      "outputs": [
        {
          "output_type": "display_data",
          "data": {
            "text/plain": [
              "<Figure size 432x288 with 1 Axes>"
            ],
            "image/png": "[encoded data removed]"
          },
          "metadata": {}
        }
      ]
    },
    {
      "cell_type": "code",
      "source": [
        "mae_mp  = mean_absolute_error(test_,forecast2_)\n",
        "mape_mp = mean_absolute_percentage_error(test_,forecast2_)\n",
        "bias_mp  = bias.bias(test_,forecast2_)\n",
        "print('mae_mp=',mae_mp,'mape_mp=',mape_mp,'bias=',bias_mp)"
      ],
      "metadata": {
        "id": "0jtzx-yvkeE1"
      },
      "execution_count": null,
      "outputs": []
    },
    {
      "cell_type": "markdown",
      "source": [
        "# Meta-función básica de pronóstico de un periodo (análogo)\n",
        "\n"
      ],
      "metadata": {
        "id": "plmnZ0dhaizG"
      }
    },
    {
      "cell_type": "code",
      "source": [
        "## ... time serie·time-serie·time-serie·time-serie·time-serie·time-serie·time-serie·time-serie·time-serie·time-serie·time-serie ...\n",
        "##                |                                               |          |       |\n",
        "##                |                                               |<---np--->|       |\n",
        "##                |<------------------ train -------------------->|<------test------>|\n",
        "##                to                                              tt                 tf \n",
        "\n",
        "to  = 0  ## Inicio de la posición del periodo de entrenamiento\n",
        "tt  = 13 ## Inicio de la posición del pronóstico de prueba\n",
        "tf  = 25 ## Fin de la posición del pronóstico de prueba \n",
        "np  = 1  ## Numero de periodos por salto\n",
        "forecast3_ =[]\n",
        "time3_     =[]\n",
        "for tt,tf in positions_test:\n",
        "    j=0\n",
        "    for i in range(tt,tf,np):\n",
        "        t_o = time.time()\n",
        "        forecast3_=forecast3_+analogo_knn() #serie[to+j:tt+j],np\n",
        "        time3_.append(time.time() - t_o)\n",
        "        j=j+np"
      ],
      "metadata": {
        "id": "GkwIye0OaizG"
      },
      "execution_count": null,
      "outputs": []
    },
    {
      "cell_type": "code",
      "source": [
        "mae_a  = mean_absolute_error(test_,forecast3_)\n",
        "mape_a = mean_absolute_percentage_error(test_,forecast3_)\n",
        "bias_a  = bias.bias(test_,forecast3_)\n",
        "print('mae_a=',mae_a,'mape_a=',mape_a,'bias_a=',bias_a)"
      ],
      "metadata": {
        "id": "24ulU9rKlYb5"
      },
      "execution_count": null,
      "outputs": []
    }
  ]
}
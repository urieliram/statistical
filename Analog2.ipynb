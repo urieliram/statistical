{
  "nbformat": 4,
  "nbformat_minor": 0,
  "metadata": {
    "colab": {
      "name": "Analog.ipynb",
      "provenance": [],
      "toc_visible": true,
      "include_colab_link": true
    },
    "kernelspec": {
      "name": "python3",
      "display_name": "Python 3"
    },
    "language_info": {
      "name": "python"
    }
  },
  "cells": [
    {
      "cell_type": "markdown",
      "metadata": {
        "id": "view-in-github",
        "colab_type": "text"
      },
      "source": [
        "<a href=\"https://colab.research.google.com/github/urieliram/statistical/blob/main/Analog2.ipynb\" target=\"_parent\"><img src=\"https://colab.research.google.com/assets/colab-badge.svg\" alt=\"Open In Colab\"/></a>"
      ]
    },
    {
      "cell_type": "code",
      "execution_count": 1,
      "metadata": {
        "id": "JboE4Y4YndQq",
        "colab": {
          "base_uri": "https://localhost:8080/"
        },
        "outputId": "be4b2f46-9cb1-46d7-b5ff-18dccb8de713"
      },
      "outputs": [
        {
          "output_type": "stream",
          "name": "stdout",
          "text": [
            "Looking in indexes: https://pypi.org/simple, https://us-python.pkg.dev/colab-wheels/public/simple/\n",
            "Requirement already satisfied: dtw-python in /usr/local/lib/python3.7/dist-packages (1.1.12)\n",
            "Requirement already satisfied: numpy>=1.19 in /usr/local/lib/python3.7/dist-packages (from dtw-python) (1.21.6)\n",
            "Requirement already satisfied: scipy>=1.1 in /usr/local/lib/python3.7/dist-packages (from dtw-python) (1.4.1)\n"
          ]
        }
      ],
      "source": [
        "pip install dtw-python"
      ]
    },
    {
      "cell_type": "code",
      "source": [
        "pip install dtreeviz"
      ],
      "metadata": {
        "id": "BNS7utNCMGwZ"
      },
      "execution_count": null,
      "outputs": []
    },
    {
      "cell_type": "code",
      "source": [
        "pip install statsmodels==0.13.1"
      ],
      "metadata": {
        "id": "PxgSsq_A0f4b",
        "outputId": "8fbf051f-cd8b-4d8c-dfa1-52027c12ae97",
        "colab": {
          "base_uri": "https://localhost:8080/",
          "height": 420
        }
      },
      "execution_count": 255,
      "outputs": [
        {
          "output_type": "stream",
          "name": "stdout",
          "text": [
            "Looking in indexes: https://pypi.org/simple, https://us-python.pkg.dev/colab-wheels/public/simple/\n",
            "Collecting statsmodels==0.13.1\n",
            "  Downloading statsmodels-0.13.1-cp37-cp37m-manylinux_2_17_x86_64.manylinux2014_x86_64.whl (9.8 MB)\n",
            "\u001b[K     |████████████████████████████████| 9.8 MB 4.3 MB/s \n",
            "\u001b[?25hRequirement already satisfied: pandas>=0.25 in /usr/local/lib/python3.7/dist-packages (from statsmodels==0.13.1) (1.3.5)\n",
            "Requirement already satisfied: patsy>=0.5.2 in /usr/local/lib/python3.7/dist-packages (from statsmodels==0.13.1) (0.5.2)\n",
            "Requirement already satisfied: numpy>=1.17 in /usr/local/lib/python3.7/dist-packages (from statsmodels==0.13.1) (1.21.6)\n",
            "Requirement already satisfied: scipy>=1.3 in /usr/local/lib/python3.7/dist-packages (from statsmodels==0.13.1) (1.4.1)\n",
            "Requirement already satisfied: python-dateutil>=2.7.3 in /usr/local/lib/python3.7/dist-packages (from pandas>=0.25->statsmodels==0.13.1) (2.8.2)\n",
            "Requirement already satisfied: pytz>=2017.3 in /usr/local/lib/python3.7/dist-packages (from pandas>=0.25->statsmodels==0.13.1) (2022.1)\n",
            "Requirement already satisfied: six in /usr/local/lib/python3.7/dist-packages (from patsy>=0.5.2->statsmodels==0.13.1) (1.15.0)\n",
            "Installing collected packages: statsmodels\n",
            "  Attempting uninstall: statsmodels\n",
            "    Found existing installation: statsmodels 0.10.2\n",
            "    Uninstalling statsmodels-0.10.2:\n",
            "      Successfully uninstalled statsmodels-0.10.2\n",
            "Successfully installed statsmodels-0.13.1\n"
          ]
        },
        {
          "output_type": "display_data",
          "data": {
            "application/vnd.colab-display-data+json": {
              "pip_warning": {
                "packages": [
                  "statsmodels"
                ]
              }
            }
          },
          "metadata": {}
        }
      ]
    },
    {
      "cell_type": "code",
      "source": [
        "import time\n",
        "import timeit\n",
        "import pandas as pd\n",
        "import numpy as np\n",
        "import matplotlib.pyplot as plt\n",
        "import seaborn as sns\n",
        "import math\n",
        "import statsmodels.api as sm\n",
        "from statsmodels.graphics.tsaplots import plot_acf,plot_pacf\n",
        "from statsmodels.tsa.arima_model import ARIMA\n",
        "from sklearn.preprocessing import StandardScaler\n",
        "from sklearn.model_selection import train_test_split, GridSearchCV\n",
        "from sklearn.cluster import MiniBatchKMeans, KMeans\n",
        "from sklearn.neighbors import NearestNeighbors, KNeighborsClassifier\n",
        "from sklearn.linear_model import LinearRegression, RidgeCV, LassoCV, ElasticNetCV, LarsCV, Lasso, Ridge, BayesianRidge, LinearRegression\n",
        "from sklearn.metrics import mean_absolute_error,mean_squared_error,mean_absolute_percentage_error\n",
        "from sklearn.metrics.pairwise import pairwise_distances_argmin\n",
        "from sklearn.ensemble import RandomForestRegressor, GradientBoostingRegressor, VotingRegressor, AdaBoostRegressor, BaggingRegressor\n",
        "from sklearn.cross_decomposition import PLSRegression\n",
        "from sklearn.decomposition import PCA\n",
        "from sklearn.pipeline import make_pipeline\n",
        "from math import sqrt\n",
        "from dtw import *\n",
        "from scipy import stats\n",
        "import statsmodels.tools.eval_measures as bias\n",
        "from statsmodels.tsa.ar_model import AutoReg\n",
        "%matplotlib inline\n",
        "\n",
        "sns.set_theme(style=\"white\")"
      ],
      "metadata": {
        "id": "DuC_OkW4nm78",
        "colab": {
          "base_uri": "https://localhost:8080/"
        },
        "outputId": "bd095573-02fa-4b23-a307-135d868b19c6"
      },
      "execution_count": 1,
      "outputs": [
        {
          "output_type": "stream",
          "name": "stdout",
          "text": [
            "Importing the dtw module. When using in academic works please cite:\n",
            "  T. Giorgino. Computing and Visualizing Dynamic Time Warping Alignments in R: The dtw Package.\n",
            "  J. Stat. Soft., doi:10.18637/jss.v031.i07.\n",
            "\n"
          ]
        }
      ]
    },
    {
      "cell_type": "code",
      "source": [
        "#https://drive.google.com/drive/folders/1Gj3XK9kM-lE18uBMe3qrZOGEm8yAI8i9\n",
        "#https://www.codegrepper.com/code-examples/python/how+to+read+csv+file+from+google+drive+on+google+colab+\n",
        "path        = 'https://drive.google.com/uc?export=download&id=' \n",
        "URL_Demanda = 'https://drive.google.com/file/d/1xcpXDTE7H6EBMLOkic5lq-lzSwiLG2ZS/view?usp=sharing'\n",
        "\n",
        "df_Demanda  = pd.read_csv(path + URL_Demanda .split('/')[-2], usecols=[0] ) #names=['CLVUNI','TYPE','NODE'], usecols=[1,2,3,4,5,6,], 1,2,3,4,5,6,7,8,9,10,11,12,13,15,\n",
        "df_Demanda.dropna(inplace=True)\n",
        "serie = df_Demanda.to_numpy()\n",
        "serie = StandardScaler().fit_transform(serie)\n",
        "serie = serie.ravel()  ## Con esto quitamos el bracket o corchete en cada uno de los elementos del arreglo"
      ],
      "metadata": {
        "id": "7RW90yl-nu87"
      },
      "execution_count": 2,
      "outputs": []
    },
    {
      "cell_type": "code",
      "source": [
        "def trunc(values, decs=0):\n",
        "    return np.trunc(values*10**decs)/(10**decs)"
      ],
      "metadata": {
        "id": "EcNqmPCJP_yS"
      },
      "execution_count": 3,
      "outputs": []
    },
    {
      "cell_type": "code",
      "source": [
        "CYAN = '#76ced6' ; LILA = '#777bd4'; VERDE='#17cb49'; NARA='#ff8000'; AZUL='#168fff'; OTROAZUL = \"b-\"; ROJO= \"r-\"; MAGE=\"FF00FF\";\n",
        "def print_serie2(serie_,prototipo_,title_,ytitle_,xtitle_,sizex_=8,sizey_=5,namefile_='fig_t16_serie.png'):\n",
        "    fig, ax1 = plt.subplots(figsize=(sizex_,sizey_))\n",
        "    plt.title(title_,fontsize='x-large',color=NARA)\n",
        "    ax1.set_xlabel(xtitle_, color=NARA, fontsize='large')\n",
        "    ax1.set_ylabel(ytitle_, color=NARA, fontsize='large')\n",
        "    plt.tick_params(colors = NARA, which='both')\n",
        "    ax1.spines['bottom'].set_color(NARA)\n",
        "    ax1.spines['top'   ].set_color(NARA) \n",
        "    ax1.spines['right' ].set_color(NARA)\n",
        "    ax1.spines['left'  ].set_color(NARA)\n",
        "    if len(prototipo_) != 0: \n",
        "        plt.plot(prototipo_,alpha=0.6, linestyle='dashed', color='red', linewidth=3)\n",
        "    for p in serie_:\n",
        "        plt.plot(p,alpha=0.3, linewidth=2)    \n",
        "    plt.savefig(namefile_, transparent=True)         \n",
        "    plt.show()"
      ],
      "metadata": {
        "id": "9cnF4RJ6no8V"
      },
      "execution_count": 4,
      "outputs": []
    },
    {
      "cell_type": "code",
      "source": [
        "## Preparamos la información para graficar la importancia y las posiciones en Random Forest Regressor\n",
        "def print_importances(model_,labels_,namefile_):\n",
        "    i=0\n",
        "    labels = [str(x) for x in labels_]\n",
        "    labels_importances = []\n",
        "    for feature in model_.feature_importances_:\n",
        "        labels_importances.append((feature,labels[i]))\n",
        "        i=i+1   \n",
        "    labels_importances.sort(key=lambda tup: tup[0], reverse=False)\n",
        "    importances = []\n",
        "    labels      = []\n",
        "    for tup in labels_importances:\n",
        "        importances.append(tup[0])\n",
        "        labels.append(tup[1])\n",
        "    fig, ax = plt.subplots()\n",
        "    y_pos = np.arange(len(importances))\n",
        "    ax.set_yticks(ticks=y_pos)\n",
        "    ax.barh(labels, importances, align='center',color=CYAN)\n",
        "    ax.invert_yaxis()\n",
        "    ax.set_xlabel('Importancia', color=NARA, fontsize='large')\n",
        "    ax.set_ylabel('Variable', color=NARA, fontsize='large')\n",
        "    ax.set_title( 'Importancia de las variables del bosque aleatorio', color=NARA, fontsize='large')    \n",
        "    plt.tick_params(colors = NARA, which='both')\n",
        "    ax.spines['bottom'].set_color(NARA)\n",
        "    ax.spines['top'   ].set_color(NARA) \n",
        "    ax.spines['right' ].set_color(NARA)\n",
        "    ax.spines['left'  ].set_color(NARA)\n",
        "    plt.savefig(namefile_, transparent=True)   \n",
        "    plt.show()"
      ],
      "metadata": {
        "id": "Ofhg0JCdoR-v"
      },
      "execution_count": 5,
      "outputs": []
    },
    {
      "cell_type": "code",
      "source": [
        "def OLSstep(X, Y, X_2, pi_step_=0.001,verbose_=False):\n",
        "    model   = sm.OLS(Y, X)\n",
        "    results = model.fit()\n",
        "    prediction_Y2 = results.predict(X_2)\n",
        "\n",
        "    ## Ordenamos los valores 'pi' y se selecciona el más grande.\n",
        "    i = 0\n",
        "    pvalues = []\n",
        "    for pi in results.pvalues:\n",
        "        pvalues.append((i,pi))\n",
        "        i = i + 1\n",
        "    pvalues.sort(key=lambda tup: tup[1], reverse=True) ## Ordenamos por 'pi'\n",
        "    (i, pi) = pvalues[0]  \n",
        "\n",
        "    while pi > pi:\n",
        "        X   = sm.add_constant(X)\n",
        "        X_2 = sm.add_constant(X_2)   \n",
        "        if verbose_==True:\n",
        "            print('Retiramos regresor ---> X' + str(i))\n",
        "        X   = np.delete(arr=X,   obj=i+0, axis=1)\n",
        "        X_2 = np.delete(arr=X_2, obj=i+0, axis=1)   \n",
        "        model   = sm.OLS(Y, X)\n",
        "        results = model.fit()\n",
        "\n",
        "        ## Ordenamos los valores 'pi' y se selecciona el más grande\n",
        "        i = 0\n",
        "        pvalues = []\n",
        "        for pi in results.pvalues:\n",
        "            pvalues.append((i,pi))\n",
        "            i = i + 1\n",
        "        pvalues.sort(key=lambda tup: tup[1], reverse=True) ## Ordenamos por 'pi'\n",
        "        (i, pi) = pvalues[0]\n",
        "        #prediction   = results.predict(X)   ## Ajuste\n",
        "        prediction_Y2 = results.predict(X_2) ## Pronóstico\n",
        "    if len(prediction_Y2) == 0:      \n",
        "        if verbose_==True:\n",
        "            print('>>> Warning, no variable was significant in the regression.')\n",
        "        model   = sm.OLS(Y, X)\n",
        "        results = model.fit()\n",
        "        prediction_Y2 = results.predict(X_2)\n",
        "        \n",
        "    if verbose_==True:\n",
        "        print(results.summary())\n",
        "    return prediction_Y2   "
      ],
      "metadata": {
        "id": "Ls5XHfg-e5Gr"
      },
      "execution_count": 6,
      "outputs": []
    },
    {
      "cell_type": "code",
      "source": [
        "def RF(X, Y, X_2,labels_,typedist_,verbose_=False):\n",
        "    model         = RandomForestRegressor(random_state=42)\n",
        "    results       = model.fit(X, Y)\n",
        "    prediction_Y2 = results.predict(X_2)\n",
        "    if verbose_==True:\n",
        "        print_importances(model_=model,labels_=labels_,namefile_='fig_t16_importance_'+typedist_+'_'+'RF')\n",
        "        print('Parámetros utilizados RF')\n",
        "        print(\"bootstrap:         {}\".format(model.bootstrap))\n",
        "        print(\"n_estimators:      {}\".format(model.n_estimators))\n",
        "        print(\"max_features:      {}\".format(model.max_features))\n",
        "        print(\"max_depth:         {}\".format(model.max_depth))\n",
        "        print(\"min_samples_leaf:  {}\".format(model.min_samples_leaf))\n",
        "        print(\"min_samples_split: {}\".format(model.min_samples_split))\n",
        "    return prediction_Y2   "
      ],
      "metadata": {
        "id": "V7yMHMCWkvqS"
      },
      "execution_count": 7,
      "outputs": []
    },
    {
      "cell_type": "code",
      "source": [
        "def AutoRF(X, Y, X_2,labels_,typedist_,verbose_=False):\n",
        "## https://towardsdatascience.com/hyperparameter-tuning-the-random-forest-in-python-using-scikit-learn-28d2aa77dd74\n",
        "    #nestlist = []\n",
        "    #for i in range(10, 320, 50):\n",
        "    #    nestlist.append(i)\n",
        "    #param_grid = { \n",
        "    #'bootstrap': [True, False],\n",
        "    #'n_estimators': nestlist,\n",
        "    #'max_features': ['auto', 'sqrt', 'log2'],\n",
        "    #'max_depth' : [10, 20, 30, 40, 50, 60, 70, 80, 90, 100, None],\n",
        "    #'min_samples_leaf': [1, 2, 4],\n",
        "    #'min_samples_split': [2, 5, 10],}\n",
        "    nestlist = []\n",
        "    for i in range(10, 320, 50):\n",
        "        nestlist.append(i)\n",
        "    param_grid = { \n",
        "        'bootstrap': [True, False],\n",
        "        'n_estimators': nestlist,\n",
        "        'max_features': ['auto', 'sqrt',],\n",
        "        'max_depth' : [10, 20, None]}\n",
        "\n",
        "    model = RandomForestRegressor(random_state=42)\n",
        "    clf   = GridSearchCV(estimator=model, param_grid=param_grid, cv=5).fit(X, Y)\n",
        "    model         = clf.best_estimator_\n",
        "    results       = model.fit(X, Y)\n",
        "    prediction_Y2 = results.predict(X_2)\n",
        "\n",
        "    if verbose_==True:\n",
        "        print_importances(model_=model,labels_=labels_,namefile_='fig_t16_importance_'+typedist_+'_'+'AutoRF')\n",
        "        print('Parameters used')\n",
        "        print(\"bootstrap:         {}\".format(model.bootstrap))\n",
        "        print(\"n_estimators:      {}\".format(model.n_estimators))\n",
        "        print(\"max_features:      {}\".format(model.max_features))\n",
        "        print(\"max_depth:         {}\".format(model.max_depth))\n",
        "        print(\"min_samples_leaf:  {}\".format(model.min_samples_leaf))\n",
        "        print(\"min_samples_split: {}\".format(model.min_samples_split))        \n",
        "    return prediction_Y2   "
      ],
      "metadata": {
        "id": "Sh3JVQq6ln4P"
      },
      "execution_count": 8,
      "outputs": []
    },
    {
      "cell_type": "code",
      "source": [
        "def Boosting(X, Y, X_2,typedist_,verbose_=False):\n",
        "    model         = GradientBoostingRegressor(random_state=42,)\n",
        "    results       = model.fit(X, Y)\n",
        "    prediction_Y2 = results.predict(X_2)\n",
        "    return prediction_Y2 "
      ],
      "metadata": {
        "id": "D8tPs-3mU4dA"
      },
      "execution_count": 9,
      "outputs": []
    },
    {
      "cell_type": "code",
      "source": [
        "def Bagging(X, Y, X_2,typedist_,verbose_=False):\n",
        "    model         = BaggingRegressor(random_state=42,)\n",
        "    results       = model.fit(X, Y)\n",
        "    prediction_Y2 = results.predict(X_2)\n",
        "    return prediction_Y2   "
      ],
      "metadata": {
        "id": "n49EThjiXHCa"
      },
      "execution_count": 10,
      "outputs": []
    },
    {
      "cell_type": "code",
      "source": [
        "def AdaBoost(X, Y, X_2,typedist_,verbose_=False):\n",
        "    model         = AdaBoostRegressor(random_state=42,)\n",
        "    results       = model.fit(X, Y)\n",
        "    prediction_Y2 = results.predict(X_2)\n",
        "    return prediction_Y2 "
      ],
      "metadata": {
        "id": "XxzvQPysXiIC"
      },
      "execution_count": 11,
      "outputs": []
    },
    {
      "cell_type": "code",
      "source": [
        "def LinearReg(X, Y, X_2,typedist_,verbose_=False):\n",
        "    model         = LinearRegression()\n",
        "    results       = model.fit(X, Y)\n",
        "    prediction_Y2 = results.predict(X_2)\n",
        "    return prediction_Y2   "
      ],
      "metadata": {
        "id": "eWHrx7dVXYra"
      },
      "execution_count": 12,
      "outputs": []
    },
    {
      "cell_type": "code",
      "source": [
        "def BayesRidge(X, Y, X_2,typedist_,verbose_=False):\n",
        "    model         = BayesianRidge(compute_score=True)\n",
        "    results       = model.fit(X, Y)\n",
        "    prediction_Y2 = results.predict(X_2) \n",
        "    return prediction_Y2   "
      ],
      "metadata": {
        "id": "eBWFLGGLVLXR"
      },
      "execution_count": 13,
      "outputs": []
    },
    {
      "cell_type": "code",
      "source": [
        "def LassoReg(X, Y, X_2,typedist_,verbose_=True):\n",
        "    model         = Lasso(alpha=0.1)\n",
        "    results       = model.fit(X, Y)\n",
        "    prediction_Y2 = results.predict(X_2)\n",
        "    return prediction_Y2  "
      ],
      "metadata": {
        "id": "lNUZVyZvXvVu"
      },
      "execution_count": 14,
      "outputs": []
    },
    {
      "cell_type": "code",
      "source": [
        "def RidgeReg(X, Y, X_2,typedist_,verbose_=False):\n",
        "    model         = Ridge(alpha=0.1)\n",
        "    results       = model.fit(X, Y)\n",
        "    prediction_Y2 = results.predict(X_2)\n",
        "    return prediction_Y2   "
      ],
      "metadata": {
        "id": "H2ahc9j2VXLy"
      },
      "execution_count": 15,
      "outputs": []
    },
    {
      "cell_type": "code",
      "source": [
        "def PLS(X, Y, X_2,n_components,typedist_,verbose_=False):\n",
        "    model         = PLSRegression(n_components=n_components)\n",
        "    results       = model.fit(X, Y)\n",
        "    prediction_Y2 = results.predict(X_2)\n",
        "    return prediction_Y2"
      ],
      "metadata": {
        "id": "BpVkXFJXxViD"
      },
      "execution_count": 16,
      "outputs": []
    },
    {
      "cell_type": "code",
      "source": [
        "def PCR(X, Y, X_2,n_components,typedist_,verbose_=False):\n",
        "## https://scikit-learn.org/stable/auto_examples/cross_decomposition/plot_pcr_vs_pls.html\n",
        "    model         = make_pipeline(PCA(n_components=n_components), LinearRegression())\n",
        "    results       = model.fit(X, Y)\n",
        "    prediction_Y2 = results.predict(X_2)\n",
        "    return prediction_Y2   "
      ],
      "metadata": {
        "id": "PrmmGibK48oj"
      },
      "execution_count": 17,
      "outputs": []
    },
    {
      "cell_type": "code",
      "source": [
        "def VotingEnsemble(X, Y, X_2,verbose_=False):  \n",
        "    ## https://scikit-learn.org/stable/auto_examples/ensemble/plot_voting_regressor.html#sphx-glr-auto-examples-ensemble-plot-voting-regressor-py\n",
        "    gb  = GradientBoostingRegressor(random_state=42)\n",
        "    rf  = RandomForestRegressor(random_state=42)\n",
        "    br  = BaggingRegressor(random_state=42)\n",
        "    ab  = AdaBoostRegressor(random_state=42)\n",
        "    gb.fit(X, Y)\n",
        "    rf.fit(X, Y)\n",
        "    br.fit(X, Y)\n",
        "    ab.fit(X, Y)\n",
        "    voting = VotingRegressor([(\"gb\",gb), (\"rf\",rf), (\"br\",br), (\"ab\",ab)]) #\n",
        "    voting.fit(X, Y)\n",
        "    prediction_Y2 = voting.predict(X_2)    \n",
        "    if verbose_ == True:\n",
        "        predgb  = gb.predict(X_2)\n",
        "        predrf  = rf.predict(X_2)\n",
        "        predbr  = br.predict(X_2)  \n",
        "        predab  = ab.predict(X_2) \n",
        "        ## https://matplotlib.org/3.5.0/api/_as_gen/matplotlib.pyplot.plot.html Markers, Line styles ,Colors\n",
        "        fig, ax = plt.subplots(figsize=(19,10))\n",
        "        plt.plot(predgb,  \"md\" , label=\"GradientBoostingRegressor\") ## go- rs \n",
        "        plt.plot(predrf,  \"b^\" , label=\"RandomForestRegressor\")\n",
        "        plt.plot(predbr,  \"go-\", label=\"BaggingRegressor\")\n",
        "        plt.plot(predab,  \"kD\" , label=\"AdaBoostRegressor\")\n",
        "        plt.plot(prediction_Y2, \"r*\", ms=10, label=\"VotingEnsemble\")\n",
        "        plt.tick_params(axis=\"x\", which=\"both\", bottom=False, top=False, labelbottom=False)\n",
        "        plt.ylabel(\"demanda estandarizada\", color=NARA, fontsize='large')\n",
        "        plt.xlabel(\"training samples\", color=NARA, fontsize='large')\n",
        "        plt.legend(loc=\"best\")\n",
        "        plt.title(\"Pronósticos de ensambles y su promedio\", color=NARA, fontsize='large')\n",
        "        plt.tick_params(colors = NARA, which='both')\n",
        "        ax.spines['bottom'].set_color(NARA)\n",
        "        ax.spines['top'   ].set_color(NARA) \n",
        "        ax.spines['right' ].set_color(NARA)\n",
        "        ax.spines['left'  ].set_color(NARA)\n",
        "        plt.savefig(\"fig_t16_VotingEnsemble\", transparent=True) \n",
        "        plt.show()\n",
        "    return prediction_Y2   "
      ],
      "metadata": {
        "id": "UFQb6V2fYha7"
      },
      "execution_count": 18,
      "outputs": []
    },
    {
      "cell_type": "code",
      "source": [
        "def VotingLinear(X, Y, X_2,verbose_=False):  \n",
        "    ## https://scikit-learn.org/stable/auto_examples/ensemble/plot_voting_regressor.html#sphx-glr-auto-examples-ensemble-plot-voting-regressor-py\n",
        "    pl = PLSRegression(n_components=1)\n",
        "    lr = LinearRegression()\n",
        "    ri = Ridge(alpha=0.1)\n",
        "    la = Lasso(alpha=0.1)    \n",
        "    pc = make_pipeline(PCA(n_components=1), LinearRegression())\n",
        "    pl.fit(X, Y)\n",
        "    lr.fit(X, Y)\n",
        "    ri.fit(X, Y)\n",
        "    la.fit(X, Y)\n",
        "    pc.fit(X, Y)\n",
        "    voting = VotingRegressor([(\"lr\",lr),(\"ri\",ri),(\"la\",la),(\"pc\",pc)]) #,(\"pl\",pl)\n",
        "    voting.fit(X, Y)\n",
        "    prediction_Y2 = voting.predict(X_2)    \n",
        "    if verbose_ == True:\n",
        "        predpl = pl.predict(X_2)\n",
        "        predlr = lr.predict(X_2)\n",
        "        predri = ri.predict(X_2)\n",
        "        predla = la.predict(X_2)\n",
        "        predpc = pc.predict(X_2)\n",
        "        ## https://matplotlib.org/3.5.0/api/_as_gen/matplotlib.pyplot.plot.html Markers, Line styles ,Colors\n",
        "        fig, ax = plt.subplots(figsize=(17,9))\n",
        "        plt.plot(predpl,  \"md\" , label=\"PLSRegression\")\n",
        "        plt.plot(predlr,  \"b^\" , label=\"LinearRegression\")\n",
        "        plt.plot(predri,  \"go-\", label=\"Ridge\")\n",
        "        plt.plot(predla,  \"ys\" , label=\"Lasso\")\n",
        "        plt.plot(predpc,  \"cs\" , label=\"PCR\")\n",
        "        plt.plot(prediction_Y2, \"r*\", ms=10, label=\"VotingLinear\")\n",
        "        plt.tick_params(axis=\"x\", which=\"both\", bottom=False, top=False, labelbottom=False)\n",
        "        plt.ylabel(\"demanda estandarizada\", color=NARA, fontsize='large')\n",
        "        plt.xlabel(\"training samples\", color=NARA, fontsize='large')\n",
        "        plt.legend(loc=\"best\")\n",
        "        plt.title(\"Pronósticos lineales y su promedio\", color=NARA, fontsize='large')\n",
        "        plt.tick_params(colors = NARA, which='both')\n",
        "        ax.spines['bottom'].set_color(NARA)\n",
        "        ax.spines['top'   ].set_color(NARA) \n",
        "        ax.spines['right' ].set_color(NARA)\n",
        "        ax.spines['left'  ].set_color(NARA)\n",
        "        plt.savefig(\"fig_t16_VotingLinear\", transparent=True) \n",
        "        plt.show()\n",
        "    return prediction_Y2   "
      ],
      "metadata": {
        "id": "EDO3mPUv3wf5"
      },
      "execution_count": 19,
      "outputs": []
    },
    {
      "cell_type": "code",
      "source": [
        "## Calcula distancia euclidiana\n",
        "def euclidean(neig1, neig2):\n",
        "\t  distance = 0.0\n",
        "\t  for i in range(len(neig1)):\n",
        "\t\t    distance += (neig1[i] - neig2[i])**2\n",
        "\t  return sqrt(distance)"
      ],
      "metadata": {
        "id": "yY6yd0WJBr7f"
      },
      "execution_count": 20,
      "outputs": []
    },
    {
      "cell_type": "code",
      "source": [
        "def analogo_knn(serie,vsele,k=10,tol=0.8,n_components=3,typedist='pearson',typereg='OLS',verbose=False):    \n",
        "#    vsele      : Tamanio de la ventana de selección\n",
        "#    k          : Número de vecinos a buscar k\n",
        "#    tol        : Tolerancia de tamaño de ventanas para seleccion de vecinos\n",
        "#    typedist   : medida de distancia, 'euclidian' o 'pearson' o 'dtw' \n",
        "\n",
        "    t_o = time.time()\n",
        "    n = len(serie) ## longitud total de la serie\n",
        "\n",
        "    ## PASO 1: Selección de las ventanas de mayor correlación.\n",
        "\n",
        "    ## Calculamos la distancia entre todos los vecinos.\n",
        "    distances = []\n",
        "    Y = serie[n-vsele:n]           ## últimos datos\n",
        "    for i in range(n-2*vsele):                              \n",
        "        if  typedist == 'dtw':     ## dynamic time warping\n",
        "            dist = dtw(Y, serie[i:i+vsele]).distance  \n",
        "        elif typedist == 'euclidian':\n",
        "            dist = euclidean(Y,serie[i:i+vsele])\n",
        "        else:\n",
        "            dist = np.corrcoef(Y,serie[i:i+vsele])[1,0]\n",
        "        if dist > 0:\n",
        "            distances.append((i, dist))\n",
        "        \n",
        "    ## Calculamos el vecindario por distancia de menor a mayor y se guardan las posiciones.\n",
        "    if typedist == 'pearson':\n",
        "        ## En caso de pearson se ordena al revés, nos interesan los mayor correlación.\n",
        "        distances.sort(key=lambda tup: tup[1], reverse=True)\n",
        "    else:\n",
        "        ## En caso de pearson se ordena al revés, nos interesan los de menor distancia.\n",
        "        distances.sort(key=lambda tup: tup[1], reverse=False)\n",
        "\n",
        "    neighbors  = []\n",
        "    neighbors2 = []\n",
        "    positions  = []\n",
        "\n",
        "    ## Calculamos los k vecinos mas cercanos y guardamos las posiciones.\n",
        "    i = 0\n",
        "    for pos, dis in distances:\n",
        "        if i==0:      \n",
        "            positions.append(pos)   \n",
        "            neighbors.append(serie[pos:pos+vsele])\n",
        "            neighbors2.append(serie[pos+vsele:pos+2*vsele])  \n",
        "        else:\n",
        "            bandera = True\n",
        "            for p in positions:\n",
        "                 ## si ya teniamos una posición en la lista que pase la tolerancia, ya no la guardamos \n",
        "                if (abs(pos - p) < tol*vsele):\n",
        "                    bandera = False\n",
        "                    i = i - 1\n",
        "                    break\n",
        "            if bandera == True:\n",
        "                ## Guarda nuevo vecino\n",
        "                positions.append(pos)   \n",
        "                neighbors.append(serie[pos:pos+vsele])\n",
        "                neighbors2.append(serie[pos+vsele:pos+2*vsele])  \n",
        "                bandera = False\n",
        "        i = i + 1\n",
        "        if i == k:\n",
        "            break\n",
        "    if verbose==True:\n",
        "        print('positions KNN:', positions) ## posición de los k vecinos mas cercanos\n",
        "\n",
        "    neighbors  = np.array(neighbors)  \n",
        "    neighbors2 = np.array(neighbors2)    \n",
        "    vacia = []\n",
        "    if verbose==True:\n",
        "        print_serie2(neighbors,Y,'Selección con KNN:'+typedist,'demanda','time',8,5,'fig_t16_X_'+typedist+'_'+typereg)\n",
        "\n",
        "    t_sel = time.time() - t_o\n",
        "\n",
        "    ## PASO 2: Regresión entre los vecinos mas cercanos 'X' y la última ventana 'Y'\n",
        "\n",
        "    ## Definimos nuestros regresores   \n",
        "    X   = (neighbors.T).tolist()\n",
        "    X_2 = (neighbors2.T).tolist()\n",
        "    Y   = (Y).tolist()\n",
        "    prediction_Y2 = []\n",
        "\n",
        "    ## -- Random forest regression --\n",
        "    if typereg == 'RF':\n",
        "        prediction_Y2 = RF(X,Y,X_2,labels_=positions,typedist_=typedist,verbose_=verbose)\n",
        "\n",
        "    ## -- OLS with Stepwise --\n",
        "    if typereg == 'OLSstep':\n",
        "        prediction_Y2 = OLSstep(X,Y,X_2, pi_step_=0.001,verbose_=verbose)\n",
        "\n",
        "    ## -- Gradiant boosting regression --\n",
        "    if typereg == 'Boosting':\n",
        "        prediction_Y2 = Boosting(X, Y, X_2,typedist_=typedist,verbose_=verbose)   \n",
        "\n",
        "    ## -- Bagging regression --\n",
        "    if typereg == 'Bagging':\n",
        "        prediction_Y2 = Bagging(X, Y, X_2,typedist_=typedist,verbose_=verbose)   \n",
        "\n",
        "    ## -- Linear regression --\n",
        "    if typereg == 'LinearReg':\n",
        "        prediction_Y2 = LinearReg(X, Y, X_2,typedist_=typedist,verbose_=verbose)   \n",
        "\n",
        "    ## -- Ada boosting --\n",
        "    if typereg == 'AdaBoost':\n",
        "        prediction_Y2 = AdaBoost(X, Y, X_2,typedist_=typedist,verbose_=verbose)  \n",
        "\n",
        "    ## -- Bayesian Ridge --\n",
        "    if typereg == 'BayesRidge':\n",
        "        prediction_Y2 = BayesRidge(X, Y, X_2,typedist_=typedist,verbose_=verbose)  \n",
        "\n",
        "    ## -- Lasso regression --\n",
        "    if typereg == 'LassoReg':\n",
        "        prediction_Y2 = LassoReg(X, Y, X_2,typedist_=typedist,verbose_=verbose)   \n",
        "\n",
        "    ## -- Ridge regression --\n",
        "    if typereg == 'RidgeReg':\n",
        "        prediction_Y2 = RidgeReg(X, Y, X_2,typedist_=typedist,verbose_=verbose)\n",
        "\n",
        "    ## -- PLS Regression --\n",
        "    if typereg == 'PLS':\n",
        "        prediction_Y2 = PLS(X, Y, X_2,n_components=n_components,typedist_=typedist,verbose_=verbose)\n",
        "\n",
        "    ## -- PCA Regression --\n",
        "    if typereg == 'PCR':\n",
        "        prediction_Y2 = PCR(X, Y, X_2,n_components=n_components,typedist_=typedist,verbose_=verbose)\n",
        "\n",
        "    ## -- Voting regression with ensemble models -- \n",
        "    if typereg == 'VotingEnsemble':\n",
        "        prediction_Y2 = VotingEnsemble(X,Y,X_2,verbose_=verbose)\n",
        "\n",
        "    ## -- Voting regression with linear model -- \n",
        "    if typereg == 'VotingLinear':\n",
        "        prediction_Y2 = VotingLinear(X,Y,X_2,verbose_=verbose)\n",
        "        \n",
        "    ## -- Random forrest regression with GridSearchCV--\n",
        "    if typereg == 'AutoRF':\n",
        "        prediction_Y2 = AutoRF(X, Y, X_2,labels_=positions,typedist_=typedist,verbose_=verbose)        \n",
        "\n",
        "    if verbose==True:\n",
        "        print_serie2(neighbors2,prediction_Y2, 'Pronóstico - ' + typedist+' - ' + typereg ,'Demanda','Tiempo',8,5,'fig_t16_Y2_'+typedist+'_'+typereg)\n",
        "\n",
        "    t_reg = time.time() - t_sel - t_o\n",
        "    if typedist=='pearson':\n",
        "      t_sel =2.2038\n",
        "    if typedist=='euclidian':\n",
        "      t_sel =23.4583\n",
        "\n",
        "    return prediction_Y2, t_sel, t_reg"
      ],
      "metadata": {
        "id": "yz9CDOHQnx0j"
      },
      "execution_count": 21,
      "outputs": []
    },
    {
      "cell_type": "code",
      "source": [
        "## ... (time serie) ... window.window.window.window.window.window.window.window.window.window.window.\n",
        "##                                           |                                               |       |\n",
        "##                                           |                                               |       |\n",
        "##                                           |<------------------ vsele -------------------->|<vpred>|\n",
        "##                                                       (selection and regression)        (prediction)\n",
        "##                                                                                                 \n",
        "##|<---------------------------------------- train ----------------------------------------->| <test>|\n",
        "\n",
        "## Parámetros del método Análogo\n",
        "periods       = 288       ## Número de periodos en una ventana\n",
        "periods_sele  = 7         ## Número de ventanas de selección\n",
        "periods_pred  = 6         ## Número de ventanas de pronóstico\n",
        "\n",
        "vsele = periods * periods_sele ## Número de periodos para selección\n",
        "vpred = periods * periods_pred ## Número de periodos para pronóstico\n",
        "\n",
        "k   = 6   ## k:   número de vecinos mas cercanos\n",
        "tol = 0.8 ## tol: porcentaje de tolerancia de cercania entre ventanas\n",
        "\n",
        "## Dibujamos la ventana de histórico y los datos de prueba  \n",
        "series = []; vacia = []; n = 2\n",
        "series.append(serie[len(serie)-n*vsele : len(serie)-vsele+vpred])\n",
        "series.append(serie[len(serie)-n*vsele : len(serie)-vsele])\n",
        "print_serie2(serie_=series,prototipo_=vacia , title_='Serie de demanda eléctrica', ytitle_='Demanda (estandarizada)',xtitle_='Tiempo', sizex_=20, sizey_=6, namefile_='fig_t15_demanda')\n",
        "\n",
        "## Definimos la ventana de prueba y entrenamiento\n",
        "X_train = serie[0 : len(serie) - vpred]\n",
        "y_test  = serie[len(serie) - vpred : len(serie)]\n",
        "\n",
        "## Guardamos todos los resultados aquí\n",
        "dferror = pd.DataFrame(columns=['distance','regression','MAE','MAPE','timesel','timereg'])\n",
        "\n",
        "## Bandera que activa todos los pronósticos\n",
        "debug  = 0\n",
        "active = 0"
      ],
      "metadata": {
        "id": "WapmM09KUQBE"
      },
      "execution_count": null,
      "outputs": []
    },
    {
      "cell_type": "code",
      "source": [
        "distances = ['pearson', 'euclidian']\n",
        "methods = ['RF', 'OLSstep', 'Boosting', 'Bagging', 'LinearReg', 'AdaBoost', 'LassoReg', 'RidgeReg', 'PLS', 'PCR', 'VotingEnsemble', 'VotingLinear'] # AutoRF, 'BayesRidge'\n",
        "preds = []\n",
        "for d in distances:\n",
        "  for m in methods:\n",
        "    pred_, t_sel_, t_reg_ = analogo_knn(X_train, vsele=vsele, k=k, tol=tol, typedist=d, typereg=m, verbose=False)\n",
        "    preds.append({\n",
        "        'distance' : d,\n",
        "        'method' : m,\n",
        "        'y_cap' : pred_\n",
        "    })\n",
        "    mae_  = mean_absolute_error(y_test, pred_[0:vpred])\n",
        "    mape_ = mean_absolute_percentage_error(y_test,pred_[0:vpred])\n",
        "    dferror.loc[dferror.shape[0]] = [d, m, mae_, mape_,t_sel_,t_reg_]\n",
        "preds = pd.DataFrame(preds)"
      ],
      "metadata": {
        "id": "NvfOAP9itrtE"
      },
      "execution_count": 25,
      "outputs": []
    },
    {
      "cell_type": "code",
      "source": [
        "display(dferror.head())\n",
        "display(preds.head())"
      ],
      "metadata": {
        "id": "iDpjPK_j7lxr"
      },
      "execution_count": null,
      "outputs": []
    },
    {
      "cell_type": "code",
      "source": [
        "dferror[\"time\"]         = dferror[\"timereg\"] + dferror[\"timesel\"]\n",
        "dferror[\"invtime\"]      = 1 / ( dferror[\"timereg\"] + dferror[\"timesel\"])\n",
        "dferror[\"invtime/MAPE\"] = dferror[\"invtime\"] / dferror[\"MAPE\"]\n",
        "dferror[\"invtime/MAE\"]  = dferror[\"invtime\"] / dferror[\"MAE\"]\n",
        "dferror.sort_values(\"invtime/MAE\",ascending=False)\n",
        "dferror.sort_values(\"invtime/MAPE\",ascending=False)\n",
        "dferror.sort_values(\"MAPE\",ascending=True)\n",
        "dferror.head()"
      ],
      "metadata": {
        "id": "L1wOrReQ0FIE"
      },
      "execution_count": null,
      "outputs": []
    },
    {
      "cell_type": "markdown",
      "source": [
        "---\n",
        "## Comparamos graficamente los resultados\n",
        "Se realizan las pruebas unitarias al método análogo"
      ],
      "metadata": {
        "id": "UUWwvdYNRGyN"
      }
    },
    {
      "cell_type": "code",
      "source": [
        "sel1 = ['R', 'Boosting', 'Bagging', 'AdaBoost', 'VotingEnsemble']\n",
        "sel2 = ['OLSstep', 'LassoReg', 'RidgeReg', 'PLS', 'PCR', 'VotingLinear']\n",
        "\n",
        "# cmap para colores distintos para cada distancia-método\n",
        "\n",
        "for d in distances:\n",
        "  plt.figure(figsize=(25,8))\n",
        "  plt.plot(y_test, '.', label= '$Y_{\\\\beta+2}$')\n",
        "  for r in preds.iterrows():\n",
        "    values = r[1]\n",
        "    if values.distance == d and values.method in sel1:\n",
        "      plt.plot(values.y_cap, label = 'Y_{' + values.distance + ',' + values.method + '}')\n",
        "  plt.legend()\n",
        "  plt.show()\n",
        "\n",
        "for d in distances:\n",
        "  plt.figure(figsize=(25,8))\n",
        "  plt.plot(y_test, '.', label= '$Y_{\\\\beta+2}$')\n",
        "  for r in preds.iterrows():\n",
        "    values = r[1]\n",
        "    if values.distance == d and values.method in sel2:\n",
        "      plt.plot(values.y_cap, label = '$Y_{' + values.distance + ',' + values.method + '}$')\n",
        "  plt.legend()\n",
        "  plt.show()"
      ],
      "metadata": {
        "id": "L8wmhXZC1rnG"
      },
      "execution_count": null,
      "outputs": []
    },
    {
      "cell_type": "markdown",
      "source": [
        "# ETL 5 minutes"
      ],
      "metadata": {
        "id": "eyRgIpSPswGc"
      }
    },
    {
      "cell_type": "code",
      "source": [
        "#https://drive.google.com/drive/folders/1Gj3XK9kM-lE18uBMe3qrZOGEm8yAI8i9\n",
        "#https://www.codegrepper.com/code-examples/python/how+to+read+csv+file+from+google+drive+on+google+colab+\n",
        "path = 'https://drive.google.com/uc?export=download&id=' \n",
        "URL  = 'https://drive.google.com/file/d/1057_dPk6rIZgXVku8kmZjq3m8WQNkJZb/view?usp=sharing'\n",
        "df = pd.read_csv(path+URL.split('/')[-2],usecols=[0,1,2,3,4,5,6,7],names=['Date','SERIE1','SERIE2','SERIE3','SERIE4','SERIE5','SERIE6','SERIE7'],\n",
        "                 dtype={'Date':str,'SERIE1':float,'SERIE2':float,'SERIE3':float,'SERIE4':float,'SERIE5':float,'SERIE6':float,'SERIE7':float}) #names=['CLVUNI','TYPE','NODE'], usecols=[1,2,3,4,5,6,]\n",
        "df.dropna(inplace=True)"
      ],
      "metadata": {
        "id": "1e612CLOjx1J"
      },
      "execution_count": 22,
      "outputs": []
    },
    {
      "cell_type": "code",
      "source": [
        "df['Date'] = pd.to_datetime(df['Date'],format= '%d-%m-%Y %H:%M' ) #.dt.date https://pandas.pydata.org/docs/reference/api/pandas.Series.dt.date.html\n",
        "df = df.set_index('Date')"
      ],
      "metadata": {
        "id": "8Xn_AmM-dL2C"
      },
      "execution_count": 23,
      "outputs": []
    },
    {
      "cell_type": "code",
      "source": [
        "print(df.dtypes)\n",
        "df.head()"
      ],
      "metadata": {
        "id": "SXq8tnUXuyAp"
      },
      "execution_count": null,
      "outputs": []
    },
    {
      "cell_type": "code",
      "source": [
        "df_5 = df.resample('5T').mean()\n",
        "df_5"
      ],
      "metadata": {
        "id": "OGs5KlnZrPg-"
      },
      "execution_count": null,
      "outputs": []
    },
    {
      "cell_type": "markdown",
      "source": [
        "# Un pronóstico persistente multiperiodo"
      ],
      "metadata": {
        "id": "zAb715eJZfTP"
      }
    },
    {
      "cell_type": "code",
      "source": [
        "#from numpy.lib.function_base import append\n",
        "def persistent(serie,n=1):\n",
        "    out=[]\n",
        "    for i in range(n):        \n",
        "        out.append(serie[len(serie)-1])\n",
        "    return(out)"
      ],
      "metadata": {
        "id": "qy00ObHKgeyC"
      },
      "execution_count": 73,
      "outputs": []
    },
    {
      "cell_type": "markdown",
      "source": [
        "# Preparamos cross-validation para pruebas\n",
        "\n",
        "Usaremos la metodología propuesta por Rob Hydman [cross-validation in time series](https://robjhyndman.com/hyndsight/tscv/#:~:text=Time%20series%20cross%2Dvalidation,used%20in%20constructing%20the%20forecast.\n",
        ")\n"
      ],
      "metadata": {
        "id": "HzBO6YghZoin"
      }
    },
    {
      "cell_type": "code",
      "source": [
        "## https://robjhyndman.com/hyndsight/tscv/#:~:text=Time%20series%20cross%2Dvalidation,used%20in%20constructing%20the%20forecast.\n",
        "## ... year 2000                                                                                                    year 2001\n",
        "## ... january···february···march···april···may···june···july···august···september···october···november···december···january···february···march···april···may···june···july···august···september···october···november\n",
        "##    |                                   |      |\n",
        "##    |<------------- train ------------->|<test>|\n",
        "##    |<-january·february···march···april->|<may>|\n",
        "##            |<-february···march···april···may->|<june>|\n",
        "##                      |<- march···april···may···june ->|<-july->|\n",
        "##                              |<- april···may···june···july->|<-august->|\n",
        "##                                     |<-- may···june···july···august->|<-september->|\n",
        "##                                             |<-june···july···august···september->|<-october->|\n",
        "##                                                    |<-july···august···september···october->|<-november->|\n",
        "##                                                           |<-august···september···october···november->|<-december->| ...\n",
        "\n",
        "## Extraemos la primera serie\n",
        "serie = df_5.SERIE1.tolist()\n",
        "equi  = int(len(serie)/23)\n",
        "\n",
        "## positions_test: guarga las posiciones tt y tf de cada k-folds\n",
        "start = 4 * equi\n",
        "positions_test = []\n",
        "for i in range(start,len(serie)-equi,equi):\n",
        "    positions_test.append((i-start,i,i+equi))\n",
        "print(positions_test)\n",
        "print(len(serie))\n",
        "\n",
        "## Extraer las posiciones del inicio de los meses de la serie\n",
        "#for i in df_5['Data']:\n",
        "#    positions_test.append(i)\n",
        "#t_0=[0,]"
      ],
      "metadata": {
        "id": "iOJ9pmphcnqV",
        "colab": {
          "base_uri": "https://localhost:8080/"
        },
        "outputId": "c1801532-6b8f-464c-f4fc-72f01c0fd3fd"
      },
      "execution_count": 82,
      "outputs": [
        {
          "output_type": "stream",
          "name": "stdout",
          "text": [
            "[(0, 34892, 43615), (8723, 43615, 52338), (17446, 52338, 61061), (26169, 61061, 69784), (34892, 69784, 78507), (43615, 78507, 87230), (52338, 87230, 95953), (61061, 95953, 104676), (69784, 104676, 113399), (78507, 113399, 122122), (87230, 122122, 130845), (95953, 130845, 139568), (104676, 139568, 148291), (113399, 148291, 157014), (122122, 157014, 165737), (130845, 165737, 174460), (139568, 174460, 183183), (148291, 183183, 191906), (157014, 191906, 200629)]\n",
            "200639\n"
          ]
        }
      ]
    },
    {
      "cell_type": "markdown",
      "source": [
        "# Meta-función básica de pronóstico de un periodo (persistente)\n",
        "\n"
      ],
      "metadata": {
        "id": "Bt2p4gGLcsva"
      }
    },
    {
      "cell_type": "code",
      "source": [
        "# >>> provisional para pruebas internas (comentar)\n",
        "positions_test= [(0, 34892, 34892)]\n",
        "positions_test= [(0, 34892, 34992), (8723, 43615, 43715), (17446, 52338, 52438)]"
      ],
      "metadata": {
        "id": "oFyvL1qYjah9"
      },
      "execution_count": 83,
      "outputs": []
    },
    {
      "cell_type": "code",
      "source": [
        "## ... time serie·time-serie·time-serie·time-serie·time-serie·time-serie·time-serie·time-serie·time-serie·time-serie·time-serie ...\n",
        "##                |                                               |           |       |\n",
        "##                |                                               |<---n_p--->|       |\n",
        "##                |<------------------ train -------------------->|<-------test------>|\n",
        "##                to                                              tt                 tf \n",
        "\n",
        "n_p = 1  ## Numero de periodos de pronóstico por paso\n",
        "\n",
        "forecast_ = []\n",
        "time_     = []\n",
        "for to,tt,tf in positions_test:\n",
        "    j=0\n",
        "    for i in range(tt,tf,n_p):\n",
        "        t_o = time.time()\n",
        "        forecast_=forecast_+persistent(serie[to+j:tt+j],n_p)\n",
        "        time_.append(time.time() - t_o)\n",
        "        j=j+n_p"
      ],
      "metadata": {
        "id": "t8g7sCWvckrw"
      },
      "execution_count": 84,
      "outputs": []
    },
    {
      "cell_type": "code",
      "source": [
        "test_ = []\n",
        "for to,tt,tf in positions_test:\n",
        "      test_ = test_+serie[tt:tf]\n",
        "print(len(forecast_))\n",
        "print(len(test_))"
      ],
      "metadata": {
        "colab": {
          "base_uri": "https://localhost:8080/"
        },
        "id": "fZHSFwckkZoJ",
        "outputId": "854432c0-dfb0-44a8-8caa-ca1d80408fe2"
      },
      "execution_count": 85,
      "outputs": [
        {
          "output_type": "stream",
          "name": "stdout",
          "text": [
            "300\n",
            "300\n"
          ]
        }
      ]
    },
    {
      "cell_type": "code",
      "source": [
        "mae_p  = mean_absolute_error(test_,forecast_)\n",
        "mape_p = mean_absolute_percentage_error(test_,forecast_)\n",
        "bias_p = bias.bias(test_,forecast_)\n",
        "print('mae_p=',mae_p,'mape_p=',mape_p,'bias=',bias_p)"
      ],
      "metadata": {
        "id": "TPZT-ey8tSY0",
        "colab": {
          "base_uri": "https://localhost:8080/"
        },
        "outputId": "3ee6ec52-2390-44d0-cb66-54e06a34dcb9"
      },
      "execution_count": 86,
      "outputs": [
        {
          "output_type": "stream",
          "name": "stdout",
          "text": [
            "mae_p= 26.971993818000012 mape_p= 0.004355859650348208 bias= -3.0728297526666726\n"
          ]
        }
      ]
    },
    {
      "cell_type": "markdown",
      "source": [
        "# Meta-función básica de n periodos (persistente)\n",
        "Se usan 30 periodos equivalentes a dos horas y media en intervalos de cinco minutos\n"
      ],
      "metadata": {
        "id": "h1KDNauA1VZm"
      }
    },
    {
      "cell_type": "code",
      "source": [
        "n_p = 30 ## Numero de periodos por salto\n",
        "forecast2_ = []\n",
        "time2_     = []\n",
        "for to,tt,tf in positions_test:\n",
        "    j=0\n",
        "    for i in range(tt,tf,n_p):\n",
        "        t_o = time.time()\n",
        "        forecast2_=forecast2_+persistent(serie[to+j:tt+j],n_p)\n",
        "        time2_.append(time.time() - t_o)\n",
        "        j=j+n_p\n",
        "    modu=(tf-tt)%n_p\n",
        "    if modu > 0:\n",
        "        forecast2_=forecast2_[0:(+modu-n_p)]\n",
        "            "
      ],
      "metadata": {
        "id": "hnnxqwMS1aet"
      },
      "execution_count": 87,
      "outputs": []
    },
    {
      "cell_type": "code",
      "source": [
        "print(len(forecast2_))\n",
        "print(len(test_))"
      ],
      "metadata": {
        "id": "mqavnWO32Hqz",
        "outputId": "52759550-1c2b-465b-de7d-63677c20642b",
        "colab": {
          "base_uri": "https://localhost:8080/"
        }
      },
      "execution_count": 88,
      "outputs": [
        {
          "output_type": "stream",
          "name": "stdout",
          "text": [
            "300\n",
            "300\n"
          ]
        }
      ]
    },
    {
      "cell_type": "markdown",
      "source": [
        "## Gráficas"
      ],
      "metadata": {
        "id": "uiI_jXjy2Hfn"
      }
    },
    {
      "cell_type": "code",
      "source": [
        "fig, ax = plt.subplots()\n",
        "ax.plot(test_)\n",
        "ax.plot(forecast_)\n",
        "ax.plot(forecast2_)\n",
        "\n",
        "ax.set(xlabel='time (5 min)', ylabel='demand (MW)',\n",
        "       title='Real vs Forecasting')\n",
        "ax.grid()\n",
        "\n",
        "fig.savefig(\"test.png\")\n",
        "plt.show()\n"
      ],
      "metadata": {
        "id": "-GjtRaP845e2",
        "outputId": "bb9eeb8e-3d42-4811-d4ee-887c1c8767aa",
        "colab": {
          "base_uri": "https://localhost:8080/",
          "height": 301
        }
      },
      "execution_count": 89,
      "outputs": [
        {
          "output_type": "display_data",
          "data": {
            "text/plain": [
              "<Figure size 432x288 with 1 Axes>"
            ],
            "image/png": "[encoded data removed]"
          },
          "metadata": {
            "needs_background": "light"
          }
        }
      ]
    },
    {
      "cell_type": "code",
      "source": [
        "mae_mp  = mean_absolute_error(test_,forecast2_)\n",
        "mape_mp = mean_absolute_percentage_error(test_,forecast2_)\n",
        "bias_mp  = bias.bias(test_,forecast2_)\n",
        "print('mae_mp=',mae_mp,'mape_mp=',mape_mp,'bias=',bias_mp)"
      ],
      "metadata": {
        "colab": {
          "base_uri": "https://localhost:8080/"
        },
        "id": "0jtzx-yvkeE1",
        "outputId": "abe15c84-ec4d-4eb9-8cf1-cc25766dbfc9"
      },
      "execution_count": 90,
      "outputs": [
        {
          "output_type": "stream",
          "name": "stdout",
          "text": [
            "mae_mp= 279.69244792133327 mape_mp= 0.04557908340281615 bias= -21.53616214133336\n"
          ]
        }
      ]
    },
    {
      "cell_type": "markdown",
      "source": [
        "# Meta-función básica de pronóstico de un periodo (análogo)\n",
        "\n"
      ],
      "metadata": {
        "id": "plmnZ0dhaizG"
      }
    },
    {
      "cell_type": "code",
      "source": [
        "## ... time serie·time-serie·time-serie·time-serie·time-serie·time-serie·time-serie·time-serie·time-serie·time-serie·time-serie ...\n",
        "##                |                                               |           |       |\n",
        "##                |                                               |<---n_p--->|       |\n",
        "##                |<------------------ train -------------------->|<-------test------>|\n",
        "##                to                                              tt                 tf \n",
        "\n",
        "n_p = 1   ## Numero de periodos por salto\n",
        "forecast3_ = []\n",
        "forecast4_ = []\n",
        "time3_     = []\n",
        "n=0\n",
        "for to,tt,tf in positions_test:\n",
        "    j=0\n",
        "    nn=n\n",
        "    for i in range(tt,tf,n_p):\n",
        "        t_o = time.time()\n",
        "        ## Parámetros del método Análogo\n",
        "        vsele = 288 ## Número de periodos en una ventana\n",
        "        k     = 6   ## k:   número de vecinos mas cercanos\n",
        "        tol   = 0.8 ## tol: porcentaje de tolerancia de cercania entre vecinos\n",
        "        d = 'pearson'\n",
        "        m = 'OLSstep'\n",
        "        X_train = numpy.array(serie[to+j:tt+j])\n",
        "        pred_, t_sel_, t_reg_ = analogo_knn(X_train, vsele=vsele, k=k, tol=tol, typedist=d, typereg=m, verbose=False)\n",
        "        forecast3_ = forecast3_ + [pred_[0]]\n",
        "        if len(j) >= 20 :\n",
        "            array1 = np.array(forecast3_[nn:-n_p])\n",
        "            array2 = np.array(serie[tt:tt+j])\n",
        "            epsilon = np.subtract(array1,array2)\n",
        "            #subtracted = list(epsilon)\n",
        "            ar = AutoReg(epsilon, lags=1).fit()           \n",
        "            delta = ar.forecast(1)\n",
        "            print(delta)\n",
        "            pred_[0] = pred_[0] - delta\n",
        "            forecast4_ = forecast4_ + [pred_[0]]\n",
        "        else:\n",
        "            forecast4_ = forecast3_\n",
        "        time3_.append(time.time() - t_o)\n",
        "        j=j+n_p\n",
        "        n=n+1\n",
        "    modu=(tf-tt)%n_p\n",
        "    if modu > 0:\n",
        "        forecast3_=forecast3_[0:(+modu-n_p)]\n",
        "        forecast4_=forecast4_[0:(+modu-n_p)]\n",
        "            "
      ],
      "metadata": {
        "id": "GkwIye0OaizG"
      },
      "execution_count": null,
      "outputs": []
    },
    {
      "cell_type": "code",
      "source": [
        "print(len(forecast3_))\n",
        "print(len(forecast4_))"
      ],
      "metadata": {
        "id": "b89AAnheHtKY",
        "outputId": "ff3bcd43-b4e8-4dcf-e3ad-626e9a4aff1e",
        "colab": {
          "base_uri": "https://localhost:8080/"
        }
      },
      "execution_count": 93,
      "outputs": [
        {
          "output_type": "stream",
          "name": "stdout",
          "text": [
            "101\n",
            "100\n"
          ]
        }
      ]
    },
    {
      "cell_type": "code",
      "source": [
        "fig, ax = plt.subplots()\n",
        "ax.plot(test_)\n",
        "ax.plot(forecast3_)\n",
        "ax.plot(forecast4_)\n",
        "\n",
        "ax.set(xlabel='time (5 min)', ylabel='demand (MW)',\n",
        "       title='Real vs Forecasting')\n",
        "ax.grid()\n",
        "\n",
        "fig.savefig(\"test.png\")\n",
        "plt.show()\n"
      ],
      "metadata": {
        "outputId": "f99c2bfc-b2de-4bc0-9c0f-2b971ae24036",
        "colab": {
          "base_uri": "https://localhost:8080/",
          "height": 301
        },
        "id": "I-xBdxtpqPWI"
      },
      "execution_count": 98,
      "outputs": [
        {
          "output_type": "display_data",
          "data": {
            "text/plain": [
              "<Figure size 432x288 with 1 Axes>"
            ],
            "image/png": "[encoded data removed]"
          },
          "metadata": {
            "needs_background": "light"
          }
        }
      ]
    },
    {
      "cell_type": "code",
      "source": [
        "mae_a  = mean_absolute_error(test_,forecast3_)\n",
        "mape_a = mean_absolute_percentage_error(test_,forecast3_)\n",
        "bias_a  = bias.bias(test_,forecast3_)\n",
        "print('mae_a=',mae_a,'mape_a=',mape_a,'bias_a=',bias_a)"
      ],
      "metadata": {
        "colab": {
          "base_uri": "https://localhost:8080/",
          "height": 380
        },
        "outputId": "fd6d0930-8c78-4b8e-c63c-e84368c1be17",
        "id": "24ulU9rKlYb5"
      },
      "execution_count": 99,
      "outputs": [
        {
          "output_type": "error",
          "ename": "ValueError",
          "evalue": "ignored",
          "traceback": [
            "\u001b[0;31m---------------------------------------------------------------------------\u001b[0m",
            "\u001b[0;31mValueError\u001b[0m                                Traceback (most recent call last)",
            "\u001b[0;32m<ipython-input-99-6da2abe650d3>\u001b[0m in \u001b[0;36m<module>\u001b[0;34m()\u001b[0m\n\u001b[0;32m----> 1\u001b[0;31m \u001b[0mmae_a\u001b[0m  \u001b[0;34m=\u001b[0m \u001b[0mmean_absolute_error\u001b[0m\u001b[0;34m(\u001b[0m\u001b[0mtest_\u001b[0m\u001b[0;34m,\u001b[0m\u001b[0mforecast3_\u001b[0m\u001b[0;34m)\u001b[0m\u001b[0;34m\u001b[0m\u001b[0;34m\u001b[0m\u001b[0m\n\u001b[0m\u001b[1;32m      2\u001b[0m \u001b[0mmape_a\u001b[0m \u001b[0;34m=\u001b[0m \u001b[0mmean_absolute_percentage_error\u001b[0m\u001b[0;34m(\u001b[0m\u001b[0mtest_\u001b[0m\u001b[0;34m,\u001b[0m\u001b[0mforecast3_\u001b[0m\u001b[0;34m)\u001b[0m\u001b[0;34m\u001b[0m\u001b[0;34m\u001b[0m\u001b[0m\n\u001b[1;32m      3\u001b[0m \u001b[0mbias_a\u001b[0m  \u001b[0;34m=\u001b[0m \u001b[0mbias\u001b[0m\u001b[0;34m.\u001b[0m\u001b[0mbias\u001b[0m\u001b[0;34m(\u001b[0m\u001b[0mtest_\u001b[0m\u001b[0;34m,\u001b[0m\u001b[0mforecast3_\u001b[0m\u001b[0;34m)\u001b[0m\u001b[0;34m\u001b[0m\u001b[0;34m\u001b[0m\u001b[0m\n\u001b[1;32m      4\u001b[0m \u001b[0mprint\u001b[0m\u001b[0;34m(\u001b[0m\u001b[0;34m'mae_a='\u001b[0m\u001b[0;34m,\u001b[0m\u001b[0mmae_a\u001b[0m\u001b[0;34m,\u001b[0m\u001b[0;34m'mape_a='\u001b[0m\u001b[0;34m,\u001b[0m\u001b[0mmape_a\u001b[0m\u001b[0;34m,\u001b[0m\u001b[0;34m'bias_a='\u001b[0m\u001b[0;34m,\u001b[0m\u001b[0mbias_a\u001b[0m\u001b[0;34m)\u001b[0m\u001b[0;34m\u001b[0m\u001b[0;34m\u001b[0m\u001b[0m\n",
            "\u001b[0;32m/usr/local/lib/python3.7/dist-packages/sklearn/metrics/_regression.py\u001b[0m in \u001b[0;36mmean_absolute_error\u001b[0;34m(y_true, y_pred, sample_weight, multioutput)\u001b[0m\n\u001b[1;32m    190\u001b[0m     \"\"\"\n\u001b[1;32m    191\u001b[0m     y_type, y_true, y_pred, multioutput = _check_reg_targets(\n\u001b[0;32m--> 192\u001b[0;31m         \u001b[0my_true\u001b[0m\u001b[0;34m,\u001b[0m \u001b[0my_pred\u001b[0m\u001b[0;34m,\u001b[0m \u001b[0mmultioutput\u001b[0m\u001b[0;34m\u001b[0m\u001b[0;34m\u001b[0m\u001b[0m\n\u001b[0m\u001b[1;32m    193\u001b[0m     )\n\u001b[1;32m    194\u001b[0m     \u001b[0mcheck_consistent_length\u001b[0m\u001b[0;34m(\u001b[0m\u001b[0my_true\u001b[0m\u001b[0;34m,\u001b[0m \u001b[0my_pred\u001b[0m\u001b[0;34m,\u001b[0m \u001b[0msample_weight\u001b[0m\u001b[0;34m)\u001b[0m\u001b[0;34m\u001b[0m\u001b[0;34m\u001b[0m\u001b[0m\n",
            "\u001b[0;32m/usr/local/lib/python3.7/dist-packages/sklearn/metrics/_regression.py\u001b[0m in \u001b[0;36m_check_reg_targets\u001b[0;34m(y_true, y_pred, multioutput, dtype)\u001b[0m\n\u001b[1;32m     92\u001b[0m         \u001b[0mthe\u001b[0m \u001b[0mdtype\u001b[0m \u001b[0margument\u001b[0m \u001b[0mpassed\u001b[0m \u001b[0mto\u001b[0m \u001b[0mcheck_array\u001b[0m\u001b[0;34m.\u001b[0m\u001b[0;34m\u001b[0m\u001b[0;34m\u001b[0m\u001b[0m\n\u001b[1;32m     93\u001b[0m     \"\"\"\n\u001b[0;32m---> 94\u001b[0;31m     \u001b[0mcheck_consistent_length\u001b[0m\u001b[0;34m(\u001b[0m\u001b[0my_true\u001b[0m\u001b[0;34m,\u001b[0m \u001b[0my_pred\u001b[0m\u001b[0;34m)\u001b[0m\u001b[0;34m\u001b[0m\u001b[0;34m\u001b[0m\u001b[0m\n\u001b[0m\u001b[1;32m     95\u001b[0m     \u001b[0my_true\u001b[0m \u001b[0;34m=\u001b[0m \u001b[0mcheck_array\u001b[0m\u001b[0;34m(\u001b[0m\u001b[0my_true\u001b[0m\u001b[0;34m,\u001b[0m \u001b[0mensure_2d\u001b[0m\u001b[0;34m=\u001b[0m\u001b[0;32mFalse\u001b[0m\u001b[0;34m,\u001b[0m \u001b[0mdtype\u001b[0m\u001b[0;34m=\u001b[0m\u001b[0mdtype\u001b[0m\u001b[0;34m)\u001b[0m\u001b[0;34m\u001b[0m\u001b[0;34m\u001b[0m\u001b[0m\n\u001b[1;32m     96\u001b[0m     \u001b[0my_pred\u001b[0m \u001b[0;34m=\u001b[0m \u001b[0mcheck_array\u001b[0m\u001b[0;34m(\u001b[0m\u001b[0my_pred\u001b[0m\u001b[0;34m,\u001b[0m \u001b[0mensure_2d\u001b[0m\u001b[0;34m=\u001b[0m\u001b[0;32mFalse\u001b[0m\u001b[0;34m,\u001b[0m \u001b[0mdtype\u001b[0m\u001b[0;34m=\u001b[0m\u001b[0mdtype\u001b[0m\u001b[0;34m)\u001b[0m\u001b[0;34m\u001b[0m\u001b[0;34m\u001b[0m\u001b[0m\n",
            "\u001b[0;32m/usr/local/lib/python3.7/dist-packages/sklearn/utils/validation.py\u001b[0m in \u001b[0;36mcheck_consistent_length\u001b[0;34m(*arrays)\u001b[0m\n\u001b[1;32m    332\u001b[0m         raise ValueError(\n\u001b[1;32m    333\u001b[0m             \u001b[0;34m\"Found input variables with inconsistent numbers of samples: %r\"\u001b[0m\u001b[0;34m\u001b[0m\u001b[0;34m\u001b[0m\u001b[0m\n\u001b[0;32m--> 334\u001b[0;31m             \u001b[0;34m%\u001b[0m \u001b[0;34m[\u001b[0m\u001b[0mint\u001b[0m\u001b[0;34m(\u001b[0m\u001b[0ml\u001b[0m\u001b[0;34m)\u001b[0m \u001b[0;32mfor\u001b[0m \u001b[0ml\u001b[0m \u001b[0;32min\u001b[0m \u001b[0mlengths\u001b[0m\u001b[0;34m]\u001b[0m\u001b[0;34m\u001b[0m\u001b[0;34m\u001b[0m\u001b[0m\n\u001b[0m\u001b[1;32m    335\u001b[0m         )\n\u001b[1;32m    336\u001b[0m \u001b[0;34m\u001b[0m\u001b[0m\n",
            "\u001b[0;31mValueError\u001b[0m: Found input variables with inconsistent numbers of samples: [300, 101]"
          ]
        }
      ]
    },
    {
      "cell_type": "code",
      "source": [
        "mae_ma  = mean_absolute_error(test_,forecast4_)\n",
        "mape_ma = mean_absolute_percentage_error(test_,forecast4_)\n",
        "bias_ma  = bias.bias(test_,forecast4_)\n",
        "print('mae_ma=',mae_ma,'mape_ma=',mape_ma,'bias_ma=',bias_ma)"
      ],
      "metadata": {
        "id": "67W4rxQzPfxn"
      },
      "execution_count": null,
      "outputs": []
    }
  ]
}
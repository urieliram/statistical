{
  "nbformat": 4,
  "nbformat_minor": 0,
  "metadata": {
    "colab": {
      "name": "Tarea8.ipynb",
      "provenance": [],
      "authorship_tag": "ABX9TyO1Gl0ANjfPs4P4Hgx2IUac",
      "include_colab_link": true
    },
    "kernelspec": {
      "name": "python3",
      "display_name": "Python 3"
    },
    "language_info": {
      "name": "python"
    }
  },
  "cells": [
    {
      "cell_type": "markdown",
      "metadata": {
        "id": "view-in-github",
        "colab_type": "text"
      },
      "source": [
        "<a href=\"https://colab.research.google.com/github/urieliram/statistical/blob/main/Tarea8.ipynb\" target=\"_parent\"><img src=\"https://colab.research.google.com/assets/colab-badge.svg\" alt=\"Open In Colab\"/></a>"
      ]
    },
    {
      "cell_type": "code",
      "source": [
        "import numpy as np\n",
        "import pandas as pd\n",
        "import itertools\n",
        "import warnings\n",
        "%matplotlib inline\n",
        "import matplotlib.pyplot as plt\n",
        "from sklearn.linear_model import LinearRegression, RidgeCV, LassoCV, ElasticNetCV, LarsCV\n",
        "from sklearn.metrics import mean_absolute_error, mean_squared_error\n",
        "from sklearn.cross_decomposition import PLSRegression\n",
        "from sklearn.decomposition import PCA\n",
        "from sklearn.pipeline import Pipeline\n",
        "from sklearn.metrics import r2_score\n",
        "from sklearn.model_selection import GridSearchCV\n",
        "import scipy.stats\n",
        "import statsmodels.api as sm\n",
        "import statsmodels.tools.eval_measures as bias\n",
        "import seaborn as sns\n",
        "warnings.filterwarnings(\"ignore\")"
      ],
      "metadata": {
        "colab": {
          "base_uri": "https://localhost:8080/"
        },
        "id": "9i3WmNoTReGd",
        "outputId": "6c1a53fb-e1e3-4c0c-ad8b-571c50d1df58"
      },
      "execution_count": 1,
      "outputs": [
        {
          "output_type": "stream",
          "name": "stderr",
          "text": [
            "/usr/local/lib/python3.7/dist-packages/statsmodels/tools/_testing.py:19: FutureWarning: pandas.util.testing is deprecated. Use the functions in the public API at pandas.testing instead.\n",
            "  import pandas.util.testing as tm\n"
          ]
        }
      ]
    },
    {
      "cell_type": "markdown",
      "source": [
        ""
      ],
      "metadata": {
        "id": "DOwecwXEGS9q"
      }
    },
    {
      "cell_type": "code",
      "source": [
        "df = pd.read_csv('logreg1.csv')\n",
        "df = df.assign(const=1)\n",
        "print(df)\n",
        "dfy = df['frac'] \n",
        "dfx = df[['const','sex','age']]  ## Predictors"
      ],
      "metadata": {
        "colab": {
          "base_uri": "https://localhost:8080/"
        },
        "id": "SDwX24SfRGax",
        "outputId": "0220378d-e619-4f20-eb69-a7d3b7dcb7d8"
      },
      "execution_count": 5,
      "outputs": [
        {
          "output_type": "stream",
          "name": "stdout",
          "text": [
            "    sex  age  frac  const\n",
            "0     1   69     1      1\n",
            "1     1   57     1      1\n",
            "2     1   61     1      1\n",
            "3     0   60     0      1\n",
            "4     1   69     1      1\n",
            "..  ...  ...   ...    ...\n",
            "95    1   68     0      1\n",
            "96    1   75     1      1\n",
            "97    1   52     0      1\n",
            "98    1   53     0      1\n",
            "99    1   70     1      1\n",
            "\n",
            "[100 rows x 4 columns]\n"
          ]
        }
      ]
    },
    {
      "cell_type": "code",
      "source": [
        "model = sm.Logit(dfy, dfx)\n",
        "results = model.fit()\n",
        "print(results.summary())"
      ],
      "metadata": {
        "colab": {
          "base_uri": "https://localhost:8080/"
        },
        "id": "u57E-JTJSETl",
        "outputId": "201490b6-cbda-4296-ebb9-6148b3234fc1"
      },
      "execution_count": 6,
      "outputs": [
        {
          "output_type": "stream",
          "name": "stdout",
          "text": [
            "Optimization terminated successfully.\n",
            "         Current function value: 0.297593\n",
            "         Iterations 8\n",
            "                           Logit Regression Results                           \n",
            "==============================================================================\n",
            "Dep. Variable:                   frac   No. Observations:                  100\n",
            "Model:                          Logit   Df Residuals:                       97\n",
            "Method:                           MLE   Df Model:                            2\n",
            "Date:                Sun, 20 Feb 2022   Pseudo R-squ.:                  0.5484\n",
            "Time:                        04:00:17   Log-Likelihood:                -29.759\n",
            "converged:                       True   LL-Null:                       -65.896\n",
            "Covariance Type:            nonrobust   LLR p-value:                 2.024e-16\n",
            "==============================================================================\n",
            "                 coef    std err          z      P>|z|      [0.025      0.975]\n",
            "------------------------------------------------------------------------------\n",
            "const        -21.8504      4.425     -4.938      0.000     -30.524     -13.177\n",
            "sex            1.3611      0.733      1.856      0.063      -0.076       2.798\n",
            "age            0.3447      0.069      5.027      0.000       0.210       0.479\n",
            "==============================================================================\n"
          ]
        }
      ]
    },
    {
      "cell_type": "markdown",
      "source": [
        "queremos saber las distribuciones de probabilidad de los parámetros desconocidos del modelo.\n",
        "\n",
        "Probar que tan buenos son unos parámetros. Cuanto mayor sea la probabilidad P(teta|x) de los valores de los parámetros dados los datos, más probable será que sean los parámetros \"reales\" de la distribución de la población.\n",
        "\n",
        "Esto significa que podemos transformar nuestro problema de encontrar los parámetros de la distribución de la población, a encontrar los valores de los parámetros que maximizan el valor P(θ|x).\n",
        "\n",
        "podemos transformar nuestro problema de encontrar los parámetros de la distribución de la población, a encontrar los valores de los parámetros que maximizan el valor P(θ|x)."
      ],
      "metadata": {
        "id": "lJawpsZXJwKP"
      }
    },
    {
      "cell_type": "markdown",
      "source": [
        "[Bayesian Learning for Machine Learning: Part II - Linear Regression](https://wso2.com/blog/research/part-two-linear-regression/)\n",
        "\n",
        "[Logistic regression with PyMC3](https://goldinlocks.github.io/Bayesian-logistic-regression-with-pymc3/)\n",
        "\n",
        "[An Introduction to Logistic Regression in Python\n",
        "](https://www.simplilearn.com/tutorials/machine-learning-tutorial/logistic-regression-in-python)\n",
        "\n",
        "[Bayesian inference tutorial: a hello world example](https://datapythonista.me/blog/bayesian-inference-tutorial-a-hello-world-example.html)\n",
        "\n",
        "[Ejemplo de Bayes con covid y síntomas](https://statsthinking21.github.io/statsthinking21-python/10-BayesianStatistics.html)\n",
        "\n",
        "[Estimating Probabilities with Bayesian Modeling in Python](https://towardsdatascience.com/estimating-probabilities-with-bayesian-modeling-in-python-7144be007815)\n",
        "\n",
        "[Estimando probabilidades con inferencia bayesiana](https://github.com/WillKoehrsen/probabilistic-programming/blob/master/Estimating%20Probabilities%20with%20Bayesian%20Inference.ipynb)\n",
        "\n",
        "Bayesian Linear Regression in Python: Using Machine Learning to Predict Student Grades: [Parte 1](https://towardsdatascience.com/bayesian-linear-regression-in-python-using-machine-learning-to-predict-student-grades-part-1-7d0ad817fca5) y [Parte2](https://towardsdatascience.com/bayesian-linear-regression-in-python-using-machine-learning-to-predict-student-grades-part-2-b72059a8ac7e)\n",
        "\n",
        "[Bayesian Inference in Python](https://towardsai.net/p/l/bayesian-inference-in-python) \n",
        "\n",
        "[Bayesian Statistics explained to Beginners in Simple English](Bayesian Statistics explained to Beginners in Simple English)\n",
        "\n",
        "[Bayesian inference in Python-coursera](https://www.coursera.org/lecture/advanced-machine-learning-signal-processing/bayesian-inference-in-python-9D2Pz)\n",
        "\n",
        "[A Guide to Bayesian Statistics in Python for Beginners](https://analyticsindiamag.com/a-guide-to-bayesian-statistics-in-python-for-beginners/)\n",
        "\n",
        "[BBN: Bayesian Belief Networks — How to Build Them Effectively in Python](https://towardsdatascience.com/bbn-bayesian-belief-networks-how-to-build-them-effectively-in-python-6b7f93435bba)\n",
        "\n",
        "[Saúl Dobilas](https://solclover.com/)\n",
        "\n"
      ],
      "metadata": {
        "id": "6GLSZRSRlDIr"
      }
    }
  ]
}
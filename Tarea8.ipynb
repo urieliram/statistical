{
  "nbformat": 4,
  "nbformat_minor": 0,
  "metadata": {
    "colab": {
      "name": "Tarea8.ipynb",
      "provenance": [],
      "authorship_tag": "ABX9TyOOa02RfnQ1SyCMifX40G9p",
      "include_colab_link": true
    },
    "kernelspec": {
      "name": "python3",
      "display_name": "Python 3"
    },
    "language_info": {
      "name": "python"
    }
  },
  "cells": [
    {
      "cell_type": "markdown",
      "metadata": {
        "id": "view-in-github",
        "colab_type": "text"
      },
      "source": [
        "<a href=\"https://colab.research.google.com/github/urieliram/statistical/blob/main/Tarea8.ipynb\" target=\"_parent\"><img src=\"https://colab.research.google.com/assets/colab-badge.svg\" alt=\"Open In Colab\"/></a>"
      ]
    },
    {
      "cell_type": "code",
      "source": [
        "import numpy as np\n",
        "import pandas as pd\n",
        "import itertools\n",
        "import warnings\n",
        "%matplotlib inline\n",
        "import matplotlib.pyplot as plt\n",
        "from sklearn.linear_model import LinearRegression, RidgeCV, LassoCV, ElasticNetCV, LarsCV\n",
        "from sklearn.metrics import mean_absolute_error, mean_squared_error\n",
        "from sklearn.cross_decomposition import PLSRegression\n",
        "from sklearn.decomposition import PCA\n",
        "from sklearn.pipeline import Pipeline\n",
        "from sklearn.metrics import r2_score\n",
        "from sklearn.model_selection import GridSearchCV\n",
        "import scipy.stats\n",
        "import statsmodels.api as sm\n",
        "from scipy.stats import bernoulli\n",
        "import statsmodels.tools.eval_measures as bias\n",
        "import seaborn as sns\n",
        "warnings.filterwarnings(\"ignore\")\n",
        "from scipy.stats import bernoulli\n",
        "from scipy.stats import norm"
      ],
      "metadata": {
        "id": "9i3WmNoTReGd"
      },
      "execution_count": 38,
      "outputs": []
    },
    {
      "cell_type": "markdown",
      "source": [
        "Leemos los datos para un ejemplo de una variable"
      ],
      "metadata": {
        "id": "DOwecwXEGS9q"
      }
    },
    {
      "cell_type": "code",
      "source": [
        "df = pd.read_csv('logreg1.csv')\n",
        "df = df.assign(const=1)\n",
        "print(df)\n",
        "dfy = df['frac'].to_numpy() \n",
        "dfx = df[['const','sex','age']].to_numpy()  ## Predictors\n",
        "#X   = pd.DataFrame(df[['X0','X1','X2','X3','X4','X5','X6','X7','X8','X9']]).to_numpy()\n",
        "#Y   = pd.DataFrame(df[['Y']]).to_numpy()\n",
        "n = dfx.shape[0]"
      ],
      "metadata": {
        "colab": {
          "base_uri": "https://localhost:8080/"
        },
        "id": "SDwX24SfRGax",
        "outputId": "15f8c31d-7c84-46c3-dc1f-f3eb5422d2a9"
      },
      "execution_count": 39,
      "outputs": [
        {
          "output_type": "stream",
          "name": "stdout",
          "text": [
            "    sex  age  frac  const\n",
            "0     1   69     1      1\n",
            "1     1   57     1      1\n",
            "2     1   61     1      1\n",
            "3     0   60     0      1\n",
            "4     1   69     1      1\n",
            "..  ...  ...   ...    ...\n",
            "95    1   68     0      1\n",
            "96    1   75     1      1\n",
            "97    1   52     0      1\n",
            "98    1   53     0      1\n",
            "99    1   70     1      1\n",
            "\n",
            "[100 rows x 4 columns]\n"
          ]
        }
      ]
    },
    {
      "cell_type": "markdown",
      "source": [
        ""
      ],
      "metadata": {
        "id": "l7wPXsCgTBN1"
      }
    },
    {
      "cell_type": "code",
      "source": [
        "p = np.zeros(n); frac = np.zeros(n)\n",
        "\n",
        "alpha=0; b_sex=1; b_age=1; #inicial data\n",
        "for i in range(n):\n",
        "\n",
        "    ## Linear regression on logit\n",
        "    model = sm.Logit(dfy, dfx)\n",
        "    p[i] = alpha + b_sex * dfx[i,1] + b_age * dfx[i,2] #<----------cambiar a logit\n",
        "\n",
        "    ## Likelihood function for each data point\n",
        "    print(p[i])\n",
        "    frac[i]  = bernoulli(p[i])\n",
        "\n",
        "alpha = norm(0.0,1.0E-2) # Prior for intercept\n",
        "b_sex = norm.ppf([0.001, 0.5, 0.999])\n",
        "b_age = = norm.ppf([0.001, 0.5, 0.999])\n",
        "\n",
        "\n",
        "\n"
      ],
      "metadata": {
        "colab": {
          "base_uri": "https://localhost:8080/",
          "height": 252
        },
        "id": "u-ryj--daYUk",
        "outputId": "f68da3a1-ca58-4e5a-e250-4c4a23f10d0a"
      },
      "execution_count": 43,
      "outputs": [
        {
          "output_type": "stream",
          "name": "stdout",
          "text": [
            "70.0\n"
          ]
        },
        {
          "output_type": "error",
          "ename": "TypeError",
          "evalue": "ignored",
          "traceback": [
            "\u001b[0;31m---------------------------------------------------------------------------\u001b[0m",
            "\u001b[0;31mTypeError\u001b[0m                                 Traceback (most recent call last)",
            "\u001b[0;32m<ipython-input-43-a52dd9a53474>\u001b[0m in \u001b[0;36m<module>\u001b[0;34m()\u001b[0m\n\u001b[1;32m     10\u001b[0m     \u001b[0;31m## Likelihood function for each data point\u001b[0m\u001b[0;34m\u001b[0m\u001b[0;34m\u001b[0m\u001b[0;34m\u001b[0m\u001b[0m\n\u001b[1;32m     11\u001b[0m     \u001b[0mprint\u001b[0m\u001b[0;34m(\u001b[0m\u001b[0mp\u001b[0m\u001b[0;34m[\u001b[0m\u001b[0mi\u001b[0m\u001b[0;34m]\u001b[0m\u001b[0;34m)\u001b[0m\u001b[0;34m\u001b[0m\u001b[0;34m\u001b[0m\u001b[0m\n\u001b[0;32m---> 12\u001b[0;31m     \u001b[0mfrac\u001b[0m\u001b[0;34m[\u001b[0m\u001b[0mi\u001b[0m\u001b[0;34m]\u001b[0m  \u001b[0;34m=\u001b[0m \u001b[0mbernoulli\u001b[0m\u001b[0;34m(\u001b[0m\u001b[0;36m1\u001b[0m\u001b[0;34m)\u001b[0m\u001b[0;34m\u001b[0m\u001b[0;34m\u001b[0m\u001b[0m\n\u001b[0m\u001b[1;32m     13\u001b[0m \u001b[0;34m\u001b[0m\u001b[0m\n\u001b[1;32m     14\u001b[0m \u001b[0malpha\u001b[0m \u001b[0;34m=\u001b[0m \u001b[0mdnorm\u001b[0m\u001b[0;34m(\u001b[0m\u001b[0;36m0.0\u001b[0m\u001b[0;34m,\u001b[0m\u001b[0;36m1.0E-2\u001b[0m\u001b[0;34m)\u001b[0m \u001b[0;31m# Prior for intercept\u001b[0m\u001b[0;34m\u001b[0m\u001b[0;34m\u001b[0m\u001b[0m\n",
            "\u001b[0;31mTypeError\u001b[0m: float() argument must be a string or a number, not 'rv_frozen'"
          ]
        }
      ]
    },
    {
      "cell_type": "markdown",
      "source": [
        "Ahora, comparamos los resultados con un análisis frecuentista de regresión logística de la librería **statsmodels**."
      ],
      "metadata": {
        "id": "DtBCIUz4StoE"
      }
    },
    {
      "cell_type": "code",
      "source": [
        "model = sm.Logit(dfy, dfx)\n",
        "results = model.fit()\n",
        "print(results.summary())"
      ],
      "metadata": {
        "id": "u57E-JTJSETl"
      },
      "execution_count": null,
      "outputs": []
    },
    {
      "cell_type": "markdown",
      "source": [
        "queremos saber las distribuciones de probabilidad de los parámetros desconocidos del modelo.\n",
        "\n",
        "Probar que tan buenos son unos parámetros. Cuanto mayor sea la probabilidad P(teta|x) de los valores de los parámetros dados los datos, más probable será que sean los parámetros \"reales\" de la distribución de la población.\n",
        "\n",
        "Esto significa que podemos transformar nuestro problema de encontrar los parámetros de la distribución de la población, a encontrar los valores de los parámetros que maximizan el valor P(θ|x).\n",
        "\n",
        "podemos transformar nuestro problema de encontrar los parámetros de la distribución de la población, a encontrar los valores de los parámetros que maximizan el valor P(θ|x)."
      ],
      "metadata": {
        "id": "lJawpsZXJwKP"
      }
    },
    {
      "cell_type": "markdown",
      "source": [
        "[Bayesian Learning for Machine Learning: Part II - Linear Regression](https://wso2.com/blog/research/part-two-linear-regression/)\n",
        "\n",
        "[Logistic regression with PyMC3](https://goldinlocks.github.io/Bayesian-logistic-regression-with-pymc3/)\n",
        "\n",
        "[An Introduction to Logistic Regression in Python\n",
        "](https://www.simplilearn.com/tutorials/machine-learning-tutorial/logistic-regression-in-python)\n",
        "\n",
        "[Bayesian inference tutorial: a hello world example](https://datapythonista.me/blog/bayesian-inference-tutorial-a-hello-world-example.html)\n",
        "\n",
        "[Ejemplo de Bayes con covid y síntomas](https://statsthinking21.github.io/statsthinking21-python/10-BayesianStatistics.html)\n",
        "\n",
        "[Estimating Probabilities with Bayesian Modeling in Python](https://towardsdatascience.com/estimating-probabilities-with-bayesian-modeling-in-python-7144be007815)\n",
        "\n",
        "[Estimando probabilidades con inferencia bayesiana](https://github.com/WillKoehrsen/probabilistic-programming/blob/master/Estimating%20Probabilities%20with%20Bayesian%20Inference.ipynb)\n",
        "\n",
        "Bayesian Linear Regression in Python: Using Machine Learning to Predict Student Grades: [Parte 1](https://towardsdatascience.com/bayesian-linear-regression-in-python-using-machine-learning-to-predict-student-grades-part-1-7d0ad817fca5) y [Parte2](https://towardsdatascience.com/bayesian-linear-regression-in-python-using-machine-learning-to-predict-student-grades-part-2-b72059a8ac7e)\n",
        "\n",
        "[Bayesian Inference in Python](https://towardsai.net/p/l/bayesian-inference-in-python) \n",
        "\n",
        "[Bayesian Statistics explained to Beginners in Simple English](Bayesian Statistics explained to Beginners in Simple English)\n",
        "\n",
        "[Bayesian inference in Python-coursera](https://www.coursera.org/lecture/advanced-machine-learning-signal-processing/bayesian-inference-in-python-9D2Pz)\n",
        "\n",
        "[A Guide to Bayesian Statistics in Python for Beginners](https://analyticsindiamag.com/a-guide-to-bayesian-statistics-in-python-for-beginners/)\n",
        "\n",
        "[BBN: Bayesian Belief Networks — How to Build Them Effectively in Python](https://towardsdatascience.com/bbn-bayesian-belief-networks-how-to-build-them-effectively-in-python-6b7f93435bba)\n",
        "\n",
        "[Saúl Dobilas](https://solclover.com/)\n",
        "\n"
      ],
      "metadata": {
        "id": "6GLSZRSRlDIr"
      }
    }
  ]
}
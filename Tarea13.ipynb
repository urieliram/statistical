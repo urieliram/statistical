{
  "nbformat": 4,
  "nbformat_minor": 0,
  "metadata": {
    "colab": {
      "name": "Tarea13.ipynb",
      "provenance": [],
      "authorship_tag": "ABX9TyN7hjt/oH7LCkRG2a2V8W1I",
      "include_colab_link": true
    },
    "kernelspec": {
      "name": "python3",
      "display_name": "Python 3"
    },
    "language_info": {
      "name": "python"
    }
  },
  "cells": [
    {
      "cell_type": "markdown",
      "metadata": {
        "id": "view-in-github",
        "colab_type": "text"
      },
      "source": [
        "<a href=\"https://colab.research.google.com/github/urieliram/statistical/blob/main/Tarea13.ipynb\" target=\"_parent\"><img src=\"https://colab.research.google.com/assets/colab-badge.svg\" alt=\"Open In Colab\"/></a>"
      ]
    },
    {
      "cell_type": "code",
      "source": [
        "import time\n",
        "import pandas as pd\n",
        "import numpy as np\n",
        "import matplotlib.pyplot as plt\n",
        "from sklearn.preprocessing import StandardScaler\n",
        "from sklearn.model_selection import train_test_split\n",
        "from sklearn.cluster import MiniBatchKMeans, KMeans\n",
        "from sklearn.metrics.pairwise import pairwise_distances_argmin\n",
        "from sklearn_lvq import GlvqModel\n",
        "from sklearn_lvq.utils import plot2d"
      ],
      "metadata": {
        "id": "ZQdJWwrxEQru"
      },
      "execution_count": 110,
      "outputs": []
    },
    {
      "cell_type": "code",
      "source": [
        "df    = pd.read_csv('cluster.csv')\n",
        "X = df[['x1','x2','x3','x4','x5','x6','x7','x8','x9','x10','x11']].to_numpy()\n",
        "X = df[['x1','x2']].to_numpy()\n",
        "\n",
        "#Normalizing the data\n",
        "#sc = StandardScaler()\n",
        "#X = sc.fit_transform(X)\n",
        "#y = sc.fit_transform(Y)\n",
        "\n",
        "## Crea conjuntos de datos de entrenamiento y prueba\n",
        "X_train, X_test = train_test_split(X, test_size=0.7, random_state=5)"
      ],
      "metadata": {
        "id": "Ss8UZbcNy6Bf"
      },
      "execution_count": 111,
      "outputs": []
    },
    {
      "cell_type": "markdown",
      "source": [
        "# **K-means**\n"
      ],
      "metadata": {
        "id": "F9srWIVJDgzE"
      }
    },
    {
      "cell_type": "code",
      "source": [
        "for c in [2,3,4,5,10,20,25,29]:\n",
        "  k_means = KMeans(init='k-means++', n_clusters=c, n_init=10) # otro es MiniBatchKMeans\n",
        "  t0 = time.time()\n",
        "  k_means = k_means.fit(X_train)\n",
        "  t_batch = time.time() - t0\n",
        "\n",
        "  #k_means.predict([[4,8,20,40,74,80,77,40,22,8,3], [4,8,20,40,74,80,77,40,22,8,3]])\n",
        "  k_means.predict(X_test)\n",
        "\n",
        "  values = k_means.cluster_centers_.squeeze()\n",
        "  labels = k_means.labels_\n",
        "  #print(\"Centroides\",k_means.cluster_centers_)\n",
        "  print(labels)\n",
        "  print('Exactitud:', k_means.score(X_test))"
      ],
      "metadata": {
        "id": "BlKfTKiTzjFH"
      },
      "execution_count": null,
      "outputs": []
    },
    {
      "cell_type": "markdown",
      "source": [
        "# **LVQ**"
      ],
      "metadata": {
        "id": "xvArskkWQfIM"
      }
    },
    {
      "cell_type": "code",
      "source": [
        "pip install sklearn-lvq"
      ],
      "metadata": {
        "id": "5wMCS2-IWA8W"
      },
      "execution_count": null,
      "outputs": []
    },
    {
      "cell_type": "code",
      "source": [
        "#https://mrnuggelz.github.io/sklearn-lvq/auto_examples/plot_rslvq.html\n",
        "#https://mrnuggelz.github.io/sklearn-lvq/auto_examples/index.html\n",
        "#https://mrnuggelz.github.io/sklearn-lvq/modules/generated/sklearn_lvq.GlvqModel.html#sklearn_lvq.GlvqModel\n",
        "print('GLVQ:')\n",
        "#nb_ppc = 100\n",
        "#toy_data = np.append(\n",
        "#    np.random.multivariate_normal([0, 0], np.eye(2) / 2, size=nb_ppc),\n",
        "#    np.random.multivariate_normal([5, 0], np.eye(2) / 2, size=nb_ppc), axis=0)\n",
        "#toy_label = np.append(np.zeros(nb_ppc), np.ones(nb_ppc), axis=0)\n",
        "\n",
        "glvq = GlvqModel()\n",
        "glvq.fit(X_train, labels)\n",
        "plot2d(glvq, values, labels, 1, 'glvq')\n",
        "\n",
        "print('classification accuracy:', glvq.score(values, labels))\n",
        "plt.show()"
      ],
      "metadata": {
        "colab": {
          "base_uri": "https://localhost:8080/",
          "height": 349
        },
        "id": "EfdjNEowIsKx",
        "outputId": "2374f6d7-9c83-449c-d855-d1d78a6f3505"
      },
      "execution_count": 125,
      "outputs": [
        {
          "output_type": "stream",
          "name": "stdout",
          "text": [
            "GLVQ:\n",
            "not implemented!\n",
            "classification accuracy: 0.0\n"
          ]
        },
        {
          "output_type": "display_data",
          "data": {
            "text/plain": [
              "<Figure size 432x288 with 2 Axes>"
            ],
            "image/png": "[encoded data removed]"
          },
          "metadata": {
            "needs_background": "light"
          }
        }
      ]
    }
  ]
}
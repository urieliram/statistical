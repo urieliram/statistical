{
  "nbformat": 4,
  "nbformat_minor": 0,
  "metadata": {
    "colab": {
      "name": "Tarea13.ipynb",
      "provenance": [],
      "authorship_tag": "ABX9TyO6vf3hRNiFo2qPb6hS6EMD",
      "include_colab_link": true
    },
    "kernelspec": {
      "name": "python3",
      "display_name": "Python 3"
    },
    "language_info": {
      "name": "python"
    }
  },
  "cells": [
    {
      "cell_type": "markdown",
      "metadata": {
        "id": "view-in-github",
        "colab_type": "text"
      },
      "source": [
        "<a href=\"https://colab.research.google.com/github/urieliram/statistical/blob/main/Tarea13.ipynb\" target=\"_parent\"><img src=\"https://colab.research.google.com/assets/colab-badge.svg\" alt=\"Open In Colab\"/></a>"
      ]
    },
    {
      "cell_type": "code",
      "source": [
        "import time\n",
        "import pandas as pd\n",
        "import numpy as np\n",
        "import matplotlib.pyplot as plt\n",
        "from sklearn.preprocessing import StandardScaler\n",
        "from sklearn.model_selection import train_test_split\n",
        "from sklearn.cluster import MiniBatchKMeans, KMeans\n",
        "from sklearn.metrics.pairwise import pairwise_distances_argmin\n",
        "from sklearn_lvq import GlvqModel\n",
        "from sklearn_lvq.utils import plot2d"
      ],
      "metadata": {
        "id": "ZQdJWwrxEQru"
      },
      "execution_count": 145,
      "outputs": []
    },
    {
      "cell_type": "code",
      "source": [
        "df    = pd.read_csv('cluster.csv')\n",
        "X = df[['x1','x2','x3','x4','x5','x6','x7','x8','x9','x10','x11']].to_numpy()\n",
        "X = df[['x1','x2']].to_numpy()\n",
        "\n",
        "#Normalizing the data\n",
        "#sc = StandardScaler()\n",
        "#X = sc.fit_transform(X)\n",
        "#y = sc.fit_transform(Y)\n",
        "\n",
        "## Crea conjuntos de datos de entrenamiento y prueba\n",
        "X_train, X_test = train_test_split(X, test_size=0.7, random_state=5)"
      ],
      "metadata": {
        "id": "Ss8UZbcNy6Bf"
      },
      "execution_count": 146,
      "outputs": []
    },
    {
      "cell_type": "markdown",
      "source": [
        "# **K-means**\n"
      ],
      "metadata": {
        "id": "F9srWIVJDgzE"
      }
    },
    {
      "cell_type": "code",
      "source": [
        "for c in [2,3,4,5,10,20,25,29]:\n",
        "  k_means = KMeans(init='k-means++', n_clusters=c, n_init=10) # otro es MiniBatchKMeans\n",
        "  t0 = time.time()\n",
        "  k_means = k_means.fit(X_train)\n",
        "  t_batch = time.time() - t0\n",
        "\n",
        "  #k_means.predict([[4,8,20,40,74,80,77,40,22,8,3], [4,8,20,40,74,80,77,40,22,8,3]])\n",
        "  y_pred = k_means.predict(X_test)\n",
        "\n",
        "  values = k_means.cluster_centers_.squeeze()\n",
        "  labels = k_means.labels_\n",
        "  #print(\"Centroides\", k_means.cluster_centers_)\n",
        "  print(labels)\n",
        "  print('Exactitud:', k_means.score(X_test))"
      ],
      "metadata": {
        "colab": {
          "base_uri": "https://localhost:8080/"
        },
        "id": "BlKfTKiTzjFH",
        "outputId": "682c30cb-be06-4153-e025-dae86d394428"
      },
      "execution_count": 147,
      "outputs": [
        {
          "output_type": "stream",
          "name": "stdout",
          "text": [
            "[1 0 1 0 1 0 0 0 1 0 1 1 1 0 1 1 1 0 1 0 1 0 0 1 0 1 0 1 1]\n",
            "Exactitud: -443.5650352487056\n",
            "[2 0 1 0 1 0 0 0 1 0 2 1 1 0 1 1 2 0 1 0 1 0 0 2 0 2 0 2 1]\n",
            "Exactitud: -161.95585946745558\n",
            "[1 0 2 0 2 3 0 0 2 3 1 2 2 3 2 2 1 0 2 0 2 3 3 1 0 1 0 1 2]\n",
            "Exactitud: -51.985749999999996\n",
            "[2 0 1 0 1 3 0 0 1 3 2 4 4 3 4 1 2 0 1 0 4 3 3 2 0 2 0 2 1]\n",
            "Exactitud: -40.7931875\n",
            "[6 5 7 5 0 3 1 5 0 3 8 4 4 3 4 7 2 9 7 9 4 3 3 6 9 6 1 2 0]\n",
            "Exactitud: -23.99152083333334\n",
            "[ 6  9 15 14  1 12 17 16  8 19  7 10 10 12 13 18  2  5  1  5  4  3  3 11\n",
            "  5 11  0  2  8]\n",
            "Exactitud: -16.838472222222233\n",
            "[12 17  6  5 23 13 14 18 19 21  9  4 20 13  8 11 22  3 10  3 16  1  1  7\n",
            " 24  7 15  2  0]\n",
            "Exactitud: -14.140000000000006\n",
            "[ 2 14  1  6 13 26 12 15  4 20  9  8 21 11  7 19  5  0 23 27 17  3  3 10\n",
            " 24 25 16 22 18]\n",
            "Exactitud: -12.83592152199763\n"
          ]
        },
        {
          "output_type": "stream",
          "name": "stderr",
          "text": [
            "/usr/local/lib/python3.7/dist-packages/ipykernel_launcher.py:4: ConvergenceWarning: Number of distinct clusters (28) found smaller than n_clusters (29). Possibly due to duplicate points in X.\n",
            "  after removing the cwd from sys.path.\n"
          ]
        }
      ]
    },
    {
      "cell_type": "code",
      "source": [
        "plt.figure(figsize=(4, 4))\n",
        "\n",
        "# Incorrect number of clusters\n",
        "plt.scatter(X_test[:, 0], X_test[:, 1], c=y_pred)\n",
        "plt.show()"
      ],
      "metadata": {
        "colab": {
          "base_uri": "https://localhost:8080/",
          "height": 265
        },
        "id": "Va2yd_tzXajH",
        "outputId": "a10c0cc1-c759-49d8-f4ee-ffd80ad9743e"
      },
      "execution_count": 150,
      "outputs": [
        {
          "output_type": "display_data",
          "data": {
            "text/plain": [
              "<Figure size 288x288 with 1 Axes>"
            ],
            "image/png": "[encoded data removed]"
          },
          "metadata": {
            "needs_background": "light"
          }
        }
      ]
    },
    {
      "cell_type": "markdown",
      "source": [
        "# **LVQ**"
      ],
      "metadata": {
        "id": "xvArskkWQfIM"
      }
    },
    {
      "cell_type": "code",
      "source": [
        "pip install -U sklearn-lvq[docs]"
      ],
      "metadata": {
        "colab": {
          "base_uri": "https://localhost:8080/"
        },
        "id": "5wMCS2-IWA8W",
        "outputId": "40054e83-c384-41d7-e3b2-d808426a6516"
      },
      "execution_count": 159,
      "outputs": [
        {
          "output_type": "stream",
          "name": "stdout",
          "text": [
            "Requirement already satisfied: sklearn-lvq[docs] in /usr/local/lib/python3.7/dist-packages (1.1.1)\n",
            "Requirement already satisfied: numpy>=1.9.1 in /usr/local/lib/python3.7/dist-packages (from sklearn-lvq[docs]) (1.21.5)\n",
            "Requirement already satisfied: scikit-learn>=0.17 in /usr/local/lib/python3.7/dist-packages (from sklearn-lvq[docs]) (1.0.2)\n",
            "Requirement already satisfied: matplotlib>=2.0.2 in /usr/local/lib/python3.7/dist-packages (from sklearn-lvq[docs]) (3.2.2)\n",
            "Requirement already satisfied: sphinx-rtd-theme in /usr/local/lib/python3.7/dist-packages (from sklearn-lvq[docs]) (1.0.0)\n",
            "Requirement already satisfied: metric-learn in /usr/local/lib/python3.7/dist-packages (from sklearn-lvq[docs]) (0.6.2)\n",
            "Requirement already satisfied: numpydoc in /usr/local/lib/python3.7/dist-packages (from sklearn-lvq[docs]) (1.2.1)\n",
            "Requirement already satisfied: sphinx in /usr/local/lib/python3.7/dist-packages (from sklearn-lvq[docs]) (1.8.6)\n",
            "Requirement already satisfied: sphinx-gallery in /usr/local/lib/python3.7/dist-packages (from sklearn-lvq[docs]) (0.10.1)\n",
            "Requirement already satisfied: pillow in /usr/local/lib/python3.7/dist-packages (from sklearn-lvq[docs]) (7.1.2)\n",
            "Requirement already satisfied: pyparsing!=2.0.4,!=2.1.2,!=2.1.6,>=2.0.1 in /usr/local/lib/python3.7/dist-packages (from matplotlib>=2.0.2->sklearn-lvq[docs]) (3.0.8)\n",
            "Requirement already satisfied: python-dateutil>=2.1 in /usr/local/lib/python3.7/dist-packages (from matplotlib>=2.0.2->sklearn-lvq[docs]) (2.8.2)\n",
            "Requirement already satisfied: cycler>=0.10 in /usr/local/lib/python3.7/dist-packages (from matplotlib>=2.0.2->sklearn-lvq[docs]) (0.11.0)\n",
            "Requirement already satisfied: kiwisolver>=1.0.1 in /usr/local/lib/python3.7/dist-packages (from matplotlib>=2.0.2->sklearn-lvq[docs]) (1.4.2)\n",
            "Requirement already satisfied: typing-extensions in /usr/local/lib/python3.7/dist-packages (from kiwisolver>=1.0.1->matplotlib>=2.0.2->sklearn-lvq[docs]) (4.1.1)\n",
            "Requirement already satisfied: six>=1.5 in /usr/local/lib/python3.7/dist-packages (from python-dateutil>=2.1->matplotlib>=2.0.2->sklearn-lvq[docs]) (1.15.0)\n",
            "Requirement already satisfied: scipy>=1.1.0 in /usr/local/lib/python3.7/dist-packages (from scikit-learn>=0.17->sklearn-lvq[docs]) (1.4.1)\n",
            "Requirement already satisfied: joblib>=0.11 in /usr/local/lib/python3.7/dist-packages (from scikit-learn>=0.17->sklearn-lvq[docs]) (1.1.0)\n",
            "Requirement already satisfied: threadpoolctl>=2.0.0 in /usr/local/lib/python3.7/dist-packages (from scikit-learn>=0.17->sklearn-lvq[docs]) (3.1.0)\n",
            "Requirement already satisfied: Jinja2<3.1,>=2.10 in /usr/local/lib/python3.7/dist-packages (from numpydoc->sklearn-lvq[docs]) (2.11.3)\n",
            "Requirement already satisfied: MarkupSafe>=0.23 in /usr/local/lib/python3.7/dist-packages (from Jinja2<3.1,>=2.10->numpydoc->sklearn-lvq[docs]) (2.0.1)\n",
            "Requirement already satisfied: setuptools in /usr/local/lib/python3.7/dist-packages (from sphinx->sklearn-lvq[docs]) (57.4.0)\n",
            "Requirement already satisfied: snowballstemmer>=1.1 in /usr/local/lib/python3.7/dist-packages (from sphinx->sklearn-lvq[docs]) (2.2.0)\n",
            "Requirement already satisfied: imagesize in /usr/local/lib/python3.7/dist-packages (from sphinx->sklearn-lvq[docs]) (1.3.0)\n",
            "Requirement already satisfied: Pygments>=2.0 in /usr/local/lib/python3.7/dist-packages (from sphinx->sklearn-lvq[docs]) (2.6.1)\n",
            "Requirement already satisfied: requests>=2.0.0 in /usr/local/lib/python3.7/dist-packages (from sphinx->sklearn-lvq[docs]) (2.23.0)\n",
            "Requirement already satisfied: docutils<0.18,>=0.11 in /usr/local/lib/python3.7/dist-packages (from sphinx->sklearn-lvq[docs]) (0.17.1)\n",
            "Requirement already satisfied: babel!=2.0,>=1.3 in /usr/local/lib/python3.7/dist-packages (from sphinx->sklearn-lvq[docs]) (2.9.1)\n",
            "Requirement already satisfied: packaging in /usr/local/lib/python3.7/dist-packages (from sphinx->sklearn-lvq[docs]) (21.3)\n",
            "Requirement already satisfied: alabaster<0.8,>=0.7 in /usr/local/lib/python3.7/dist-packages (from sphinx->sklearn-lvq[docs]) (0.7.12)\n",
            "Requirement already satisfied: sphinxcontrib-websupport in /usr/local/lib/python3.7/dist-packages (from sphinx->sklearn-lvq[docs]) (1.2.4)\n",
            "Requirement already satisfied: pytz>=2015.7 in /usr/local/lib/python3.7/dist-packages (from babel!=2.0,>=1.3->sphinx->sklearn-lvq[docs]) (2018.9)\n",
            "Requirement already satisfied: certifi>=2017.4.17 in /usr/local/lib/python3.7/dist-packages (from requests>=2.0.0->sphinx->sklearn-lvq[docs]) (2021.10.8)\n",
            "Requirement already satisfied: urllib3!=1.25.0,!=1.25.1,<1.26,>=1.21.1 in /usr/local/lib/python3.7/dist-packages (from requests>=2.0.0->sphinx->sklearn-lvq[docs]) (1.24.3)\n",
            "Requirement already satisfied: idna<3,>=2.5 in /usr/local/lib/python3.7/dist-packages (from requests>=2.0.0->sphinx->sklearn-lvq[docs]) (2.10)\n",
            "Requirement already satisfied: chardet<4,>=3.0.2 in /usr/local/lib/python3.7/dist-packages (from requests>=2.0.0->sphinx->sklearn-lvq[docs]) (3.0.4)\n",
            "Requirement already satisfied: sphinxcontrib-serializinghtml in /usr/local/lib/python3.7/dist-packages (from sphinxcontrib-websupport->sphinx->sklearn-lvq[docs]) (1.1.5)\n"
          ]
        }
      ]
    },
    {
      "cell_type": "code",
      "source": [
        "#https://mrnuggelz.github.io/sklearn-lvq/auto_examples/plot_rslvq.html\n",
        "#https://mrnuggelz.github.io/sklearn-lvq/auto_examples/index.html\n",
        "#https://mrnuggelz.github.io/sklearn-lvq/modules/generated/sklearn_lvq.GlvqModel.html#sklearn_lvq.GlvqModel\n",
        "print('GLVQ:')\n",
        "#nb_ppc = 100\n",
        "#toy_data = np.append(\n",
        "#    np.random.multivariate_normal([0, 0], np.eye(2) / 2, size=nb_ppc),\n",
        "#    np.random.multivariate_normal([5, 0], np.eye(2) / 2, size=nb_ppc), axis=0)\n",
        "#toy_label = np.append(np.zeros(nb_ppc), np.ones(nb_ppc), axis=0)\n",
        "\n",
        "glvq = GlvqModel()\n",
        "glvq.fit(X_train, labels)\n",
        "plot2d(glvq, values, labels, 1, 'glvq')\n",
        "\n",
        "print('classification accuracy:', glvq.score(values, labels))\n",
        "plt.show()"
      ],
      "metadata": {
        "colab": {
          "base_uri": "https://localhost:8080/",
          "height": 349
        },
        "id": "EfdjNEowIsKx",
        "outputId": "7014ed37-6f17-442a-d6f4-81f29b2625b3"
      },
      "execution_count": 160,
      "outputs": [
        {
          "output_type": "stream",
          "name": "stdout",
          "text": [
            "GLVQ:\n",
            "not implemented!\n",
            "classification accuracy: 0.06896551724137931\n"
          ]
        },
        {
          "output_type": "display_data",
          "data": {
            "text/plain": [
              "<Figure size 432x288 with 2 Axes>"
            ],
            "image/png": "[encoded data removed]"
          },
          "metadata": {
            "needs_background": "light"
          }
        }
      ]
    }
  ]
}
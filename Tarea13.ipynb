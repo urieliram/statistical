{
  "nbformat": 4,
  "nbformat_minor": 0,
  "metadata": {
    "colab": {
      "name": "Tarea13.ipynb",
      "provenance": [],
      "authorship_tag": "ABX9TyMifPVcf/HcICLURho/RtZH",
      "include_colab_link": true
    },
    "kernelspec": {
      "name": "python3",
      "display_name": "Python 3"
    },
    "language_info": {
      "name": "python"
    }
  },
  "cells": [
    {
      "cell_type": "markdown",
      "metadata": {
        "id": "view-in-github",
        "colab_type": "text"
      },
      "source": [
        "<a href=\"https://colab.research.google.com/github/urieliram/statistical/blob/main/Tarea13.ipynb\" target=\"_parent\"><img src=\"https://colab.research.google.com/assets/colab-badge.svg\" alt=\"Open In Colab\"/></a>"
      ]
    },
    {
      "cell_type": "code",
      "source": [
        "import time\n",
        "import pandas as pd\n",
        "import numpy as np\n",
        "import matplotlib.pyplot as plt\n",
        "from sklearn.preprocessing import StandardScaler\n",
        "from sklearn.model_selection import train_test_split\n",
        "from sklearn.cluster import MiniBatchKMeans, KMeans\n",
        "from sklearn.metrics.pairwise import pairwise_distances_argmin\n",
        "from sklearn.datasets import make_blobs"
      ],
      "metadata": {
        "id": "ZQdJWwrxEQru"
      },
      "execution_count": 58,
      "outputs": []
    },
    {
      "cell_type": "code",
      "source": [
        "df    = pd.read_csv('cluster.csv')"
      ],
      "metadata": {
        "id": "G5PTx9hCyjPC"
      },
      "execution_count": 59,
      "outputs": []
    },
    {
      "cell_type": "code",
      "source": [
        "X = df[['x1','x2','x3','x4','x5','x6','x7','x8','x9','x10','x11']].to_numpy()\n",
        "\n",
        "#Normalizing the data\n",
        "#sc = StandardScaler()\n",
        "#X = sc.fit_transform(X)\n",
        "#y = sc.fit_transform(Y)\n",
        "\n",
        "## Crea conjuntos de datos de entrenamiento y prueba\n",
        "X_train,X_test = train_test_split(X,test_size = 0.7, random_state = 5) #, random_state = 5"
      ],
      "metadata": {
        "id": "Ss8UZbcNy6Bf"
      },
      "execution_count": 60,
      "outputs": []
    },
    {
      "cell_type": "markdown",
      "source": [
        "K-means\n"
      ],
      "metadata": {
        "id": "F9srWIVJDgzE"
      }
    },
    {
      "cell_type": "code",
      "source": [
        "# #############################################################################\n",
        "# Compute clustering with Means\n",
        "\n",
        "k_means = KMeans(init=\"k-means++\", n_clusters=3, n_init=10)\n",
        "t0 = time.time()\n",
        "k_means = k_means.fit(X_train)\n",
        "t_batch = time.time() - t0\n",
        "\n",
        "print(\"Centroides\",k_means.cluster_centers_)\n",
        "k_means.predict([[4,8,20,40,74,80,77,40,22,8,3], [4,8,20,40,74,80,77,40,22,8,3]])\n"
      ],
      "metadata": {
        "colab": {
          "base_uri": "https://localhost:8080/"
        },
        "id": "BlKfTKiTzjFH",
        "outputId": "1b440444-a250-451d-c634-02808860dd09"
      },
      "execution_count": 65,
      "outputs": [
        {
          "output_type": "stream",
          "name": "stdout",
          "text": [
            "Centroides [[  6.705       13.31        34.05        66.         118.235\n",
            "  124.2        113.05        68.6         33.725       13.06\n",
            "    6.805     ]\n",
            " [  1.32692308   2.49230769   6.44230769  13.07692308  20.72692308\n",
            "   25.05230769  23.99615385  14.11538462   6.40384615   2.55384615\n",
            "    1.3       ]\n",
            " [  4.           8.15        20.33333333  40.83333333  74.09166667\n",
            "   80.04        77.775       40.66666667  22.25         8.21666667\n",
            "    3.84166667]]\n"
          ]
        },
        {
          "output_type": "execute_result",
          "data": {
            "text/plain": [
              "array([2, 2], dtype=int32)"
            ]
          },
          "metadata": {},
          "execution_count": 65
        }
      ]
    }
  ]
}
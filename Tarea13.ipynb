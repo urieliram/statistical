{
  "nbformat": 4,
  "nbformat_minor": 0,
  "metadata": {
    "colab": {
      "name": "Tarea13.ipynb",
      "provenance": [],
      "authorship_tag": "ABX9TyOElVVfU+mpJrC2q8QDTBAV",
      "include_colab_link": true
    },
    "kernelspec": {
      "name": "python3",
      "display_name": "Python 3"
    },
    "language_info": {
      "name": "python"
    }
  },
  "cells": [
    {
      "cell_type": "markdown",
      "metadata": {
        "id": "view-in-github",
        "colab_type": "text"
      },
      "source": [
        "<a href=\"https://colab.research.google.com/github/urieliram/statistical/blob/main/Tarea13.ipynb\" target=\"_parent\"><img src=\"https://colab.research.google.com/assets/colab-badge.svg\" alt=\"Open In Colab\"/></a>"
      ]
    },
    {
      "cell_type": "code",
      "source": [
        "pip install sklearn-lvq"
      ],
      "metadata": {
        "colab": {
          "base_uri": "https://localhost:8080/"
        },
        "id": "IyRXG1rHNDKz",
        "outputId": "3d66df39-88cd-449e-8099-6b93bf2d1962"
      },
      "execution_count": 131,
      "outputs": [
        {
          "output_type": "stream",
          "name": "stdout",
          "text": [
            "Requirement already satisfied: sklearn-lvq in /usr/local/lib/python3.7/dist-packages (1.1.1)\n",
            "Requirement already satisfied: scikit-learn>=0.17 in /usr/local/lib/python3.7/dist-packages (from sklearn-lvq) (1.0.2)\n",
            "Requirement already satisfied: numpy>=1.9.1 in /usr/local/lib/python3.7/dist-packages (from sklearn-lvq) (1.21.5)\n",
            "Requirement already satisfied: scipy>=1.1.0 in /usr/local/lib/python3.7/dist-packages (from scikit-learn>=0.17->sklearn-lvq) (1.4.1)\n",
            "Requirement already satisfied: joblib>=0.11 in /usr/local/lib/python3.7/dist-packages (from scikit-learn>=0.17->sklearn-lvq) (1.1.0)\n",
            "Requirement already satisfied: threadpoolctl>=2.0.0 in /usr/local/lib/python3.7/dist-packages (from scikit-learn>=0.17->sklearn-lvq) (3.1.0)\n"
          ]
        }
      ]
    },
    {
      "cell_type": "code",
      "source": [
        "import time\n",
        "import pandas as pd\n",
        "import numpy as np\n",
        "import matplotlib.pyplot as plt\n",
        "from sklearn.preprocessing import StandardScaler\n",
        "from sklearn.model_selection import train_test_split\n",
        "from sklearn.cluster import MiniBatchKMeans, KMeans\n",
        "from sklearn.metrics.pairwise import pairwise_distances_argmin\n",
        "from sklearn_lvq import GlvqModel\n",
        "from sklearn_lvq.utils import plot2d\n",
        "from sklearn.mixture import GaussianMixture"
      ],
      "metadata": {
        "id": "ZQdJWwrxEQru"
      },
      "execution_count": 132,
      "outputs": []
    },
    {
      "cell_type": "code",
      "source": [
        "df    = pd.read_csv('cluster.csv')\n",
        "X = df[['x1','x2','x3','x4','x5','x6','x7','x8','x9','x10','x11']].to_numpy()\n",
        "X = df[['x6','x7']].to_numpy()\n",
        "\n",
        "#Normalizing the data\n",
        "#sc = StandardScaler()\n",
        "#X = sc.fit_transform(X)\n",
        "#y = sc.fit_transform(Y)\n",
        "\n",
        "## Crea conjuntos de datos de entrenamiento y prueba\n",
        "X_train, X_test = train_test_split(X, test_size=0.5,random_state=5) #"
      ],
      "metadata": {
        "id": "Ss8UZbcNy6Bf"
      },
      "execution_count": 173,
      "outputs": []
    },
    {
      "cell_type": "markdown",
      "source": [
        "# **K-means**\n"
      ],
      "metadata": {
        "id": "F9srWIVJDgzE"
      }
    },
    {
      "cell_type": "code",
      "source": [
        "t0 = time.time()\n",
        "n_clusters = 4\n",
        "k_means = KMeans(init='k-means++', n_clusters=n_clusters, n_init=10) # una variante MiniBatchKMeans  \n",
        "k_means = k_means.fit(X_train)\n",
        "t_batch = time.time() - t0\n",
        "values  = k_means.cluster_centers_.squeeze()\n",
        "labels  = k_means.labels_\n",
        "print(labels)\n",
        "#print(\"Centroides\", k_means.cluster_centers_)\n",
        "#print('Exactitud:', k_means.score(X_test))\n",
        "y_pred  = k_means.predict(X_test)\n",
        "print(y_pred)"
      ],
      "metadata": {
        "colab": {
          "base_uri": "https://localhost:8080/"
        },
        "id": "BlKfTKiTzjFH",
        "outputId": "821438f0-4642-4b69-a043-b149e487161d"
      },
      "execution_count": 174,
      "outputs": [
        {
          "output_type": "stream",
          "name": "stdout",
          "text": [
            "[0 1 0 2 0 0 2 0 2 3 0 1 2 3 1 0 2 1 3 3 2 3 0 3 0 1 3 3 0 1 2 0 0 1 0 0 2\n",
            " 3 0 3 0 1 1 2 3 2 3 2 0]\n",
            "[2 1 1 1 2 3 3 3 3 1 0 1 2 1 2 1 1 2 3 2 0 2 3 1 1 3 2 2 2 0 3 0 2 1 1 2 2\n",
            " 2 3 1 1 1 2 3 0 0 0 3 1 3]\n"
          ]
        }
      ]
    },
    {
      "cell_type": "code",
      "source": [
        "def scatterplot(X_,Y_,centers_,title_,namefile_ ):\n",
        "    fig, ax1 = plt.subplots(figsize=(3.5,3.5))\n",
        "    CYAN = '#76ced6' ; LILA = '#777bd4'; VERDE='#17cb49'; LETRASNARA ='#ff8000'; AZUL='#168fff'; OTROAZUL = \"b-\"; ROJO= \"r-\";c\n",
        "    for k in k_means.cluster_centers_:\n",
        "        x = k[0] ; y = k[1]\n",
        "        plt.plot(x,y,\"o\",color=\"red\",)\n",
        "    plt.title(title_,fontsize='x-large',color = LETRASNARA)\n",
        "    ax1.set_xlabel('radiación hora 6', color=LETRASNARA, fontsize='large')\n",
        "    ax1.set_ylabel('radiación hora 7', color=LETRASNARA, fontsize='large')\n",
        "    plt.scatter(X_, Y_, c=centers_, alpha=0.3)\n",
        "    plt.tick_params(colors = LETRASNARA, which='both')\n",
        "    ax1.spines['bottom'].set_color(LETRASNARA)\n",
        "    ax1.spines['top'   ].set_color(LETRASNARA) \n",
        "    ax1.spines['right' ].set_color(LETRASNARA)\n",
        "    ax1.spines['left'  ].set_color(LETRASNARA)\n",
        "    plt.savefig(namefile_, transparent=True)\n",
        "    plt.show()\n",
        "\n",
        "scatterplot(X_train[:, 0],X_train[:, 1],labels,'Radiación solar \\n K-means \\n(entrenamiento)','fig_t13_' + 'train')\n",
        "scatterplot(X_test[:, 0],X_test[:, 1],y_pred,  'Radiación solar \\n K-means \\n(prueba)',       'fig_t13_' + 'test')"
      ],
      "metadata": {
        "colab": {
          "base_uri": "https://localhost:8080/",
          "height": 593
        },
        "id": "Va2yd_tzXajH",
        "outputId": "2fc9ed22-68ba-4ee7-d075-5c1cebebad2c"
      },
      "execution_count": 176,
      "outputs": [
        {
          "output_type": "display_data",
          "data": {
            "text/plain": [
              "<Figure size 252x252 with 1 Axes>"
            ],
            "image/png": "[encoded data removed]"
          },
          "metadata": {
            "needs_background": "dark"
          }
        },
        {
          "output_type": "display_data",
          "data": {
            "text/plain": [
              "<Figure size 252x252 with 1 Axes>"
            ],
            "image/png": "[encoded data removed]"
          },
          "metadata": {
            "needs_background": "dark"
          }
        }
      ]
    },
    {
      "cell_type": "markdown",
      "source": [
        "# **LVQ**"
      ],
      "metadata": {
        "id": "xvArskkWQfIM"
      }
    },
    {
      "cell_type": "code",
      "source": [
        "#https://mrnuggelz.github.io/sklearn-lvq/auto_examples/plot_rslvq.html\n",
        "#https://mrnuggelz.github.io/sklearn-lvq/auto_examples/index.html\n",
        "#https://mrnuggelz.github.io/sklearn-lvq/modules/generated/sklearn_lvq.GlvqModel.html#sklearn_lvq.GlvqModel\n",
        "#https://mrnuggelz.github.io/sklearn-lvq/auto_examples/plot_glvq.html#sphx-glr-auto-examples-plot-glvq-py\n",
        "print('GLVQ:')\n",
        "#nb_ppc = 100\n",
        "#toy_data = np.append(\n",
        "#    np.random.multivariate_normal([0, 0], np.eye(2) / 2, size=nb_ppc),\n",
        "#    np.random.multivariate_normal([5, 0], np.eye(2) / 2, size=nb_ppc), axis=0)\n",
        "#toy_label = np.append(np.zeros(nb_ppc), np.ones(nb_ppc), axis=0)\n",
        "\n",
        "glvq = GlvqModel()\n",
        "glvq.fit(X_train, labels)\n",
        "plot2d(glvq, values, labels, 1, 'glvq')\n",
        "\n",
        "print('classification accuracy:', glvq.score(values, labels))\n",
        "plt.show()"
      ],
      "metadata": {
        "colab": {
          "base_uri": "https://localhost:8080/",
          "height": 415
        },
        "id": "EfdjNEowIsKx",
        "outputId": "a2277a1f-808d-46d0-ac64-5e3b54df9a7a"
      },
      "execution_count": 144,
      "outputs": [
        {
          "output_type": "stream",
          "name": "stdout",
          "text": [
            "GLVQ:\n"
          ]
        },
        {
          "output_type": "error",
          "ename": "ValueError",
          "evalue": "ignored",
          "traceback": [
            "\u001b[0;31m---------------------------------------------------------------------------\u001b[0m",
            "\u001b[0;31mValueError\u001b[0m                                Traceback (most recent call last)",
            "\u001b[0;32m<ipython-input-144-c841eb07b87b>\u001b[0m in \u001b[0;36m<module>\u001b[0;34m()\u001b[0m\n\u001b[1;32m     12\u001b[0m \u001b[0mglvq\u001b[0m \u001b[0;34m=\u001b[0m \u001b[0mGlvqModel\u001b[0m\u001b[0;34m(\u001b[0m\u001b[0;34m)\u001b[0m\u001b[0;34m\u001b[0m\u001b[0;34m\u001b[0m\u001b[0m\n\u001b[1;32m     13\u001b[0m \u001b[0mglvq\u001b[0m\u001b[0;34m.\u001b[0m\u001b[0mfit\u001b[0m\u001b[0;34m(\u001b[0m\u001b[0mX_train\u001b[0m\u001b[0;34m,\u001b[0m \u001b[0mlabels\u001b[0m\u001b[0;34m)\u001b[0m\u001b[0;34m\u001b[0m\u001b[0;34m\u001b[0m\u001b[0m\n\u001b[0;32m---> 14\u001b[0;31m \u001b[0mplot2d\u001b[0m\u001b[0;34m(\u001b[0m\u001b[0mglvq\u001b[0m\u001b[0;34m,\u001b[0m \u001b[0mvalues\u001b[0m\u001b[0;34m,\u001b[0m \u001b[0mlabels\u001b[0m\u001b[0;34m,\u001b[0m \u001b[0;36m1\u001b[0m\u001b[0;34m,\u001b[0m \u001b[0;34m'glvq'\u001b[0m\u001b[0;34m)\u001b[0m\u001b[0;34m\u001b[0m\u001b[0;34m\u001b[0m\u001b[0m\n\u001b[0m\u001b[1;32m     15\u001b[0m \u001b[0;34m\u001b[0m\u001b[0m\n\u001b[1;32m     16\u001b[0m \u001b[0mprint\u001b[0m\u001b[0;34m(\u001b[0m\u001b[0;34m'classification accuracy:'\u001b[0m\u001b[0;34m,\u001b[0m \u001b[0mglvq\u001b[0m\u001b[0;34m.\u001b[0m\u001b[0mscore\u001b[0m\u001b[0;34m(\u001b[0m\u001b[0mvalues\u001b[0m\u001b[0;34m,\u001b[0m \u001b[0mlabels\u001b[0m\u001b[0;34m)\u001b[0m\u001b[0;34m)\u001b[0m\u001b[0;34m\u001b[0m\u001b[0;34m\u001b[0m\u001b[0m\n",
            "\u001b[0;32m/usr/local/lib/python3.7/dist-packages/sklearn_lvq/utils.py\u001b[0m in \u001b[0;36mplot2d\u001b[0;34m(model, x, y, figure, title)\u001b[0m\n\u001b[1;32m     23\u001b[0m         \u001b[0mthe\u001b[0m \u001b[0mtitle\u001b[0m \u001b[0mto\u001b[0m \u001b[0muse\u001b[0m\u001b[0;34m,\u001b[0m \u001b[0moptional\u001b[0m\u001b[0;34m\u001b[0m\u001b[0;34m\u001b[0m\u001b[0m\n\u001b[1;32m     24\u001b[0m     \"\"\"\n\u001b[0;32m---> 25\u001b[0;31m     \u001b[0mx\u001b[0m\u001b[0;34m,\u001b[0m \u001b[0my\u001b[0m \u001b[0;34m=\u001b[0m \u001b[0mvalidation\u001b[0m\u001b[0;34m.\u001b[0m\u001b[0mcheck_X_y\u001b[0m\u001b[0;34m(\u001b[0m\u001b[0mx\u001b[0m\u001b[0;34m,\u001b[0m \u001b[0my\u001b[0m\u001b[0;34m)\u001b[0m\u001b[0;34m\u001b[0m\u001b[0;34m\u001b[0m\u001b[0m\n\u001b[0m\u001b[1;32m     26\u001b[0m     \u001b[0mdim\u001b[0m \u001b[0;34m=\u001b[0m \u001b[0;36m2\u001b[0m\u001b[0;34m\u001b[0m\u001b[0;34m\u001b[0m\u001b[0m\n\u001b[1;32m     27\u001b[0m     \u001b[0mf\u001b[0m \u001b[0;34m=\u001b[0m \u001b[0mplt\u001b[0m\u001b[0;34m.\u001b[0m\u001b[0mfigure\u001b[0m\u001b[0;34m(\u001b[0m\u001b[0mfigure\u001b[0m\u001b[0;34m)\u001b[0m\u001b[0;34m\u001b[0m\u001b[0;34m\u001b[0m\u001b[0m\n",
            "\u001b[0;32m/usr/local/lib/python3.7/dist-packages/sklearn/utils/validation.py\u001b[0m in \u001b[0;36mcheck_X_y\u001b[0;34m(X, y, accept_sparse, accept_large_sparse, dtype, order, copy, force_all_finite, ensure_2d, allow_nd, multi_output, ensure_min_samples, ensure_min_features, y_numeric, estimator)\u001b[0m\n\u001b[1;32m    979\u001b[0m     \u001b[0my\u001b[0m \u001b[0;34m=\u001b[0m \u001b[0m_check_y\u001b[0m\u001b[0;34m(\u001b[0m\u001b[0my\u001b[0m\u001b[0;34m,\u001b[0m \u001b[0mmulti_output\u001b[0m\u001b[0;34m=\u001b[0m\u001b[0mmulti_output\u001b[0m\u001b[0;34m,\u001b[0m \u001b[0my_numeric\u001b[0m\u001b[0;34m=\u001b[0m\u001b[0my_numeric\u001b[0m\u001b[0;34m)\u001b[0m\u001b[0;34m\u001b[0m\u001b[0;34m\u001b[0m\u001b[0m\n\u001b[1;32m    980\u001b[0m \u001b[0;34m\u001b[0m\u001b[0m\n\u001b[0;32m--> 981\u001b[0;31m     \u001b[0mcheck_consistent_length\u001b[0m\u001b[0;34m(\u001b[0m\u001b[0mX\u001b[0m\u001b[0;34m,\u001b[0m \u001b[0my\u001b[0m\u001b[0;34m)\u001b[0m\u001b[0;34m\u001b[0m\u001b[0;34m\u001b[0m\u001b[0m\n\u001b[0m\u001b[1;32m    982\u001b[0m \u001b[0;34m\u001b[0m\u001b[0m\n\u001b[1;32m    983\u001b[0m     \u001b[0;32mreturn\u001b[0m \u001b[0mX\u001b[0m\u001b[0;34m,\u001b[0m \u001b[0my\u001b[0m\u001b[0;34m\u001b[0m\u001b[0;34m\u001b[0m\u001b[0m\n",
            "\u001b[0;32m/usr/local/lib/python3.7/dist-packages/sklearn/utils/validation.py\u001b[0m in \u001b[0;36mcheck_consistent_length\u001b[0;34m(*arrays)\u001b[0m\n\u001b[1;32m    332\u001b[0m         raise ValueError(\n\u001b[1;32m    333\u001b[0m             \u001b[0;34m\"Found input variables with inconsistent numbers of samples: %r\"\u001b[0m\u001b[0;34m\u001b[0m\u001b[0;34m\u001b[0m\u001b[0m\n\u001b[0;32m--> 334\u001b[0;31m             \u001b[0;34m%\u001b[0m \u001b[0;34m[\u001b[0m\u001b[0mint\u001b[0m\u001b[0;34m(\u001b[0m\u001b[0ml\u001b[0m\u001b[0;34m)\u001b[0m \u001b[0;32mfor\u001b[0m \u001b[0ml\u001b[0m \u001b[0;32min\u001b[0m \u001b[0mlengths\u001b[0m\u001b[0;34m]\u001b[0m\u001b[0;34m\u001b[0m\u001b[0;34m\u001b[0m\u001b[0m\n\u001b[0m\u001b[1;32m    335\u001b[0m         )\n\u001b[1;32m    336\u001b[0m \u001b[0;34m\u001b[0m\u001b[0m\n",
            "\u001b[0;31mValueError\u001b[0m: Found input variables with inconsistent numbers of samples: [4, 49]"
          ]
        }
      ]
    },
    {
      "cell_type": "markdown",
      "source": [
        "# **GaussianMixture**"
      ],
      "metadata": {
        "id": "j8ileRb-bcB8"
      }
    },
    {
      "cell_type": "code",
      "source": [
        "#https://scikit-learn.org/stable/auto_examples/cluster/plot_cluster_comparison.html#sphx-glr-auto-examples-cluster-plot-cluster-comparison-py\n",
        "#https://scikit-learn.org/stable/modules/generated/sklearn.mixture.GaussianMixture.html\n",
        "gm = GaussianMixture(n_components=2, random_state=0).fit(X_train)\n",
        "gm.means_ \n",
        "xpred = gm.predict(X_test)"
      ],
      "metadata": {
        "id": "yia3y7oZcHMR"
      },
      "execution_count": null,
      "outputs": []
    }
  ]
}
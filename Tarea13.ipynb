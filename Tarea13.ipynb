{
  "nbformat": 4,
  "nbformat_minor": 0,
  "metadata": {
    "colab": {
      "name": "Tarea13.ipynb",
      "provenance": [],
      "authorship_tag": "ABX9TyNSNrR/NZEp6Wa2MapEkxTt",
      "include_colab_link": true
    },
    "kernelspec": {
      "name": "python3",
      "display_name": "Python 3"
    },
    "language_info": {
      "name": "python"
    }
  },
  "cells": [
    {
      "cell_type": "markdown",
      "metadata": {
        "id": "view-in-github",
        "colab_type": "text"
      },
      "source": [
        "<a href=\"https://colab.research.google.com/github/urieliram/statistical/blob/main/Tarea13.ipynb\" target=\"_parent\"><img src=\"https://colab.research.google.com/assets/colab-badge.svg\" alt=\"Open In Colab\"/></a>"
      ]
    },
    {
      "cell_type": "code",
      "source": [
        "pip install sklearn-lvq"
      ],
      "metadata": {
        "colab": {
          "base_uri": "https://localhost:8080/"
        },
        "id": "IyRXG1rHNDKz",
        "outputId": "a8a23bae-7cb2-41be-b192-f9e57d61d476"
      },
      "execution_count": 56,
      "outputs": [
        {
          "output_type": "stream",
          "name": "stdout",
          "text": [
            "Requirement already satisfied: sklearn-lvq in /usr/local/lib/python3.7/dist-packages (1.1.1)\n",
            "Requirement already satisfied: numpy>=1.9.1 in /usr/local/lib/python3.7/dist-packages (from sklearn-lvq) (1.21.5)\n",
            "Requirement already satisfied: scikit-learn>=0.17 in /usr/local/lib/python3.7/dist-packages (from sklearn-lvq) (1.0.2)\n",
            "Requirement already satisfied: threadpoolctl>=2.0.0 in /usr/local/lib/python3.7/dist-packages (from scikit-learn>=0.17->sklearn-lvq) (3.1.0)\n",
            "Requirement already satisfied: scipy>=1.1.0 in /usr/local/lib/python3.7/dist-packages (from scikit-learn>=0.17->sklearn-lvq) (1.4.1)\n",
            "Requirement already satisfied: joblib>=0.11 in /usr/local/lib/python3.7/dist-packages (from scikit-learn>=0.17->sklearn-lvq) (1.1.0)\n"
          ]
        }
      ]
    },
    {
      "cell_type": "code",
      "source": [
        "import time\n",
        "import pandas as pd\n",
        "import numpy as np\n",
        "import matplotlib.pyplot as plt\n",
        "from sklearn.preprocessing import StandardScaler\n",
        "from sklearn.model_selection import train_test_split\n",
        "from sklearn.cluster import MiniBatchKMeans, KMeans\n",
        "from sklearn.metrics.pairwise import pairwise_distances_argmin\n",
        "from sklearn_lvq import GlvqModel\n",
        "from sklearn_lvq.utils import plot2d\n",
        "from sklearn.mixture import GaussianMixture"
      ],
      "metadata": {
        "id": "ZQdJWwrxEQru"
      },
      "execution_count": 57,
      "outputs": []
    },
    {
      "cell_type": "code",
      "source": [
        "df    = pd.read_csv('cluster.csv')\n",
        "X = df[['x1','x2','x3','x4','x5','x6','x7','x8','x9','x10','x11']].to_numpy()\n",
        "X = df[['x1','x2']].to_numpy()\n",
        "\n",
        "#Normalizing the data\n",
        "#sc = StandardScaler()\n",
        "#X = sc.fit_transform(X)\n",
        "#y = sc.fit_transform(Y)\n",
        "\n",
        "## Crea conjuntos de datos de entrenamiento y prueba\n",
        "X_train, X_test = train_test_split(X, test_size=0.5,random_state=5) #"
      ],
      "metadata": {
        "id": "Ss8UZbcNy6Bf"
      },
      "execution_count": 84,
      "outputs": []
    },
    {
      "cell_type": "markdown",
      "source": [
        "# **K-means**\n"
      ],
      "metadata": {
        "id": "F9srWIVJDgzE"
      }
    },
    {
      "cell_type": "code",
      "source": [
        "t0 = time.time()\n",
        "n_clusters = 4\n",
        "k_means = KMeans(init='k-means++', n_clusters=n_clusters, n_init=10) # una variante MiniBatchKMeans  \n",
        "k_means = k_means.fit(X_train)\n",
        "t_batch = time.time() - t0\n",
        "values  = k_means.cluster_centers_.squeeze()\n",
        "labels  = k_means.labels_\n",
        "print(labels)\n",
        "#print(\"Centroides\", k_means.cluster_centers_)\n",
        "#print('Exactitud:', k_means.score(X_test))\n",
        "y_pred  = k_means.predict(X_test)\n",
        "print(y_pred)"
      ],
      "metadata": {
        "colab": {
          "base_uri": "https://localhost:8080/"
        },
        "id": "BlKfTKiTzjFH",
        "outputId": "c1b300b6-1d54-4d69-b4c9-24747db82261"
      },
      "execution_count": 100,
      "outputs": [
        {
          "output_type": "stream",
          "name": "stdout",
          "text": [
            "[0 1 0 3 0 0 3 0 3 2 0 1 3 2 1 0 3 1 2 2 3 2 0 2 0 1 2 2 0 1 3 0 0 1 0 0 3\n",
            " 2 0 2 0 1 1 3 2 3 2 3 0]\n",
            "[3 1 1 1 3 2 2 2 2 1 0 1 3 1 3 1 1 3 2 3 0 3 2 1 1 2 3 3 3 0 2 0 3 1 1 3 3\n",
            " 3 2 1 1 1 3 2 0 0 0 2 1 2]\n"
          ]
        }
      ]
    },
    {
      "cell_type": "code",
      "source": [
        "plt.figure(figsize=(4, 4))\n",
        "for k in k_means.cluster_centers_:\n",
        "    x = k[0] ; y = k[1]\n",
        "    plt.plot(x,y,\"o\",color=\"red\",)\n",
        "plt.scatter(X_test[:, 0], X_test[:, 1], c=y_pred, alpha=0.3)\n",
        "plt.show()\n",
        "\n",
        "plt.figure(figsize=(4, 4))\n",
        "for k in k_means.cluster_centers_:\n",
        "    x = k[0] ; y = k[1]\n",
        "    plt.plot(x,y,\"o\",color=\"red\",)\n",
        "plt.scatter(X_train[:, 0], X_train[:, 1], c=labels, alpha=0.3)\n",
        "plt.show()"
      ],
      "metadata": {
        "colab": {
          "base_uri": "https://localhost:8080/",
          "height": 513
        },
        "id": "Va2yd_tzXajH",
        "outputId": "86f6b564-3acf-4b7a-aa3b-d2fdefeda620"
      },
      "execution_count": 101,
      "outputs": [
        {
          "output_type": "display_data",
          "data": {
            "text/plain": [
              "<Figure size 288x288 with 1 Axes>"
            ],
            "image/png": "[encoded data removed]"
          },
          "metadata": {
            "needs_background": "light"
          }
        },
        {
          "output_type": "display_data",
          "data": {
            "text/plain": [
              "<Figure size 288x288 with 1 Axes>"
            ],
            "image/png": "[encoded data removed]"
          },
          "metadata": {
            "needs_background": "light"
          }
        }
      ]
    },
    {
      "cell_type": "markdown",
      "source": [
        "# **LVQ**"
      ],
      "metadata": {
        "id": "xvArskkWQfIM"
      }
    },
    {
      "cell_type": "code",
      "source": [
        "#https://mrnuggelz.github.io/sklearn-lvq/auto_examples/plot_rslvq.html\n",
        "#https://mrnuggelz.github.io/sklearn-lvq/auto_examples/index.html\n",
        "#https://mrnuggelz.github.io/sklearn-lvq/modules/generated/sklearn_lvq.GlvqModel.html#sklearn_lvq.GlvqModel\n",
        "#https://mrnuggelz.github.io/sklearn-lvq/auto_examples/plot_glvq.html#sphx-glr-auto-examples-plot-glvq-py\n",
        "print('GLVQ:')\n",
        "#nb_ppc = 100\n",
        "#toy_data = np.append(\n",
        "#    np.random.multivariate_normal([0, 0], np.eye(2) / 2, size=nb_ppc),\n",
        "#    np.random.multivariate_normal([5, 0], np.eye(2) / 2, size=nb_ppc), axis=0)\n",
        "#toy_label = np.append(np.zeros(nb_ppc), np.ones(nb_ppc), axis=0)\n",
        "\n",
        "glvq = GlvqModel()\n",
        "glvq.fit(X_train, labels)\n",
        "plot2d(glvq, values, labels, 1, 'glvq')\n",
        "\n",
        "print('classification accuracy:', glvq.score(values, labels))\n",
        "plt.show()"
      ],
      "metadata": {
        "colab": {
          "base_uri": "https://localhost:8080/",
          "height": 415
        },
        "id": "EfdjNEowIsKx",
        "outputId": "d33c8acb-c94f-45f6-9a24-ff092369df92"
      },
      "execution_count": 61,
      "outputs": [
        {
          "output_type": "stream",
          "name": "stdout",
          "text": [
            "GLVQ:\n"
          ]
        },
        {
          "output_type": "error",
          "ename": "ValueError",
          "evalue": "ignored",
          "traceback": [
            "\u001b[0;31m---------------------------------------------------------------------------\u001b[0m",
            "\u001b[0;31mValueError\u001b[0m                                Traceback (most recent call last)",
            "\u001b[0;32m<ipython-input-61-c841eb07b87b>\u001b[0m in \u001b[0;36m<module>\u001b[0;34m()\u001b[0m\n\u001b[1;32m     12\u001b[0m \u001b[0mglvq\u001b[0m \u001b[0;34m=\u001b[0m \u001b[0mGlvqModel\u001b[0m\u001b[0;34m(\u001b[0m\u001b[0;34m)\u001b[0m\u001b[0;34m\u001b[0m\u001b[0;34m\u001b[0m\u001b[0m\n\u001b[1;32m     13\u001b[0m \u001b[0mglvq\u001b[0m\u001b[0;34m.\u001b[0m\u001b[0mfit\u001b[0m\u001b[0;34m(\u001b[0m\u001b[0mX_train\u001b[0m\u001b[0;34m,\u001b[0m \u001b[0mlabels\u001b[0m\u001b[0;34m)\u001b[0m\u001b[0;34m\u001b[0m\u001b[0;34m\u001b[0m\u001b[0m\n\u001b[0;32m---> 14\u001b[0;31m \u001b[0mplot2d\u001b[0m\u001b[0;34m(\u001b[0m\u001b[0mglvq\u001b[0m\u001b[0;34m,\u001b[0m \u001b[0mvalues\u001b[0m\u001b[0;34m,\u001b[0m \u001b[0mlabels\u001b[0m\u001b[0;34m,\u001b[0m \u001b[0;36m1\u001b[0m\u001b[0;34m,\u001b[0m \u001b[0;34m'glvq'\u001b[0m\u001b[0;34m)\u001b[0m\u001b[0;34m\u001b[0m\u001b[0;34m\u001b[0m\u001b[0m\n\u001b[0m\u001b[1;32m     15\u001b[0m \u001b[0;34m\u001b[0m\u001b[0m\n\u001b[1;32m     16\u001b[0m \u001b[0mprint\u001b[0m\u001b[0;34m(\u001b[0m\u001b[0;34m'classification accuracy:'\u001b[0m\u001b[0;34m,\u001b[0m \u001b[0mglvq\u001b[0m\u001b[0;34m.\u001b[0m\u001b[0mscore\u001b[0m\u001b[0;34m(\u001b[0m\u001b[0mvalues\u001b[0m\u001b[0;34m,\u001b[0m \u001b[0mlabels\u001b[0m\u001b[0;34m)\u001b[0m\u001b[0;34m)\u001b[0m\u001b[0;34m\u001b[0m\u001b[0;34m\u001b[0m\u001b[0m\n",
            "\u001b[0;32m/usr/local/lib/python3.7/dist-packages/sklearn_lvq/utils.py\u001b[0m in \u001b[0;36mplot2d\u001b[0;34m(model, x, y, figure, title)\u001b[0m\n\u001b[1;32m     23\u001b[0m         \u001b[0mthe\u001b[0m \u001b[0mtitle\u001b[0m \u001b[0mto\u001b[0m \u001b[0muse\u001b[0m\u001b[0;34m,\u001b[0m \u001b[0moptional\u001b[0m\u001b[0;34m\u001b[0m\u001b[0;34m\u001b[0m\u001b[0m\n\u001b[1;32m     24\u001b[0m     \"\"\"\n\u001b[0;32m---> 25\u001b[0;31m     \u001b[0mx\u001b[0m\u001b[0;34m,\u001b[0m \u001b[0my\u001b[0m \u001b[0;34m=\u001b[0m \u001b[0mvalidation\u001b[0m\u001b[0;34m.\u001b[0m\u001b[0mcheck_X_y\u001b[0m\u001b[0;34m(\u001b[0m\u001b[0mx\u001b[0m\u001b[0;34m,\u001b[0m \u001b[0my\u001b[0m\u001b[0;34m)\u001b[0m\u001b[0;34m\u001b[0m\u001b[0;34m\u001b[0m\u001b[0m\n\u001b[0m\u001b[1;32m     26\u001b[0m     \u001b[0mdim\u001b[0m \u001b[0;34m=\u001b[0m \u001b[0;36m2\u001b[0m\u001b[0;34m\u001b[0m\u001b[0;34m\u001b[0m\u001b[0m\n\u001b[1;32m     27\u001b[0m     \u001b[0mf\u001b[0m \u001b[0;34m=\u001b[0m \u001b[0mplt\u001b[0m\u001b[0;34m.\u001b[0m\u001b[0mfigure\u001b[0m\u001b[0;34m(\u001b[0m\u001b[0mfigure\u001b[0m\u001b[0;34m)\u001b[0m\u001b[0;34m\u001b[0m\u001b[0;34m\u001b[0m\u001b[0m\n",
            "\u001b[0;32m/usr/local/lib/python3.7/dist-packages/sklearn/utils/validation.py\u001b[0m in \u001b[0;36mcheck_X_y\u001b[0;34m(X, y, accept_sparse, accept_large_sparse, dtype, order, copy, force_all_finite, ensure_2d, allow_nd, multi_output, ensure_min_samples, ensure_min_features, y_numeric, estimator)\u001b[0m\n\u001b[1;32m    979\u001b[0m     \u001b[0my\u001b[0m \u001b[0;34m=\u001b[0m \u001b[0m_check_y\u001b[0m\u001b[0;34m(\u001b[0m\u001b[0my\u001b[0m\u001b[0;34m,\u001b[0m \u001b[0mmulti_output\u001b[0m\u001b[0;34m=\u001b[0m\u001b[0mmulti_output\u001b[0m\u001b[0;34m,\u001b[0m \u001b[0my_numeric\u001b[0m\u001b[0;34m=\u001b[0m\u001b[0my_numeric\u001b[0m\u001b[0;34m)\u001b[0m\u001b[0;34m\u001b[0m\u001b[0;34m\u001b[0m\u001b[0m\n\u001b[1;32m    980\u001b[0m \u001b[0;34m\u001b[0m\u001b[0m\n\u001b[0;32m--> 981\u001b[0;31m     \u001b[0mcheck_consistent_length\u001b[0m\u001b[0;34m(\u001b[0m\u001b[0mX\u001b[0m\u001b[0;34m,\u001b[0m \u001b[0my\u001b[0m\u001b[0;34m)\u001b[0m\u001b[0;34m\u001b[0m\u001b[0;34m\u001b[0m\u001b[0m\n\u001b[0m\u001b[1;32m    982\u001b[0m \u001b[0;34m\u001b[0m\u001b[0m\n\u001b[1;32m    983\u001b[0m     \u001b[0;32mreturn\u001b[0m \u001b[0mX\u001b[0m\u001b[0;34m,\u001b[0m \u001b[0my\u001b[0m\u001b[0;34m\u001b[0m\u001b[0;34m\u001b[0m\u001b[0m\n",
            "\u001b[0;32m/usr/local/lib/python3.7/dist-packages/sklearn/utils/validation.py\u001b[0m in \u001b[0;36mcheck_consistent_length\u001b[0;34m(*arrays)\u001b[0m\n\u001b[1;32m    332\u001b[0m         raise ValueError(\n\u001b[1;32m    333\u001b[0m             \u001b[0;34m\"Found input variables with inconsistent numbers of samples: %r\"\u001b[0m\u001b[0;34m\u001b[0m\u001b[0;34m\u001b[0m\u001b[0m\n\u001b[0;32m--> 334\u001b[0;31m             \u001b[0;34m%\u001b[0m \u001b[0;34m[\u001b[0m\u001b[0mint\u001b[0m\u001b[0;34m(\u001b[0m\u001b[0ml\u001b[0m\u001b[0;34m)\u001b[0m \u001b[0;32mfor\u001b[0m \u001b[0ml\u001b[0m \u001b[0;32min\u001b[0m \u001b[0mlengths\u001b[0m\u001b[0;34m]\u001b[0m\u001b[0;34m\u001b[0m\u001b[0;34m\u001b[0m\u001b[0m\n\u001b[0m\u001b[1;32m    335\u001b[0m         )\n\u001b[1;32m    336\u001b[0m \u001b[0;34m\u001b[0m\u001b[0m\n",
            "\u001b[0;31mValueError\u001b[0m: Found input variables with inconsistent numbers of samples: [4, 29]"
          ]
        }
      ]
    },
    {
      "cell_type": "markdown",
      "source": [
        "# **GaussianMixture**"
      ],
      "metadata": {
        "id": "j8ileRb-bcB8"
      }
    },
    {
      "cell_type": "code",
      "source": [
        "#https://scikit-learn.org/stable/auto_examples/cluster/plot_cluster_comparison.html#sphx-glr-auto-examples-cluster-plot-cluster-comparison-py\n",
        "#https://scikit-learn.org/stable/modules/generated/sklearn.mixture.GaussianMixture.html\n",
        "gm = GaussianMixture(n_components=2, random_state=0).fit(X_train)\n",
        "gm.means_ \n",
        "xpred = gm.predict(X_test)"
      ],
      "metadata": {
        "id": "yia3y7oZcHMR"
      },
      "execution_count": null,
      "outputs": []
    }
  ]
}
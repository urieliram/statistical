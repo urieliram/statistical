{
  "nbformat": 4,
  "nbformat_minor": 0,
  "metadata": {
    "colab": {
      "name": "Tarea4.ipynb",
      "provenance": [],
      "collapsed_sections": [],
      "authorship_tag": "ABX9TyM1NWIbXKaiJ3P5LG5UfT0N",
      "include_colab_link": true
    },
    "kernelspec": {
      "name": "python3",
      "display_name": "Python 3"
    },
    "language_info": {
      "name": "python"
    }
  },
  "cells": [
    {
      "cell_type": "markdown",
      "metadata": {
        "id": "view-in-github",
        "colab_type": "text"
      },
      "source": [
        "<a href=\"https://colab.research.google.com/github/urieliram/statistical/blob/main/Tarea4.ipynb\" target=\"_parent\"><img src=\"https://colab.research.google.com/assets/colab-badge.svg\" alt=\"Open In Colab\"/></a>"
      ]
    },
    {
      "cell_type": "markdown",
      "source": [
        "# Tarea 4\n",
        "*Pick one of the examples of the chapter that use the data of the book and replicate it in Python. Then, apply the steps in your own data.*\n",
        "\n",
        "Los datos utilizados en este cuaderno están disponibles aquí: [datasets](https://drive.google.com/drive/folders/159GnBJQDxTY9oYqPBZzdNghyb4Gd9pDS?usp=sharing)"
      ],
      "metadata": {
        "id": "rNdNNQ6Bg4Bj"
      }
    },
    {
      "cell_type": "code",
      "source": [
        "import numpy as np\n",
        "import pandas as pd\n",
        "import itertools\n",
        "import warnings\n",
        "%matplotlib inline\n",
        "import matplotlib.pyplot as plt\n",
        "from sklearn.linear_model import LinearRegression, RidgeCV, LassoCV, ElasticNetCV, LarsCV\n",
        "from sklearn.model_selection import train_test_split\n",
        "from sklearn.metrics import mean_absolute_error, mean_squared_error,confusion_matrix, accuracy_score, r2_score\n",
        "from sklearn.cross_decomposition import PLSRegression\n",
        "from sklearn.decomposition import PCA\n",
        "from sklearn.pipeline import Pipeline\n",
        "from sklearn.model_selection import GridSearchCV\n",
        "from sklearn.discriminant_analysis import LinearDiscriminantAnalysis\n",
        "from sklearn.discriminant_analysis import QuadraticDiscriminantAnalysis\n",
        "from sklearn.preprocessing import StandardScaler\n",
        "import scipy.stats\n",
        "import statsmodels.api as sm\n",
        "import statsmodels.tools.eval_measures as bias\n",
        "import seaborn as sns\n",
        "warnings.filterwarnings(\"ignore\")"
      ],
      "metadata": {
        "id": "9Oijys50y_S7"
      },
      "execution_count": 1348,
      "outputs": []
    },
    {
      "cell_type": "markdown",
      "source": [
        "## Regresión logística en predicción de enfermedades cardiacas\n",
        "A continuación repetiremos el ejemplo 4.4.2 de predicción de enfermedad cardiaca en Sudafrica **(South African Heart Disease)** del [libro](https://link.springer.com/book/10.1007/978-0-387-84858-7)."
      ],
      "metadata": {
        "id": "VNF249dj3PvP"
      }
    },
    {
      "cell_type": "markdown",
      "source": [
        "Iniciamos cargando los datos de entrenamiento y almacenamos en `y_train`:"
      ],
      "metadata": {
        "id": "0hheNiw834vE"
      }
    },
    {
      "cell_type": "code",
      "source": [
        "## Procesamos datos de entrenamiento \n",
        "df = pd.read_csv('SAheart.csv')\n",
        "df=df.assign(const=1)\n",
        "print(df)\n",
        "dfy = df['chd']  ## Outcome\n",
        "dfx = df[['const','sbp','tobacco','ldl','adiposity','famhist','obesity','alcohol','age']]  ## Predictors\n",
        "\n",
        "## Procesamos datos de prueba \n",
        "dfyt = df['chd']  ## Outcome\n",
        "dfxt = df[['const','sbp','tobacco','ldl','adiposity','famhist','obesity','alcohol','age']]  ## Predictors"
      ],
      "metadata": {
        "colab": {
          "base_uri": "https://localhost:8080/"
        },
        "id": "DE3NhzSJ3PSI",
        "outputId": "171587e1-7df4-4a71-94c6-d393ad6ca009"
      },
      "execution_count": 1349,
      "outputs": [
        {
          "output_type": "stream",
          "name": "stdout",
          "text": [
            "     row.names  sbp  tobacco    ldl  ...  alcohol  age  chd  const\n",
            "0            1  160    12.00   5.73  ...    97.20   52    1      1\n",
            "1            2  144     0.01   4.41  ...     2.06   63    1      1\n",
            "2            3  118     0.08   3.48  ...     3.81   46    0      1\n",
            "3            4  170     7.50   6.41  ...    24.26   58    1      1\n",
            "4            5  134    13.60   3.50  ...    57.34   49    1      1\n",
            "..         ...  ...      ...    ...  ...      ...  ...  ...    ...\n",
            "457        459  214     0.40   5.98  ...     0.00   58    0      1\n",
            "458        460  182     4.20   4.41  ...    18.72   52    1      1\n",
            "459        461  108     3.00   1.59  ...    26.64   55    0      1\n",
            "460        462  118     5.40  11.61  ...    23.97   40    0      1\n",
            "461        463  132     0.00   4.82  ...     0.00   46    1      1\n",
            "\n",
            "[462 rows x 12 columns]\n"
          ]
        }
      ]
    },
    {
      "cell_type": "code",
      "source": [
        "X_train = dfx.to_numpy()   \n",
        "X_train = sm.add_constant(X_train)\n",
        "y_train = dfy.to_numpy()  \n",
        "X_test  = dfxt.to_numpy()   \n",
        "X_test = sm.add_constant(X_train)\n",
        "y_test  = dfyt.to_numpy()   \n",
        "#X_train.tofile('sample.csv',sep=',')"
      ],
      "metadata": {
        "id": "BVyOCV1VixLw"
      },
      "execution_count": 1350,
      "outputs": []
    },
    {
      "cell_type": "markdown",
      "source": [
        "A continuación, obtenemos un modelo de predicción de los datos de entrenamiento usando regresión logística de la librería **statsmodels**. Como podemos ver algunas de las variables resultan ser no significativas con un valor P menor que 0.05. Tal es el caso de *alcohol, obesity, adiposity* y *sbp*. "
      ],
      "metadata": {
        "id": "m7ifENmLcu4R"
      }
    },
    {
      "cell_type": "code",
      "source": [
        "model = sm.Logit(dfy, dfx)\n",
        "results = model.fit()\n",
        "print(results.summary())"
      ],
      "metadata": {
        "colab": {
          "base_uri": "https://localhost:8080/"
        },
        "id": "Xhj6XmIM_8Wq",
        "outputId": "fd4600bc-87fe-4775-da56-1cf271e6ac2a"
      },
      "execution_count": 1351,
      "outputs": [
        {
          "output_type": "stream",
          "name": "stdout",
          "text": [
            "Optimization terminated successfully.\n",
            "         Current function value: 0.522778\n",
            "         Iterations 6\n",
            "                           Logit Regression Results                           \n",
            "==============================================================================\n",
            "Dep. Variable:                    chd   No. Observations:                  462\n",
            "Model:                          Logit   Df Residuals:                      453\n",
            "Method:                           MLE   Df Model:                            8\n",
            "Date:                Sat, 29 Jan 2022   Pseudo R-squ.:                  0.1897\n",
            "Time:                        21:21:18   Log-Likelihood:                -241.52\n",
            "converged:                       True   LL-Null:                       -298.05\n",
            "Covariance Type:            nonrobust   LLR p-value:                 8.931e-21\n",
            "==============================================================================\n",
            "                 coef    std err          z      P>|z|      [0.025      0.975]\n",
            "------------------------------------------------------------------------------\n",
            "const         -3.9658      1.068     -3.715      0.000      -6.058      -1.873\n",
            "sbp            0.0056      0.006      0.996      0.319      -0.005       0.017\n",
            "tobacco        0.0795      0.026      3.033      0.002       0.028       0.131\n",
            "ldl            0.1803      0.059      3.072      0.002       0.065       0.295\n",
            "adiposity      0.0101      0.028      0.357      0.721      -0.046       0.066\n",
            "famhist        0.9407      0.225      4.181      0.000       0.500       1.382\n",
            "obesity       -0.0457      0.043     -1.067      0.286      -0.130       0.038\n",
            "alcohol        0.0005      0.004      0.118      0.906      -0.008       0.009\n",
            "age            0.0404      0.012      3.437      0.001       0.017       0.063\n",
            "==============================================================================\n"
          ]
        }
      ]
    },
    {
      "cell_type": "markdown",
      "source": [
        "De acuerdo con el libro, se aplicó una técnica de reducción de variables paso a paso **(Stepwise)** en el se encuentra un subconjunto de las variables que son suficientes para explicar el efecto conjunto de los predictores sobre la variable *chd*. El procedimiento descarta el coeficiente P menos significativo `pmenor` y el modelo se reajusta. Esto se hace repetidamente hasta que no se puedan eliminar más variables del modelo.\n",
        "Los resultados obtenidos en la tabla coinciden con los del libro.\n"
      ],
      "metadata": {
        "id": "_8jPgHMXD8tS"
      }
    },
    {
      "cell_type": "code",
      "source": [
        "# Se ordenan los valores p y se selecciona el más pequeño\n",
        "p_values = results.pvalues.sort_values(ascending = False)\n",
        "pmenor = p_values.head(1)\n",
        "\n",
        "print(\"menorpi.item() \", pmenor.item())\n",
        "\n",
        "while pmenor.item() > 0.01:\n",
        "    print(pmenor.index.tolist())\n",
        "    dfx = dfx.drop(pmenor.index.tolist(), axis=1)\n",
        "    model = sm.Logit(dfy, dfx)\n",
        "    model = model.fit()\n",
        "    # Se ordenan los valores p y se selecciona el más pequeño\n",
        "    p_values = model.pvalues.sort_values(ascending = False)\n",
        "    pmenor = p_values.head(1)\n",
        "\n",
        "print(model.summary())"
      ],
      "metadata": {
        "colab": {
          "base_uri": "https://localhost:8080/"
        },
        "id": "Rn0rQURKD8Ok",
        "outputId": "9e53fdea-b679-4af8-cf6a-4c63715bf5cf"
      },
      "execution_count": 1352,
      "outputs": [
        {
          "output_type": "stream",
          "name": "stdout",
          "text": [
            "menorpi.item()  0.9062256410652616\n",
            "['alcohol']\n",
            "Optimization terminated successfully.\n",
            "         Current function value: 0.522793\n",
            "         Iterations 6\n",
            "['adiposity']\n",
            "Optimization terminated successfully.\n",
            "         Current function value: 0.522936\n",
            "         Iterations 6\n",
            "['sbp']\n",
            "Optimization terminated successfully.\n",
            "         Current function value: 0.524131\n",
            "         Iterations 6\n",
            "['obesity']\n",
            "Optimization terminated successfully.\n",
            "         Current function value: 0.525372\n",
            "         Iterations 6\n",
            "                           Logit Regression Results                           \n",
            "==============================================================================\n",
            "Dep. Variable:                    chd   No. Observations:                  462\n",
            "Model:                          Logit   Df Residuals:                      457\n",
            "Method:                           MLE   Df Model:                            4\n",
            "Date:                Sat, 29 Jan 2022   Pseudo R-squ.:                  0.1856\n",
            "Time:                        21:21:18   Log-Likelihood:                -242.72\n",
            "converged:                       True   LL-Null:                       -298.05\n",
            "Covariance Type:            nonrobust   LLR p-value:                 5.251e-23\n",
            "==============================================================================\n",
            "                 coef    std err          z      P>|z|      [0.025      0.975]\n",
            "------------------------------------------------------------------------------\n",
            "const         -4.2043      0.498     -8.436      0.000      -5.181      -3.228\n",
            "tobacco        0.0807      0.026      3.163      0.002       0.031       0.131\n",
            "ldl            0.1676      0.054      3.093      0.002       0.061       0.274\n",
            "famhist        0.9241      0.223      4.141      0.000       0.487       1.362\n",
            "age            0.0440      0.010      4.520      0.000       0.025       0.063\n",
            "==============================================================================\n"
          ]
        }
      ]
    },
    {
      "cell_type": "markdown",
      "source": [
        "Finalmente, evaluamos el desempeño del modelo calculando la exactitud y la matriz de confusión."
      ],
      "metadata": {
        "id": "7FK3R082ju6t"
      }
    },
    {
      "cell_type": "code",
      "source": [
        "yhat       = model.predict(dfx)\n",
        "prediction = list(map(round, yhat))\n",
        "\n",
        "# Calculamos la matriz de confusión\n",
        "cm = confusion_matrix(dfy, prediction)\n",
        "print (\"Confusion Matrix : \\n\", cm)\n",
        " \n",
        "# Exactitud del modelo\n",
        "print('Test accuracy = ', accuracy_score(dfy, prediction))"
      ],
      "metadata": {
        "colab": {
          "base_uri": "https://localhost:8080/"
        },
        "id": "fcYRj8Y6donW",
        "outputId": "3c8fe177-7004-4393-d9b1-6b36463d5274"
      },
      "execution_count": 1353,
      "outputs": [
        {
          "output_type": "stream",
          "name": "stdout",
          "text": [
            "Confusion Matrix : \n",
            " [[254  48]\n",
            " [ 76  84]]\n",
            "Test accuracy =  0.7316017316017316\n"
          ]
        }
      ]
    },
    {
      "cell_type": "code",
      "source": [
        "def confussion(cm):\n",
        "    fig, ax = plt.subplots(figsize=(8, 8))\n",
        "    ax.imshow(cm)\n",
        "    ax.grid(False)\n",
        "    ax.xaxis.set(ticks=(0, 1), ticklabels=('Predicted 0s', 'Predicted 1s'))\n",
        "    ax.yaxis.set(ticks=(0, 1), ticklabels=('Actual 0s', 'Actual 1s'))\n",
        "    ax.set_ylim(1.5, -0.5)\n",
        "    for i in range(2):\n",
        "        for j in range(2):\n",
        "            ax.text(j, i, cm[i, j], ha='center', va='center', color='red')\n",
        "    plt.show()\n",
        "confussion(cm)"
      ],
      "metadata": {
        "colab": {
          "base_uri": "https://localhost:8080/",
          "height": 483
        },
        "id": "WwHlGHFnpBLH",
        "outputId": "be31f979-86c7-4076-c0e9-9b25edb824e6"
      },
      "execution_count": 1354,
      "outputs": [
        {
          "output_type": "display_data",
          "data": {
            "image/png": "[encoded data removed]",
            "text/plain": [
              "<Figure size 576x576 with 1 Axes>"
            ]
          },
          "metadata": {
            "needs_background": "light"
          }
        }
      ]
    },
    {
      "cell_type": "markdown",
      "source": [
        "Otra manera de calcular una regresión logistica es con la librería **sklearn** tal como se muestra a continuación."
      ],
      "metadata": {
        "id": "lVNgnL1wB2D5"
      }
    },
    {
      "cell_type": "code",
      "source": [
        "##https://towardsdatascience.com/logistic-regression-using-python-sklearn-numpy-mnist-handwriting-recognition-matplotlib-a6b31e2b166a\n",
        "from sklearn.linear_model import LogisticRegression\n",
        "logisticRegr = LogisticRegression()\n",
        "logisticRegr.fit(X_train, y_train)\n",
        "logisticRegr.predict(X_test[0].reshape(1,-1))\n",
        "logisticRegr.predict(X_test[0:10])\n",
        "predictions = logisticRegr.predict(X_test)\n",
        "error = y_test - predictions\n",
        "# Use score method to get accuracy of model\n",
        "score = logisticRegr.score(X_test, y_test)\n",
        "parametros=logisticRegr.get_params(deep=False)\n",
        "print(score)"
      ],
      "metadata": {
        "colab": {
          "base_uri": "https://localhost:8080/"
        },
        "id": "6aZF0sMP226n",
        "outputId": "925d3637-6ecb-4ebc-8ff2-40f1d988bf2e"
      },
      "execution_count": 1355,
      "outputs": [
        {
          "output_type": "stream",
          "name": "stdout",
          "text": [
            "0.7229437229437229\n"
          ]
        }
      ]
    },
    {
      "cell_type": "markdown",
      "source": [
        "### Rgresión logística aplicada a clasificación de regiones de consumo de electricidad.\n",
        "\n"
      ],
      "metadata": {
        "id": "FOj3Dk6DbT3v"
      }
    },
    {
      "cell_type": "markdown",
      "source": [
        "#https://www-datasklr-com.translate.goog/select-classification-methods/linear-and-quadratic-discriminant-analysis?_x_tr_sl=en&_x_tr_tl=es&_x_tr_hl=en-US&_x_tr_pto=wapp"
      ],
      "metadata": {
        "id": "57jD89iuoo_J"
      }
    },
    {
      "cell_type": "code",
      "source": [
        "## Procesamos datos\n",
        "df = pd.read_csv('r_Regiones_100s_train.csv')\n",
        "df=df.assign(const=1)\n",
        "dfy = df['Clase'] \n",
        "dfx = df[['GenTer','GenHid','GenRE','GenNP','Demanda','Perdidas','PrecioMarginal']]  ## Predictors\n",
        "X = dfx.to_numpy() \n",
        "## X = sm.add_constant(X) ## para agregar una constante en uno\n",
        "y = dfy.to_numpy()"
      ],
      "metadata": {
        "id": "GIiDMhxBgdxj"
      },
      "execution_count": 1356,
      "outputs": []
    },
    {
      "cell_type": "code",
      "source": [
        "#Crea conjuntos de datos de entrenamiento y prueba\n",
        "X_train, X_test, y_train, y_test = train_test_split(X, y, test_size = 0.70, random_state = 5)"
      ],
      "metadata": {
        "id": "GjsEnsPZFwek"
      },
      "execution_count": 1357,
      "outputs": []
    },
    {
      "cell_type": "code",
      "source": [
        "fig, ax = plt.subplots()\n",
        "scatter = ax.scatter(X_train[:,0], X_train[:,5], c=y_train, s=3)\n",
        "legend1 = ax.legend(*scatter.legend_elements(),loc=\"upper left\",title=\"Classes\")\n",
        "\n",
        "ax.add_artist(legend1)\n",
        "plt.show()"
      ],
      "metadata": {
        "id": "oh4y5otKsXHp",
        "colab": {
          "base_uri": "https://localhost:8080/",
          "height": 265
        },
        "outputId": "87946ebf-f122-423c-dd9c-5089494595b3"
      },
      "execution_count": 1358,
      "outputs": [
        {
          "output_type": "display_data",
          "data": {
            "image/png": "[encoded data removed]",
            "text/plain": [
              "<Figure size 432x288 with 1 Axes>"
            ]
          },
          "metadata": {
            "needs_background": "light"
          }
        }
      ]
    },
    {
      "cell_type": "code",
      "source": [
        "LDA_model_default = LinearDiscriminantAnalysis()\n",
        "LDA_model_default.fit(X_test, y_test)\n",
        "y_pred_LDA_default = LDA_model_default.predict(X_test)\n",
        "print(y_pred_LDA_default)\n",
        "score = LDA_model_default.score(X_test, y_test)\n",
        "params = LDA_model_default.get_params(deep=False)\n",
        "print(score)"
      ],
      "metadata": {
        "colab": {
          "base_uri": "https://localhost:8080/"
        },
        "id": "JKHhUkB5y9Dw",
        "outputId": "c01bc4e1-34c8-4a79-efcc-295fecf8ee52"
      },
      "execution_count": 1359,
      "outputs": [
        {
          "output_type": "stream",
          "name": "stdout",
          "text": [
            "[44 44 29 ... 65  8 16]\n",
            "0.576048329779673\n"
          ]
        }
      ]
    },
    {
      "cell_type": "code",
      "source": [
        "QDA_model_default = QuadraticDiscriminantAnalysis()\n",
        "QDA_model_default.fit(X_test, y_test)\n",
        "y_pred_QDA_default = QDA_model_default.predict(X_test)\n",
        "print(y_pred_QDA_default)\n",
        "score = QDA_model_default.score(X_test, y_test)\n",
        "params = QDA_model_default.get_params(deep=False)\n",
        "print(score)"
      ],
      "metadata": {
        "colab": {
          "base_uri": "https://localhost:8080/"
        },
        "id": "EreXn2BfH_QD",
        "outputId": "c30c2bb1-6def-42e0-8975-ef607d9252f0"
      },
      "execution_count": 1360,
      "outputs": [
        {
          "output_type": "stream",
          "name": "stdout",
          "text": [
            "[1 1 1 ... 1 1 1]\n",
            "0.014895759298744373\n"
          ]
        }
      ]
    },
    {
      "cell_type": "markdown",
      "source": [
        "## Pruebas con datos clasificados en en clusters\n",
        "Haremos algunas pruebas con datos de ejemplo en 2D para clasificar y predecir un conjunto de datos provenientes de tres clases usando LDA Y QDA."
      ],
      "metadata": {
        "id": "dgqL1XB-HF74"
      }
    },
    {
      "cell_type": "code",
      "source": [
        "## Leemos datos \n",
        "df = pd.read_csv('clusters.csv')\n",
        "dfy = df['y'] \n",
        "dfx = df[['X1','X2']]  ## Predictors\n",
        "#dfx = dfx.assign(const=1)\n",
        "X = dfx.to_numpy() \n",
        "#X = sm.add_constant(X) ## para agregar una constante en uno\n",
        "y = dfy.to_numpy()"
      ],
      "metadata": {
        "id": "sq6xPpKgFnRk"
      },
      "execution_count": 1361,
      "outputs": []
    },
    {
      "cell_type": "code",
      "source": [
        "#Crea conjuntos de datos de entrenamiento y prueba\n",
        "X_train, X_test, y_train, y_test = train_test_split(X, y, test_size = 0.50, random_state = 5)"
      ],
      "metadata": {
        "id": "Fa7GBwl9O_dV"
      },
      "execution_count": 1362,
      "outputs": []
    },
    {
      "cell_type": "code",
      "source": [
        "#############################\n",
        "## Standardize all datasets \n",
        "#############################\n",
        "scaler = StandardScaler(copy=True, with_mean=True, with_std=True)\n",
        "scaler = StandardScaler().fit(X_train)\n",
        "\n",
        "#Standardize the training set\n",
        "\n",
        "X_train=scaler.fit(X_train)\n",
        "\n",
        "X_test=scaler.fit_transform(X_test, columns=X_test.columns)\n",
        "X_train.head()"
      ],
      "metadata": {
        "colab": {
          "base_uri": "https://localhost:8080/",
          "height": 245
        },
        "id": "RL4yJUTomd00",
        "outputId": "b4bd7c76-a949-42cc-dfc3-fc196b4f46b6"
      },
      "execution_count": 1363,
      "outputs": [
        {
          "output_type": "error",
          "ename": "AttributeError",
          "evalue": "ignored",
          "traceback": [
            "\u001b[0;31m---------------------------------------------------------------------------\u001b[0m",
            "\u001b[0;31mAttributeError\u001b[0m                            Traceback (most recent call last)",
            "\u001b[0;32m<ipython-input-1363-c0b5acd6d9c0>\u001b[0m in \u001b[0;36m<module>\u001b[0;34m()\u001b[0m\n\u001b[1;32m      6\u001b[0m \u001b[0;31m#Standardize the training set\u001b[0m\u001b[0;34m\u001b[0m\u001b[0;34m\u001b[0m\u001b[0;34m\u001b[0m\u001b[0m\n\u001b[1;32m      7\u001b[0m \u001b[0;34m\u001b[0m\u001b[0m\n\u001b[0;32m----> 8\u001b[0;31m \u001b[0mX_train\u001b[0m\u001b[0;34m=\u001b[0m\u001b[0mscaler\u001b[0m\u001b[0;34m.\u001b[0m\u001b[0mfit_transform\u001b[0m\u001b[0;34m(\u001b[0m\u001b[0mX_train\u001b[0m\u001b[0;34m,\u001b[0m \u001b[0mcolumns\u001b[0m\u001b[0;34m=\u001b[0m\u001b[0mX_train\u001b[0m\u001b[0;34m.\u001b[0m\u001b[0mcolumns\u001b[0m\u001b[0;34m)\u001b[0m\u001b[0;34m\u001b[0m\u001b[0;34m\u001b[0m\u001b[0m\n\u001b[0m\u001b[1;32m      9\u001b[0m \u001b[0;34m\u001b[0m\u001b[0m\n\u001b[1;32m     10\u001b[0m \u001b[0;34m\u001b[0m\u001b[0m\n",
            "\u001b[0;31mAttributeError\u001b[0m: 'numpy.ndarray' object has no attribute 'columns'"
          ]
        }
      ]
    },
    {
      "cell_type": "code",
      "source": [
        "fig, ax = plt.subplots()\n",
        "scatter = ax.scatter(X_train[:,0], X_train[:,1], c=y_train, s=5)\n",
        "legend1 = ax.legend(*scatter.legend_elements(),loc=\"upper left\",title=\"Classes\")\n",
        "\n",
        "ax.add_artist(legend1)\n",
        "plt.show()"
      ],
      "metadata": {
        "id": "VKkAnbQkDyan"
      },
      "execution_count": null,
      "outputs": []
    },
    {
      "cell_type": "code",
      "source": [
        "LDA_model_default = LinearDiscriminantAnalysis(solver=\"svd\", store_covariance=True)\n",
        "LDA_model_default.fit(X_test, y_test)\n",
        "y_pred_LDA_default = LDA_model_default.predict(X_test)\n",
        "score = LDA_model_default.score(X_test, y_test)\n",
        "parametros = LDA_model_default.get_params(deep=False)\n",
        "print(score)\n",
        "print(LDA_model_default)"
      ],
      "metadata": {
        "id": "jDsWyHZXF1oY"
      },
      "execution_count": null,
      "outputs": []
    },
    {
      "cell_type": "code",
      "source": [
        "QDA_model_default = QuadraticDiscriminantAnalysis()\n",
        "QDA_model_default.fit(X_test, y_test)\n",
        "y_pred_QDA_default = QDA_model_default.predict(X_test)\n",
        "y_pred_QDA_default.tofile('predictionQDA.csv',sep=',')\n",
        "score = QDA_model_default.score(X_test, y_test)\n",
        "parametros = QDA_model_default.get_params(deep=False)\n",
        "print(score)"
      ],
      "metadata": {
        "id": "bl1M3PPvH080"
      },
      "execution_count": null,
      "outputs": []
    },
    {
      "cell_type": "markdown",
      "source": [
        "**bold text**"
      ],
      "metadata": {
        "id": "EGcX8wMUZ-od"
      }
    },
    {
      "cell_type": "code",
      "source": [
        "from scipy import linalg\n",
        "import numpy as np\n",
        "import matplotlib.pyplot as plt\n",
        "import matplotlib as mpl\n",
        "from matplotlib import colors\n",
        "\n",
        "# Colormap\n",
        "cmap = colors.LinearSegmentedColormap(\n",
        "    \"red_blue_classes\",\n",
        "    {\"red\": [(0, 1, 1), (1, 0.7, 0.7)],\"green\": [(0, 0.7, 0.7), (1, 0.7, 0.7)],\"blue\": [(0, 0.7, 0.7), (1, 1, 1)],},)\n",
        "plt.cm.register_cmap(cmap=cmap)\n",
        "\n",
        "# Plot functions\n",
        "def plot_data(lda, X, y, y_pred, fig_index):\n",
        "    splot = plt.subplot(2, 2, fig_index)\n",
        "    if fig_index == 1:\n",
        "        plt.title(\"Linear Discriminant Analysis\")\n",
        "        plt.ylabel(\"Data with\\n fixed covariance\")\n",
        "    elif fig_index == 2:\n",
        "        plt.title(\"Quadratic Discriminant Analysis\")\n",
        "    elif fig_index == 3:\n",
        "        plt.ylabel(\"Data with\\n varying covariances\")\n",
        "\n",
        "    tp = y == y_pred  # True Positive\n",
        "    tp0, tp1 = tp[y == 0], tp[y == 1]\n",
        "    X0, X1 = X[y == 0], X[y == 1]\n",
        "    X0_tp, X0_fp = X0[tp0], X0[~tp0]\n",
        "    X1_tp, X1_fp = X1[tp1], X1[~tp1]\n",
        "\n",
        "    # class 0: dots\n",
        "    plt.scatter(X0_tp[:, 0], X0_tp[:, 1], marker=\".\", color=\"red\")\n",
        "    plt.scatter(X0_fp[:, 0], X0_fp[:, 1], marker=\"x\", s=20, color=\"#990000\")  # dark red\n",
        "\n",
        "    # class 1: dots\n",
        "    plt.scatter(X1_tp[:, 0], X1_tp[:, 1], marker=\".\", color=\"blue\")\n",
        "    plt.scatter(\n",
        "        X1_fp[:, 0], X1_fp[:, 1], marker=\"x\", s=20, color=\"#000099\"\n",
        "    )  # dark blue\n",
        "\n",
        "    # class 0 and 1 : areas\n",
        "    nx, ny = 200, 100\n",
        "    x_min, x_max = plt.xlim()\n",
        "    y_min, y_max = plt.ylim()\n",
        "    xx, yy = np.meshgrid(np.linspace(x_min, x_max, nx), np.linspace(y_min, y_max, ny))\n",
        "    Z = lda.predict_proba(np.c_[xx.ravel(), yy.ravel()])\n",
        "    Z = Z[:, 1].reshape(xx.shape)\n",
        "    plt.pcolormesh(\n",
        "        xx, yy, Z, cmap=\"red_blue_classes\", norm=colors.Normalize(0.0, 1.0), zorder=0\n",
        "    )\n",
        "    plt.contour(xx, yy, Z, [0.5], linewidths=2.0, colors=\"white\")\n",
        "\n",
        "    # means\n",
        "    plt.plot(\n",
        "        lda.means_[0][0],\n",
        "        lda.means_[0][1],\n",
        "        \"*\",\n",
        "        color=\"yellow\",\n",
        "        markersize=15,\n",
        "        markeredgecolor=\"grey\",\n",
        "    )\n",
        "    plt.plot(\n",
        "        lda.means_[1][0],\n",
        "        lda.means_[1][1],\n",
        "        \"*\",\n",
        "        color=\"yellow\",\n",
        "        markersize=15,\n",
        "        markeredgecolor=\"grey\",\n",
        "    )\n",
        "    return splot\n",
        "\n",
        "def plot_ellipse(splot, mean, cov, color):\n",
        "    v, w = linalg.eigh(cov)\n",
        "    u = w[0] / linalg.norm(w[0])\n",
        "    angle = np.arctan(u[1] / u[0])\n",
        "    angle = 180 * angle / np.pi  # convert to degrees\n",
        "    # filled Gaussian at 2 standard deviation\n",
        "    ell = mpl.patches.Ellipse(mean,2*v[0]**0.5,2*v[1]**0.5,180 + angle,\n",
        "                              facecolor=color,edgecolor=\"black\",linewidth=2,)\n",
        "    ell.set_clip_box(splot.bbox)\n",
        "    ell.set_alpha(0.2)\n",
        "    splot.add_artist(ell)\n",
        "    splot.set_xticks(())\n",
        "    splot.set_yticks(())\n",
        "\n",
        "def plot_lda_cov(lda, splot):\n",
        "    plot_ellipse(splot, lda.means_[0], lda.covariance_, \"red\")\n",
        "    plot_ellipse(splot, lda.means_[1], lda.covariance_, \"blue\")\n",
        "\n",
        "def plot_qda_cov(qda, splot):\n",
        "    plot_ellipse(splot, qda.means_[0], qda.covariance_[0], \"red\")\n",
        "    plot_ellipse(splot, qda.means_[1], qda.covariance_[1], \"blue\")\n",
        "\n",
        "def dataset_fixed_cov():\n",
        "    ## 2 Gaussians samples with the same covariance matrix\n",
        "    return X_train, y_train\n",
        "\n",
        "def dataset_cov():\n",
        "    ## 2 Gaussians samples with different covariance matrices\n",
        "    return X_test, y_test"
      ],
      "metadata": {
        "id": "p2nLbs_0Z_ET"
      },
      "execution_count": null,
      "outputs": []
    },
    {
      "cell_type": "code",
      "source": [
        "plt.figure(figsize=(10, 8), facecolor=\"white\")\n",
        "plt.suptitle(\n",
        "    \"Linear Discriminant Analysis vs Quadratic Discriminant Analysis\",y=0.98,fontsize=15,\n",
        "    )\n",
        "for i, (X, y) in enumerate([dataset_fixed_cov(), dataset_cov()]):\n",
        "    # Linear Discriminant Analysis\n",
        "    lda = LinearDiscriminantAnalysis(solver=\"svd\", store_covariance=True)\n",
        "    y_pred = lda.fit(X, y).predict(X)\n",
        "    splot = plot_data(lda, X, y, y_pred, fig_index=2 * i + 1)\n",
        "    plot_lda_cov(lda, splot)\n",
        "    plt.axis(\"tight\")\n",
        "\n",
        "    # Quadratic Discriminant Analysis\n",
        "    qda = QuadraticDiscriminantAnalysis(store_covariance=True)\n",
        "    y_pred = qda.fit(X, y).predict(X)\n",
        "    splot = plot_data(qda, X, y, y_pred, fig_index=2 * i + 2)\n",
        "    plot_qda_cov(qda, splot)\n",
        "    plt.axis(\"tight\")\n",
        "plt.tight_layout()\n",
        "plt.subplots_adjust(top=0.92)\n",
        "plt.show()"
      ],
      "metadata": {
        "id": "dtSoVHZTeXXf"
      },
      "execution_count": null,
      "outputs": []
    },
    {
      "cell_type": "code",
      "source": [
        ""
      ],
      "metadata": {
        "id": "YWRmFs2wdvKC"
      },
      "execution_count": null,
      "outputs": []
    },
    {
      "cell_type": "markdown",
      "source": [
        "## https://scikit-learn.org/stable/auto_examples/classification/plot_lda_qda.html\n",
        "## https://scikit-learn.org/stable/modules/lda_qda.html"
      ],
      "metadata": {
        "id": "5-ZeZMHSZ5Gu"
      }
    }
  ]
}
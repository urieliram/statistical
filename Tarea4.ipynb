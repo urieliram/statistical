{
  "nbformat": 4,
  "nbformat_minor": 0,
  "metadata": {
    "colab": {
      "name": "Tarea4.ipynb",
      "provenance": [],
      "collapsed_sections": [],
      "authorship_tag": "ABX9TyOTOcapa71sIVJcbMOp0sQU",
      "include_colab_link": true
    },
    "kernelspec": {
      "name": "python3",
      "display_name": "Python 3"
    },
    "language_info": {
      "name": "python"
    }
  },
  "cells": [
    {
      "cell_type": "markdown",
      "metadata": {
        "id": "view-in-github",
        "colab_type": "text"
      },
      "source": [
        "<a href=\"https://colab.research.google.com/github/urieliram/statistical/blob/main/Tarea4.ipynb\" target=\"_parent\"><img src=\"https://colab.research.google.com/assets/colab-badge.svg\" alt=\"Open In Colab\"/></a>"
      ]
    },
    {
      "cell_type": "markdown",
      "source": [
        "# Tarea 4\n",
        "*Pick one of the examples of the chapter that use the data of the book and replicate it in Python. Then, apply the steps in your own data.*\n",
        "\n",
        "Los datos utilizados en este cuaderno están disponibles aquí: [datasets](https://drive.google.com/drive/folders/159GnBJQDxTY9oYqPBZzdNghyb4Gd9pDS?usp=sharing) \n",
        "\n",
        "Liga de RLM en Python: [RLM](https://www.sfu.ca/~mjbrydon/tutorials/BAinPy/10_multiple_regression.html) \n"
      ],
      "metadata": {
        "id": "rNdNNQ6Bg4Bj"
      }
    },
    {
      "cell_type": "code",
      "source": [
        "import numpy as np\n",
        "import pandas as pd\n",
        "import itertools\n",
        "import warnings\n",
        "%matplotlib inline\n",
        "import matplotlib.pyplot as plt\n",
        "from sklearn.linear_model import LinearRegression, RidgeCV, LassoCV, ElasticNetCV, LarsCV\n",
        "from sklearn.metrics import mean_absolute_error, mean_squared_error\n",
        "from sklearn.cross_decomposition import PLSRegression\n",
        "from sklearn.decomposition import PCA\n",
        "from sklearn.pipeline import Pipeline\n",
        "from sklearn.metrics import r2_score\n",
        "from sklearn.model_selection import GridSearchCV\n",
        "import scipy.stats\n",
        "import statsmodels.api as sm\n",
        "import statsmodels.tools.eval_measures as bias\n",
        "import seaborn as sns\n",
        "warnings.filterwarnings(\"ignore\")"
      ],
      "metadata": {
        "id": "9Oijys50y_S7"
      },
      "execution_count": 80,
      "outputs": []
    },
    {
      "cell_type": "markdown",
      "source": [
        "## Regresión líneal con matriz indicadora en clasificación de vocales\n",
        "A continuación repetiremos el ejemplo de clasificación de vocales de la lengua inglesa del [libro](https://link.springer.com/book/10.1007/978-0-387-84858-7) en el que se aplica un modelo de regresión lineal con una matriz indicadora **(Linear Regression of an Indicator Matrix)**."
      ],
      "metadata": {
        "id": "VNF249dj3PvP"
      }
    },
    {
      "cell_type": "markdown",
      "source": [
        "Iniciamos cargando los datos de entrenamiento y almacenamos en `y_train`:"
      ],
      "metadata": {
        "id": "0hheNiw834vE"
      }
    },
    {
      "cell_type": "code",
      "source": [
        "## Procesamos datos de entrenamiento \n",
        "df = pd.read_csv('vowel_train.csv')\n",
        "dfy = df['y']  ## Outcome\n",
        "dfx = df[['x.1','x.2','x.3','x.4','x.5','x.6','x.7','x.8','x.9','x.10']]  ## Predictors\n",
        "## Procesamos datos de prueba \n",
        "df = pd.read_csv('vowel_test.csv')\n",
        "dfyt = df['y']  ## Outcome\n",
        "dfxt = df[['x.1','x.2','x.3','x.4','x.5','x.6','x.7','x.8','x.9','x.10']]  ## Predictors"
      ],
      "metadata": {
        "id": "DE3NhzSJ3PSI"
      },
      "execution_count": 81,
      "outputs": []
    },
    {
      "cell_type": "code",
      "source": [
        "X_train = dfx.to_numpy()   ## Predictors\n",
        "y_train = dfy.to_numpy()   ## Outcome\n",
        "X_test  = dfxt.to_numpy()   ## Predictors\n",
        "y_test  = dfyt.to_numpy()   ## Outcome\n",
        "##print(type(X_train))\n",
        "#y_train.tofile('sample.csv',sep=',')"
      ],
      "metadata": {
        "id": "BVyOCV1VixLw"
      },
      "execution_count": 82,
      "outputs": []
    },
    {
      "cell_type": "code",
      "source": [
        "#https://towardsdatascience.com/logistic-regression-using-python-sklearn-numpy-mnist-handwriting-recognition-matplotlib-a6b31e2b166a\n",
        "from sklearn.linear_model import LogisticRegression\n",
        "logisticRegr = LogisticRegression()\n",
        "logisticRegr.fit(X_train, y_train)\n",
        "logisticRegr.predict(X_test[0].reshape(1,-1))\n",
        "logisticRegr.predict(X_test[0:10])\n",
        "predictions = logisticRegr.predict(X_test)\n",
        "error = y_test - predictions\n",
        "# Use score method to get accuracy of model\n",
        "score = logisticRegr.score(X_test, y_test)\n",
        "print(score)\n",
        "\n",
        "print(error)"
      ],
      "metadata": {
        "colab": {
          "base_uri": "https://localhost:8080/"
        },
        "id": "6aZF0sMP226n",
        "outputId": "b50ecb37-497d-4509-a2e4-5e9ae21e3b2a"
      },
      "execution_count": 109,
      "outputs": [
        {
          "output_type": "stream",
          "name": "stdout",
          "text": [
            "0.6792452830188679\n",
            "[ 0  0  0  0 -1  0  1  0  0  0 -5 -1  0  1  0  0 -1  0  0  0  0  0  0  0\n",
            " -1  0  0  0  0  0 -9  0 -6  0 -1  2  0  0  0  5  1 -2  0  0  0  0  0 -2\n",
            "  0  0  0 -2  0  0  0  0  0  1  0 -2  0  0 -2  1  0 -1  0 -2  0  0 -1  0\n",
            "  0 -1  0  0 -1  0  2  0 -5 -1  0  0 -1  0  0  2  0  0  0 -2  0  0  0 -1\n",
            "  0  0  0  0  0  1 -1  0  0  0]\n"
          ]
        }
      ]
    },
    {
      "cell_type": "markdown",
      "source": [
        "Aplicaremos un modelo de **discriminante líneal** a los datos."
      ],
      "metadata": {
        "id": "hALyhwX0b9Ih"
      }
    },
    {
      "cell_type": "code",
      "source": [
        "y = np.array([[1,0,0,1,1],[0,1,1,0,0]])\n",
        "X = np.array([[1,1, 5], [1,6, 7], [1,8, 9], [1,5, 7], [1,7, 8]])"
      ],
      "metadata": {
        "id": "yt_6qkU9m_hS"
      },
      "execution_count": 94,
      "outputs": []
    },
    {
      "cell_type": "markdown",
      "source": [
        "Fit a linear regression model for each Yk, k =1, ... , K, using X:We fit a linear regression model to each of the columns of Y simultaneously, and the fit is given by"
      ],
      "metadata": {
        "id": "pfLFsywwgL2l"
      }
    },
    {
      "cell_type": "code",
      "source": [
        "from numpy.linalg import qr, inv\n",
        "Q, R = qr(X)\n",
        "Ri = inv(R)\n",
        "Qt = Q.T\n",
        "RiQt = np.matmul(Ri, Qt)\n",
        "w = np.matmul(RiQt, y[0])\n",
        "QQt = np.matmul(Q, Qt)\n",
        "yp = np.matmul(QQt, y[0])\n",
        "print(yp)"
      ],
      "metadata": {
        "colab": {
          "base_uri": "https://localhost:8080/"
        },
        "id": "47i1-WaIt5Xk",
        "outputId": "85ad527b-e5ab-4b38-99d1-71adf0467236"
      },
      "execution_count": 97,
      "outputs": [
        {
          "output_type": "stream",
          "name": "stdout",
          "text": [
            "[1.11764706 0.41176471 0.41176471 0.64705882 0.41176471]\n"
          ]
        }
      ]
    }
  ]
}
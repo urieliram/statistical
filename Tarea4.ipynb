{
  "nbformat": 4,
  "nbformat_minor": 0,
  "metadata": {
    "colab": {
      "name": "Tarea4.ipynb",
      "provenance": [],
      "collapsed_sections": [],
      "authorship_tag": "ABX9TyMObCG03Jg0cemHp8hYCM3W",
      "include_colab_link": true
    },
    "kernelspec": {
      "name": "python3",
      "display_name": "Python 3"
    },
    "language_info": {
      "name": "python"
    }
  },
  "cells": [
    {
      "cell_type": "markdown",
      "metadata": {
        "id": "view-in-github",
        "colab_type": "text"
      },
      "source": [
        "<a href=\"https://colab.research.google.com/github/urieliram/statistical/blob/main/Tarea4.ipynb\" target=\"_parent\"><img src=\"https://colab.research.google.com/assets/colab-badge.svg\" alt=\"Open In Colab\"/></a>"
      ]
    },
    {
      "cell_type": "markdown",
      "source": [
        "# Tarea 4\n",
        "*Pick one of the examples of the chapter that use the data of the book and replicate it in Python. Then, apply the steps in your own data.*\n",
        "\n",
        "Los datos utilizados en este cuaderno están disponibles aquí: [datasets](https://drive.google.com/drive/folders/159GnBJQDxTY9oYqPBZzdNghyb4Gd9pDS?usp=sharing) \n",
        "\n",
        "Liga de RLM en Python: [RLM](https://www.sfu.ca/~mjbrydon/tutorials/BAinPy/10_multiple_regression.html) \n"
      ],
      "metadata": {
        "id": "rNdNNQ6Bg4Bj"
      }
    },
    {
      "cell_type": "code",
      "source": [
        "import numpy as np\n",
        "import pandas as pd\n",
        "import itertools\n",
        "import warnings\n",
        "%matplotlib inline\n",
        "import matplotlib.pyplot as plt\n",
        "from sklearn.linear_model import LinearRegression, RidgeCV, LassoCV, ElasticNetCV, LarsCV\n",
        "from sklearn.metrics import mean_absolute_error, mean_squared_error\n",
        "from sklearn.cross_decomposition import PLSRegression\n",
        "from sklearn.decomposition import PCA\n",
        "from sklearn.pipeline import Pipeline\n",
        "from sklearn.metrics import r2_score\n",
        "from sklearn.model_selection import GridSearchCV\n",
        "import scipy.stats\n",
        "import statsmodels.api as sm\n",
        "import statsmodels.tools.eval_measures as bias\n",
        "import seaborn as sns\n",
        "warnings.filterwarnings(\"ignore\")"
      ],
      "metadata": {
        "id": "9Oijys50y_S7"
      },
      "execution_count": 450,
      "outputs": []
    },
    {
      "cell_type": "markdown",
      "source": [
        "## Regresión líneal con matriz indicadora en clasificación de vocales\n",
        "A continuación repetiremos el ejemplo de clasificación de vocales de la lengua inglesa del [libro](https://link.springer.com/book/10.1007/978-0-387-84858-7) en el que se aplica un modelo de regresión lineal con una matriz indicadora **(Linear Regression of an Indicator Matrix)**."
      ],
      "metadata": {
        "id": "VNF249dj3PvP"
      }
    },
    {
      "cell_type": "markdown",
      "source": [
        "Iniciamos cargando los datos de entrenamiento y almacenamos en `y_train`:"
      ],
      "metadata": {
        "id": "0hheNiw834vE"
      }
    },
    {
      "cell_type": "code",
      "source": [
        "## Procesamos datos de entrenamiento \n",
        "df = pd.read_csv('SAheart.csv')\n",
        "df=df.assign(const=1)\n",
        "print(df)\n",
        "dfy = df['chd']  ## Outcome\n",
        "dfx = df[['const','sbp','tobacco','ldl','adiposity','famhist','obesity','alcohol','age']]  ## Predictors\n",
        "\n",
        "## Procesamos datos de prueba \n",
        "dfyt = df['chd']  ## Outcome\n",
        "dfxt = df[['const','sbp','tobacco','ldl','adiposity','famhist','obesity','alcohol','age']]  ## Predictors"
      ],
      "metadata": {
        "colab": {
          "base_uri": "https://localhost:8080/"
        },
        "id": "DE3NhzSJ3PSI",
        "outputId": "b98477df-da57-4f70-b1ee-1aa3c20c4980"
      },
      "execution_count": 451,
      "outputs": [
        {
          "output_type": "stream",
          "name": "stdout",
          "text": [
            "     row.names  sbp  tobacco    ldl  ...  alcohol  age  chd  const\n",
            "0            1  160    12.00   5.73  ...    97.20   52    1      1\n",
            "1            2  144     0.01   4.41  ...     2.06   63    1      1\n",
            "2            3  118     0.08   3.48  ...     3.81   46    0      1\n",
            "3            4  170     7.50   6.41  ...    24.26   58    1      1\n",
            "4            5  134    13.60   3.50  ...    57.34   49    1      1\n",
            "..         ...  ...      ...    ...  ...      ...  ...  ...    ...\n",
            "457        459  214     0.40   5.98  ...     0.00   58    0      1\n",
            "458        460  182     4.20   4.41  ...    18.72   52    1      1\n",
            "459        461  108     3.00   1.59  ...    26.64   55    0      1\n",
            "460        462  118     5.40  11.61  ...    23.97   40    0      1\n",
            "461        463  132     0.00   4.82  ...     0.00   46    1      1\n",
            "\n",
            "[462 rows x 12 columns]\n"
          ]
        }
      ]
    },
    {
      "cell_type": "code",
      "source": [
        "X_train = dfx.to_numpy()   \n",
        "X_train = sm.add_constant(X_train)\n",
        "y_train = dfy.to_numpy()  \n",
        "X_test  = dfxt.to_numpy()   \n",
        "X_test = sm.add_constant(X_train)\n",
        "y_test  = dfyt.to_numpy()   \n",
        "X_train.tofile('sample.csv',sep=',')"
      ],
      "metadata": {
        "id": "BVyOCV1VixLw"
      },
      "execution_count": 452,
      "outputs": []
    },
    {
      "cell_type": "code",
      "source": [
        "model = sm.Logit(dfy, dfx)\n",
        "results = model.fit()\n",
        "print(results.summary())"
      ],
      "metadata": {
        "colab": {
          "base_uri": "https://localhost:8080/"
        },
        "id": "Xhj6XmIM_8Wq",
        "outputId": "438b3e5f-54fb-47fd-8a45-777d65831f73"
      },
      "execution_count": 453,
      "outputs": [
        {
          "output_type": "stream",
          "name": "stdout",
          "text": [
            "Optimization terminated successfully.\n",
            "         Current function value: 0.522778\n",
            "         Iterations 6\n",
            "                           Logit Regression Results                           \n",
            "==============================================================================\n",
            "Dep. Variable:                    chd   No. Observations:                  462\n",
            "Model:                          Logit   Df Residuals:                      453\n",
            "Method:                           MLE   Df Model:                            8\n",
            "Date:                Fri, 28 Jan 2022   Pseudo R-squ.:                  0.1897\n",
            "Time:                        06:39:07   Log-Likelihood:                -241.52\n",
            "converged:                       True   LL-Null:                       -298.05\n",
            "Covariance Type:            nonrobust   LLR p-value:                 8.931e-21\n",
            "==============================================================================\n",
            "                 coef    std err          z      P>|z|      [0.025      0.975]\n",
            "------------------------------------------------------------------------------\n",
            "const         -3.9658      1.068     -3.715      0.000      -6.058      -1.873\n",
            "sbp            0.0056      0.006      0.996      0.319      -0.005       0.017\n",
            "tobacco        0.0795      0.026      3.033      0.002       0.028       0.131\n",
            "ldl            0.1803      0.059      3.072      0.002       0.065       0.295\n",
            "adiposity      0.0101      0.028      0.357      0.721      -0.046       0.066\n",
            "famhist        0.9407      0.225      4.181      0.000       0.500       1.382\n",
            "obesity       -0.0457      0.043     -1.067      0.286      -0.130       0.038\n",
            "alcohol        0.0005      0.004      0.118      0.906      -0.008       0.009\n",
            "age            0.0404      0.012      3.437      0.001       0.017       0.063\n",
            "==============================================================================\n"
          ]
        }
      ]
    },
    {
      "cell_type": "markdown",
      "source": [
        "Según el libro se aplicó una estrategia de **stepwise** en el se encuentra un subconjunto de las variables que son suficientes para explicar el efecto conjunto de los predictores sobre la variable *chd*. El procedimiento descarta el coeficiente p menos significativo `pmenor` y el modelo se reajusta. Esto se hace repetidamente hasta que no se puedan eliminar más variables del modelo."
      ],
      "metadata": {
        "id": "_8jPgHMXD8tS"
      }
    },
    {
      "cell_type": "code",
      "source": [
        "# Se ordenan los valores p y se selecciona el más pequeño\n",
        "p_values = results.pvalues.sort_values(ascending = False)\n",
        "pmenor = p_values.head(1)\n",
        "\n",
        "print(\"menorpi.item() \", pmenor.item())\n",
        "\n",
        "while pmenor.item() > 0.01:\n",
        "    print(pmenor.index.tolist())\n",
        "    dfx = dfx.drop(pmenor.index.tolist(), axis=1)\n",
        "    model = sm.Logit(dfy, dfx)\n",
        "    results = model.fit()\n",
        "    # Se ordenan los valores p y se selecciona el más pequeño\n",
        "    p_values = results.pvalues.sort_values(ascending = False)\n",
        "    pmenor = p_values.head(1)\n",
        "\n",
        "print(results.summary())"
      ],
      "metadata": {
        "colab": {
          "base_uri": "https://localhost:8080/"
        },
        "id": "Rn0rQURKD8Ok",
        "outputId": "702a12b8-ca46-4741-9e44-b7fc6b724be0"
      },
      "execution_count": 454,
      "outputs": [
        {
          "output_type": "stream",
          "name": "stdout",
          "text": [
            "menorpi.item()  0.9062256410652616\n",
            "['alcohol']\n",
            "Optimization terminated successfully.\n",
            "         Current function value: 0.522793\n",
            "         Iterations 6\n",
            "['adiposity']\n",
            "Optimization terminated successfully.\n",
            "         Current function value: 0.522936\n",
            "         Iterations 6\n",
            "['sbp']\n",
            "Optimization terminated successfully.\n",
            "         Current function value: 0.524131\n",
            "         Iterations 6\n",
            "['obesity']\n",
            "Optimization terminated successfully.\n",
            "         Current function value: 0.525372\n",
            "         Iterations 6\n",
            "                           Logit Regression Results                           \n",
            "==============================================================================\n",
            "Dep. Variable:                    chd   No. Observations:                  462\n",
            "Model:                          Logit   Df Residuals:                      457\n",
            "Method:                           MLE   Df Model:                            4\n",
            "Date:                Fri, 28 Jan 2022   Pseudo R-squ.:                  0.1856\n",
            "Time:                        06:39:07   Log-Likelihood:                -242.72\n",
            "converged:                       True   LL-Null:                       -298.05\n",
            "Covariance Type:            nonrobust   LLR p-value:                 5.251e-23\n",
            "==============================================================================\n",
            "                 coef    std err          z      P>|z|      [0.025      0.975]\n",
            "------------------------------------------------------------------------------\n",
            "const         -4.2043      0.498     -8.436      0.000      -5.181      -3.228\n",
            "tobacco        0.0807      0.026      3.163      0.002       0.031       0.131\n",
            "ldl            0.1676      0.054      3.093      0.002       0.061       0.274\n",
            "famhist        0.9241      0.223      4.141      0.000       0.487       1.362\n",
            "age            0.0440      0.010      4.520      0.000       0.025       0.063\n",
            "==============================================================================\n"
          ]
        }
      ]
    },
    {
      "cell_type": "markdown",
      "source": [
        "Los resultados obtenidos en la tabla coinciden con los del libro."
      ],
      "metadata": {
        "id": "7T2YcxdOa2yS"
      }
    },
    {
      "cell_type": "markdown",
      "source": [
        ""
      ],
      "metadata": {
        "id": "FOj3Dk6DbT3v"
      }
    },
    {
      "cell_type": "markdown",
      "source": [
        "Otra manera de obtener una regresión logistica es con la librería **sklearn** tal como se muestra a continuación."
      ],
      "metadata": {
        "id": "lVNgnL1wB2D5"
      }
    },
    {
      "cell_type": "code",
      "source": [
        "##https://towardsdatascience.com/logistic-regression-using-python-sklearn-numpy-mnist-handwriting-recognition-matplotlib-a6b31e2b166a\n",
        "from sklearn.linear_model import LogisticRegression\n",
        "logisticRegr = LogisticRegression()\n",
        "logisticRegr.fit(X_train, y_train)\n",
        "logisticRegr.predict(X_test[0].reshape(1,-1))\n",
        "logisticRegr.predict(X_test[0:10])\n",
        "predictions = logisticRegr.predict(X_test)\n",
        "\n",
        "error = y_test - predictions\n",
        "# Use score method to get accuracy of model\n",
        "score = logisticRegr.score(X_test, y_test)\n",
        "parametros=logisticRegr.get_params(deep=False)\n",
        "print(score)"
      ],
      "metadata": {
        "colab": {
          "base_uri": "https://localhost:8080/"
        },
        "id": "6aZF0sMP226n",
        "outputId": "9c67047b-1f5a-413c-d544-b9012eea7f63"
      },
      "execution_count": 456,
      "outputs": [
        {
          "output_type": "stream",
          "name": "stdout",
          "text": [
            "0.7229437229437229\n"
          ]
        }
      ]
    }
  ]
}